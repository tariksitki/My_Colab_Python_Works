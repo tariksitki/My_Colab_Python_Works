{
  "nbformat": 4,
  "nbformat_minor": 0,
  "metadata": {
    "colab": {
      "name": "exception_handling.ipynb",
      "provenance": [],
      "collapsed_sections": [],
      "authorship_tag": "ABX9TyMxzBtXWe1h+UahV/x2sfKK",
      "include_colab_link": true
    },
    "kernelspec": {
      "name": "python3",
      "display_name": "Python 3"
    },
    "language_info": {
      "name": "python"
    }
  },
  "cells": [
    {
      "cell_type": "markdown",
      "metadata": {
        "id": "view-in-github",
        "colab_type": "text"
      },
      "source": [
        "<a href=\"https://colab.research.google.com/github/tariksitki/My_Colab_Python_Works/blob/main/exception_handling.ipynb\" target=\"_parent\"><img src=\"https://colab.research.google.com/assets/colab-badge.svg\" alt=\"Open In Colab\"/></a>"
      ]
    },
    {
      "cell_type": "code",
      "execution_count": 1,
      "metadata": {
        "id": "loKsEze-B6-y"
      },
      "outputs": [],
      "source": [
        "##################  1. Ders tekrar:"
      ]
    },
    {
      "cell_type": "code",
      "source": [
        "# Zerodivisionerror hiyerarsik olarak\n",
        "# aritmetikerror'un altindadir"
      ],
      "metadata": {
        "id": "JZ7YMCKSpmmU"
      },
      "execution_count": null,
      "outputs": []
    },
    {
      "cell_type": "code",
      "source": [
        "## normal bir while döngümüz olsun:\n",
        "\n",
        "while True:\n",
        "  no1 = int(input(\"sayi giriniz: \"))\n",
        "  no2 = int(input(\"ikinci sayiyi giriniz: \"))\n",
        "  bölüm = no1 / no2\n",
        "  print(\"Bölme islemi sonucu = \", bölüm)\n",
        "  break\n",
        "\n",
        "### eger bu loop da ikinci sayi olarak 0 girersek Zerodivision error aliriz"
      ],
      "metadata": {
        "colab": {
          "base_uri": "https://localhost:8080/"
        },
        "id": "Usf7ji8lpmpH",
        "outputId": "0a076cea-5afc-4666-ae59-b8efcfd13725"
      },
      "execution_count": 5,
      "outputs": [
        {
          "output_type": "stream",
          "name": "stdout",
          "text": [
            "sayi giriniz: 2\n",
            "ikinci sayiyi giriniz: 1\n",
            "Bölme islemi sonucu =  2.0\n"
          ]
        }
      ]
    },
    {
      "cell_type": "code",
      "source": [
        "## iste bu tarz durumlarda kodumuzun kesintisiz olarak calismaya\n",
        "# devam etmesi icin try except bloklarini kullaniriz\n",
        "\n",
        "# simdi ayni örnek üzerinden gidelim"
      ],
      "metadata": {
        "id": "HJJRa3aDpmss"
      },
      "execution_count": null,
      "outputs": []
    },
    {
      "cell_type": "code",
      "source": [
        "while True:\n",
        "  no1 = int(input(\"sayi giriniz: \"))\n",
        "  no2 = int(input(\"ikinci sayiyi giriniz: \"))\n",
        "  try:\n",
        "    bölüm = no1 / no2\n",
        "    print(\"Bölme islemi sonucu = \", bölüm)\n",
        "    break\n",
        "  except:\n",
        "    print(\"Birseyler yanlis gitti. Lütfen tekrar deneyiniz\")\n",
        "\n",
        "##  Not: except kisminda break yazmazsak kullanici hatali girmeye devam ettikce \n",
        "# program her seferinde yeni sayi isteyecektir"
      ],
      "metadata": {
        "id": "VEpA10r4pmvU"
      },
      "execution_count": 10,
      "outputs": []
    },
    {
      "cell_type": "code",
      "source": [
        "## Dikkat edersek, yukaridaki kodda, kullanicidan sayi istedigimiz\n",
        "# kisimlar try bloku icerisinde degildir.\n",
        "# Bu nedenle eger kullanici sayi yerine bir harf girerse bu durumda \n",
        "# kodumuz hata verir. simdi bu kismi da try icerisine alalim"
      ],
      "metadata": {
        "id": "OMqCN3kMriwn"
      },
      "execution_count": null,
      "outputs": []
    },
    {
      "cell_type": "code",
      "source": [
        "while True:\n",
        "  try:\n",
        "    no1 = int(input(\"sayi giriniz: \"))\n",
        "    no2 = int(input(\"ikinci sayiyi giriniz: \"))\n",
        "    bölüm = no1 / no2\n",
        "    print(\"Bölme islemi sonucu = \", bölüm)\n",
        "    break\n",
        "  except:\n",
        "    print(\"Birseyler yanlis gitti. Lütfen tekrar deneyiniz\")\n",
        "\n",
        "\n",
        "# Dikkat: kullanicidan sayiyi alir almaz integer a cevirdigimiz icin\n",
        "# kulanicidan ilk sayiyi istedigimizde, harf girerse, kodumuz ikinci\n",
        "# sayiyi istemeden hata verir"
      ],
      "metadata": {
        "colab": {
          "base_uri": "https://localhost:8080/"
        },
        "id": "id7O1zy6rizR",
        "outputId": "9754e5b1-1149-4e6e-dd91-4e5b3c2b0f8e"
      },
      "execution_count": 4,
      "outputs": [
        {
          "output_type": "stream",
          "name": "stdout",
          "text": [
            "sayi giriniz: 1\n",
            "ikinci sayiyi giriniz: 2\n",
            "Bölme islemi sonucu =  0.5\n"
          ]
        }
      ]
    },
    {
      "cell_type": "code",
      "source": [
        "# calisma prensibi su sekildedir:\n",
        "# try icerisindeki kodlar calistirilmaya baslanir.\n",
        "# bir exception görür görmez oradan cikar ve except\n",
        "# bloku calistirilir"
      ],
      "metadata": {
        "id": "kEGJxW4fri10"
      },
      "execution_count": null,
      "outputs": []
    },
    {
      "cell_type": "code",
      "source": [
        "# while döngüleri ile except lerin mantiklari birbirine cok uyar\n",
        "# bu nedenle sik sik birlikte kullanilirlar"
      ],
      "metadata": {
        "id": "5bMgM9tLtU6N"
      },
      "execution_count": null,
      "outputs": []
    },
    {
      "cell_type": "code",
      "source": [
        "# peki try ve except bloklarini neye göre hazirliyoruz.\n",
        "# kodumuzun hata vermesi miuhtemel yerlerini biz önceden\n",
        "# öngörüyoruz. ve calismasi muhtemel yerleri \n",
        "# try bloku icerisine yaziyoruz."
      ],
      "metadata": {
        "id": "GzsAAn-EtU8y"
      },
      "execution_count": null,
      "outputs": []
    },
    {
      "cell_type": "code",
      "source": [
        "## su ana kadar yaptigimiz örnekler, genel bir exception tanimlamasi idi.\n",
        "# yani hangi hata verilirse verilsin, ayni seyi yazdiriiyorduk."
      ],
      "metadata": {
        "id": "de8m3VJwtU-v"
      },
      "execution_count": null,
      "outputs": []
    },
    {
      "cell_type": "code",
      "source": [
        "# simdi ise, exception'i specify etme konusunu görecegiz.\n"
      ],
      "metadata": {
        "id": "3-1Tg5q6tVCT"
      },
      "execution_count": null,
      "outputs": []
    },
    {
      "cell_type": "code",
      "source": [
        "# ama bundan önce bir hatirlatma yapalim:\n",
        "# bizim burada isledigimiz konular exception lardir.\n",
        "# yani syntax error degildir. ikisi farkli seylerdir.\n",
        "# yani biz kodumuzun calismasi esnasinda karsilasacagimiz sorunlari\n",
        "# önlemek icin bu islemleri yapiyoruz.\n",
        "\n",
        "# eger kodumuzun herhangi bir yerine yanlis bir sey yazar ve syntax hatasi yaparsak\n",
        "# bu durumda kodumuz hic calismayacaktir.\n"
      ],
      "metadata": {
        "id": "FxXv0DnLtVEc"
      },
      "execution_count": null,
      "outputs": []
    },
    {
      "cell_type": "code",
      "source": [
        "while True:\n",
        "  try:\n",
        "    no1 = int(input(\"sayi giriniz: \"))\n",
        "    no2 = int(input(\"ikinci sayiyi giriniz: \"))\n",
        "    bölüm = no1 / no2\n",
        "    print(\"Bölme islemi sonucu = \", bölüm)\n",
        "    break\n",
        "  except ZeroDivisionError:\n",
        "    print(\"Lütfen ikinci sayi olarak 0 girmeyiniz\")     # vv"
      ],
      "metadata": {
        "colab": {
          "base_uri": "https://localhost:8080/"
        },
        "id": "8atBVi6VtVGC",
        "outputId": "37950780-77c4-4400-ec17-cdaa824adce0"
      },
      "execution_count": 6,
      "outputs": [
        {
          "output_type": "stream",
          "name": "stdout",
          "text": [
            "sayi giriniz: 1\n",
            "ikinci sayiyi giriniz: 0\n",
            "Lütfen ikinci sayi olarak 0 girmeyiniz\n",
            "sayi giriniz: 5\n",
            "ikinci sayiyi giriniz: 6\n",
            "Bölme islemi sonucu =  0.8333333333333334\n"
          ]
        }
      ]
    },
    {
      "cell_type": "code",
      "source": [
        "## specify etmenin bize sagladigi fayda sudur:\n",
        "# her bir hata icin ayri ayri except bloku yazabiliriz.\n",
        "\n",
        "# yani kullanici type error' e sebep oldugunda bununla ilgili bir mesaj\n",
        "# name error'e sebep oldugunda bununla ilgili bir mesaj verebiliriz\n",
        "\n",
        "# ama specify ettigimizde eger kullanici baska hata yaparsa ve biz\n",
        "# bu hatayi daha önceden görememis isek kodumuz calismayacaktir"
      ],
      "metadata": {
        "id": "zX2Zlx5bri4I"
      },
      "execution_count": null,
      "outputs": []
    },
    {
      "cell_type": "code",
      "source": [
        "## Filenotfounderror\n",
        "# open() func, olmayan bir dosyada hata verir\n",
        "\n",
        "try:\n",
        "  filee = open(\"test.txt\", \"r\")\n",
        "  print(filee.read())\n",
        "  filee.close()\n",
        "except:\n",
        "  print(\"birseyler yanlis gitti\")"
      ],
      "metadata": {
        "colab": {
          "base_uri": "https://localhost:8080/"
        },
        "id": "kpLPyPrrpjxd",
        "outputId": "c00c37ff-36e3-4ee7-93db-97db0fd59dd4"
      },
      "execution_count": 8,
      "outputs": [
        {
          "output_type": "stream",
          "name": "stdout",
          "text": [
            "birseyler yanlis gitti\n"
          ]
        }
      ]
    },
    {
      "cell_type": "code",
      "source": [
        "## simdi de bunu specify eedelim:\n",
        "\n",
        "try:\n",
        "  filee = open(\"test.txt\", \"r\")\n",
        "  print(filee.read())\n",
        "  filee.close()\n",
        "except FileNotFoundError:\n",
        "  print(\"Dosya bulunamadi\")"
      ],
      "metadata": {
        "colab": {
          "base_uri": "https://localhost:8080/"
        },
        "id": "5UxQM4uTzMMJ",
        "outputId": "e5f69142-a054-4334-86a8-a293cbb32905"
      },
      "execution_count": 9,
      "outputs": [
        {
          "output_type": "stream",
          "name": "stdout",
          "text": [
            "Dosya bulunamadi\n"
          ]
        }
      ]
    },
    {
      "cell_type": "code",
      "source": [
        "### Not: Burada except bloklarinda kullandigimiz print func' lar ve \n",
        "# bu func' lar icerisinde yazdirdigimiz metinler\n",
        "# tamamen birer örnekten ibarettir.\n",
        "\n",
        "# istedigimiz metini  yazdirabiliriz ve daha da önemlisi\n",
        "# except bloklerinda istedigimiz func lari loop lari kullanabiliriz.\n",
        "# burasi artik bizim hayal dünyamiza kalmistir"
      ],
      "metadata": {
        "id": "-3BV_oJtzMN_"
      },
      "execution_count": null,
      "outputs": []
    },
    {
      "cell_type": "code",
      "source": [
        ""
      ],
      "metadata": {
        "id": "W4m4GDqIzMTj"
      },
      "execution_count": null,
      "outputs": []
    },
    {
      "cell_type": "code",
      "source": [
        "###### full except bloku:"
      ],
      "metadata": {
        "id": "Ji1P_5UNzMXW"
      },
      "execution_count": null,
      "outputs": []
    },
    {
      "cell_type": "code",
      "source": [
        "try:\n",
        "except: try calismaz ise calisir\n",
        "else: try calisir ise calisir\n",
        "finally:  her halükarda calisir"
      ],
      "metadata": {
        "id": "kFJEybBCzMZK"
      },
      "execution_count": null,
      "outputs": []
    },
    {
      "cell_type": "code",
      "source": [
        "try:\n",
        "  sonuc = \"4\" + \"5\"\n",
        "  print(\"hello\")\n",
        "except TypeError:\n",
        "  print(\"Type hatasi var.\")\n",
        "else:\n",
        "  print(\"Hata yükselmedi\", sonuc)\n",
        "finally:\n",
        "  print(\"Her halükarda calisir\")  #vv"
      ],
      "metadata": {
        "colab": {
          "base_uri": "https://localhost:8080/"
        },
        "id": "4t6RP0zU3HOy",
        "outputId": "aab08217-4d80-49b4-b0bc-f230d23dbfde"
      },
      "execution_count": 10,
      "outputs": [
        {
          "output_type": "stream",
          "name": "stdout",
          "text": [
            "hello\n",
            "Hata yükselmedi 45\n",
            "Her halükarda calisir\n"
          ]
        }
      ]
    },
    {
      "cell_type": "code",
      "source": [
        "try:\n",
        "  sonuc = \"4\" + 5\n",
        "  print(\"hello\")\n",
        "except TypeError:\n",
        "  print(\"Type hatasi var.\")\n",
        "else:\n",
        "  print(\"Hata yükselmedi\", sonuc)\n",
        "finally:\n",
        "  print(\"Her halükarda calisir\")"
      ],
      "metadata": {
        "colab": {
          "base_uri": "https://localhost:8080/"
        },
        "id": "qNb5yntv3HRi",
        "outputId": "699d3fc9-d752-4ab5-ecad-4209d555bdaa"
      },
      "execution_count": 11,
      "outputs": [
        {
          "output_type": "stream",
          "name": "stdout",
          "text": [
            "Type hatasi var.\n",
            "Her halükarda calisir\n"
          ]
        }
      ]
    },
    {
      "cell_type": "code",
      "source": [
        "## Dikkat:\n",
        "# Burada output ne olur?\n",
        "# exception nerede yükseliyor ise try'i orada birakir orada keser\n",
        "\n",
        "try:\n",
        "  print(\"merhaba\")\n",
        "  sonuc = \"4\" + 5\n",
        "  print(\"hello\")\n",
        "except TypeError:\n",
        "  print(\"Type hatasi var.\")\n",
        "else:\n",
        "  print(\"Hata yükselmedi\", sonuc)\n",
        "finally:\n",
        "  print(\"Her halükarda calisir\")"
      ],
      "metadata": {
        "colab": {
          "base_uri": "https://localhost:8080/"
        },
        "id": "QaeK20sT3HU4",
        "outputId": "ce719a56-041b-4dc9-b19d-c91fcadabb54"
      },
      "execution_count": 13,
      "outputs": [
        {
          "output_type": "stream",
          "name": "stdout",
          "text": [
            "merhaba\n",
            "Type hatasi var.\n",
            "Her halükarda calisir\n"
          ]
        }
      ]
    },
    {
      "cell_type": "code",
      "source": [
        "### Dikkat:\n",
        "# eger kodumuzdaki except blokunu valueerror olarak degistirir isek\n",
        "# sonuc ne olur ?"
      ],
      "metadata": {
        "id": "unMYiCD03HX2"
      },
      "execution_count": null,
      "outputs": []
    },
    {
      "cell_type": "code",
      "source": [
        "## try da hata veren yere kadar calisir\n",
        "## finally her halükarda calisir\n",
        "\n",
        "try:\n",
        "  print(\"merhaba\")\n",
        "  sonuc = \"4\" + 5\n",
        "  print(\"hello\")\n",
        "except ValueError:\n",
        "  print(\"Type hatasi var.\")\n",
        "else:\n",
        "  print(\"Hata yükselmedi\", sonuc)\n",
        "finally:\n",
        "  print(\"Her halükarda calisir\")"
      ],
      "metadata": {
        "colab": {
          "base_uri": "https://localhost:8080/",
          "height": 276
        },
        "id": "lgSV0ek73Hbw",
        "outputId": "8d57b208-f1cc-4ec4-920a-2a7b56ebaf75"
      },
      "execution_count": 14,
      "outputs": [
        {
          "output_type": "stream",
          "name": "stdout",
          "text": [
            "merhaba\n",
            "Her halükarda calisir\n"
          ]
        },
        {
          "output_type": "error",
          "ename": "TypeError",
          "evalue": "ignored",
          "traceback": [
            "\u001b[0;31m---------------------------------------------------------------------------\u001b[0m",
            "\u001b[0;31mTypeError\u001b[0m                                 Traceback (most recent call last)",
            "\u001b[0;32m<ipython-input-14-e741e6d9514d>\u001b[0m in \u001b[0;36m<module>\u001b[0;34m()\u001b[0m\n\u001b[1;32m      1\u001b[0m \u001b[0;32mtry\u001b[0m\u001b[0;34m:\u001b[0m\u001b[0;34m\u001b[0m\u001b[0;34m\u001b[0m\u001b[0m\n\u001b[1;32m      2\u001b[0m   \u001b[0mprint\u001b[0m\u001b[0;34m(\u001b[0m\u001b[0;34m\"merhaba\"\u001b[0m\u001b[0;34m)\u001b[0m\u001b[0;34m\u001b[0m\u001b[0;34m\u001b[0m\u001b[0m\n\u001b[0;32m----> 3\u001b[0;31m   \u001b[0msonuc\u001b[0m \u001b[0;34m=\u001b[0m \u001b[0;34m\"4\"\u001b[0m \u001b[0;34m+\u001b[0m \u001b[0;36m5\u001b[0m\u001b[0;34m\u001b[0m\u001b[0;34m\u001b[0m\u001b[0m\n\u001b[0m\u001b[1;32m      4\u001b[0m   \u001b[0mprint\u001b[0m\u001b[0;34m(\u001b[0m\u001b[0;34m\"hello\"\u001b[0m\u001b[0;34m)\u001b[0m\u001b[0;34m\u001b[0m\u001b[0;34m\u001b[0m\u001b[0m\n\u001b[1;32m      5\u001b[0m \u001b[0;32mexcept\u001b[0m \u001b[0mValueError\u001b[0m\u001b[0;34m:\u001b[0m\u001b[0;34m\u001b[0m\u001b[0;34m\u001b[0m\u001b[0m\n",
            "\u001b[0;31mTypeError\u001b[0m: can only concatenate str (not \"int\") to str"
          ]
        }
      ]
    },
    {
      "cell_type": "code",
      "source": [
        "## simdi ise sadece except kullanalim\n",
        "\n",
        "try:\n",
        "  print(\"merhaba\")\n",
        "  sonuc = \"4\" + 5\n",
        "  print(\"hello\")\n",
        "except:\n",
        "  print(\"Type hatasi var.\")\n",
        "else:\n",
        "  print(\"Hata yükselmedi\", sonuc)\n",
        "finally:\n",
        "  print(\"Her halükarda calisir\")"
      ],
      "metadata": {
        "colab": {
          "base_uri": "https://localhost:8080/"
        },
        "id": "qG-u5ReR3Hea",
        "outputId": "7f6873a4-905b-4819-a789-3d1915c5c1f0"
      },
      "execution_count": 15,
      "outputs": [
        {
          "output_type": "stream",
          "name": "stdout",
          "text": [
            "merhaba\n",
            "Type hatasi var.\n",
            "Her halükarda calisir\n"
          ]
        }
      ]
    },
    {
      "cell_type": "code",
      "source": [
        "## Birden cok except bloku:\n",
        "\n",
        "try:\n",
        "  print(\"merhaba\")\n",
        "  sonuc = \"4\" + 3\n",
        "  print(\"hello\")\n",
        "except ValueError:\n",
        "  print(\"Value hatasi var.\")\n",
        "except TypeError:\n",
        "  print(\"Type hatasi var.\")\n",
        "except ZeroDivisionError:\n",
        "  print(\"Zero Division hatasi var.\")\n",
        "else:\n",
        "  print(\"Hata yükselmedi\", sonuc)\n",
        "finally:\n",
        "  print(\"Her halükarda calisir\")"
      ],
      "metadata": {
        "colab": {
          "base_uri": "https://localhost:8080/"
        },
        "id": "wIj9uKut3HhQ",
        "outputId": "a5e63bd1-4c81-4430-9b4c-a3e1569348d5"
      },
      "execution_count": 17,
      "outputs": [
        {
          "output_type": "stream",
          "name": "stdout",
          "text": [
            "merhaba\n",
            "Type hatasi var.\n",
            "Her halükarda calisir\n"
          ]
        }
      ]
    },
    {
      "cell_type": "code",
      "source": [
        "## finally her durumda calisir. peki neden kullaniyoruz.\n",
        "\n",
        "# bazen kodumuzun sonunda derleyici toparlayici \n",
        "# kodlara ihtiyac duyariz. Buna en güzel örnek\n",
        "# open ve close komutlaridir. Acilan dosyamiz her halükarda kapanmasi gerekmektedir.\n",
        "\n",
        "# yani programimkzda islemler esnasinda gereken islemleri yap\n",
        "# en sonunda da dosyayi kapat derken kullaniriz"
      ],
      "metadata": {
        "id": "V9zw5qiK3HkK"
      },
      "execution_count": null,
      "outputs": []
    },
    {
      "cell_type": "code",
      "source": [
        "## Not: try bloku actigimizda, except bloku olusturmazsak,\n",
        "# bu durumda kodumuz calismaz"
      ],
      "metadata": {
        "id": "U6FrDXIN7RQG"
      },
      "execution_count": null,
      "outputs": []
    },
    {
      "cell_type": "code",
      "source": [
        "## finally kullanimina örnek:\n",
        "\n",
        "try:\n",
        "  with open(\"bizim.txt\", \"w\") as bizim:\n",
        "    bizim.write(\"ilk satirimiz\")\n",
        "  okuma = open(\"bizim.txt\")\n",
        "  print(okuma.read())\n",
        "except:\n",
        "  print(\"Bir hata olustu\")\n",
        "finally:\n",
        "  okuma.close()           ### dosyamizi en son kapatiyoruz"
      ],
      "metadata": {
        "colab": {
          "base_uri": "https://localhost:8080/"
        },
        "id": "O2NUwSODzMbC",
        "outputId": "384474a3-5b60-47a0-ad11-4f3688e55d4d"
      },
      "execution_count": 25,
      "outputs": [
        {
          "output_type": "stream",
          "name": "stdout",
          "text": [
            "ilk satirimiz\n"
          ]
        }
      ]
    },
    {
      "cell_type": "code",
      "source": [
        "## Full except blokunun while ile kullanimi:\n"
      ],
      "metadata": {
        "id": "rWBAOhN4zMc0"
      },
      "execution_count": null,
      "outputs": []
    },
    {
      "cell_type": "code",
      "source": [
        "while True:\n",
        "  try:\n",
        "    no1 = int(input(\"sayi giriniz: \"))\n",
        "    no2 = int(input(\"ikinci sayiyi giriniz: \"))\n",
        "    bölüm = no1 / no2\n",
        "  except:\n",
        "    print(\"Birseyler yanlis gitti. Lütfen tekrar deneyiniz\")\n",
        "  else:\n",
        "    print(\"Bölme islemi sonucu = \", bölüm)\n",
        "  finally:\n",
        "    print(\"Tesekkür ederiz\")\n",
        "    break               ### en  sonunda cikis"
      ],
      "metadata": {
        "colab": {
          "base_uri": "https://localhost:8080/"
        },
        "id": "R3fDxaOr73iS",
        "outputId": "ac635945-90f4-49b6-ba22-1ad062a01f0a"
      },
      "execution_count": 27,
      "outputs": [
        {
          "output_type": "stream",
          "name": "stdout",
          "text": [
            "sayi giriniz: 4\n",
            "ikinci sayiyi giriniz: 0\n",
            "Birseyler yanlis gitti. Lütfen tekrar deneyiniz\n",
            "Tesekkür ederiz\n"
          ]
        }
      ]
    },
    {
      "cell_type": "code",
      "source": [
        ""
      ],
      "metadata": {
        "id": "GNtYaw4c73kt"
      },
      "execution_count": null,
      "outputs": []
    },
    {
      "cell_type": "code",
      "source": [
        "##########  Exception as  :"
      ],
      "metadata": {
        "id": "2dPxjqOa73m3"
      },
      "execution_count": 1,
      "outputs": []
    },
    {
      "cell_type": "code",
      "source": [
        "### eger hatayi önceden öngöremiyorsak ve bu hata üzerinde islem yapmak\n",
        "# istiyorsak o zaman Exception ve as kelimelerini kullaniriz"
      ],
      "metadata": {
        "id": "bnbwMjee73o9"
      },
      "execution_count": null,
      "outputs": []
    },
    {
      "cell_type": "code",
      "source": [
        "## Burada bir degiskene \"assosiated value\" degerini string olarak assign ederiz\n",
        "## traceback modülünün mesaji ne ise onu kullaniriz\n",
        "# yani; hangi exception ile karsilasirsa karsilassin, bunu \n",
        "# bize mesaj olarak return etsin\n",
        "\n",
        "## olusan bu degiskeni artik baska yerlerde kullanabiliriz"
      ],
      "metadata": {
        "id": "l2Mhhyfn73rF"
      },
      "execution_count": null,
      "outputs": []
    },
    {
      "cell_type": "code",
      "source": [
        "## basit syntax\n",
        "\n",
        "try:\n",
        "  4 + \"4\"\n",
        "except Exception as hata:\n",
        "  print(hata)"
      ],
      "metadata": {
        "colab": {
          "base_uri": "https://localhost:8080/"
        },
        "id": "WiXJimnuwOpl",
        "outputId": "dec8f4a2-d53f-4d80-bcab-802544db1551"
      },
      "execution_count": 8,
      "outputs": [
        {
          "output_type": "stream",
          "name": "stdout",
          "text": [
            "unsupported operand type(s) for +: 'int' and 'str'\n"
          ]
        }
      ]
    },
    {
      "cell_type": "code",
      "source": [
        "while True:\n",
        "  try:\n",
        "    no1 = int(input(\"sayi giriniz: \"))\n",
        "    no2 = int(input(\"ikinci sayiyi giriniz: \"))\n",
        "    bölüm = no1 / no2\n",
        "  except Exception as hata:\n",
        "    print(\"Birseyler yanlis gitti. Lütfen tekrar deneyiniz\")\n",
        "    print(f\"Bu durum muhtemelen {hata} den kaynaklaniyor\")\n",
        "  else:\n",
        "    print(\"Bölme islemi sonucu = \", bölüm)\n",
        "  finally:\n",
        "    print(\"Tesekkür ederiz\")\n",
        "    break "
      ],
      "metadata": {
        "colab": {
          "base_uri": "https://localhost:8080/"
        },
        "id": "m8zyK_6v73s_",
        "outputId": "78b1e27c-9dc2-404f-8582-3caafc18f332"
      },
      "execution_count": 3,
      "outputs": [
        {
          "output_type": "stream",
          "name": "stdout",
          "text": [
            "sayi giriniz: 2\n",
            "ikinci sayiyi giriniz: 0\n",
            "Birseyler yanlis gitti. Lütfen tekrar deneyiniz\n",
            "Bu durum muhtemelen division by zero den kaynaklaniyor\n",
            "Tesekkür ederiz\n"
          ]
        }
      ]
    },
    {
      "cell_type": "code",
      "source": [
        ""
      ],
      "metadata": {
        "id": "soRXcgwtvilU"
      },
      "execution_count": null,
      "outputs": []
    },
    {
      "cell_type": "code",
      "source": [
        ""
      ],
      "metadata": {
        "id": "j89aBI6Ivip1"
      },
      "execution_count": null,
      "outputs": []
    },
    {
      "cell_type": "code",
      "source": [
        ""
      ],
      "metadata": {
        "id": "McHsmxHcvitW"
      },
      "execution_count": null,
      "outputs": []
    },
    {
      "cell_type": "code",
      "source": [
        ""
      ],
      "metadata": {
        "id": "LeCOnYfavivT"
      },
      "execution_count": null,
      "outputs": []
    },
    {
      "cell_type": "code",
      "source": [
        ""
      ],
      "metadata": {
        "id": "1mAEqZqeviw9"
      },
      "execution_count": null,
      "outputs": []
    },
    {
      "cell_type": "code",
      "source": [
        ""
      ],
      "metadata": {
        "id": "vMZjoTrr73u5"
      },
      "execution_count": 7,
      "outputs": []
    },
    {
      "cell_type": "code",
      "source": [
        ""
      ],
      "metadata": {
        "id": "_Wgottg773w7"
      },
      "execution_count": null,
      "outputs": []
    },
    {
      "cell_type": "code",
      "source": [
        ""
      ],
      "metadata": {
        "id": "OyNKpZxg73yu"
      },
      "execution_count": null,
      "outputs": []
    },
    {
      "cell_type": "code",
      "source": [
        ""
      ],
      "metadata": {
        "id": "m1pV0WbQzMeq"
      },
      "execution_count": null,
      "outputs": []
    },
    {
      "cell_type": "code",
      "source": [
        ""
      ],
      "metadata": {
        "id": "waeypiuKpj1f"
      },
      "execution_count": null,
      "outputs": []
    },
    {
      "cell_type": "code",
      "source": [
        ""
      ],
      "metadata": {
        "id": "T09tt2Aspj7F"
      },
      "execution_count": null,
      "outputs": []
    },
    {
      "cell_type": "code",
      "source": [
        "while True:\n",
        "    no_one = int(input(\"The first number please : \"))\n",
        "    no_two = int(input(\"The second number please : \"))\n",
        "    try:\n",
        "        division = no_one / no_two\n",
        "        print(\"The result of the division is : \", division)\n",
        "        break\n",
        "    except Exception as e:\n",
        "        print(\"Something went wrong...Try again.\")\n",
        "        print(\"Probably it is because of '{}' error\".format(e))\n",
        "        break"
      ],
      "metadata": {
        "id": "j_oelUJrpj_Z"
      },
      "execution_count": null,
      "outputs": []
    },
    {
      "cell_type": "code",
      "source": [
        "# interpreter - satiri okur, byte code’a cevirir, calistirir, sonra diger satira gecer okur, byte code’ a cevirir calistirir. bu islemi hata bulana kadar devam ettirir.\n",
        "# kodun hata olana kadar olan kismi coktan calistirilmistir. örenek dil: python\n",
        "# bu durumda her calisitirmada kod tekrar satir satir cevrilmesi gerektigi icin, bir sonraki kodu calistiricak olan kisinin de python interpreter’e ihtiyaci vardir\n",
        "# compiler - tüm kodu byte code cevirir, bu byte code’ u farkli bir dosya icerisine kaydeder. yani bizim elimizde source code olan ve byte code yazan iki farkli dosya olur. sonrasinda biz bu olusan yeni dosyayi(byte code) calisitiririz, yani bir sonraki kullanicinin kodu calistirmak icin compiler’ a ihtiyaci yoktur, compile etmesine gerek yoktur. örnek dil: java\n",
        "# source code dosya uzantisi .java, compile edildikten sonra yeni olsturulan byte code dosyasinin uzantisi ise .class"
      ],
      "metadata": {
        "id": "jj2psCCkE2O1"
      },
      "execution_count": null,
      "outputs": []
    },
    {
      "cell_type": "code",
      "source": [
        "while True:\n",
        "\n",
        "    try:\n",
        "        no_one = int(input(\"The first number please : \"))\n",
        "        no_two = int(input(\"The second number please : \"))\n",
        "        division = no_one / no_two\n",
        "        print(\"The result of the division is : \", division)\n",
        "        break\n",
        "    except Exception as e:\n",
        "        print(\"Something went wrong...Try again.\")\n",
        "        print(\"Probably it is because of '{}' error\".format(e))\n",
        "        break"
      ],
      "metadata": {
        "colab": {
          "base_uri": "https://localhost:8080/"
        },
        "id": "6G7ou9IvE2Sm",
        "outputId": "da8b6377-ff74-4367-c826-f2ba281f82a3"
      },
      "execution_count": null,
      "outputs": [
        {
          "output_type": "stream",
          "name": "stdout",
          "text": [
            "The first number please : 5\n",
            "The second number please : 0\n",
            "Something went wrong...Try again.\n",
            "Probably it is because of 'division by zero' error\n"
          ]
        }
      ]
    },
    {
      "cell_type": "code",
      "source": [
        "try:\n",
        "  x = 2 / 0\n",
        "\n",
        "except ZeroDivisionError:\n",
        "  print(\"0 a bölme hatasi\")\n",
        "except:\n",
        "  print(\"Birsey yanlis gitti\")"
      ],
      "metadata": {
        "colab": {
          "base_uri": "https://localhost:8080/"
        },
        "id": "7PzWDX9OE2Uu",
        "outputId": "49b18de2-f4f6-4ee2-f0cf-5092d0096a8b"
      },
      "execution_count": null,
      "outputs": [
        {
          "output_type": "stream",
          "name": "stdout",
          "text": [
            "0 a bölme hatasi\n"
          ]
        }
      ]
    },
    {
      "cell_type": "code",
      "source": [
        "try:\n",
        "  4 + \"4\"\n",
        "\n",
        "except ZeroDivisionError:\n",
        "  print(\"0 a bölme hatasi\")\n",
        "except(ValueError, TypeError):\n",
        "  print(\"Birsey yanlis gitti\")"
      ],
      "metadata": {
        "colab": {
          "base_uri": "https://localhost:8080/"
        },
        "id": "R3TqhhujE2Wh",
        "outputId": "67595ca7-b70c-4c10-b114-bf4dfc19e54c"
      },
      "execution_count": null,
      "outputs": [
        {
          "output_type": "stream",
          "name": "stdout",
          "text": [
            "Birsey yanlis gitti\n"
          ]
        }
      ]
    },
    {
      "cell_type": "code",
      "source": [
        "try:\n",
        "  int(\"on\")\n",
        "\n",
        "except ZeroDivisionError:\n",
        "  print(\"0 a bölme hatasi\")\n",
        "except(ValueError, TypeError):\n",
        "  print(\"Birsey yanlis gitti\")"
      ],
      "metadata": {
        "colab": {
          "base_uri": "https://localhost:8080/"
        },
        "id": "hBYbuWb_M7h1",
        "outputId": "1386ba9b-388f-4e72-dc84-cdac4d87d785"
      },
      "execution_count": null,
      "outputs": [
        {
          "output_type": "stream",
          "name": "stdout",
          "text": [
            "Birsey yanlis gitti\n"
          ]
        }
      ]
    },
    {
      "cell_type": "code",
      "source": [
        "try:\n",
        "  4 / 0\n",
        "except ArithmeticError:\n",
        "  print(\"bu error zero yu da kapsar\")\n",
        "except ZeroDivisionError:\n",
        "  print(\"0 a bölme hatasi\")\n",
        "except(ValueError, TypeError):\n",
        "  print(\"Birsey yanlis gitti\")\n"
      ],
      "metadata": {
        "colab": {
          "base_uri": "https://localhost:8080/"
        },
        "id": "ZpTKxhgYM7ju",
        "outputId": "467a5b0c-6c27-4138-ad16-e101f90cc3d8"
      },
      "execution_count": null,
      "outputs": [
        {
          "output_type": "stream",
          "name": "stdout",
          "text": [
            "bu error zero yu da kapsar\n"
          ]
        }
      ]
    },
    {
      "cell_type": "code",
      "source": [
        "fruits = [\"banana\", \"mango\", \"pear\", \"apple\", \"kiwi\", \"grape\"]\n",
        "\n",
        "while True:\n",
        "  try:\n",
        "    girdi = int(input(\"sayi giriniz: \"))\n",
        "    print(fruits[girdi])\n",
        "    break\n",
        "  except ValueError:\n",
        "    print(\"hatali giris yaptiniz\")\n",
        "    girdi = int(input(\"sayi giriniz: \"))\n",
        "  except IndexError:\n",
        "    print(\"index error\")\n",
        "    girdi = int(input(\"sayi giriniz: \"))"
      ],
      "metadata": {
        "colab": {
          "base_uri": "https://localhost:8080/",
          "height": 748
        },
        "id": "01Zak0BYNO7g",
        "outputId": "74f9209a-54fc-488c-8f0c-7743a7b17e25"
      },
      "execution_count": null,
      "outputs": [
        {
          "output_type": "stream",
          "name": "stdout",
          "text": [
            "sayi giriniz: 9\n",
            "index error\n",
            "sayi giriniz: 9\n",
            "sayi giriniz: 8\n",
            "index error\n"
          ]
        },
        {
          "output_type": "error",
          "ename": "KeyboardInterrupt",
          "evalue": "ignored",
          "traceback": [
            "\u001b[0;31m---------------------------------------------------------------------------\u001b[0m",
            "\u001b[0;31mIndexError\u001b[0m                                Traceback (most recent call last)",
            "\u001b[0;32m<ipython-input-13-912847a901c8>\u001b[0m in \u001b[0;36m<module>\u001b[0;34m()\u001b[0m\n\u001b[1;32m      5\u001b[0m     \u001b[0mgirdi\u001b[0m \u001b[0;34m=\u001b[0m \u001b[0mint\u001b[0m\u001b[0;34m(\u001b[0m\u001b[0minput\u001b[0m\u001b[0;34m(\u001b[0m\u001b[0;34m\"sayi giriniz: \"\u001b[0m\u001b[0;34m)\u001b[0m\u001b[0;34m)\u001b[0m\u001b[0;34m\u001b[0m\u001b[0;34m\u001b[0m\u001b[0m\n\u001b[0;32m----> 6\u001b[0;31m     \u001b[0mprint\u001b[0m\u001b[0;34m(\u001b[0m\u001b[0mfruits\u001b[0m\u001b[0;34m[\u001b[0m\u001b[0mgirdi\u001b[0m\u001b[0;34m]\u001b[0m\u001b[0;34m)\u001b[0m\u001b[0;34m\u001b[0m\u001b[0;34m\u001b[0m\u001b[0m\n\u001b[0m\u001b[1;32m      7\u001b[0m     \u001b[0;32mbreak\u001b[0m\u001b[0;34m\u001b[0m\u001b[0;34m\u001b[0m\u001b[0m\n",
            "\u001b[0;31mIndexError\u001b[0m: list index out of range",
            "\nDuring handling of the above exception, another exception occurred:\n",
            "\u001b[0;31mKeyboardInterrupt\u001b[0m                         Traceback (most recent call last)",
            "\u001b[0;32m/usr/local/lib/python3.7/dist-packages/ipykernel/kernelbase.py\u001b[0m in \u001b[0;36m_input_request\u001b[0;34m(self, prompt, ident, parent, password)\u001b[0m\n\u001b[1;32m    728\u001b[0m             \u001b[0;32mtry\u001b[0m\u001b[0;34m:\u001b[0m\u001b[0;34m\u001b[0m\u001b[0;34m\u001b[0m\u001b[0m\n\u001b[0;32m--> 729\u001b[0;31m                 \u001b[0mident\u001b[0m\u001b[0;34m,\u001b[0m \u001b[0mreply\u001b[0m \u001b[0;34m=\u001b[0m \u001b[0mself\u001b[0m\u001b[0;34m.\u001b[0m\u001b[0msession\u001b[0m\u001b[0;34m.\u001b[0m\u001b[0mrecv\u001b[0m\u001b[0;34m(\u001b[0m\u001b[0mself\u001b[0m\u001b[0;34m.\u001b[0m\u001b[0mstdin_socket\u001b[0m\u001b[0;34m,\u001b[0m \u001b[0;36m0\u001b[0m\u001b[0;34m)\u001b[0m\u001b[0;34m\u001b[0m\u001b[0;34m\u001b[0m\u001b[0m\n\u001b[0m\u001b[1;32m    730\u001b[0m             \u001b[0;32mexcept\u001b[0m \u001b[0mException\u001b[0m\u001b[0;34m:\u001b[0m\u001b[0;34m\u001b[0m\u001b[0;34m\u001b[0m\u001b[0m\n",
            "\u001b[0;32m/usr/local/lib/python3.7/dist-packages/jupyter_client/session.py\u001b[0m in \u001b[0;36mrecv\u001b[0;34m(self, socket, mode, content, copy)\u001b[0m\n\u001b[1;32m    802\u001b[0m         \u001b[0;32mtry\u001b[0m\u001b[0;34m:\u001b[0m\u001b[0;34m\u001b[0m\u001b[0;34m\u001b[0m\u001b[0m\n\u001b[0;32m--> 803\u001b[0;31m             \u001b[0mmsg_list\u001b[0m \u001b[0;34m=\u001b[0m \u001b[0msocket\u001b[0m\u001b[0;34m.\u001b[0m\u001b[0mrecv_multipart\u001b[0m\u001b[0;34m(\u001b[0m\u001b[0mmode\u001b[0m\u001b[0;34m,\u001b[0m \u001b[0mcopy\u001b[0m\u001b[0;34m=\u001b[0m\u001b[0mcopy\u001b[0m\u001b[0;34m)\u001b[0m\u001b[0;34m\u001b[0m\u001b[0;34m\u001b[0m\u001b[0m\n\u001b[0m\u001b[1;32m    804\u001b[0m         \u001b[0;32mexcept\u001b[0m \u001b[0mzmq\u001b[0m\u001b[0;34m.\u001b[0m\u001b[0mZMQError\u001b[0m \u001b[0;32mas\u001b[0m \u001b[0me\u001b[0m\u001b[0;34m:\u001b[0m\u001b[0;34m\u001b[0m\u001b[0;34m\u001b[0m\u001b[0m\n",
            "\u001b[0;32m/usr/local/lib/python3.7/dist-packages/zmq/sugar/socket.py\u001b[0m in \u001b[0;36mrecv_multipart\u001b[0;34m(self, flags, copy, track)\u001b[0m\n\u001b[1;32m    624\u001b[0m         \"\"\"\n\u001b[0;32m--> 625\u001b[0;31m         \u001b[0mparts\u001b[0m \u001b[0;34m=\u001b[0m \u001b[0;34m[\u001b[0m\u001b[0mself\u001b[0m\u001b[0;34m.\u001b[0m\u001b[0mrecv\u001b[0m\u001b[0;34m(\u001b[0m\u001b[0mflags\u001b[0m\u001b[0;34m,\u001b[0m \u001b[0mcopy\u001b[0m\u001b[0;34m=\u001b[0m\u001b[0mcopy\u001b[0m\u001b[0;34m,\u001b[0m \u001b[0mtrack\u001b[0m\u001b[0;34m=\u001b[0m\u001b[0mtrack\u001b[0m\u001b[0;34m)\u001b[0m\u001b[0;34m]\u001b[0m\u001b[0;34m\u001b[0m\u001b[0;34m\u001b[0m\u001b[0m\n\u001b[0m\u001b[1;32m    626\u001b[0m         \u001b[0;31m# have first part already, only loop while more to receive\u001b[0m\u001b[0;34m\u001b[0m\u001b[0;34m\u001b[0m\u001b[0;34m\u001b[0m\u001b[0m\n",
            "\u001b[0;32mzmq/backend/cython/socket.pyx\u001b[0m in \u001b[0;36mzmq.backend.cython.socket.Socket.recv\u001b[0;34m()\u001b[0m\n",
            "\u001b[0;32mzmq/backend/cython/socket.pyx\u001b[0m in \u001b[0;36mzmq.backend.cython.socket.Socket.recv\u001b[0;34m()\u001b[0m\n",
            "\u001b[0;32mzmq/backend/cython/socket.pyx\u001b[0m in \u001b[0;36mzmq.backend.cython.socket._recv_copy\u001b[0;34m()\u001b[0m\n",
            "\u001b[0;32m/usr/local/lib/python3.7/dist-packages/zmq/backend/cython/checkrc.pxd\u001b[0m in \u001b[0;36mzmq.backend.cython.checkrc._check_rc\u001b[0;34m()\u001b[0m\n",
            "\u001b[0;31mKeyboardInterrupt\u001b[0m: ",
            "\nDuring handling of the above exception, another exception occurred:\n",
            "\u001b[0;31mKeyboardInterrupt\u001b[0m                         Traceback (most recent call last)",
            "\u001b[0;32m<ipython-input-13-912847a901c8>\u001b[0m in \u001b[0;36m<module>\u001b[0;34m()\u001b[0m\n\u001b[1;32m     11\u001b[0m   \u001b[0;32mexcept\u001b[0m \u001b[0mIndexError\u001b[0m\u001b[0;34m:\u001b[0m\u001b[0;34m\u001b[0m\u001b[0;34m\u001b[0m\u001b[0m\n\u001b[1;32m     12\u001b[0m     \u001b[0mprint\u001b[0m\u001b[0;34m(\u001b[0m\u001b[0;34m\"index error\"\u001b[0m\u001b[0;34m)\u001b[0m\u001b[0;34m\u001b[0m\u001b[0;34m\u001b[0m\u001b[0m\n\u001b[0;32m---> 13\u001b[0;31m     \u001b[0mgirdi\u001b[0m \u001b[0;34m=\u001b[0m \u001b[0mint\u001b[0m\u001b[0;34m(\u001b[0m\u001b[0minput\u001b[0m\u001b[0;34m(\u001b[0m\u001b[0;34m\"sayi giriniz: \"\u001b[0m\u001b[0;34m)\u001b[0m\u001b[0;34m)\u001b[0m\u001b[0;34m\u001b[0m\u001b[0;34m\u001b[0m\u001b[0m\n\u001b[0m",
            "\u001b[0;32m/usr/local/lib/python3.7/dist-packages/ipykernel/kernelbase.py\u001b[0m in \u001b[0;36mraw_input\u001b[0;34m(self, prompt)\u001b[0m\n\u001b[1;32m    702\u001b[0m             \u001b[0mself\u001b[0m\u001b[0;34m.\u001b[0m\u001b[0m_parent_ident\u001b[0m\u001b[0;34m,\u001b[0m\u001b[0;34m\u001b[0m\u001b[0;34m\u001b[0m\u001b[0m\n\u001b[1;32m    703\u001b[0m             \u001b[0mself\u001b[0m\u001b[0;34m.\u001b[0m\u001b[0m_parent_header\u001b[0m\u001b[0;34m,\u001b[0m\u001b[0;34m\u001b[0m\u001b[0;34m\u001b[0m\u001b[0m\n\u001b[0;32m--> 704\u001b[0;31m             \u001b[0mpassword\u001b[0m\u001b[0;34m=\u001b[0m\u001b[0;32mFalse\u001b[0m\u001b[0;34m,\u001b[0m\u001b[0;34m\u001b[0m\u001b[0;34m\u001b[0m\u001b[0m\n\u001b[0m\u001b[1;32m    705\u001b[0m         )\n\u001b[1;32m    706\u001b[0m \u001b[0;34m\u001b[0m\u001b[0m\n",
            "\u001b[0;32m/usr/local/lib/python3.7/dist-packages/ipykernel/kernelbase.py\u001b[0m in \u001b[0;36m_input_request\u001b[0;34m(self, prompt, ident, parent, password)\u001b[0m\n\u001b[1;32m    732\u001b[0m             \u001b[0;32mexcept\u001b[0m \u001b[0mKeyboardInterrupt\u001b[0m\u001b[0;34m:\u001b[0m\u001b[0;34m\u001b[0m\u001b[0;34m\u001b[0m\u001b[0m\n\u001b[1;32m    733\u001b[0m                 \u001b[0;31m# re-raise KeyboardInterrupt, to truncate traceback\u001b[0m\u001b[0;34m\u001b[0m\u001b[0;34m\u001b[0m\u001b[0;34m\u001b[0m\u001b[0m\n\u001b[0;32m--> 734\u001b[0;31m                 \u001b[0;32mraise\u001b[0m \u001b[0mKeyboardInterrupt\u001b[0m\u001b[0;34m\u001b[0m\u001b[0;34m\u001b[0m\u001b[0m\n\u001b[0m\u001b[1;32m    735\u001b[0m             \u001b[0;32melse\u001b[0m\u001b[0;34m:\u001b[0m\u001b[0;34m\u001b[0m\u001b[0;34m\u001b[0m\u001b[0m\n\u001b[1;32m    736\u001b[0m                 \u001b[0;32mbreak\u001b[0m\u001b[0;34m\u001b[0m\u001b[0;34m\u001b[0m\u001b[0m\n",
            "\u001b[0;31mKeyboardInterrupt\u001b[0m: "
          ]
        }
      ]
    },
    {
      "cell_type": "code",
      "source": [
        "fruits = [\"banana\", \"mango\", \"pear\", \"apple\", \"kiwi\", \"grape\"]\n",
        "\n",
        "\n",
        "while True:\n",
        "  try:\n",
        "    index = int(input(\"sayi giriniz\"))\n",
        "    print(\"favorit fruit \", fruits[index])\n",
        "    break\n",
        "  except IndexError:\n",
        "    print(\"index error\")\n",
        "    \n",
        "  except ValueError:\n",
        "    print(\"Valur error\")\n",
        "                                ## dikkat exceptlerde bir daha input almiyoruz\n",
        "                                # buna ragmen döngü devam ediyor\n",
        "                                # cünkü break yapmasi icin dogru girmek gerekir"
      ],
      "metadata": {
        "colab": {
          "base_uri": "https://localhost:8080/"
        },
        "id": "j2rhs_WkNO9s",
        "outputId": "f7412723-c441-48a8-9809-b2e4a7759d07"
      },
      "execution_count": null,
      "outputs": [
        {
          "output_type": "stream",
          "name": "stdout",
          "text": [
            "sayi giriniz9\n",
            "index error\n",
            "sayi giriniz8\n",
            "index error\n",
            "sayi giriniz3\n",
            "favorit fruit  apple\n"
          ]
        }
      ]
    },
    {
      "cell_type": "code",
      "source": [
        "fruits = [\"banana\", \"mango\", \"pear\", \"apple\", \"kiwi\", \"grape\"]\n",
        "counter = 0\n",
        "\n",
        "while True:\n",
        "  try:\n",
        "    print(f\"{3 - counter} hakkiniz var\")\n",
        "    index = int(input(\"sayi giriniz\"))\n",
        "    print(\"favorit fruit \", fruits[index])\n",
        "    break\n",
        "  except:\n",
        "    if counter == 0 or counter == 1:\n",
        "      print(\"Lütfen dogru giris yapiniz\")\n",
        "      counter += 1\n",
        "      print(f\"{3 - counter}hakkin var  \")\n",
        "    elif counter == 2:\n",
        "      print(\"Üzgünüz 3. kez yanlis girdiniz\")\n",
        "      break\n",
        "  else:\n",
        "    print(\"Kodumuz problemsiz calisti Tebrikler\")\n",
        "  finally:\n",
        "    print(\"Benim meyvelerim her zaman tazedir\")"
      ],
      "metadata": {
        "colab": {
          "base_uri": "https://localhost:8080/"
        },
        "id": "x82JvOGHNPBo",
        "outputId": "1d1e3d2d-e574-4532-b3f7-76505ecd7be5"
      },
      "execution_count": null,
      "outputs": [
        {
          "output_type": "stream",
          "name": "stdout",
          "text": [
            "3 hakkiniz var\n",
            "sayi giriniz8\n",
            "Lütfen dogru giris yapiniz\n",
            "2hakkin var  \n",
            "Benim meyvelerim her zaman tazedir\n",
            "2 hakkiniz var\n",
            "sayi giriniz8\n",
            "Lütfen dogru giris yapiniz\n",
            "1hakkin var  \n",
            "Benim meyvelerim her zaman tazedir\n",
            "1 hakkiniz var\n",
            "sayi giriniz9\n",
            "Üzgünüz 3. kez yanlis girdiniz\n",
            "Benim meyvelerim her zaman tazedir\n"
          ]
        }
      ]
    },
    {
      "cell_type": "code",
      "source": [
        "word = {1 : \"1\", 2 : \"2\"}\n",
        "keys = word.keys()\n",
        "print(keys)\n",
        "\n",
        "word_1 = {}\n",
        "word_1[3] = 1 # hic olmayan bir key e olmayan bir value atadik\n",
        "word_1[\"ali\"] = \"veli\"\n",
        "\n",
        "print(word_1)\n",
        "\n",
        "word_2 = word_1.copy()\n",
        "print(word_2)"
      ],
      "metadata": {
        "colab": {
          "base_uri": "https://localhost:8080/"
        },
        "id": "P1N81FF0NPDl",
        "outputId": "d2f25ccf-25a9-4649-9e4f-1a3c9fb5577d"
      },
      "execution_count": null,
      "outputs": [
        {
          "output_type": "stream",
          "name": "stdout",
          "text": [
            "dict_keys([1, 2])\n",
            "{3: 1, 'ali': 'veli'}\n",
            "{3: 1, 'ali': 'veli'}\n"
          ]
        }
      ]
    },
    {
      "cell_type": "code",
      "source": [
        "#  collections modülünün Counter fonksiyonuyla"
      ],
      "metadata": {
        "id": "1-xRMxOyNPFv"
      },
      "execution_count": null,
      "outputs": []
    },
    {
      "cell_type": "code",
      "source": [
        "word = {\"1\" : 1, 2 : \"2\"}\n",
        "keys = word.keys()\n",
        "print(word[\"1\"])\n",
        "word[\"1\"] = word[1] + 1"
      ],
      "metadata": {
        "colab": {
          "base_uri": "https://localhost:8080/",
          "height": 223
        },
        "id": "u4bRsJmdM7lj",
        "outputId": "a45e2254-9e6c-4a6b-d920-41ff676361fe"
      },
      "execution_count": null,
      "outputs": [
        {
          "output_type": "stream",
          "name": "stdout",
          "text": [
            "1\n"
          ]
        },
        {
          "output_type": "error",
          "ename": "KeyError",
          "evalue": "ignored",
          "traceback": [
            "\u001b[0;31m---------------------------------------------------------------------------\u001b[0m",
            "\u001b[0;31mKeyError\u001b[0m                                  Traceback (most recent call last)",
            "\u001b[0;32m<ipython-input-21-23486b5348a3>\u001b[0m in \u001b[0;36m<module>\u001b[0;34m()\u001b[0m\n\u001b[1;32m      2\u001b[0m \u001b[0mkeys\u001b[0m \u001b[0;34m=\u001b[0m \u001b[0mword\u001b[0m\u001b[0;34m.\u001b[0m\u001b[0mkeys\u001b[0m\u001b[0;34m(\u001b[0m\u001b[0;34m)\u001b[0m\u001b[0;34m\u001b[0m\u001b[0;34m\u001b[0m\u001b[0m\n\u001b[1;32m      3\u001b[0m \u001b[0mprint\u001b[0m\u001b[0;34m(\u001b[0m\u001b[0mword\u001b[0m\u001b[0;34m[\u001b[0m\u001b[0;34m\"1\"\u001b[0m\u001b[0;34m]\u001b[0m\u001b[0;34m)\u001b[0m\u001b[0;34m\u001b[0m\u001b[0;34m\u001b[0m\u001b[0m\n\u001b[0;32m----> 4\u001b[0;31m \u001b[0mword\u001b[0m\u001b[0;34m[\u001b[0m\u001b[0;34m\"1\"\u001b[0m\u001b[0;34m]\u001b[0m \u001b[0;34m=\u001b[0m \u001b[0mword\u001b[0m\u001b[0;34m[\u001b[0m\u001b[0;36m1\u001b[0m\u001b[0;34m]\u001b[0m \u001b[0;34m+\u001b[0m \u001b[0;36m1\u001b[0m\u001b[0;34m\u001b[0m\u001b[0;34m\u001b[0m\u001b[0m\n\u001b[0m",
            "\u001b[0;31mKeyError\u001b[0m: 1"
          ]
        }
      ]
    },
    {
      "cell_type": "code",
      "source": [
        "string = \"bugün hüzünlüyüm. Ayrilik yakin\"\n",
        "\n",
        "word_dict = {}\n",
        "\n",
        "for n in string:\n",
        "  if n in word_dict:\n",
        "    word_dict[n] = word_dict[n] + 1\n",
        "  else:\n",
        "    word_dict[n] = 1\n",
        "word_dict"
      ],
      "metadata": {
        "colab": {
          "base_uri": "https://localhost:8080/"
        },
        "id": "tZJiqTJ1b1Q0",
        "outputId": "b5455810-f6df-4e33-c099-3a8d7052ffd1"
      },
      "execution_count": null,
      "outputs": [
        {
          "output_type": "execute_result",
          "data": {
            "text/plain": [
              "{' ': 3,\n",
              " '.': 1,\n",
              " 'A': 1,\n",
              " 'a': 1,\n",
              " 'b': 1,\n",
              " 'g': 1,\n",
              " 'h': 1,\n",
              " 'i': 3,\n",
              " 'k': 2,\n",
              " 'l': 2,\n",
              " 'm': 1,\n",
              " 'n': 3,\n",
              " 'r': 1,\n",
              " 'u': 1,\n",
              " 'y': 3,\n",
              " 'z': 1,\n",
              " 'ü': 5}"
            ]
          },
          "metadata": {},
          "execution_count": 22
        }
      ]
    },
    {
      "cell_type": "code",
      "source": [
        "tipler = [\"int\", \"str\", \"bool\", \"list\", \"tuple\", \"dict\", \"set\"]\n",
        "\n",
        "veri = [\"a\", \"b\", True, (False, 1), {\"1\" : 2}, [1,2], {\"2\" : \"two\"}, {2, \"3\"}, \"c\", 23, 0]\n",
        "\n",
        "dictim = {\"bool\" : 0, \"int\" : 0, \"list\" :0, \"tuple\" : 0, \"str\" : 0}\n"
      ],
      "metadata": {
        "id": "GMm0I1q1b1Tk"
      },
      "execution_count": null,
      "outputs": []
    },
    {
      "cell_type": "code",
      "source": [
        "tipler = [\"int\", \"str\", \"bool\", \"list\", \"tuple\", \"dict\", \"set\"]\n",
        "\n",
        "{}.fromkeys(tipler, 0)"
      ],
      "metadata": {
        "colab": {
          "base_uri": "https://localhost:8080/"
        },
        "id": "_WZ3fhpFb1YY",
        "outputId": "36d1fb0a-6c77-496a-faff-532950190b9e"
      },
      "execution_count": null,
      "outputs": [
        {
          "output_type": "execute_result",
          "data": {
            "text/plain": [
              "{'bool': 0, 'dict': 0, 'int': 0, 'list': 0, 'set': 0, 'str': 0, 'tuple': 0}"
            ]
          },
          "metadata": {},
          "execution_count": 24
        }
      ]
    },
    {
      "cell_type": "code",
      "source": [
        "toplam  = {}.fromkeys(tipler, 0)\n"
      ],
      "metadata": {
        "id": "1wvPKbCLb1aa"
      },
      "execution_count": null,
      "outputs": []
    },
    {
      "cell_type": "code",
      "source": [
        "toplam  = {}.fromkeys(tipler, 0)\n",
        "veri = [\"a\", \"b\", True, (False, 1), {\"1\" : 2}, [1,2], {\"2\" : \"two\"}, {2, \"3\"}, \"c\", 23, 0]\n",
        "for i in range(len(veri)):\n",
        "  if type(veri[i]) == int : toplam[\"int\"] +=1\n",
        "  elif type(veri[i]) == str : toplam[\"str\"] +=1\n",
        "  elif type(veri[i]) == bool : toplam[\"bool\"] +=1 \n",
        "  elif type(veri[i]) == list : toplam[\"list\"] +=1 \n",
        "  elif type(veri[i]) == tuple : toplam[\"tuple\"] +=1 \n",
        "  elif type(veri[i]) == dict : toplam[\"dict\"] +=1 \n",
        "  elif type(veri[i]) == set : toplam[\"set\"] +=1 \n",
        "\n",
        "toplam"
      ],
      "metadata": {
        "colab": {
          "base_uri": "https://localhost:8080/"
        },
        "id": "P5Ulwvo2b1cq",
        "outputId": "cf93d3d1-eb88-4834-fa91-c6f24055889d"
      },
      "execution_count": null,
      "outputs": [
        {
          "output_type": "execute_result",
          "data": {
            "text/plain": [
              "{'bool': 1, 'dict': 2, 'int': 2, 'list': 1, 'set': 1, 'str': 3, 'tuple': 1}"
            ]
          },
          "metadata": {},
          "execution_count": 28
        }
      ]
    },
    {
      "cell_type": "code",
      "source": [
        "toplam  = {}.fromkeys(tipler, 0)\n",
        "veri = [\"a\", \"b\", True, (False, 1), {\"1\" : 2}, [1,2], {\"2\" : \"two\"}, {2, \"3\"}, \"c\", 23, 0]\n",
        "for i in veri:\n",
        "  if type(veri) == int : toplam[\"int\"] +=1\n",
        "  elif type(veri) == str : toplam[\"str\"] +=1\n",
        "  elif type(veri) == bool : toplam[\"bool\"] +=1 \n",
        "  elif type(veri) == list : toplam[\"list\"] +=1 \n",
        "  elif type(veri) == tuple : toplam[\"tuple\"] +=1 \n",
        "  elif type(veri) == dict : toplam[\"dict\"] +=1 \n",
        "  elif type(veri) == set : toplam[\"set\"] +=1 \n",
        "\n",
        "toplam"
      ],
      "metadata": {
        "colab": {
          "base_uri": "https://localhost:8080/"
        },
        "id": "4PyYJ0kLb1ei",
        "outputId": "4610ed94-b52f-4984-b8e5-8bfd6e4cd8fd"
      },
      "execution_count": null,
      "outputs": [
        {
          "output_type": "execute_result",
          "data": {
            "text/plain": [
              "{'bool': 0, 'dict': 0, 'int': 0, 'list': 11, 'set': 0, 'str': 0, 'tuple': 0}"
            ]
          },
          "metadata": {},
          "execution_count": 29
        }
      ]
    },
    {
      "cell_type": "code",
      "source": [
        ""
      ],
      "metadata": {
        "id": "uQ2Ku6RnM7na"
      },
      "execution_count": null,
      "outputs": []
    },
    {
      "cell_type": "code",
      "source": [
        ""
      ],
      "metadata": {
        "id": "IrmAwYBGE2Yt"
      },
      "execution_count": null,
      "outputs": []
    },
    {
      "cell_type": "code",
      "source": [
        ""
      ],
      "metadata": {
        "id": "iGUJe8zBE2ah"
      },
      "execution_count": null,
      "outputs": []
    }
  ]
}