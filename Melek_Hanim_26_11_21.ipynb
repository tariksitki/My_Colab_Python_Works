{
  "nbformat": 4,
  "nbformat_minor": 0,
  "metadata": {
    "colab": {
      "name": "Melek_Hanim_26.11.21.ipynb",
      "provenance": [],
      "collapsed_sections": [],
      "include_colab_link": true
    },
    "kernelspec": {
      "name": "python3",
      "display_name": "Python 3"
    },
    "language_info": {
      "name": "python"
    }
  },
  "cells": [
    {
      "cell_type": "markdown",
      "metadata": {
        "id": "view-in-github",
        "colab_type": "text"
      },
      "source": [
        "<a href=\"https://colab.research.google.com/github/tariksitki/My_Colab_Python_Works/blob/main/Melek_Hanim_26_11_21.ipynb\" target=\"_parent\"><img src=\"https://colab.research.google.com/assets/colab-badge.svg\" alt=\"Open In Colab\"/></a>"
      ]
    },
    {
      "cell_type": "markdown",
      "metadata": {
        "id": "UO4WBUc0Wtse"
      },
      "source": [
        "                                Exercise-1\n",
        "\n",
        "Convert a Number to Base-2\n",
        "Create a function that returns a base-2 (binary) representation of a base-10 (decimal) string number. To convert is simple: ((2) means base-2 and (10) means base-10) 010101001(2) = 1 + 8 + 32 + 128.\n",
        "\n",
        "Going from right to left, the value of the most right bit is 1, now from that every bit to the left will be x2 the value, value of an 8 bit binary numbers are (256, 128, 64, 32, 16, 8, 4, 2, 1).\n",
        "\n",
        "Examples\n",
        "\n",
        "binary(1) ➞ \"1\"\n",
        "\n",
        "// 1 * 1 = 1\n",
        "\n",
        "binary(5) ➞ \"101\"\n",
        "\n",
        "// 1 * 1 + 1 * 4 = 5\n",
        "\n",
        "binary(10) ➞ \"1010\"\n",
        "\n",
        "// 1 * 2 + 1 * 8 = 10\n",
        "\n",
        "Note (Don't use bin() function)"
      ]
    },
    {
      "cell_type": "code",
      "metadata": {
        "id": "T6rNTwZfyd6L"
      },
      "source": [
        "#  Binary numberlarin matematiksel olarak bulunmasi:\n",
        "\n",
        "# sayiyi sürekli olarak 2 ye bölüyoruz. Bu islem bölünen sifir olana kadar\n",
        "# devam ediyor.\n",
        "\n",
        "# Bu esnada yapilan islemler de sunu yapiyoruz.\n",
        "\n",
        "# mesela 17 sayisi:\n",
        "# 2 ye böldük bölüm 8 kalan \"1\" (bu biri aliyoruz)\n",
        "# 8 i 2 ye böldük kalan \"0\"\n",
        "# 4 / 2 kalan \"0\"\n",
        "# 2 / 2 kalan \"0\"\n",
        "# bölüm ise \"1\" (son islemin hem kalanini aliyoruz hem bölümünü)\n",
        "# ama bölüm en sona geliyor.  yani yukaridan asagiya \" \"  icerisinde olanlar sira ile\n",
        "# kisaca ilk islemin kalani basa, son islemin bölümü sona gelir\n",
        "\n",
        "# yani 10001 (ve bunu tersten yazdiriyoruz)\n",
        "\n",
        "#5 i yapalim:\n",
        "\n",
        "# 5 / 2 :  kalan 1 aldik\n",
        "# 2 / 2 : kalan 0\n",
        "# bölüm 1\n",
        "\n"
      ],
      "execution_count": null,
      "outputs": []
    },
    {
      "cell_type": "code",
      "metadata": {
        "colab": {
          "base_uri": "https://localhost:8080/",
          "height": 36
        },
        "id": "q3efMw4FkCvh",
        "outputId": "cab7d440-9ca4-41e3-ba7c-10524126a3f5"
      },
      "source": [
        "def binary(number):\n",
        "  bos = \"\"\n",
        "  while number != 0:\n",
        "    bos += str(number % 2)     # Not: Burada bos stringe ekleme yapan tek kod burasi\n",
        "    number = number // 2       # her seferinde sayiyi 2 ye bölüyor ve kalani\n",
        "  return bos[::-1]              # stringe ekleme yapiyor\n",
        "\n",
        "binary(17)                      # not: stringlerde ters indexleme bu sekilde"
      ],
      "execution_count": null,
      "outputs": [
        {
          "output_type": "execute_result",
          "data": {
            "application/vnd.google.colaboratory.intrinsic+json": {
              "type": "string"
            },
            "text/plain": [
              "'10001'"
            ]
          },
          "metadata": {},
          "execution_count": 4
        }
      ]
    },
    {
      "cell_type": "code",
      "metadata": {
        "id": "sMIEKt5okCy1"
      },
      "source": [
        ""
      ],
      "execution_count": null,
      "outputs": []
    },
    {
      "cell_type": "code",
      "metadata": {
        "id": "Y4d8Ghz3kC1q"
      },
      "source": [
        ""
      ],
      "execution_count": null,
      "outputs": []
    },
    {
      "cell_type": "code",
      "metadata": {
        "id": "2Ao5oWrUWpVY"
      },
      "source": [
        ""
      ],
      "execution_count": null,
      "outputs": []
    },
    {
      "cell_type": "markdown",
      "metadata": {
        "id": "0nPBCPa6WxKP"
      },
      "source": [
        "                              Exercise-2 \n",
        "Check if One Array can be Nested in Another\n",
        "\n",
        "Create a function that returns true if the first array can be nested inside the second.\n",
        "\n",
        "arr1 can be nested inside arr2 if:\n",
        "\n",
        "arr1's min is greater than arr2's min.\n",
        "\n",
        "arr1's max is less than arr2's max.\n",
        "\n",
        "Examples\n",
        "\n",
        "canNest([1, 2, 3, 4], [0, 6]) ➞ True\n",
        "\n",
        "canNest([3, 1], [4, 0]) ➞ True\n",
        "\n",
        "canNest([9, 9, 8], [8, 9]) ➞ False\n",
        "\n",
        "canNest([1, 2, 3, 4], [2, 3]) ➞ False\n",
        "\n",
        "[ ]\n"
      ]
    },
    {
      "cell_type": "code",
      "metadata": {
        "id": "vSpMNTCpW3QQ",
        "colab": {
          "base_uri": "https://localhost:8080/"
        },
        "outputId": "9b525ca0-7e7c-41b4-e371-96b41d5cdfe7"
      },
      "source": [
        "# Bu yöntemde sayilarin kücükten büyüge dogru siralandigini\n",
        "# kabul ettik. Aslinda alt hücredeki gibi min ve max kullanilmasi gerekir\n",
        "\n",
        "arr1 = [1, 2, 3, 4]\n",
        "arr2 = [0, 6]\n",
        "\n",
        "if (arr1[0] > arr2[0]) and (arr1[-1] < arr2[-1]):\n",
        "  print(True)\n",
        "\n",
        "else:\n",
        "  print(False)"
      ],
      "execution_count": null,
      "outputs": [
        {
          "output_type": "stream",
          "name": "stdout",
          "text": [
            "True\n"
          ]
        }
      ]
    },
    {
      "cell_type": "code",
      "metadata": {
        "colab": {
          "base_uri": "https://localhost:8080/"
        },
        "id": "fIt8X44eTNIG",
        "outputId": "f34d4db8-90a5-4d92-993d-ecdfdba64e1e"
      },
      "source": [
        "###  ikinci yöntem:\n",
        "\n",
        "def canNest(arry1, arry2):\n",
        "  return min(arry1) > min(arry2) and max(arry1) < max(arry2)  # Bu zaten True False döndürür\n",
        "                                                  # o nedenle tekrar if yapisi kurmadik\n",
        "canNest([1, 2, 3, 4], [2, 3])\n",
        "\n",
        "canNest([3, 4], [2, 7])"
      ],
      "execution_count": null,
      "outputs": [
        {
          "output_type": "execute_result",
          "data": {
            "text/plain": [
              "True"
            ]
          },
          "metadata": {},
          "execution_count": 67
        }
      ]
    },
    {
      "cell_type": "code",
      "metadata": {
        "id": "uP3F-NPaTNO1"
      },
      "source": [
        ""
      ],
      "execution_count": null,
      "outputs": []
    },
    {
      "cell_type": "code",
      "metadata": {
        "id": "6VUa15IUTNT4"
      },
      "source": [
        ""
      ],
      "execution_count": null,
      "outputs": []
    },
    {
      "cell_type": "code",
      "metadata": {
        "id": "N13htSUvTNXs"
      },
      "source": [
        ""
      ],
      "execution_count": null,
      "outputs": []
    },
    {
      "cell_type": "code",
      "metadata": {
        "id": "ZwmZ8z0iTNbW"
      },
      "source": [
        ""
      ],
      "execution_count": null,
      "outputs": []
    },
    {
      "cell_type": "code",
      "metadata": {
        "id": "oWbzmszCTNfE"
      },
      "source": [
        ""
      ],
      "execution_count": null,
      "outputs": []
    },
    {
      "cell_type": "markdown",
      "metadata": {
        "id": "f9mSIheVW3kw"
      },
      "source": [
        "                                    Exercise-3\n",
        "Move Capital Letters to the Front\n",
        "\n",
        "Create a function that moves all capital letters to the front of a word.\n",
        "\n",
        "Examples\n",
        "\n",
        "cap_to_front(\"hApPy\") ➞ \"APhpy\"\n",
        "\n",
        "cap_to_front(\"moveMENT\") ➞ \"MENTmove\"\n",
        "\n",
        "cap_to_front(\"shOrtCAKE\") ➞ \"OCAKEshrt\""
      ]
    },
    {
      "cell_type": "code",
      "metadata": {
        "id": "m9ehWO0HW7f7",
        "colab": {
          "base_uri": "https://localhost:8080/"
        },
        "outputId": "0caec42a-e34c-423e-c94f-f7627a1395f6"
      },
      "source": [
        "girdi = input(\"Lütfen bir kelime giriniz: \")\n",
        "bos = []\n",
        "counter = 0\n",
        "\n",
        "for i in girdi:\n",
        "  if i.isupper():\n",
        "    bos.insert(counter, i)\n",
        "    counter += 1\n",
        "  else:\n",
        "    bos.append(i)\n",
        "    \n",
        "print(\"\".join(bos))"
      ],
      "execution_count": null,
      "outputs": [
        {
          "output_type": "stream",
          "name": "stdout",
          "text": [
            "Lütfen bir kelime giriniz: TaRiK\n",
            "TRKai\n"
          ]
        }
      ]
    },
    {
      "cell_type": "code",
      "metadata": {
        "colab": {
          "base_uri": "https://localhost:8080/",
          "height": 36
        },
        "id": "Fr0r8HtwV0Hv",
        "outputId": "b23d3b73-2335-4bea-8c35-9d5eba082d21"
      },
      "source": [
        "#  Melek hanim cözüm\n",
        "\n",
        "def cap_to_front(text):\n",
        "  new_text = \"\"\n",
        "  for i in text:\n",
        "    if i.isupper():\n",
        "      new_text += i\n",
        "      text = text.replace(i, \"\")\n",
        "  return new_text + text\n",
        "\n",
        "cap_to_front(\"moveMENT\")"
      ],
      "execution_count": null,
      "outputs": [
        {
          "output_type": "execute_result",
          "data": {
            "application/vnd.google.colaboratory.intrinsic+json": {
              "type": "string"
            },
            "text/plain": [
              "'MENTmove'"
            ]
          },
          "metadata": {},
          "execution_count": 69
        }
      ]
    },
    {
      "cell_type": "code",
      "metadata": {
        "colab": {
          "base_uri": "https://localhost:8080/",
          "height": 36
        },
        "id": "eboFFHisV0Jq",
        "outputId": "74909a93-e89a-4f51-b225-dd6caec6fb9b"
      },
      "source": [
        "#  list comprehension ile cözüm\n",
        "\n",
        "text = \"moveMENT\"\n",
        "\"\".join([i for i in text if i.isupper()] + [j for j in text if j.islower()])"
      ],
      "execution_count": null,
      "outputs": [
        {
          "output_type": "execute_result",
          "data": {
            "application/vnd.google.colaboratory.intrinsic+json": {
              "type": "string"
            },
            "text/plain": [
              "'MENTmove'"
            ]
          },
          "metadata": {},
          "execution_count": 75
        }
      ]
    },
    {
      "cell_type": "code",
      "metadata": {
        "id": "a4oYgH0OV0Q3",
        "colab": {
          "base_uri": "https://localhost:8080/",
          "height": 36
        },
        "outputId": "fb20f486-f7c9-4d2a-f6e0-444603eb108a"
      },
      "source": [
        "##  Burada da Ascii kodlar kullanilarak yazildi.\n",
        "# Eger bir harfin Ascii kodu \"a\" nin Ascii kodundan kücük ise bu durumda\n",
        "# Bu harf büyük harftir diyoruz\n",
        "\n",
        "def capital(name):\n",
        "  a = \"\"\n",
        "  b = \"\"\n",
        "  for i in name:\n",
        "    if ord(i) < ord(\"a\"):\n",
        "      a += str(i)\n",
        "    else:\n",
        "      b += str(i)\n",
        "  return (a + b)\n",
        "\n",
        "capital(\"AnKaRa\")"
      ],
      "execution_count": null,
      "outputs": [
        {
          "output_type": "execute_result",
          "data": {
            "application/vnd.google.colaboratory.intrinsic+json": {
              "type": "string"
            },
            "text/plain": [
              "'AKRnaa'"
            ]
          },
          "metadata": {},
          "execution_count": 29
        }
      ]
    },
    {
      "cell_type": "code",
      "metadata": {
        "id": "g5kKOu3ItgK7"
      },
      "source": [
        ""
      ],
      "execution_count": null,
      "outputs": []
    },
    {
      "cell_type": "code",
      "metadata": {
        "id": "_k0VElLvtgP4"
      },
      "source": [
        ""
      ],
      "execution_count": null,
      "outputs": []
    },
    {
      "cell_type": "code",
      "metadata": {
        "id": "QDJ5h1YZtgS5"
      },
      "source": [
        ""
      ],
      "execution_count": null,
      "outputs": []
    },
    {
      "cell_type": "code",
      "metadata": {
        "id": "mnj98qWXtgVq"
      },
      "source": [
        ""
      ],
      "execution_count": null,
      "outputs": []
    },
    {
      "cell_type": "code",
      "metadata": {
        "id": "bJ3LX4x2tgYl"
      },
      "source": [
        ""
      ],
      "execution_count": null,
      "outputs": []
    },
    {
      "cell_type": "markdown",
      "metadata": {
        "id": "VIH8NS-1W7wl"
      },
      "source": [
        "                                  Exercise-4\n",
        "The Reverser!\n",
        "\n",
        "The \"Reverser\" takes a string as input and returns that string in reverse order, with the opposite case.\n",
        "\n",
        "Examples\n",
        "\n",
        "reverse(\"Hello World\") ➞ \"DLROw OLLEh\"\n",
        "\n",
        "reverse(\"ReVeRsE\") ➞ \"eSrEvEr\"\n",
        "\n",
        "reverse(\"Radar\") ➞ \"RADAr\"\n",
        "\n",
        "Notes\n",
        "\n",
        "There will be no punctuation in any of the test cases."
      ]
    },
    {
      "cell_type": "code",
      "metadata": {
        "id": "Iuvqb85DXAbe",
        "colab": {
          "base_uri": "https://localhost:8080/"
        },
        "outputId": "c2feb31f-8763-46aa-bc0c-beee58a4f874"
      },
      "source": [
        "def rev(string):\n",
        "  bos = []\n",
        "  for i in string:\n",
        "    if i.islower():\n",
        "      i = i.upper()\n",
        "      bos.append(i)\n",
        "    elif i.upper():\n",
        "      i = i.lower()\n",
        "      bos.append(i)\n",
        "  return \"\".join(bos[::-1])\n",
        "\n",
        "print(rev(\"Hello World\"))\n",
        "print(rev(\"ReVeRsE\"))\n",
        "print(rev(\"Radar\"))"
      ],
      "execution_count": null,
      "outputs": [
        {
          "output_type": "stream",
          "name": "stdout",
          "text": [
            "DLROw OLLEh\n",
            "eSrEvEr\n",
            "RADAr\n"
          ]
        }
      ]
    },
    {
      "cell_type": "code",
      "metadata": {
        "colab": {
          "base_uri": "https://localhost:8080/",
          "height": 36
        },
        "id": "8Re-tSz6X5E5",
        "outputId": "6c710116-6243-446b-ad7c-45eef4d07501"
      },
      "source": [
        "## Burada Melek Hoca for döngüsü baslamadan önce text i ters cevirmis\n",
        "# Asagida en son cevirdik\n",
        "\n",
        "def reverse(text):\n",
        "  return \"\".join([i.upper() if i.islower() else i.lower() for i in text[::-1]])\n",
        "reverse(\"Hello World\")"
      ],
      "execution_count": null,
      "outputs": [
        {
          "output_type": "execute_result",
          "data": {
            "application/vnd.google.colaboratory.intrinsic+json": {
              "type": "string"
            },
            "text/plain": [
              "'DLROw OLLEh'"
            ]
          },
          "metadata": {},
          "execution_count": 36
        }
      ]
    },
    {
      "cell_type": "code",
      "metadata": {
        "colab": {
          "base_uri": "https://localhost:8080/",
          "height": 36
        },
        "id": "4js9PiI70R4g",
        "outputId": "bd3d4309-4c05-4e26-bcb6-ab52bcc6d1f8"
      },
      "source": [
        "text = \"Hello World\"\n",
        "\n",
        "\"\".join([i.lower() if i.isupper() else i.upper() for i in text][::-1])"
      ],
      "execution_count": null,
      "outputs": [
        {
          "output_type": "execute_result",
          "data": {
            "application/vnd.google.colaboratory.intrinsic+json": {
              "type": "string"
            },
            "text/plain": [
              "'DLROw OLLEh'"
            ]
          },
          "metadata": {},
          "execution_count": 35
        }
      ]
    },
    {
      "cell_type": "code",
      "metadata": {
        "colab": {
          "base_uri": "https://localhost:8080/",
          "height": 36
        },
        "id": "Me91PN4X0SCp",
        "outputId": "0092f999-9efe-40ba-b6d3-061ec833fdd4"
      },
      "source": [
        "####  Diger ve en kolay yöntem ise swapcase() methodudur.\n",
        "# Büyügü kücük kücügü büyük yapar\n",
        "\n",
        "def ters(text):\n",
        "  text = text.swapcase()\n",
        "  return text[::-1]\n",
        "\n",
        "ters(\"Hello World\")"
      ],
      "execution_count": null,
      "outputs": [
        {
          "output_type": "execute_result",
          "data": {
            "application/vnd.google.colaboratory.intrinsic+json": {
              "type": "string"
            },
            "text/plain": [
              "'DLROw OLLEh'"
            ]
          },
          "metadata": {},
          "execution_count": 38
        }
      ]
    },
    {
      "cell_type": "code",
      "metadata": {
        "colab": {
          "base_uri": "https://localhost:8080/",
          "height": 36
        },
        "id": "EbAllzC07bSY",
        "outputId": "d20ab8f3-ba5f-47cc-ddb5-4907d05d0dbf"
      },
      "source": [
        "def reverse(text):\n",
        "  return text[::-1].swapcase()\n",
        "\n",
        "reverse(\"rAdAr\")"
      ],
      "execution_count": null,
      "outputs": [
        {
          "output_type": "execute_result",
          "data": {
            "application/vnd.google.colaboratory.intrinsic+json": {
              "type": "string"
            },
            "text/plain": [
              "'RaDaR'"
            ]
          },
          "metadata": {},
          "execution_count": 39
        }
      ]
    },
    {
      "cell_type": "markdown",
      "metadata": {
        "id": "bgeGq8lBXAxu"
      },
      "source": [
        "                                    Exercise-5\n",
        "Create a function that retrieves every number that is strictly larger than every number that follows it.\n",
        "Examples\n",
        "\n",
        "[3, 13, 11, 2, 1, 9, 5] ➞ [13, 11, 9, 5]\n",
        "\n",
        "13 is larger than all numbers to its right, etc.\n",
        "\n",
        "[5, 5, 5, 5, 5, 5] ➞ [5]\n",
        "\n",
        "Must be strictly larger.\n",
        "\n",
        "Always include the last number.\n",
        "\n",
        "[5, 9, 8, 7] ➞ [9, 8, 7]\n",
        "\n",
        "Notes\n",
        "\n",
        "The last number in an array is trivially strictly larger than all numbers that follow it (no numbers follow it)."
      ]
    },
    {
      "cell_type": "code",
      "metadata": {
        "id": "5LYs2Ah98JBE"
      },
      "source": [
        "[3, 13, 11, 2, 1, 9, 5] \n",
        "\n",
        "def ben(liste):\n",
        "  bos = []\n",
        "  for i in liste:\n",
        "    for j in range(1, (len(liste) + 1))\n",
        "    if "
      ],
      "execution_count": null,
      "outputs": []
    },
    {
      "cell_type": "code",
      "metadata": {
        "id": "-JyyWIZ08JMe"
      },
      "source": [
        ""
      ],
      "execution_count": null,
      "outputs": []
    },
    {
      "cell_type": "code",
      "metadata": {
        "id": "7TAKTYOB8JOy"
      },
      "source": [
        ""
      ],
      "execution_count": null,
      "outputs": []
    },
    {
      "cell_type": "code",
      "metadata": {
        "id": "F0rRQcVF8JQ9"
      },
      "source": [
        ""
      ],
      "execution_count": null,
      "outputs": []
    },
    {
      "cell_type": "code",
      "metadata": {
        "id": "LEaGU0DcXBul",
        "colab": {
          "base_uri": "https://localhost:8080/",
          "height": 330
        },
        "outputId": "62e89bcf-fea5-46dd-9aee-18cfd027c534"
      },
      "source": [
        "def büyük(iterable):\n",
        "  bos = []\n",
        "  iterable = sorted(iterable, reverse = True)\n",
        "  counter = 1\n",
        "  for i in iterable:\n",
        "    \n",
        "      bos.append(i)\n",
        "    counter += 1\n",
        "  return bos\n",
        "\n",
        "büyük([7, 3, 2, 8, 6])"
      ],
      "execution_count": null,
      "outputs": [
        {
          "output_type": "error",
          "ename": "ValueError",
          "evalue": "ignored",
          "traceback": [
            "\u001b[0;31m---------------------------------------------------------------------------\u001b[0m",
            "\u001b[0;31mValueError\u001b[0m                                Traceback (most recent call last)",
            "\u001b[0;32m<ipython-input-61-ff4670eafe0b>\u001b[0m in \u001b[0;36m<module>\u001b[0;34m()\u001b[0m\n\u001b[1;32m     10\u001b[0m   \u001b[0;32mreturn\u001b[0m \u001b[0mbos\u001b[0m\u001b[0;34m\u001b[0m\u001b[0;34m\u001b[0m\u001b[0m\n\u001b[1;32m     11\u001b[0m \u001b[0;34m\u001b[0m\u001b[0m\n\u001b[0;32m---> 12\u001b[0;31m \u001b[0mbüyük\u001b[0m\u001b[0;34m(\u001b[0m\u001b[0;34m[\u001b[0m\u001b[0;36m7\u001b[0m\u001b[0;34m,\u001b[0m \u001b[0;36m3\u001b[0m\u001b[0;34m,\u001b[0m \u001b[0;36m2\u001b[0m\u001b[0;34m,\u001b[0m \u001b[0;36m8\u001b[0m\u001b[0;34m,\u001b[0m \u001b[0;36m6\u001b[0m\u001b[0;34m]\u001b[0m\u001b[0;34m)\u001b[0m\u001b[0;34m\u001b[0m\u001b[0;34m\u001b[0m\u001b[0m\n\u001b[0m",
            "\u001b[0;32m<ipython-input-61-ff4670eafe0b>\u001b[0m in \u001b[0;36mbüyük\u001b[0;34m(iterable)\u001b[0m\n\u001b[1;32m      4\u001b[0m   \u001b[0mcounter\u001b[0m \u001b[0;34m=\u001b[0m \u001b[0;36m0\u001b[0m\u001b[0;34m\u001b[0m\u001b[0;34m\u001b[0m\u001b[0m\n\u001b[1;32m      5\u001b[0m   \u001b[0;32mfor\u001b[0m \u001b[0mi\u001b[0m \u001b[0;32min\u001b[0m \u001b[0miterable\u001b[0m\u001b[0;34m:\u001b[0m\u001b[0;34m\u001b[0m\u001b[0;34m\u001b[0m\u001b[0m\n\u001b[0;32m----> 6\u001b[0;31m     \u001b[0;32mif\u001b[0m \u001b[0mi\u001b[0m \u001b[0;34m>\u001b[0m \u001b[0mmax\u001b[0m\u001b[0;34m(\u001b[0m\u001b[0miterable\u001b[0m\u001b[0;34m[\u001b[0m\u001b[0;34m(\u001b[0m\u001b[0mcounter\u001b[0m \u001b[0;34m+\u001b[0m\u001b[0;36m1\u001b[0m\u001b[0;34m)\u001b[0m\u001b[0;34m:\u001b[0m\u001b[0;34m]\u001b[0m\u001b[0;34m)\u001b[0m\u001b[0;34m:\u001b[0m\u001b[0;34m\u001b[0m\u001b[0;34m\u001b[0m\u001b[0m\n\u001b[0m\u001b[1;32m      7\u001b[0m       \u001b[0mbos\u001b[0m\u001b[0;34m.\u001b[0m\u001b[0mappend\u001b[0m\u001b[0;34m(\u001b[0m\u001b[0mi\u001b[0m\u001b[0;34m)\u001b[0m\u001b[0;34m\u001b[0m\u001b[0;34m\u001b[0m\u001b[0m\n\u001b[1;32m      8\u001b[0m \u001b[0;34m\u001b[0m\u001b[0m\n",
            "\u001b[0;31mValueError\u001b[0m: max() arg is an empty sequence"
          ]
        }
      ]
    },
    {
      "cell_type": "code",
      "metadata": {
        "colab": {
          "base_uri": "https://localhost:8080/"
        },
        "id": "WkTU-mBOnxQ5",
        "outputId": "93e3721e-226b-40ae-8eb5-e9852290e4ae"
      },
      "source": [
        "arry = [3, 13, 11, 2, 1, 9, 5]\n",
        "n_arry = []\n",
        "for i in range(0, len(arry) - 1):\n",
        "  if all(arry[i] > j for j in arry[i + 1:]) == True:\n",
        "    n_arry.append(arry[i])\n",
        "\n",
        "n_arry + [arry[-1]]"
      ],
      "execution_count": 41,
      "outputs": [
        {
          "output_type": "execute_result",
          "data": {
            "text/plain": [
              "[13, 11, 9, 5]"
            ]
          },
          "metadata": {},
          "execution_count": 41
        }
      ]
    },
    {
      "cell_type": "code",
      "metadata": {
        "id": "NcNrgVN8-V1R",
        "colab": {
          "base_uri": "https://localhost:8080/"
        },
        "outputId": "8c56dfdf-b505-4aef-b759-b870a96fac05"
      },
      "source": [
        "\n",
        "def büyük(arry):\n",
        "  bos = []\n",
        "  for i in range(0, len(arry) -1):\n",
        "    if all(arry[i] > j for j in arry[(i + 1):]):   #  == True demek zorunda degiliz\n",
        "      bos.append(arry[i])\n",
        "\n",
        "  return bos + [arry[-1]]  ## iki listeyi toplamak icin ikisinin de tipi list olmasi lazim\n",
        "büyük([3, 13, 11, 2, 1, 9, 5])          # o nedenle [] icine aldik"
      ],
      "execution_count": 44,
      "outputs": [
        {
          "output_type": "execute_result",
          "data": {
            "text/plain": [
              "[13, 11, 9, 5]"
            ]
          },
          "metadata": {},
          "execution_count": 44
        }
      ]
    },
    {
      "cell_type": "code",
      "metadata": {
        "id": "iR-_AyFx-V5t"
      },
      "source": [
        ""
      ],
      "execution_count": null,
      "outputs": []
    },
    {
      "cell_type": "code",
      "metadata": {
        "id": "yfgLxwuv-V9s",
        "colab": {
          "base_uri": "https://localhost:8080/"
        },
        "outputId": "8616caa0-e6bb-4d82-fe58-260e3acb46ab"
      },
      "source": [
        "def büyük(arry):\n",
        "  bos = []\n",
        "  for i in range(0, (len(arry) - 1)): \n",
        "    if all(arry[i] > j for j in arry[(i + 1):]):\n",
        "      bos.append(arry[i])               ## Dikkat: Burada ilk for döngüsü normalde liste icinde \n",
        "                                        # calismaz, range ile ayri calisir. Peki biz bunu liste \n",
        "  return bos + [arry[-1]]               # icerisindeki elemanlar üzerinde nasil gezdiriyoruz\n",
        "                                        # bu durumda. Iste burasi cok önemli\n",
        "büyük([3, 13, 11, 2, 1, 9, 5])          # if yapisi icinde arry[i]  diyerek her bir döngüde\n",
        "                                        # i range icinde 1 artacagi icin dolayisi ile\n",
        "                                        # i de bizim listemiz icinde dönmüs olacaktir.  "
      ],
      "execution_count": 52,
      "outputs": [
        {
          "output_type": "execute_result",
          "data": {
            "text/plain": [
              "[13, 11, 9, 5]"
            ]
          },
          "metadata": {},
          "execution_count": 52
        }
      ]
    },
    {
      "cell_type": "code",
      "metadata": {
        "id": "dX645urcnxVB"
      },
      "source": [
        ""
      ],
      "execution_count": 61,
      "outputs": []
    },
    {
      "cell_type": "code",
      "metadata": {
        "id": "XSBTVq-tEIzq"
      },
      "source": [
        ""
      ],
      "execution_count": null,
      "outputs": []
    },
    {
      "cell_type": "code",
      "metadata": {
        "id": "ohIVNXUOEI10"
      },
      "source": [
        ""
      ],
      "execution_count": null,
      "outputs": []
    },
    {
      "cell_type": "code",
      "metadata": {
        "id": "57hZtwC4EI3t"
      },
      "source": [
        ""
      ],
      "execution_count": null,
      "outputs": []
    },
    {
      "cell_type": "code",
      "metadata": {
        "id": "P3JnFgxrEI53"
      },
      "source": [
        ""
      ],
      "execution_count": null,
      "outputs": []
    },
    {
      "cell_type": "markdown",
      "metadata": {
        "id": "ydJC7lTMXCH1"
      },
      "source": [
        "                                    Exercise - 6\n",
        "C * ns * r * d Str * ngs\n",
        "\n",
        "Someone has attempted to censor my strings by replacing every vowel with a *, l*k* th*s. Luckily, I've been able to find the vowels that were removed.\n",
        "\n",
        "Given a censored string and a string of the censored vowels, return the original uncensored string.\n",
        "\n",
        "Example\n",
        "\n",
        "uncensor(\"Wh * r * d * d my v * w * ls g * ?\", \"eeioeo\") ➞ \"Where did my vowels go?\"\n",
        "\n",
        "uncensor(\"abcd\", \"\") ➞ \"abcd\"\n",
        "\n",
        "uncensor(\"* PP * RC * S * \", \"UEAE\") ➞ \"UPPERCASE\"\n",
        "\n",
        "Notes\n",
        "\n",
        "The vowels are given in the correct order.\n",
        "\n",
        "The number of vowels will match the number of * characters in the censored string."
      ]
    },
    {
      "cell_type": "code",
      "metadata": {
        "colab": {
          "base_uri": "https://localhost:8080/",
          "height": 36
        },
        "id": "CqxbSjB3GKM5",
        "outputId": "003b0a97-bf95-47e3-eb17-52684e80ffd5"
      },
      "source": [
        "def uncensor(string, vowel):   # not: stringler immutable dir. o nedenle islemleri\n",
        "  counter = 0                  # ayri bir bos string üzerinde toplamamiz gerekir\n",
        "  bos = \"\"\n",
        "  for i in string:\n",
        "    if i == \"*\":\n",
        "      bos += vowel[counter]\n",
        "      counter += 1\n",
        "    else:\n",
        "      bos += i\n",
        "  return bos\n",
        "uncensor(\"Wh*r* d*d my v*w*ls g* ?\", \"eeioeo\")"
      ],
      "execution_count": 68,
      "outputs": [
        {
          "output_type": "execute_result",
          "data": {
            "application/vnd.google.colaboratory.intrinsic+json": {
              "type": "string"
            },
            "text/plain": [
              "'Where did my vowels go ?'"
            ]
          },
          "metadata": {},
          "execution_count": 68
        }
      ]
    },
    {
      "cell_type": "code",
      "metadata": {
        "id": "MoUpvXSEXFmL",
        "colab": {
          "base_uri": "https://localhost:8080/",
          "height": 36
        },
        "outputId": "c9fc8542-2280-41e0-da4c-d5b690a8e6db"
      },
      "source": [
        "## Melek hoca cözüm\n",
        "\n",
        "def uncensor(string, vowel):\n",
        "  indeks = 0\n",
        "  n_str = \"\"\n",
        "  for i in string:\n",
        "    if i == \"*\":\n",
        "      n_str += vowel[indeks]\n",
        "      indeks += 1\n",
        "    else:\n",
        "      n_str += i\n",
        "  return n_str\n",
        "\n",
        "uncensor(\"Wh * r * d * d my v * w * ls g * ?\", \"eeioeo\")"
      ],
      "execution_count": null,
      "outputs": [
        {
          "output_type": "execute_result",
          "data": {
            "application/vnd.google.colaboratory.intrinsic+json": {
              "type": "string"
            },
            "text/plain": [
              "'Wh e r e d i d my v o w e ls g o ?'"
            ]
          },
          "metadata": {},
          "execution_count": 89
        }
      ]
    },
    {
      "cell_type": "markdown",
      "metadata": {
        "id": "5HeJI99aXF2r"
      },
      "source": [
        "                                    Exercise -7\n",
        "                                    \n",
        "There is a string, s , of lowercase English letters that is repeated infinitely many times. Given an integer, n , find and print the number of letter a's in the first n letters of the infinite string.\n",
        "\n",
        "Example\n",
        "s = \"abcac\"\n",
        "\n",
        "n = 10\n",
        "\n",
        "The substring we consider is \"abcacabcac\", the first 10 characters of the infinite string. There are 4  occurrences of a in the substring."
      ]
    },
    {
      "cell_type": "code",
      "metadata": {
        "colab": {
          "base_uri": "https://localhost:8080/"
        },
        "id": "E261rAQOJ2-M",
        "outputId": "a1f34e0b-2eee-4ec8-c213-79f269df9c5c"
      },
      "source": [
        "## Bu soruda yaptigimiz islem sudur: \n",
        "\n",
        "# verilen harfleri; verilen sayinin harflerin uzunluguna bölümünün tam\n",
        "# bölümü ile carpiyoruz. Daha sonra eger verilen sayinin, harflerin uzunluguna\n",
        "# bölümünden kalan varsa bu kadar sayida da harf ekliyoruz. mesela iki kalan var ise\n",
        "# bu durumda ilk bastan baslayarak ilk 2 harf alip en sona ekliyoruz.\n",
        "\n",
        "def tekrar(text, sayi):\n",
        "  return (text * (sayi // len(text)) + text[0 : (sayi % len(text))]).count(\"a\")\n",
        "\n",
        "tekrar(\"abcac\", 10)"
      ],
      "execution_count": 77,
      "outputs": [
        {
          "output_type": "execute_result",
          "data": {
            "text/plain": [
              "4"
            ]
          },
          "metadata": {},
          "execution_count": 77
        }
      ]
    },
    {
      "cell_type": "code",
      "metadata": {
        "id": "S29uu4O7J3K4"
      },
      "source": [
        "def repeatedstring(s, n):\n",
        "  return (s * (n // len(s)) + s[0:n % len(s)]).count(\"a\")\n",
        "\n",
        "repeatedstring(\"abcac\", 12)"
      ],
      "execution_count": null,
      "outputs": []
    },
    {
      "cell_type": "code",
      "metadata": {
        "id": "_m9ftXEgJ3Nt"
      },
      "source": [
        ""
      ],
      "execution_count": null,
      "outputs": []
    },
    {
      "cell_type": "code",
      "metadata": {
        "id": "IexGfcLeJ3Qk"
      },
      "source": [
        ""
      ],
      "execution_count": null,
      "outputs": []
    },
    {
      "cell_type": "code",
      "metadata": {
        "id": "-layjpRHCbDQ"
      },
      "source": [
        ""
      ],
      "execution_count": 77,
      "outputs": []
    },
    {
      "cell_type": "code",
      "metadata": {
        "id": "M7_acFlkXPLe",
        "colab": {
          "base_uri": "https://localhost:8080/"
        },
        "outputId": "a73fd655-39f4-45cc-9dce-826d4757f1d8"
      },
      "source": [
        "n = 12\n",
        "s = \"abcac\"\n",
        "\n",
        "(s * (n // len(s)) + s[0:n % len(s)]).count(\"a\")"
      ],
      "execution_count": null,
      "outputs": [
        {
          "output_type": "execute_result",
          "data": {
            "text/plain": [
              "5"
            ]
          },
          "metadata": {},
          "execution_count": 91
        }
      ]
    },
    {
      "cell_type": "code",
      "metadata": {
        "id": "i_RtT-26Ejg4",
        "colab": {
          "base_uri": "https://localhost:8080/"
        },
        "outputId": "5c577ef9-1706-49d9-9eba-56a054b3dd78"
      },
      "source": [
        "def a_counter(text, n):\n",
        "    x = n // len(text) + 1\n",
        "    return (x*text)[:n].count(\"a\")\n",
        "a_counter(\"abcac\", 10)"
      ],
      "execution_count": 70,
      "outputs": [
        {
          "output_type": "execute_result",
          "data": {
            "text/plain": [
              "4"
            ]
          },
          "metadata": {},
          "execution_count": 70
        }
      ]
    },
    {
      "cell_type": "code",
      "metadata": {
        "id": "TGk3psN-EjjN"
      },
      "source": [
        ""
      ],
      "execution_count": null,
      "outputs": []
    },
    {
      "cell_type": "code",
      "metadata": {
        "id": "aptx74BvEjll"
      },
      "source": [
        ""
      ],
      "execution_count": null,
      "outputs": []
    },
    {
      "cell_type": "markdown",
      "metadata": {
        "id": "G6s3c68YXPdV"
      },
      "source": [
        "                                Exercise -8\n",
        "Nearest Vowel\n",
        "\n",
        "Given a letter, created a function which returns the nearest vowel to the letter. If two vowels are equidistant to the given letter, return the earlier vowel.\n",
        "\n",
        "Examples\n",
        "\n",
        "nearestVowel(\"b\") ➞ \"a\"\n",
        "\n",
        "nearestVowel(\"s\") ➞ \"u\"\n",
        "\n",
        "nearestVowel(\"c\") ➞ \"a\"\n",
        "\n",
        "nearestVowel(\"i\") ➞ \"i\"\n",
        "\n",
        "Notes\n",
        "\n",
        "All letters will be given in lowercase.\n",
        "\n",
        "There will be no alphabet wrapping involved, meaning the closest vowel to \"z\" should return \"u\", not \"a\"."
      ]
    },
    {
      "cell_type": "code",
      "metadata": {
        "colab": {
          "base_uri": "https://localhost:8080/",
          "height": 36
        },
        "id": "lXV1YLIUFFZM",
        "outputId": "effb897c-e0a0-4551-a1c5-1a83295fc062"
      },
      "source": [
        "def nearestVovel(string):\n",
        "  vowel = \"aeiou\"\n",
        "  order = [abs(ord(i) - ord(string)) for i in vowel]\n",
        "  return vowel[order.index(min(order))]\n",
        "\n",
        "nearestVovel(\"w\")\n",
        "nearestVovel(\"k\")\n"
      ],
      "execution_count": null,
      "outputs": [
        {
          "output_type": "execute_result",
          "data": {
            "application/vnd.google.colaboratory.intrinsic+json": {
              "type": "string"
            },
            "text/plain": [
              "'i'"
            ]
          },
          "metadata": {},
          "execution_count": 102
        }
      ]
    },
    {
      "cell_type": "code",
      "metadata": {
        "colab": {
          "base_uri": "https://localhost:8080/",
          "height": 71
        },
        "id": "VDjck2utFFiO",
        "outputId": "e0d83161-b2d7-4f70-9b65-3ee797d87f4f"
      },
      "source": [
        "string = \"g\"\n",
        "vowel = \"aeiou\"\n",
        "order = [abs(ord(i) - ord(string)) for i in vowel]\n",
        "print(order)\n",
        "print(min(order))\n",
        "\n",
        "order.index(min(order))\n",
        "\n",
        "vowel[order.index(min(order))]"
      ],
      "execution_count": null,
      "outputs": [
        {
          "output_type": "stream",
          "name": "stdout",
          "text": [
            "[6, 2, 2, 8, 14]\n",
            "2\n"
          ]
        },
        {
          "output_type": "execute_result",
          "data": {
            "application/vnd.google.colaboratory.intrinsic+json": {
              "type": "string"
            },
            "text/plain": [
              "'e'"
            ]
          },
          "metadata": {},
          "execution_count": 100
        }
      ]
    },
    {
      "cell_type": "code",
      "metadata": {
        "id": "HHhwy_b0FFk4"
      },
      "source": [
        "def near(letter):\n",
        "    return sorted(\"aeiou\", key=lambda x: abs(ord(letter) - ord(x)))[0]\n",
        "near(\"z\")"
      ],
      "execution_count": null,
      "outputs": []
    },
    {
      "cell_type": "code",
      "metadata": {
        "id": "yfNWpXjuFFm0"
      },
      "source": [
        ""
      ],
      "execution_count": null,
      "outputs": []
    },
    {
      "cell_type": "code",
      "metadata": {
        "id": "2VvWX5QNFFo6"
      },
      "source": [
        ""
      ],
      "execution_count": null,
      "outputs": []
    }
  ]
}