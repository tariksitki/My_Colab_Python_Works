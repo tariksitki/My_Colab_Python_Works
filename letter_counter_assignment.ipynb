{
  "nbformat": 4,
  "nbformat_minor": 0,
  "metadata": {
    "colab": {
      "name": "letter_counter_assignment.ipynb",
      "provenance": [],
      "collapsed_sections": [],
      "authorship_tag": "ABX9TyP3Q6j2llmhL71hPnKeYPIq",
      "include_colab_link": true
    },
    "kernelspec": {
      "name": "python3",
      "display_name": "Python 3"
    },
    "language_info": {
      "name": "python"
    }
  },
  "cells": [
    {
      "cell_type": "markdown",
      "metadata": {
        "id": "view-in-github",
        "colab_type": "text"
      },
      "source": [
        "<a href=\"https://colab.research.google.com/github/tariksitki/My_Colab_Python_Works/blob/main/letter_counter_assignment.ipynb\" target=\"_parent\"><img src=\"https://colab.research.google.com/assets/colab-badge.svg\" alt=\"Open In Colab\"/></a>"
      ]
    },
    {
      "cell_type": "code",
      "execution_count": null,
      "metadata": {
        "id": "o2pi3gMR-ZMq"
      },
      "outputs": [],
      "source": [
        "# Kullanicidan bir cümle aliniz ve \n",
        "# bu cümlenin harflerini bir dict'in key ve value lari seklinde\n",
        "# sayalim"
      ]
    },
    {
      "cell_type": "code",
      "source": [
        "empty = {}\n",
        "inputt = input(\"Please enter a sentence: \")\n",
        "for i in inputt:\n",
        "  if i in empty.keys():                       ## eger harf dict icinde yoksa tanimliyoruz\n",
        "    empty[i] += 1                              # ancak daha önceden var ise 1 artir\n",
        "  else:\n",
        "    empty[i] = 1\n",
        "print(empty)  "
      ],
      "metadata": {
        "colab": {
          "base_uri": "https://localhost:8080/"
        },
        "id": "o7cGEn1O-tpB",
        "outputId": "bc93de22-71de-4f7c-83ee-45a3acdf928d"
      },
      "execution_count": null,
      "outputs": [
        {
          "output_type": "stream",
          "name": "stdout",
          "text": [
            "Please enter a sentence: ben seni seviyorum\n",
            "{'b': 1, 'e': 3, 'n': 2, ' ': 2, 's': 2, 'i': 2, 'v': 1, 'y': 1, 'o': 1, 'r': 1, 'u': 1, 'm': 1}\n"
          ]
        }
      ]
    },
    {
      "cell_type": "code",
      "source": [
        "## task:\n",
        "\n",
        "## Elimizde cesitli veri tiplerinden olusan bir liste var.\n",
        "# Bos bir dict yapacagit ve liste icerisinde bulunan \n",
        "# veri tiplerinin sayisini saydiracagiz:\n",
        "\n",
        "veri = [\"a\", \"b\", True, (False, 1), {\"1\": 2}, [1, 2], {\"2\" : \"2\"}, {2, 3, 4}, \"c\", 23, 0]\n",
        "\n",
        "tipler = [\"int\", \"str\", \"bool\", \"list\", \"tuple\", \"dict\", \"set\"]\n",
        "\n",
        "## dict'lere ait bir method fromkeys\n",
        "# herhangi bir iterable'in elemanlarini alir ve\n",
        "# bunlari dict yapar\n",
        "\n",
        "total = {}.fromkeys(tipler, 0)  # sol tarafa iterable, sag tarafa ise valuesunu alir\n"
      ],
      "metadata": {
        "colab": {
          "base_uri": "https://localhost:8080/"
        },
        "id": "g0M-51t8-trR",
        "outputId": "1d8ac41e-0138-4413-e5c9-e3bd66791b2a"
      },
      "execution_count": 15,
      "outputs": [
        {
          "output_type": "execute_result",
          "data": {
            "text/plain": [
              "{'bool': 0, 'dict': 0, 'int': 0, 'list': 0, 'set': 0, 'str': 0, 'tuple': 0}"
            ]
          },
          "metadata": {},
          "execution_count": 15
        }
      ]
    },
    {
      "cell_type": "code",
      "source": [
        "## veri tipini su sekilde kullanabiliriz\n",
        "\n",
        "type(veri[5]) == list\n",
        "\n",
        "# yani verinin tipini func ismine esitledik"
      ],
      "metadata": {
        "id": "87ukTDYF-fYF",
        "colab": {
          "base_uri": "https://localhost:8080/"
        },
        "outputId": "4ad50e19-3565-49aa-9c22-c7e74ce39514"
      },
      "execution_count": 16,
      "outputs": [
        {
          "output_type": "execute_result",
          "data": {
            "text/plain": [
              "True"
            ]
          },
          "metadata": {},
          "execution_count": 16
        }
      ]
    },
    {
      "cell_type": "code",
      "source": [
        "type(\"tarik\") == str\n",
        "\n",
        "## Bu islemlerden sonra sorunun cözümü basitlesti"
      ],
      "metadata": {
        "id": "xxrj5OrA-fc-",
        "colab": {
          "base_uri": "https://localhost:8080/"
        },
        "outputId": "a20f41eb-a899-45bf-9b6e-b3e7daf83d92"
      },
      "execution_count": 17,
      "outputs": [
        {
          "output_type": "execute_result",
          "data": {
            "text/plain": [
              "True"
            ]
          },
          "metadata": {},
          "execution_count": 17
        }
      ]
    },
    {
      "cell_type": "code",
      "source": [
        "veri = [\"a\", \"b\", True, (False, 1), {\"1\": 2}, [1, 2], {\"2\" : \"2\"}, {2, 3, 4}, \"c\", 23, 0]\n",
        "\n",
        "tipler = [\"int\", \"str\", \"bool\", \"list\", \"tuple\", \"dict\", \"set\"]\n",
        "\n",
        "total = {}.fromkeys(tipler, 0)\n",
        "\n",
        "for i in range(len(veri)):\n",
        "  if type(veri[i]) == int : total[\"int\"] += 1\n",
        "  elif type(veri[i]) == str : total[\"str\"] += 1\n",
        "  elif type(veri[i]) == tuple : total[\"tuple\"] += 1\n",
        "  elif type(veri[i]) == list : total[\"list\"] += 1\n",
        "  elif type(veri[i]) == bool : total[\"bool\"] += 1\n",
        "  elif type(veri[i]) == set : total[\"set\"] += 1\n",
        "  elif type(veri[i]) == dict : total[\"dict\"] += 1\n",
        "\n",
        "print(total)"
      ],
      "metadata": {
        "colab": {
          "base_uri": "https://localhost:8080/"
        },
        "id": "Vol62vZqKXxM",
        "outputId": "a881c4bc-6a51-484b-d3ff-05590f4d3841"
      },
      "execution_count": 20,
      "outputs": [
        {
          "output_type": "stream",
          "name": "stdout",
          "text": [
            "{'int': 2, 'str': 3, 'bool': 1, 'list': 1, 'tuple': 1, 'dict': 2, 'set': 1}\n"
          ]
        }
      ]
    }
  ]
}