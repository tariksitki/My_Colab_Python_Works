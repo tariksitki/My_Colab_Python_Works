{
  "nbformat": 4,
  "nbformat_minor": 0,
  "metadata": {
    "colab": {
      "name": "lambda.ipynb",
      "provenance": [],
      "collapsed_sections": [],
      "authorship_tag": "ABX9TyPFiKBbrzQJsaqQEyH+VcZ2",
      "include_colab_link": true
    },
    "kernelspec": {
      "name": "python3",
      "display_name": "Python 3"
    },
    "language_info": {
      "name": "python"
    }
  },
  "cells": [
    {
      "cell_type": "markdown",
      "metadata": {
        "id": "view-in-github",
        "colab_type": "text"
      },
      "source": [
        "<a href=\"https://colab.research.google.com/github/tariksitki/My_Colab_Python_Works/blob/main/lambda.ipynb\" target=\"_parent\"><img src=\"https://colab.research.google.com/assets/colab-badge.svg\" alt=\"Open In Colab\"/></a>"
      ]
    },
    {
      "cell_type": "code",
      "metadata": {
        "colab": {
          "base_uri": "https://localhost:8080/"
        },
        "id": "UqZaSYNi4TSG",
        "outputId": "446ca18f-8387-4701-e3ad-112eb2a85f11"
      },
      "source": [
        "print((lambda x: x**2)(2))"
      ],
      "execution_count": 1,
      "outputs": [
        {
          "output_type": "stream",
          "name": "stdout",
          "text": [
            "4\n"
          ]
        }
      ]
    },
    {
      "cell_type": "code",
      "metadata": {
        "colab": {
          "base_uri": "https://localhost:8080/"
        },
        "id": "ysVl4ha_4T8E",
        "outputId": "6e3f2091-0925-4a8f-9fe3-589cc1936b1f"
      },
      "source": [
        "lambda x: \"odd\" if x % 2 != 0 else even"
      ],
      "execution_count": 2,
      "outputs": [
        {
          "output_type": "execute_result",
          "data": {
            "text/plain": [
              "<function __main__.<lambda>>"
            ]
          },
          "metadata": {},
          "execution_count": 2
        }
      ]
    },
    {
      "cell_type": "code",
      "metadata": {
        "colab": {
          "base_uri": "https://localhost:8080/",
          "height": 36
        },
        "id": "wtan2wP14T-Z",
        "outputId": "e3eeeb30-22c7-4fb2-e464-3755f14ee2ef"
      },
      "source": [
        "(lambda x: \"odd\" if x % 2 != 0 else \"even\")(2)"
      ],
      "execution_count": 4,
      "outputs": [
        {
          "output_type": "execute_result",
          "data": {
            "application/vnd.google.colaboratory.intrinsic+json": {
              "type": "string"
            },
            "text/plain": [
              "'even'"
            ]
          },
          "metadata": {},
          "execution_count": 4
        }
      ]
    },
    {
      "cell_type": "code",
      "metadata": {
        "colab": {
          "base_uri": "https://localhost:8080/",
          "height": 36
        },
        "id": "mSZh3BsF4UB3",
        "outputId": "ec72d358-9c6b-4d82-ca85-e31e85c0238e"
      },
      "source": [
        "(lambda x: \"odd\" if x % 2 != 0 else \"even\")(3)"
      ],
      "execution_count": 5,
      "outputs": [
        {
          "output_type": "execute_result",
          "data": {
            "application/vnd.google.colaboratory.intrinsic+json": {
              "type": "string"
            },
            "text/plain": [
              "'odd'"
            ]
          },
          "metadata": {},
          "execution_count": 5
        }
      ]
    },
    {
      "cell_type": "code",
      "metadata": {
        "id": "CCOpNUnz4UG8"
      },
      "source": [
        "(lambda x: list(x).reverse())(\"ali\")"
      ],
      "execution_count": 15,
      "outputs": []
    },
    {
      "cell_type": "code",
      "metadata": {
        "colab": {
          "base_uri": "https://localhost:8080/",
          "height": 169
        },
        "id": "rIOck7KA4UKF",
        "outputId": "3b2c33bf-1a69-4f02-d5b8-d48507aa1c83"
      },
      "source": [
        "\"ali\".reverse()"
      ],
      "execution_count": 12,
      "outputs": [
        {
          "output_type": "error",
          "ename": "AttributeError",
          "evalue": "ignored",
          "traceback": [
            "\u001b[0;31m---------------------------------------------------------------------------\u001b[0m",
            "\u001b[0;31mAttributeError\u001b[0m                            Traceback (most recent call last)",
            "\u001b[0;32m<ipython-input-12-4f2d642d7996>\u001b[0m in \u001b[0;36m<module>\u001b[0;34m()\u001b[0m\n\u001b[0;32m----> 1\u001b[0;31m \u001b[0;34m\"ali\"\u001b[0m\u001b[0;34m.\u001b[0m\u001b[0mreverse\u001b[0m\u001b[0;34m(\u001b[0m\u001b[0;34m)\u001b[0m\u001b[0;34m\u001b[0m\u001b[0;34m\u001b[0m\u001b[0m\n\u001b[0m",
            "\u001b[0;31mAttributeError\u001b[0m: 'str' object has no attribute 'reverse'"
          ]
        }
      ]
    },
    {
      "cell_type": "code",
      "metadata": {
        "colab": {
          "base_uri": "https://localhost:8080/"
        },
        "id": "4n0_7ghh4UMh",
        "outputId": "25261c45-74bb-401a-f763-793142ab7fa6"
      },
      "source": [
        "print((lambda a, b: (a + b) / 2)(3, 5))"
      ],
      "execution_count": 24,
      "outputs": [
        {
          "output_type": "stream",
          "name": "stdout",
          "text": [
            "4.0\n"
          ]
        }
      ]
    },
    {
      "cell_type": "code",
      "metadata": {
        "colab": {
          "base_uri": "https://localhost:8080/",
          "height": 133
        },
        "id": "cas2wwzf8b_8",
        "outputId": "d1b6b190-089f-439e-849f-41ffb667c1c3"
      },
      "source": [
        "sayilar = [1,2,3,4]\n",
        "\n",
        "(lambda x: \"cift\" if x % 2 == 0 else \"tek\" for i in x)(sayilar) "
      ],
      "execution_count": 30,
      "outputs": [
        {
          "output_type": "error",
          "ename": "SyntaxError",
          "evalue": "ignored",
          "traceback": [
            "\u001b[0;36m  File \u001b[0;32m\"<ipython-input-30-473c568440c8>\"\u001b[0;36m, line \u001b[0;32m3\u001b[0m\n\u001b[0;31m    (lambda x: for i in x \"cift\" if x % 2 == 0 else \"tek\")(sayilar)\u001b[0m\n\u001b[0m                 ^\u001b[0m\n\u001b[0;31mSyntaxError\u001b[0m\u001b[0;31m:\u001b[0m invalid syntax\n"
          ]
        }
      ]
    },
    {
      "cell_type": "code",
      "metadata": {
        "colab": {
          "base_uri": "https://localhost:8080/"
        },
        "id": "0Vue6fHc8cCN",
        "outputId": "8cdeeaac-1fa8-4a42-9837-b899046342b6"
      },
      "source": [
        "for a in sayilar:\n",
        "  print((lambda x: \"odd\" if x % 2 != 0 else \"even\")(a))"
      ],
      "execution_count": 31,
      "outputs": [
        {
          "output_type": "stream",
          "name": "stdout",
          "text": [
            "odd\n",
            "even\n",
            "odd\n",
            "even\n"
          ]
        }
      ]
    },
    {
      "cell_type": "code",
      "metadata": {
        "colab": {
          "base_uri": "https://localhost:8080/"
        },
        "id": "mipBnhZm8cEb",
        "outputId": "d71e1c4b-9dd3-422a-9fdf-5d4de338c231"
      },
      "source": [
        "average = lambda x, y: (x + y) / 2\n",
        "\n",
        "print(average(3, 5))"
      ],
      "execution_count": 32,
      "outputs": [
        {
          "output_type": "stream",
          "name": "stdout",
          "text": [
            "4.0\n"
          ]
        }
      ]
    },
    {
      "cell_type": "code",
      "metadata": {
        "colab": {
          "base_uri": "https://localhost:8080/"
        },
        "id": "Q8NtXOSM8cGL",
        "outputId": "6e348e04-a36e-4568-a89a-325d0dd120ae"
      },
      "source": [
        "a = lambda x, y: x * y\n",
        "\n",
        "print(a(5, 10))"
      ],
      "execution_count": 33,
      "outputs": [
        {
          "output_type": "stream",
          "name": "stdout",
          "text": [
            "50\n"
          ]
        }
      ]
    },
    {
      "cell_type": "code",
      "metadata": {
        "colab": {
          "base_uri": "https://localhost:8080/"
        },
        "id": "imBRAseR4UPT",
        "outputId": "13997d24-b232-419b-9b13-2ec21019c0c2"
      },
      "source": [
        "fonksiyon = lambda x: x ** 2\n",
        "\n",
        "sonuc = map(fonksiyon, [1, 2, 3])\n",
        "\n",
        "print(*sonuc)"
      ],
      "execution_count": 34,
      "outputs": [
        {
          "output_type": "stream",
          "name": "stdout",
          "text": [
            "1 4 9\n"
          ]
        }
      ]
    },
    {
      "cell_type": "code",
      "metadata": {
        "colab": {
          "base_uri": "https://localhost:8080/"
        },
        "id": "2w7IhWPcArTC",
        "outputId": "cf72eece-217e-4d21-8e53-af8b732cc7ce"
      },
      "source": [
        "fonk = (lambda x: x * \"ali\")\n",
        "\n",
        "print(*map(fonk, [1, 2, 3, 4, 5, 6, 7]), sep = \"\\n\")"
      ],
      "execution_count": 43,
      "outputs": [
        {
          "output_type": "stream",
          "name": "stdout",
          "text": [
            "ali\n",
            "aliali\n",
            "alialiali\n",
            "alialialiali\n",
            "alialialialiali\n",
            "alialialialialiali\n",
            "alialialialialialiali\n"
          ]
        }
      ]
    },
    {
      "cell_type": "code",
      "metadata": {
        "colab": {
          "base_uri": "https://localhost:8080/"
        },
        "id": "QSFKhfFkArVb",
        "outputId": "6117638b-6132-459f-86ff-a7c44d3417ba"
      },
      "source": [
        "fonk = (lambda x: x * \"ali\")\n",
        "\n",
        "print(list(map(fonk, [1, 2, 3, 4, 5, 6, 7])))"
      ],
      "execution_count": 46,
      "outputs": [
        {
          "output_type": "stream",
          "name": "stdout",
          "text": [
            "['ali', 'aliali', 'alialiali', 'alialialiali', 'alialialialiali', 'alialialialialiali', 'alialialialialialiali']\n"
          ]
        }
      ]
    },
    {
      "cell_type": "code",
      "metadata": {
        "id": "qzNElvalArZ3"
      },
      "source": [
        "def kare(b):\n",
        "  return b ** 2\n",
        "\n",
        "sonuc2 = list(map(kare, [1, 2, 3, 4, 5]))"
      ],
      "execution_count": 47,
      "outputs": []
    },
    {
      "cell_type": "code",
      "metadata": {
        "colab": {
          "base_uri": "https://localhost:8080/",
          "height": 36
        },
        "id": "O3cI5knGArcK",
        "outputId": "20fb0945-5768-413f-a998-b9b3141b41ca"
      },
      "source": [
        "topla = lambda x, y, z: x + y + z \n",
        "\n",
        "topla(\"a\", \"l\", \"i\")\n",
        "\n",
        "# degiskeni func gibi kullandik"
      ],
      "execution_count": 49,
      "outputs": [
        {
          "output_type": "execute_result",
          "data": {
            "application/vnd.google.colaboratory.intrinsic+json": {
              "type": "string"
            },
            "text/plain": [
              "'ali'"
            ]
          },
          "metadata": {},
          "execution_count": 49
        }
      ]
    },
    {
      "cell_type": "code",
      "metadata": {
        "colab": {
          "base_uri": "https://localhost:8080/",
          "height": 240
        },
        "id": "5ExCnreSAriW",
        "outputId": "cda31acf-a57e-463c-9452-836c423fd74b"
      },
      "source": [
        "a = [\"o\"]\n",
        "b = [\"n\"]\n",
        "c = [\"e\"]\n",
        "\n",
        "sonuc = (map(lambda x, y, z: x + y + z))\n",
        "\n",
        "print(list(sonuc(a, b, c)))"
      ],
      "execution_count": 53,
      "outputs": [
        {
          "output_type": "error",
          "ename": "TypeError",
          "evalue": "ignored",
          "traceback": [
            "\u001b[0;31m---------------------------------------------------------------------------\u001b[0m",
            "\u001b[0;31mTypeError\u001b[0m                                 Traceback (most recent call last)",
            "\u001b[0;32m<ipython-input-53-f831310456a9>\u001b[0m in \u001b[0;36m<module>\u001b[0;34m()\u001b[0m\n\u001b[1;32m      3\u001b[0m \u001b[0mc\u001b[0m \u001b[0;34m=\u001b[0m \u001b[0;34m[\u001b[0m\u001b[0;34m\"e\"\u001b[0m\u001b[0;34m]\u001b[0m\u001b[0;34m\u001b[0m\u001b[0;34m\u001b[0m\u001b[0m\n\u001b[1;32m      4\u001b[0m \u001b[0;34m\u001b[0m\u001b[0m\n\u001b[0;32m----> 5\u001b[0;31m \u001b[0msonuc\u001b[0m \u001b[0;34m=\u001b[0m \u001b[0;34m(\u001b[0m\u001b[0mmap\u001b[0m\u001b[0;34m(\u001b[0m\u001b[0;32mlambda\u001b[0m \u001b[0mx\u001b[0m\u001b[0;34m,\u001b[0m \u001b[0my\u001b[0m\u001b[0;34m,\u001b[0m \u001b[0mz\u001b[0m\u001b[0;34m:\u001b[0m \u001b[0mx\u001b[0m \u001b[0;34m+\u001b[0m \u001b[0my\u001b[0m \u001b[0;34m+\u001b[0m \u001b[0mz\u001b[0m\u001b[0;34m)\u001b[0m\u001b[0;34m)\u001b[0m\u001b[0;34m\u001b[0m\u001b[0;34m\u001b[0m\u001b[0m\n\u001b[0m\u001b[1;32m      6\u001b[0m \u001b[0;34m\u001b[0m\u001b[0m\n\u001b[1;32m      7\u001b[0m \u001b[0mprint\u001b[0m\u001b[0;34m(\u001b[0m\u001b[0mlist\u001b[0m\u001b[0;34m(\u001b[0m\u001b[0msonuc\u001b[0m\u001b[0;34m(\u001b[0m\u001b[0ma\u001b[0m\u001b[0;34m,\u001b[0m \u001b[0mb\u001b[0m\u001b[0;34m,\u001b[0m \u001b[0mc\u001b[0m\u001b[0;34m)\u001b[0m\u001b[0;34m)\u001b[0m\u001b[0;34m)\u001b[0m\u001b[0;34m\u001b[0m\u001b[0;34m\u001b[0m\u001b[0m\n",
            "\u001b[0;31mTypeError\u001b[0m: map() must have at least two arguments."
          ]
        }
      ]
    },
    {
      "cell_type": "code",
      "metadata": {
        "colab": {
          "base_uri": "https://localhost:8080/"
        },
        "id": "LTCEl-0lArkc",
        "outputId": "6323cfff-abd3-4fee-a235-8626aaef52cb"
      },
      "source": [
        "num1 = [9, 6, 7, 4]\n",
        "num2 = [3, 6, 5, 8]\n",
        "\n",
        "func = lambda x, y: (x + y) / 2\n",
        "numbers = map(func, num1, num2)\n",
        "\n",
        "print(list(numbers))"
      ],
      "execution_count": 56,
      "outputs": [
        {
          "output_type": "stream",
          "name": "stdout",
          "text": [
            "[6.0, 6.0, 6.0, 6.0]\n"
          ]
        }
      ]
    },
    {
      "cell_type": "code",
      "metadata": {
        "colab": {
          "base_uri": "https://localhost:8080/"
        },
        "id": "MH8DsPEnArmN",
        "outputId": "29d682e8-53f7-4fae-a156-2d202806842b"
      },
      "source": [
        "w1 = [\"you\", \"much\", \"hard\"]\n",
        "w2 = [\"i\", \"you\", \"he\"]\n",
        "w3 = [\"love\", \"ate\", \"works\"]\n",
        "\n",
        "func = lambda x, y, z: x + \" \" + y + \" \" + z\n",
        "new = map(func, w2, w3, w1)\n",
        "\n",
        "print(*new)"
      ],
      "execution_count": 60,
      "outputs": [
        {
          "output_type": "stream",
          "name": "stdout",
          "text": [
            "i love you you ate much he works hard\n"
          ]
        }
      ]
    },
    {
      "cell_type": "code",
      "metadata": {
        "colab": {
          "base_uri": "https://localhost:8080/"
        },
        "id": "iqjrZbyc4USm",
        "outputId": "9e20feb3-b704-47e6-b62f-7c21833404e2"
      },
      "source": [
        "a = [1, 2, 3, 4]\n",
        "\n",
        "even = filter((lambda x: x % 2 == 0), a)\n",
        "\n",
        "print(*even)"
      ],
      "execution_count": 62,
      "outputs": [
        {
          "output_type": "stream",
          "name": "stdout",
          "text": [
            "2 4\n"
          ]
        }
      ]
    },
    {
      "cell_type": "code",
      "metadata": {
        "colab": {
          "base_uri": "https://localhost:8080/"
        },
        "id": "gRxjYvRtJoQx",
        "outputId": "dda36083-9253-4f2a-d9b3-1aa41ad84f68"
      },
      "source": [
        "words = [\"apple\", \"swim\", \"clock\", \"me\", \"kiwi\", \"banana\"]\n",
        "\n",
        "func = (lambda x: len(x) < 5)\n",
        "\n",
        "print(*filter(func,words))"
      ],
      "execution_count": 65,
      "outputs": [
        {
          "output_type": "stream",
          "name": "stdout",
          "text": [
            "swim me kiwi\n"
          ]
        }
      ]
    },
    {
      "cell_type": "code",
      "metadata": {
        "colab": {
          "base_uri": "https://localhost:8080/"
        },
        "id": "5DcHVUZoJoUN",
        "outputId": "5a3f74e8-d22e-435e-b0dc-5c36e01a2c41"
      },
      "source": [
        "words = [\"apple\", \"swim\", \"clock\", \"me\", \"kiwi\", \"banana\"]\n",
        "\n",
        "for i in filter(lambda x: len(x) < 5, words):\n",
        "  print(i)"
      ],
      "execution_count": 70,
      "outputs": [
        {
          "output_type": "stream",
          "name": "stdout",
          "text": [
            "swim\n",
            "me\n",
            "kiwi\n"
          ]
        }
      ]
    },
    {
      "cell_type": "code",
      "metadata": {
        "colab": {
          "base_uri": "https://localhost:8080/"
        },
        "id": "zcJ-UXUmJoY0",
        "outputId": "2a244936-a30f-45f0-8f3d-d77ed6debe66"
      },
      "source": [
        "vowel_list = ['a', 'e', 'i', 'o', 'u']\n",
        "first_ten = ['a', 'b', 'c', 'd', 'e', 'f', 'g', 'h', 'i', 'j']\n",
        "\n",
        "vowels = filter((lambda x: x in vowel_list), first_ten)\n",
        "\n",
        "print(list(vowels))"
      ],
      "execution_count": 72,
      "outputs": [
        {
          "output_type": "stream",
          "name": "stdout",
          "text": [
            "['a', 'e', 'i']\n"
          ]
        }
      ]
    },
    {
      "cell_type": "code",
      "metadata": {
        "id": "sBiR_jZ4Joc8"
      },
      "source": [
        "def modular(n):\n",
        "  return lambda x: x ** n\n",
        "\n"
      ],
      "execution_count": null,
      "outputs": []
    },
    {
      "cell_type": "code",
      "metadata": {
        "colab": {
          "base_uri": "https://localhost:8080/"
        },
        "id": "mayfqxW-JohW",
        "outputId": "259a3526-95a5-4f19-b7d1-fbd723c9ceda"
      },
      "source": [
        "def modular(n):\n",
        "  return lambda x: x ** n\n",
        "\n",
        "karesinial = modular(2)\n",
        "\n",
        "karesinial  ##  bu object döndürür\n",
        "\n",
        "print(karesinial(3))\n",
        "\n",
        "küpünüal = modular(3)\n",
        "print(küpünüal(2))\n",
        "\n"
      ],
      "execution_count": 81,
      "outputs": [
        {
          "output_type": "stream",
          "name": "stdout",
          "text": [
            "9\n",
            "8\n"
          ]
        }
      ]
    },
    {
      "cell_type": "code",
      "metadata": {
        "colab": {
          "base_uri": "https://localhost:8080/"
        },
        "id": "GC6CLvtCJola",
        "outputId": "500725a1-921e-42d0-f93e-24d9585ad26a"
      },
      "source": [
        "lambda x : print(x, \":)\")(\"ali\")"
      ],
      "execution_count": 85,
      "outputs": [
        {
          "output_type": "execute_result",
          "data": {
            "text/plain": [
              "<function __main__.<lambda>>"
            ]
          },
          "metadata": {},
          "execution_count": 85
        }
      ]
    },
    {
      "cell_type": "code",
      "metadata": {
        "id": "-65HxCD4JopX"
      },
      "source": [
        "lambda x : print(x, \":(\")(\"ali\")"
      ],
      "execution_count": null,
      "outputs": []
    },
    {
      "cell_type": "code",
      "metadata": {
        "id": "fpLZbdH5JotB"
      },
      "source": [
        "lambda x : print(x, \":|\")(\"ali\")"
      ],
      "execution_count": null,
      "outputs": []
    },
    {
      "cell_type": "code",
      "metadata": {
        "colab": {
          "base_uri": "https://localhost:8080/"
        },
        "id": "fZyhKpwBJoxA",
        "outputId": "a124ff16-0725-4c63-8859-30388a5285f7"
      },
      "source": [
        "def functioner(emoji):\n",
        "  return lambda x : print(x, emoji)\n",
        "\n",
        "myPrint_smile = functioner(\":)\")\n",
        "myPrint_sad = functioner(\":(\")\n",
        "myPrint_neutral = functioner(\":|\")\n",
        "\n",
        "myPrint_sad(\"hello\")"
      ],
      "execution_count": 95,
      "outputs": [
        {
          "output_type": "stream",
          "name": "stdout",
          "text": [
            "hello :(\n"
          ]
        }
      ]
    },
    {
      "cell_type": "code",
      "metadata": {
        "id": "OEyE2339Zj4W"
      },
      "source": [
        "def ali_print(x):\n",
        "  "
      ],
      "execution_count": null,
      "outputs": []
    },
    {
      "cell_type": "code",
      "metadata": {
        "colab": {
          "base_uri": "https://localhost:8080/"
        },
        "id": "mYz7ZwQdZj72",
        "outputId": "9ed5bf40-fe71-4168-a4ef-5cd3fd8845d2"
      },
      "source": [
        "def function_generator(function_name):\n",
        "  return lambda x: function_name(x)\n",
        "\n",
        "tarikmax = function_generator(max)\n",
        "tariksorted = function_generator(sorted)\n",
        "\n",
        "tarikmax((2, 1, 23))"
      ],
      "execution_count": 100,
      "outputs": [
        {
          "output_type": "execute_result",
          "data": {
            "text/plain": [
              "23"
            ]
          },
          "metadata": {},
          "execution_count": 100
        }
      ]
    },
    {
      "cell_type": "code",
      "metadata": {
        "colab": {
          "base_uri": "https://localhost:8080/"
        },
        "id": "Ri15bP1mZkAe",
        "outputId": "e88cb2c3-461e-4ea3-f2a6-8e7be5207420"
      },
      "source": [
        "def function_generator(n) :\n",
        "  return lambda x : n(x)\n",
        "myPrint = function_generator(print)\n",
        "myMax = function_generator(max)\n",
        "myBool = function_generator(bool)\n",
        "mySorted = function_generator(sorted)\n",
        "\n",
        "myBool(3)\n",
        "\n",
        "mySorted([3, 2, 1])"
      ],
      "execution_count": 103,
      "outputs": [
        {
          "output_type": "execute_result",
          "data": {
            "text/plain": [
              "[1, 2, 3]"
            ]
          },
          "metadata": {},
          "execution_count": 103
        }
      ]
    },
    {
      "cell_type": "code",
      "metadata": {
        "id": "1XyTB9JlZkEc"
      },
      "source": [
        ""
      ],
      "execution_count": null,
      "outputs": []
    },
    {
      "cell_type": "code",
      "metadata": {
        "id": "3nwrBZfuZkH1"
      },
      "source": [
        ""
      ],
      "execution_count": null,
      "outputs": []
    },
    {
      "cell_type": "code",
      "metadata": {
        "id": "KzGkOXOZZkLU"
      },
      "source": [
        ""
      ],
      "execution_count": null,
      "outputs": []
    }
  ]
}