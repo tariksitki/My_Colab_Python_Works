{
  "nbformat": 4,
  "nbformat_minor": 0,
  "metadata": {
    "colab": {
      "name": "lambda.ipynb",
      "provenance": [],
      "collapsed_sections": [],
      "authorship_tag": "ABX9TyO3S4wNpleNAR9gaKKNAIix",
      "include_colab_link": true
    },
    "kernelspec": {
      "name": "python3",
      "display_name": "Python 3"
    },
    "language_info": {
      "name": "python"
    }
  },
  "cells": [
    {
      "cell_type": "markdown",
      "metadata": {
        "id": "view-in-github",
        "colab_type": "text"
      },
      "source": [
        "<a href=\"https://colab.research.google.com/github/tariksitki/My_Colab_Python_Works/blob/main/lambda.ipynb\" target=\"_parent\"><img src=\"https://colab.research.google.com/assets/colab-badge.svg\" alt=\"Open In Colab\"/></a>"
      ]
    },
    {
      "cell_type": "code",
      "metadata": {
        "id": "UqZaSYNi4TSG"
      },
      "source": [
        "##############           lambda function"
      ],
      "execution_count": null,
      "outputs": []
    },
    {
      "cell_type": "code",
      "metadata": {
        "id": "V3QkFJdmqojU"
      },
      "source": [
        "#########         inclass"
      ],
      "execution_count": null,
      "outputs": []
    },
    {
      "cell_type": "code",
      "metadata": {
        "id": "pghcPKD2qolp"
      },
      "source": [
        "# burada func tanimlama icin kullandigimiz ifadeye lambda denir\n",
        "# bu ifade ile olusturdugumuz func a ise lambda func denir\n",
        "\n",
        "# Lambda fonksiyonları Python programlama dilinin ileri düzey fonksiyonlarından biridir."
      ],
      "execution_count": null,
      "outputs": []
    },
    {
      "cell_type": "code",
      "metadata": {
        "id": "6ueX1MQ0qooP"
      },
      "source": [
        "# Lambda fonksiyonlarını, bir fonksiyonun işlevselliğine ihtiyaç duyduğumuz, \n",
        "# ama konum olarak bir fonksiyon tanımlayamayacağımız veya fonksiyon \n",
        "# tanımlamanın zor ya da meşakkatli olduğu durumlarda kullanabiliriz."
      ],
      "execution_count": null,
      "outputs": []
    },
    {
      "cell_type": "code",
      "metadata": {
        "id": "o8KrJ2Tdqoq9"
      },
      "source": [
        "# lambda func genel yapisi su sekildedir:\n",
        "\n",
        "lambda parameter(s) : body(expression)\n",
        "\n",
        "lambda x : x + 10\n",
        "\n",
        "# bu tanimin anlami sudur:\n",
        "\n",
        "# 'x' adlı bir parametre alan bir lambda fonksiyonu tanımlayin. Bu fonksiyon, bu\n",
        "# 'x parametresine 10 sayısını eklesin."
      ],
      "execution_count": 5,
      "outputs": []
    },
    {
      "cell_type": "code",
      "metadata": {
        "id": "le5wyhwqu-uu"
      },
      "source": [
        "#  peki lambda func'i nasil call ediyoruz?\n"
      ],
      "execution_count": null,
      "outputs": []
    },
    {
      "cell_type": "code",
      "metadata": {
        "colab": {
          "base_uri": "https://localhost:8080/"
        },
        "id": "agQaHBNHqot9",
        "outputId": "ff8e6c44-caa2-498c-d9bf-4bb9bb94f5ab"
      },
      "source": [
        "def kare(a):       ##  normal def ile tanimlanmis bir func\n",
        "  return a ** 2\n",
        "\n",
        "a = lambda x : x ** 2   # lambda\n",
        "print(a(6))"
      ],
      "execution_count": 7,
      "outputs": [
        {
          "output_type": "stream",
          "name": "stdout",
          "text": [
            "36\n"
          ]
        }
      ]
    },
    {
      "cell_type": "code",
      "metadata": {
        "id": "S76I3x9-x41L"
      },
      "source": [
        "# lambda func mantigini anlamak icin su sekilde bir düsünme tarzi olabilir\n",
        "# yukaridaki örnekte lambda kelimesi dahil  2 harfi dahil olmak üzere arada\n",
        "# kalan tüm ifadeler normal def ile tanimlanmis bir func gibi düsünülebilir.\n",
        "# arguman olarak yazilan 6 rakami ise def ile tanimladigimiz func'a girilen\n",
        "# arguman olarak düsünülebilir"
      ],
      "execution_count": null,
      "outputs": []
    },
    {
      "cell_type": "code",
      "metadata": {
        "colab": {
          "base_uri": "https://localhost:8080/"
        },
        "id": "kdP3uVkpqow5",
        "outputId": "e6fb633d-6d25-4208-fed4-ad71afefe14a"
      },
      "source": [
        "# tabi ki lambda func birden cok parameter de alabilir\n",
        "\n",
        "a = lambda x, y, z : x * y * z \n",
        "\n",
        "print(a(1, 2, 3))"
      ],
      "execution_count": 8,
      "outputs": [
        {
          "output_type": "stream",
          "name": "stdout",
          "text": [
            "6\n"
          ]
        }
      ]
    },
    {
      "cell_type": "code",
      "metadata": {
        "id": "ff4LoUa2xwb-"
      },
      "source": [
        ""
      ],
      "execution_count": null,
      "outputs": []
    },
    {
      "cell_type": "code",
      "metadata": {
        "id": "s2Wf2tUXqozz"
      },
      "source": [
        "##  lambda ile if statementslari birlikte kullanma:\n",
        "\n",
        "##  lambda icerisinde kullanacagimiz if yapisi ayni list comp daki gibidir.\n",
        "\n",
        "# yani su sekilde:\n",
        "\n",
        "#  if'den bekledigimiz output +  if yapisi +  else + else de bekledigimiz output\n",
        "\n",
        "# Dikkat: burada bir fark vardir. List comp' da else yazmak zorunda degildik.\n",
        "# Cünkü islemler bir liste icerisinde gerceklestiginde, if yapisi calisirsa\n",
        "# listeye sonucu append ediliyordu. calismaz ise liste bos kaliyordu.\n",
        "\n",
        "# ancak lambda da durum farklidir. Burada bir liste icinde calisma gibi bir durum \n",
        "# söz konusu degildir. o nedenle if calismazsa ne olacagini da belirtmemiz gerekir.\n",
        "# bu da else ile yapilir\n",
        "\n",
        "a = (lambda x : \"cift sayi\" if x % 2 == 0 else \"tek sayi\")\n",
        "\n",
        "print(a(6))"
      ],
      "execution_count": 14,
      "outputs": []
    },
    {
      "cell_type": "code",
      "metadata": {
        "colab": {
          "base_uri": "https://localhost:8080/"
        },
        "id": "KSuUX6tKqo2j",
        "outputId": "7e63f84d-7328-4937-c4e6-024a11b2a8d1"
      },
      "source": [
        "# lambda func'a herhangi bir arguman gönderemdigimiz sürece\n",
        "# on the air bir lambda func üretir.\n",
        "# tam olarak calistirabilmek icin bir arguman göndermek zorundayiz\n",
        "\n",
        "a = (lambda x : \"cift sayi\" if x % 2 == 0 else \"tek sayi\")\n",
        "a"
      ],
      "execution_count": 15,
      "outputs": [
        {
          "output_type": "execute_result",
          "data": {
            "text/plain": [
              "<function __main__.<lambda>>"
            ]
          },
          "metadata": {},
          "execution_count": 15
        }
      ]
    },
    {
      "cell_type": "code",
      "metadata": {
        "colab": {
          "base_uri": "https://localhost:8080/"
        },
        "id": "3Ie7kjaVyTw1",
        "outputId": "ef0e70b5-90ea-41ed-df08-ad96d2ad187c"
      },
      "source": [
        "# task\n",
        "# kullanicinin girmis oldugu stringi tersten yazan bir lambda func yapiniz\n",
        "\n",
        "a = lambda x : x[::-1]\n",
        "print(a(input(\"Lütfen bir kelime giriniz: \")))\n",
        "\n",
        "# Not: def func altinda, kullanicidan bir girdi alabiliyorduk.\n",
        "# lambda da ise func tanimlarken girdi alamiyoruz. Cünkü;\n",
        "# lambda call ederken bir arguman girmemiz gerekiyor. Bu nedenle \n",
        "# kullanicidan alacagimiz girdiyi lambda nin argumani olarak aliriz"
      ],
      "execution_count": 41,
      "outputs": [
        {
          "output_type": "stream",
          "name": "stdout",
          "text": [
            "Lütfen bir kelime giriniz: benim\n",
            "mineb\n"
          ]
        }
      ]
    },
    {
      "cell_type": "code",
      "metadata": {
        "id": "ZmqJM-EByTzd"
      },
      "source": [
        "#  reversed() func ve reverse() methodu:\n",
        "\n",
        "# reversed() bir func dir ve bu nedenle icerisine arguman alir.\n",
        "# ancak sadece tek bir eleman alir. birden fazla eleman almaz.\n",
        "# biz bir iterable'in elemanlarini ters cevirmek isteyecegimizden\n",
        "# bu arguman genellikle bir iterable olur\n",
        "\n",
        "# reversed() func ketum bir func' dir. Bu nedenle acilmak ister"
      ],
      "execution_count": 27,
      "outputs": []
    },
    {
      "cell_type": "code",
      "metadata": {
        "colab": {
          "base_uri": "https://localhost:8080/"
        },
        "id": "DKS8jd8CyT19",
        "outputId": "d6e2416a-f19d-4e32-8614-ed6f7dea416b"
      },
      "source": [
        "liste = [1, 2, 3, 4, 5 ,6]\n",
        "\n",
        "print(*reversed(liste))"
      ],
      "execution_count": 32,
      "outputs": [
        {
          "output_type": "stream",
          "name": "stdout",
          "text": [
            "6 5 4 3 2 1\n"
          ]
        }
      ]
    },
    {
      "cell_type": "code",
      "metadata": {
        "colab": {
          "base_uri": "https://localhost:8080/"
        },
        "id": "mFAp12UWyT4l",
        "outputId": "d48ee4d8-6e22-4e09-df53-4ff08a940782"
      },
      "source": [
        "# tuple ile kullanim\n",
        "\n",
        "liste = (1, 2, 3, 4, 5 ,6)\n",
        "print(*reversed(liste))"
      ],
      "execution_count": 33,
      "outputs": [
        {
          "output_type": "stream",
          "name": "stdout",
          "text": [
            "6 5 4 3 2 1\n"
          ]
        }
      ]
    },
    {
      "cell_type": "code",
      "metadata": {
        "id": "AA-FXFnWyT7k"
      },
      "source": [
        "# setler ve dictler not reversible verilerdir. Bu nedenle reversed ile \n",
        "# kullanilamazlar"
      ],
      "execution_count": 35,
      "outputs": []
    },
    {
      "cell_type": "code",
      "metadata": {
        "colab": {
          "base_uri": "https://localhost:8080/"
        },
        "id": "KPrjyrlHyT-V",
        "outputId": "c3570e15-0ad7-4f68-a53b-5a07c2a251e2"
      },
      "source": [
        "# string ile kullanim:\n",
        "\n",
        "a = \"computer\"\n",
        "print(*reversed(a))"
      ],
      "execution_count": 37,
      "outputs": [
        {
          "output_type": "stream",
          "name": "stdout",
          "text": [
            "r e t u p m o c\n"
          ]
        }
      ]
    },
    {
      "cell_type": "code",
      "metadata": {
        "colab": {
          "base_uri": "https://localhost:8080/"
        },
        "id": "ibvd3hpzyUA5",
        "outputId": "08293214-6de3-4a25-aa4d-001b84fad805"
      },
      "source": [
        "###########   reverse methodu:\n",
        "\n",
        "# sadece listelere ait bir methoddur. Bir method oldugu icin\n",
        "# liste isminden sonra kullanilir ve icine arguman almaz.\n",
        "\n",
        "# print icerisinde yada bir degiskene atayarak kullanilamaz\n",
        "\n",
        "# Kullanim sekli söyledir:\n",
        "\n",
        "liste = [1, 2, 3, 4, 5 ,6]\n",
        "liste.reverse()\n",
        "\n",
        "print(liste)"
      ],
      "execution_count": 39,
      "outputs": [
        {
          "output_type": "stream",
          "name": "stdout",
          "text": [
            "[6, 5, 4, 3, 2, 1]\n"
          ]
        }
      ]
    },
    {
      "cell_type": "code",
      "metadata": {
        "id": "M_WjSMgeyUDu"
      },
      "source": [
        ""
      ],
      "execution_count": 40,
      "outputs": []
    },
    {
      "cell_type": "code",
      "metadata": {
        "id": "xN1vrMIX60gW"
      },
      "source": [
        "###  lambda func'in iki türlü kullanimi vardir.\n",
        "# Birincisi su ana kadar ögrendigimiz, normal bir lambda olusturma ve\n",
        "# daha sonra bunu call etme.\n",
        "\n",
        "# ikincisi ise su sekildedir:\n",
        "# bir degiskene lambda func atama ve bu degiskeni baska yerde kullanma:\n"
      ],
      "execution_count": null,
      "outputs": []
    },
    {
      "cell_type": "code",
      "metadata": {
        "colab": {
          "base_uri": "https://localhost:8080/"
        },
        "id": "7yNxZJSP60jZ",
        "outputId": "b8d4132f-e8ef-4242-b862-ff11c1639022"
      },
      "source": [
        "# Bu kullanimda, argumanlari hemen lambdanin yanina yazariz.\n",
        "\n",
        "a = (lambda x, y : (x * y) / 2)(3, 6)\n",
        "\n",
        "b = a + 10\n",
        "print(b)"
      ],
      "execution_count": 42,
      "outputs": [
        {
          "output_type": "stream",
          "name": "stdout",
          "text": [
            "19.0\n"
          ]
        }
      ]
    },
    {
      "cell_type": "code",
      "metadata": {
        "colab": {
          "base_uri": "https://localhost:8080/"
        },
        "id": "CUCyaag360mb",
        "outputId": "740b3400-7d89-4664-e3cb-bd10676a4bff"
      },
      "source": [
        "# Birde su sekilde kullanim vardir:\n",
        "\n",
        "a = (lambda x, y : (x * y) / 2)\n",
        "\n",
        "print(a(3, 6))\n",
        "callable(a)\n",
        "\n",
        "# Bu kullanimda ise, a degiskenini fonksiyonlastiriyoruz.\n",
        "# yani artik func cagirmak yerine a degiskenini cagiriyoruz.\n",
        "\n",
        "# Bu durumun saglamasini da su sekilde yapiyoruz.\n",
        "# callable func ile a'nin callable olup olmadigini sorguluyoruz."
      ],
      "execution_count": 47,
      "outputs": [
        {
          "output_type": "stream",
          "name": "stdout",
          "text": [
            "9.0\n"
          ]
        },
        {
          "output_type": "execute_result",
          "data": {
            "text/plain": [
              "True"
            ]
          },
          "metadata": {},
          "execution_count": 47
        }
      ]
    },
    {
      "cell_type": "code",
      "metadata": {
        "colab": {
          "base_uri": "https://localhost:8080/"
        },
        "id": "82A71vRp60pK",
        "outputId": "94496045-b1b1-496c-d68f-6e19ce968742"
      },
      "source": [
        "##  lambda func'i tabi ki direkt olarak print icerisinde de kullanabilirz.\n",
        "\n",
        "# tabi ki bu durumda lambda func dan elde ettigimiz output u baska bir yerde \n",
        "# kullanma imkanimiz yoktur\n",
        "\n",
        "print((lambda x, y : (x * y) / 2)(3, 6))"
      ],
      "execution_count": 49,
      "outputs": [
        {
          "output_type": "stream",
          "name": "stdout",
          "text": [
            "9.0\n"
          ]
        }
      ]
    },
    {
      "cell_type": "code",
      "metadata": {
        "colab": {
          "base_uri": "https://localhost:8080/"
        },
        "id": "dhhiK3JE8sqE",
        "outputId": "48fb429b-a952-4465-ba17-4d2ff48a9d8f"
      },
      "source": [
        "# task:\n",
        "\n",
        "# bir lambda func yaziniz. Bir liste de bulunan tüm sayilari teker teker\n",
        "# kontrol etsin ve her bir sayi ile birlikte bu sayinin tek mi cift mi oldugunu \n",
        "# output olarak versin\n",
        "\n",
        "liste = [1, 2, 3, 4, 5, 6]\n",
        "\n",
        "for i in liste:\n",
        "  print(i, \":\", (lambda x : \"Cift\" if x % 2 == 0 else \"Tek\")(i))\n"
      ],
      "execution_count": 52,
      "outputs": [
        {
          "output_type": "stream",
          "name": "stdout",
          "text": [
            "1 : Tek\n",
            "2 : Cift\n",
            "3 : Tek\n",
            "4 : Cift\n",
            "5 : Tek\n",
            "6 : Cift\n"
          ]
        }
      ]
    },
    {
      "cell_type": "code",
      "metadata": {
        "id": "XPjxCvlq8ssY"
      },
      "source": [
        "###  lambda tek satirda tanimlandigi icin def te yaptigimiz herseyi\n",
        "# lambda ile yapamayiz.\n",
        "\n",
        "# ayni if yapilari ile list comp gibidir"
      ],
      "execution_count": 58,
      "outputs": []
    },
    {
      "cell_type": "code",
      "metadata": {
        "id": "fIlJ6Gbo8suj"
      },
      "source": [
        "## lambda func'i map()  func ile birlikte kullanma:\n",
        "\n",
        "## task:\n",
        "# girilen herbir kelimeyi  yada cümleyi büyük yazdiran bir func yaziniz. \n",
        "# map ve lambda kullaniniz"
      ],
      "execution_count": null,
      "outputs": []
    },
    {
      "cell_type": "code",
      "metadata": {
        "colab": {
          "base_uri": "https://localhost:8080/"
        },
        "id": "0LvMP-LP8swf",
        "outputId": "346a6dec-bf63-4b1d-93f2-442ac23a1a9f"
      },
      "source": [
        "girdi = list(map((lambda x : x.upper()), input(\"Lütfen bir cümle giriniz: \").split()))\n",
        "print(girdi)\n",
        "\n",
        "####  Önemli    vvvvvvvv"
      ],
      "execution_count": 61,
      "outputs": [
        {
          "output_type": "stream",
          "name": "stdout",
          "text": [
            "Lütfen bir cümle giriniz: ben seno öfjd öklfdkjds äkgjd\n",
            "['BEN', 'SENO', 'ÖFJD', 'ÖKLFDKJDS', 'ÄKGJD']\n"
          ]
        }
      ]
    },
    {
      "cell_type": "code",
      "metadata": {
        "id": "PLvKyEzW60rt"
      },
      "source": [
        "##  Burada biz lambda func' i calistirmak icin hicbir arguman girmedik.\n",
        "# cünkü map func,  iterable in her bir elemanini aliyor ve teker teker \n",
        "# lambda func' a arguman olarak atiyor"
      ],
      "execution_count": null,
      "outputs": []
    },
    {
      "cell_type": "code",
      "metadata": {
        "colab": {
          "base_uri": "https://localhost:8080/"
        },
        "id": "_1h1bO8qyUGQ",
        "outputId": "c70920ca-95bb-47dc-d12e-a0ad30ba06c2"
      },
      "source": [
        "# Tabi ki, bu soruyu cözerken, lambda func'i ve iterable'i bir degiskene atayabiliriz.\n",
        "# ve map icerisinde cagirabiliriz:\n",
        "\n",
        "function = lambda x : x.upper()\n",
        "girdi = input(\"Lütfen bir cümle giriniz: \")\n",
        "new = list(map(function, girdi.split()))\n",
        "print(new)"
      ],
      "execution_count": 2,
      "outputs": [
        {
          "output_type": "stream",
          "name": "stdout",
          "text": [
            "Lütfen bir cümle giriniz: ben sen o\n",
            "['BEN', 'SEN', 'O']\n"
          ]
        }
      ]
    },
    {
      "cell_type": "code",
      "metadata": {
        "id": "fYOUjuM6yUIz"
      },
      "source": [
        "#  simdi de ayni task i def ile yapalim:\n",
        "\n",
        "def büyük(a):\n",
        "  return a.upper()\n",
        "\n",
        "girdi = input(\"Lütfen bir cümle giriniz: \")\n",
        "new = list(map(büyük, girdi.split()))\n",
        "print(new)"
      ],
      "execution_count": 4,
      "outputs": []
    },
    {
      "cell_type": "code",
      "metadata": {
        "colab": {
          "base_uri": "https://localhost:8080/"
        },
        "id": "2Eg_HBg03_Vv",
        "outputId": "c7847903-c765-49b2-b769-02f5d3ccc888"
      },
      "source": [
        "##  task:\n",
        "# map()  ve lambda kullanarak\n",
        "# 3 tane iterable dan anlamli kelimeler cikartiniz:\n",
        "\n",
        "a = [\"o\", \"s\", \"t\", \"t\"]\n",
        "b = [\"n\", \"i\", \"e\", \"w\"]\n",
        "c = [\"e\", \"x\", \"n\", \"o\"]              ## Önemli:  map()  icerisine birden cok iterable alabilir\n",
        "                                      #  map() in tanimina bakalim\n",
        "new = list(map((lambda x, y, z : x + y + z), a, b, c))\n",
        "print(new)\n",
        "\n",
        "##  Not: burada 3 tane iterable'imiz oldugu icin lambda func'in da \n",
        "# 3 tane parametresi vardir"
      ],
      "execution_count": 6,
      "outputs": [
        {
          "output_type": "stream",
          "name": "stdout",
          "text": [
            "['one', 'six', 'ten', 'two']\n"
          ]
        }
      ]
    },
    {
      "cell_type": "code",
      "metadata": {
        "colab": {
          "base_uri": "https://localhost:8080/"
        },
        "id": "OrNr0_AQ3_YM",
        "outputId": "f9ad81af-2639-42ee-d3f8-e85d89793852"
      },
      "source": [
        "# map()  in bu özelligini nerede kullanabiliriz?\n",
        "# elimizde isim ve soyisimlerden olusan iki iterable olsun.\n",
        "# ve biz for döngüsü kullanmadan isim ve soyisimleri eslestirelim\n",
        "\n",
        "isimler = [\"ali\", \"veli\", \"ayse\", \"fatma\"]\n",
        "soyisimler = [\"kaya\", \"kilic\", \"ates\", \"altintas\"]\n",
        "\n",
        "new = list(map((lambda x, y : x + \" \" + y), isimler, soyisimler))\n",
        "\n",
        "print(new)"
      ],
      "execution_count": 10,
      "outputs": [
        {
          "output_type": "stream",
          "name": "stdout",
          "text": [
            "['ali kaya', 'veli kilic', 'ayse ates', 'fatma altintas']\n"
          ]
        }
      ]
    },
    {
      "cell_type": "code",
      "metadata": {
        "colab": {
          "base_uri": "https://localhost:8080/"
        },
        "id": "VhdiQMHG3_ae",
        "outputId": "ed8e6eff-c175-42d4-bb1a-8fe77d3d574d"
      },
      "source": [
        "##  task:\n",
        "\n",
        "# iki tane listemiz var. Bu listelerde, ayni index numarasina gelen \n",
        "# sayilari toplayip her birinin ortalamasini bulalim\n",
        "# map() ve  lambda kullanalim\n",
        "\n",
        "a = [9, 6, 7, 4]\n",
        "b = [3, 6, 5, 8]\n",
        "\n",
        "new = list(map((lambda x, y : (x + y) / 2), a, b))\n",
        "print(new)"
      ],
      "execution_count": 12,
      "outputs": [
        {
          "output_type": "stream",
          "name": "stdout",
          "text": [
            "[6.0, 6.0, 6.0, 6.0]\n"
          ]
        }
      ]
    },
    {
      "cell_type": "code",
      "metadata": {
        "id": "NjMKDo7V3_dE"
      },
      "source": [
        "###  task:\n",
        "\n",
        "# 3 tane iterable' imiz var.\n",
        "# bu iterable'larin ayni index numarasina gelen elemanlari ile\n",
        "# anlamli cümleler yazacagiz"
      ],
      "execution_count": null,
      "outputs": []
    },
    {
      "cell_type": "code",
      "metadata": {
        "colab": {
          "base_uri": "https://localhost:8080/"
        },
        "id": "nvC-yYQf3_fB",
        "outputId": "f5b70129-9544-4f08-fc0c-5ecc37e661b6"
      },
      "source": [
        "a = [\"you\", \"much\", \"hard\"]\n",
        "b = [\"i\", \"you\", \"he\"]\n",
        "c = [\"love\", \"ate\", \"works\"]\n",
        "\n",
        "func = (lambda x, y, z : x + \" \" + y + \" \" + z) \n",
        "new = list(map(func, b, c, a))\n",
        "print(new)\n",
        "\n",
        "new2 = map(print, new)   ###  Dikkat: Burada map func icerisine print func koyduk\n",
        "next(new2)\n",
        "next(new2)\n",
        "next(new2)"
      ],
      "execution_count": 21,
      "outputs": [
        {
          "output_type": "stream",
          "name": "stdout",
          "text": [
            "['i love you', 'you ate much', 'he works hard']\n",
            "i love you\n",
            "you ate much\n",
            "he works hard\n"
          ]
        }
      ]
    },
    {
      "cell_type": "code",
      "metadata": {
        "id": "6howshQiyULV"
      },
      "source": [
        ""
      ],
      "execution_count": null,
      "outputs": []
    },
    {
      "cell_type": "code",
      "metadata": {
        "id": "3bxNPOUvqo5b"
      },
      "source": [
        ""
      ],
      "execution_count": null,
      "outputs": []
    },
    {
      "cell_type": "code",
      "metadata": {
        "id": "mXbzFY9sqo73"
      },
      "source": [
        ""
      ],
      "execution_count": null,
      "outputs": []
    },
    {
      "cell_type": "code",
      "metadata": {
        "id": "USVKVBGuqo-V"
      },
      "source": [
        ""
      ],
      "execution_count": null,
      "outputs": []
    },
    {
      "cell_type": "code",
      "metadata": {
        "id": "fhYr3Q7eqpAf"
      },
      "source": [
        ""
      ],
      "execution_count": null,
      "outputs": []
    },
    {
      "cell_type": "code",
      "metadata": {
        "colab": {
          "base_uri": "https://localhost:8080/"
        },
        "id": "ysVl4ha_4T8E",
        "outputId": "6e3f2091-0925-4a8f-9fe3-589cc1936b1f"
      },
      "source": [
        "lambda x: \"odd\" if x % 2 != 0 else even"
      ],
      "execution_count": null,
      "outputs": [
        {
          "output_type": "execute_result",
          "data": {
            "text/plain": [
              "<function __main__.<lambda>>"
            ]
          },
          "metadata": {},
          "execution_count": 2
        }
      ]
    },
    {
      "cell_type": "code",
      "metadata": {
        "colab": {
          "base_uri": "https://localhost:8080/",
          "height": 36
        },
        "id": "wtan2wP14T-Z",
        "outputId": "e3eeeb30-22c7-4fb2-e464-3755f14ee2ef"
      },
      "source": [
        "(lambda x: \"odd\" if x % 2 != 0 else \"even\")(2)"
      ],
      "execution_count": null,
      "outputs": [
        {
          "output_type": "execute_result",
          "data": {
            "application/vnd.google.colaboratory.intrinsic+json": {
              "type": "string"
            },
            "text/plain": [
              "'even'"
            ]
          },
          "metadata": {},
          "execution_count": 4
        }
      ]
    },
    {
      "cell_type": "code",
      "metadata": {
        "colab": {
          "base_uri": "https://localhost:8080/",
          "height": 36
        },
        "id": "mSZh3BsF4UB3",
        "outputId": "ec72d358-9c6b-4d82-ca85-e31e85c0238e"
      },
      "source": [
        "(lambda x: \"odd\" if x % 2 != 0 else \"even\")(3)"
      ],
      "execution_count": null,
      "outputs": [
        {
          "output_type": "execute_result",
          "data": {
            "application/vnd.google.colaboratory.intrinsic+json": {
              "type": "string"
            },
            "text/plain": [
              "'odd'"
            ]
          },
          "metadata": {},
          "execution_count": 5
        }
      ]
    },
    {
      "cell_type": "code",
      "metadata": {
        "id": "CCOpNUnz4UG8"
      },
      "source": [
        "(lambda x: list(x).reverse())(\"ali\")"
      ],
      "execution_count": null,
      "outputs": []
    },
    {
      "cell_type": "code",
      "metadata": {
        "colab": {
          "base_uri": "https://localhost:8080/",
          "height": 169
        },
        "id": "rIOck7KA4UKF",
        "outputId": "3b2c33bf-1a69-4f02-d5b8-d48507aa1c83"
      },
      "source": [
        "\"ali\".reverse()"
      ],
      "execution_count": null,
      "outputs": [
        {
          "output_type": "error",
          "ename": "AttributeError",
          "evalue": "ignored",
          "traceback": [
            "\u001b[0;31m---------------------------------------------------------------------------\u001b[0m",
            "\u001b[0;31mAttributeError\u001b[0m                            Traceback (most recent call last)",
            "\u001b[0;32m<ipython-input-12-4f2d642d7996>\u001b[0m in \u001b[0;36m<module>\u001b[0;34m()\u001b[0m\n\u001b[0;32m----> 1\u001b[0;31m \u001b[0;34m\"ali\"\u001b[0m\u001b[0;34m.\u001b[0m\u001b[0mreverse\u001b[0m\u001b[0;34m(\u001b[0m\u001b[0;34m)\u001b[0m\u001b[0;34m\u001b[0m\u001b[0;34m\u001b[0m\u001b[0m\n\u001b[0m",
            "\u001b[0;31mAttributeError\u001b[0m: 'str' object has no attribute 'reverse'"
          ]
        }
      ]
    },
    {
      "cell_type": "code",
      "metadata": {
        "colab": {
          "base_uri": "https://localhost:8080/"
        },
        "id": "4n0_7ghh4UMh",
        "outputId": "25261c45-74bb-401a-f763-793142ab7fa6"
      },
      "source": [
        "print((lambda a, b: (a + b) / 2)(3, 5))"
      ],
      "execution_count": null,
      "outputs": [
        {
          "output_type": "stream",
          "name": "stdout",
          "text": [
            "4.0\n"
          ]
        }
      ]
    },
    {
      "cell_type": "code",
      "metadata": {
        "colab": {
          "base_uri": "https://localhost:8080/",
          "height": 133
        },
        "id": "cas2wwzf8b_8",
        "outputId": "d1b6b190-089f-439e-849f-41ffb667c1c3"
      },
      "source": [
        "sayilar = [1,2,3,4]\n",
        "\n",
        "(lambda x: \"cift\" if x % 2 == 0 else \"tek\" for i in x)(sayilar) "
      ],
      "execution_count": null,
      "outputs": [
        {
          "output_type": "error",
          "ename": "SyntaxError",
          "evalue": "ignored",
          "traceback": [
            "\u001b[0;36m  File \u001b[0;32m\"<ipython-input-30-473c568440c8>\"\u001b[0;36m, line \u001b[0;32m3\u001b[0m\n\u001b[0;31m    (lambda x: for i in x \"cift\" if x % 2 == 0 else \"tek\")(sayilar)\u001b[0m\n\u001b[0m                 ^\u001b[0m\n\u001b[0;31mSyntaxError\u001b[0m\u001b[0;31m:\u001b[0m invalid syntax\n"
          ]
        }
      ]
    },
    {
      "cell_type": "code",
      "metadata": {
        "colab": {
          "base_uri": "https://localhost:8080/"
        },
        "id": "0Vue6fHc8cCN",
        "outputId": "8cdeeaac-1fa8-4a42-9837-b899046342b6"
      },
      "source": [
        "for a in sayilar:\n",
        "  print((lambda x: \"odd\" if x % 2 != 0 else \"even\")(a))"
      ],
      "execution_count": null,
      "outputs": [
        {
          "output_type": "stream",
          "name": "stdout",
          "text": [
            "odd\n",
            "even\n",
            "odd\n",
            "even\n"
          ]
        }
      ]
    },
    {
      "cell_type": "code",
      "metadata": {
        "colab": {
          "base_uri": "https://localhost:8080/"
        },
        "id": "mipBnhZm8cEb",
        "outputId": "d71e1c4b-9dd3-422a-9fdf-5d4de338c231"
      },
      "source": [
        "average = lambda x, y: (x + y) / 2\n",
        "\n",
        "print(average(3, 5))"
      ],
      "execution_count": null,
      "outputs": [
        {
          "output_type": "stream",
          "name": "stdout",
          "text": [
            "4.0\n"
          ]
        }
      ]
    },
    {
      "cell_type": "code",
      "metadata": {
        "colab": {
          "base_uri": "https://localhost:8080/"
        },
        "id": "Q8NtXOSM8cGL",
        "outputId": "6e348e04-a36e-4568-a89a-325d0dd120ae"
      },
      "source": [
        "a = lambda x, y: x * y\n",
        "\n",
        "print(a(5, 10))"
      ],
      "execution_count": null,
      "outputs": [
        {
          "output_type": "stream",
          "name": "stdout",
          "text": [
            "50\n"
          ]
        }
      ]
    },
    {
      "cell_type": "code",
      "metadata": {
        "colab": {
          "base_uri": "https://localhost:8080/"
        },
        "id": "imBRAseR4UPT",
        "outputId": "13997d24-b232-419b-9b13-2ec21019c0c2"
      },
      "source": [
        "fonksiyon = lambda x: x ** 2\n",
        "\n",
        "sonuc = map(fonksiyon, [1, 2, 3])\n",
        "\n",
        "print(*sonuc)"
      ],
      "execution_count": null,
      "outputs": [
        {
          "output_type": "stream",
          "name": "stdout",
          "text": [
            "1 4 9\n"
          ]
        }
      ]
    },
    {
      "cell_type": "code",
      "metadata": {
        "colab": {
          "base_uri": "https://localhost:8080/"
        },
        "id": "2w7IhWPcArTC",
        "outputId": "cf72eece-217e-4d21-8e53-af8b732cc7ce"
      },
      "source": [
        "fonk = (lambda x: x * \"ali\")\n",
        "\n",
        "print(*map(fonk, [1, 2, 3, 4, 5, 6, 7]), sep = \"\\n\")"
      ],
      "execution_count": null,
      "outputs": [
        {
          "output_type": "stream",
          "name": "stdout",
          "text": [
            "ali\n",
            "aliali\n",
            "alialiali\n",
            "alialialiali\n",
            "alialialialiali\n",
            "alialialialialiali\n",
            "alialialialialialiali\n"
          ]
        }
      ]
    },
    {
      "cell_type": "code",
      "metadata": {
        "colab": {
          "base_uri": "https://localhost:8080/"
        },
        "id": "QSFKhfFkArVb",
        "outputId": "6117638b-6132-459f-86ff-a7c44d3417ba"
      },
      "source": [
        "fonk = (lambda x: x * \"ali\")\n",
        "\n",
        "print(list(map(fonk, [1, 2, 3, 4, 5, 6, 7])))"
      ],
      "execution_count": null,
      "outputs": [
        {
          "output_type": "stream",
          "name": "stdout",
          "text": [
            "['ali', 'aliali', 'alialiali', 'alialialiali', 'alialialialiali', 'alialialialialiali', 'alialialialialialiali']\n"
          ]
        }
      ]
    },
    {
      "cell_type": "code",
      "metadata": {
        "id": "qzNElvalArZ3"
      },
      "source": [
        "def kare(b):\n",
        "  return b ** 2\n",
        "\n",
        "sonuc2 = list(map(kare, [1, 2, 3, 4, 5]))"
      ],
      "execution_count": null,
      "outputs": []
    },
    {
      "cell_type": "code",
      "metadata": {
        "colab": {
          "base_uri": "https://localhost:8080/",
          "height": 36
        },
        "id": "O3cI5knGArcK",
        "outputId": "20fb0945-5768-413f-a998-b9b3141b41ca"
      },
      "source": [
        "topla = lambda x, y, z: x + y + z \n",
        "\n",
        "topla(\"a\", \"l\", \"i\")\n",
        "\n",
        "# degiskeni func gibi kullandik"
      ],
      "execution_count": null,
      "outputs": [
        {
          "output_type": "execute_result",
          "data": {
            "application/vnd.google.colaboratory.intrinsic+json": {
              "type": "string"
            },
            "text/plain": [
              "'ali'"
            ]
          },
          "metadata": {},
          "execution_count": 49
        }
      ]
    },
    {
      "cell_type": "code",
      "metadata": {
        "colab": {
          "base_uri": "https://localhost:8080/",
          "height": 240
        },
        "id": "5ExCnreSAriW",
        "outputId": "cda31acf-a57e-463c-9452-836c423fd74b"
      },
      "source": [
        "a = [\"o\"]\n",
        "b = [\"n\"]\n",
        "c = [\"e\"]\n",
        "\n",
        "sonuc = (map(lambda x, y, z: x + y + z))\n",
        "\n",
        "print(list(sonuc(a, b, c)))"
      ],
      "execution_count": null,
      "outputs": [
        {
          "output_type": "error",
          "ename": "TypeError",
          "evalue": "ignored",
          "traceback": [
            "\u001b[0;31m---------------------------------------------------------------------------\u001b[0m",
            "\u001b[0;31mTypeError\u001b[0m                                 Traceback (most recent call last)",
            "\u001b[0;32m<ipython-input-53-f831310456a9>\u001b[0m in \u001b[0;36m<module>\u001b[0;34m()\u001b[0m\n\u001b[1;32m      3\u001b[0m \u001b[0mc\u001b[0m \u001b[0;34m=\u001b[0m \u001b[0;34m[\u001b[0m\u001b[0;34m\"e\"\u001b[0m\u001b[0;34m]\u001b[0m\u001b[0;34m\u001b[0m\u001b[0;34m\u001b[0m\u001b[0m\n\u001b[1;32m      4\u001b[0m \u001b[0;34m\u001b[0m\u001b[0m\n\u001b[0;32m----> 5\u001b[0;31m \u001b[0msonuc\u001b[0m \u001b[0;34m=\u001b[0m \u001b[0;34m(\u001b[0m\u001b[0mmap\u001b[0m\u001b[0;34m(\u001b[0m\u001b[0;32mlambda\u001b[0m \u001b[0mx\u001b[0m\u001b[0;34m,\u001b[0m \u001b[0my\u001b[0m\u001b[0;34m,\u001b[0m \u001b[0mz\u001b[0m\u001b[0;34m:\u001b[0m \u001b[0mx\u001b[0m \u001b[0;34m+\u001b[0m \u001b[0my\u001b[0m \u001b[0;34m+\u001b[0m \u001b[0mz\u001b[0m\u001b[0;34m)\u001b[0m\u001b[0;34m)\u001b[0m\u001b[0;34m\u001b[0m\u001b[0;34m\u001b[0m\u001b[0m\n\u001b[0m\u001b[1;32m      6\u001b[0m \u001b[0;34m\u001b[0m\u001b[0m\n\u001b[1;32m      7\u001b[0m \u001b[0mprint\u001b[0m\u001b[0;34m(\u001b[0m\u001b[0mlist\u001b[0m\u001b[0;34m(\u001b[0m\u001b[0msonuc\u001b[0m\u001b[0;34m(\u001b[0m\u001b[0ma\u001b[0m\u001b[0;34m,\u001b[0m \u001b[0mb\u001b[0m\u001b[0;34m,\u001b[0m \u001b[0mc\u001b[0m\u001b[0;34m)\u001b[0m\u001b[0;34m)\u001b[0m\u001b[0;34m)\u001b[0m\u001b[0;34m\u001b[0m\u001b[0;34m\u001b[0m\u001b[0m\n",
            "\u001b[0;31mTypeError\u001b[0m: map() must have at least two arguments."
          ]
        }
      ]
    },
    {
      "cell_type": "code",
      "metadata": {
        "colab": {
          "base_uri": "https://localhost:8080/"
        },
        "id": "LTCEl-0lArkc",
        "outputId": "6323cfff-abd3-4fee-a235-8626aaef52cb"
      },
      "source": [
        "num1 = [9, 6, 7, 4]\n",
        "num2 = [3, 6, 5, 8]\n",
        "\n",
        "func = lambda x, y: (x + y) / 2\n",
        "numbers = map(func, num1, num2)\n",
        "\n",
        "print(list(numbers))"
      ],
      "execution_count": null,
      "outputs": [
        {
          "output_type": "stream",
          "name": "stdout",
          "text": [
            "[6.0, 6.0, 6.0, 6.0]\n"
          ]
        }
      ]
    },
    {
      "cell_type": "code",
      "metadata": {
        "colab": {
          "base_uri": "https://localhost:8080/"
        },
        "id": "MH8DsPEnArmN",
        "outputId": "29d682e8-53f7-4fae-a156-2d202806842b"
      },
      "source": [
        "w1 = [\"you\", \"much\", \"hard\"]\n",
        "w2 = [\"i\", \"you\", \"he\"]\n",
        "w3 = [\"love\", \"ate\", \"works\"]\n",
        "\n",
        "func = lambda x, y, z: x + \" \" + y + \" \" + z\n",
        "new = map(func, w2, w3, w1)\n",
        "\n",
        "print(*new)"
      ],
      "execution_count": null,
      "outputs": [
        {
          "output_type": "stream",
          "name": "stdout",
          "text": [
            "i love you you ate much he works hard\n"
          ]
        }
      ]
    },
    {
      "cell_type": "code",
      "metadata": {
        "colab": {
          "base_uri": "https://localhost:8080/"
        },
        "id": "iqjrZbyc4USm",
        "outputId": "9e20feb3-b704-47e6-b62f-7c21833404e2"
      },
      "source": [
        "a = [1, 2, 3, 4]\n",
        "\n",
        "even = filter((lambda x: x % 2 == 0), a)\n",
        "\n",
        "print(*even)"
      ],
      "execution_count": null,
      "outputs": [
        {
          "output_type": "stream",
          "name": "stdout",
          "text": [
            "2 4\n"
          ]
        }
      ]
    },
    {
      "cell_type": "code",
      "metadata": {
        "colab": {
          "base_uri": "https://localhost:8080/"
        },
        "id": "gRxjYvRtJoQx",
        "outputId": "dda36083-9253-4f2a-d9b3-1aa41ad84f68"
      },
      "source": [
        "words = [\"apple\", \"swim\", \"clock\", \"me\", \"kiwi\", \"banana\"]\n",
        "\n",
        "func = (lambda x: len(x) < 5)\n",
        "\n",
        "print(*filter(func,words))"
      ],
      "execution_count": null,
      "outputs": [
        {
          "output_type": "stream",
          "name": "stdout",
          "text": [
            "swim me kiwi\n"
          ]
        }
      ]
    },
    {
      "cell_type": "code",
      "metadata": {
        "colab": {
          "base_uri": "https://localhost:8080/"
        },
        "id": "5DcHVUZoJoUN",
        "outputId": "5a3f74e8-d22e-435e-b0dc-5c36e01a2c41"
      },
      "source": [
        "words = [\"apple\", \"swim\", \"clock\", \"me\", \"kiwi\", \"banana\"]\n",
        "\n",
        "for i in filter(lambda x: len(x) < 5, words):\n",
        "  print(i)"
      ],
      "execution_count": null,
      "outputs": [
        {
          "output_type": "stream",
          "name": "stdout",
          "text": [
            "swim\n",
            "me\n",
            "kiwi\n"
          ]
        }
      ]
    },
    {
      "cell_type": "code",
      "metadata": {
        "colab": {
          "base_uri": "https://localhost:8080/"
        },
        "id": "zcJ-UXUmJoY0",
        "outputId": "2a244936-a30f-45f0-8f3d-d77ed6debe66"
      },
      "source": [
        "vowel_list = ['a', 'e', 'i', 'o', 'u']\n",
        "first_ten = ['a', 'b', 'c', 'd', 'e', 'f', 'g', 'h', 'i', 'j']\n",
        "\n",
        "vowels = filter((lambda x: x in vowel_list), first_ten)\n",
        "\n",
        "print(list(vowels))"
      ],
      "execution_count": null,
      "outputs": [
        {
          "output_type": "stream",
          "name": "stdout",
          "text": [
            "['a', 'e', 'i']\n"
          ]
        }
      ]
    },
    {
      "cell_type": "code",
      "metadata": {
        "id": "sBiR_jZ4Joc8"
      },
      "source": [
        "def modular(n):\n",
        "  return lambda x: x ** n\n",
        "\n"
      ],
      "execution_count": null,
      "outputs": []
    },
    {
      "cell_type": "code",
      "metadata": {
        "colab": {
          "base_uri": "https://localhost:8080/"
        },
        "id": "mayfqxW-JohW",
        "outputId": "259a3526-95a5-4f19-b7d1-fbd723c9ceda"
      },
      "source": [
        "def modular(n):\n",
        "  return lambda x: x ** n\n",
        "\n",
        "karesinial = modular(2)\n",
        "\n",
        "karesinial  ##  bu object döndürür\n",
        "\n",
        "print(karesinial(3))\n",
        "\n",
        "küpünüal = modular(3)\n",
        "print(küpünüal(2))\n",
        "\n"
      ],
      "execution_count": null,
      "outputs": [
        {
          "output_type": "stream",
          "name": "stdout",
          "text": [
            "9\n",
            "8\n"
          ]
        }
      ]
    },
    {
      "cell_type": "code",
      "metadata": {
        "colab": {
          "base_uri": "https://localhost:8080/"
        },
        "id": "GC6CLvtCJola",
        "outputId": "500725a1-921e-42d0-f93e-24d9585ad26a"
      },
      "source": [
        "lambda x : print(x, \":)\")(\"ali\")"
      ],
      "execution_count": null,
      "outputs": [
        {
          "output_type": "execute_result",
          "data": {
            "text/plain": [
              "<function __main__.<lambda>>"
            ]
          },
          "metadata": {},
          "execution_count": 85
        }
      ]
    },
    {
      "cell_type": "code",
      "metadata": {
        "id": "-65HxCD4JopX"
      },
      "source": [
        "lambda x : print(x, \":(\")(\"ali\")"
      ],
      "execution_count": null,
      "outputs": []
    },
    {
      "cell_type": "code",
      "metadata": {
        "id": "fpLZbdH5JotB"
      },
      "source": [
        "lambda x : print(x, \":|\")(\"ali\")"
      ],
      "execution_count": null,
      "outputs": []
    },
    {
      "cell_type": "code",
      "metadata": {
        "colab": {
          "base_uri": "https://localhost:8080/"
        },
        "id": "fZyhKpwBJoxA",
        "outputId": "a124ff16-0725-4c63-8859-30388a5285f7"
      },
      "source": [
        "def functioner(emoji):\n",
        "  return lambda x : print(x, emoji)\n",
        "\n",
        "myPrint_smile = functioner(\":)\")\n",
        "myPrint_sad = functioner(\":(\")\n",
        "myPrint_neutral = functioner(\":|\")\n",
        "\n",
        "myPrint_sad(\"hello\")"
      ],
      "execution_count": null,
      "outputs": [
        {
          "output_type": "stream",
          "name": "stdout",
          "text": [
            "hello :(\n"
          ]
        }
      ]
    },
    {
      "cell_type": "code",
      "metadata": {
        "id": "OEyE2339Zj4W"
      },
      "source": [
        "def ali_print(x):\n",
        "  "
      ],
      "execution_count": null,
      "outputs": []
    },
    {
      "cell_type": "code",
      "metadata": {
        "colab": {
          "base_uri": "https://localhost:8080/"
        },
        "id": "mYz7ZwQdZj72",
        "outputId": "9ed5bf40-fe71-4168-a4ef-5cd3fd8845d2"
      },
      "source": [
        "def function_generator(function_name):\n",
        "  return lambda x: function_name(x)\n",
        "\n",
        "tarikmax = function_generator(max)\n",
        "tariksorted = function_generator(sorted)\n",
        "\n",
        "tarikmax((2, 1, 23))"
      ],
      "execution_count": null,
      "outputs": [
        {
          "output_type": "execute_result",
          "data": {
            "text/plain": [
              "23"
            ]
          },
          "metadata": {},
          "execution_count": 100
        }
      ]
    },
    {
      "cell_type": "code",
      "metadata": {
        "colab": {
          "base_uri": "https://localhost:8080/"
        },
        "id": "Ri15bP1mZkAe",
        "outputId": "4566f8ec-8692-4865-b03f-c24d4a66b9ea"
      },
      "source": [
        "def benimfonk(n) :\n",
        "  return lambda x : n(x)\n",
        "\n",
        "a = benimfonk(str)\n",
        "b = benimfonk(list)\n",
        "c = benimfonk(bool)\n",
        "d = benimfonk(tuple)\n",
        "\n",
        "print(a(\"tarik\"))\n",
        "print(b(\"tarik\"))\n",
        "print(c(\"tarik\"))\n",
        "print(d(\"tarik\"))"
      ],
      "execution_count": null,
      "outputs": [
        {
          "output_type": "stream",
          "name": "stdout",
          "text": [
            "tarik\n",
            "['t', 'a', 'r', 'i', 'k']\n",
            "True\n",
            "('t', 'a', 'r', 'i', 'k')\n"
          ]
        }
      ]
    },
    {
      "cell_type": "code",
      "metadata": {
        "colab": {
          "base_uri": "https://localhost:8080/"
        },
        "id": "wj3sc-abATKv",
        "outputId": "3b524b02-b39d-4fc2-fb73-fe257f06b218"
      },
      "source": [
        "def tarik(n):   ## parametre \n",
        "  print(n + 2)\n",
        "\n",
        "tarik(12345)   ## argument "
      ],
      "execution_count": null,
      "outputs": [
        {
          "output_type": "stream",
          "name": "stdout",
          "text": [
            "12347\n"
          ]
        }
      ]
    },
    {
      "cell_type": "code",
      "metadata": {
        "id": "53iH5pywATUH"
      },
      "source": [
        ""
      ],
      "execution_count": null,
      "outputs": []
    },
    {
      "cell_type": "code",
      "metadata": {
        "id": "1XyTB9JlZkEc"
      },
      "source": [
        "myMax = function_generator(max)\n",
        "myBool = function_generator(bool)\n",
        "mySorted = function_generator(sorted)\n",
        "\n",
        "myBool(3)\n",
        "\n",
        "mySorted([3, 2, 1])"
      ],
      "execution_count": null,
      "outputs": []
    },
    {
      "cell_type": "code",
      "metadata": {
        "id": "3nwrBZfuZkH1",
        "colab": {
          "base_uri": "https://localhost:8080/"
        },
        "outputId": "f56c379d-4633-4ac0-b9c1-f9c0fb35bf5a"
      },
      "source": [
        "sehir = lambda x, y : (x , y)\n",
        "\n",
        "print(sehir(\"5\", \"5\"))"
      ],
      "execution_count": null,
      "outputs": [
        {
          "output_type": "stream",
          "name": "stdout",
          "text": [
            "('5', '5')\n"
          ]
        }
      ]
    },
    {
      "cell_type": "code",
      "metadata": {
        "id": "KzGkOXOZZkLU",
        "colab": {
          "base_uri": "https://localhost:8080/"
        },
        "outputId": "0408a4d8-f712-462e-e008-5fcffefceb45"
      },
      "source": [
        "sehir = lambda x, y : max(x, y)\n",
        "print(sehir(2, 3))"
      ],
      "execution_count": null,
      "outputs": [
        {
          "output_type": "stream",
          "name": "stdout",
          "text": [
            "3\n"
          ]
        }
      ]
    },
    {
      "cell_type": "code",
      "metadata": {
        "colab": {
          "base_uri": "https://localhost:8080/"
        },
        "id": "fwjO_xP0FI9c",
        "outputId": "1d330164-843b-47b5-aa7d-1d789c424949"
      },
      "source": [
        "max(3, 5)"
      ],
      "execution_count": null,
      "outputs": [
        {
          "output_type": "execute_result",
          "data": {
            "text/plain": [
              "5"
            ]
          },
          "metadata": {},
          "execution_count": 43
        }
      ]
    },
    {
      "cell_type": "code",
      "metadata": {
        "colab": {
          "base_uri": "https://localhost:8080/"
        },
        "id": "rxueEOl4FI_5",
        "outputId": "09e9a274-dc35-4dc0-e8f5-111cc940279f"
      },
      "source": [
        "print(2)"
      ],
      "execution_count": null,
      "outputs": [
        {
          "output_type": "stream",
          "name": "stdout",
          "text": [
            "2\n"
          ]
        }
      ]
    },
    {
      "cell_type": "code",
      "metadata": {
        "colab": {
          "base_uri": "https://localhost:8080/"
        },
        "id": "lL0pnLmQFJBy",
        "outputId": "e8834289-1cfd-42b5-f542-422a0c77ec6b"
      },
      "source": [
        "max(2, 3)"
      ],
      "execution_count": null,
      "outputs": [
        {
          "output_type": "execute_result",
          "data": {
            "text/plain": [
              "3"
            ]
          },
          "metadata": {},
          "execution_count": 50
        }
      ]
    },
    {
      "cell_type": "code",
      "metadata": {
        "id": "X_F9hUdCIQyE"
      },
      "source": [
        ""
      ],
      "execution_count": null,
      "outputs": []
    },
    {
      "cell_type": "code",
      "metadata": {
        "id": "Z3aoGCZWIQ0G"
      },
      "source": [
        ""
      ],
      "execution_count": null,
      "outputs": []
    },
    {
      "cell_type": "code",
      "metadata": {
        "colab": {
          "base_uri": "https://localhost:8080/"
        },
        "id": "nvmASIgTIQ1z",
        "outputId": "754617b4-9729-4e2f-a643-324b9dadc36d"
      },
      "source": [
        "def sehir(a, b):\n",
        "  return lambda x, y : (a(x), b(y))\n",
        "\n",
        "ege = sehir(list, tuple)\n",
        "\n",
        "print(ege(\"ankara\", \"istanbul\"))"
      ],
      "execution_count": null,
      "outputs": [
        {
          "output_type": "stream",
          "name": "stdout",
          "text": [
            "(['a', 'n', 'k', 'a', 'r', 'a'], ('i', 's', 't', 'a', 'n', 'b', 'u', 'l'))\n"
          ]
        }
      ]
    },
    {
      "cell_type": "code",
      "metadata": {
        "id": "kz_c5pfIIQ4w"
      },
      "source": [
        ""
      ],
      "execution_count": null,
      "outputs": []
    },
    {
      "cell_type": "code",
      "metadata": {
        "colab": {
          "base_uri": "https://localhost:8080/"
        },
        "id": "64D0o7ehIQ7N",
        "outputId": "e48801a5-fb4d-4eb3-eefc-265edfdae315"
      },
      "source": [
        "def sayi(i, f):\n",
        "  return lambda x, y : (i(x), f(y))\n",
        "\n",
        "ege = sayi(int, float)\n",
        "ege(12345, 12345)"
      ],
      "execution_count": null,
      "outputs": [
        {
          "output_type": "execute_result",
          "data": {
            "text/plain": [
              "(12345, 12345.0)"
            ]
          },
          "metadata": {},
          "execution_count": 67
        }
      ]
    },
    {
      "cell_type": "code",
      "metadata": {
        "colab": {
          "base_uri": "https://localhost:8080/"
        },
        "id": "p3J4owZ9IQ9W",
        "outputId": "8bca1620-85be-409b-d195-d0696882681f"
      },
      "source": [
        "def ben(a):\n",
        "  return a\n",
        "\n",
        "ben(4)"
      ],
      "execution_count": null,
      "outputs": [
        {
          "output_type": "execute_result",
          "data": {
            "text/plain": [
              "4"
            ]
          },
          "metadata": {},
          "execution_count": 65
        }
      ]
    },
    {
      "cell_type": "code",
      "metadata": {
        "colab": {
          "base_uri": "https://localhost:8080/",
          "height": 133
        },
        "id": "J86WelSCIQ_S",
        "outputId": "0d6ab5af-033c-4295-d99c-994df4776318"
      },
      "source": [
        "from google.colab import drive\n",
        "drive\n"
      ],
      "execution_count": null,
      "outputs": [
        {
          "output_type": "error",
          "ename": "SyntaxError",
          "evalue": "ignored",
          "traceback": [
            "\u001b[0;36m  File \u001b[0;32m\"<ipython-input-10-4450d4de88ef>\"\u001b[0;36m, line \u001b[0;32m1\u001b[0m\n\u001b[0;31m    from content import üstklasör.my_package1\u001b[0m\n\u001b[0m                                 ^\u001b[0m\n\u001b[0;31mSyntaxError\u001b[0m\u001b[0;31m:\u001b[0m invalid syntax\n"
          ]
        }
      ]
    },
    {
      "cell_type": "code",
      "metadata": {
        "id": "k4b4Uq_zQHa9"
      },
      "source": [
        ""
      ],
      "execution_count": null,
      "outputs": []
    }
  ]
}