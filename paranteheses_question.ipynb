{
  "nbformat": 4,
  "nbformat_minor": 0,
  "metadata": {
    "colab": {
      "name": "paranteheses question.ipynb",
      "provenance": [],
      "collapsed_sections": [],
      "authorship_tag": "ABX9TyNgtEtH5afGwgBMJ1M9dwXr",
      "include_colab_link": true
    },
    "kernelspec": {
      "name": "python3",
      "display_name": "Python 3"
    },
    "language_info": {
      "name": "python"
    }
  },
  "cells": [
    {
      "cell_type": "markdown",
      "metadata": {
        "id": "view-in-github",
        "colab_type": "text"
      },
      "source": [
        "<a href=\"https://colab.research.google.com/github/tariksitki/My_Colab_Python_Works/blob/main/paranteheses_question.ipynb\" target=\"_parent\"><img src=\"https://colab.research.google.com/assets/colab-badge.svg\" alt=\"Open In Colab\"/></a>"
      ]
    },
    {
      "cell_type": "code",
      "execution_count": null,
      "metadata": {
        "id": "8n7zneAYKXg2"
      },
      "outputs": [],
      "source": [
        "## parantezlerin birbiri ile uyumlulugu ayni ise True\n",
        "# yanlis ise False versin.\n",
        "\n",
        "# bos  string de true versin"
      ]
    },
    {
      "cell_type": "code",
      "source": [
        "## ([{()}])  True\n",
        "## ([))       False"
      ],
      "metadata": {
        "id": "xJT1ytgTKjIA"
      },
      "execution_count": null,
      "outputs": []
    },
    {
      "cell_type": "code",
      "source": [
        "# ([{({})}]({}))"
      ],
      "metadata": {
        "id": "NmyAoXYOKjKW"
      },
      "execution_count": null,
      "outputs": []
    },
    {
      "cell_type": "code",
      "source": [
        "## Bu soruyu cözmenin birden cok yöntemi vardir\n",
        "## Birinci yöntem icten baslayarak ve dogru acilip kapanmis\n",
        "# parantezleri silerek gitmektir\n",
        "\n",
        "# sile sile gittigimizde en son bos stringe \n",
        "# ulasiyorsak bu True due"
      ],
      "metadata": {
        "id": "YiKAJJtAKjMc"
      },
      "execution_count": null,
      "outputs": []
    },
    {
      "cell_type": "code",
      "source": [
        "## replace calisma prensibi:\n",
        "\n",
        "\"ali- veli- deli\".replace(\"ali\", \"\")"
      ],
      "metadata": {
        "colab": {
          "base_uri": "https://localhost:8080/",
          "height": 36
        },
        "id": "UbMmvrWVKjOg",
        "outputId": "bd6c6a30-4d31-4b89-bad3-4596ae903385"
      },
      "execution_count": 1,
      "outputs": [
        {
          "output_type": "execute_result",
          "data": {
            "application/vnd.google.colaboratory.intrinsic+json": {
              "type": "string"
            },
            "text/plain": [
              "'- veli- deli'"
            ]
          },
          "metadata": {},
          "execution_count": 1
        }
      ]
    },
    {
      "cell_type": "code",
      "source": [
        "def isvalid(s):\n",
        "  while \"()\" in s or \"[]\" in s or \"{}\" in s:\n",
        "    s = s.replace(\"()\", \"\").replace(\"{}\", \"\").replace(\"[]\", \"\")\n",
        "    print(s)      ## kac iteration da sildigini görmek icin prinet edelim\n",
        "  if s == \"\":\n",
        "    print(\"True\")\n",
        "  else:\n",
        "    print(\"False\")\n",
        "isvalid(\"([{({})}]({}))\")"
      ],
      "metadata": {
        "colab": {
          "base_uri": "https://localhost:8080/"
        },
        "id": "vdkRny9KQbYp",
        "outputId": "8b04e956-076e-4f98-9d64-962ea5050e18"
      },
      "execution_count": 6,
      "outputs": [
        {
          "output_type": "stream",
          "name": "stdout",
          "text": [
            "([{()}]())\n",
            "()\n",
            "\n",
            "True\n"
          ]
        }
      ]
    },
    {
      "cell_type": "code",
      "source": [
        "## if'siz yapi\n",
        "\n",
        "## fonk cagirirken yazdigimiz parantezleri\n",
        "# bosluk birakarak yazarsak sonuc false cikar\n",
        "\n",
        "def isvalid(s):\n",
        "  while \"()\" in s or \"[]\" in s or \"{}\" in s:\n",
        "    s = s.replace(\"()\", \"\").replace(\"{}\", \"\").replace(\"[]\", \"\")\n",
        "    print(s)      ## kac iteration da sildigini görmek icin prinet edelim\n",
        "  return s == \"\"\n",
        "isvalid(\"([])[{}](()){[{[{[{[]}]}]}]}((((())))){{{{}}}}\")"
      ],
      "metadata": {
        "colab": {
          "base_uri": "https://localhost:8080/"
        },
        "id": "rXA6YqnQQbbF",
        "outputId": "57eb479f-c65f-4ddd-b9fb-bdb22d89e971"
      },
      "execution_count": 14,
      "outputs": [
        {
          "output_type": "stream",
          "name": "stdout",
          "text": [
            "()(){[{[{[{}]}]}]}(((()))){{{}}}\n",
            "{[{[{}]}]}((())){{}}\n",
            "{[{}]}(()){}\n",
            "{}()\n",
            "\n"
          ]
        },
        {
          "output_type": "execute_result",
          "data": {
            "text/plain": [
              "True"
            ]
          },
          "metadata": {},
          "execution_count": 14
        }
      ]
    },
    {
      "cell_type": "code",
      "source": [
        "## Not: while da bir kosul kullandigimiz icin break kullanmamiza gerek\n",
        "# yoktur. Eger True yazsaydik o zaman break'e ihtiyacimiz olacakti"
      ],
      "metadata": {
        "id": "GA8X1RPFQbeC"
      },
      "execution_count": 11,
      "outputs": []
    }
  ]
}