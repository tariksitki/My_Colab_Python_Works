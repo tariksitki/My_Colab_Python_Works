{
  "nbformat": 4,
  "nbformat_minor": 0,
  "metadata": {
    "colab": {
      "name": "packages and modules.ipynb",
      "provenance": [],
      "collapsed_sections": [],
      "authorship_tag": "ABX9TyN49EmppIRG/LSh5er3IyqL",
      "include_colab_link": true
    },
    "kernelspec": {
      "name": "python3",
      "display_name": "Python 3"
    },
    "language_info": {
      "name": "python"
    }
  },
  "cells": [
    {
      "cell_type": "markdown",
      "metadata": {
        "id": "view-in-github",
        "colab_type": "text"
      },
      "source": [
        "<a href=\"https://colab.research.google.com/github/tariksitki/My_Colab_Python_Works/blob/main/packages_and_modules.ipynb\" target=\"_parent\"><img src=\"https://colab.research.google.com/assets/colab-badge.svg\" alt=\"Open In Colab\"/></a>"
      ]
    },
    {
      "cell_type": "code",
      "metadata": {
        "id": "FZ8VU-HXaipR"
      },
      "source": [
        "#############  packages and modules          # ###################"
      ],
      "execution_count": null,
      "outputs": []
    },
    {
      "cell_type": "code",
      "metadata": {
        "id": "N-5QIMuSanTJ"
      },
      "source": [
        "#########    Fundamentals of Modules"
      ],
      "execution_count": null,
      "outputs": []
    },
    {
      "cell_type": "code",
      "metadata": {
        "id": "M6wlwE55anV-"
      },
      "source": [
        "##  What is Script what is Module??"
      ],
      "execution_count": null,
      "outputs": []
    },
    {
      "cell_type": "code",
      "metadata": {
        "id": "J5ATyqVkllyd"
      },
      "source": [
        "#  If you open and use this file (with a .py extension) directly, \n",
        "# that is script,\n",
        "# If you load (import) this file (with a .py extension) \n",
        "# and call any function from it, that's a module this time."
      ],
      "execution_count": null,
      "outputs": []
    },
    {
      "cell_type": "code",
      "metadata": {
        "id": "0Ur3XhkkanYy"
      },
      "source": [
        "#  Basit ve kısa projeleriniz üzerinde çalışırken normalde Python kodlarını \n",
        "# doğrudan interpreter a yazıp çalıştırırsınız. Bunları bir dosyaya kaydetmek \n",
        "# iyi bir seçenek olacaktır. Daha sonra bunları bir metin düzenleyicide \n",
        "# çalıştırmanız veya onlarla çalışmanız gerektiğinde, \n",
        "# oluşturduğunuz bu dosyayı kullanarak bunlara kolayca erişebilirsiniz. \n",
        "# Böylece Python interpreter dan her çıktığınızda ve tekrar girdiğinizde, \n",
        "# daha önce yazdığınız kodlarınızı (fonksiyonlar ve değişkenler) kaybetmezsiniz. \n",
        "# Bu seçenek, özellikle uzun kod bloklarına sahip programlarla çalışırken \n",
        "# sizin için hayati olacaktır. Oluşturduğunuz, kodlar, tanımlar ve \n",
        "# ileride okunabilecek, düzenlenebilecek ve yorumlanabilecek bir \n",
        "# işlem listesinden oluşan dosya, \"script\" olarak bilinir ."
      ],
      "execution_count": null,
      "outputs": []
    },
    {
      "cell_type": "code",
      "metadata": {
        "id": "OgQjU-vzancT"
      },
      "source": [
        "#  What is Module?\n",
        "\n",
        "#  Programınız uzadıkça, daha kolay idame ettirebilmek için onu \n",
        "# birkaç dosyaya bölmek isteyebilirsiniz. Ayrıca, birkaç programda \n",
        "# yazdığınız kullanışlı bir func'i  her programa kopyalamadan kullanmak \n",
        "# isteyebilirsiniz. Bunu desteklemek için Python, tanımları \n",
        "# bir dosyaya koyma ve bunları bir komut dosyasında veya yorumlayıcının \n",
        "# etkileşimli bir örneğinde kullanma yöntemine sahiptir . Böyle bir dosyaya modül denir ."
      ],
      "execution_count": null,
      "outputs": []
    },
    {
      "cell_type": "code",
      "metadata": {
        "id": "K6-doC6Xanf0"
      },
      "source": [
        "# Bir programa yazdığınız bir func'i başka bir zamanda ve başka bir \n",
        "# program akışında kullanmanız gerekebilir. Veya daha önce \n",
        "# başka birinin yazdığı bazı kodları yeniden kullanmanız bile gerekebilir. \n",
        "# Bu sorunu, daha önce yazdığınız kodu kopyalayıp başka bir program akışına \n",
        "# yapıştırarak çözebilirsiniz. Ancak bu, temel kökten bir çözüm getirmez. \n",
        "# Çünkü çalışmak istediğiniz fonksiyonlar ve kod blokları arttıkça \n",
        "# programınızın yapısı ve okunabilirliği ciddi şekilde bozulacaktır. \n",
        "# Iste bu probleme kökten bir cözüm bulabilmek icin module leri kullaniyoruz"
      ],
      "execution_count": null,
      "outputs": []
    },
    {
      "cell_type": "code",
      "metadata": {
        "id": "OyBeSUkJanjE"
      },
      "source": [
        "##  Soru:\n",
        "# Bir module birden fazla func icerebilir mi?\n",
        "# evet"
      ],
      "execution_count": null,
      "outputs": []
    },
    {
      "cell_type": "code",
      "metadata": {
        "id": "B7zUqP0manmg"
      },
      "source": [
        "###  Bir modul nasil import edilir?\n",
        "\n",
        "# syntax su sekildedir:\n",
        "\n",
        "# import module_name"
      ],
      "execution_count": null,
      "outputs": []
    },
    {
      "cell_type": "code",
      "metadata": {
        "id": "-zXtx8AlanqA"
      },
      "source": [
        "import my_module  # we've loaded my_module\n",
        "\n",
        "my_module.my_function()  # we've called a function defined in my_module\n",
        "\n",
        "print(my_module.my_variable)  # we've accessed a variable defined in my_module"
      ],
      "execution_count": null,
      "outputs": []
    },
    {
      "cell_type": "code",
      "metadata": {
        "id": "gzE5MVw-anuB"
      },
      "source": [
        "#  my_module, bizim içe aktardığımız modülün adıdır. \n",
        "# Bir modül yüklerken, bir anahtar sözcük kullanarak \n",
        "# modüller için kısaltılmış bir takma ad (nickname) de verebiliriz"
      ],
      "execution_count": null,
      "outputs": []
    },
    {
      "cell_type": "code",
      "metadata": {
        "id": "p9wGx550n4Ti"
      },
      "source": [
        "import my_module as mym # Buradaki as tamamen inglizcedeki as dir olarak anlaminda\n",
        "                        #  yani bu modülü mym olarak import et\n",
        "mym.my_function()  # Kullanimda ise hicbir fark yoktur\n",
        "\n",
        "print(mym.my_variable)"
      ],
      "execution_count": null,
      "outputs": []
    },
    {
      "cell_type": "code",
      "metadata": {
        "id": "r9uDz2H7n4Ww"
      },
      "source": [
        "# Python ilk olarak current directory de module arar.\n",
        "# daha sonra built in modüller denetlenir ve hiçbir şey bulunamazsa\n",
        "# error verir.  Modül, içe aktarıldıktan sonra adı ile veya\n",
        "# nickname ile kullanılabilir. ve içinde tanımlanan işlevlere ve\n",
        "#  değişkenlere erişmek için dot notation (nokta gösterimini) kullanabilirsiniz ."
      ],
      "execution_count": null,
      "outputs": []
    },
    {
      "cell_type": "code",
      "metadata": {
        "id": "Vyo5GIWjn4aU"
      },
      "source": [
        ""
      ],
      "execution_count": null,
      "outputs": []
    },
    {
      "cell_type": "code",
      "metadata": {
        "id": "TRFGZRlNn4dd"
      },
      "source": [
        "####   from\n",
        "\n",
        "# Bir modülde tanımlanan bir func'i veya değişkeni içe aktarmak \n",
        "# çok yaygın ve kullanışlı bir yöntemdir. Bu seçeneği kullanmak için \n",
        "# from anahtar kelimesini kullanırız. "
      ],
      "execution_count": null,
      "outputs": []
    },
    {
      "cell_type": "code",
      "metadata": {
        "id": "YrjK-j22n4gv"
      },
      "source": [
        "from my_module import my_function  # we've loaded only my_function from my_module\n",
        "\n",
        "my_function()  # my_function can be used directly now at the current module\n",
        "\n",
        "# Bu kullanim ile modülden func'i import etmis bulunmaktayiz.\n",
        "\n",
        "# O nedenle calling esnasinda sadece  my_function()   yazdik.\n",
        "\n",
        "# eger Burada my_module.my_function yazarsak hata aliriz"
      ],
      "execution_count": 2,
      "outputs": []
    },
    {
      "cell_type": "code",
      "metadata": {
        "id": "mezEOczzn4j8"
      },
      "source": [
        "## Yine from kullanim esnasinda da \"as\"  anahtar kelimesi ile nichname atayabiliriz\n",
        "\n",
        "from my_module import my_function as mfnc # we've imported my_function named mfnc\n",
        "\n",
        "mfnc()  # we use the my_function's alias directly"
      ],
      "execution_count": 1,
      "outputs": []
    },
    {
      "cell_type": "code",
      "metadata": {
        "id": "pE4yqScin4nA"
      },
      "source": [
        "# Geleneksel olarak Her import sözdizimini ayrı satırlara yazmak\n",
        "#  ve hepsini geçerli modülün başına koymak geleneksel olarak en iyisidir. \n",
        "\n",
        "import module_1 \n",
        "import module_2 \n",
        "import module_3 \n",
        "\n",
        "# Mevcut modülün kod akışı burada başlar"
      ],
      "execution_count": null,
      "outputs": []
    },
    {
      "cell_type": "code",
      "metadata": {
        "id": "oq8x-Boln4qO"
      },
      "source": [
        "##  Interview:\n",
        "\n",
        "#  How to import modules in Python?\n",
        "\n",
        "# Cevap: Modules can be imported using the import keyword. \n",
        "# You can import modules in three ways.\n",
        "\n",
        "import array           # importing using the original module name\n",
        "import array as arr    # importing using an alias name\n",
        "from array import *    # imports everything present in the array module \n",
        "                       #  attention:  *  var ve herseyi import eder"
      ],
      "execution_count": null,
      "outputs": []
    },
    {
      "cell_type": "code",
      "metadata": {
        "id": "T_4ubJaSn4s-"
      },
      "source": [
        ""
      ],
      "execution_count": null,
      "outputs": []
    },
    {
      "cell_type": "code",
      "metadata": {
        "id": "tcrbgZ0psahO"
      },
      "source": [
        "#############    Built-in Modules"
      ],
      "execution_count": null,
      "outputs": []
    },
    {
      "cell_type": "code",
      "metadata": {
        "id": "SDPjKpBgsakB"
      },
      "source": [
        "## Python, çoğu yorumlayıcıda yerleşik olarak bulunan büyük bir \n",
        "# standart modül kitaplığıyla birlikte gelir. Bu modüller, \n",
        "# kullanışlı işlevler ve veri yapıları sağlayarak kodumuzu daha etkili hale getirir. \n",
        "# Yerleşik modüllerin kullanıcı için çok değerli olan bir diğer avantajı da \n",
        "# Python'un kurulu olduğu tüm işletim sistemlerinden bu standart kütüphanelere ulaşabilmenizdir."
      ],
      "execution_count": null,
      "outputs": []
    },
    {
      "cell_type": "code",
      "metadata": {
        "colab": {
          "base_uri": "https://localhost:8080/"
        },
        "id": "8dZ0VF71sanw",
        "outputId": "42785a15-e704-48d7-a99f-8b88a3d81598"
      },
      "source": [
        "###  math\n",
        "\n",
        "import math\n",
        "\n",
        "print(dir(math))  # you can find out all names defined in this module\n",
        "\n",
        "\n",
        "# dir()  bir built in function dir ve sözkonusu modülün hangi isimleri\n",
        "# tanimladigini görmemize yarar ve alfabetik sorted list of strings döndürür"
      ],
      "execution_count": 3,
      "outputs": [
        {
          "output_type": "stream",
          "name": "stdout",
          "text": [
            "['__doc__', '__loader__', '__name__', '__package__', '__spec__', 'acos', 'acosh', 'asin', 'asinh', 'atan', 'atan2', 'atanh', 'ceil', 'copysign', 'cos', 'cosh', 'degrees', 'e', 'erf', 'erfc', 'exp', 'expm1', 'fabs', 'factorial', 'floor', 'fmod', 'frexp', 'fsum', 'gamma', 'gcd', 'hypot', 'inf', 'isclose', 'isfinite', 'isinf', 'isnan', 'ldexp', 'lgamma', 'log', 'log10', 'log1p', 'log2', 'modf', 'nan', 'pi', 'pow', 'radians', 'remainder', 'sin', 'sinh', 'sqrt', 'tan', 'tanh', 'tau', 'trunc']\n"
          ]
        }
      ]
    },
    {
      "cell_type": "code",
      "metadata": {
        "id": "VCQhWC6AsarI"
      },
      "source": [
        "from math import pi, factorial, log10  # we'll use the functions directly\n",
        "                                       # Dikkat!!!  Burada func isimlerini virgül ile \n",
        "                                       # ayirarak ayni anda birden cok func import ettik\n",
        "print(pi)  # it also contains several arithmetic constants\n",
        "print(factorial(4))  # gives the value of 4!\n",
        "print(log10(1000))  # prints the common logarithm of 1000"
      ],
      "execution_count": null,
      "outputs": []
    },
    {
      "cell_type": "code",
      "metadata": {
        "colab": {
          "base_uri": "https://localhost:8080/"
        },
        "id": "wlRHE1eosauN",
        "outputId": "56745ecb-f6fa-4d23-fe44-8d1f067466c7"
      },
      "source": [
        "##  Task:\n",
        "\n",
        "# def ile kendiniz faktoriyel hesaplayan bir func tanimlayiniz:\n",
        "\n",
        "def factor(x):\n",
        "  sonuc = 1\n",
        "  for i in range(x):\n",
        "    sonuc *= (i + 1)\n",
        "  return sonuc\n",
        "\n",
        "factor(6)"
      ],
      "execution_count": 10,
      "outputs": [
        {
          "output_type": "execute_result",
          "data": {
            "text/plain": [
              "720"
            ]
          },
          "metadata": {},
          "execution_count": 10
        }
      ]
    },
    {
      "cell_type": "code",
      "metadata": {
        "colab": {
          "base_uri": "https://localhost:8080/"
        },
        "id": "zSu1RYbvsaxP",
        "outputId": "a6b10958-59aa-402f-842a-9754311fab98"
      },
      "source": [
        "###   string \n",
        "\n",
        "import string as stg  # we've used alias for 'string' module\n",
        "\n",
        "print(stg.punctuation)  # prints all available punctuation marks\n",
        "print(stg.digits)  # prints all the digits"
      ],
      "execution_count": 11,
      "outputs": [
        {
          "output_type": "stream",
          "name": "stdout",
          "text": [
            "!\"#$%&'()*+,-./:;<=>?@[\\]^_`{|}~\n",
            "0123456789\n"
          ]
        }
      ]
    },
    {
      "cell_type": "code",
      "metadata": {
        "colab": {
          "base_uri": "https://localhost:8080/"
        },
        "id": "-SmSEZUIsaz5",
        "outputId": "498f2234-cca2-422f-d70b-40fb75e19f47"
      },
      "source": [
        "#### datetime\n",
        "\n",
        "import datetime\n",
        "\n",
        "print(datetime.date.today())  # prints today's date (yyyy-mm-dd)\n",
        "print(datetime.datetime.now())  # prints the current time in microseconds\n",
        "\n",
        "\n",
        "# Bu örnekte dot notation(nokta notasyonu)  a  göre, \n",
        "# date ve datetime objectleri altinda tanimli olan,\n",
        "# now( ve today() func'lari kullandik"
      ],
      "execution_count": 12,
      "outputs": [
        {
          "output_type": "stream",
          "name": "stdout",
          "text": [
            "2021-11-29\n",
            "2021-11-29 17:53:40.195739\n"
          ]
        }
      ]
    },
    {
      "cell_type": "code",
      "metadata": {
        "id": "Ww_OiLPWsa2n"
      },
      "source": [
        "####  random"
      ],
      "execution_count": null,
      "outputs": []
    },
    {
      "cell_type": "code",
      "metadata": {
        "id": "ZT4zW2XT1NBC"
      },
      "source": [
        ""
      ],
      "execution_count": null,
      "outputs": []
    },
    {
      "cell_type": "code",
      "metadata": {
        "id": "n0Mcb4qr1NDg"
      },
      "source": [
        ""
      ],
      "execution_count": null,
      "outputs": []
    },
    {
      "cell_type": "code",
      "metadata": {
        "id": "ZwSXNUCB1zCW"
      },
      "source": [
        ""
      ],
      "execution_count": null,
      "outputs": []
    },
    {
      "cell_type": "code",
      "metadata": {
        "id": "N0YwGtTT1NF3"
      },
      "source": [
        ""
      ],
      "execution_count": null,
      "outputs": []
    },
    {
      "cell_type": "code",
      "metadata": {
        "id": "hTiOXen01NIV"
      },
      "source": [
        ""
      ],
      "execution_count": null,
      "outputs": []
    },
    {
      "cell_type": "code",
      "metadata": {
        "id": "Pm66P8fA1NKz"
      },
      "source": [
        ""
      ],
      "execution_count": null,
      "outputs": []
    },
    {
      "cell_type": "code",
      "metadata": {
        "id": "TH-AQOfxanxL"
      },
      "source": [
        ""
      ],
      "execution_count": null,
      "outputs": []
    },
    {
      "cell_type": "code",
      "metadata": {
        "id": "_cPbIo-ean0D"
      },
      "source": [
        ""
      ],
      "execution_count": null,
      "outputs": []
    },
    {
      "cell_type": "code",
      "metadata": {
        "id": "cjEWgll9an20"
      },
      "source": [
        ""
      ],
      "execution_count": null,
      "outputs": []
    }
  ]
}