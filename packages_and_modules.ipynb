{
  "nbformat": 4,
  "nbformat_minor": 0,
  "metadata": {
    "colab": {
      "name": "packages and modules.ipynb",
      "provenance": [],
      "collapsed_sections": [],
      "authorship_tag": "ABX9TyOGyS6b7+bXShiVJpa3zTSM",
      "include_colab_link": true
    },
    "kernelspec": {
      "name": "python3",
      "display_name": "Python 3"
    },
    "language_info": {
      "name": "python"
    }
  },
  "cells": [
    {
      "cell_type": "markdown",
      "metadata": {
        "id": "view-in-github",
        "colab_type": "text"
      },
      "source": [
        "<a href=\"https://colab.research.google.com/github/tariksitki/My_Colab_Python_Works/blob/main/packages_and_modules.ipynb\" target=\"_parent\"><img src=\"https://colab.research.google.com/assets/colab-badge.svg\" alt=\"Open In Colab\"/></a>"
      ]
    },
    {
      "cell_type": "code",
      "metadata": {
        "id": "FZ8VU-HXaipR"
      },
      "source": [
        "#############  packages and modules          # ###################"
      ],
      "execution_count": 16,
      "outputs": []
    },
    {
      "cell_type": "code",
      "metadata": {
        "id": "N-5QIMuSanTJ"
      },
      "source": [
        "#########    Fundamentals of Modules"
      ],
      "execution_count": null,
      "outputs": []
    },
    {
      "cell_type": "code",
      "metadata": {
        "id": "M6wlwE55anV-"
      },
      "source": [
        "##  What is Script what is Module??"
      ],
      "execution_count": null,
      "outputs": []
    },
    {
      "cell_type": "code",
      "metadata": {
        "id": "J5ATyqVkllyd"
      },
      "source": [
        "#  If you open and use this file (with a .py extension) directly, \n",
        "# that is script,\n",
        "# If you load (import) this file (with a .py extension) \n",
        "# and call any function from it, that's a module this time."
      ],
      "execution_count": null,
      "outputs": []
    },
    {
      "cell_type": "code",
      "metadata": {
        "id": "0Ur3XhkkanYy"
      },
      "source": [
        "#  Basit ve kısa projeleriniz üzerinde çalışırken normalde Python kodlarını \n",
        "# doğrudan interpreter a yazıp çalıştırırsınız. Bunları bir dosyaya kaydetmek \n",
        "# iyi bir seçenek olacaktır. Daha sonra bunları bir metin düzenleyicide \n",
        "# çalıştırmanız veya onlarla çalışmanız gerektiğinde, \n",
        "# oluşturduğunuz bu dosyayı kullanarak bunlara kolayca erişebilirsiniz. \n",
        "# Böylece Python interpreter dan her çıktığınızda ve tekrar girdiğinizde, \n",
        "# daha önce yazdığınız kodlarınızı (fonksiyonlar ve değişkenler) kaybetmezsiniz. \n",
        "# Bu seçenek, özellikle uzun kod bloklarına sahip programlarla çalışırken \n",
        "# sizin için hayati olacaktır. Oluşturduğunuz, kodlar, tanımlar ve \n",
        "# ileride okunabilecek, düzenlenebilecek ve yorumlanabilecek bir \n",
        "# işlem listesinden oluşan dosya, \"script\" olarak bilinir ."
      ],
      "execution_count": null,
      "outputs": []
    },
    {
      "cell_type": "code",
      "metadata": {
        "id": "OgQjU-vzancT"
      },
      "source": [
        "#  What is Module?\n",
        "\n",
        "#  Programınız uzadıkça, daha kolay idame ettirebilmek için onu \n",
        "# birkaç dosyaya bölmek isteyebilirsiniz. Ayrıca, birkaç programda \n",
        "# yazdığınız kullanışlı bir func'i  her programa kopyalamadan kullanmak \n",
        "# isteyebilirsiniz. Bunu desteklemek için Python, tanımları \n",
        "# bir dosyaya koyma ve bunları bir komut dosyasında veya yorumlayıcının \n",
        "# etkileşimli bir örneğinde kullanma yöntemine sahiptir . Böyle bir dosyaya modül denir ."
      ],
      "execution_count": null,
      "outputs": []
    },
    {
      "cell_type": "code",
      "metadata": {
        "id": "K6-doC6Xanf0"
      },
      "source": [
        "# Bir programa yazdığınız bir func'i başka bir zamanda ve başka bir \n",
        "# program akışında kullanmanız gerekebilir. Veya daha önce \n",
        "# başka birinin yazdığı bazı kodları yeniden kullanmanız bile gerekebilir. \n",
        "# Bu sorunu, daha önce yazdığınız kodu kopyalayıp başka bir program akışına \n",
        "# yapıştırarak çözebilirsiniz. Ancak bu, temel kökten bir çözüm getirmez. \n",
        "# Çünkü çalışmak istediğiniz fonksiyonlar ve kod blokları arttıkça \n",
        "# programınızın yapısı ve okunabilirliği ciddi şekilde bozulacaktır. \n",
        "# Iste bu probleme kökten bir cözüm bulabilmek icin module leri kullaniyoruz"
      ],
      "execution_count": null,
      "outputs": []
    },
    {
      "cell_type": "code",
      "metadata": {
        "id": "OyBeSUkJanjE"
      },
      "source": [
        "##  Soru:\n",
        "# Bir module birden fazla func icerebilir mi?\n",
        "# evet"
      ],
      "execution_count": null,
      "outputs": []
    },
    {
      "cell_type": "code",
      "metadata": {
        "id": "B7zUqP0manmg"
      },
      "source": [
        "###  Bir modul nasil import edilir?\n",
        "\n",
        "# syntax su sekildedir:\n",
        "\n",
        "# import module_name"
      ],
      "execution_count": null,
      "outputs": []
    },
    {
      "cell_type": "code",
      "metadata": {
        "id": "-zXtx8AlanqA"
      },
      "source": [
        "import my_module  # we've loaded my_module\n",
        "\n",
        "my_module.my_function()  # we've called a function defined in my_module\n",
        "\n",
        "print(my_module.my_variable)  # we've accessed a variable defined in my_module"
      ],
      "execution_count": null,
      "outputs": []
    },
    {
      "cell_type": "code",
      "metadata": {
        "id": "gzE5MVw-anuB"
      },
      "source": [
        "#  my_module, bizim içe aktardığımız modülün adıdır. \n",
        "# Bir modül yüklerken, bir anahtar sözcük kullanarak \n",
        "# modüller için kısaltılmış bir takma ad (nickname) de verebiliriz"
      ],
      "execution_count": null,
      "outputs": []
    },
    {
      "cell_type": "code",
      "metadata": {
        "id": "p9wGx550n4Ti"
      },
      "source": [
        "import my_module as mym # Buradaki as tamamen inglizcedeki as dir olarak anlaminda\n",
        "                        #  yani bu modülü mym olarak import et\n",
        "mym.my_function()  # Kullanimda ise hicbir fark yoktur\n",
        "\n",
        "print(mym.my_variable)"
      ],
      "execution_count": null,
      "outputs": []
    },
    {
      "cell_type": "code",
      "metadata": {
        "id": "r9uDz2H7n4Ww"
      },
      "source": [
        "# Python ilk olarak current directory de module arar.\n",
        "# daha sonra built in modüller denetlenir ve hiçbir şey bulunamazsa\n",
        "# error verir.  Modül, içe aktarıldıktan sonra adı ile veya\n",
        "# nickname ile kullanılabilir. ve içinde tanımlanan işlevlere ve\n",
        "#  değişkenlere erişmek için dot notation (nokta gösterimini) kullanabilirsiniz ."
      ],
      "execution_count": null,
      "outputs": []
    },
    {
      "cell_type": "code",
      "metadata": {
        "id": "Vyo5GIWjn4aU"
      },
      "source": [
        ""
      ],
      "execution_count": null,
      "outputs": []
    },
    {
      "cell_type": "code",
      "metadata": {
        "id": "TRFGZRlNn4dd"
      },
      "source": [
        "####   from\n",
        "\n",
        "# Bir modülde tanımlanan bir func'i veya değişkeni içe aktarmak \n",
        "# çok yaygın ve kullanışlı bir yöntemdir. Bu seçeneği kullanmak için \n",
        "# from anahtar kelimesini kullanırız. "
      ],
      "execution_count": null,
      "outputs": []
    },
    {
      "cell_type": "code",
      "metadata": {
        "id": "YrjK-j22n4gv"
      },
      "source": [
        "from my_module import my_function  # we've loaded only my_function from my_module\n",
        "\n",
        "my_function()  # my_function can be used directly now at the current module\n",
        "\n",
        "# Bu kullanim ile modülden func'i import etmis bulunmaktayiz.\n",
        "\n",
        "# O nedenle calling esnasinda sadece  my_function()   yazdik.\n",
        "\n",
        "# eger Burada my_module.my_function yazarsak hata aliriz"
      ],
      "execution_count": null,
      "outputs": []
    },
    {
      "cell_type": "code",
      "metadata": {
        "id": "mezEOczzn4j8"
      },
      "source": [
        "## Yine from kullanim esnasinda da \"as\"  anahtar kelimesi ile nichname atayabiliriz\n",
        "\n",
        "from my_module import my_function as mfnc # we've imported my_function named mfnc\n",
        "\n",
        "mfnc()  # we use the my_function's alias directly"
      ],
      "execution_count": null,
      "outputs": []
    },
    {
      "cell_type": "code",
      "metadata": {
        "id": "pE4yqScin4nA"
      },
      "source": [
        "# Geleneksel olarak Her import sözdizimini ayrı satırlara yazmak\n",
        "#  ve hepsini geçerli modülün başına koymak geleneksel olarak en iyisidir. \n",
        "\n",
        "import module_1 \n",
        "import module_2 \n",
        "import module_3 \n",
        "\n",
        "# Mevcut modülün kod akışı burada başlar"
      ],
      "execution_count": null,
      "outputs": []
    },
    {
      "cell_type": "code",
      "metadata": {
        "id": "oq8x-Boln4qO"
      },
      "source": [
        "##  Interview:\n",
        "\n",
        "#  How to import modules in Python?\n",
        "\n",
        "# Cevap: Modules can be imported using the import keyword. \n",
        "# You can import modules in three ways.\n",
        "\n",
        "import array           # importing using the original module name\n",
        "import array as arr    # importing using an alias name\n",
        "from array import *    # imports everything present in the array module \n",
        "                       #  attention:  *  var ve herseyi import eder"
      ],
      "execution_count": null,
      "outputs": []
    },
    {
      "cell_type": "code",
      "metadata": {
        "id": "T_4ubJaSn4s-"
      },
      "source": [
        ""
      ],
      "execution_count": null,
      "outputs": []
    },
    {
      "cell_type": "code",
      "metadata": {
        "id": "tcrbgZ0psahO"
      },
      "source": [
        "#############    Built-in Modules"
      ],
      "execution_count": null,
      "outputs": []
    },
    {
      "cell_type": "code",
      "metadata": {
        "id": "SDPjKpBgsakB"
      },
      "source": [
        "## Python, çoğu yorumlayıcıda yerleşik olarak bulunan büyük bir \n",
        "# standart modül kitaplığıyla birlikte gelir. Bu modüller, \n",
        "# kullanışlı işlevler ve veri yapıları sağlayarak kodumuzu daha etkili hale getirir. \n",
        "# Yerleşik modüllerin kullanıcı için çok değerli olan bir diğer avantajı da \n",
        "# Python'un kurulu olduğu tüm işletim sistemlerinden bu standart kütüphanelere ulaşabilmenizdir."
      ],
      "execution_count": null,
      "outputs": []
    },
    {
      "cell_type": "code",
      "metadata": {
        "colab": {
          "base_uri": "https://localhost:8080/"
        },
        "id": "8dZ0VF71sanw",
        "outputId": "42785a15-e704-48d7-a99f-8b88a3d81598"
      },
      "source": [
        "###  math\n",
        "\n",
        "import math\n",
        "\n",
        "print(dir(math))  # you can find out all names defined in this module\n",
        "\n",
        "\n",
        "# dir()  bir built in function dir ve sözkonusu modülün hangi isimleri\n",
        "# tanimladigini görmemize yarar ve alfabetik sorted list of strings döndürür"
      ],
      "execution_count": null,
      "outputs": [
        {
          "output_type": "stream",
          "name": "stdout",
          "text": [
            "['__doc__', '__loader__', '__name__', '__package__', '__spec__', 'acos', 'acosh', 'asin', 'asinh', 'atan', 'atan2', 'atanh', 'ceil', 'copysign', 'cos', 'cosh', 'degrees', 'e', 'erf', 'erfc', 'exp', 'expm1', 'fabs', 'factorial', 'floor', 'fmod', 'frexp', 'fsum', 'gamma', 'gcd', 'hypot', 'inf', 'isclose', 'isfinite', 'isinf', 'isnan', 'ldexp', 'lgamma', 'log', 'log10', 'log1p', 'log2', 'modf', 'nan', 'pi', 'pow', 'radians', 'remainder', 'sin', 'sinh', 'sqrt', 'tan', 'tanh', 'tau', 'trunc']\n"
          ]
        }
      ]
    },
    {
      "cell_type": "code",
      "metadata": {
        "id": "VCQhWC6AsarI"
      },
      "source": [
        "from math import pi, factorial, log10  # we'll use the functions directly\n",
        "                                       # Dikkat!!!  Burada func isimlerini virgül ile \n",
        "                                       # ayirarak ayni anda birden cok func import ettik\n",
        "print(pi)  # it also contains several arithmetic constants\n",
        "print(factorial(4))  # gives the value of 4!\n",
        "print(log10(1000))  # prints the common logarithm of 1000"
      ],
      "execution_count": null,
      "outputs": []
    },
    {
      "cell_type": "code",
      "metadata": {
        "id": "jpzNGmItO3nH"
      },
      "source": [
        ""
      ],
      "execution_count": null,
      "outputs": []
    },
    {
      "cell_type": "code",
      "metadata": {
        "colab": {
          "base_uri": "https://localhost:8080/"
        },
        "id": "wlRHE1eosauN",
        "outputId": "56745ecb-f6fa-4d23-fe44-8d1f067466c7"
      },
      "source": [
        ""
      ],
      "execution_count": null,
      "outputs": [
        {
          "output_type": "execute_result",
          "data": {
            "text/plain": [
              "720"
            ]
          },
          "metadata": {},
          "execution_count": 10
        }
      ]
    },
    {
      "cell_type": "code",
      "metadata": {
        "colab": {
          "base_uri": "https://localhost:8080/"
        },
        "id": "7aK_XbSLPs5U",
        "outputId": "5bcf57ae-6716-485d-e4d3-6e5fa473e218"
      },
      "source": [
        "##  Task:\n",
        "\n",
        "# def ile kendiniz faktoriyel hesaplayan bir func tanimlayiniz:\n",
        "\n",
        "def factor(x):\n",
        "  result = 1\n",
        "  for i in range(x):\n",
        "    result *= (i + 1)    ##  eger burada +1 demezsek 0 dan baslar ve sonuc 0 olur\n",
        "  return print(result)  ##  Attention:  return print dedik\n",
        "factor(6)"
      ],
      "execution_count": null,
      "outputs": [
        {
          "output_type": "stream",
          "name": "stdout",
          "text": [
            "720\n"
          ]
        }
      ]
    },
    {
      "cell_type": "code",
      "metadata": {
        "colab": {
          "base_uri": "https://localhost:8080/"
        },
        "id": "zSu1RYbvsaxP",
        "outputId": "a6b10958-59aa-402f-842a-9754311fab98"
      },
      "source": [
        "###   string \n",
        "\n",
        "import string as stg  # we've used alias for 'string' module\n",
        "\n",
        "print(stg.punctuation)  # prints all available punctuation marks(noktalama isaretleri)\n",
        "print(stg.digits)  # prints all the digits"
      ],
      "execution_count": null,
      "outputs": [
        {
          "output_type": "stream",
          "name": "stdout",
          "text": [
            "!\"#$%&'()*+,-./:;<=>?@[\\]^_`{|}~\n",
            "0123456789\n"
          ]
        }
      ]
    },
    {
      "cell_type": "code",
      "metadata": {
        "id": "b9X2-NSEQ4lw"
      },
      "source": [
        ""
      ],
      "execution_count": null,
      "outputs": []
    },
    {
      "cell_type": "code",
      "metadata": {
        "colab": {
          "base_uri": "https://localhost:8080/"
        },
        "id": "-SmSEZUIsaz5",
        "outputId": "498f2234-cca2-422f-d70b-40fb75e19f47"
      },
      "source": [
        "#### datetime\n",
        "\n",
        "import datetime\n",
        "                              #  today de sadece date kullaniyoruz\n",
        "print(datetime.date.today())  # prints today's date (yyyy-mm-dd)\n",
        "print(datetime.datetime.now())  # prints the current time in microseconds\n",
        "                                #  Dikkat: eger now ve today den sonra () yapmaz isek\n",
        "                                # sadece object döndürür\n",
        "\n",
        "# Bu örnekte dot notation(nokta notasyonu)  a  göre, \n",
        "# date ve datetime objectleri altinda tanimli olan,\n",
        "# now( ve today() func'lari kullandik"
      ],
      "execution_count": null,
      "outputs": [
        {
          "output_type": "stream",
          "name": "stdout",
          "text": [
            "2021-11-29\n",
            "2021-11-29 17:53:40.195739\n"
          ]
        }
      ]
    },
    {
      "cell_type": "code",
      "metadata": {
        "id": "Ww_OiLPWsa2n"
      },
      "source": [
        ""
      ],
      "execution_count": null,
      "outputs": []
    },
    {
      "cell_type": "code",
      "metadata": {
        "id": "ZT4zW2XT1NBC",
        "colab": {
          "base_uri": "https://localhost:8080/"
        },
        "outputId": "f9c9018d-3016-45e4-f52d-802be0af3a67"
      },
      "source": [
        "from datetime import datetime   # bu sekilde import ettigimizde .now calisir\n",
        "                                # ancak bu hücrede date.today() calistirmak istersek\n",
        "print(datetime.now())           #  calismaz. ve date tanimli degil der\n",
        "                                #  onun icin asagidaki sekilde yapiyoruz"
      ],
      "execution_count": null,
      "outputs": [
        {
          "output_type": "stream",
          "name": "stdout",
          "text": [
            "2021-12-02\n"
          ]
        }
      ]
    },
    {
      "cell_type": "code",
      "metadata": {
        "id": "n0Mcb4qr1NDg",
        "colab": {
          "base_uri": "https://localhost:8080/"
        },
        "outputId": "6bcdd7d5-243d-45db-a3cd-4db9c597242c"
      },
      "source": [
        "from datetime import date  ##  burada sadece date yazdik\n",
        "\n",
        "print(date.today())"
      ],
      "execution_count": null,
      "outputs": [
        {
          "output_type": "stream",
          "name": "stdout",
          "text": [
            "2021-12-02\n"
          ]
        }
      ]
    },
    {
      "cell_type": "code",
      "metadata": {
        "id": "ZwSXNUCB1zCW"
      },
      "source": [
        "#######   random\n",
        "\n",
        "#  çeşitli veri türleri arasından rastgele seçim yapmamızı sağlayan \n",
        "# işlevleri içeren bir modüldür"
      ],
      "execution_count": null,
      "outputs": []
    },
    {
      "cell_type": "code",
      "metadata": {
        "id": "N0YwGtTT1NF3",
        "colab": {
          "base_uri": "https://localhost:8080/"
        },
        "outputId": "c9c9f968-94ff-4f24-aea0-5531ae873098"
      },
      "source": [
        "from random import choice\n",
        "\n",
        "city = ['Stockholm', 'Istanbul', 'Seul', 'Cape Town']\n",
        "\n",
        "print(choice(city))  #  bu func'i her calistirdigimizda örnekleme olarak\n",
        "                     #  bir tane sehir ismi print eder"
      ],
      "execution_count": null,
      "outputs": [
        {
          "output_type": "stream",
          "name": "stdout",
          "text": [
            "Istanbul\n"
          ]
        }
      ]
    },
    {
      "cell_type": "code",
      "metadata": {
        "id": "hTiOXen01NIV"
      },
      "source": [
        "####   Interview:\n",
        "\n",
        "#  Python modülleri nelerdir? Python'da yaygın olarak kullanılan \n",
        "# bazı yerleşik modülleri adlandırın.\n",
        "# Python modülleri, Python kodunu içeren dosyalardır. \n",
        "# Bu kod, fonksiyon sınıfları veya değişkenler olabilir. \n",
        "# Python modülü, yürütülebilir kod içeren bir .py dosyasıdır. \n",
        "# Yaygın olarak kullanılan yerleşik modüllerden bazıları şunlardır:\n",
        "# os, sys, math, random, datetime. "
      ],
      "execution_count": null,
      "outputs": []
    },
    {
      "cell_type": "code",
      "metadata": {
        "colab": {
          "base_uri": "https://localhost:8080/"
        },
        "id": "iKK13_l-TiGh",
        "outputId": "85210d13-9570-49c2-88cf-a1362ee1ec12"
      },
      "source": [
        "#  Python'da nasıl rasgele sayılar üretebilirsiniz?\n",
        "# Random modül, rastgele bir sayı üretmek için kullanılan standart modüldür. \n",
        "# şu şekilde tanımlanır:\n",
        "\n",
        "import random\n",
        "print(random.random())  # func 'i her calistirmamizda farkli bir sayi üretir\n",
        "                        # ve bu sayi 0 ila 1 arasindadir"
      ],
      "execution_count": null,
      "outputs": [
        {
          "output_type": "stream",
          "name": "stdout",
          "text": [
            "0.7410553675368551\n"
          ]
        }
      ]
    },
    {
      "cell_type": "code",
      "metadata": {
        "id": "ryViSwqTTiKb"
      },
      "source": [
        "#  Soru:\n",
        "\n",
        "# You can store multiple functions in a module\n",
        "# Then you can call these functions\n",
        "# while writing your program after loading the module"
      ],
      "execution_count": null,
      "outputs": []
    },
    {
      "cell_type": "code",
      "metadata": {
        "id": "TGkmnFjvTiPU"
      },
      "source": [
        "## Soru:\n",
        "\n",
        "# The simple files, usually with a .py extension and \n",
        "# containing Python statements and definitions, are called modules"
      ],
      "execution_count": null,
      "outputs": []
    },
    {
      "cell_type": "code",
      "metadata": {
        "id": "l-q8bH-OXRnU"
      },
      "source": [
        "## The file you created consisting of codes, definitions \n",
        "# and a list of operations that can be read, edited and interpreted\n",
        "#  in the future is known as [script]. If you open and use \n",
        "# this file (with a .py extension) directly, that is [script], \n",
        "# an if you load (import) this file (with a .py extension) and \n",
        "# call any function from it, that's a [module] this time."
      ],
      "execution_count": null,
      "outputs": []
    },
    {
      "cell_type": "code",
      "metadata": {
        "id": "dhUn94HOZRJl"
      },
      "source": [
        ""
      ],
      "execution_count": null,
      "outputs": []
    },
    {
      "cell_type": "code",
      "metadata": {
        "id": "AjJYvfAwXRqD"
      },
      "source": [
        "### Creating and Working with Modules"
      ],
      "execution_count": null,
      "outputs": []
    },
    {
      "cell_type": "code",
      "metadata": {
        "id": "tNJSyq_yXRvC"
      },
      "source": [
        "## Scripts & Modules Initialization   (Baslatma)"
      ],
      "execution_count": null,
      "outputs": []
    },
    {
      "cell_type": "code",
      "metadata": {
        "id": "XN-0-KlGXRxL"
      },
      "source": [
        "# scriptler ve modüller , oluşturma açısından temelde aynı yapılara sahiptir \n",
        "# ve bazı Python kodlarını ve func'larini içeren .py uzantılı dosyalardır."
      ],
      "execution_count": null,
      "outputs": []
    },
    {
      "cell_type": "code",
      "metadata": {
        "id": "Mu3VLeX-XRz_"
      },
      "source": [
        "# Daha önce de belirtildigi gibi, daha sonra çalışmak üzere kaydettiğimiz\n",
        "#  bir programdaki tüm kodları, ifadeleri, tanımları ve func'lari içeren \n",
        "# .py uzantılı dosya aslında scripttir "
      ],
      "execution_count": null,
      "outputs": []
    },
    {
      "cell_type": "code",
      "metadata": {
        "id": "2W89Z2WQTiSu"
      },
      "source": [
        "## Task:\n",
        "\n",
        "# module.py adinda aşağıdaki iki func'i içeren bir modülümüz olduğunu hayal edelim\n",
        "\n",
        "# Bu modüle ait my_function_1 isimli func bir dikdörtgenin alanını  \n",
        "# my_function_2 ise dik açılı bir üçgenin hipotenüsünü hesaplar. \n",
        "# Diyelim ki, bu modülü yerel bilgisayarimıza zaten önceden kaydettik\n",
        "#  ve içindeki func'lari çağırmak için bu modülü import etmek istiyoruz.\n",
        "\n",
        "# Simdi Bu modülü import edelim ve içindeki func'lari çağıralim.\n",
        "# Sonra bir dikdörtgenin alanını (a=10, b=20) ve \n",
        "# bir dik üçgenin hipotenüsünü (a=30, b=40) hesaplayalim. "
      ],
      "execution_count": null,
      "outputs": []
    },
    {
      "cell_type": "code",
      "metadata": {
        "id": "-x_2tS2fah48"
      },
      "source": [
        "import module                         # Dikkat: module.py bizim scriptimiz. Biz onu cagirmak \n",
        "                                      # istedigimizde sadece module olarak cagiriyoruz\n",
        "area = import.my_function_1(10, 20)\n",
        "hipotenüs = import.my_function_2(30, 40)\n",
        "\n",
        "print(area)\n",
        "print(hipotenüs)"
      ],
      "execution_count": null,
      "outputs": []
    },
    {
      "cell_type": "code",
      "metadata": {
        "id": "f9pQfr6cah8Y"
      },
      "source": [
        "## Soru:\n",
        "\n",
        "# modules and scripts have exactly the same meaning in Python.  (False)"
      ],
      "execution_count": null,
      "outputs": []
    },
    {
      "cell_type": "code",
      "metadata": {
        "id": "S_3C2TucaiAG"
      },
      "source": [
        ""
      ],
      "execution_count": null,
      "outputs": []
    },
    {
      "cell_type": "code",
      "metadata": {
        "id": "rDZiG38EaiDx"
      },
      "source": [
        "###########   Optional\n",
        "\n",
        "##########  Working with the Modules"
      ],
      "execution_count": null,
      "outputs": []
    },
    {
      "cell_type": "code",
      "metadata": {
        "colab": {
          "base_uri": "https://localhost:8080/",
          "height": 36
        },
        "id": "ZFAuv3y9aiHh",
        "outputId": "ce861da8-99df-44dc-de5e-295fbbfe3d9c"
      },
      "source": [
        "pwd"
      ],
      "execution_count": null,
      "outputs": [
        {
          "output_type": "execute_result",
          "data": {
            "application/vnd.google.colaboratory.intrinsic+json": {
              "type": "string"
            },
            "text/plain": [
              "'/content'"
            ]
          },
          "metadata": {},
          "execution_count": 1
        }
      ]
    },
    {
      "cell_type": "code",
      "metadata": {
        "id": "Fgnr42ENduRa"
      },
      "source": [
        "##  colab'a disaridan module yükleme:\n",
        "\n",
        "# notepad de yeni bir sayfa aciyoruz. Bunun icerisine python kodlarimizi yaziyoruz.\n",
        "# daha sonra bunu bir yere kaydediyoruz. Dikkat .py uzantili olarak\n",
        "# Bu islemden sonra, colab de sol tarafta bulunan dosyalar kismini aciyoruz ve\n",
        "# content' in yanindaki ...  ' ya tikliyoruz ve yükle diyoruz.\n",
        "\n",
        "# Ve yüklemek istedigimiz dosyayi seciyoruz. ve yüklenmis oluyor.\n",
        "\n",
        "# Eger bundan sonra bu dosya üzerinde degisiklik yapmak istersek\n",
        "# bu durumda colab de dosya üzerine iki kez tikliyoruz ve sagda acilan \n",
        "# pencerede istedigimiz sekilde degisiklik yapiyoruz "
      ],
      "execution_count": null,
      "outputs": []
    },
    {
      "cell_type": "code",
      "metadata": {
        "colab": {
          "base_uri": "https://localhost:8080/"
        },
        "id": "xQ16BukY54RZ",
        "outputId": "94b1b0b7-c549-4871-9eca-58048b53d0f6"
      },
      "source": [
        "import hello   \n",
        "\n",
        "hello.my_func1(2)   ## Not: from suz import larda func satirina module ismini yazmamiz gerekir\n",
        "hello.my_func2(4)   # aksi takdirde func ismi tanimli degildir diye hata aliriz"
      ],
      "execution_count": null,
      "outputs": [
        {
          "output_type": "stream",
          "name": "stdout",
          "text": [
            "4\n",
            "6\n"
          ]
        }
      ]
    },
    {
      "cell_type": "code",
      "metadata": {
        "id": "sAwzU64e54ci"
      },
      "source": [
        ""
      ],
      "execution_count": null,
      "outputs": []
    },
    {
      "cell_type": "code",
      "metadata": {
        "id": "M1kW27dnC8gn"
      },
      "source": [
        "###########################  Package Initialization"
      ],
      "execution_count": null,
      "outputs": []
    },
    {
      "cell_type": "code",
      "metadata": {
        "id": "ZBApniruC8jA"
      },
      "source": [
        "# According to the official document of Python, packages are basically \n",
        "# a way of structuring Python’s module namespace by using “dotted module names”."
      ],
      "execution_count": null,
      "outputs": []
    },
    {
      "cell_type": "code",
      "metadata": {
        "id": "OWBpN_JSC8k-"
      },
      "source": [
        "# Çok sayıda modül içeren çok büyük bir proje tasarladığınızı hayal edin. \n",
        "# Projede üzerinde çalıştığınız ve oluşturduğunuz modül sayısı arttıkça, \n",
        "# bunları sistematik olarak takip etmek ve düzenli kullanmak giderek zorlaşmakta \n",
        "# ve sonunda içinden çıkılmaz bir hal almaktadır. Bu, özellikle benzer adlara \n",
        "# veya işlevlere sahiplerse geçerlidir . Modülleri daha sistematik hale getirmek için \n",
        "# paketleri kullanabiliriz ."
      ],
      "execution_count": null,
      "outputs": []
    },
    {
      "cell_type": "code",
      "metadata": {
        "id": "aEGmfxkIC8nP"
      },
      "source": [
        "##  Paket sisteminin temel yapısı su sekildedir:"
      ],
      "execution_count": null,
      "outputs": []
    },
    {
      "cell_type": "code",
      "metadata": {
        "id": "XAZvccUm54e3"
      },
      "source": [
        "## Not: Package lar klasörlerdir. Modüller ise py uzantili birer dosyadir.\n",
        "# func' lar da bu py uzantili dosyalar icerisinde yazili olan formüllerdir.\n",
        "\n",
        "earth/                          # Top-level package\n",
        "      __init__.py               # Initialize the earth package (her paket altinda olmak zorunda)\n",
        "      asia/                     # Subpackage for file asia\n",
        "              __init__.py\n",
        "              japan.py\n",
        "              mongolia.py       # A module under a subpackage \n",
        "              pakistan.py\n",
        "              taiwan.py\n",
        "              ...\n",
        "      europe/                   # Subpackage for file europe\n",
        "              __init__.py\n",
        "              germany.py        # A module under a subpackage\n",
        "              england.py\n",
        "              turkey.py\n",
        "              kosovo.py\n",
        "              ...\n",
        "      america/                  # Subpackage for file america\n",
        "              __init__.py\n",
        "              canada.py\n",
        "              ustates.py\n",
        "              mexico.py\n",
        "              peru.py           # A module under a subpackage\n",
        "              ...\n"
      ],
      "execution_count": null,
      "outputs": []
    },
    {
      "cell_type": "code",
      "metadata": {
        "id": "7t8e_4mJ54hh"
      },
      "source": [
        "## dot notation hiyerarsik modeli, bir pakete, module giris yapmak icin\n",
        "# yada bir func'i call etmek icin kullanilir.\n",
        "\n",
        "# Tüm hiyerarşiyi gösteren içe aktarma sözdizimi, absolute(mutlak) importing\n",
        "# olarak adlandırılır "
      ],
      "execution_count": null,
      "outputs": []
    },
    {
      "cell_type": "code",
      "metadata": {
        "id": "MB11-nFyRf-j"
      },
      "source": [
        "############  absolute importing yöntemleri:"
      ],
      "execution_count": null,
      "outputs": []
    },
    {
      "cell_type": "code",
      "metadata": {
        "id": "ghY4G2njRgG8"
      },
      "source": [
        "##    Birinci yöntem:\n",
        "\n",
        "import earth.europe.kosovo # paket, alt paket ve modül isimlendirmesi ile import \n",
        "\n",
        "earth.europe.kosovo.a_function() # kosovo modülünde tanımlanan bir fonksiyona erişmek istiyoruz\n",
        "\n",
        "                                 #  Bu yöntemde from kullanilmadigi icin, \n",
        "                                 # func satirinda, tekrardan tüm paketleri ve modulü \n",
        "                                 # yazmak zorundayiz"
      ],
      "execution_count": null,
      "outputs": []
    },
    {
      "cell_type": "code",
      "metadata": {
        "id": "_Sm0KXH-RgJy"
      },
      "source": [
        "###  2. yöntem:\n",
        "\n",
        "from earth import europe.kosovo  # importing with naming subpackage and module\n",
        "\n",
        "europe.kosovo.a_function()  # we want to access a function defined in kosovo module\n",
        "                            #  Bu yöntemde from kismina sadece earth yazdik.\n",
        "                            # Bu nedenle func satirinda earth haricinde tüm paket\n",
        "                            # ve module isimlerini yazmamiz gerekir."
      ],
      "execution_count": null,
      "outputs": []
    },
    {
      "cell_type": "code",
      "metadata": {
        "id": "MIBHJfYhRgNb"
      },
      "source": [
        "### 3. yöntem:\n",
        "\n",
        "from earth.europe import kosovo  # package ve subpackage isimleri olmadan import\n",
        "\n",
        "kosovo.a_function()  # we want to access a function defined in kosovo module\n",
        "                     #  Bu yöntemde func satirinda package yada subpackage isimleri yok\n",
        "                     # sadece module ismi kullaniyoruz"
      ],
      "execution_count": null,
      "outputs": []
    },
    {
      "cell_type": "code",
      "metadata": {
        "id": "UF6j1LAK54kP"
      },
      "source": [
        "## 4. Yöntem:\n",
        "\n",
        "from earth.europe.kosovo import a_function  # Bu yöntemde, paket, subpackage ve module ismi\n",
        "                                            # kullanmiyoruz.\n",
        "a_function()                                # we use directly the function's name"
      ],
      "execution_count": null,
      "outputs": []
    },
    {
      "cell_type": "code",
      "metadata": {
        "id": "6VNtYf9xT9TR"
      },
      "source": [
        "# Hangi yöntemi kullanacagimiz ihtiyaçlarımıza bağlıdır. \n",
        "#  Ancak önemli olan husus readability yani okunabilirliktir"
      ],
      "execution_count": null,
      "outputs": []
    },
    {
      "cell_type": "code",
      "metadata": {
        "id": "1BUOF1Y0T9V5"
      },
      "source": [
        "### Önemli:\n",
        "# Python'un oluşturdugumuz klasörleri paketler/alt paketler olarak tanıması için \n",
        "# hem paket hem de alt paket klasörlerinde __init__.py adında boş bir dosya \n",
        "# oluşturmanız gerekir .\n",
        "\n",
        "# Bu dosyalar genellikle boşturlar, ancak paketin bazı başlatma kodlarını içerebilirler."
      ],
      "execution_count": null,
      "outputs": []
    },
    {
      "cell_type": "code",
      "metadata": {
        "id": "dgQfIwRVT9Yp"
      },
      "source": [
        "# Note:\n",
        "\n",
        "# from package import item    kullanildiginda, buradaki item ya bir subpackage\n",
        "# yada bir submodule olabilir. \n",
        "# veyahut da, package icinde tanimlanmis herhangi bir func, class yada variable ismi olabilir"
      ],
      "execution_count": null,
      "outputs": []
    },
    {
      "cell_type": "code",
      "metadata": {
        "id": "rZQ0IOdnT9bE"
      },
      "source": [
        "# import ifadesi önce yazmis oldugumuz \"item\" in pakette tanımlanıp \n",
        "# tanımlanmadığını test eder; değilse modül olduğunu varsayar \n",
        "# ve yüklemeye çalışır. Bulamazsa, ImportError verir"
      ],
      "execution_count": null,
      "outputs": []
    },
    {
      "cell_type": "code",
      "metadata": {
        "id": "8Yghti9NT9dA"
      },
      "source": [
        "# Interview:\n",
        "\n",
        "# Python'da modül ve paket nedir?\n",
        "# Python'da modül, programı yapılandırmanın yoludur. \n",
        "# Her Python program dosyası, nesneler ve nitelikler gibi \n",
        "# diğer modülleri içe aktaran bir modüldür. \n",
        "\n",
        "# Python programının klasörü bir modül paketidir. \n",
        "# Bir paketin modülleri veya alt klasörleri olabilir."
      ],
      "execution_count": null,
      "outputs": []
    },
    {
      "cell_type": "code",
      "metadata": {
        "colab": {
          "base_uri": "https://localhost:8080/"
        },
        "id": "7ngossKTaONP",
        "outputId": "23f8a178-c38c-4c1c-821c-cacb842c93cd"
      },
      "source": [
        "##  simdi erath adinda kendi paketimizi olusturduk \n",
        "# ve 4 yöntemle calistiralim\n",
        "\n",
        "from earth.asia import japan\n",
        "\n",
        "japan.my_func1(2)\n",
        "japan.my_func2(\"ankara\")"
      ],
      "execution_count": null,
      "outputs": [
        {
          "output_type": "stream",
          "name": "stdout",
          "text": [
            "4\n",
            "a n k a r a\n"
          ]
        }
      ]
    },
    {
      "cell_type": "code",
      "metadata": {
        "colab": {
          "base_uri": "https://localhost:8080/"
        },
        "id": "YSjP17tkaOTs",
        "outputId": "a6c5a217-c854-4da5-ce0f-828202f71a6a"
      },
      "source": [
        "from earth.asia.japan import my_func1\n",
        "\n",
        "my_func1(5)"
      ],
      "execution_count": null,
      "outputs": [
        {
          "output_type": "stream",
          "name": "stdout",
          "text": [
            "25\n"
          ]
        }
      ]
    },
    {
      "cell_type": "code",
      "metadata": {
        "colab": {
          "base_uri": "https://localhost:8080/"
        },
        "id": "wmf-ephhaOXH",
        "outputId": "333f141d-b292-4ea2-d557-5744c6d2dae4"
      },
      "source": [
        "import earth.asia.japan\n",
        "\n",
        "earth.asia.japan.my_func1(6)"
      ],
      "execution_count": null,
      "outputs": [
        {
          "output_type": "stream",
          "name": "stdout",
          "text": [
            "36\n"
          ]
        }
      ]
    },
    {
      "cell_type": "code",
      "metadata": {
        "id": "Ghe00PS1aOaY"
      },
      "source": [
        "########   pre class sorular"
      ],
      "execution_count": null,
      "outputs": []
    },
    {
      "cell_type": "code",
      "metadata": {
        "id": "kNsgIo5haOdZ"
      },
      "source": [
        "# pip allows you to install/uninstall, and manage additional packages \n",
        "# that are not part of the Python standard modules. "
      ],
      "execution_count": null,
      "outputs": []
    },
    {
      "cell_type": "code",
      "metadata": {
        "id": "ryhIueh1T9fO"
      },
      "source": [
        "earth/                          # Top-level package\n",
        "      __init__.py               # Initialize the earth package\n",
        "      asia/                     # Subpackage for file asia\n",
        "              __init__.py\n",
        "              japan.py\n",
        "              mongolia.py       # A module under a subpackage\n",
        "              pakistan.py\n",
        "              taiwan.py\n",
        "              ...\n",
        "      europe/                   # Subpackage for file europe\n",
        "              __init__.py\n",
        "              germany.py        # A module under a subpackage\n",
        "              england.py\n",
        "              turkey.py\n",
        "              kosovo.py\n",
        "              ...\n",
        "      america/                  # Subpackage for file america\n",
        "              __init__.py\n",
        "              canada.py\n",
        "              ustates.py\n",
        "              mexico.py\n",
        "              peru.py           # A module under a subpackage\n",
        "              ...\n",
        "\n",
        "\n",
        "# Regarding this packages structure, suppose you are working in turkey.py file. \n",
        "# Which of the following is a correct syntax to import peru module \n",
        "# into turkey.py file using relative imports?\n",
        "\n",
        "# Dikkat: absolute path degil relative import. Bu nedenle absolute gibi hepsini yazmiyoruz\n",
        "\n",
        "from . import peru\n",
        "\n",
        "from .. import peru\n",
        "\n",
        "from ..america import peru (True)\n",
        "\n",
        "from ... import america.peru"
      ],
      "execution_count": null,
      "outputs": []
    },
    {
      "cell_type": "code",
      "metadata": {
        "id": "YozHUl1U2Vdf"
      },
      "source": [
        "## There are different styles for importing packages/subpackages/modules \n",
        "# in absolute importing method. Which one is not the same usage \n",
        "# with the following command in absolute importing method?\n",
        "\n",
        "import earth.europe.kosovo\n",
        "\n",
        "\n",
        "# A) from earth.europe import kosovo\n",
        "\n",
        "# B) from earth import europe.kosovo\n",
        "\n",
        "# C) from earth.europe.kosovo import a_function (True)"
      ],
      "execution_count": null,
      "outputs": []
    },
    {
      "cell_type": "code",
      "metadata": {
        "id": "vAiuy6K42Vfn"
      },
      "source": [
        "# Which syntax allows us to import all modules that the subpackage has?\n",
        "Select one or more:\n",
        "\n",
        "from package.subpackage import all \n",
        "\n",
        "\n",
        "from package.subpackage load all \n",
        "\n",
        "\n",
        "from package.subpackage import * (True)"
      ],
      "execution_count": null,
      "outputs": []
    },
    {
      "cell_type": "code",
      "metadata": {
        "id": "byWKMd_i2Vht"
      },
      "source": [
        "# pip stands for: \n",
        "\n",
        "# A) Pip Installs Packages (True)\n",
        "\n",
        "# B) Packages Install Pip\n",
        "\n",
        "# C) Packages In Python"
      ],
      "execution_count": null,
      "outputs": []
    },
    {
      "cell_type": "code",
      "metadata": {
        "id": "OyBY3LfQ2Vjn"
      },
      "source": [
        ""
      ],
      "execution_count": null,
      "outputs": []
    },
    {
      "cell_type": "code",
      "metadata": {
        "colab": {
          "base_uri": "https://localhost:8080/"
        },
        "id": "RwpWHKmD3XRm",
        "outputId": "75ffadaf-450d-4ca7-cee3-432f30e4e0c6"
      },
      "source": [
        "##  paketlerimizin icerisinde bulunan attribute lari görmek icin \n",
        "# dir() func kullaniriz\n",
        "\n",
        "from earth.asia.japan import my_func1\n",
        "\n",
        "print(dir(earth))  ##  builtins ile baslayanlar tüm package lerin default icerigidir\n",
        "print(dir(my_func1))"
      ],
      "execution_count": null,
      "outputs": [
        {
          "output_type": "stream",
          "name": "stdout",
          "text": [
            "['__builtins__', '__cached__', '__doc__', '__file__', '__loader__', '__name__', '__package__', '__path__', '__spec__', 'asia']\n",
            "['__annotations__', '__call__', '__class__', '__closure__', '__code__', '__defaults__', '__delattr__', '__dict__', '__dir__', '__doc__', '__eq__', '__format__', '__ge__', '__get__', '__getattribute__', '__globals__', '__gt__', '__hash__', '__init__', '__init_subclass__', '__kwdefaults__', '__le__', '__lt__', '__module__', '__name__', '__ne__', '__new__', '__qualname__', '__reduce__', '__reduce_ex__', '__repr__', '__setattr__', '__sizeof__', '__str__', '__subclasshook__']\n"
          ]
        }
      ]
    },
    {
      "cell_type": "code",
      "metadata": {
        "id": "saTyIpfc3XUj"
      },
      "source": [
        "## # pre class youtube video\n",
        "\n",
        "# Moduller nedir?\n",
        "\n",
        "# Python da Modul; funcionlari, class lari yada diger componentleri olan \n",
        "# bir python dosyasidir.\n",
        "\n",
        "## Modülleri neden kullaniriz?\n",
        "\n",
        "# Kodumuzu kullanilir bir yapiya büründürmek icin. Yani kodumuzun devam eden \n",
        "# kisimlarinda bunlari cagirip kodumuyda kolaylikla kullanabilmek amaci ile"
      ],
      "execution_count": null,
      "outputs": []
    },
    {
      "cell_type": "code",
      "metadata": {
        "colab": {
          "base_uri": "https://localhost:8080/"
        },
        "id": "FQWP_9HQ3XXq",
        "outputId": "509249cc-a761-41c3-e524-f6fc64e0828f"
      },
      "source": [
        "## helper.py adinda bir dosya olusturalim ve dolayisi ile helper adinda\n",
        "# bir module import edelim. Icerisinde de display adinda bir func olsun\n",
        "\n",
        "# simdi bu module'ü 3 farkli sekilde import edelim"
      ],
      "execution_count": null,
      "outputs": [
        {
          "output_type": "stream",
          "name": "stdout",
          "text": [
            "ben\n"
          ]
        }
      ]
    },
    {
      "cell_type": "code",
      "metadata": {
        "colab": {
          "base_uri": "https://localhost:8080/"
        },
        "id": "POA7hYDh3Xa1",
        "outputId": "00463ac4-748a-45ea-ef08-0b6e0d223eb6"
      },
      "source": [
        "##  import module as nameplace\n",
        "\n",
        "import helper\n",
        "\n",
        "helper.display(\"Not a Warning\")"
      ],
      "execution_count": null,
      "outputs": [
        {
          "output_type": "stream",
          "name": "stdout",
          "text": [
            "Not a Warning\n"
          ]
        }
      ]
    },
    {
      "cell_type": "code",
      "metadata": {
        "colab": {
          "base_uri": "https://localhost:8080/"
        },
        "id": "hlJtXDUi3Xdm",
        "outputId": "7c73175d-954d-451d-dbbd-7844903b852c"
      },
      "source": [
        "##  import all into current nameplace\n",
        "\n",
        "from helper import * \n",
        "\n",
        "display(\"Not Warning!\")    ## herseyi import ettigimiz icin sadece func ismi yaziyoruz"
      ],
      "execution_count": null,
      "outputs": [
        {
          "output_type": "stream",
          "name": "stdout",
          "text": [
            "Not Warning!\n"
          ]
        }
      ]
    },
    {
      "cell_type": "code",
      "metadata": {
        "colab": {
          "base_uri": "https://localhost:8080/"
        },
        "id": "Q-ijUwUv3XgW",
        "outputId": "d84d5808-bc7a-4687-bc9d-ce12b1cfbf57"
      },
      "source": [
        "###  import specific items into current nameplace\n",
        "# yani sadece ihtiyac duydugumuz func'i import etme\n",
        "\n",
        "from helper import display\n",
        "\n",
        "display(\"Not a Warning\")\n"
      ],
      "execution_count": null,
      "outputs": [
        {
          "output_type": "stream",
          "name": "stdout",
          "text": [
            "Not a Warning\n"
          ]
        }
      ]
    },
    {
      "cell_type": "code",
      "metadata": {
        "id": "PTM-vyWD2Vl2"
      },
      "source": [
        "### Not: yukarida import ettigimiz 3 kod da ayni görevi yerine getirmektedir.\n",
        "# sadece import yöntemleri farklidir. Bu yöntem de bizim ihtiyac duydugumuz \n",
        "# seye göre sekillenir\n",
        "\n",
        "# Ve bu import yöntemlerinden hangisinin kullanilacagi tamamen \n",
        "# kodu yazan kisiye kalmistir\n",
        "\n",
        "# Ama dikkat edilmesi gereken sey sudur:\n",
        "# Eger birden cok package da yada module de calisiyorsak, \n",
        "# bu durumda func yada module isimlerinin karisabilecegi hususudur."
      ],
      "execution_count": null,
      "outputs": []
    },
    {
      "cell_type": "code",
      "metadata": {
        "id": "DJyoKgjRByHb"
      },
      "source": [
        "###############   installing Packages"
      ],
      "execution_count": null,
      "outputs": []
    },
    {
      "cell_type": "code",
      "metadata": {
        "id": "LNGYkNMEByJ1"
      },
      "source": [
        "##  install a individual package\n",
        "\n",
        "pip install colorama       ### colorama bir pacakage dir. Ve metnin rengini kolayca \n",
        "                            # degistirmemize yardimci olur"
      ],
      "execution_count": null,
      "outputs": []
    },
    {
      "cell_type": "code",
      "metadata": {
        "id": "8fbc8SX3ByMF"
      },
      "source": [
        "## install from a list of packages\n",
        "\n",
        "pip install -r requirements.txt    # eger package leri bir list seklinde install\n",
        "                                    # etmek istersek bu durumda bunlarin isimlerini\n",
        "                                    # bir txt dosyasi icerisine yazabiliriz\n",
        "                                    # ve dosya genelde requirements.txt olarak adlandirilir\n",
        "\n",
        "                                    # peki bu dosyada neler vardir?\n",
        "                                    # bu sadece bir txt dosyasidir ve icerisinde \n",
        "                                    # install etmek istedigimiz package lerin listesi vardir"
      ],
      "execution_count": null,
      "outputs": []
    },
    {
      "cell_type": "code",
      "metadata": {
        "id": "211sTYodByOM"
      },
      "source": [
        "# requirements.txt\n",
        "\n",
        "colorama"
      ],
      "execution_count": null,
      "outputs": []
    },
    {
      "cell_type": "code",
      "metadata": {
        "id": "YnIGwym1ByQB"
      },
      "source": [
        ""
      ],
      "execution_count": null,
      "outputs": []
    },
    {
      "cell_type": "code",
      "source": [
        "#######################################################\n",
        "\n",
        "###  inclass ders tekrari"
      ],
      "metadata": {
        "id": "CDZYrmNpRoDk"
      },
      "execution_count": null,
      "outputs": []
    },
    {
      "cell_type": "code",
      "metadata": {
        "id": "tSxuzlqMByWv"
      },
      "source": [
        "##  current directory mizi pwd komutu ile görebiliriz"
      ],
      "execution_count": null,
      "outputs": []
    },
    {
      "cell_type": "code",
      "source": [
        "##  klasör dosya ve modüllerimizi olustururken initialize edebilmek icin \n",
        "# init dosyasi olusturmamiz gerekir. Ancak biz su ana kadar bu dosyayi hep bos biraktik.\n",
        "# peki bu dosyayi ne zaman ve neden dolduruyoruz.\n",
        "\n",
        "# eger modülümü import ettigimizde baska func'larin yada modüllerin de import\n",
        "# edilmesini istiyorsak, bu durumda init dosyasinin icerisine bu modül yada\n",
        "# func'lari yaziyoruz."
      ],
      "metadata": {
        "id": "cbqCO65rRsxx"
      },
      "execution_count": null,
      "outputs": []
    },
    {
      "cell_type": "code",
      "source": [
        "## mesela pandas kütüphanesini import ettigimizde \n",
        "# otomatik olarak numpy da import edilir. yani numpy init dosyasi icindedir"
      ],
      "metadata": {
        "id": "PxzDhenURs24"
      },
      "execution_count": null,
      "outputs": []
    },
    {
      "cell_type": "code",
      "source": [
        "## modül demek py uzantili bir dosya demektir.\n",
        "# package ise bu dosyaya sahiplik eden klasördür.\n",
        "\n",
        "# py uzantili bu dosya ayni zamanda bizim kütüphanemizdir.\n",
        "# pandas kütüphanesi de ani sekilde py uzantili bir dosyadan baska birsey degildir"
      ],
      "metadata": {
        "id": "YYy-g3PcRs6c"
      },
      "execution_count": null,
      "outputs": []
    },
    {
      "cell_type": "code",
      "source": [
        "## örnek bir import \n",
        "\n",
        "from upper.mypackage.mymodule import fonksiyon\n",
        "\n",
        "fonksiyon(7)"
      ],
      "metadata": {
        "colab": {
          "base_uri": "https://localhost:8080/"
        },
        "id": "MQ_wHRE_Rs-A",
        "outputId": "946b0c54-3ddb-4162-a5b2-eec284084b36"
      },
      "execution_count": null,
      "outputs": [
        {
          "output_type": "execute_result",
          "data": {
            "text/plain": [
              "49"
            ]
          },
          "metadata": {},
          "execution_count": 6
        }
      ]
    },
    {
      "cell_type": "code",
      "source": [
        "from upper.mypackage import mymodule\n",
        "\n",
        "mymodule.fonksiyon(7)"
      ],
      "metadata": {
        "colab": {
          "base_uri": "https://localhost:8080/"
        },
        "id": "l0ZymNJSRtBc",
        "outputId": "1ec18ae9-f269-4fc7-d5b3-e0b11eee2137"
      },
      "execution_count": null,
      "outputs": [
        {
          "output_type": "execute_result",
          "data": {
            "text/plain": [
              "49"
            ]
          },
          "metadata": {},
          "execution_count": 8
        }
      ]
    },
    {
      "cell_type": "code",
      "source": [
        "## Not: ipynb dosyasi özel bir dosyadir ve python kodlarini hücre hücre \n",
        "# görmemizi saglar. py dosyasi ise basit bir txt dosyasi gibidir.\n",
        "# uzantisi py yapilarak python dosyasina cevrilir"
      ],
      "metadata": {
        "id": "qLuDKapGRtFX"
      },
      "execution_count": null,
      "outputs": []
    },
    {
      "cell_type": "code",
      "source": [
        "## script ve modul ayni seylerdir. yani ikisi de python kodlari iceren\n",
        "# birer python dosyasidir. ancak aralarindaki fark sudur:\n",
        "# script'i import edince bu modül olur"
      ],
      "metadata": {
        "id": "vEtTl97MRtI4"
      },
      "execution_count": null,
      "outputs": []
    },
    {
      "cell_type": "code",
      "source": [
        "####  bir modülü nickname ile import etme:\n",
        "\n",
        "import my_module as my\n",
        "\n",
        "my.my_function(variable)   # burada func'i cagirma yöntemimize nokta notation ile cagirma denir\n",
        "\n",
        "# burada as kisminda kullandigimiz isim tamamen optional dir.\n",
        "# kullanmak zorunda degiliz"
      ],
      "metadata": {
        "id": "7biK2f6o9nkM"
      },
      "execution_count": null,
      "outputs": []
    },
    {
      "cell_type": "code",
      "source": [
        "##  import etigimiz module, an itibari ile kullandigimiz jupyter'in \n",
        "# kernel'ine yüklenmis olur. O nedenle hafizada yer kaplar"
      ],
      "metadata": {
        "id": "QExBJNQL9nnO"
      },
      "execution_count": null,
      "outputs": []
    },
    {
      "cell_type": "code",
      "source": [
        "## eger modulü komple import edip hafizada yer kaplamasini istemiyorsak\n",
        "# bu durumda sadece func'i import edebiliriz.\n",
        "\n",
        "from my_module import my_function\n",
        "\n",
        "my_function(5)       ## dikkat, bu durumda call esnasinda my_module yazmiyoruz"
      ],
      "metadata": {
        "id": "CahsyH_Z9np8"
      },
      "execution_count": null,
      "outputs": []
    },
    {
      "cell_type": "code",
      "source": [
        "#######  birden cok modülü import etme:\n",
        "\n",
        "# bunun icin iki farkli yöntem vardir. ancak prosedür olarak genellikle ilk\n",
        "# yöntem kullanilir. ikincisi cok kullanilmaz\n",
        "\n",
        "import module1\n",
        "import module2\n",
        "import module3"
      ],
      "metadata": {
        "id": "TXeUSEE19ns7"
      },
      "execution_count": null,
      "outputs": []
    },
    {
      "cell_type": "code",
      "source": [
        "### ikinci yöntem:\n",
        "\n",
        "import module1, module2, module3"
      ],
      "metadata": {
        "id": "mWxUR89N9nv-"
      },
      "execution_count": null,
      "outputs": []
    },
    {
      "cell_type": "code",
      "source": [
        "#  python da built in func olarak mutlak deger alan func abs() dir.\n",
        "# birde built in module olan math modulüne ait bu görevi yapan bir func vardir.\n",
        "# bunun adi da fabs dir.\n",
        "\n",
        "import math\n",
        "\n",
        "math.fabs(-5)"
      ],
      "metadata": {
        "colab": {
          "base_uri": "https://localhost:8080/"
        },
        "id": "ztWZrAe_9nyW",
        "outputId": "d9a2894a-a650-4c4c-9e45-e647134737cb"
      },
      "execution_count": null,
      "outputs": [
        {
          "output_type": "execute_result",
          "data": {
            "text/plain": [
              "5.0"
            ]
          },
          "metadata": {},
          "execution_count": 2
        }
      ]
    },
    {
      "cell_type": "code",
      "source": [
        "##  math modulüne ait factorial func()\n",
        "\n",
        "math.factorial(5)"
      ],
      "metadata": {
        "colab": {
          "base_uri": "https://localhost:8080/"
        },
        "id": "5dmM0iD09n1A",
        "outputId": "9384e03d-76b8-4168-9c0f-a025ed5e7246"
      },
      "execution_count": null,
      "outputs": [
        {
          "output_type": "execute_result",
          "data": {
            "text/plain": [
              "120"
            ]
          },
          "metadata": {},
          "execution_count": 4
        }
      ]
    },
    {
      "cell_type": "code",
      "source": [
        "# taban veren func\n",
        "\n",
        "math.floor(5.1234567)"
      ],
      "metadata": {
        "colab": {
          "base_uri": "https://localhost:8080/"
        },
        "id": "Rhad9uVGRtMc",
        "outputId": "f59ce8e5-a21e-4202-e8a7-c849bd017229"
      },
      "execution_count": null,
      "outputs": [
        {
          "output_type": "execute_result",
          "data": {
            "text/plain": [
              "5"
            ]
          },
          "metadata": {},
          "execution_count": 8
        }
      ]
    },
    {
      "cell_type": "code",
      "source": [
        "## !wget + link\n",
        "\n",
        "# komutu ile internet üzerinde bulunan bir modülü kendi lokal pc mize \n",
        "# import edebiliriz"
      ],
      "metadata": {
        "id": "76_w2ABXRtPT"
      },
      "execution_count": null,
      "outputs": []
    },
    {
      "cell_type": "code",
      "source": [
        "### Bir modül icerisinde ne oldugunu görme:\n",
        "import math \n",
        "\n",
        "print(dir(math))         ### bunlar default olarak cikan object lerdir"
      ],
      "metadata": {
        "colab": {
          "base_uri": "https://localhost:8080/"
        },
        "id": "xMs_aroyRtSd",
        "outputId": "c9492e87-cc48-4493-dfee-b02eb91b3aee"
      },
      "execution_count": null,
      "outputs": [
        {
          "output_type": "stream",
          "name": "stdout",
          "text": [
            "['__doc__', '__loader__', '__name__', '__package__', '__spec__', 'acos', 'acosh', 'asin', 'asinh', 'atan', 'atan2', 'atanh', 'ceil', 'copysign', 'cos', 'cosh', 'degrees', 'e', 'erf', 'erfc', 'exp', 'expm1', 'fabs', 'factorial', 'floor', 'fmod', 'frexp', 'fsum', 'gamma', 'gcd', 'hypot', 'inf', 'isclose', 'isfinite', 'isinf', 'isnan', 'ldexp', 'lgamma', 'log', 'log10', 'log1p', 'log2', 'modf', 'nan', 'pi', 'pow', 'radians', 'remainder', 'sin', 'sinh', 'sqrt', 'tan', 'tanh', 'tau', 'trunc']\n"
          ]
        }
      ]
    },
    {
      "cell_type": "code",
      "source": [
        "from math import pi, factorial, log10\n",
        "\n",
        "print(log10(1000))\n",
        "\n",
        "print(factorial(5))\n",
        "\n",
        "pi   # (burada pi'nin degerini ögrenmek istedigimizde pi() seklinde yazmiyoruz)"
      ],
      "metadata": {
        "colab": {
          "base_uri": "https://localhost:8080/"
        },
        "id": "JGTf5wnkENaL",
        "outputId": "2d58c2c2-9de7-4419-8434-680d4063a80d"
      },
      "execution_count": null,
      "outputs": [
        {
          "output_type": "stream",
          "name": "stdout",
          "text": [
            "3.0\n",
            "120\n"
          ]
        },
        {
          "output_type": "execute_result",
          "data": {
            "text/plain": [
              "3.141592653589793"
            ]
          },
          "metadata": {},
          "execution_count": 20
        }
      ]
    },
    {
      "cell_type": "code",
      "source": [
        "from string import punctuation, digits\n",
        "\n",
        "print(punctuation)\n",
        "\n",
        "print(digits)"
      ],
      "metadata": {
        "colab": {
          "base_uri": "https://localhost:8080/"
        },
        "id": "UD37eFDXENcg",
        "outputId": "a4debe85-da3d-43ba-96c1-8bcf101fddfd"
      },
      "execution_count": null,
      "outputs": [
        {
          "output_type": "stream",
          "name": "stdout",
          "text": [
            "!\"#$%&'()*+,-./:;<=>?@[\\]^_`{|}~\n",
            "0123456789\n"
          ]
        }
      ]
    },
    {
      "cell_type": "code",
      "source": [
        "# stringi komple import etme:\n",
        "\n",
        "import string    # komple bir modülü import ettigimizde, string yazip ve nokta\n",
        "                 # koyup beklersek string icerisinde neler oldugunu görebiliriz      \n",
        "string."
      ],
      "metadata": {
        "id": "OcdPcMZJENfj"
      },
      "execution_count": null,
      "outputs": []
    },
    {
      "cell_type": "code",
      "source": [
        "import string\n",
        "\n",
        "string.whitespace"
      ],
      "metadata": {
        "colab": {
          "base_uri": "https://localhost:8080/",
          "height": 36
        },
        "id": "_QIbKrqVaXmp",
        "outputId": "21bf70c6-94b8-4abd-906f-6478c9a688cd"
      },
      "execution_count": null,
      "outputs": [
        {
          "output_type": "execute_result",
          "data": {
            "application/vnd.google.colaboratory.intrinsic+json": {
              "type": "string"
            },
            "text/plain": [
              "' \\t\\n\\r\\x0b\\x0c'"
            ]
          },
          "metadata": {},
          "execution_count": 8
        }
      ]
    },
    {
      "cell_type": "code",
      "source": [
        "string.printable"
      ],
      "metadata": {
        "colab": {
          "base_uri": "https://localhost:8080/",
          "height": 36
        },
        "id": "-jAMAt9daXpG",
        "outputId": "809eb891-b67d-48a0-d000-9419288c3fc5"
      },
      "execution_count": null,
      "outputs": [
        {
          "output_type": "execute_result",
          "data": {
            "application/vnd.google.colaboratory.intrinsic+json": {
              "type": "string"
            },
            "text/plain": [
              "'0123456789abcdefghijklmnopqrstuvwxyzABCDEFGHIJKLMNOPQRSTUVWXYZ!\"#$%&\\'()*+,-./:;<=>?@[\\\\]^_`{|}~ \\t\\n\\r\\x0b\\x0c'"
            ]
          },
          "metadata": {},
          "execution_count": 11
        }
      ]
    },
    {
      "cell_type": "code",
      "source": [
        "### 8 lik tabandaki sayilar\n",
        "\n",
        "string.octdigits"
      ],
      "metadata": {
        "colab": {
          "base_uri": "https://localhost:8080/",
          "height": 36
        },
        "id": "sknR8VbUaXt5",
        "outputId": "4731abfd-78da-422f-c778-c6371ce2f82e"
      },
      "execution_count": null,
      "outputs": [
        {
          "output_type": "execute_result",
          "data": {
            "application/vnd.google.colaboratory.intrinsic+json": {
              "type": "string"
            },
            "text/plain": [
              "'01234567'"
            ]
          },
          "metadata": {},
          "execution_count": 15
        }
      ]
    },
    {
      "cell_type": "code",
      "source": [
        "# 16 lik tabandaki sayilar\n",
        "\n",
        "string.hexdigits "
      ],
      "metadata": {
        "colab": {
          "base_uri": "https://localhost:8080/",
          "height": 36
        },
        "id": "lC2h_rhma05P",
        "outputId": "59426a05-2499-4050-911a-c6a03ab1db0a"
      },
      "execution_count": null,
      "outputs": [
        {
          "output_type": "execute_result",
          "data": {
            "application/vnd.google.colaboratory.intrinsic+json": {
              "type": "string"
            },
            "text/plain": [
              "'0123456789abcdefABCDEF'"
            ]
          },
          "metadata": {},
          "execution_count": 13
        }
      ]
    },
    {
      "cell_type": "code",
      "source": [
        "# bir modül icerisindeki herseyi import etme yöntemi:\n",
        "\n",
        "from math import *"
      ],
      "metadata": {
        "id": "3EuMSd9aENi9"
      },
      "execution_count": null,
      "outputs": []
    },
    {
      "cell_type": "code",
      "source": [
        "from datetime import date, datetime   #  burada ilk datetime packagedir\n",
        "                                      # ikinci datetime ise modüle'dür\n",
        "print(date.today())    # today, date object'i icerisindedir\n",
        "print(datetime.now())  # now ise datetime objecti icerisindedir "
      ],
      "metadata": {
        "colab": {
          "base_uri": "https://localhost:8080/"
        },
        "id": "a0DApAVrENlu",
        "outputId": "4362dab2-90a4-42b7-9e03-eabe9d3bcb01"
      },
      "execution_count": null,
      "outputs": [
        {
          "output_type": "stream",
          "name": "stdout",
          "text": [
            "2021-12-12\n",
            "2021-12-12 19:36:51.745684\n"
          ]
        }
      ]
    },
    {
      "cell_type": "code",
      "source": [
        "## Bir insanin kac yil yasadigini hesaplama:\n",
        "\n",
        "## 22 April 571\n",
        "## 8 June 632\n",
        "\n",
        "# datetime packegi'i icerisinde milad'i 0 olarak kabul edip,\n",
        "# 0 dan bizim yazmis oldugumuz tarihe kadar kac gün gectigini hesaplayan\n",
        "# bir func() vardir. \n",
        "\n",
        "# önce ölüm tarihinden 0'i cikariyoruz\n",
        "# daha sonra dogum tarihinden 0'i cikariyoruz\n",
        "# ve bu ikisi arasindaki farki bulunca, kac gün yasadigini buluyoruz"
      ],
      "metadata": {
        "id": "bLbTrZsOENo4"
      },
      "execution_count": null,
      "outputs": []
    },
    {
      "cell_type": "code",
      "source": [
        "from datetime import date\n",
        "\n",
        "birth = date(571, 4, 22)  ## burada, date yazip parantez acinca icerisine ne alacagi\n",
        "death = date(632, 6, 8)   # detayli olarak yazilir.  (yil, ay, gün)  alir\n",
        "\n",
        "death  ## su an death'i yazdirdigimizda, bir object ciktisi aliriz\n",
        "\n",
        "vefat = date.toordinal(death)  ## toordinal, icerisine bizim olusturdugumuz death object alir\n",
        "dogum = date.toordinal(birth)\n",
        "\n",
        "print(vefat - dogum)\n",
        "\n",
        "print(death - birth)  # direkt bu sekilde de yazilabilir"
      ],
      "metadata": {
        "colab": {
          "base_uri": "https://localhost:8080/"
        },
        "id": "mdofKklDENrn",
        "outputId": "c7c1ac8a-d956-4077-a067-e2d843e50d42"
      },
      "execution_count": null,
      "outputs": [
        {
          "output_type": "stream",
          "name": "stdout",
          "text": [
            "22327\n",
            "22327 days, 0:00:00\n"
          ]
        }
      ]
    },
    {
      "cell_type": "code",
      "source": [
        "## benim dogum günü\n",
        "\n",
        "from datetime import date\n",
        "dogum = date(1991, 1, 15)   ##  dikkat buraya 01 yazarsak calismaz\n",
        "bugün = date(2021, 12, 12)\n",
        "\n",
        "gün = date.toordinal(bugün) - date.toordinal(dogum)\n",
        "\n",
        "print(gün)"
      ],
      "metadata": {
        "colab": {
          "base_uri": "https://localhost:8080/"
        },
        "id": "NiIzOh-xENur",
        "outputId": "13636448-ef4c-4a9b-db82-5da8cb6622f3"
      },
      "execution_count": null,
      "outputs": [
        {
          "output_type": "stream",
          "name": "stdout",
          "text": [
            "11289\n"
          ]
        }
      ]
    },
    {
      "cell_type": "code",
      "source": [
        "from random import choice\n",
        "\n",
        "liste = [\"ankara\", \"istanbul\", \"bursa\", \"izmir\"]\n",
        "\n",
        "print(choice(liste))   # choice func icerisine bir arguman alir ve her calistirildiginda\n",
        "                       # random olarak bir eleman return eder."
      ],
      "metadata": {
        "colab": {
          "base_uri": "https://localhost:8080/"
        },
        "id": "esN9vFk-ENx1",
        "outputId": "fb1ce47a-9274-4e21-ff8a-f25ff5817de4"
      },
      "execution_count": null,
      "outputs": [
        {
          "output_type": "stream",
          "name": "stdout",
          "text": [
            "bursa\n"
          ]
        }
      ]
    },
    {
      "cell_type": "code",
      "source": [
        "####  tas kagit makas oyunu:\n",
        "\n",
        "secenek = [\"tas\", \"kagit\", \"makas\"]\n",
        "kullanici = input(\"Lütfen bir veri giriniz: \")\n",
        "\n",
        "from random import choice\n",
        "bilgisayar = choice(secenek)\n",
        "\n",
        "print(f\"Bilgisayar {bilgisayar} secti\")\n",
        "print(f\"Kullanici {kullanici} secti\")\n",
        "\n",
        "if bilgisayar == \"tas\" and kullanici == \"makas\":\n",
        "  print(\"Bilgisayar kazandi\")\n",
        "elif bilgisayar == \"makas\" and kullanici == \"kagit\":\n",
        "  print(\"Bilgisayar kazandi\")\n",
        "elif bilgisayar == \"kagit\" and kullanici == \"tas\":\n",
        "  print(\"Bilgisayar kazandi\")\n",
        "elif bilgisayar == kullanici:\n",
        "  print(\"Lütfen tekrar ediniz\")\n",
        "else:\n",
        "  print(\"Kullanici kazandi\")"
      ],
      "metadata": {
        "colab": {
          "base_uri": "https://localhost:8080/"
        },
        "id": "iaxmYSdkEN0M",
        "outputId": "1caad569-7826-4f42-9d3f-cf647d568876"
      },
      "execution_count": null,
      "outputs": [
        {
          "output_type": "stream",
          "name": "stdout",
          "text": [
            "Lütfen bir veri giriniz: kagit\n",
            "Bilgisayar tas secti\n",
            "Kullanici kagit secti\n",
            "Kullanici kazandi\n"
          ]
        }
      ]
    },
    {
      "cell_type": "code",
      "source": [
        "####################### "
      ],
      "metadata": {
        "id": "2chTjRS6EN2s"
      },
      "execution_count": null,
      "outputs": []
    },
    {
      "cell_type": "code",
      "source": [
        "###############  pip -  The package manager for Python "
      ],
      "metadata": {
        "id": "T8nC-mJpUH93"
      },
      "execution_count": null,
      "outputs": []
    },
    {
      "cell_type": "code",
      "source": [
        "## pip de ayni zamanda bir python modülüdür\n",
        "# python indirince otomatik olarak gelir"
      ],
      "metadata": {
        "id": "QJd_AE5MUIAJ"
      },
      "execution_count": null,
      "outputs": []
    },
    {
      "cell_type": "code",
      "source": [
        "## pip library mizin versionuna su sekilde bakariz: \n",
        "\n",
        "pip --version            ### colab de zaten hazir olarak yüklüdür"
      ],
      "metadata": {
        "colab": {
          "base_uri": "https://localhost:8080/"
        },
        "id": "0eXqCuWYUICB",
        "outputId": "b69a4e99-1c87-4b77-d309-c8c87f0e1419"
      },
      "execution_count": null,
      "outputs": [
        {
          "output_type": "stream",
          "name": "stdout",
          "text": [
            "pip 21.1.3 from /usr/local/lib/python3.7/dist-packages/pip (python 3.7)\n"
          ]
        }
      ]
    },
    {
      "cell_type": "code",
      "source": [
        "## kaggle kütüphanesini install edecegiz\n",
        "\n",
        "pip install kaggle"
      ],
      "metadata": {
        "colab": {
          "base_uri": "https://localhost:8080/"
        },
        "id": "JqA5WQ9-ZjhH",
        "outputId": "a671e4d7-c095-4932-c9bd-7065cadc0739"
      },
      "execution_count": null,
      "outputs": [
        {
          "output_type": "stream",
          "name": "stdout",
          "text": [
            "Collecting kaggle\n",
            "  Downloading kaggle-1.5.12.tar.gz (58 kB)\n",
            "\u001b[?25l\r\u001b[K     |█████▋                          | 10 kB 16.7 MB/s eta 0:00:01\r\u001b[K     |███████████▏                    | 20 kB 18.7 MB/s eta 0:00:01\r\u001b[K     |████████████████▊               | 30 kB 22.6 MB/s eta 0:00:01\r\u001b[K     |██████████████████████▎         | 40 kB 26.0 MB/s eta 0:00:01\r\u001b[K     |███████████████████████████▉    | 51 kB 28.5 MB/s eta 0:00:01\r\u001b[K     |████████████████████████████████| 58 kB 4.6 MB/s \n",
            "\u001b[?25hRequirement already satisfied: six>=1.10 in /usr/local/lib/python3.7/dist-packages (from kaggle) (1.15.0)\n",
            "Requirement already satisfied: certifi in /usr/local/lib/python3.7/dist-packages (from kaggle) (2021.10.8)\n",
            "Requirement already satisfied: python-dateutil in /usr/local/lib/python3.7/dist-packages (from kaggle) (2.8.2)\n",
            "Requirement already satisfied: requests in /usr/local/lib/python3.7/dist-packages (from kaggle) (2.23.0)\n",
            "Requirement already satisfied: tqdm in /usr/local/lib/python3.7/dist-packages (from kaggle) (4.62.3)\n",
            "Requirement already satisfied: python-slugify in /usr/local/lib/python3.7/dist-packages (from kaggle) (5.0.2)\n",
            "Requirement already satisfied: urllib3 in /usr/local/lib/python3.7/dist-packages (from kaggle) (1.24.3)\n",
            "Requirement already satisfied: text-unidecode>=1.3 in /usr/local/lib/python3.7/dist-packages (from python-slugify->kaggle) (1.3)\n",
            "Requirement already satisfied: idna<3,>=2.5 in /usr/local/lib/python3.7/dist-packages (from requests->kaggle) (2.10)\n",
            "Requirement already satisfied: chardet<4,>=3.0.2 in /usr/local/lib/python3.7/dist-packages (from requests->kaggle) (3.0.4)\n",
            "Building wheels for collected packages: kaggle\n",
            "  Building wheel for kaggle (setup.py) ... \u001b[?25l\u001b[?25hdone\n",
            "  Created wheel for kaggle: filename=kaggle-1.5.12-py3-none-any.whl size=73051 sha256=bcd9044001e2c972580a0abe78d99cd4aeeba064218c8f41b8a759d966959f2d\n",
            "  Stored in directory: /root/.cache/pip/wheels/62/d6/58/5853130f941e75b2177d281eb7e44b4a98ed46dd155f556dc5\n",
            "Successfully built kaggle\n",
            "Installing collected packages: kaggle\n",
            "Successfully installed kaggle-1.5.12\n"
          ]
        }
      ]
    },
    {
      "cell_type": "code",
      "source": [
        "# !pip list        \n",
        "\n",
        "# bu komut ile  su an google colab de yüklü olan kütüphaneleri görebiliriz\n",
        "# Dikkat basina ! koyuyoruz.\n",
        "\n",
        "# eger jupyter yükler isek bu durumda cok daha fazla kütüphane gelecektir"
      ],
      "metadata": {
        "id": "eu_krewXUIGJ"
      },
      "execution_count": null,
      "outputs": []
    },
    {
      "cell_type": "code",
      "source": [
        "pip show numpy\n",
        "\n",
        "# bu komut ise sectigimiz bir modüle ait özel bilgileri verir\n",
        "\n",
        "# location yazan kisim indirdigimiz modüllerin yüklendigi yerdir"
      ],
      "metadata": {
        "colab": {
          "base_uri": "https://localhost:8080/"
        },
        "id": "-kr7yT_eUIH6",
        "outputId": "356e94c1-93b8-4743-b12a-3e58934402f0"
      },
      "execution_count": null,
      "outputs": [
        {
          "output_type": "stream",
          "name": "stdout",
          "text": [
            "Name: numpy\n",
            "Version: 1.19.5\n",
            "Summary: NumPy is the fundamental package for array computing with Python.\n",
            "Home-page: https://www.numpy.org\n",
            "Author: Travis E. Oliphant et al.\n",
            "Author-email: None\n",
            "License: BSD\n",
            "Location: /usr/local/lib/python3.7/dist-packages\n",
            "Requires: \n",
            "Required-by: yellowbrick, xgboost, xarray, wordcloud, torchvision, torchtext, tifffile, thinc, Theano-PyMC, tensorflow, tensorflow-probability, tensorflow-hub, tensorflow-datasets, tensorboard, tables, statsmodels, spacy, sklearn-pandas, seaborn, scs, scipy, scikit-learn, scikit-image, resampy, qdldl, PyWavelets, python-louvain, pystan, pysndfile, pymc3, pyerfa, pyemd, pyarrow, plotnine, patsy, pandas, osqp, opt-einsum, opencv-python, opencv-contrib-python, numexpr, numba, nibabel, netCDF4, moviepy, mlxtend, mizani, missingno, matplotlib, matplotlib-venn, lightgbm, librosa, Keras-Preprocessing, kapre, jpeg4py, jaxlib, jax, imgaug, imbalanced-learn, imageio, hyperopt, holoviews, h5py, gym, gensim, folium, fix-yahoo-finance, fbprophet, fastprogress, fastdtw, fastai, fa2, ecos, daft, cvxpy, cufflinks, cmdstanpy, cftime, Bottleneck, bokeh, blis, autograd, atari-py, astropy, arviz, altair, albumentations\n"
          ]
        }
      ]
    },
    {
      "cell_type": "code",
      "source": [
        "pip show kaggle    ## mesela bu yeni yükledigimiz bir modül"
      ],
      "metadata": {
        "colab": {
          "base_uri": "https://localhost:8080/"
        },
        "id": "uhlyevn7UIJ4",
        "outputId": "d6a20985-a3f7-4e14-849b-64c897cc9207"
      },
      "execution_count": null,
      "outputs": [
        {
          "output_type": "stream",
          "name": "stdout",
          "text": [
            "Name: kaggle\n",
            "Version: 1.5.12\n",
            "Summary: Kaggle API\n",
            "Home-page: https://github.com/Kaggle/kaggle-api\n",
            "Author: Kaggle\n",
            "Author-email: support@kaggle.com\n",
            "License: Apache 2.0\n",
            "Location: /usr/local/lib/python3.7/dist-packages\n",
            "Requires: tqdm, requests, urllib3, certifi, six, python-slugify, python-dateutil\n",
            "Required-by: \n"
          ]
        }
      ]
    },
    {
      "cell_type": "code",
      "source": [
        "# pip uninstall kaggle\n",
        "\n",
        "# bu komut ile yükledigimiz bir modülü  silebiliriz.\n",
        "# Komutu yazip calistirdigimizda yes yada no sorusunu sorar.\n",
        "# y yazip enter yaptigimizda silinir"
      ],
      "metadata": {
        "id": "ezmnJPyMUIL9"
      },
      "execution_count": null,
      "outputs": []
    },
    {
      "cell_type": "code",
      "source": [
        "## bu pip komutlarini ayni zamanda, python editörün de de kullanabiliriz"
      ],
      "metadata": {
        "id": "sXP2gGxoUIN8"
      },
      "execution_count": null,
      "outputs": []
    },
    {
      "cell_type": "code",
      "source": [
        ""
      ],
      "metadata": {
        "id": "YpwgguqbX6xh"
      },
      "execution_count": null,
      "outputs": []
    },
    {
      "cell_type": "code",
      "source": [
        "# ## pc den colab' e dosya yüklemenin bir yolu\n",
        "\n",
        "from google.colab import files\n",
        "\n",
        "files.upload()"
      ],
      "metadata": {
        "id": "3OHpGdynX6z-"
      },
      "execution_count": 20,
      "outputs": []
    },
    {
      "cell_type": "code",
      "source": [
        "## pc den colab' e yükledigimiz bir dosyanin icerigini okuma\n",
        "\n",
        "# tabi dosya icerigini okumayi sol tarafta dosya ismi üzerine\n",
        "# iki kez tiklayinca da yapabiliyoruz\n",
        "\n",
        "files.view(\"colab.py\")   komutu ile okuyabiliriz"
      ],
      "metadata": {
        "id": "A2dDbkOOX616"
      },
      "execution_count": 21,
      "outputs": []
    },
    {
      "cell_type": "code",
      "source": [
        "### colab deki bir dosyayi yada modülü kod yazarak pc ye indirme\n",
        "\n",
        "# files.download(\"colab.py\")"
      ],
      "metadata": {
        "id": "CxYXWStsX64E"
      },
      "execution_count": 24,
      "outputs": []
    },
    {
      "cell_type": "code",
      "source": [
        "#####  github dan colab' e dosya yükleme:\n",
        "\n",
        "!wget https://github.com/tariksitki/My_Colab_Python_Works/blob/main/github.py"
      ],
      "metadata": {
        "id": "_MNVNmKRX652",
        "colab": {
          "base_uri": "https://localhost:8080/"
        },
        "outputId": "cd8ce045-48fe-4158-cb94-84075553aefc"
      },
      "execution_count": 23,
      "outputs": [
        {
          "output_type": "stream",
          "name": "stdout",
          "text": [
            "--2021-12-12 22:39:16--  https://github.com/tariksitki/My_Colab_Python_Works/blob/main/github.py\n",
            "Resolving github.com (github.com)... 140.82.121.4\n",
            "Connecting to github.com (github.com)|140.82.121.4|:443... connected.\n",
            "HTTP request sent, awaiting response... 200 OK\n",
            "Length: unspecified [text/html]\n",
            "Saving to: ‘github.py’\n",
            "\n",
            "github.py               [  <=>               ] 162.55K   625KB/s    in 0.3s    \n",
            "\n",
            "2021-12-12 22:39:17 (625 KB/s) - ‘github.py’ saved [166447]\n",
            "\n"
          ]
        }
      ]
    },
    {
      "cell_type": "code",
      "source": [
        ""
      ],
      "metadata": {
        "id": "1E6sreMcX675"
      },
      "execution_count": null,
      "outputs": []
    },
    {
      "cell_type": "code",
      "source": [
        ""
      ],
      "metadata": {
        "id": "4p-_hu5yX69m"
      },
      "execution_count": null,
      "outputs": []
    },
    {
      "cell_type": "code",
      "source": [
        ""
      ],
      "metadata": {
        "id": "-erQpbYvX6_q"
      },
      "execution_count": null,
      "outputs": []
    },
    {
      "cell_type": "code",
      "source": [
        ""
      ],
      "metadata": {
        "id": "pLQRcU7TX7Be"
      },
      "execution_count": null,
      "outputs": []
    },
    {
      "cell_type": "code",
      "source": [
        ""
      ],
      "metadata": {
        "id": "Rz5cEVnLUIPw"
      },
      "execution_count": null,
      "outputs": []
    },
    {
      "cell_type": "code",
      "source": [
        ""
      ],
      "metadata": {
        "id": "U44wXCHqUIR4"
      },
      "execution_count": null,
      "outputs": []
    },
    {
      "cell_type": "code",
      "source": [
        ""
      ],
      "metadata": {
        "id": "sa3r50VQEN5E"
      },
      "execution_count": null,
      "outputs": []
    },
    {
      "cell_type": "code",
      "metadata": {
        "id": "d4g6D9pV2Vn2"
      },
      "source": [
        ""
      ],
      "execution_count": null,
      "outputs": []
    },
    {
      "cell_type": "code",
      "metadata": {
        "id": "_VmU8X3F54mc"
      },
      "source": [
        ""
      ],
      "execution_count": null,
      "outputs": []
    },
    {
      "cell_type": "code",
      "metadata": {
        "id": "7k9RqadC54oa"
      },
      "source": [
        ""
      ],
      "execution_count": null,
      "outputs": []
    },
    {
      "cell_type": "code",
      "metadata": {
        "id": "iKLyy5vcduUA"
      },
      "source": [
        ""
      ],
      "execution_count": null,
      "outputs": []
    },
    {
      "cell_type": "code",
      "metadata": {
        "id": "Yp5WWqYuduWQ"
      },
      "source": [
        ""
      ],
      "execution_count": null,
      "outputs": []
    },
    {
      "cell_type": "code",
      "metadata": {
        "id": "fHotDj8zjVxl"
      },
      "source": [
        ""
      ],
      "execution_count": null,
      "outputs": []
    },
    {
      "cell_type": "code",
      "metadata": {
        "id": "u7CMMVghwG01"
      },
      "source": [
        "#   Bytecode, basit tabiriyle bir program kodudur (pseudo code). Nasıl assembly kodları okunabilir bir programlama diliyse, bytecode de aynı assembly gibi sanal makinelerin okuyabilmesi için oluşturulan bir koddur ve binary dosyasıdır (dosyayı binary editörler ile açtığınızda binary ifadeleri göreceksinizdir)\n",
        "Resimde de gördüğünüz gibi bytecode bir program kodudur ve Sanal makinelerin anlaması için oluşturulur. Sanal makineler ise bytecode u okuyarak makine diline çevirir."
      ],
      "execution_count": null,
      "outputs": []
    }
  ]
}