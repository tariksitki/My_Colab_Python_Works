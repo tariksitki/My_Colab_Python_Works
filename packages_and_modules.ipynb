{
  "nbformat": 4,
  "nbformat_minor": 0,
  "metadata": {
    "colab": {
      "name": "packages and modules.ipynb",
      "provenance": [],
      "collapsed_sections": [],
      "authorship_tag": "ABX9TyPvcXLj61Llv5MOFt3YeZQ9",
      "include_colab_link": true
    },
    "kernelspec": {
      "name": "python3",
      "display_name": "Python 3"
    },
    "language_info": {
      "name": "python"
    }
  },
  "cells": [
    {
      "cell_type": "markdown",
      "metadata": {
        "id": "view-in-github",
        "colab_type": "text"
      },
      "source": [
        "<a href=\"https://colab.research.google.com/github/tariksitki/My_Colab_Python_Works/blob/main/packages_and_modules.ipynb\" target=\"_parent\"><img src=\"https://colab.research.google.com/assets/colab-badge.svg\" alt=\"Open In Colab\"/></a>"
      ]
    },
    {
      "cell_type": "code",
      "metadata": {
        "id": "FZ8VU-HXaipR"
      },
      "source": [
        "#############  packages and modules          # ###################"
      ],
      "execution_count": null,
      "outputs": []
    },
    {
      "cell_type": "code",
      "metadata": {
        "id": "N-5QIMuSanTJ"
      },
      "source": [
        "#########    Fundamentals of Modules"
      ],
      "execution_count": null,
      "outputs": []
    },
    {
      "cell_type": "code",
      "metadata": {
        "id": "M6wlwE55anV-"
      },
      "source": [
        "##  What is Script what is Module??"
      ],
      "execution_count": null,
      "outputs": []
    },
    {
      "cell_type": "code",
      "metadata": {
        "id": "J5ATyqVkllyd"
      },
      "source": [
        "#  If you open and use this file (with a .py extension) directly, \n",
        "# that is script,\n",
        "# If you load (import) this file (with a .py extension) \n",
        "# and call any function from it, that's a module this time."
      ],
      "execution_count": null,
      "outputs": []
    },
    {
      "cell_type": "code",
      "metadata": {
        "id": "0Ur3XhkkanYy"
      },
      "source": [
        "#  Basit ve kısa projeleriniz üzerinde çalışırken normalde Python kodlarını \n",
        "# doğrudan interpreter a yazıp çalıştırırsınız. Bunları bir dosyaya kaydetmek \n",
        "# iyi bir seçenek olacaktır. Daha sonra bunları bir metin düzenleyicide \n",
        "# çalıştırmanız veya onlarla çalışmanız gerektiğinde, \n",
        "# oluşturduğunuz bu dosyayı kullanarak bunlara kolayca erişebilirsiniz. \n",
        "# Böylece Python interpreter dan her çıktığınızda ve tekrar girdiğinizde, \n",
        "# daha önce yazdığınız kodlarınızı (fonksiyonlar ve değişkenler) kaybetmezsiniz. \n",
        "# Bu seçenek, özellikle uzun kod bloklarına sahip programlarla çalışırken \n",
        "# sizin için hayati olacaktır. Oluşturduğunuz, kodlar, tanımlar ve \n",
        "# ileride okunabilecek, düzenlenebilecek ve yorumlanabilecek bir \n",
        "# işlem listesinden oluşan dosya, \"script\" olarak bilinir ."
      ],
      "execution_count": null,
      "outputs": []
    },
    {
      "cell_type": "code",
      "metadata": {
        "id": "OgQjU-vzancT"
      },
      "source": [
        "#  What is Module?\n",
        "\n",
        "#  Programınız uzadıkça, daha kolay idame ettirebilmek için onu \n",
        "# birkaç dosyaya bölmek isteyebilirsiniz. Ayrıca, birkaç programda \n",
        "# yazdığınız kullanışlı bir func'i  her programa kopyalamadan kullanmak \n",
        "# isteyebilirsiniz. Bunu desteklemek için Python, tanımları \n",
        "# bir dosyaya koyma ve bunları bir komut dosyasında veya yorumlayıcının \n",
        "# etkileşimli bir örneğinde kullanma yöntemine sahiptir . Böyle bir dosyaya modül denir ."
      ],
      "execution_count": null,
      "outputs": []
    },
    {
      "cell_type": "code",
      "metadata": {
        "id": "K6-doC6Xanf0"
      },
      "source": [
        "# Bir programa yazdığınız bir func'i başka bir zamanda ve başka bir \n",
        "# program akışında kullanmanız gerekebilir. Veya daha önce \n",
        "# başka birinin yazdığı bazı kodları yeniden kullanmanız bile gerekebilir. \n",
        "# Bu sorunu, daha önce yazdığınız kodu kopyalayıp başka bir program akışına \n",
        "# yapıştırarak çözebilirsiniz. Ancak bu, temel kökten bir çözüm getirmez. \n",
        "# Çünkü çalışmak istediğiniz fonksiyonlar ve kod blokları arttıkça \n",
        "# programınızın yapısı ve okunabilirliği ciddi şekilde bozulacaktır. \n",
        "# Iste bu probleme kökten bir cözüm bulabilmek icin module leri kullaniyoruz"
      ],
      "execution_count": null,
      "outputs": []
    },
    {
      "cell_type": "code",
      "metadata": {
        "id": "OyBeSUkJanjE"
      },
      "source": [
        "##  Soru:\n",
        "# Bir module birden fazla func icerebilir mi?\n",
        "# evet"
      ],
      "execution_count": null,
      "outputs": []
    },
    {
      "cell_type": "code",
      "metadata": {
        "id": "B7zUqP0manmg"
      },
      "source": [
        "###  Bir modul nasil import edilir?\n",
        "\n",
        "# syntax su sekildedir:\n",
        "\n",
        "# import module_name"
      ],
      "execution_count": null,
      "outputs": []
    },
    {
      "cell_type": "code",
      "metadata": {
        "id": "-zXtx8AlanqA"
      },
      "source": [
        "import my_module  # we've loaded my_module\n",
        "\n",
        "my_module.my_function()  # we've called a function defined in my_module\n",
        "\n",
        "print(my_module.my_variable)  # we've accessed a variable defined in my_module"
      ],
      "execution_count": null,
      "outputs": []
    },
    {
      "cell_type": "code",
      "metadata": {
        "id": "gzE5MVw-anuB"
      },
      "source": [
        "#  my_module, bizim içe aktardığımız modülün adıdır. \n",
        "# Bir modül yüklerken, bir anahtar sözcük kullanarak \n",
        "# modüller için kısaltılmış bir takma ad (nickname) de verebiliriz"
      ],
      "execution_count": null,
      "outputs": []
    },
    {
      "cell_type": "code",
      "metadata": {
        "id": "p9wGx550n4Ti"
      },
      "source": [
        "import my_module as mym # Buradaki as tamamen inglizcedeki as dir olarak anlaminda\n",
        "                        #  yani bu modülü mym olarak import et\n",
        "mym.my_function()  # Kullanimda ise hicbir fark yoktur\n",
        "\n",
        "print(mym.my_variable)"
      ],
      "execution_count": null,
      "outputs": []
    },
    {
      "cell_type": "code",
      "metadata": {
        "id": "r9uDz2H7n4Ww"
      },
      "source": [
        "# Python ilk olarak current directory de module arar.\n",
        "# daha sonra built in modüller denetlenir ve hiçbir şey bulunamazsa\n",
        "# error verir.  Modül, içe aktarıldıktan sonra adı ile veya\n",
        "# nickname ile kullanılabilir. ve içinde tanımlanan işlevlere ve\n",
        "#  değişkenlere erişmek için dot notation (nokta gösterimini) kullanabilirsiniz ."
      ],
      "execution_count": null,
      "outputs": []
    },
    {
      "cell_type": "code",
      "metadata": {
        "id": "Vyo5GIWjn4aU"
      },
      "source": [
        ""
      ],
      "execution_count": null,
      "outputs": []
    },
    {
      "cell_type": "code",
      "metadata": {
        "id": "TRFGZRlNn4dd"
      },
      "source": [
        "####   from\n",
        "\n",
        "# Bir modülde tanımlanan bir func'i veya değişkeni içe aktarmak \n",
        "# çok yaygın ve kullanışlı bir yöntemdir. Bu seçeneği kullanmak için \n",
        "# from anahtar kelimesini kullanırız. "
      ],
      "execution_count": null,
      "outputs": []
    },
    {
      "cell_type": "code",
      "metadata": {
        "id": "YrjK-j22n4gv"
      },
      "source": [
        "from my_module import my_function  # we've loaded only my_function from my_module\n",
        "\n",
        "my_function()  # my_function can be used directly now at the current module\n",
        "\n",
        "# Bu kullanim ile modülden func'i import etmis bulunmaktayiz.\n",
        "\n",
        "# O nedenle calling esnasinda sadece  my_function()   yazdik.\n",
        "\n",
        "# eger Burada my_module.my_function yazarsak hata aliriz"
      ],
      "execution_count": null,
      "outputs": []
    },
    {
      "cell_type": "code",
      "metadata": {
        "id": "mezEOczzn4j8"
      },
      "source": [
        "## Yine from kullanim esnasinda da \"as\"  anahtar kelimesi ile nichname atayabiliriz\n",
        "\n",
        "from my_module import my_function as mfnc # we've imported my_function named mfnc\n",
        "\n",
        "mfnc()  # we use the my_function's alias directly"
      ],
      "execution_count": null,
      "outputs": []
    },
    {
      "cell_type": "code",
      "metadata": {
        "id": "pE4yqScin4nA"
      },
      "source": [
        "# Geleneksel olarak Her import sözdizimini ayrı satırlara yazmak\n",
        "#  ve hepsini geçerli modülün başına koymak geleneksel olarak en iyisidir. \n",
        "\n",
        "import module_1 \n",
        "import module_2 \n",
        "import module_3 \n",
        "\n",
        "# Mevcut modülün kod akışı burada başlar"
      ],
      "execution_count": null,
      "outputs": []
    },
    {
      "cell_type": "code",
      "metadata": {
        "id": "oq8x-Boln4qO"
      },
      "source": [
        "##  Interview:\n",
        "\n",
        "#  How to import modules in Python?\n",
        "\n",
        "# Cevap: Modules can be imported using the import keyword. \n",
        "# You can import modules in three ways.\n",
        "\n",
        "import array           # importing using the original module name\n",
        "import array as arr    # importing using an alias name\n",
        "from array import *    # imports everything present in the array module \n",
        "                       #  attention:  *  var ve herseyi import eder"
      ],
      "execution_count": null,
      "outputs": []
    },
    {
      "cell_type": "code",
      "metadata": {
        "id": "T_4ubJaSn4s-"
      },
      "source": [
        ""
      ],
      "execution_count": null,
      "outputs": []
    },
    {
      "cell_type": "code",
      "metadata": {
        "id": "tcrbgZ0psahO"
      },
      "source": [
        "#############    Built-in Modules"
      ],
      "execution_count": null,
      "outputs": []
    },
    {
      "cell_type": "code",
      "metadata": {
        "id": "SDPjKpBgsakB"
      },
      "source": [
        "## Python, çoğu yorumlayıcıda yerleşik olarak bulunan büyük bir \n",
        "# standart modül kitaplığıyla birlikte gelir. Bu modüller, \n",
        "# kullanışlı işlevler ve veri yapıları sağlayarak kodumuzu daha etkili hale getirir. \n",
        "# Yerleşik modüllerin kullanıcı için çok değerli olan bir diğer avantajı da \n",
        "# Python'un kurulu olduğu tüm işletim sistemlerinden bu standart kütüphanelere ulaşabilmenizdir."
      ],
      "execution_count": null,
      "outputs": []
    },
    {
      "cell_type": "code",
      "metadata": {
        "colab": {
          "base_uri": "https://localhost:8080/"
        },
        "id": "8dZ0VF71sanw",
        "outputId": "42785a15-e704-48d7-a99f-8b88a3d81598"
      },
      "source": [
        "###  math\n",
        "\n",
        "import math\n",
        "\n",
        "print(dir(math))  # you can find out all names defined in this module\n",
        "\n",
        "\n",
        "# dir()  bir built in function dir ve sözkonusu modülün hangi isimleri\n",
        "# tanimladigini görmemize yarar ve alfabetik sorted list of strings döndürür"
      ],
      "execution_count": null,
      "outputs": [
        {
          "output_type": "stream",
          "name": "stdout",
          "text": [
            "['__doc__', '__loader__', '__name__', '__package__', '__spec__', 'acos', 'acosh', 'asin', 'asinh', 'atan', 'atan2', 'atanh', 'ceil', 'copysign', 'cos', 'cosh', 'degrees', 'e', 'erf', 'erfc', 'exp', 'expm1', 'fabs', 'factorial', 'floor', 'fmod', 'frexp', 'fsum', 'gamma', 'gcd', 'hypot', 'inf', 'isclose', 'isfinite', 'isinf', 'isnan', 'ldexp', 'lgamma', 'log', 'log10', 'log1p', 'log2', 'modf', 'nan', 'pi', 'pow', 'radians', 'remainder', 'sin', 'sinh', 'sqrt', 'tan', 'tanh', 'tau', 'trunc']\n"
          ]
        }
      ]
    },
    {
      "cell_type": "code",
      "metadata": {
        "id": "VCQhWC6AsarI"
      },
      "source": [
        "from math import pi, factorial, log10  # we'll use the functions directly\n",
        "                                       # Dikkat!!!  Burada func isimlerini virgül ile \n",
        "                                       # ayirarak ayni anda birden cok func import ettik\n",
        "print(pi)  # it also contains several arithmetic constants\n",
        "print(factorial(4))  # gives the value of 4!\n",
        "print(log10(1000))  # prints the common logarithm of 1000"
      ],
      "execution_count": null,
      "outputs": []
    },
    {
      "cell_type": "code",
      "metadata": {
        "id": "jpzNGmItO3nH"
      },
      "source": [
        ""
      ],
      "execution_count": null,
      "outputs": []
    },
    {
      "cell_type": "code",
      "metadata": {
        "colab": {
          "base_uri": "https://localhost:8080/"
        },
        "id": "wlRHE1eosauN",
        "outputId": "56745ecb-f6fa-4d23-fe44-8d1f067466c7"
      },
      "source": [
        ""
      ],
      "execution_count": null,
      "outputs": [
        {
          "output_type": "execute_result",
          "data": {
            "text/plain": [
              "720"
            ]
          },
          "metadata": {},
          "execution_count": 10
        }
      ]
    },
    {
      "cell_type": "code",
      "metadata": {
        "colab": {
          "base_uri": "https://localhost:8080/"
        },
        "id": "7aK_XbSLPs5U",
        "outputId": "5bcf57ae-6716-485d-e4d3-6e5fa473e218"
      },
      "source": [
        "##  Task:\n",
        "\n",
        "# def ile kendiniz faktoriyel hesaplayan bir func tanimlayiniz:\n",
        "\n",
        "def factor(x):\n",
        "  result = 1\n",
        "  for i in range(x):\n",
        "    result *= (i + 1)    ##  eger burada +1 demezsek 0 dan baslar ve sonuc 0 olur\n",
        "  return print(result)  ##  Attention:  return print dedik\n",
        "factor(6)"
      ],
      "execution_count": null,
      "outputs": [
        {
          "output_type": "stream",
          "name": "stdout",
          "text": [
            "720\n"
          ]
        }
      ]
    },
    {
      "cell_type": "code",
      "metadata": {
        "colab": {
          "base_uri": "https://localhost:8080/"
        },
        "id": "zSu1RYbvsaxP",
        "outputId": "a6b10958-59aa-402f-842a-9754311fab98"
      },
      "source": [
        "###   string \n",
        "\n",
        "import string as stg  # we've used alias for 'string' module\n",
        "\n",
        "print(stg.punctuation)  # prints all available punctuation marks(noktalama isaretleri)\n",
        "print(stg.digits)  # prints all the digits"
      ],
      "execution_count": null,
      "outputs": [
        {
          "output_type": "stream",
          "name": "stdout",
          "text": [
            "!\"#$%&'()*+,-./:;<=>?@[\\]^_`{|}~\n",
            "0123456789\n"
          ]
        }
      ]
    },
    {
      "cell_type": "code",
      "metadata": {
        "id": "b9X2-NSEQ4lw"
      },
      "source": [
        ""
      ],
      "execution_count": null,
      "outputs": []
    },
    {
      "cell_type": "code",
      "metadata": {
        "colab": {
          "base_uri": "https://localhost:8080/"
        },
        "id": "-SmSEZUIsaz5",
        "outputId": "498f2234-cca2-422f-d70b-40fb75e19f47"
      },
      "source": [
        "#### datetime\n",
        "\n",
        "import datetime\n",
        "                              #  today de sadece date kullaniyoruz\n",
        "print(datetime.date.today())  # prints today's date (yyyy-mm-dd)\n",
        "print(datetime.datetime.now())  # prints the current time in microseconds\n",
        "                                #  Dikkat: eger now ve today den sonra () yapmaz isek\n",
        "                                # sadece object döndürür\n",
        "\n",
        "# Bu örnekte dot notation(nokta notasyonu)  a  göre, \n",
        "# date ve datetime objectleri altinda tanimli olan,\n",
        "# now( ve today() func'lari kullandik"
      ],
      "execution_count": null,
      "outputs": [
        {
          "output_type": "stream",
          "name": "stdout",
          "text": [
            "2021-11-29\n",
            "2021-11-29 17:53:40.195739\n"
          ]
        }
      ]
    },
    {
      "cell_type": "code",
      "metadata": {
        "id": "Ww_OiLPWsa2n"
      },
      "source": [
        ""
      ],
      "execution_count": null,
      "outputs": []
    },
    {
      "cell_type": "code",
      "metadata": {
        "id": "ZT4zW2XT1NBC",
        "colab": {
          "base_uri": "https://localhost:8080/"
        },
        "outputId": "f9c9018d-3016-45e4-f52d-802be0af3a67"
      },
      "source": [
        "from datetime import datetime   # bu sekilde import ettigimizde .now calisir\n",
        "                                # ancak bu hücrede date.today() calistirmak istersek\n",
        "print(datetime.now())           #  calismaz. ve date tanimli degil der\n",
        "                                #  onun icin asagidaki sekilde yapiyoruz"
      ],
      "execution_count": null,
      "outputs": [
        {
          "output_type": "stream",
          "name": "stdout",
          "text": [
            "2021-12-02\n"
          ]
        }
      ]
    },
    {
      "cell_type": "code",
      "metadata": {
        "id": "n0Mcb4qr1NDg",
        "colab": {
          "base_uri": "https://localhost:8080/"
        },
        "outputId": "6bcdd7d5-243d-45db-a3cd-4db9c597242c"
      },
      "source": [
        "from datetime import date  ##  burada sadece date yazdik\n",
        "\n",
        "print(date.today())"
      ],
      "execution_count": null,
      "outputs": [
        {
          "output_type": "stream",
          "name": "stdout",
          "text": [
            "2021-12-02\n"
          ]
        }
      ]
    },
    {
      "cell_type": "code",
      "metadata": {
        "id": "ZwSXNUCB1zCW"
      },
      "source": [
        "#######   random\n",
        "\n",
        "#  çeşitli veri türleri arasından rastgele seçim yapmamızı sağlayan \n",
        "# işlevleri içeren bir modüldür"
      ],
      "execution_count": null,
      "outputs": []
    },
    {
      "cell_type": "code",
      "metadata": {
        "id": "N0YwGtTT1NF3",
        "colab": {
          "base_uri": "https://localhost:8080/"
        },
        "outputId": "c9c9f968-94ff-4f24-aea0-5531ae873098"
      },
      "source": [
        "from random import choice\n",
        "\n",
        "city = ['Stockholm', 'Istanbul', 'Seul', 'Cape Town']\n",
        "\n",
        "print(choice(city))  #  bu func'i her calistirdigimizda örnekleme olarak\n",
        "                     #  bir tane sehir ismi print eder"
      ],
      "execution_count": null,
      "outputs": [
        {
          "output_type": "stream",
          "name": "stdout",
          "text": [
            "Istanbul\n"
          ]
        }
      ]
    },
    {
      "cell_type": "code",
      "metadata": {
        "id": "hTiOXen01NIV"
      },
      "source": [
        "####   Interview:\n",
        "\n",
        "#  Python modülleri nelerdir? Python'da yaygın olarak kullanılan \n",
        "# bazı yerleşik modülleri adlandırın.\n",
        "# Python modülleri, Python kodunu içeren dosyalardır. \n",
        "# Bu kod, fonksiyon sınıfları veya değişkenler olabilir. \n",
        "# Python modülü, yürütülebilir kod içeren bir .py dosyasıdır. \n",
        "# Yaygın olarak kullanılan yerleşik modüllerden bazıları şunlardır:\n",
        "# os, sys, math, random, datetime. "
      ],
      "execution_count": null,
      "outputs": []
    },
    {
      "cell_type": "code",
      "metadata": {
        "colab": {
          "base_uri": "https://localhost:8080/"
        },
        "id": "iKK13_l-TiGh",
        "outputId": "85210d13-9570-49c2-88cf-a1362ee1ec12"
      },
      "source": [
        "#  Python'da nasıl rasgele sayılar üretebilirsiniz?\n",
        "# Random modül, rastgele bir sayı üretmek için kullanılan standart modüldür. \n",
        "# şu şekilde tanımlanır:\n",
        "\n",
        "import random\n",
        "print(random.random())  # func 'i her calistirmamizda farkli bir sayi üretir\n",
        "                        # ve bu sayi 0 ila 1 arasindadir"
      ],
      "execution_count": null,
      "outputs": [
        {
          "output_type": "stream",
          "name": "stdout",
          "text": [
            "0.7410553675368551\n"
          ]
        }
      ]
    },
    {
      "cell_type": "code",
      "metadata": {
        "id": "ryViSwqTTiKb"
      },
      "source": [
        "#  Soru:\n",
        "\n",
        "# You can store multiple functions in a module\n",
        "# Then you can call these functions\n",
        "# while writing your program after loading the module"
      ],
      "execution_count": null,
      "outputs": []
    },
    {
      "cell_type": "code",
      "metadata": {
        "id": "TGkmnFjvTiPU"
      },
      "source": [
        "## Soru:\n",
        "\n",
        "# The simple files, usually with a .py extension and \n",
        "# containing Python statements and definitions, are called modules"
      ],
      "execution_count": null,
      "outputs": []
    },
    {
      "cell_type": "code",
      "metadata": {
        "id": "l-q8bH-OXRnU"
      },
      "source": [
        "## The file you created consisting of codes, definitions \n",
        "# and a list of operations that can be read, edited and interpreted\n",
        "#  in the future is known as [script]. If you open and use \n",
        "# this file (with a .py extension) directly, that is [script], \n",
        "# an if you load (import) this file (with a .py extension) and \n",
        "# call any function from it, that's a [module] this time."
      ],
      "execution_count": null,
      "outputs": []
    },
    {
      "cell_type": "code",
      "metadata": {
        "id": "dhUn94HOZRJl"
      },
      "source": [
        ""
      ],
      "execution_count": null,
      "outputs": []
    },
    {
      "cell_type": "code",
      "metadata": {
        "id": "AjJYvfAwXRqD"
      },
      "source": [
        "### Creating and Working with Modules"
      ],
      "execution_count": null,
      "outputs": []
    },
    {
      "cell_type": "code",
      "metadata": {
        "id": "tNJSyq_yXRvC"
      },
      "source": [
        "## Scripts & Modules Initialization   (Baslatma)"
      ],
      "execution_count": null,
      "outputs": []
    },
    {
      "cell_type": "code",
      "metadata": {
        "id": "XN-0-KlGXRxL"
      },
      "source": [
        "# scriptler ve modüller , oluşturma açısından temelde aynı yapılara sahiptir \n",
        "# ve bazı Python kodlarını ve func'larini içeren .py uzantılı dosyalardır."
      ],
      "execution_count": null,
      "outputs": []
    },
    {
      "cell_type": "code",
      "metadata": {
        "id": "Mu3VLeX-XRz_"
      },
      "source": [
        "# Daha önce de belirtildigi gibi, daha sonra çalışmak üzere kaydettiğimiz\n",
        "#  bir programdaki tüm kodları, ifadeleri, tanımları ve func'lari içeren \n",
        "# .py uzantılı dosya aslında scripttir "
      ],
      "execution_count": null,
      "outputs": []
    },
    {
      "cell_type": "code",
      "metadata": {
        "id": "2W89Z2WQTiSu"
      },
      "source": [
        "## Task:\n",
        "\n",
        "# module.py adinda aşağıdaki iki func'i içeren bir modülümüz olduğunu hayal edelim\n",
        "\n",
        "# Bu modüle ait my_function_1 isimli func bir dikdörtgenin alanını  \n",
        "# my_function_2 ise dik açılı bir üçgenin hipotenüsünü hesaplar. \n",
        "# Diyelim ki, bu modülü yerel bilgisayarimıza zaten önceden kaydettik\n",
        "#  ve içindeki func'lari çağırmak için bu modülü import etmek istiyoruz.\n",
        "\n",
        "# Simdi Bu modülü import edelim ve içindeki func'lari çağıralim.\n",
        "# Sonra bir dikdörtgenin alanını (a=10, b=20) ve \n",
        "# bir dik üçgenin hipotenüsünü (a=30, b=40) hesaplayalim. "
      ],
      "execution_count": null,
      "outputs": []
    },
    {
      "cell_type": "code",
      "metadata": {
        "id": "-x_2tS2fah48"
      },
      "source": [
        "import module                         # Dikkat: module.py bizim scriptimiz. Biz onu cagirmak \n",
        "                                      # istedigimizde sadece module olarak cagiriyoruz\n",
        "area = import.my_function_1(10, 20)\n",
        "hipotenüs = import.my_function_2(30, 40)\n",
        "\n",
        "print(area)\n",
        "print(hipotenüs)"
      ],
      "execution_count": null,
      "outputs": []
    },
    {
      "cell_type": "code",
      "metadata": {
        "id": "f9pQfr6cah8Y"
      },
      "source": [
        "## Soru:\n",
        "\n",
        "# modules and scripts have exactly the same meaning in Python.  (False)"
      ],
      "execution_count": null,
      "outputs": []
    },
    {
      "cell_type": "code",
      "metadata": {
        "id": "S_3C2TucaiAG"
      },
      "source": [
        ""
      ],
      "execution_count": null,
      "outputs": []
    },
    {
      "cell_type": "code",
      "metadata": {
        "id": "rDZiG38EaiDx"
      },
      "source": [
        "###########   Optional\n",
        "\n",
        "##########  Working with the Modules"
      ],
      "execution_count": null,
      "outputs": []
    },
    {
      "cell_type": "code",
      "metadata": {
        "colab": {
          "base_uri": "https://localhost:8080/",
          "height": 36
        },
        "id": "ZFAuv3y9aiHh",
        "outputId": "ce861da8-99df-44dc-de5e-295fbbfe3d9c"
      },
      "source": [
        "pwd"
      ],
      "execution_count": null,
      "outputs": [
        {
          "output_type": "execute_result",
          "data": {
            "application/vnd.google.colaboratory.intrinsic+json": {
              "type": "string"
            },
            "text/plain": [
              "'/content'"
            ]
          },
          "metadata": {},
          "execution_count": 1
        }
      ]
    },
    {
      "cell_type": "code",
      "metadata": {
        "id": "Fgnr42ENduRa"
      },
      "source": [
        "##  colab'a disaridan module yükleme:\n",
        "\n",
        "# notepad de yeni bir sayfa aciyoruz. Bunun icerisine python kodlarimizi yaziyoruz.\n",
        "# daha sonra bunu bir yere kaydediyoruz. Dikkat .py uzantili olarak\n",
        "# Bu islemden sonra, colab de sol tarafta bulunan dosyalar kismini aciyoruz ve\n",
        "# content' in yanindaki ...  ' ya tikliyoruz ve yükle diyoruz.\n",
        "\n",
        "# Ve yüklemek istedigimiz dosyayi seciyoruz. ve yüklenmis oluyor.\n",
        "\n",
        "# Eger bundan sonra bu dosya üzerinde degisiklik yapmak istersek\n",
        "# bu durumda colab de dosya üzerine iki kez tikliyoruz ve sagda acilan \n",
        "# pencerede istedigimiz sekilde degisiklik yapiyoruz "
      ],
      "execution_count": 6,
      "outputs": []
    },
    {
      "cell_type": "code",
      "metadata": {
        "colab": {
          "base_uri": "https://localhost:8080/"
        },
        "id": "xQ16BukY54RZ",
        "outputId": "94b1b0b7-c549-4871-9eca-58048b53d0f6"
      },
      "source": [
        "import hello   \n",
        "\n",
        "hello.my_func1(2)   ## Not: from suz import larda func satirina module ismini yazmamiz gerekir\n",
        "hello.my_func2(4)   # aksi takdirde func ismi tanimli degildir diye hata aliriz"
      ],
      "execution_count": 8,
      "outputs": [
        {
          "output_type": "stream",
          "name": "stdout",
          "text": [
            "4\n",
            "6\n"
          ]
        }
      ]
    },
    {
      "cell_type": "code",
      "metadata": {
        "id": "sAwzU64e54ci"
      },
      "source": [
        ""
      ],
      "execution_count": null,
      "outputs": []
    },
    {
      "cell_type": "code",
      "metadata": {
        "id": "M1kW27dnC8gn"
      },
      "source": [
        "###########################  Package Initialization"
      ],
      "execution_count": null,
      "outputs": []
    },
    {
      "cell_type": "code",
      "metadata": {
        "id": "ZBApniruC8jA"
      },
      "source": [
        "# According to the official document of Python, packages are basically \n",
        "# a way of structuring Python’s module namespace by using “dotted module names”."
      ],
      "execution_count": null,
      "outputs": []
    },
    {
      "cell_type": "code",
      "metadata": {
        "id": "OWBpN_JSC8k-"
      },
      "source": [
        "# Çok sayıda modül içeren çok büyük bir proje tasarladığınızı hayal edin. \n",
        "# Projede üzerinde çalıştığınız ve oluşturduğunuz modül sayısı arttıkça, \n",
        "# bunları sistematik olarak takip etmek ve düzenli kullanmak giderek zorlaşmakta \n",
        "# ve sonunda içinden çıkılmaz bir hal almaktadır. Bu, özellikle benzer adlara \n",
        "# veya işlevlere sahiplerse geçerlidir . Modülleri daha sistematik hale getirmek için \n",
        "# paketleri kullanabiliriz ."
      ],
      "execution_count": null,
      "outputs": []
    },
    {
      "cell_type": "code",
      "metadata": {
        "id": "aEGmfxkIC8nP"
      },
      "source": [
        "##  Paket sisteminin temel yapısı su sekildedir:"
      ],
      "execution_count": null,
      "outputs": []
    },
    {
      "cell_type": "code",
      "metadata": {
        "id": "XAZvccUm54e3"
      },
      "source": [
        "## Not: Package lar klasörlerdir. Modüller ise py uzantili birer dosyadir.\n",
        "# func' lar da bu py uzantili dosyalar icerisinde yazili olan formüllerdir.\n",
        "\n",
        "earth/                          # Top-level package\n",
        "      __init__.py               # Initialize the earth package (her paket altinda olmak zorunda)\n",
        "      asia/                     # Subpackage for file asia\n",
        "              __init__.py\n",
        "              japan.py\n",
        "              mongolia.py       # A module under a subpackage \n",
        "              pakistan.py\n",
        "              taiwan.py\n",
        "              ...\n",
        "      europe/                   # Subpackage for file europe\n",
        "              __init__.py\n",
        "              germany.py        # A module under a subpackage\n",
        "              england.py\n",
        "              turkey.py\n",
        "              kosovo.py\n",
        "              ...\n",
        "      america/                  # Subpackage for file america\n",
        "              __init__.py\n",
        "              canada.py\n",
        "              ustates.py\n",
        "              mexico.py\n",
        "              peru.py           # A module under a subpackage\n",
        "              ...\n"
      ],
      "execution_count": null,
      "outputs": []
    },
    {
      "cell_type": "code",
      "metadata": {
        "id": "7t8e_4mJ54hh"
      },
      "source": [
        "## dot notation hiyerarsik modeli, bir pakete, module giris yapmak icin\n",
        "# yada bir func'i call etmek icin kullanilir.\n",
        "\n",
        "# Tüm hiyerarşiyi gösteren içe aktarma sözdizimi, absolute(mutlak) importing\n",
        "# olarak adlandırılır "
      ],
      "execution_count": null,
      "outputs": []
    },
    {
      "cell_type": "code",
      "metadata": {
        "id": "MB11-nFyRf-j"
      },
      "source": [
        "############  absolute importing yöntemleri:"
      ],
      "execution_count": null,
      "outputs": []
    },
    {
      "cell_type": "code",
      "metadata": {
        "id": "ghY4G2njRgG8"
      },
      "source": [
        "##    Birinci yöntem:\n",
        "\n",
        "import earth.europe.kosovo # paket, alt paket ve modül isimlendirmesi ile import \n",
        "\n",
        "earth.europe.kosovo.a_function() # kosovo modülünde tanımlanan bir fonksiyona erişmek istiyoruz\n",
        "\n",
        "                                 #  Bu yöntemde from kullanilmadigi icin, \n",
        "                                 # func satirinda, tekrardan tüm paketleri ve modulü \n",
        "                                 # yazmak zorundayiz"
      ],
      "execution_count": null,
      "outputs": []
    },
    {
      "cell_type": "code",
      "metadata": {
        "id": "_Sm0KXH-RgJy"
      },
      "source": [
        "###  2. yöntem:\n",
        "\n",
        "from earth import europe.kosovo  # importing with naming subpackage and module\n",
        "\n",
        "europe.kosovo.a_function()  # we want to access a function defined in kosovo module\n",
        "                            #  Bu yöntemde from kismina sadece earth yazdik.\n",
        "                            # Bu nedenle func satirinda earth haricinde tüm paket\n",
        "                            # ve module isimlerini yazmamiz gerekir."
      ],
      "execution_count": null,
      "outputs": []
    },
    {
      "cell_type": "code",
      "metadata": {
        "id": "MIBHJfYhRgNb"
      },
      "source": [
        "### 3. yöntem:\n",
        "\n",
        "from earth.europe import kosovo  # package ve subpackage isimleri olmadan import\n",
        "\n",
        "kosovo.a_function()  # we want to access a function defined in kosovo module\n",
        "                     #  Bu yöntemde func satirinda package yada subpackage isimleri yok\n",
        "                     # sadece module ismi kullaniyoruz"
      ],
      "execution_count": null,
      "outputs": []
    },
    {
      "cell_type": "code",
      "metadata": {
        "id": "UF6j1LAK54kP"
      },
      "source": [
        "## 4. Yöntem:\n",
        "\n",
        "from earth.europe.kosovo import a_function  # Bu yöntemde, paket, subpackage ve module ismi\n",
        "                                            # kullanmiyoruz.\n",
        "a_function()                                # we use directly the function's name"
      ],
      "execution_count": null,
      "outputs": []
    },
    {
      "cell_type": "code",
      "metadata": {
        "id": "6VNtYf9xT9TR"
      },
      "source": [
        "# Hangi yöntemi kullanacagimiz ihtiyaçlarımıza bağlıdır. \n",
        "#  Ancak önemli olan husus readability yani okunabilirliktir"
      ],
      "execution_count": 8,
      "outputs": []
    },
    {
      "cell_type": "code",
      "metadata": {
        "id": "1BUOF1Y0T9V5"
      },
      "source": [
        "### Önemli:\n",
        "# Python'un oluşturdugumuz klasörleri paketler/alt paketler olarak tanıması için \n",
        "# hem paket hem de alt paket klasörlerinde __init__.py adında boş bir dosya \n",
        "# oluşturmanız gerekir .\n",
        "\n",
        "# Bu dosyalar genellikle boşturlar, ancak paketin bazı başlatma kodlarını içerebilirler."
      ],
      "execution_count": null,
      "outputs": []
    },
    {
      "cell_type": "code",
      "metadata": {
        "id": "dgQfIwRVT9Yp"
      },
      "source": [
        "# Note:\n",
        "\n",
        "# from package import item    kullanildiginda, buradaki item ya bir subpackage\n",
        "# yada bir submodule olabilir. \n",
        "# veyahut da, package icinde tanimlanmis herhangi bir func, class yada variable ismi olabilir"
      ],
      "execution_count": null,
      "outputs": []
    },
    {
      "cell_type": "code",
      "metadata": {
        "id": "rZQ0IOdnT9bE"
      },
      "source": [
        "# import ifadesi önce yazmis oldugumuz \"item\" in pakette tanımlanıp \n",
        "# tanımlanmadığını test eder; değilse modül olduğunu varsayar \n",
        "# ve yüklemeye çalışır. Bulamazsa, ImportError verir"
      ],
      "execution_count": null,
      "outputs": []
    },
    {
      "cell_type": "code",
      "metadata": {
        "id": "8Yghti9NT9dA"
      },
      "source": [
        "# Interview:\n",
        "\n",
        "# Python'da modül ve paket nedir?\n",
        "# Python'da modül, programı yapılandırmanın yoludur. \n",
        "# Her Python program dosyası, nesneler ve nitelikler gibi \n",
        "# diğer modülleri içe aktaran bir modüldür. \n",
        "\n",
        "# Python programının klasörü bir modül paketidir. \n",
        "# Bir paketin modülleri veya alt klasörleri olabilir."
      ],
      "execution_count": null,
      "outputs": []
    },
    {
      "cell_type": "code",
      "metadata": {
        "colab": {
          "base_uri": "https://localhost:8080/"
        },
        "id": "7ngossKTaONP",
        "outputId": "23f8a178-c38c-4c1c-821c-cacb842c93cd"
      },
      "source": [
        "##  simdi erath adinda kendi paketimizi olusturduk \n",
        "# ve 4 yöntemle calistiralim\n",
        "\n",
        "from earth.asia import japan\n",
        "\n",
        "japan.my_func1(2)\n",
        "japan.my_func2(\"ankara\")"
      ],
      "execution_count": 10,
      "outputs": [
        {
          "output_type": "stream",
          "name": "stdout",
          "text": [
            "4\n",
            "a n k a r a\n"
          ]
        }
      ]
    },
    {
      "cell_type": "code",
      "metadata": {
        "colab": {
          "base_uri": "https://localhost:8080/"
        },
        "id": "YSjP17tkaOTs",
        "outputId": "a6c5a217-c854-4da5-ce0f-828202f71a6a"
      },
      "source": [
        "from earth.asia.japan import my_func1\n",
        "\n",
        "my_func1(5)"
      ],
      "execution_count": 9,
      "outputs": [
        {
          "output_type": "stream",
          "name": "stdout",
          "text": [
            "25\n"
          ]
        }
      ]
    },
    {
      "cell_type": "code",
      "metadata": {
        "colab": {
          "base_uri": "https://localhost:8080/"
        },
        "id": "wmf-ephhaOXH",
        "outputId": "333f141d-b292-4ea2-d557-5744c6d2dae4"
      },
      "source": [
        "import earth.asia.japan\n",
        "\n",
        "earth.asia.japan.my_func1(6)"
      ],
      "execution_count": 12,
      "outputs": [
        {
          "output_type": "stream",
          "name": "stdout",
          "text": [
            "36\n"
          ]
        }
      ]
    },
    {
      "cell_type": "code",
      "metadata": {
        "id": "Ghe00PS1aOaY"
      },
      "source": [
        "########   pre class sorular"
      ],
      "execution_count": 12,
      "outputs": []
    },
    {
      "cell_type": "code",
      "metadata": {
        "id": "kNsgIo5haOdZ"
      },
      "source": [
        "# pip allows you to install/uninstall, and manage additional packages \n",
        "# that are not part of the Python standard modules. "
      ],
      "execution_count": null,
      "outputs": []
    },
    {
      "cell_type": "code",
      "metadata": {
        "id": "ryhIueh1T9fO"
      },
      "source": [
        "earth/                          # Top-level package\n",
        "      __init__.py               # Initialize the earth package\n",
        "      asia/                     # Subpackage for file asia\n",
        "              __init__.py\n",
        "              japan.py\n",
        "              mongolia.py       # A module under a subpackage\n",
        "              pakistan.py\n",
        "              taiwan.py\n",
        "              ...\n",
        "      europe/                   # Subpackage for file europe\n",
        "              __init__.py\n",
        "              germany.py        # A module under a subpackage\n",
        "              england.py\n",
        "              turkey.py\n",
        "              kosovo.py\n",
        "              ...\n",
        "      america/                  # Subpackage for file america\n",
        "              __init__.py\n",
        "              canada.py\n",
        "              ustates.py\n",
        "              mexico.py\n",
        "              peru.py           # A module under a subpackage\n",
        "              ...\n",
        "\n",
        "\n",
        "# Regarding this packages structure, suppose you are working in turkey.py file. \n",
        "# Which of the following is a correct syntax to import peru module \n",
        "# into turkey.py file using relative imports?\n",
        "\n",
        "# Dikkat: absolute path degil relative import. Bu nedenle absolute gibi hepsini yazmiyoruz\n",
        "\n",
        "from . import peru\n",
        "\n",
        "from .. import peru\n",
        "\n",
        "from ..america import peru (True)\n",
        "\n",
        "from ... import america.peru"
      ],
      "execution_count": null,
      "outputs": []
    },
    {
      "cell_type": "code",
      "metadata": {
        "id": "YozHUl1U2Vdf"
      },
      "source": [
        "## There are different styles for importing packages/subpackages/modules \n",
        "# in absolute importing method. Which one is not the same usage \n",
        "# with the following command in absolute importing method?\n",
        "\n",
        "import earth.europe.kosovo\n",
        "\n",
        "\n",
        "# A) from earth.europe import kosovo\n",
        "\n",
        "# B) from earth import europe.kosovo\n",
        "\n",
        "# C) from earth.europe.kosovo import a_function (True)"
      ],
      "execution_count": null,
      "outputs": []
    },
    {
      "cell_type": "code",
      "metadata": {
        "id": "vAiuy6K42Vfn"
      },
      "source": [
        "# Which syntax allows us to import all modules that the subpackage has?\n",
        "Select one or more:\n",
        "\n",
        "from package.subpackage import all \n",
        "\n",
        "\n",
        "from package.subpackage load all \n",
        "\n",
        "\n",
        "from package.subpackage import * (True)"
      ],
      "execution_count": null,
      "outputs": []
    },
    {
      "cell_type": "code",
      "metadata": {
        "id": "byWKMd_i2Vht"
      },
      "source": [
        "# pip stands for: \n",
        "\n",
        "# A) Pip Installs Packages (True)\n",
        "\n",
        "# B) Packages Install Pip\n",
        "\n",
        "# C) Packages In Python"
      ],
      "execution_count": null,
      "outputs": []
    },
    {
      "cell_type": "code",
      "metadata": {
        "id": "OyBY3LfQ2Vjn"
      },
      "source": [
        ""
      ],
      "execution_count": null,
      "outputs": []
    },
    {
      "cell_type": "code",
      "metadata": {
        "colab": {
          "base_uri": "https://localhost:8080/"
        },
        "id": "RwpWHKmD3XRm",
        "outputId": "75ffadaf-450d-4ca7-cee3-432f30e4e0c6"
      },
      "source": [
        "##  paketlerimizin icerisinde bulunan attribute lari görmek icin \n",
        "# dir() func kullaniriz\n",
        "\n",
        "from earth.asia.japan import my_func1\n",
        "\n",
        "print(dir(earth))  ##  builtins ile baslayanlar tüm package lerin default icerigidir\n",
        "print(dir(my_func1))"
      ],
      "execution_count": 24,
      "outputs": [
        {
          "output_type": "stream",
          "name": "stdout",
          "text": [
            "['__builtins__', '__cached__', '__doc__', '__file__', '__loader__', '__name__', '__package__', '__path__', '__spec__', 'asia']\n",
            "['__annotations__', '__call__', '__class__', '__closure__', '__code__', '__defaults__', '__delattr__', '__dict__', '__dir__', '__doc__', '__eq__', '__format__', '__ge__', '__get__', '__getattribute__', '__globals__', '__gt__', '__hash__', '__init__', '__init_subclass__', '__kwdefaults__', '__le__', '__lt__', '__module__', '__name__', '__ne__', '__new__', '__qualname__', '__reduce__', '__reduce_ex__', '__repr__', '__setattr__', '__sizeof__', '__str__', '__subclasshook__']\n"
          ]
        }
      ]
    },
    {
      "cell_type": "code",
      "metadata": {
        "id": "saTyIpfc3XUj"
      },
      "source": [
        "## # pre class youtube video\n",
        "\n",
        "# Moduller nedir?\n",
        "\n",
        "# Python da Modul; funcionlari, class lari yada diger componentleri olan \n",
        "# bir python dosyasidir.\n",
        "\n",
        "## Modülleri neden kullaniriz?\n",
        "\n",
        "# Kodumuzu kullanilir bir yapiya büründürmek icin. Yani kodumuzun devam eden \n",
        "# kisimlarinda bunlari cagirip kodumuyda kolaylikla kullanabilmek amaci ile"
      ],
      "execution_count": null,
      "outputs": []
    },
    {
      "cell_type": "code",
      "metadata": {
        "colab": {
          "base_uri": "https://localhost:8080/"
        },
        "id": "FQWP_9HQ3XXq",
        "outputId": "509249cc-a761-41c3-e524-f6fc64e0828f"
      },
      "source": [
        "## helper.py adinda bir dosya olusturalim ve dolayisi ile helper adinda\n",
        "# bir module import edelim. Icerisinde de display adinda bir func olsun\n",
        "\n",
        "# simdi bu module'ü 3 farkli sekilde import edelim"
      ],
      "execution_count": 25,
      "outputs": [
        {
          "output_type": "stream",
          "name": "stdout",
          "text": [
            "ben\n"
          ]
        }
      ]
    },
    {
      "cell_type": "code",
      "metadata": {
        "colab": {
          "base_uri": "https://localhost:8080/"
        },
        "id": "POA7hYDh3Xa1",
        "outputId": "00463ac4-748a-45ea-ef08-0b6e0d223eb6"
      },
      "source": [
        "##  import module as nameplace\n",
        "\n",
        "import helper\n",
        "\n",
        "helper.display(\"Not a Warning\")"
      ],
      "execution_count": 26,
      "outputs": [
        {
          "output_type": "stream",
          "name": "stdout",
          "text": [
            "Not a Warning\n"
          ]
        }
      ]
    },
    {
      "cell_type": "code",
      "metadata": {
        "colab": {
          "base_uri": "https://localhost:8080/"
        },
        "id": "hlJtXDUi3Xdm",
        "outputId": "7c73175d-954d-451d-dbbd-7844903b852c"
      },
      "source": [
        "##  import all into current nameplace\n",
        "\n",
        "from helper import * \n",
        "\n",
        "display(\"Not Warning!\")    ## herseyi import ettigimiz icin sadece func ismi yaziyoruz"
      ],
      "execution_count": 27,
      "outputs": [
        {
          "output_type": "stream",
          "name": "stdout",
          "text": [
            "Not Warning!\n"
          ]
        }
      ]
    },
    {
      "cell_type": "code",
      "metadata": {
        "colab": {
          "base_uri": "https://localhost:8080/"
        },
        "id": "Q-ijUwUv3XgW",
        "outputId": "d84d5808-bc7a-4687-bc9d-ce12b1cfbf57"
      },
      "source": [
        "###  import specific items into current nameplace\n",
        "# yani sadece ihtiyac duydugumuz func'i import etme\n",
        "\n",
        "from helper import display\n",
        "\n",
        "display(\"Not a Warning\")\n"
      ],
      "execution_count": 28,
      "outputs": [
        {
          "output_type": "stream",
          "name": "stdout",
          "text": [
            "Not a Warning\n"
          ]
        }
      ]
    },
    {
      "cell_type": "code",
      "metadata": {
        "id": "PTM-vyWD2Vl2"
      },
      "source": [
        "### Not: yukarida import ettigimiz 3 kod da ayni görevi yerine getirmektedir.\n",
        "# sadece import yöntemleri farklidir. Bu yöntem de bizim ihtiyac duydugumuz \n",
        "# seye göre sekillenir\n",
        "\n",
        "# Ve bu import yöntemlerinden hangisinin kullanilacagi tamamen \n",
        "# kodu yazan kisiye kalmistir\n",
        "\n",
        "# Ama dikkat edilmesi gereken sey sudur:\n",
        "# Eger birden cok package da yada module de calisiyorsak, \n",
        "# bu durumda func yada module isimlerinin karisabilecegi hususudur."
      ],
      "execution_count": null,
      "outputs": []
    },
    {
      "cell_type": "code",
      "metadata": {
        "id": "DJyoKgjRByHb"
      },
      "source": [
        "###############   installing Packages"
      ],
      "execution_count": null,
      "outputs": []
    },
    {
      "cell_type": "code",
      "metadata": {
        "id": "LNGYkNMEByJ1"
      },
      "source": [
        "##  install a individual package\n",
        "\n",
        "pip install colorama       ### colorama bir pacakage dir. Ve metnin rengini kolayca \n",
        "                            # degistirmemize yardimci olur"
      ],
      "execution_count": null,
      "outputs": []
    },
    {
      "cell_type": "code",
      "metadata": {
        "id": "8fbc8SX3ByMF"
      },
      "source": [
        "## install from a list of packages\n",
        "\n",
        "pip install -r requirements.txt    # eger package leri bir list seklinde install\n",
        "                                    # etmek istersek bu durumda bunlarin isimlerini\n",
        "                                    # bir txt dosyasi icerisine yazabiliriz\n",
        "                                    # ve dosya genelde requirements.txt olarak adlandirilir\n",
        "\n",
        "                                    # peki bu dosyada neler vardir?\n",
        "                                    # bu sadece bir txt dosyasidir ve icerisinde \n",
        "                                    # install etmek istedigimiz package lerin listesi vardir"
      ],
      "execution_count": null,
      "outputs": []
    },
    {
      "cell_type": "code",
      "metadata": {
        "id": "211sTYodByOM"
      },
      "source": [
        "# requirements.txt\n",
        "\n",
        "colorama"
      ],
      "execution_count": null,
      "outputs": []
    },
    {
      "cell_type": "code",
      "metadata": {
        "id": "YnIGwym1ByQB"
      },
      "source": [
        ""
      ],
      "execution_count": null,
      "outputs": []
    },
    {
      "cell_type": "code",
      "metadata": {
        "id": "tSxuzlqMByWv"
      },
      "source": [
        ""
      ],
      "execution_count": null,
      "outputs": []
    },
    {
      "cell_type": "code",
      "metadata": {
        "id": "d4g6D9pV2Vn2"
      },
      "source": [
        ""
      ],
      "execution_count": null,
      "outputs": []
    },
    {
      "cell_type": "code",
      "metadata": {
        "id": "_VmU8X3F54mc"
      },
      "source": [
        ""
      ],
      "execution_count": null,
      "outputs": []
    },
    {
      "cell_type": "code",
      "metadata": {
        "id": "7k9RqadC54oa"
      },
      "source": [
        ""
      ],
      "execution_count": null,
      "outputs": []
    },
    {
      "cell_type": "code",
      "metadata": {
        "id": "iKLyy5vcduUA"
      },
      "source": [
        "################################### inclass"
      ],
      "execution_count": null,
      "outputs": []
    },
    {
      "cell_type": "code",
      "metadata": {
        "colab": {
          "base_uri": "https://localhost:8080/"
        },
        "id": "Yp5WWqYuduWQ",
        "outputId": "48f2beab-4fcb-464b-d7a6-4c61dcf201ca"
      },
      "source": [
        "import math\n",
        "\n",
        "print(dir(math))"
      ],
      "execution_count": null,
      "outputs": [
        {
          "output_type": "stream",
          "name": "stdout",
          "text": [
            "['__doc__', '__loader__', '__name__', '__package__', '__spec__', 'acos', 'acosh', 'asin', 'asinh', 'atan', 'atan2', 'atanh', 'ceil', 'copysign', 'cos', 'cosh', 'degrees', 'e', 'erf', 'erfc', 'exp', 'expm1', 'fabs', 'factorial', 'floor', 'fmod', 'frexp', 'fsum', 'gamma', 'gcd', 'hypot', 'inf', 'isclose', 'isfinite', 'isinf', 'isnan', 'ldexp', 'lgamma', 'log', 'log10', 'log1p', 'log2', 'modf', 'nan', 'pi', 'pow', 'radians', 'remainder', 'sin', 'sinh', 'sqrt', 'tan', 'tanh', 'tau', 'trunc']\n"
          ]
        }
      ]
    },
    {
      "cell_type": "code",
      "metadata": {
        "colab": {
          "base_uri": "https://localhost:8080/"
        },
        "id": "SxVsLGATaiKm",
        "outputId": "1303e4a9-51f7-447c-ed4a-256c758e0fad"
      },
      "source": [
        "from math import pi, factorial, log10\n",
        "\n",
        "print(pi)\n",
        "print(factorial(4))\n",
        "print(log10(1000))\n"
      ],
      "execution_count": null,
      "outputs": [
        {
          "output_type": "stream",
          "name": "stdout",
          "text": [
            "3.141592653589793\n",
            "24\n",
            "3.0\n"
          ]
        }
      ]
    },
    {
      "cell_type": "code",
      "metadata": {
        "id": "Pm66P8fA1NKz",
        "colab": {
          "base_uri": "https://localhost:8080/"
        },
        "outputId": "a2588254-320c-495c-f068-87f09516e431"
      },
      "source": [
        "from string import punctuation, digits\n",
        "\n",
        "print(dir(punctuation))"
      ],
      "execution_count": null,
      "outputs": [
        {
          "output_type": "stream",
          "name": "stdout",
          "text": [
            "['__add__', '__class__', '__contains__', '__delattr__', '__dir__', '__doc__', '__eq__', '__format__', '__ge__', '__getattribute__', '__getitem__', '__getnewargs__', '__gt__', '__hash__', '__init__', '__init_subclass__', '__iter__', '__le__', '__len__', '__lt__', '__mod__', '__mul__', '__ne__', '__new__', '__reduce__', '__reduce_ex__', '__repr__', '__rmod__', '__rmul__', '__setattr__', '__sizeof__', '__str__', '__subclasshook__', 'capitalize', 'casefold', 'center', 'count', 'encode', 'endswith', 'expandtabs', 'find', 'format', 'format_map', 'index', 'isalnum', 'isalpha', 'isascii', 'isdecimal', 'isdigit', 'isidentifier', 'islower', 'isnumeric', 'isprintable', 'isspace', 'istitle', 'isupper', 'join', 'ljust', 'lower', 'lstrip', 'maketrans', 'partition', 'replace', 'rfind', 'rindex', 'rjust', 'rpartition', 'rsplit', 'rstrip', 'split', 'splitlines', 'startswith', 'strip', 'swapcase', 'title', 'translate', 'upper', 'zfill']\n"
          ]
        }
      ]
    },
    {
      "cell_type": "code",
      "metadata": {
        "colab": {
          "base_uri": "https://localhost:8080/",
          "height": 36
        },
        "id": "fHotDj8zjVxl",
        "outputId": "7d9cbdcb-5e56-40f2-bbfe-ded5150734a8"
      },
      "source": [
        "import string\n",
        "\n",
        "string.punctuation\n",
        "string.digits\n",
        "string.whitespace\n",
        "string.Template\n",
        "string.printable\n",
        "string.octdigits\n",
        "string.hexdigits"
      ],
      "execution_count": null,
      "outputs": [
        {
          "output_type": "execute_result",
          "data": {
            "application/vnd.google.colaboratory.intrinsic+json": {
              "type": "string"
            },
            "text/plain": [
              "'0123456789abcdefABCDEF'"
            ]
          },
          "metadata": {},
          "execution_count": 14
        }
      ]
    },
    {
      "cell_type": "code",
      "metadata": {
        "colab": {
          "base_uri": "https://localhost:8080/"
        },
        "id": "igRsrFCnjV0w",
        "outputId": "ffd9cbd9-ac7e-4931-e879-9fed86ee0c8d"
      },
      "source": [
        "from datetime import date, datetime\n",
        "\n",
        "print(date.today())\n",
        "print(datetime.now())"
      ],
      "execution_count": null,
      "outputs": [
        {
          "output_type": "stream",
          "name": "stdout",
          "text": [
            "2021-12-02\n",
            "2021-12-02 19:17:20.495497\n"
          ]
        }
      ]
    },
    {
      "cell_type": "code",
      "metadata": {
        "colab": {
          "base_uri": "https://localhost:8080/"
        },
        "id": "CgV5OKRyjV3v",
        "outputId": "30128f2b-58c1-4303-f5ed-a816cd9b1f84"
      },
      "source": [
        "import datetime\n",
        "\n",
        "print(datetime.datetime.now())"
      ],
      "execution_count": null,
      "outputs": [
        {
          "output_type": "stream",
          "name": "stdout",
          "text": [
            "2021-12-02 19:19:54.137470\n"
          ]
        }
      ]
    },
    {
      "cell_type": "code",
      "metadata": {
        "id": "Jp9hs8IhjV6b"
      },
      "source": [
        "# 22 April 571\n",
        "# 8 June 632"
      ],
      "execution_count": null,
      "outputs": []
    },
    {
      "cell_type": "code",
      "metadata": {
        "colab": {
          "base_uri": "https://localhost:8080/"
        },
        "id": "QE5aKVQojV9B",
        "outputId": "b1064ddf-31b2-4f2c-902b-4b848aa12b3d"
      },
      "source": [
        "from datetime import date\n",
        "\n",
        "birt = date(571, 4, 22)\n",
        "\n",
        "death = date(632, 6, 8)\n",
        "\n",
        "date.toordinal(birt)\n",
        "date.toordinal(death)\n",
        "\n",
        "date.toordinal(death) - date.toordinal(birt)"
      ],
      "execution_count": null,
      "outputs": [
        {
          "output_type": "execute_result",
          "data": {
            "text/plain": [
              "22327"
            ]
          },
          "metadata": {},
          "execution_count": 29
        }
      ]
    },
    {
      "cell_type": "code",
      "metadata": {
        "id": "TH-AQOfxanxL"
      },
      "source": [
        ""
      ],
      "execution_count": null,
      "outputs": []
    },
    {
      "cell_type": "code",
      "metadata": {
        "id": "_cPbIo-ean0D",
        "colab": {
          "base_uri": "https://localhost:8080/"
        },
        "outputId": "6d67b6e5-c8de-4d45-9b27-a2ecae23b588"
      },
      "source": [
        "from random import choice\n",
        "\n",
        "liste = [\"Stockholm\", \"Istanbul\", \"Seul\"]\n",
        "\n",
        "print(choice(liste))"
      ],
      "execution_count": null,
      "outputs": [
        {
          "output_type": "stream",
          "name": "stdout",
          "text": [
            "Stockholm\n"
          ]
        }
      ]
    },
    {
      "cell_type": "code",
      "metadata": {
        "id": "cjEWgll9an20",
        "colab": {
          "base_uri": "https://localhost:8080/"
        },
        "outputId": "90b9c6ca-36d0-49cc-f58b-5651f2ec7ece"
      },
      "source": [
        "# 22 April 571\n",
        "# 8 June 632\n",
        "\n",
        "from datetime import date\n",
        "\n",
        "ölüm = date(632, 6, 8)\n",
        "dogum = date(571, 4, 22)\n",
        "\n",
        "ölüm.toordinal()\n",
        "dogum.toordinal()\n",
        "\n",
        "print(ölüm.toordinal() - dogum.toordinal())"
      ],
      "execution_count": null,
      "outputs": [
        {
          "output_type": "stream",
          "name": "stdout",
          "text": [
            "22327\n"
          ]
        }
      ]
    },
    {
      "cell_type": "code",
      "metadata": {
        "colab": {
          "base_uri": "https://localhost:8080/"
        },
        "id": "is7QZQMpopkh",
        "outputId": "2490fc8c-c898-4010-9e92-5d08bc7a7ced"
      },
      "source": [
        "pip --version"
      ],
      "execution_count": null,
      "outputs": [
        {
          "output_type": "stream",
          "name": "stdout",
          "text": [
            "pip 21.1.3 from /usr/local/lib/python3.7/dist-packages/pip (python 3.7)\n"
          ]
        }
      ]
    },
    {
      "cell_type": "code",
      "metadata": {
        "colab": {
          "base_uri": "https://localhost:8080/"
        },
        "id": "_F8Q42YBopnW",
        "outputId": "b8eb5969-239c-4d5d-8fb6-34dc02593b7b"
      },
      "source": [
        "pip install kaggle  # pc ye download eder"
      ],
      "execution_count": null,
      "outputs": [
        {
          "output_type": "stream",
          "name": "stdout",
          "text": [
            "Requirement already satisfied: kaggle in /usr/local/lib/python3.7/dist-packages (1.5.12)\n",
            "Requirement already satisfied: six>=1.10 in /usr/local/lib/python3.7/dist-packages (from kaggle) (1.15.0)\n",
            "Requirement already satisfied: python-dateutil in /usr/local/lib/python3.7/dist-packages (from kaggle) (2.8.2)\n",
            "Requirement already satisfied: urllib3 in /usr/local/lib/python3.7/dist-packages (from kaggle) (1.24.3)\n",
            "Requirement already satisfied: requests in /usr/local/lib/python3.7/dist-packages (from kaggle) (2.23.0)\n",
            "Requirement already satisfied: tqdm in /usr/local/lib/python3.7/dist-packages (from kaggle) (4.62.3)\n",
            "Requirement already satisfied: python-slugify in /usr/local/lib/python3.7/dist-packages (from kaggle) (5.0.2)\n",
            "Requirement already satisfied: certifi in /usr/local/lib/python3.7/dist-packages (from kaggle) (2021.10.8)\n",
            "Requirement already satisfied: text-unidecode>=1.3 in /usr/local/lib/python3.7/dist-packages (from python-slugify->kaggle) (1.3)\n",
            "Requirement already satisfied: idna<3,>=2.5 in /usr/local/lib/python3.7/dist-packages (from requests->kaggle) (2.10)\n",
            "Requirement already satisfied: chardet<4,>=3.0.2 in /usr/local/lib/python3.7/dist-packages (from requests->kaggle) (3.0.4)\n"
          ]
        }
      ]
    },
    {
      "cell_type": "code",
      "metadata": {
        "colab": {
          "base_uri": "https://localhost:8080/"
        },
        "id": "tXPP7p68rHTe",
        "outputId": "4d0641b5-3e69-45f9-8819-4b1d1bc86649"
      },
      "source": [
        "pip install numpy"
      ],
      "execution_count": null,
      "outputs": [
        {
          "output_type": "stream",
          "name": "stdout",
          "text": [
            "Requirement already satisfied: numpy in /usr/local/lib/python3.7/dist-packages (1.19.5)\n"
          ]
        }
      ]
    },
    {
      "cell_type": "code",
      "metadata": {
        "colab": {
          "base_uri": "https://localhost:8080/"
        },
        "id": "NonriwXnrHXv",
        "outputId": "2fe9135a-1e59-4c43-b1fa-378779b55066"
      },
      "source": [
        "!pip list"
      ],
      "execution_count": null,
      "outputs": [
        {
          "output_type": "stream",
          "name": "stdout",
          "text": [
            "Package                       Version\n",
            "----------------------------- --------------\n",
            "absl-py                       0.12.0\n",
            "alabaster                     0.7.12\n",
            "albumentations                0.1.12\n",
            "altair                        4.1.0\n",
            "appdirs                       1.4.4\n",
            "argcomplete                   1.12.3\n",
            "argon2-cffi                   21.1.0\n",
            "arviz                         0.11.4\n",
            "astor                         0.8.1\n",
            "astropy                       4.3.1\n",
            "astunparse                    1.6.3\n",
            "atari-py                      0.2.9\n",
            "atomicwrites                  1.4.0\n",
            "attrs                         21.2.0\n",
            "audioread                     2.1.9\n",
            "autograd                      1.3\n",
            "Babel                         2.9.1\n",
            "backcall                      0.2.0\n",
            "beautifulsoup4                4.6.3\n",
            "bleach                        4.1.0\n",
            "blis                          0.4.1\n",
            "bokeh                         2.3.3\n",
            "Bottleneck                    1.3.2\n",
            "branca                        0.4.2\n",
            "bs4                           0.0.1\n",
            "CacheControl                  0.12.10\n",
            "cached-property               1.5.2\n",
            "cachetools                    4.2.4\n",
            "catalogue                     1.0.0\n",
            "certifi                       2021.10.8\n",
            "cffi                          1.15.0\n",
            "cftime                        1.5.1.1\n",
            "chardet                       3.0.4\n",
            "charset-normalizer            2.0.8\n",
            "click                         7.1.2\n",
            "cloudpickle                   1.3.0\n",
            "cmake                         3.12.0\n",
            "cmdstanpy                     0.9.5\n",
            "colorcet                      2.0.6\n",
            "colorlover                    0.3.0\n",
            "community                     1.0.0b1\n",
            "contextlib2                   0.5.5\n",
            "convertdate                   2.3.2\n",
            "coverage                      3.7.1\n",
            "coveralls                     0.5\n",
            "crcmod                        1.7\n",
            "cufflinks                     0.17.3\n",
            "cvxopt                        1.2.7\n",
            "cvxpy                         1.0.31\n",
            "cycler                        0.11.0\n",
            "cymem                         2.0.6\n",
            "Cython                        0.29.24\n",
            "daft                          0.0.4\n",
            "dask                          2.12.0\n",
            "datascience                   0.10.6\n",
            "debugpy                       1.0.0\n",
            "decorator                     4.4.2\n",
            "defusedxml                    0.7.1\n",
            "descartes                     1.1.0\n",
            "dill                          0.3.4\n",
            "distributed                   1.25.3\n",
            "dlib                          19.18.0\n",
            "dm-tree                       0.1.6\n",
            "docopt                        0.6.2\n",
            "docutils                      0.17.1\n",
            "dopamine-rl                   1.0.5\n",
            "earthengine-api               0.1.290\n",
            "easydict                      1.9\n",
            "ecos                          2.0.7.post1\n",
            "editdistance                  0.5.3\n",
            "en-core-web-sm                2.2.5\n",
            "entrypoints                   0.3\n",
            "ephem                         4.1\n",
            "et-xmlfile                    1.1.0\n",
            "fa2                           0.3.5\n",
            "fastai                        1.0.61\n",
            "fastdtw                       0.3.4\n",
            "fastprogress                  1.0.0\n",
            "fastrlock                     0.8\n",
            "fbprophet                     0.7.1\n",
            "feather-format                0.4.1\n",
            "filelock                      3.4.0\n",
            "firebase-admin                4.4.0\n",
            "fix-yahoo-finance             0.0.22\n",
            "Flask                         1.1.4\n",
            "flatbuffers                   2.0\n",
            "folium                        0.8.3\n",
            "fonttools                     4.28.2\n",
            "future                        0.16.0\n",
            "gast                          0.4.0\n",
            "GDAL                          2.2.2\n",
            "gdown                         3.6.4\n",
            "gensim                        3.6.0\n",
            "geographiclib                 1.52\n",
            "geopy                         1.17.0\n",
            "gin-config                    0.5.0\n",
            "glob2                         0.7\n",
            "google                        2.0.3\n",
            "google-api-core               1.26.3\n",
            "google-api-python-client      1.12.8\n",
            "google-auth                   1.35.0\n",
            "google-auth-httplib2          0.0.4\n",
            "google-auth-oauthlib          0.4.6\n",
            "google-cloud-bigquery         1.21.0\n",
            "google-cloud-bigquery-storage 1.1.0\n",
            "google-cloud-core             1.0.3\n",
            "google-cloud-datastore        1.8.0\n",
            "google-cloud-firestore        1.7.0\n",
            "google-cloud-language         1.2.0\n",
            "google-cloud-storage          1.18.1\n",
            "google-cloud-translate        1.5.0\n",
            "google-colab                  1.0.0\n",
            "google-pasta                  0.2.0\n",
            "google-resumable-media        0.4.1\n",
            "googleapis-common-protos      1.53.0\n",
            "googledrivedownloader         0.4\n",
            "graphviz                      0.10.1\n",
            "greenlet                      1.1.2\n",
            "grpcio                        1.42.0\n",
            "gspread                       3.0.1\n",
            "gspread-dataframe             3.0.8\n",
            "gym                           0.17.3\n",
            "h5py                          3.1.0\n",
            "HeapDict                      1.0.1\n",
            "hijri-converter               2.2.2\n",
            "holidays                      0.10.5.2\n",
            "holoviews                     1.14.6\n",
            "html5lib                      1.0.1\n",
            "httpimport                    0.5.18\n",
            "httplib2                      0.17.4\n",
            "httplib2shim                  0.0.3\n",
            "humanize                      0.5.1\n",
            "hyperopt                      0.1.2\n",
            "ideep4py                      2.0.0.post3\n",
            "idna                          2.10\n",
            "imageio                       2.4.1\n",
            "imagesize                     1.3.0\n",
            "imbalanced-learn              0.8.1\n",
            "imblearn                      0.0\n",
            "imgaug                        0.2.9\n",
            "importlib-metadata            4.8.2\n",
            "importlib-resources           5.4.0\n",
            "imutils                       0.5.4\n",
            "inflect                       2.1.0\n",
            "iniconfig                     1.1.1\n",
            "intel-openmp                  2021.4.0\n",
            "intervaltree                  2.1.0\n",
            "ipykernel                     4.10.1\n",
            "ipython                       5.5.0\n",
            "ipython-genutils              0.2.0\n",
            "ipython-sql                   0.3.9\n",
            "ipywidgets                    7.6.5\n",
            "itsdangerous                  1.1.0\n",
            "jax                           0.2.25\n",
            "jaxlib                        0.1.71+cuda111\n",
            "jdcal                         1.4.1\n",
            "jedi                          0.18.1\n",
            "jieba                         0.42.1\n",
            "Jinja2                        2.11.3\n",
            "joblib                        1.1.0\n",
            "jpeg4py                       0.1.4\n",
            "jsonschema                    2.6.0\n",
            "jupyter                       1.0.0\n",
            "jupyter-client                5.3.5\n",
            "jupyter-console               5.2.0\n",
            "jupyter-core                  4.9.1\n",
            "jupyterlab-pygments           0.1.2\n",
            "jupyterlab-widgets            1.0.2\n",
            "kaggle                        1.5.12\n",
            "kapre                         0.3.6\n",
            "keras                         2.7.0\n",
            "Keras-Preprocessing           1.1.2\n",
            "keras-vis                     0.4.1\n",
            "kiwisolver                    1.3.2\n",
            "korean-lunar-calendar         0.2.1\n",
            "libclang                      12.0.0\n",
            "librosa                       0.8.1\n",
            "lightgbm                      2.2.3\n",
            "llvmlite                      0.34.0\n",
            "lmdb                          0.99\n",
            "LunarCalendar                 0.0.9\n",
            "lxml                          4.2.6\n",
            "Markdown                      3.3.6\n",
            "MarkupSafe                    2.0.1\n",
            "matplotlib                    3.2.2\n",
            "matplotlib-inline             0.1.3\n",
            "matplotlib-venn               0.11.6\n",
            "missingno                     0.5.0\n",
            "mistune                       0.8.4\n",
            "mizani                        0.6.0\n",
            "mkl                           2019.0\n",
            "mlxtend                       0.14.0\n",
            "more-itertools                8.12.0\n",
            "moviepy                       0.2.3.5\n",
            "mpmath                        1.2.1\n",
            "msgpack                       1.0.3\n",
            "multiprocess                  0.70.12.2\n",
            "multitasking                  0.0.10\n",
            "murmurhash                    1.0.6\n",
            "music21                       5.5.0\n",
            "natsort                       5.5.0\n",
            "nbclient                      0.5.9\n",
            "nbconvert                     5.6.1\n",
            "nbformat                      5.1.3\n",
            "nest-asyncio                  1.5.1\n",
            "netCDF4                       1.5.8\n",
            "networkx                      2.6.3\n",
            "nibabel                       3.0.2\n",
            "nltk                          3.2.5\n",
            "notebook                      5.3.1\n",
            "numba                         0.51.2\n",
            "numexpr                       2.7.3\n",
            "numpy                         1.19.5\n",
            "nvidia-ml-py3                 7.352.0\n",
            "oauth2client                  4.1.3\n",
            "oauthlib                      3.1.1\n",
            "okgrade                       0.4.3\n",
            "opencv-contrib-python         4.1.2.30\n",
            "opencv-python                 4.1.2.30\n",
            "openpyxl                      2.5.9\n",
            "opt-einsum                    3.3.0\n",
            "osqp                          0.6.2.post0\n",
            "packaging                     21.3\n",
            "palettable                    3.3.0\n",
            "pandas                        1.1.5\n",
            "pandas-datareader             0.9.0\n",
            "pandas-gbq                    0.13.3\n",
            "pandas-profiling              1.4.1\n",
            "pandocfilters                 1.5.0\n",
            "panel                         0.12.1\n",
            "param                         1.12.0\n",
            "parso                         0.8.2\n",
            "pathlib                       1.0.1\n",
            "patsy                         0.5.2\n",
            "pep517                        0.12.0\n",
            "pexpect                       4.8.0\n",
            "pickleshare                   0.7.5\n",
            "Pillow                        7.1.2\n",
            "pip                           21.1.3\n",
            "pip-tools                     6.2.0\n",
            "plac                          1.1.3\n",
            "plotly                        4.4.1\n",
            "plotnine                      0.6.0\n",
            "pluggy                        0.7.1\n",
            "pooch                         1.5.2\n",
            "portpicker                    1.3.9\n",
            "prefetch-generator            1.0.1\n",
            "preshed                       3.0.6\n",
            "prettytable                   2.4.0\n",
            "progressbar2                  3.38.0\n",
            "prometheus-client             0.12.0\n",
            "promise                       2.3\n",
            "prompt-toolkit                1.0.18\n",
            "protobuf                      3.17.3\n",
            "psutil                        5.4.8\n",
            "psycopg2                      2.7.6.1\n",
            "ptyprocess                    0.7.0\n",
            "py                            1.11.0\n",
            "pyarrow                       3.0.0\n",
            "pyasn1                        0.4.8\n",
            "pyasn1-modules                0.2.8\n",
            "pycocotools                   2.0.3\n",
            "pycparser                     2.21\n",
            "pyct                          0.4.8\n",
            "pydata-google-auth            1.2.0\n",
            "pydot                         1.3.0\n",
            "pydot-ng                      2.0.0\n",
            "pydotplus                     2.0.2\n",
            "PyDrive                       1.3.1\n",
            "pyemd                         0.5.1\n",
            "pyerfa                        2.0.0.1\n",
            "pyglet                        1.5.0\n",
            "Pygments                      2.6.1\n",
            "pygobject                     3.26.1\n",
            "pymc3                         3.11.4\n",
            "PyMeeus                       0.5.11\n",
            "pymongo                       3.12.1\n",
            "pymystem3                     0.2.0\n",
            "PyOpenGL                      3.1.5\n",
            "pyparsing                     3.0.6\n",
            "pyrsistent                    0.18.0\n",
            "pysndfile                     1.3.8\n",
            "PySocks                       1.7.1\n",
            "pystan                        2.19.1.1\n",
            "pytest                        3.6.4\n",
            "python-apt                    0.0.0\n",
            "python-chess                  0.23.11\n",
            "python-dateutil               2.8.2\n",
            "python-louvain                0.15\n",
            "python-slugify                5.0.2\n",
            "python-utils                  2.5.6\n",
            "pytz                          2018.9\n",
            "pyviz-comms                   2.1.0\n",
            "PyWavelets                    1.2.0\n",
            "PyYAML                        3.13\n",
            "pyzmq                         22.3.0\n",
            "qdldl                         0.1.5.post0\n",
            "qtconsole                     5.2.1\n",
            "QtPy                          1.11.2\n",
            "regex                         2019.12.20\n",
            "requests                      2.23.0\n",
            "requests-oauthlib             1.3.0\n",
            "resampy                       0.2.2\n",
            "retrying                      1.3.3\n",
            "rpy2                          3.4.5\n",
            "rsa                           4.8\n",
            "scikit-image                  0.18.3\n",
            "scikit-learn                  1.0.1\n",
            "scipy                         1.4.1\n",
            "screen-resolution-extra       0.0.0\n",
            "scs                           2.1.4\n",
            "seaborn                       0.11.2\n",
            "semver                        2.13.0\n",
            "Send2Trash                    1.8.0\n",
            "setuptools                    57.4.0\n",
            "setuptools-git                1.2\n",
            "setuptools-scm                6.3.2\n",
            "Shapely                       1.8.0\n",
            "simplegeneric                 0.8.1\n",
            "six                           1.15.0\n",
            "sklearn                       0.0\n",
            "sklearn-pandas                1.8.0\n",
            "smart-open                    5.2.1\n",
            "snowballstemmer               2.2.0\n",
            "sortedcontainers              2.4.0\n",
            "SoundFile                     0.10.3.post1\n",
            "spacy                         2.2.4\n",
            "Sphinx                        1.8.6\n",
            "sphinxcontrib-serializinghtml 1.1.5\n",
            "sphinxcontrib-websupport      1.2.4\n",
            "SQLAlchemy                    1.4.27\n",
            "sqlparse                      0.4.2\n",
            "srsly                         1.0.5\n",
            "statsmodels                   0.10.2\n",
            "sympy                         1.7.1\n",
            "tables                        3.4.4\n",
            "tabulate                      0.8.9\n",
            "tblib                         1.7.0\n",
            "tensorboard                   2.7.0\n",
            "tensorboard-data-server       0.6.1\n",
            "tensorboard-plugin-wit        1.8.0\n",
            "tensorflow                    2.7.0\n",
            "tensorflow-datasets           4.0.1\n",
            "tensorflow-estimator          2.7.0\n",
            "tensorflow-gcs-config         2.7.0\n",
            "tensorflow-hub                0.12.0\n",
            "tensorflow-io-gcs-filesystem  0.22.0\n",
            "tensorflow-metadata           1.4.0\n",
            "tensorflow-probability        0.15.0\n",
            "termcolor                     1.1.0\n",
            "terminado                     0.12.1\n",
            "testpath                      0.5.0\n",
            "text-unidecode                1.3\n",
            "textblob                      0.15.3\n",
            "Theano-PyMC                   1.1.2\n",
            "thinc                         7.4.0\n",
            "threadpoolctl                 3.0.0\n",
            "tifffile                      2021.11.2\n",
            "toml                          0.10.2\n",
            "tomli                         1.2.2\n",
            "toolz                         0.11.2\n",
            "torch                         1.10.0+cu111\n",
            "torchaudio                    0.10.0+cu111\n",
            "torchsummary                  1.5.1\n",
            "torchtext                     0.11.0\n",
            "torchvision                   0.11.1+cu111\n",
            "tornado                       5.1.1\n",
            "tqdm                          4.62.3\n",
            "traitlets                     5.1.1\n",
            "tweepy                        3.10.0\n",
            "typeguard                     2.7.1\n",
            "typing-extensions             3.10.0.2\n",
            "tzlocal                       1.5.1\n",
            "uritemplate                   3.0.1\n",
            "urllib3                       1.24.3\n",
            "vega-datasets                 0.9.0\n",
            "wasabi                        0.8.2\n",
            "wcwidth                       0.2.5\n",
            "webencodings                  0.5.1\n",
            "Werkzeug                      1.0.1\n",
            "wheel                         0.37.0\n",
            "widgetsnbextension            3.5.2\n",
            "wordcloud                     1.5.0\n",
            "wrapt                         1.13.3\n",
            "xarray                        0.18.2\n",
            "xgboost                       0.90\n",
            "xkit                          0.0.0\n",
            "xlrd                          1.1.0\n",
            "xlwt                          1.3.0\n",
            "yellowbrick                   1.3.post1\n",
            "zict                          2.0.0\n",
            "zipp                          3.6.0\n"
          ]
        }
      ]
    },
    {
      "cell_type": "code",
      "metadata": {
        "colab": {
          "base_uri": "https://localhost:8080/"
        },
        "id": "OzMnvdyVrHbg",
        "outputId": "65507a89-ddc3-47d7-9ae1-e40a0844257a"
      },
      "source": [
        "pip show numpy"
      ],
      "execution_count": null,
      "outputs": [
        {
          "output_type": "stream",
          "name": "stdout",
          "text": [
            "Name: numpy\n",
            "Version: 1.19.5\n",
            "Summary: NumPy is the fundamental package for array computing with Python.\n",
            "Home-page: https://www.numpy.org\n",
            "Author: Travis E. Oliphant et al.\n",
            "Author-email: None\n",
            "License: BSD\n",
            "Location: /usr/local/lib/python3.7/dist-packages\n",
            "Requires: \n",
            "Required-by: yellowbrick, xgboost, xarray, wordcloud, torchvision, torchtext, tifffile, thinc, Theano-PyMC, tensorflow, tensorflow-probability, tensorflow-hub, tensorflow-datasets, tensorboard, tables, statsmodels, spacy, sklearn-pandas, seaborn, scs, scipy, scikit-learn, scikit-image, resampy, qdldl, PyWavelets, python-louvain, pystan, pysndfile, pymc3, pyerfa, pyemd, pyarrow, plotnine, patsy, pandas, osqp, opt-einsum, opencv-python, opencv-contrib-python, numexpr, numba, nibabel, netCDF4, moviepy, mlxtend, mizani, missingno, matplotlib, matplotlib-venn, lightgbm, librosa, Keras-Preprocessing, kapre, jpeg4py, jaxlib, jax, imgaug, imbalanced-learn, imageio, hyperopt, holoviews, h5py, gym, gensim, folium, fix-yahoo-finance, fbprophet, fastprogress, fastdtw, fastai, fa2, ecos, daft, cvxpy, cufflinks, cmdstanpy, cftime, Bottleneck, bokeh, blis, autograd, atari-py, astropy, arviz, altair, albumentations\n"
          ]
        }
      ]
    },
    {
      "cell_type": "code",
      "metadata": {
        "colab": {
          "base_uri": "https://localhost:8080/"
        },
        "id": "iVQYWPbhopqL",
        "outputId": "8eebe3fb-84f6-469d-8cb4-e7b9bc03165f"
      },
      "source": [
        "pip show kaggle"
      ],
      "execution_count": null,
      "outputs": [
        {
          "output_type": "stream",
          "name": "stdout",
          "text": [
            "Name: kaggle\n",
            "Version: 1.5.12\n",
            "Summary: Kaggle API\n",
            "Home-page: https://github.com/Kaggle/kaggle-api\n",
            "Author: Kaggle\n",
            "Author-email: support@kaggle.com\n",
            "License: Apache 2.0\n",
            "Location: /usr/local/lib/python3.7/dist-packages\n",
            "Requires: python-slugify, six, certifi, requests, urllib3, tqdm, python-dateutil\n",
            "Required-by: \n"
          ]
        }
      ]
    },
    {
      "cell_type": "code",
      "metadata": {
        "colab": {
          "base_uri": "https://localhost:8080/"
        },
        "id": "qBv3Cni6opsg",
        "outputId": "fe2deea8-12bc-4a70-978a-3c0b336ad5a9"
      },
      "source": [
        "pip uninstall kaggle"
      ],
      "execution_count": null,
      "outputs": [
        {
          "output_type": "stream",
          "name": "stdout",
          "text": [
            "Found existing installation: kaggle 1.5.12\n",
            "Uninstalling kaggle-1.5.12:\n",
            "  Would remove:\n",
            "    /usr/local/bin/kaggle\n",
            "    /usr/local/lib/python3.7/dist-packages/kaggle-1.5.12.dist-info/*\n",
            "    /usr/local/lib/python3.7/dist-packages/kaggle/*\n",
            "Proceed (y/n)? \u001b[31mERROR: Operation cancelled by user\u001b[0m\n",
            "Traceback (most recent call last):\n",
            "  File \"/usr/local/lib/python3.7/dist-packages/pip/_internal/cli/base_command.py\", line 180, in _main\n",
            "    status = self.run(options, args)\n",
            "  File \"/usr/local/lib/python3.7/dist-packages/pip/_internal/commands/uninstall.py\", line 86, in run\n",
            "    auto_confirm=options.yes, verbose=self.verbosity > 0,\n",
            "  File \"/usr/local/lib/python3.7/dist-packages/pip/_internal/req/req_install.py\", line 658, in uninstall\n",
            "    uninstalled_pathset.remove(auto_confirm, verbose)\n",
            "  File \"/usr/local/lib/python3.7/dist-packages/pip/_internal/req/req_uninstall.py\", line 380, in remove\n",
            "    if auto_confirm or self._allowed_to_proceed(verbose):\n",
            "  File \"/usr/local/lib/python3.7/dist-packages/pip/_internal/req/req_uninstall.py\", line 423, in _allowed_to_proceed\n",
            "    return ask('Proceed (y/n)? ', ('y', 'n')) == 'y'\n",
            "  File \"/usr/local/lib/python3.7/dist-packages/pip/_internal/utils/misc.py\", line 203, in ask\n",
            "    response = input(message)\n",
            "KeyboardInterrupt\n",
            "\n",
            "During handling of the above exception, another exception occurred:\n",
            "\n",
            "Traceback (most recent call last):\n",
            "  File \"/usr/local/bin/pip3\", line 8, in <module>\n",
            "    sys.exit(main())\n",
            "  File \"/usr/local/lib/python3.7/dist-packages/pip/_internal/cli/main.py\", line 71, in main\n",
            "    return command.main(cmd_args)\n",
            "  File \"/usr/local/lib/python3.7/dist-packages/pip/_internal/cli/base_command.py\", line 104, in main\n",
            "    return self._main(args)\n",
            "  File \"/usr/local/lib/python3.7/dist-packages/pip/_internal/cli/base_command.py\", line 213, in _main\n",
            "    logger.debug(\"Exception information:\", exc_info=True)\n",
            "  File \"/usr/lib/python3.7/logging/__init__.py\", line 1366, in debug\n",
            "    self._log(DEBUG, msg, args, **kwargs)\n",
            "  File \"/usr/lib/python3.7/logging/__init__.py\", line 1514, in _log\n",
            "    self.handle(record)\n",
            "  File \"/usr/lib/python3.7/logging/__init__.py\", line 1524, in handle\n",
            "    self.callHandlers(record)\n",
            "  File \"/usr/lib/python3.7/logging/__init__.py\", line 1586, in callHandlers\n",
            "    hdlr.handle(record)\n",
            "  File \"/usr/lib/python3.7/logging/__init__.py\", line 894, in handle\n",
            "    self.emit(record)\n",
            "  File \"/usr/lib/python3.7/logging/handlers.py\", line 71, in emit\n",
            "    logging.FileHandler.emit(self, record)\n",
            "  File \"/usr/lib/python3.7/logging/__init__.py\", line 1127, in emit\n",
            "    StreamHandler.emit(self, record)\n",
            "  File \"/usr/lib/python3.7/logging/__init__.py\", line 1025, in emit\n",
            "    msg = self.format(record)\n",
            "  File \"/usr/lib/python3.7/logging/__init__.py\", line 869, in format\n",
            "    return fmt.format(record)\n",
            "  File \"/usr/local/lib/python3.7/dist-packages/pip/_internal/utils/logging.py\", line 130, in format\n",
            "    formatted = super().format(record)\n",
            "  File \"/usr/lib/python3.7/logging/__init__.py\", line 616, in format\n",
            "    record.exc_text = self.formatException(record.exc_info)\n",
            "  File \"/usr/lib/python3.7/logging/__init__.py\", line 566, in formatException\n",
            "    traceback.print_exception(ei[0], ei[1], tb, None, sio)\n",
            "  File \"/usr/lib/python3.7/traceback.py\", line 104, in print_exception\n",
            "    type(value), value, tb, limit=limit).format(chain=chain):\n",
            "  File \"/usr/lib/python3.7/traceback.py\", line 508, in __init__\n",
            "    capture_locals=capture_locals)\n",
            "  File \"/usr/lib/python3.7/traceback.py\", line 363, in extract\n",
            "    f.line\n",
            "  File \"/usr/lib/python3.7/traceback.py\", line 285, in line\n",
            "    self._line = linecache.getline(self.filename, self.lineno).strip()\n",
            "  File \"/usr/lib/python3.7/linecache.py\", line 16, in getline\n",
            "    lines = getlines(filename, module_globals)\n",
            "  File \"/usr/lib/python3.7/linecache.py\", line 47, in getlines\n",
            "    return updatecache(filename, module_globals)\n",
            "  File \"/usr/lib/python3.7/linecache.py\", line 136, in updatecache\n",
            "    with tokenize.open(fullname) as fp:\n",
            "  File \"/usr/lib/python3.7/tokenize.py\", line 449, in open\n",
            "    encoding, lines = detect_encoding(buffer.readline)\n",
            "  File \"/usr/lib/python3.7/tokenize.py\", line 418, in detect_encoding\n",
            "    first = read_or_stop()\n",
            "  File \"/usr/lib/python3.7/tokenize.py\", line 376, in read_or_stop\n",
            "    return readline()\n",
            "KeyboardInterrupt\n"
          ]
        }
      ]
    },
    {
      "cell_type": "code",
      "metadata": {
        "id": "u7CMMVghwG01"
      },
      "source": [
        "#   Bytecode, basit tabiriyle bir program kodudur (pseudo code). Nasıl assembly kodları okunabilir bir programlama diliyse, bytecode de aynı assembly gibi sanal makinelerin okuyabilmesi için oluşturulan bir koddur ve binary dosyasıdır (dosyayı binary editörler ile açtığınızda binary ifadeleri göreceksinizdir)\n",
        "Resimde de gördüğünüz gibi bytecode bir program kodudur ve Sanal makinelerin anlaması için oluşturulur. Sanal makineler ise bytecode u okuyarak makine diline çevirir."
      ],
      "execution_count": null,
      "outputs": []
    },
    {
      "cell_type": "code",
      "metadata": {
        "id": "xg_ZlXoXwG6E"
      },
      "source": [
        ""
      ],
      "execution_count": null,
      "outputs": []
    },
    {
      "cell_type": "code",
      "metadata": {
        "id": "wMhS0x5pwG-A"
      },
      "source": [
        ""
      ],
      "execution_count": null,
      "outputs": []
    },
    {
      "cell_type": "code",
      "metadata": {
        "id": "N6GANCGjwHBw"
      },
      "source": [
        ""
      ],
      "execution_count": null,
      "outputs": []
    },
    {
      "cell_type": "code",
      "metadata": {
        "id": "yaZAIpYHwHFR"
      },
      "source": [
        ""
      ],
      "execution_count": null,
      "outputs": []
    },
    {
      "cell_type": "code",
      "metadata": {
        "id": "PdS2eKy4wHJi"
      },
      "source": [
        ""
      ],
      "execution_count": null,
      "outputs": []
    }
  ]
}