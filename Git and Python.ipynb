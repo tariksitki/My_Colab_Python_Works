{
 "cells": [
  {
   "cell_type": "code",
   "execution_count": 6,
   "id": "e0371fea",
   "metadata": {},
   "outputs": [
    {
     "name": "stdout",
     "output_type": "stream",
     "text": [
      "Requirement already satisfied: gitpython in c:\\users\\tarik\\anaconda3\\lib\\site-packages (3.1.24)\n",
      "Requirement already satisfied: typing-extensions>=3.7.4.3 in c:\\users\\tarik\\anaconda3\\lib\\site-packages (from gitpython) (3.10.0.2)\n",
      "Requirement already satisfied: gitdb<5,>=4.0.1 in c:\\users\\tarik\\anaconda3\\lib\\site-packages (from gitpython) (4.0.9)\n",
      "Requirement already satisfied: smmap<6,>=3.0.1 in c:\\users\\tarik\\anaconda3\\lib\\site-packages (from gitdb<5,>=4.0.1->gitpython) (5.0.0)\n"
     ]
    }
   ],
   "source": [
    "! pip install gitpython"
   ]
  },
  {
   "cell_type": "code",
   "execution_count": 2,
   "id": "ff29814e",
   "metadata": {},
   "outputs": [],
   "source": [
    "import git"
   ]
  },
  {
   "cell_type": "code",
   "execution_count": 3,
   "id": "c1f22a65",
   "metadata": {},
   "outputs": [],
   "source": [
    "from git import Repo"
   ]
  },
  {
   "cell_type": "code",
   "execution_count": 42,
   "id": "18a7a063",
   "metadata": {},
   "outputs": [
    {
     "data": {
      "text/plain": [
       "<git.repo.base.Repo 'C:\\\\Users\\\\Tarik\\\\git\\\\.git'>"
      ]
     },
     "execution_count": 42,
     "metadata": {},
     "output_type": "execute_result"
    }
   ],
   "source": [
    "Repo.clone_from(\"https://github.com/tariksitki/My_Colab_Python_Works.git\", 'C:/Users/Tarik/git')"
   ]
  },
  {
   "cell_type": "code",
   "execution_count": 43,
   "id": "729f4ff6",
   "metadata": {},
   "outputs": [],
   "source": [
    "repo = git.Repo('C:/Users/Tarik/git')"
   ]
  },
  {
   "cell_type": "code",
   "execution_count": 44,
   "id": "f3e370c9",
   "metadata": {},
   "outputs": [
    {
     "data": {
      "text/plain": [
       "\"On branch main\\nYour branch is up to date with 'origin/main'.\\n\\nnothing to commit, working tree clean\""
      ]
     },
     "execution_count": 44,
     "metadata": {},
     "output_type": "execute_result"
    }
   ],
   "source": [
    "repo.git.status()"
   ]
  },
  {
   "cell_type": "code",
   "execution_count": 10,
   "id": "c8fc1255",
   "metadata": {},
   "outputs": [
    {
     "data": {
      "text/plain": [
       "\"On branch master\\nYour branch is up to date with 'origin/master'.\\n\\nnothing to commit, working tree clean\""
      ]
     },
     "execution_count": 10,
     "metadata": {},
     "output_type": "execute_result"
    }
   ],
   "source": [
    "## ikinci yöntem\n",
    "\n",
    "repo.git.execute(\"git status\")"
   ]
  },
  {
   "cell_type": "code",
   "execution_count": 45,
   "id": "1a0f1c0d",
   "metadata": {},
   "outputs": [
    {
     "data": {
      "text/plain": [
       "'Already up to date.'"
      ]
     },
     "execution_count": 45,
     "metadata": {},
     "output_type": "execute_result"
    }
   ],
   "source": [
    "repo.git.pull()"
   ]
  },
  {
   "cell_type": "code",
   "execution_count": 46,
   "id": "f6d498fa",
   "metadata": {},
   "outputs": [
    {
     "data": {
      "text/plain": [
       "'Already up to date.'"
      ]
     },
     "execution_count": 46,
     "metadata": {},
     "output_type": "execute_result"
    }
   ],
   "source": [
    "### ikinci yöntem:\n",
    "\n",
    "repo.git.execute(\"git pull\")"
   ]
  },
  {
   "cell_type": "code",
   "execution_count": null,
   "id": "c0918102",
   "metadata": {},
   "outputs": [],
   "source": [
    "### simdi git klasörü icerisinde bulunan dosyalarimizdan birinde degisiklik\n",
    "## yaptik ve kaydettik\n",
    "\n",
    "## ve simdi git status yapip dosyamizin durumuna bakiyoruz"
   ]
  },
  {
   "cell_type": "code",
   "execution_count": 47,
   "id": "d0d83176",
   "metadata": {},
   "outputs": [
    {
     "data": {
      "text/plain": [
       "'On branch main\\nYour branch is up to date with \\'origin/main\\'.\\n\\nChanges not staged for commit:\\n  (use \"git add <file>...\" to update what will be committed)\\n  (use \"git restore <file>...\" to discard changes in working directory)\\n\\tmodified:   README.md\\n\\nno changes added to commit (use \"git add\" and/or \"git commit -a\")'"
      ]
     },
     "execution_count": 47,
     "metadata": {},
     "output_type": "execute_result"
    }
   ],
   "source": [
    "repo.git.execute(\"git status\")"
   ]
  },
  {
   "cell_type": "code",
   "execution_count": 48,
   "id": "a564d8d8",
   "metadata": {},
   "outputs": [
    {
     "data": {
      "text/plain": [
       "''"
      ]
     },
     "execution_count": 48,
     "metadata": {},
     "output_type": "execute_result"
    }
   ],
   "source": [
    "repo.git.execute(\"git add .\")"
   ]
  },
  {
   "cell_type": "code",
   "execution_count": 16,
   "id": "82b051f3",
   "metadata": {},
   "outputs": [
    {
     "data": {
      "text/plain": [
       "''"
      ]
     },
     "execution_count": 16,
     "metadata": {},
     "output_type": "execute_result"
    }
   ],
   "source": [
    "## ikinci yöntem\n",
    "\n",
    "repo.git.add(\".\")"
   ]
  },
  {
   "cell_type": "code",
   "execution_count": null,
   "id": "6d22af3c",
   "metadata": {},
   "outputs": [],
   "source": [
    "## commit yapmadan önce kendimizi tanitiyoruz"
   ]
  },
  {
   "cell_type": "code",
   "execution_count": 18,
   "id": "40da3bfa",
   "metadata": {},
   "outputs": [
    {
     "data": {
      "text/plain": [
       "''"
      ]
     },
     "execution_count": 18,
     "metadata": {},
     "output_type": "execute_result"
    }
   ],
   "source": [
    "repo.git.execute(\"git config --global user.name 'tariksitki'\")"
   ]
  },
  {
   "cell_type": "code",
   "execution_count": 20,
   "id": "2809ac9b",
   "metadata": {},
   "outputs": [
    {
     "data": {
      "text/plain": [
       "''"
      ]
     },
     "execution_count": 20,
     "metadata": {},
     "output_type": "execute_result"
    }
   ],
   "source": [
    "repo.git.execute(\"git config --global user.email 'tariksitki0119@gmail.com'\")"
   ]
  },
  {
   "cell_type": "code",
   "execution_count": 25,
   "id": "9c62d465",
   "metadata": {},
   "outputs": [
    {
     "data": {
      "text/plain": [
       "''"
      ]
     },
     "execution_count": 25,
     "metadata": {},
     "output_type": "execute_result"
    }
   ],
   "source": [
    "repo.git.execute(\"git config --global core.editor 'Vim'\")"
   ]
  },
  {
   "cell_type": "code",
   "execution_count": 26,
   "id": "6ca9df2a",
   "metadata": {},
   "outputs": [
    {
     "data": {
      "text/plain": [
       "\"diff.astextplain.textconv=astextplain\\nfilter.lfs.clean=git-lfs clean -- %f\\nfilter.lfs.smudge=git-lfs smudge -- %f\\nfilter.lfs.process=git-lfs filter-process\\nfilter.lfs.required=true\\nhttp.sslbackend=openssl\\nhttp.sslcainfo=C:/Program Files/Git/mingw64/ssl/certs/ca-bundle.crt\\ncore.autocrlf=true\\ncore.fscache=true\\ncore.symlinks=false\\npull.rebase=false\\ncredential.helper=manager-core\\ncredential.https://dev.azure.com.usehttppath=true\\ninit.defaultbranch=master\\nuser.name='tariksitki'\\nuser.email='tariksitki0119@gmail.com'\\ncore.editor='Vim'\\ncore.repositoryformatversion=0\\ncore.filemode=false\\ncore.bare=false\\ncore.logallrefupdates=true\\ncore.symlinks=false\\ncore.ignorecase=true\\nremote.origin.url=https://github.com/aws/amazon-sagemaker-examples.git\\nremote.origin.fetch=+refs/heads/*:refs/remotes/origin/*\\nbranch.master.remote=origin\\nbranch.master.merge=refs/heads/master\""
      ]
     },
     "execution_count": 26,
     "metadata": {},
     "output_type": "execute_result"
    }
   ],
   "source": [
    "repo.git.execute(\"git config --list\")"
   ]
  },
  {
   "cell_type": "code",
   "execution_count": null,
   "id": "9abc90c5",
   "metadata": {},
   "outputs": [],
   "source": [
    "## kendimizi tanitmanin ikinci yöntemi:\n",
    "\n",
    "repo.config_writer().set_value(\"user\", \"name\", \"tariksitki\").release()\n",
    "\n",
    "repo.config_writer().set_value(\"user\", \"email\", \"tariksitki0119@gmail.com\").release()\n",
    "\n",
    "repo.config_writer().set_value(\"core\", \"editor\", \"Nano\").release()"
   ]
  },
  {
   "cell_type": "code",
   "execution_count": null,
   "id": "0009ed0f",
   "metadata": {},
   "outputs": [],
   "source": [
    "### commit"
   ]
  },
  {
   "cell_type": "code",
   "execution_count": null,
   "id": "4ebc0661",
   "metadata": {},
   "outputs": [],
   "source": []
  },
  {
   "cell_type": "code",
   "execution_count": 50,
   "id": "fd725501",
   "metadata": {},
   "outputs": [
    {
     "data": {
      "text/plain": [
       "'[main be2724a] Ilk commitim\\n 1 file changed, 2 insertions(+), 1 deletion(-)'"
      ]
     },
     "execution_count": 50,
     "metadata": {},
     "output_type": "execute_result"
    }
   ],
   "source": [
    "repo.git.execute('''git commit -m \"Ilk commitim\" ''')\n",
    "\n",
    "## Not: tirnaklar sadece bu sekilde calisiyor"
   ]
  },
  {
   "cell_type": "code",
   "execution_count": 38,
   "id": "b3b8bafc",
   "metadata": {},
   "outputs": [],
   "source": [
    "## ikinci commit yöntemi:\n",
    "\n",
    "# repo.git.commit(m = \"Bu benim ilk commitim\")"
   ]
  },
  {
   "cell_type": "code",
   "execution_count": 51,
   "id": "fd814fdc",
   "metadata": {},
   "outputs": [
    {
     "data": {
      "text/plain": [
       "'On branch main\\nYour branch is ahead of \\'origin/main\\' by 1 commit.\\n  (use \"git push\" to publish your local commits)\\n\\nnothing to commit, working tree clean'"
      ]
     },
     "execution_count": 51,
     "metadata": {},
     "output_type": "execute_result"
    }
   ],
   "source": [
    "repo.git.status()"
   ]
  },
  {
   "cell_type": "code",
   "execution_count": 52,
   "id": "0f2aa11b",
   "metadata": {},
   "outputs": [
    {
     "data": {
      "text/plain": [
       "''"
      ]
     },
     "execution_count": 52,
     "metadata": {},
     "output_type": "execute_result"
    }
   ],
   "source": [
    "repo.git.execute(\"git push\")\n",
    "\n",
    "## Bu komuttan sonra, degisikliklerimiz github'imiza gitti"
   ]
  },
  {
   "cell_type": "code",
   "execution_count": 8,
   "id": "44cb3870",
   "metadata": {},
   "outputs": [
    {
     "name": "stdout",
     "output_type": "stream",
     "text": [
      "\n"
     ]
    }
   ],
   "source": [
    "## simdi ikinci bir degisiklik yapalim \"git add\" kullanamadan \"git commit -am\" yapalim"
   ]
  },
  {
   "cell_type": "code",
   "execution_count": 54,
   "id": "6967a54a",
   "metadata": {},
   "outputs": [
    {
     "data": {
      "text/plain": [
       "'[main 866fd39] ikinci commit\\n 1 file changed, 2 insertions(+), 1 deletion(-)'"
      ]
     },
     "execution_count": 54,
     "metadata": {},
     "output_type": "execute_result"
    }
   ],
   "source": [
    "repo.git.execute('''git commit -am \"ikinci commit\" ''')"
   ]
  },
  {
   "cell_type": "code",
   "execution_count": 55,
   "id": "e928cd88",
   "metadata": {},
   "outputs": [
    {
     "data": {
      "text/plain": [
       "'On branch main\\nYour branch is ahead of \\'origin/main\\' by 1 commit.\\n  (use \"git push\" to publish your local commits)\\n\\nnothing to commit, working tree clean'"
      ]
     },
     "execution_count": 55,
     "metadata": {},
     "output_type": "execute_result"
    }
   ],
   "source": [
    "repo.git.execute(\"git status\")"
   ]
  },
  {
   "cell_type": "code",
   "execution_count": 56,
   "id": "e3441eeb",
   "metadata": {},
   "outputs": [
    {
     "data": {
      "text/plain": [
       "''"
      ]
     },
     "execution_count": 56,
     "metadata": {},
     "output_type": "execute_result"
    }
   ],
   "source": [
    "## Bu kez ikinci yöntem ile gönderelim\n",
    "\n",
    "repo.git.push()"
   ]
  },
  {
   "cell_type": "code",
   "execution_count": null,
   "id": "a105e5e1",
   "metadata": {},
   "outputs": [],
   "source": [
    "## simdi bir degisiklik daha yapalim ve 3. bir push yöntemi kullanalim"
   ]
  },
  {
   "cell_type": "code",
   "execution_count": 57,
   "id": "84983429",
   "metadata": {},
   "outputs": [
    {
     "data": {
      "text/plain": [
       "''"
      ]
     },
     "execution_count": 57,
     "metadata": {},
     "output_type": "execute_result"
    }
   ],
   "source": [
    "repo.git.add(\".\")"
   ]
  },
  {
   "cell_type": "code",
   "execution_count": 58,
   "id": "c65f45c0",
   "metadata": {},
   "outputs": [
    {
     "data": {
      "text/plain": [
       "'[main 3ec0b6e] 3. degisiklik\\n 1 file changed, 2 insertions(+), 1 deletion(-)'"
      ]
     },
     "execution_count": 58,
     "metadata": {},
     "output_type": "execute_result"
    }
   ],
   "source": [
    "repo.git.commit(m = \"3. degisiklik\")"
   ]
  },
  {
   "cell_type": "code",
   "execution_count": 60,
   "id": "aa646bcf",
   "metadata": {},
   "outputs": [
    {
     "data": {
      "text/plain": [
       "\"Branch 'main' set up to track remote branch 'main' from 'origin'.\""
      ]
     },
     "execution_count": 60,
     "metadata": {},
     "output_type": "execute_result"
    }
   ],
   "source": [
    "## Bu kez 3. bir yöntem ile gönderelim\n",
    "\n",
    "repo.git.execute(\"git push -u origin main\")"
   ]
  },
  {
   "cell_type": "code",
   "execution_count": null,
   "id": "75cc9270",
   "metadata": {},
   "outputs": [],
   "source": []
  },
  {
   "cell_type": "code",
   "execution_count": 61,
   "id": "9b2119cb",
   "metadata": {},
   "outputs": [
    {
     "data": {
      "text/plain": [
       "''"
      ]
     },
     "execution_count": 61,
     "metadata": {},
     "output_type": "execute_result"
    }
   ],
   "source": [
    "repo.git.execute(\"git add .\")"
   ]
  },
  {
   "cell_type": "code",
   "execution_count": 62,
   "id": "43e93862",
   "metadata": {},
   "outputs": [
    {
     "data": {
      "text/plain": [
       "'[main f0461bf] 4. degisiklik\\n 1 file changed, 2 insertions(+), 1 deletion(-)'"
      ]
     },
     "execution_count": 62,
     "metadata": {},
     "output_type": "execute_result"
    }
   ],
   "source": [
    "repo.git.commit(m = \"4. degisiklik\")"
   ]
  },
  {
   "cell_type": "code",
   "execution_count": null,
   "id": "a778080f",
   "metadata": {},
   "outputs": [],
   "source": []
  },
  {
   "cell_type": "code",
   "execution_count": null,
   "id": "a0b0b8d1",
   "metadata": {},
   "outputs": [],
   "source": []
  },
  {
   "cell_type": "code",
   "execution_count": 67,
   "id": "ce355eeb",
   "metadata": {},
   "outputs": [
    {
     "data": {
      "text/plain": [
       "'* main'"
      ]
     },
     "execution_count": 67,
     "metadata": {},
     "output_type": "execute_result"
    }
   ],
   "source": [
    "### simdi yeni brach olusturalim:\n",
    "\n",
    "repo.git.execute(\"git branch\") # öncelikle var olan branch lerimizi görelim\n",
    "\n",
    "## diger bir yöntem   repo.git.branch()"
   ]
  },
  {
   "cell_type": "code",
   "execution_count": 70,
   "id": "f0220ce7",
   "metadata": {},
   "outputs": [],
   "source": [
    "repo.git.execute(\"git branch development\")"
   ]
  },
  {
   "cell_type": "code",
   "execution_count": 71,
   "id": "6b519f6b",
   "metadata": {},
   "outputs": [
    {
     "data": {
      "text/plain": [
       "''"
      ]
     },
     "execution_count": 71,
     "metadata": {},
     "output_type": "execute_result"
    }
   ],
   "source": [
    "repo.git.execute(\"git checkout development\")"
   ]
  },
  {
   "cell_type": "code",
   "execution_count": 81,
   "id": "d6c8fda3",
   "metadata": {},
   "outputs": [],
   "source": [
    "## simdi dev branch'i üzerindeyken, dosya da bir degisiklik yapalim\n",
    "# ve kaydedelim"
   ]
  },
  {
   "cell_type": "code",
   "execution_count": 72,
   "id": "478301dc",
   "metadata": {},
   "outputs": [
    {
     "data": {
      "text/plain": [
       "''"
      ]
     },
     "execution_count": 72,
     "metadata": {},
     "output_type": "execute_result"
    }
   ],
   "source": [
    "repo.git.add(\".\")"
   ]
  },
  {
   "cell_type": "code",
   "execution_count": null,
   "id": "4749e1a4",
   "metadata": {},
   "outputs": [],
   "source": [
    "repo.git.execute('''git commit -am \"5.degisiklik\" ''')"
   ]
  },
  {
   "cell_type": "code",
   "execution_count": 73,
   "id": "1425fac6",
   "metadata": {},
   "outputs": [
    {
     "data": {
      "text/plain": [
       "'On branch development\\nnothing to commit, working tree clean'"
      ]
     },
     "execution_count": 73,
     "metadata": {},
     "output_type": "execute_result"
    }
   ],
   "source": [
    "repo.git.status()    # dev branch üzerinde iken status a bakalim"
   ]
  },
  {
   "cell_type": "code",
   "execution_count": null,
   "id": "f6b64620",
   "metadata": {},
   "outputs": [],
   "source": [
    "## yeni branch'imizi github a göndermek icin su komutu kullaniyoruz"
   ]
  },
  {
   "cell_type": "code",
   "execution_count": 79,
   "id": "183a57c4",
   "metadata": {},
   "outputs": [
    {
     "data": {
      "text/plain": [
       "\"Branch 'development' set up to track remote branch 'development' from 'origin'.\""
      ]
     },
     "execution_count": 79,
     "metadata": {},
     "output_type": "execute_result"
    }
   ],
   "source": [
    "repo.git.execute(\"git push --set-upstream origin development\")"
   ]
  },
  {
   "cell_type": "code",
   "execution_count": 80,
   "id": "25d05228",
   "metadata": {},
   "outputs": [
    {
     "data": {
      "text/plain": [
       "''"
      ]
     },
     "execution_count": 80,
     "metadata": {},
     "output_type": "execute_result"
    }
   ],
   "source": [
    "## en son da da push yapiyoruz\n",
    "\n",
    "repo.git.push()"
   ]
  },
  {
   "cell_type": "code",
   "execution_count": null,
   "id": "45df3e61",
   "metadata": {},
   "outputs": [],
   "source": [
    "#########################"
   ]
  },
  {
   "cell_type": "code",
   "execution_count": 82,
   "id": "d258f456",
   "metadata": {},
   "outputs": [
    {
     "data": {
      "text/plain": [
       "'* development\\n  main'"
      ]
     },
     "execution_count": 82,
     "metadata": {},
     "output_type": "execute_result"
    }
   ],
   "source": [
    "repo.git.branch()             ####  dikkat edersek * isareti development'ta"
   ]
  },
  {
   "cell_type": "code",
   "execution_count": 83,
   "id": "ea13cd64",
   "metadata": {},
   "outputs": [
    {
     "data": {
      "text/plain": [
       "''"
      ]
     },
     "execution_count": 83,
     "metadata": {},
     "output_type": "execute_result"
    }
   ],
   "source": [
    "repo.git.add(\".\")"
   ]
  },
  {
   "cell_type": "code",
   "execution_count": 84,
   "id": "e13e63e1",
   "metadata": {},
   "outputs": [
    {
     "data": {
      "text/plain": [
       "'[development 8567360] 6. degisiklik\\n 1 file changed, 2 insertions(+), 1 deletion(-)'"
      ]
     },
     "execution_count": 84,
     "metadata": {},
     "output_type": "execute_result"
    }
   ],
   "source": [
    "repo.git.commit(m = \"6. degisiklik\")"
   ]
  },
  {
   "cell_type": "code",
   "execution_count": 85,
   "id": "2a93736d",
   "metadata": {},
   "outputs": [
    {
     "data": {
      "text/plain": [
       "\"Branch 'development' set up to track remote branch 'development' from 'origin'.\""
      ]
     },
     "execution_count": 85,
     "metadata": {},
     "output_type": "execute_result"
    }
   ],
   "source": [
    "repo.git.execute(\"git push -u origin development\")"
   ]
  },
  {
   "cell_type": "code",
   "execution_count": null,
   "id": "c16b9738",
   "metadata": {},
   "outputs": [],
   "source": [
    "##################################"
   ]
  },
  {
   "cell_type": "code",
   "execution_count": 86,
   "id": "a62ddd15",
   "metadata": {},
   "outputs": [
    {
     "data": {
      "text/plain": [
       "\"Your branch is up to date with 'origin/main'.\""
      ]
     },
     "execution_count": 86,
     "metadata": {},
     "output_type": "execute_result"
    }
   ],
   "source": [
    "repo.git.execute(\"git checkout main\")"
   ]
  },
  {
   "cell_type": "code",
   "execution_count": 87,
   "id": "18465bdb",
   "metadata": {},
   "outputs": [
    {
     "data": {
      "text/plain": [
       "'  development\\n* main'"
      ]
     },
     "execution_count": 87,
     "metadata": {},
     "output_type": "execute_result"
    }
   ],
   "source": [
    "repo.git.execute(\"git branch\")"
   ]
  },
  {
   "cell_type": "code",
   "execution_count": 92,
   "id": "3e58b86e",
   "metadata": {},
   "outputs": [
    {
     "data": {
      "text/plain": [
       "'Already up to date.'"
      ]
     },
     "execution_count": 92,
     "metadata": {},
     "output_type": "execute_result"
    }
   ],
   "source": [
    "repo.git.execute(\"git merge\")"
   ]
  },
  {
   "cell_type": "code",
   "execution_count": null,
   "id": "93acc6f3",
   "metadata": {},
   "outputs": [],
   "source": []
  },
  {
   "cell_type": "code",
   "execution_count": 94,
   "id": "74795853",
   "metadata": {},
   "outputs": [
    {
     "data": {
      "text/plain": [
       "\"Your branch is up to date with 'origin/development'.\""
      ]
     },
     "execution_count": 94,
     "metadata": {},
     "output_type": "execute_result"
    }
   ],
   "source": [
    "repo.git.execute(\"git checkout development\")"
   ]
  },
  {
   "cell_type": "code",
   "execution_count": 96,
   "id": "415184de",
   "metadata": {},
   "outputs": [
    {
     "data": {
      "text/plain": [
       "'[development 5be4e84] 7. degisiklik\\n 1 file changed, 2 insertions(+), 1 deletion(-)'"
      ]
     },
     "execution_count": 96,
     "metadata": {},
     "output_type": "execute_result"
    }
   ],
   "source": [
    "repo.git.execute('''git commit -am \"7. degisiklik\" ''')"
   ]
  },
  {
   "cell_type": "code",
   "execution_count": 97,
   "id": "bb86a2e8",
   "metadata": {},
   "outputs": [
    {
     "data": {
      "text/plain": [
       "\"Your branch is up to date with 'origin/main'.\""
      ]
     },
     "execution_count": 97,
     "metadata": {},
     "output_type": "execute_result"
    }
   ],
   "source": [
    "repo.git.execute(\"git checkout main\")"
   ]
  },
  {
   "cell_type": "code",
   "execution_count": 98,
   "id": "7166b819",
   "metadata": {},
   "outputs": [
    {
     "data": {
      "text/plain": [
       "'Already up to date.'"
      ]
     },
     "execution_count": 98,
     "metadata": {},
     "output_type": "execute_result"
    }
   ],
   "source": [
    "repo.git.execute(\"git merge\")"
   ]
  },
  {
   "cell_type": "code",
   "execution_count": 101,
   "id": "5ba869f8",
   "metadata": {},
   "outputs": [],
   "source": [
    "# repo.git.execute(\"git log --oneline\")"
   ]
  },
  {
   "cell_type": "code",
   "execution_count": 108,
   "id": "d1dcabd7",
   "metadata": {},
   "outputs": [
    {
     "data": {
      "text/plain": [
       "'Your branch is ahead of \\'origin/development\\' by 1 commit.\\n  (use \"git push\" to publish your local commits)'"
      ]
     },
     "execution_count": 108,
     "metadata": {},
     "output_type": "execute_result"
    }
   ],
   "source": [
    "repo.git.execute(\"git checkout development\")"
   ]
  },
  {
   "cell_type": "code",
   "execution_count": 109,
   "id": "64c84f9e",
   "metadata": {},
   "outputs": [
    {
     "data": {
      "text/plain": [
       "''"
      ]
     },
     "execution_count": 109,
     "metadata": {},
     "output_type": "execute_result"
    }
   ],
   "source": [
    "repo.git.execute(\"git push\")"
   ]
  },
  {
   "cell_type": "code",
   "execution_count": null,
   "id": "acb2dbdf",
   "metadata": {},
   "outputs": [],
   "source": [
    "#### Burada dev branch'in de yaptigimiz degisiklikleri, lokal pc mizdeki\n",
    "## main branch'e merge edemedik. etmeye calistigimizda, zaten güncel dedi.\n",
    "\n",
    "# Bu nedenle su yöntemi izledik. Öncelikle, dev branch'in de yaptigimiz degisiklikleri\n",
    "## github a yükledik. ve orada main branch'e pull request göndererek dev branch'i\n",
    "## main'e merge ettik.\n",
    "\n",
    "## daha sonra lokal pc mize gelerek main branch e gectik ve github daki degisiklikleri\n",
    "# pull ettik."
   ]
  },
  {
   "cell_type": "code",
   "execution_count": 110,
   "id": "3c63c3e4",
   "metadata": {},
   "outputs": [
    {
     "data": {
      "text/plain": [
       "\"Your branch is up to date with 'origin/main'.\""
      ]
     },
     "execution_count": 110,
     "metadata": {},
     "output_type": "execute_result"
    }
   ],
   "source": [
    "repo.git.execute(\"git checkout main\")"
   ]
  },
  {
   "cell_type": "code",
   "execution_count": 111,
   "id": "a1906ef2",
   "metadata": {},
   "outputs": [
    {
     "data": {
      "text/plain": [
       "'Updating f0461bf..e41b2a0\\nFast-forward\\n README.md | 5 ++++-\\n 1 file changed, 4 insertions(+), 1 deletion(-)'"
      ]
     },
     "execution_count": 111,
     "metadata": {},
     "output_type": "execute_result"
    }
   ],
   "source": [
    "## pull icin diger yöntem\n",
    "\n",
    "repo.git.pull()"
   ]
  },
  {
   "cell_type": "code",
   "execution_count": 113,
   "id": "3d363a21",
   "metadata": {},
   "outputs": [
    {
     "data": {
      "text/plain": [
       "'e41b2a0 Merge pull request #1 from tariksitki/development\\n5be4e84 7. degisiklik\\n8567360 6. degisiklik\\n38c3dd9 5.degisiklik\\nf0461bf 4. degisiklik\\n3ec0b6e 3. degisiklik\\n866fd39 ikinci commit\\nbe2724a Ilk commitim\\n559bbea Colaboratory kullanılarak oluşturuldu\\n87c1271 Colaboratory kullanılarak oluşturuldu\\n03427bd Colaboratory kullanılarak oluşturuldu\\ncd6cbfa Colaboratory kullanılarak oluşturuldu\\n8ba880c Colaboratory kullanılarak oluşturuldu\\n59adebd Colaboratory kullanılarak oluşturuldu\\n7071c6c Colaboratory kullanılarak oluşturuldu\\nb489b1e Colaboratory kullanılarak oluşturuldu\\n0f68298 Colaboratory kullanılarak oluşturuldu\\nc95798a Colaboratory kullanılarak oluşturuldu\\nb52e40b Colaboratory kullanılarak oluşturuldu\\n3e7f749 Colaboratory kullanılarak oluşturuldu\\nd4b4a65 Colaboratory kullanılarak oluşturuldu\\nc9cf31b Colaboratory kullanılarak oluşturuldu\\n795a7ad Colaboratory kullanılarak oluşturuldu\\n6f16c38 Colaboratory kullanılarak oluşturuldu\\n47b1381 Colaboratory kullanılarak oluşturuldu\\n5836e63 Colaboratory kullanılarak oluşturuldu\\na11f709 Colaboratory kullanılarak oluşturuldu\\nc8e0131 Create github.py\\nc1c1493 Colaboratory kullanılarak oluşturuldu\\n492ec64 Colaboratory kullanılarak oluşturuldu\\n005d94f Colaboratory kullanılarak oluşturuldu\\n2da1054 Colaboratory kullanılarak oluşturuldu\\n4257964 Colaboratory kullanılarak oluşturuldu\\nd9a52c8 Colaboratory kullanılarak oluşturuldu\\n02c5c3b Colaboratory kullanılarak oluşturuldu\\n67e1d26 Colaboratory kullanılarak oluşturuldu\\na5f2528 Colaboratory kullanılarak oluşturuldu\\n1b22881 Colab\\n44cc4f0 Colaboratory kullanılarak oluşturuldu\\ncb886e6 Colab google\\n15d5b96 Colab\\n8a62d9f Colaboratory kullanılarak oluşturuldu\\n2997cc5 Colab\\n9d3a8eb Colab\\nd6e1634 Colab\\n68545b8 Initial commit'"
      ]
     },
     "execution_count": 113,
     "metadata": {},
     "output_type": "execute_result"
    }
   ],
   "source": [
    "## git log komutunu calistirmanin bir diger yolu\n",
    "\n",
    "repo.git.log(\"--oneline\")\n",
    "\n",
    "## repo.git.execute(\"git log --oneline\")"
   ]
  },
  {
   "cell_type": "code",
   "execution_count": null,
   "id": "9eaad663",
   "metadata": {},
   "outputs": [],
   "source": []
  },
  {
   "cell_type": "code",
   "execution_count": null,
   "id": "964b5aa3",
   "metadata": {},
   "outputs": [],
   "source": [
    "######################################\n",
    "## jupyter notebook'u github'a yüklemek:\n",
    "\n",
    "## github'a gidiyoruz ve new file diyoruz. sonra dosyamizi seciyoruz"
   ]
  },
  {
   "cell_type": "code",
   "execution_count": null,
   "id": "c1b0826e",
   "metadata": {},
   "outputs": [],
   "source": []
  },
  {
   "cell_type": "code",
   "execution_count": null,
   "id": "3be45be3",
   "metadata": {},
   "outputs": [],
   "source": []
  },
  {
   "cell_type": "code",
   "execution_count": null,
   "id": "c2937186",
   "metadata": {},
   "outputs": [],
   "source": []
  },
  {
   "cell_type": "code",
   "execution_count": null,
   "id": "e333c355",
   "metadata": {},
   "outputs": [],
   "source": []
  },
  {
   "cell_type": "code",
   "execution_count": null,
   "id": "5ef6e33c",
   "metadata": {},
   "outputs": [],
   "source": []
  },
  {
   "cell_type": "code",
   "execution_count": null,
   "id": "e45ec850",
   "metadata": {},
   "outputs": [],
   "source": [
    "\n"
   ]
  },
  {
   "cell_type": "code",
   "execution_count": null,
   "id": "d8d88140",
   "metadata": {},
   "outputs": [],
   "source": []
  },
  {
   "cell_type": "code",
   "execution_count": null,
   "id": "afbdd680",
   "metadata": {},
   "outputs": [],
   "source": []
  },
  {
   "cell_type": "code",
   "execution_count": null,
   "id": "6d657557",
   "metadata": {},
   "outputs": [],
   "source": []
  },
  {
   "cell_type": "code",
   "execution_count": null,
   "id": "8600355d",
   "metadata": {},
   "outputs": [],
   "source": []
  },
  {
   "cell_type": "code",
   "execution_count": null,
   "id": "3632551c",
   "metadata": {},
   "outputs": [],
   "source": []
  },
  {
   "cell_type": "code",
   "execution_count": null,
   "id": "4694e2f1",
   "metadata": {},
   "outputs": [],
   "source": []
  },
  {
   "cell_type": "code",
   "execution_count": null,
   "id": "cf8623f7",
   "metadata": {},
   "outputs": [],
   "source": []
  },
  {
   "cell_type": "code",
   "execution_count": null,
   "id": "8970208d",
   "metadata": {},
   "outputs": [],
   "source": []
  },
  {
   "cell_type": "code",
   "execution_count": null,
   "id": "bad1da90",
   "metadata": {},
   "outputs": [],
   "source": []
  },
  {
   "cell_type": "code",
   "execution_count": null,
   "id": "9814250d",
   "metadata": {},
   "outputs": [],
   "source": []
  },
  {
   "cell_type": "code",
   "execution_count": null,
   "id": "cc3e261a",
   "metadata": {},
   "outputs": [],
   "source": []
  },
  {
   "cell_type": "code",
   "execution_count": null,
   "id": "9068eacf",
   "metadata": {},
   "outputs": [],
   "source": []
  },
  {
   "cell_type": "code",
   "execution_count": null,
   "id": "d05d671d",
   "metadata": {},
   "outputs": [],
   "source": []
  },
  {
   "cell_type": "code",
   "execution_count": null,
   "id": "c3994a7b",
   "metadata": {},
   "outputs": [],
   "source": []
  },
  {
   "cell_type": "code",
   "execution_count": null,
   "id": "44252a39",
   "metadata": {},
   "outputs": [],
   "source": []
  },
  {
   "cell_type": "code",
   "execution_count": null,
   "id": "83d0b0d1",
   "metadata": {},
   "outputs": [],
   "source": []
  },
  {
   "cell_type": "code",
   "execution_count": null,
   "id": "24e775c3",
   "metadata": {},
   "outputs": [],
   "source": []
  },
  {
   "cell_type": "code",
   "execution_count": null,
   "id": "bcfd41cd",
   "metadata": {},
   "outputs": [],
   "source": []
  },
  {
   "cell_type": "code",
   "execution_count": null,
   "id": "28866d87",
   "metadata": {},
   "outputs": [],
   "source": []
  }
 ],
 "metadata": {
  "kernelspec": {
   "display_name": "Python 3 (ipykernel)",
   "language": "python",
   "name": "python3"
  },
  "language_info": {
   "codemirror_mode": {
    "name": "ipython",
    "version": 3
   },
   "file_extension": ".py",
   "mimetype": "text/x-python",
   "name": "python",
   "nbconvert_exporter": "python",
   "pygments_lexer": "ipython3",
   "version": "3.9.7"
  }
 },
 "nbformat": 4,
 "nbformat_minor": 5
}
