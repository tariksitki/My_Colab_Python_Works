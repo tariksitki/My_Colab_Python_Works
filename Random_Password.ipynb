{
  "nbformat": 4,
  "nbformat_minor": 0,
  "metadata": {
    "colab": {
      "name": "Random_Password.ipynb",
      "provenance": [],
      "collapsed_sections": [],
      "authorship_tag": "ABX9TyMJEtEZFsIzqqy1Am7LtkCp",
      "include_colab_link": true
    },
    "kernelspec": {
      "name": "python3",
      "display_name": "Python 3"
    },
    "language_info": {
      "name": "python"
    }
  },
  "cells": [
    {
      "cell_type": "markdown",
      "metadata": {
        "id": "view-in-github",
        "colab_type": "text"
      },
      "source": [
        "<a href=\"https://colab.research.google.com/github/tariksitki/My_Colab_Python_Works/blob/main/Random_Password.ipynb\" target=\"_parent\"><img src=\"https://colab.research.google.com/assets/colab-badge.svg\" alt=\"Open In Colab\"/></a>"
      ]
    },
    {
      "cell_type": "code",
      "execution_count": null,
      "metadata": {
        "id": "rf_LzNyaeStm"
      },
      "outputs": [],
      "source": [
        "### Ascii kodlarda 65 ile 90 arasinda\n",
        "# Büyük harfler bulunur\n",
        "\n",
        "## 97 ile 122 kücük harfler\n",
        "\n",
        "## 0 ile 9 arasindaki sayilar ascii tablosunda\n",
        "# 48 ila 57 arasinda bulunur"
      ]
    },
    {
      "cell_type": "code",
      "source": [
        "## randint icerisine 2 ineteger alir. Bu iki integer sayi arasindan\n",
        "# bir sayi secerek random olarak bir sayi döndürür\n",
        "\n",
        "# chr() fund da int sayinin ascii tablosundali karsiligini verir\n",
        " \n",
        "import random\n",
        "\n",
        "chr(random.randint(48, 57))\n"
      ],
      "metadata": {
        "colab": {
          "base_uri": "https://localhost:8080/",
          "height": 36
        },
        "id": "cWo0LyVEeVG-",
        "outputId": "90f44ec3-9e0c-4f6a-9625-87a4dc236253"
      },
      "execution_count": 10,
      "outputs": [
        {
          "output_type": "execute_result",
          "data": {
            "application/vnd.google.colaboratory.intrinsic+json": {
              "type": "string"
            },
            "text/plain": [
              "'6'"
            ]
          },
          "metadata": {},
          "execution_count": 10
        }
      ]
    },
    {
      "cell_type": "code",
      "source": [
        "### Bizim istedigimiz sifre  su sekilde olsun:\n",
        "# AAAaaa111$$\n",
        "password = \"\"\n",
        "counter = 0\n",
        "for i in range(10):\n",
        "  if counter <= 2:\n",
        "    password += chr(random.randint(65, 90))\n",
        "  elif 2 < counter <= 5:\n",
        "    password += chr(random.randint(97, 122))\n",
        "  elif 5 < counter <= 8:\n",
        "    password += chr(random.randint(48, 57))\n",
        "  elif 8 < counter:\n",
        "    password += chr(random.randint(33, 47))  # Not: özel karakterler ascii tablosunda\n",
        "    password += chr(random.randint(58, 64))   # iki farkli aralikta bulunur. Birincisi\n",
        "    password += chr(random.randint(33, 47))   # 33, 47  ikincisi 58, 64. Bu nedenle biz\n",
        "                                              # 3 tane özel karakter istedigimiz icin \n",
        "                                              # hepsini bir döngüde hallettik\n",
        "  counter += 1\n",
        "\n",
        "print(password)"
      ],
      "metadata": {
        "colab": {
          "base_uri": "https://localhost:8080/"
        },
        "id": "ULd9MCOkeVJm",
        "outputId": "34ae87fe-de15-466c-fb96-0a07e119a443"
      },
      "execution_count": 23,
      "outputs": [
        {
          "output_type": "stream",
          "name": "stdout",
          "text": [
            "DSUwll870#@,\n"
          ]
        }
      ]
    },
    {
      "cell_type": "code",
      "source": [
        "#######  list comprehension ile cözüm:\n",
        "# list comprehension normal for loop a göre daha hizli calisir\n",
        "\n",
        "uppers = \"\".join([chr(random.randint(65, 90)) for i in range(3)])\n",
        "\n",
        "lowers = \"\".join([chr(random.randint(97, 122)) for i in range(3)])\n",
        "\n",
        "numbers  = \"\".join([chr(random.randint(48, 57)) for i in range(3)])\n",
        "\n",
        "special = \"\".join([chr(random.randint(33, 47)) +          ## tek bir for döngüsü \n",
        "                   chr(random.randint(58, 64)) +          # toplam 3 özel karakter\n",
        "                   chr(random.randint(33, 47)) for i in range(1)])\n",
        "\n",
        "password = uppers + lowers + numbers + special\n",
        "liste = list(password)\n",
        "random.shuffle(liste)           ### attention : shuffle sort methodu gibi calisir\n",
        "\n",
        "newpassword = \"\".join(liste)    # degiskene atanmaz. Üst satirda calistirilir ve \n",
        "print(newpassword)              # alt satirda verinin orijinali print edilince\n",
        "                                # orijinali degismis olur. shuffle icerine liste alir\n"
      ],
      "metadata": {
        "colab": {
          "base_uri": "https://localhost:8080/"
        },
        "id": "nmn15VNweVMq",
        "outputId": "3dfcd374-18ad-4925-c4f0-a7547aaf7610"
      },
      "execution_count": 69,
      "outputs": [
        {
          "output_type": "stream",
          "name": "stdout",
          "text": [
            "3$1N&xx0?PkK\n"
          ]
        }
      ]
    },
    {
      "cell_type": "code",
      "source": [
        "######  ayni soruyu func tanimlayarak yapalim:\n",
        "uppers = \"\".join([chr(random.randint(65, 90)) for i in range(3)])\n",
        "\n",
        "lowers = \"\".join([chr(random.randint(97, 122)) for i in range(3)])\n",
        "\n",
        "numbers  = \"\".join([chr(random.randint(48, 57)) for i in range(3)])\n",
        "\n",
        "special = \"\".join([chr(random.randint(33, 47)) +          ## tek bir for döngüsü \n",
        "                   chr(random.randint(58, 64)) +          # toplam 3 özel karakter\n",
        "                   chr(random.randint(33, 47)) for i in range(1)])\n",
        "passw = uppers + lowers + numbers + special\n",
        "\n",
        "def shuffle(password):\n",
        "  templist = list(password)\n",
        "  random.shuffle(templist)\n",
        "  return \"\".join(templist)\n",
        "\n",
        "passw = shuffle(passw)\n",
        "print(passw)"
      ],
      "metadata": {
        "colab": {
          "base_uri": "https://localhost:8080/"
        },
        "id": "XE9BqwnfeVPc",
        "outputId": "304a823f-d1e4-4cec-a0c8-81a13a9fda68"
      },
      "execution_count": 73,
      "outputs": [
        {
          "output_type": "stream",
          "name": "stdout",
          "text": [
            "6*:d0JAjH#5s\n"
          ]
        }
      ]
    },
    {
      "cell_type": "code",
      "source": [
        "########################\n",
        "# simdi for döngüsü ile list comp arasindaki zaman farkini tespit edelim.\n",
        "\n",
        "# burada timeit module kullanilir. time iteration dan gelir"
      ],
      "metadata": {
        "id": "EOyGkdHJeVSN"
      },
      "execution_count": null,
      "outputs": []
    },
    {
      "cell_type": "code",
      "source": [
        "from timeit import timeit     # timeit icerisine func aldigi icin iki tane func tanimlayacagiz\n",
        "\n",
        "def for_loop():\n",
        "  liste = []\n",
        "  for i in range(1000000):\n",
        "    liste.append(i)\n",
        "  return liste\n",
        "\n",
        "def list_comp():\n",
        "  return [i for i in range(1000000)]\n",
        "\n",
        "## Not: timeit() default olarak tekrar sayisi 1000000 dur. Biz simdi bunu düsürecegiz\n",
        "# calisma prensibi olarak da icerisine bir func ve size alir\n",
        "size = 100\n",
        "\n",
        "time_for = timeit(for_loop, number = size)\n",
        "time_list = timeit(list_comp, number = size)\n",
        "\n",
        "print(round(time_for / time_list, 4))\n",
        "\n",
        "# birde size'i comment yaparak deneyelim"
      ],
      "metadata": {
        "colab": {
          "base_uri": "https://localhost:8080/"
        },
        "id": "w1XBH0IteVVF",
        "outputId": "38e4fcf0-31bc-48d9-ca39-fb5fe4d22233"
      },
      "execution_count": 79,
      "outputs": [
        {
          "output_type": "stream",
          "name": "stdout",
          "text": [
            "1.7273\n"
          ]
        }
      ]
    },
    {
      "cell_type": "code",
      "source": [
        "## Soru: (google da)\n",
        "# How can I calculate my execution time???"
      ],
      "metadata": {
        "id": "i-RMe9hDeVXW"
      },
      "execution_count": null,
      "outputs": []
    },
    {
      "cell_type": "code",
      "source": [
        ""
      ],
      "metadata": {
        "id": "1qWrNbifeVZw"
      },
      "execution_count": 84,
      "outputs": []
    }
  ]
}