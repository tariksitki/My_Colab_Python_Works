{
  "nbformat": 4,
  "nbformat_minor": 0,
  "metadata": {
    "colab": {
      "name": "emre_hoca_soru2.ipynb",
      "provenance": [],
      "collapsed_sections": [],
      "include_colab_link": true
    },
    "kernelspec": {
      "name": "python3",
      "display_name": "Python 3"
    },
    "language_info": {
      "name": "python"
    }
  },
  "cells": [
    {
      "cell_type": "markdown",
      "metadata": {
        "id": "view-in-github",
        "colab_type": "text"
      },
      "source": [
        "<a href=\"https://colab.research.google.com/github/tariksitki/My_Colab_Python_Works/blob/main/emre_hoca_soru2.ipynb\" target=\"_parent\"><img src=\"https://colab.research.google.com/assets/colab-badge.svg\" alt=\"Open In Colab\"/></a>"
      ]
    },
    {
      "cell_type": "code",
      "execution_count": 34,
      "metadata": {
        "id": "m0aSWsWMw-TF",
        "colab": {
          "base_uri": "https://localhost:8080/"
        },
        "outputId": "f4736044-f2f0-4064-d5d8-9b555d6118fa"
      },
      "outputs": [
        {
          "output_type": "stream",
          "name": "stdout",
          "text": [
            "120\n"
          ]
        }
      ],
      "source": [
        "def facto(n):\n",
        "  if n < 1:\n",
        "    return 1\n",
        "  else:\n",
        "    return (n * facto(n - 1)) \n",
        "\n",
        "print(facto(5))"
      ]
    },
    {
      "cell_type": "code",
      "source": [
        "5 * 4!"
      ],
      "metadata": {
        "id": "VVB8offGF80u"
      },
      "execution_count": null,
      "outputs": []
    },
    {
      "cell_type": "code",
      "source": [
        "5 * 4 * 3!"
      ],
      "metadata": {
        "id": "dZFPtDWaF83Y"
      },
      "execution_count": null,
      "outputs": []
    },
    {
      "cell_type": "code",
      "source": [
        "5 * 4 * 3 * 2!"
      ],
      "metadata": {
        "id": "668XBSuqF86L"
      },
      "execution_count": null,
      "outputs": []
    },
    {
      "cell_type": "code",
      "source": [
        ""
      ],
      "metadata": {
        "id": "bouPKxucF88v"
      },
      "execution_count": null,
      "outputs": []
    },
    {
      "cell_type": "code",
      "source": [
        ""
      ],
      "metadata": {
        "id": "Z8YxDQHHF8-y"
      },
      "execution_count": null,
      "outputs": []
    },
    {
      "cell_type": "code",
      "source": [
        ""
      ],
      "metadata": {
        "id": "J1Hi7sixF9Az"
      },
      "execution_count": null,
      "outputs": []
    },
    {
      "cell_type": "markdown",
      "source": [
        "Python Program to Find the Factorial of a Number The factorial of a number is the product of all the integers from 1 to that number. For example, the factorial of 6 is 12345*6 = 720. Factorial is not defined for negative numbers, and the factorial of zero is one, 0! = 1."
      ],
      "metadata": {
        "id": "2i-2i6-qxI4H"
      }
    },
    {
      "cell_type": "code",
      "source": [
        "sayi = \n",
        "\n",
        "if sayi < 0 :\n",
        "  print(\"Lütfen pozitif tamsayi giriniz\")\n",
        "  sayi"
      ],
      "metadata": {
        "id": "cCJRKal3xJpy"
      },
      "execution_count": 1,
      "outputs": []
    },
    {
      "cell_type": "code",
      "source": [
        "def factor(x):\n",
        "  result = 1\n",
        "  for i in range(x):\n",
        "    result *= (i + 1)    ##  eger burada +1 demezsek 0 dan baslar ve sonuc 0 olur\n",
        "  return print(result)  ##  Attention:  return print dedik\n",
        "factor(6)"
      ],
      "metadata": {
        "id": "wCf9LQkG2XEF"
      },
      "execution_count": null,
      "outputs": []
    },
    {
      "cell_type": "code",
      "source": [
        "def factorial(n):\n",
        "  if n <= 1:\n",
        "    return 1\n",
        "  else:\n",
        "    return n * factorial(n -1)\n",
        "\n",
        "factorial(5)"
      ],
      "metadata": {
        "colab": {
          "base_uri": "https://localhost:8080/"
        },
        "id": "dZ7cYWo52XGS",
        "outputId": "5400253e-e432-4180-bb3d-4f6ae651a3e9"
      },
      "execution_count": 30,
      "outputs": [
        {
          "output_type": "execute_result",
          "data": {
            "text/plain": [
              "120"
            ]
          },
          "metadata": {},
          "execution_count": 30
        }
      ]
    },
    {
      "cell_type": "code",
      "source": [
        ""
      ],
      "metadata": {
        "id": "YtxWZyNU3fJu"
      },
      "execution_count": 4,
      "outputs": []
    },
    {
      "cell_type": "markdown",
      "source": [
        "Try to find out if a number you get from the user is perfect. A number is called a \"perfect number\" if the sum of its divisors is equal to itself. For example, 6 is a perfect number. (1 + 2 + 3 = 6)"
      ],
      "metadata": {
        "id": "wIdD1MfVxKDC"
      }
    },
    {
      "cell_type": "code",
      "source": [
        "sayi = int(input(\"Lütfen sayi giriniz: \"))\n",
        "bos = 0\n",
        "for i in range(1, sayi):\n",
        "  if sayi % i == 0:\n",
        "    bos += i\n",
        "\n",
        "if bos == sayi:\n",
        "  print(\"Bu sayi bir perfect numberdir\")\n",
        "else:\n",
        "  print(\"Bu sayi perfect number degildir\")"
      ],
      "metadata": {
        "id": "VZDuJWVJxggL",
        "colab": {
          "base_uri": "https://localhost:8080/"
        },
        "outputId": "31f00192-49e2-4386-a1aa-464462768280"
      },
      "execution_count": 12,
      "outputs": [
        {
          "output_type": "stream",
          "name": "stdout",
          "text": [
            "Lütfen sayi giriniz: 6\n",
            "Bu sayi bir perfect numberdir\n"
          ]
        }
      ]
    },
    {
      "cell_type": "code",
      "source": [
        "## Abdullah\n",
        "\n",
        "sayi = int(input())\n",
        "toplam = 0\n",
        "\n",
        "for i in range(1, sayi):\n",
        "  if sayi % i == 0:\n",
        "    toplam += i\n",
        "print(\"Bu bir perfect sayidir\" if toplam == sayi else \"Bu bir perfect sayi degildir\")\n"
      ],
      "metadata": {
        "colab": {
          "base_uri": "https://localhost:8080/"
        },
        "id": "FwzwbXm5Jwuc",
        "outputId": "7995b11f-a45f-4ebb-ae6f-1d0950a2f3b3"
      },
      "execution_count": 35,
      "outputs": [
        {
          "output_type": "stream",
          "name": "stdout",
          "text": [
            "6\n",
            "Bu bir perfect sayidir\n"
          ]
        }
      ]
    },
    {
      "cell_type": "code",
      "source": [
        "## Abdullah\n",
        "# list comprehension ile\n",
        "\n",
        "sayi = int(input())\n",
        "toplam = 0\n",
        "\n",
        "print(\"Bu bir perfect sayidir\" if sayi == sum([i for i in range(1, sayi) if sayi % i == 0])  else \"Bu bir perfect sayi degildir\")"
      ],
      "metadata": {
        "colab": {
          "base_uri": "https://localhost:8080/"
        },
        "id": "hyJzjysWNN4w",
        "outputId": "eccfa26d-3d8a-42bc-86b8-e22710e32ac9"
      },
      "execution_count": 37,
      "outputs": [
        {
          "output_type": "stream",
          "name": "stdout",
          "text": [
            "6\n",
            "Bu bir perfect sayidir\n"
          ]
        }
      ]
    },
    {
      "cell_type": "code",
      "source": [
        "sayi = int(input())\n",
        "toplam  = 0 \n",
        "print(\"perfect sayi\" if sayi == sum([i for i in range(1, sayi) if sayi % i == 0]) else \"perfect sayi degil\")"
      ],
      "metadata": {
        "colab": {
          "base_uri": "https://localhost:8080/"
        },
        "id": "CRaxrcM5NjO_",
        "outputId": "7e500e1a-bb1b-46a3-98fc-f3da9345aed8"
      },
      "execution_count": 41,
      "outputs": [
        {
          "output_type": "stream",
          "name": "stdout",
          "text": [
            "5\n",
            "perfect sayi degil\n"
          ]
        }
      ]
    },
    {
      "cell_type": "markdown",
      "source": [
        "Write a Python program to compute the greatest common divisor (GCD) of two positive integers"
      ],
      "metadata": {
        "id": "GUR8Bb_exgrK"
      }
    },
    {
      "cell_type": "code",
      "source": [
        "sayi = int(input(\"Lütfen bir sayi giriniz: \"))\n",
        "sayi2 = int(input(\"Lütfen ikinci sayiyi giriniz: \"))\n",
        "\n",
        "if sayi > sayi2:\n",
        "  kücük = sayi2\n",
        "else:\n",
        "  kücük = sayi\n",
        "\n",
        "bos = 0           ## range zaten büyüyerek gidecek. o nedenle bos en son en büyük olacak\n",
        "for i in range(1, (kücük + 1)):\n",
        "  if sayi % i == 0 and sayi2 % i == 0:\n",
        "    bos = i\n",
        "print(bos)\n"
      ],
      "metadata": {
        "id": "fl9UqElzxnoT",
        "colab": {
          "base_uri": "https://localhost:8080/"
        },
        "outputId": "3a3bb8e0-5f68-4b9a-a802-4a1feb9780e0"
      },
      "execution_count": 21,
      "outputs": [
        {
          "output_type": "stream",
          "name": "stdout",
          "text": [
            "Lütfen bir sayi giriniz: 90\n",
            "Lütfen ikinci sayiyi giriniz: 900\n",
            "90\n"
          ]
        }
      ]
    },
    {
      "cell_type": "code",
      "source": [
        "#abdullah:\n",
        "\n",
        "a = int(input(\"pozitif sayi \"))\n",
        "b = int(input(\"ikinci pozitif sayi \"))\n",
        "\n",
        "sayi = 0\n",
        "for i in range(1, (a + 1)):\n",
        "  if a % i == 0 and b % i == 0:\n",
        "    sayi = i\n",
        "print(sayi)"
      ],
      "metadata": {
        "colab": {
          "base_uri": "https://localhost:8080/"
        },
        "id": "2_xtuRGkU9ru",
        "outputId": "11d6a441-5851-4507-82c4-5ba227809472"
      },
      "execution_count": 43,
      "outputs": [
        {
          "output_type": "stream",
          "name": "stdout",
          "text": [
            "pozitif sayi 1000\n",
            "ikinci pozitif sayi 100\n",
            "100\n"
          ]
        }
      ]
    },
    {
      "cell_type": "code",
      "source": [
        ""
      ],
      "metadata": {
        "id": "WrXwr-ZqU9wE"
      },
      "execution_count": null,
      "outputs": []
    },
    {
      "cell_type": "code",
      "source": [
        "for i in range(0, 11):\n",
        "  print(f\"\")"
      ],
      "metadata": {
        "id": "dkVkm1Qe4_Xx"
      },
      "execution_count": null,
      "outputs": []
    },
    {
      "cell_type": "markdown",
      "source": [
        "Try to print a multiplication table with numbers from 1 to 10."
      ],
      "metadata": {
        "id": "qp8GMzjWyXMF"
      }
    },
    {
      "cell_type": "code",
      "source": [
        "for i in range(1, 11):\n",
        "  for j in range(1, 11):\n",
        "    print(f\"{i} x {j} = \", i * j)\n",
        "  print(\"------------\")"
      ],
      "metadata": {
        "id": "a87JN3aByYjW",
        "colab": {
          "base_uri": "https://localhost:8080/"
        },
        "outputId": "65f84d3f-1d3e-4c49-f6ef-781504216901"
      },
      "execution_count": 48,
      "outputs": [
        {
          "output_type": "stream",
          "name": "stdout",
          "text": [
            "1 x 1 =  1\n",
            "1 x 2 =  2\n",
            "1 x 3 =  3\n",
            "1 x 4 =  4\n",
            "1 x 5 =  5\n",
            "1 x 6 =  6\n",
            "1 x 7 =  7\n",
            "1 x 8 =  8\n",
            "1 x 9 =  9\n",
            "1 x 10 =  10\n",
            "------------\n",
            "2 x 1 =  2\n",
            "2 x 2 =  4\n",
            "2 x 3 =  6\n",
            "2 x 4 =  8\n",
            "2 x 5 =  10\n",
            "2 x 6 =  12\n",
            "2 x 7 =  14\n",
            "2 x 8 =  16\n",
            "2 x 9 =  18\n",
            "2 x 10 =  20\n",
            "------------\n",
            "3 x 1 =  3\n",
            "3 x 2 =  6\n",
            "3 x 3 =  9\n",
            "3 x 4 =  12\n",
            "3 x 5 =  15\n",
            "3 x 6 =  18\n",
            "3 x 7 =  21\n",
            "3 x 8 =  24\n",
            "3 x 9 =  27\n",
            "3 x 10 =  30\n",
            "------------\n",
            "4 x 1 =  4\n",
            "4 x 2 =  8\n",
            "4 x 3 =  12\n",
            "4 x 4 =  16\n",
            "4 x 5 =  20\n",
            "4 x 6 =  24\n",
            "4 x 7 =  28\n",
            "4 x 8 =  32\n",
            "4 x 9 =  36\n",
            "4 x 10 =  40\n",
            "------------\n",
            "5 x 1 =  5\n",
            "5 x 2 =  10\n",
            "5 x 3 =  15\n",
            "5 x 4 =  20\n",
            "5 x 5 =  25\n",
            "5 x 6 =  30\n",
            "5 x 7 =  35\n",
            "5 x 8 =  40\n",
            "5 x 9 =  45\n",
            "5 x 10 =  50\n",
            "------------\n",
            "6 x 1 =  6\n",
            "6 x 2 =  12\n",
            "6 x 3 =  18\n",
            "6 x 4 =  24\n",
            "6 x 5 =  30\n",
            "6 x 6 =  36\n",
            "6 x 7 =  42\n",
            "6 x 8 =  48\n",
            "6 x 9 =  54\n",
            "6 x 10 =  60\n",
            "------------\n",
            "7 x 1 =  7\n",
            "7 x 2 =  14\n",
            "7 x 3 =  21\n",
            "7 x 4 =  28\n",
            "7 x 5 =  35\n",
            "7 x 6 =  42\n",
            "7 x 7 =  49\n",
            "7 x 8 =  56\n",
            "7 x 9 =  63\n",
            "7 x 10 =  70\n",
            "------------\n",
            "8 x 1 =  8\n",
            "8 x 2 =  16\n",
            "8 x 3 =  24\n",
            "8 x 4 =  32\n",
            "8 x 5 =  40\n",
            "8 x 6 =  48\n",
            "8 x 7 =  56\n",
            "8 x 8 =  64\n",
            "8 x 9 =  72\n",
            "8 x 10 =  80\n",
            "------------\n",
            "9 x 1 =  9\n",
            "9 x 2 =  18\n",
            "9 x 3 =  27\n",
            "9 x 4 =  36\n",
            "9 x 5 =  45\n",
            "9 x 6 =  54\n",
            "9 x 7 =  63\n",
            "9 x 8 =  72\n",
            "9 x 9 =  81\n",
            "9 x 10 =  90\n",
            "------------\n",
            "10 x 1 =  10\n",
            "10 x 2 =  20\n",
            "10 x 3 =  30\n",
            "10 x 4 =  40\n",
            "10 x 5 =  50\n",
            "10 x 6 =  60\n",
            "10 x 7 =  70\n",
            "10 x 8 =  80\n",
            "10 x 9 =  90\n",
            "10 x 10 =  100\n",
            "------------\n"
          ]
        }
      ]
    },
    {
      "cell_type": "code",
      "source": [
        "liste = [\"a\", \"b\", \"c\", \"d\", \"e\"]\n",
        "\n",
        "for i in liste:\n",
        "  for j in range(1, 11):\n",
        "    print(f\"{i} x {j} = \", i * j)\n",
        "  print(\"------------\")"
      ],
      "metadata": {
        "colab": {
          "base_uri": "https://localhost:8080/"
        },
        "id": "AwwTxTd4YY-1",
        "outputId": "2366ad7e-fb1f-451a-be4a-bbb8a81650e1"
      },
      "execution_count": 49,
      "outputs": [
        {
          "output_type": "stream",
          "name": "stdout",
          "text": [
            "a x 1 =  a\n",
            "a x 2 =  aa\n",
            "a x 3 =  aaa\n",
            "a x 4 =  aaaa\n",
            "a x 5 =  aaaaa\n",
            "a x 6 =  aaaaaa\n",
            "a x 7 =  aaaaaaa\n",
            "a x 8 =  aaaaaaaa\n",
            "a x 9 =  aaaaaaaaa\n",
            "a x 10 =  aaaaaaaaaa\n",
            "------------\n",
            "b x 1 =  b\n",
            "b x 2 =  bb\n",
            "b x 3 =  bbb\n",
            "b x 4 =  bbbb\n",
            "b x 5 =  bbbbb\n",
            "b x 6 =  bbbbbb\n",
            "b x 7 =  bbbbbbb\n",
            "b x 8 =  bbbbbbbb\n",
            "b x 9 =  bbbbbbbbb\n",
            "b x 10 =  bbbbbbbbbb\n",
            "------------\n",
            "c x 1 =  c\n",
            "c x 2 =  cc\n",
            "c x 3 =  ccc\n",
            "c x 4 =  cccc\n",
            "c x 5 =  ccccc\n",
            "c x 6 =  cccccc\n",
            "c x 7 =  ccccccc\n",
            "c x 8 =  cccccccc\n",
            "c x 9 =  ccccccccc\n",
            "c x 10 =  cccccccccc\n",
            "------------\n",
            "d x 1 =  d\n",
            "d x 2 =  dd\n",
            "d x 3 =  ddd\n",
            "d x 4 =  dddd\n",
            "d x 5 =  ddddd\n",
            "d x 6 =  dddddd\n",
            "d x 7 =  ddddddd\n",
            "d x 8 =  dddddddd\n",
            "d x 9 =  ddddddddd\n",
            "d x 10 =  dddddddddd\n",
            "------------\n",
            "e x 1 =  e\n",
            "e x 2 =  ee\n",
            "e x 3 =  eee\n",
            "e x 4 =  eeee\n",
            "e x 5 =  eeeee\n",
            "e x 6 =  eeeeee\n",
            "e x 7 =  eeeeeee\n",
            "e x 8 =  eeeeeeee\n",
            "e x 9 =  eeeeeeeee\n",
            "e x 10 =  eeeeeeeeee\n",
            "------------\n"
          ]
        }
      ]
    },
    {
      "cell_type": "code",
      "source": [
        ""
      ],
      "metadata": {
        "id": "3mhnjC_BcNZW"
      },
      "execution_count": null,
      "outputs": []
    },
    {
      "cell_type": "code",
      "source": [
        ""
      ],
      "metadata": {
        "id": "sLxVeNdLcNcf"
      },
      "execution_count": null,
      "outputs": []
    },
    {
      "cell_type": "markdown",
      "source": [
        "Write a program to find all the Armstrong numbers present in between two intervals in Python. For example, Armstrong numbers between 100 and 2000.\n",
        "\n",
        "# let’s find a similar one to this question, friends.\n",
        "# write a program to find all the Armstrong numbers present in between two intervals in Python. For example, Armstrong numbers between 100 and 2000. Expected output:\n",
        "# 153\n",
        "# 370\n",
        "# 371\n",
        "# 407\n",
        "# 1634"
      ],
      "metadata": {
        "id": "KvZHqVq9y72M"
      }
    },
    {
      "cell_type": "code",
      "source": [
        "sayi = int(input(\"sayi giriniz: \"))\n",
        "sayi2 = int(input(\"sayi giriniz: \"))\n",
        "\n",
        "for i in range(sayi, (sayi2 + 1)):\n",
        "  basamaklar = [int(j) for j in str(i)]\n",
        "  bos = 0\n",
        "  for k in range(len(str(i))):\n",
        "    bos += (basamaklar[k] ** len(str(i)))\n",
        "  if bos == i:\n",
        "    print(i)"
      ],
      "metadata": {
        "id": "rKcX8qgZy_l5",
        "colab": {
          "base_uri": "https://localhost:8080/"
        },
        "outputId": "9fdf847e-d053-4b90-bb51-d74a558183fb"
      },
      "execution_count": 55,
      "outputs": [
        {
          "output_type": "stream",
          "name": "stdout",
          "text": [
            "sayi giriniz: 100\n",
            "sayi giriniz: 2000\n",
            "153\n",
            "370\n",
            "371\n",
            "407\n",
            "1634\n"
          ]
        }
      ]
    },
    {
      "cell_type": "code",
      "source": [
        ""
      ],
      "metadata": {
        "id": "ModCCXKkdlqz"
      },
      "execution_count": null,
      "outputs": []
    },
    {
      "cell_type": "code",
      "source": [
        ""
      ],
      "metadata": {
        "id": "Egna8UZUdlsl"
      },
      "execution_count": null,
      "outputs": []
    },
    {
      "cell_type": "code",
      "source": [
        ""
      ],
      "metadata": {
        "id": "DQPJSvEpdlwS"
      },
      "execution_count": null,
      "outputs": []
    },
    {
      "cell_type": "code",
      "source": [
        ""
      ],
      "metadata": {
        "id": "K7_tRuJjdl0n"
      },
      "execution_count": null,
      "outputs": []
    }
  ]
}