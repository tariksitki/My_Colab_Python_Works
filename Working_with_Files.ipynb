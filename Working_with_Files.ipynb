{
  "nbformat": 4,
  "nbformat_minor": 0,
  "metadata": {
    "colab": {
      "name": "Working with Files.ipynb",
      "provenance": [],
      "collapsed_sections": [],
      "authorship_tag": "ABX9TyNTNLVigGQGUmZ2J+UTQDHZ",
      "include_colab_link": true
    },
    "kernelspec": {
      "name": "python3",
      "display_name": "Python 3"
    },
    "language_info": {
      "name": "python"
    }
  },
  "cells": [
    {
      "cell_type": "markdown",
      "metadata": {
        "id": "view-in-github",
        "colab_type": "text"
      },
      "source": [
        "<a href=\"https://colab.research.google.com/github/tariksitki/My_Colab_Python_Works/blob/main/Working_with_Files.ipynb\" target=\"_parent\"><img src=\"https://colab.research.google.com/assets/colab-badge.svg\" alt=\"Open In Colab\"/></a>"
      ]
    },
    {
      "cell_type": "code",
      "execution_count": null,
      "metadata": {
        "id": "euHgQXtiosC8"
      },
      "outputs": [],
      "source": [
        "## pre class\n",
        "\n",
        "############### Working with Files"
      ]
    },
    {
      "cell_type": "code",
      "source": [
        "##############     Reading Files"
      ],
      "metadata": {
        "id": "RNAYL1poowWi"
      },
      "execution_count": null,
      "outputs": []
    },
    {
      "cell_type": "code",
      "source": [
        "## Genellikle bir proje üzerinde çalışırken, yazmayı planladığımız \n",
        "# Programımız için ihtiyaç duyduğunuz veriler dışarıdan bir dosya formatında gelir. \n",
        "# Bu bölümde, sıklıkla kullanacağımız harici dosyalarla nasıl çalışacağınızı öğrenecegiz"
      ],
      "metadata": {
        "id": "4otOvtZDowZF"
      },
      "execution_count": null,
      "outputs": []
    },
    {
      "cell_type": "code",
      "source": [
        "# Dosyalarla çalışmaya başlamak için önce bir built in func kullanarak \n",
        "# bu dosyayi açmamız gerekir  "
      ],
      "metadata": {
        "id": "MlpOyv55owbB"
      },
      "execution_count": null,
      "outputs": []
    },
    {
      "cell_type": "code",
      "source": [
        "open (file, mode='r', buffering=-1, encoding=None, errors=None, newline=None, closefd=True, opener=None)"
      ],
      "metadata": {
        "id": "wZx8QA8-owdQ"
      },
      "execution_count": null,
      "outputs": []
    },
    {
      "cell_type": "code",
      "source": [
        "###  file,  open() func'in ihtiyac duydugu tek positional parametredir\n",
        "\n",
        "# This parameter is a path-like object which is a str or bytes \n",
        "# that represents a path in the file directory\n",
        "\n",
        "# diger bir deyisle, file,  absolute yada relativ path ile \n",
        "# güncel dosyanin path'ini cizer"
      ],
      "metadata": {
        "id": "5lMKPbdrowe6"
      },
      "execution_count": null,
      "outputs": []
    },
    {
      "cell_type": "code",
      "source": [
        "# Bu parametre, Anaconda veya Python'un kurulu olduğu dizinde saklanan, \n",
        "# ve bizim açmak istediğiniz dosyanın adını alır.\n",
        "\n",
        "# In other words, the file should be stored in the current working directory"
      ],
      "metadata": {
        "id": "DgN3uxpzowg7"
      },
      "execution_count": null,
      "outputs": []
    },
    {
      "cell_type": "code",
      "source": [
        "####  örnek\n",
        "\n",
        "myfile = open(\"file1.txt\")   # # this syntax opens a 'txt' file \n",
        "\n",
        "print(type(myfile))"
      ],
      "metadata": {
        "id": "Lt5qXTM6qaGT"
      },
      "execution_count": null,
      "outputs": []
    },
    {
      "cell_type": "code",
      "source": [
        "#### Homework:\n",
        "# open() is a function defined in the io module in Python. \n",
        "# Well, then do a research for what the io module is?"
      ],
      "metadata": {
        "id": "xmOyOkDkqaIl"
      },
      "execution_count": null,
      "outputs": []
    },
    {
      "cell_type": "code",
      "source": [
        "## The encoding parameter indicates the encoding \n",
        "# that needs to be used to decode or encode a file. \n",
        "# The default value depends on the platform you use and its language. \n",
        "# UTF-8 is one of the most preferred used encodings, \n",
        "# and Python generally defaults to using it. \n",
        "# UTF stands for “Unicode Transformation Format”, \n",
        "# and the ‘8’ means that 8-bit values are used in the encoding. \n",
        "\n",
        "# We can open a file in the same way by using the following syntax :"
      ],
      "metadata": {
        "id": "p0iLole7qaK4"
      },
      "execution_count": null,
      "outputs": []
    },
    {
      "cell_type": "code",
      "source": [
        "my_file = open(\"first_file.txt\", encoding=\"utf-8\")\n",
        "\n",
        "# we've used 'utf8' encoding format just the same as the previous one"
      ],
      "metadata": {
        "id": "xQvEYoXFqaNU"
      },
      "execution_count": null,
      "outputs": []
    },
    {
      "cell_type": "code",
      "source": [
        ""
      ],
      "metadata": {
        "id": "D5Fm9pQHqaPh"
      },
      "execution_count": null,
      "outputs": []
    },
    {
      "cell_type": "code",
      "source": [
        "########################  'mode' Parameter"
      ],
      "metadata": {
        "id": "4XW0mZ55qaRs"
      },
      "execution_count": null,
      "outputs": []
    },
    {
      "cell_type": "code",
      "source": [
        "##   'mod' Parametre Nitelikleri\n",
        "\n",
        "## 'r'\tOkumak için aç (varsayılan). Dosya yoksa, FileNotFoundError yükseltilir.\n",
        "\n",
        "## 'a'\tYazmaya açık. Zaten varsa, dosyanın sonuna append edilir. Dosya yoksa, oluşturacaktır.\n",
        "\n",
        "##  'w'\tOpen for writing. It will be overwritten \n",
        "#  if the file already exists. If there is no file, it will create it.\n",
        "\n",
        "## 'x'\tOpen for exclusive creation, it will fail if the file already exists.\n",
        "\n",
        "## 'b'\tOpen in binary mode.\n",
        "\n",
        "## 't'\tOpen as a text file (default).\n",
        "\n",
        "## '+'\tOpen for updating (reading and writing)."
      ],
      "metadata": {
        "id": "Ta-H7TjTqaT5"
      },
      "execution_count": null,
      "outputs": []
    },
    {
      "cell_type": "code",
      "source": [
        "## By default, open() function executes opening the file for reading ('r') \n",
        "# as a text ('t'). In other words, it defaults to 'r' or 'rt' which means \n",
        "# open for reading in text mode.\n",
        "\n",
        "## \"rt\" de gördügümüz gibi ihtiyacimiza uygun olarak \n",
        "# modlari birlestirebiliriz"
      ],
      "metadata": {
        "id": "DzCQarpsqaWA"
      },
      "execution_count": null,
      "outputs": []
    },
    {
      "cell_type": "code",
      "source": [
        "## If you want to open and be able to read, modify, and update \n",
        "# the existing file you should set the mode as 'r+'."
      ],
      "metadata": {
        "id": "0K8HfXwY2H7O"
      },
      "execution_count": null,
      "outputs": []
    },
    {
      "cell_type": "code",
      "source": [
        "## Another important point we should cover about mode is that \n",
        "# you can choose the format in which you want to open the file \n",
        "# as text ('t') or binary ('b'). \n",
        "# According to the official related Python documentation, \n",
        "# files opened in 'binary' mode return contents as bytes objects without any decoding."
      ],
      "metadata": {
        "id": "B9DC_kK-2H-b"
      },
      "execution_count": null,
      "outputs": []
    },
    {
      "cell_type": "code",
      "source": [
        "##  In 'text' mode, the contents of the file are returned as str,\n",
        "\n",
        "## baytlar önce platforma bağlı bir kodlama kullanılarak veya verilmişse \n",
        "# belirtilen kodlama kullanılarak kodu çözülür."
      ],
      "metadata": {
        "id": "kyxlxM372IBr"
      },
      "execution_count": null,
      "outputs": []
    },
    {
      "cell_type": "code",
      "source": [
        "## In this case, if you want to open a binary file for writing \n",
        "# you should set the mode as 'wb'. On the other hand, \n",
        "# if you want to work with a text file you don't need to specify \n",
        "# 't' since the default value of mode is already set as 't'. \n",
        "# So, when opening and writing a text file it's enough to set the mode as 'w'."
      ],
      "metadata": {
        "id": "P_qjCFW72IES"
      },
      "execution_count": null,
      "outputs": []
    },
    {
      "cell_type": "code",
      "source": [
        "## Finally, let us examine the differences between the use of 'w' and 'a'. \n",
        "# Both options are used to modify the file or to write new data to the file. \n",
        "# However, when you use 'a', the data you want to write will be added \n",
        "# at the bottom of the file and combined with existing content, \n",
        "\n",
        "# whereas using 'w' will delete the existing content and add new content each time. \n",
        "\n",
        "# yani \"a\" append eder. \"w\"  ise üzerine yazar"
      ],
      "metadata": {
        "id": "IkuRyKrj2IG_"
      },
      "execution_count": null,
      "outputs": []
    },
    {
      "cell_type": "code",
      "source": [
        "## content icerisinde test.py adinda bir dosya olusturdum.\n",
        "# simdi bu dosya ile denemeler yapalim:\n",
        "\n",
        "x = open(\"test.py\")    #  dikkat tirnak icinde yazilir \n",
        "print(type(x))\n",
        "print(x)               #  output da encoding ve mode'un default larini görecegiz \n"
      ],
      "metadata": {
        "colab": {
          "base_uri": "https://localhost:8080/"
        },
        "id": "RQouKOd86HbL",
        "outputId": "5e7dcf31-8303-49c1-ca55-b8f0df056f21"
      },
      "execution_count": null,
      "outputs": [
        {
          "output_type": "stream",
          "name": "stdout",
          "text": [
            "<class '_io.TextIOWrapper'>\n",
            "<_io.TextIOWrapper name='test.py' mode='r' encoding='UTF-8'>\n"
          ]
        }
      ]
    },
    {
      "cell_type": "code",
      "source": [
        "y = open(\"test.py\", \"w\")\n",
        "print(y)"
      ],
      "metadata": {
        "colab": {
          "base_uri": "https://localhost:8080/"
        },
        "id": "yXVgGTdh6Hda",
        "outputId": "0ad6eb9c-b96b-4d88-a160-8433c119d030"
      },
      "execution_count": null,
      "outputs": [
        {
          "output_type": "stream",
          "name": "stdout",
          "text": [
            "<_io.TextIOWrapper name='test.py' mode='w' encoding='UTF-8'>\n"
          ]
        }
      ]
    },
    {
      "cell_type": "code",
      "source": [
        "z = open(\"test.py\", \"bw\")\n",
        "print(z)"
      ],
      "metadata": {
        "colab": {
          "base_uri": "https://localhost:8080/"
        },
        "id": "BOqg8eP066_6",
        "outputId": "0b02b781-43b2-483e-dea6-2442378744f3"
      },
      "execution_count": null,
      "outputs": [
        {
          "output_type": "stream",
          "name": "stdout",
          "text": [
            "<_io.BufferedWriter name='test.py'>\n"
          ]
        }
      ]
    },
    {
      "cell_type": "code",
      "source": [
        "t = open(\"test.py\", \"a\")\n",
        "print(t)"
      ],
      "metadata": {
        "colab": {
          "base_uri": "https://localhost:8080/"
        },
        "id": "x9_kT63L67CW",
        "outputId": "72de7c2b-4444-49df-d9ea-4e65cd09606d"
      },
      "execution_count": null,
      "outputs": [
        {
          "output_type": "stream",
          "name": "stdout",
          "text": [
            "<_io.TextIOWrapper name='test.py' mode='a' encoding='UTF-8'>\n"
          ]
        }
      ]
    },
    {
      "cell_type": "code",
      "source": [
        ""
      ],
      "metadata": {
        "id": "WGo-0ccZ67II"
      },
      "execution_count": null,
      "outputs": []
    },
    {
      "cell_type": "code",
      "source": [
        ""
      ],
      "metadata": {
        "id": "csFTATo-4beC"
      },
      "execution_count": null,
      "outputs": []
    },
    {
      "cell_type": "code",
      "source": [
        "###############   Reading the Files with '.read()' Method"
      ],
      "metadata": {
        "id": "McPfNy5O4bg2"
      },
      "execution_count": null,
      "outputs": []
    },
    {
      "cell_type": "code",
      "source": [
        "#  1. .read(size) methodu:\n",
        "\n",
        "# This method is generally the most preferred method for \n",
        "# reading files, although it depends on the need. \n",
        "# This method reads the size bytes (characters) of the file. \n",
        "# If this parameter is not specified, the entire file is read at once.\n",
        "## yani read den sonra parantezin icerisinde aralik belirtilmezse \n",
        "# tüm bilgiler okunur"
      ],
      "metadata": {
        "id": "5nqA8d6m9WKi"
      },
      "execution_count": null,
      "outputs": []
    },
    {
      "cell_type": "code",
      "source": [
        ""
      ],
      "metadata": {
        "id": "AEnp1PSY9WM7"
      },
      "execution_count": null,
      "outputs": []
    },
    {
      "cell_type": "code",
      "source": [
        "v = open(\"test.py\", \"r\")  ## r olarak aciyoruz dosyayi\n",
        "print(v.read())           ## Bu komut ile de icerigini okuyoruz\n",
        "\n",
        "v.close()\n",
        "\n",
        "# print(v.read())   dosya ile isimiz bittiginde kapatmayi unutmuyoruz.\n",
        "                      ## eger dosyayi kapattiktan sonra tekrar icerigi \n",
        "                      # print etmek istersek hata alacagizdir"
      ],
      "metadata": {
        "colab": {
          "base_uri": "https://localhost:8080/"
        },
        "id": "Lf2EhoAE4bka",
        "outputId": "03a8f64b-fb62-4d60-ebd6-dc633895c79b"
      },
      "execution_count": null,
      "outputs": [
        {
          "output_type": "stream",
          "name": "stdout",
          "text": [
            "print(\"ben tarik\")\n"
          ]
        }
      ]
    },
    {
      "cell_type": "code",
      "source": [
        "deneme = open(\"test.py\")\n",
        "\n",
        "print(deneme.read(33))  ## ilk 33 karakteri okur\n",
        "                        ## sadece read deyip parantezi bos birakirsak\n",
        "                        # tüm bilgileri okuyacaktir\n",
        "print(deneme.read(25))  ### 33 den sonraki 25 karakter"
      ],
      "metadata": {
        "colab": {
          "base_uri": "https://localhost:8080/"
        },
        "id": "KxLbd3uC4bnq",
        "outputId": "8ba169a8-bfba-4194-a183-ea9b0f3b26cf"
      },
      "execution_count": null,
      "outputs": [
        {
          "output_type": "stream",
          "name": "stdout",
          "text": [
            "print(\"ben tarik\")\n",
            "\n"
          ]
        }
      ]
    },
    {
      "cell_type": "code",
      "source": [
        "deneme.seek(4)   ## bu komut ile kurzer'in konumunu 4. karakterden sonrasina\n",
        "                  ## yani 5. karakter olan t'nin önüne aliriz \n",
        "print(deneme.read(10))       ## sonrasinda da 10 karakter yazdir dedigimizde\n",
        "                              # kurzer'in bulundugu yerden itibaren 10 tane yazdirir"
      ],
      "metadata": {
        "colab": {
          "base_uri": "https://localhost:8080/"
        },
        "id": "_eteA5Gu4bqe",
        "outputId": "1b6b32ca-cbd3-42b0-caa0-8552c124843c"
      },
      "execution_count": null,
      "outputs": [
        {
          "output_type": "stream",
          "name": "stdout",
          "text": [
            "t(\"ben tar\n"
          ]
        }
      ]
    },
    {
      "cell_type": "code",
      "source": [
        "deneme.seek(9)  ## burada 9 a aldik kurzer i \n",
        "\n",
        "print(deneme.tell())  # bu komut da, bize kurzer'in güncel konumunu söyler\n",
        "\n"
      ],
      "metadata": {
        "colab": {
          "base_uri": "https://localhost:8080/"
        },
        "id": "Kcjg9W1s4btN",
        "outputId": "017f5bea-03c2-4394-eb5a-d24ffc9ee87f"
      },
      "execution_count": null,
      "outputs": [
        {
          "output_type": "stream",
          "name": "stdout",
          "text": [
            "9\n"
          ]
        }
      ]
    },
    {
      "cell_type": "code",
      "source": [
        "deneme.close()"
      ],
      "metadata": {
        "id": "3zItoxlHB0PT"
      },
      "execution_count": null,
      "outputs": []
    },
    {
      "cell_type": "code",
      "source": [
        "### Note:  33 karakter print et dedigimizde, bu sayi bosluklari ve\n",
        "# \"\\n\" de kapsar"
      ],
      "metadata": {
        "id": "GWzg-UO64bvi"
      },
      "execution_count": null,
      "outputs": []
    },
    {
      "cell_type": "code",
      "source": [
        "## Soru:\n",
        "\n",
        "# Suppose you have a text file (fishes.txt ) stored \n",
        "# in the current working directory with the following content.\n",
        "\n",
        "# print(\"fishes.txt\".read(5))\n",
        "\n",
        "# Orca is a kind of Dolphin.\n",
        "# Blue Whale is the largest animal known on earth.\n",
        "# Sharks are the sister group to the Rays (batoids).\n",
        "# The Tuna Fish can weigh up to 260 kg.\n",
        "# Squid and Octopus are in the same class.\n",
        "\n",
        "# cevap: \"orca \""
      ],
      "metadata": {
        "id": "a7tTvLHb4bxu"
      },
      "execution_count": null,
      "outputs": []
    },
    {
      "cell_type": "code",
      "source": [
        "###  2. .readline(size) :"
      ],
      "metadata": {
        "id": "ibAmnvt14bzy"
      },
      "execution_count": null,
      "outputs": []
    },
    {
      "cell_type": "code",
      "source": [
        "## bu, python dosyalari okumak icin 2. bir yöntemdir.\n",
        "\n",
        "#  Bu yöntem, metnin yalnızca tek bir satırındaki baytları okur"
      ],
      "metadata": {
        "id": "km7O99zg2IJ1"
      },
      "execution_count": null,
      "outputs": []
    },
    {
      "cell_type": "code",
      "source": [
        "deneme = open(\"test.py\", \"r\")\n",
        "\n",
        "print(deneme.readline())\n",
        "print(deneme.readline())\n",
        "print(deneme.readline())   ## Normal de dosyanin orijinalinde satirlar arasinda\n",
        "                            # hic bosluk yoktur. ancak readline komutunu her \n",
        "                            # calistirdigimizda, bir satir atlayarak yazar\n",
        "deneme.close()              # defaultunda \"\\n\" vardir"
      ],
      "metadata": {
        "colab": {
          "base_uri": "https://localhost:8080/"
        },
        "id": "tk9ST659BO-X",
        "outputId": "19bab314-07ec-4298-b0e2-7493ced8b37b"
      },
      "execution_count": null,
      "outputs": [
        {
          "output_type": "stream",
          "name": "stdout",
          "text": [
            "print(\"1. satir\")\n",
            "\n",
            "print(\"2. satir\")\n",
            "\n",
            "print(\"3. satir\")\n",
            "\n"
          ]
        }
      ]
    },
    {
      "cell_type": "code",
      "source": [
        "## readline(), bir satirdaki tüm karakterleri okur.\n",
        "# tüm karakterler bittikten sonra diger satira gecer.\n",
        "# simdi readline methodunun parantez icerisine sayi yazarak nasil\n",
        "# calistigini görelim:\n",
        "\n",
        "deneme = open(\"test.py\", \"r\")\n",
        "\n",
        "print(deneme.readline(10))\n",
        "print(deneme.readline(10))  #### ikinci 10 karakteri yaz dedigimizde otomatik olarak \n",
        "print(deneme.readline(10))    # bir alt satira iniyor. ama 1. satirin kalan karakterlerini\n",
        "print(deneme.readline(10))    # print ediyor\n",
        "print(deneme.readline(10))     ## dikkat:  eger bir satirin tüm karakterlerini yazdirmadi isek\n",
        "                              # yani bir satirin print islemi yarim kaldi ise, o zaman\n",
        "                              # readline methodu bir satir bosluk birakmadan devam eder\n",
        "                              # bir satirin tüm karakterleri yazdirildiktan sonra, ikinci \n",
        "                              # satira gecerken bir bosluk verilir.\n",
        "deneme.close()"
      ],
      "metadata": {
        "colab": {
          "base_uri": "https://localhost:8080/"
        },
        "id": "xW8uViZJBPA6",
        "outputId": "8469ce3f-87c0-427b-ba03-3537ad31c123"
      },
      "execution_count": null,
      "outputs": [
        {
          "output_type": "stream",
          "name": "stdout",
          "text": [
            "print(\"1. \n",
            "satir\")\n",
            "\n",
            "print(\"2. \n",
            "satir\")\n",
            "\n",
            "print(\"3. \n"
          ]
        }
      ]
    },
    {
      "cell_type": "code",
      "source": [
        ""
      ],
      "metadata": {
        "id": "_5sbCRB7BPDq"
      },
      "execution_count": null,
      "outputs": []
    },
    {
      "cell_type": "code",
      "source": [
        "#######  3. .readlines() :     (3. Method)"
      ],
      "metadata": {
        "id": "Gcj6mo4HBPGA"
      },
      "execution_count": null,
      "outputs": []
    },
    {
      "cell_type": "code",
      "source": [
        "###  It reads the entire file by line by in the list form."
      ],
      "metadata": {
        "id": "rwb9bl_QBPIr"
      },
      "execution_count": null,
      "outputs": []
    },
    {
      "cell_type": "code",
      "source": [
        "## dosyanin tüm satirlari, ayri bir string icerisinde print edilir.\n",
        "\n",
        "# ve alt satirin ciktisinda da görecegimiz gibi,\n",
        "# \"\\n\"  ifadesi her satirin sonunda default olarak mevcuttur"
      ],
      "metadata": {
        "id": "vZacjcmCGKfG"
      },
      "execution_count": null,
      "outputs": []
    },
    {
      "cell_type": "code",
      "source": [
        "deneme = open(\"test.py\")\n",
        "\n",
        "print(deneme.readlines())\n",
        "\n",
        "deneme.close()"
      ],
      "metadata": {
        "colab": {
          "base_uri": "https://localhost:8080/"
        },
        "id": "AXCTaE0wBPLE",
        "outputId": "0a32db0d-b946-4c00-cf3d-029dbc4ba71e"
      },
      "execution_count": null,
      "outputs": [
        {
          "output_type": "stream",
          "name": "stdout",
          "text": [
            "['print(\"1. satir\")\\n', 'print(\"2. satir\")\\n', 'print(\"3. satir\")\\n', 'print(\"4. satir\")\\n', 'print(\"5. satir\")\\n', 'print(\"hello\")\\n', 'print(\"hello\")\\n', 'print(\"hello\")\\n', 'print(\"hello\")']\n"
          ]
        }
      ]
    },
    {
      "cell_type": "code",
      "source": [
        "## yukarida gördügümüz 3 yöntemden hangisini kullanirsak kullanalim,\n",
        "# kurzer'in konumu önemlidir.\n",
        "\n",
        "# asagida iki methodu kombineli olarak kullanacagiz.\n",
        "# 2. method da birinci methodun kaldigi yerden print edilecektir"
      ],
      "metadata": {
        "id": "F7ySosfwBPNq"
      },
      "execution_count": null,
      "outputs": []
    },
    {
      "cell_type": "code",
      "source": [
        "deneme = open(\"test.py\")\n",
        "\n",
        "print(deneme.readline())  # sadece 1. satir yazilir\n",
        "\n",
        "print(deneme.readlines()) # 1. satir haric kalan satirlar"
      ],
      "metadata": {
        "colab": {
          "base_uri": "https://localhost:8080/"
        },
        "id": "IyTtgYZIF_ES",
        "outputId": "52f45ab1-4e06-4236-ff45-87e6d680fc29"
      },
      "execution_count": null,
      "outputs": [
        {
          "output_type": "stream",
          "name": "stdout",
          "text": [
            "print(\"1. satir\")\n",
            "\n",
            "['print(\"2. satir\")\\n', 'print(\"3. satir\")\\n', 'print(\"4. satir\")\\n', 'print(\"5. satir\")\\n', 'print(\"hello\")\\n', 'print(\"hello\")\\n', 'print(\"hello\")\\n', 'print(\"hello\")']\n"
          ]
        }
      ]
    },
    {
      "cell_type": "code",
      "source": [
        "## readline ve readlines methodlarinda outputun type'ina bakalim\n",
        "\n",
        "deneme = open(\"test.py\")\n",
        "\n",
        "print(type(deneme.readline()))\n",
        "\n",
        "print(type(deneme.readlines()))\n",
        "\n",
        "# deneme.close()"
      ],
      "metadata": {
        "colab": {
          "base_uri": "https://localhost:8080/"
        },
        "id": "ryw5rza4F_Ga",
        "outputId": "cc9b359b-8c34-4cdf-88f9-08b1e4efcbf8"
      },
      "execution_count": null,
      "outputs": [
        {
          "output_type": "stream",
          "name": "stdout",
          "text": [
            "<class 'str'>\n",
            "<class 'list'>\n"
          ]
        }
      ]
    },
    {
      "cell_type": "code",
      "source": [
        "## Note: readlines() methodu, kücük dosyalari okumak icin iyi bir\n",
        "# yöntemdir. ancak liste seklinde oldugundan, büyük dosyalari okumak \n",
        "# zor olacaktir"
      ],
      "metadata": {
        "id": "603BFM3XF_IW"
      },
      "execution_count": null,
      "outputs": []
    },
    {
      "cell_type": "code",
      "source": [
        ""
      ],
      "metadata": {
        "id": "VwaWfXnmH2iK"
      },
      "execution_count": null,
      "outputs": []
    },
    {
      "cell_type": "code",
      "source": [
        "#######   4. Using Loops writing :         (4. method)"
      ],
      "metadata": {
        "id": "V3akKrCeH2ke"
      },
      "execution_count": null,
      "outputs": []
    },
    {
      "cell_type": "code",
      "source": [
        "### bir dosyayi okumanin en etkili yolu for loop kullanmaktir"
      ],
      "metadata": {
        "id": "D3rh53W8H2nT"
      },
      "execution_count": null,
      "outputs": []
    },
    {
      "cell_type": "code",
      "source": [
        "deneme = open(\"test.py\")\n",
        "\n",
        "for line in deneme:\n",
        "  print(line)        ## burada line i gibi siradan bir degisken.\n",
        "                      # line kullanmak zorunda degiliz\n",
        "                      # dikkat output da yine satirlar arasi bosluk var\n",
        "# deneme.close()\n",
        "                      ## for loop dosya okumanin baska bir yöntemi oldugu icin\n",
        "                      # read methodlarina ihtiyac duymuyoruz"
      ],
      "metadata": {
        "colab": {
          "base_uri": "https://localhost:8080/"
        },
        "id": "vYtMc3pUH2qE",
        "outputId": "093fd33b-4147-435f-917a-a4d980bf8882"
      },
      "execution_count": null,
      "outputs": [
        {
          "output_type": "stream",
          "name": "stdout",
          "text": [
            "print(\"ben tarik\")\n"
          ]
        }
      ]
    },
    {
      "cell_type": "code",
      "source": [
        ""
      ],
      "metadata": {
        "id": "qxmq8UZhf8ZO"
      },
      "execution_count": null,
      "outputs": []
    },
    {
      "cell_type": "code",
      "source": [
        "### For loop ile dosya icerigini okuyarak özellikle \n",
        "# büyük metin dosyaları kolay ve pratik bir şekilde okunabilmektedir. \n",
        "# Bu yöntem bize istediğimiz satırı okuma fırsatı verdiği gibi, \n",
        "# syntax tekrarından da bizi kurtarmaktadir."
      ],
      "metadata": {
        "id": "EoFp7jvqH2sz"
      },
      "execution_count": null,
      "outputs": []
    },
    {
      "cell_type": "code",
      "source": [
        "## readlines() methodu bize liste veri tipi return ettigi icin\n",
        "# bu method ile de for döngüsü kullanabiliriz."
      ],
      "metadata": {
        "id": "NI896e7xH2vJ"
      },
      "execution_count": null,
      "outputs": []
    },
    {
      "cell_type": "code",
      "source": [
        "deneme = open(\"test.py\")\n",
        "\n",
        "for i in deneme.readlines():\n",
        "  print(i)\n",
        "deneme.close()"
      ],
      "metadata": {
        "colab": {
          "base_uri": "https://localhost:8080/"
        },
        "id": "dAo2GHQnH2x1",
        "outputId": "7dafc0fa-cc65-4fb8-c4ae-9835fa565301"
      },
      "execution_count": null,
      "outputs": [
        {
          "output_type": "stream",
          "name": "stdout",
          "text": [
            "print(\"1. satir\")\n",
            "\n",
            "print(\"2. satir\")\n",
            "\n",
            "print(\"3. satir\")\n",
            "\n",
            "print(\"4. satir\")\n",
            "\n",
            "print(\"5. satir\")\n",
            "\n",
            "print(\"hello\")\n",
            "\n",
            "print(\"hello\")\n",
            "\n",
            "print(\"hello\")\n",
            "\n",
            "print(\"hello\")\n"
          ]
        }
      ]
    },
    {
      "cell_type": "code",
      "source": [
        "## hatta for loop ile return edilen verileri bir listeye append edelim\n",
        "\n",
        "deneme = open(\"test.py\")\n",
        "bos = []\n",
        "for i in deneme:\n",
        "  bos.append(i)\n",
        "  \n",
        "print(bos)\n",
        "\n",
        "deneme.close()"
      ],
      "metadata": {
        "colab": {
          "base_uri": "https://localhost:8080/"
        },
        "id": "45CIRmclF_KO",
        "outputId": "f2aab483-20f9-4499-e08a-e5421103cce8"
      },
      "execution_count": null,
      "outputs": [
        {
          "output_type": "stream",
          "name": "stdout",
          "text": [
            "['print(\"ben tarik\")']\n"
          ]
        }
      ]
    },
    {
      "cell_type": "code",
      "source": [
        ""
      ],
      "metadata": {
        "id": "ahX5wg-4UMNv"
      },
      "execution_count": null,
      "outputs": []
    },
    {
      "cell_type": "code",
      "source": [
        "##########  The Matter of Closing the Files"
      ],
      "metadata": {
        "id": "N5alZyrCUMP_"
      },
      "execution_count": null,
      "outputs": []
    },
    {
      "cell_type": "code",
      "source": [
        "## Çalıştığımız verileri kaybetmek istemiyorsak, işimiz biter bitmez \n",
        "# dosyanın kapatılması gerektiğini unutmamalıyız."
      ],
      "metadata": {
        "id": "2y8ukeEQUMRu"
      },
      "execution_count": null,
      "outputs": []
    },
    {
      "cell_type": "code",
      "source": [
        "## su ana kadar kullandigimiz close() methodundan baska\n",
        "# dosyalari kapatmak icin ikinci bir yöntem vardir."
      ],
      "metadata": {
        "id": "TeylgzwCUMTt"
      },
      "execution_count": null,
      "outputs": []
    },
    {
      "cell_type": "code",
      "source": [
        "with open(\"test.py\") as deneme:      ## colon\n",
        "  print(deneme)   ## read olmadigi icin icerik yok                   \n",
        "                  ## indentation' a dikkat \n",
        "\n",
        "\n",
        "## bu kullanimda dikkat edersek close()' a ihtiyac duymuyoruz.\n",
        "# cünkü kendiliginden yapiliyor"
      ],
      "metadata": {
        "colab": {
          "base_uri": "https://localhost:8080/"
        },
        "id": "QSRiGc3GUMVo",
        "outputId": "847adbc6-a377-4205-aab5-091a40d631d5"
      },
      "execution_count": null,
      "outputs": [
        {
          "output_type": "stream",
          "name": "stdout",
          "text": [
            "<_io.TextIOWrapper name='test.py' mode='r' encoding='UTF-8'>\n"
          ]
        }
      ]
    },
    {
      "cell_type": "code",
      "source": [
        "with open(\"test.py\") as deneme:      ## colon\n",
        "  print(deneme.read())"
      ],
      "metadata": {
        "colab": {
          "base_uri": "https://localhost:8080/"
        },
        "id": "UkxjkLDYUMXn",
        "outputId": "b1ea5492-ee2e-446e-b19e-61fe15d1db2f"
      },
      "execution_count": null,
      "outputs": [
        {
          "output_type": "stream",
          "name": "stdout",
          "text": [
            "print(\"1. satir\")\n",
            "print(\"2. satir\")\n",
            "print(\"3. satir\")\n",
            "print(\"4. satir\")\n",
            "print(\"5. satir\")\n",
            "print(\"hello\")\n",
            "print(\"hello\")\n",
            "print(\"hello\")\n",
            "print(\"hello\")\n"
          ]
        }
      ]
    },
    {
      "cell_type": "code",
      "source": [
        ""
      ],
      "metadata": {
        "id": "R0gppBr_hRy9"
      },
      "execution_count": null,
      "outputs": []
    },
    {
      "cell_type": "code",
      "source": [
        ""
      ],
      "metadata": {
        "id": "Y8gFk3e7hR7d"
      },
      "execution_count": null,
      "outputs": []
    },
    {
      "cell_type": "code",
      "source": [
        "#### Attention:\n",
        "\n",
        "# open(\"test.py\")   komutunda, py'den sonra yada test den önce bosluk olursa\n",
        "# kodumuz calismaz"
      ],
      "metadata": {
        "id": "jKVGouQPUMZU"
      },
      "execution_count": null,
      "outputs": []
    },
    {
      "cell_type": "code",
      "source": [
        "#######################             Sorular"
      ],
      "metadata": {
        "id": "llQtV3gbWfHN"
      },
      "execution_count": null,
      "outputs": []
    },
    {
      "cell_type": "code",
      "source": [
        "## Suppose you have a text file (fishes.txt) stored in the current working directory. \n",
        "# Open this file using the \"utf-8\" as the encoding parameter and \n",
        "# assign it to my_file. Then print the type of my_file.\n",
        "\n",
        "my_file = open(\"test.py\", encoding= \"UTF-8\") \n",
        "\n",
        "print(type(my_file))"
      ],
      "metadata": {
        "id": "TRXCXxpsWfLa",
        "colab": {
          "base_uri": "https://localhost:8080/"
        },
        "outputId": "80688d5b-0be3-48f7-d3c7-1ebfbfa5b7bd"
      },
      "execution_count": null,
      "outputs": [
        {
          "output_type": "stream",
          "name": "stdout",
          "text": [
            "<class '_io.TextIOWrapper'>\n"
          ]
        }
      ]
    },
    {
      "cell_type": "code",
      "source": [
        "# Suppose you have a text file (fishes.txt ) stored in the current working \n",
        "# directory with the following content. Open this file for reading mode \n",
        "# and assign it to my_file. And read the entire file at oncethen close the file.\n",
        "\n",
        "my_file = open(\"fishes.txt\", \"r\")   \n",
        "\n",
        "print(my_file.read()) \n",
        "\n",
        "my_file.close()"
      ],
      "metadata": {
        "id": "AkNI8K00WfOk"
      },
      "execution_count": null,
      "outputs": []
    },
    {
      "cell_type": "code",
      "source": [
        "## Suppose you have a text file (fishes.txt) stored in the current \n",
        "# working directory with the following content. Open this file \n",
        "# for reading mode and assign it to my_file. And read the first \n",
        "# 40 chars of the text then close the file.\n",
        "\n",
        "my_file = open(\"fishes.txt\", \"r\")   \n",
        "\n",
        "print(my_file.read(40)) \n",
        "\n",
        "my_file.close()"
      ],
      "metadata": {
        "id": "0B9AOhirWfSB"
      },
      "execution_count": null,
      "outputs": []
    },
    {
      "cell_type": "code",
      "source": [
        "## Suppose you have a text file (fishes.txt ) stored in the current \n",
        "# working directory with the following content. Open this file \n",
        "# and assign it to my_file. And read the first line of the text then close the file.\n",
        "\n",
        "my_file = open(\"fishes.txt\", 'r')\n",
        "\n",
        "print(my_file.readline())\n",
        "\n",
        "my_file.close()"
      ],
      "metadata": {
        "id": "f2hgIol3WfVL"
      },
      "execution_count": null,
      "outputs": []
    },
    {
      "cell_type": "code",
      "source": [
        "## Suppose you have a text file (fishes.txt ) stored in the \n",
        "# current working directory with the following content. \n",
        "# Open this file and assign it to my_file. And read the first \n",
        "# 9 chars of the first line of the text then close the file.\n",
        "\n",
        "my_file = open(\"fishes.txt\", 'r')   \n",
        "\n",
        "print(my_file.read(9)) \n",
        "\n",
        "my_file.close()"
      ],
      "metadata": {
        "id": "hfVu1M_uWfYJ"
      },
      "execution_count": null,
      "outputs": []
    },
    {
      "cell_type": "code",
      "source": [
        "## Suppose you have a text file (fishes.txt ) stored in the \n",
        "# current working directory with the following content. \n",
        "# Open this file and assign it to my_file. And read the entire file \n",
        "# line by line then close the file.\n",
        "\n",
        "my_file = open(\"fishes.txt\", 'r')   \n",
        "\n",
        "print(my_file.readlines()) \n",
        "\n",
        "my_file.close()"
      ],
      "metadata": {
        "id": "UivmVqLTWfan"
      },
      "execution_count": null,
      "outputs": []
    },
    {
      "cell_type": "code",
      "source": [
        "# Suppose you have a text file (fishes.txt ) stored in the \n",
        "# current working directory with the following content. \n",
        "# Open this file and assign it to my_file. And print entire file \n",
        "# using for loop then close the file.\n",
        "\n",
        "my_file = open(\"fishes.txt\", 'r')   \n",
        "\n",
        "for line in my_file:\n",
        "    print(line)"
      ],
      "metadata": {
        "id": "Jj8LLUJ1WfdL"
      },
      "execution_count": null,
      "outputs": []
    },
    {
      "cell_type": "code",
      "source": [
        "## Match the attributes of mode  parameter with the appropriate characters.\n",
        "\n",
        "## Open for writing. It will append to the end of the file \n",
        "# if it already exists. If there is no file, it will create it. (\"a\")\n",
        "\n",
        "# Open in binary mode.(\"b\")\n",
        "\n",
        "# Open for writing. It will be overwritten if the file already exists. \n",
        "# If there is no file, it will create it. \"w\"\n",
        "\n",
        "## Open as a text file (default). \"t\"\n",
        "\n",
        "# Open for reading (default). If the file doesn't exist, \n",
        "# FileNotFoundError will raise. \"r\""
      ],
      "metadata": {
        "id": "C60o2jVGqaX8"
      },
      "execution_count": null,
      "outputs": []
    },
    {
      "cell_type": "code",
      "source": [
        "## Suppose you have a text file (fishes.txt ) stored in the current working directory \n",
        "# with the following content.\n",
        "\n",
        "\n",
        "# Orca is a kind of Dolphin.\n",
        "# Blue Whale is the largest animal known on earth.\n",
        "# Sharks are the sister group to the Rays (batoids).\n",
        "# The Tuna Fish can weigh up to 260 kg.\n",
        "# Squid and Octopus are in the same class.\n",
        "\n",
        "# What is the output of the following code block?\n",
        "\n",
        "# a = open(\"fishes.txt\", \"r\")             ## not: open func'i bir degiskene atamadan\n",
        "# print(a.read())                         #  direkt olarak \"test.py\".read() yazmak\n",
        "                                          ##  hata verecektir\n",
        "# cevap(Orca is a kind of Dolphin.)"
      ],
      "metadata": {
        "id": "h8kXXH-qowmp"
      },
      "execution_count": null,
      "outputs": []
    },
    {
      "cell_type": "code",
      "source": [
        ""
      ],
      "metadata": {
        "id": "TzfjQR16owqr"
      },
      "execution_count": null,
      "outputs": []
    },
    {
      "cell_type": "code",
      "source": [
        "###################################   Writing Files"
      ],
      "metadata": {
        "id": "weQ0W5B0c_QR"
      },
      "execution_count": null,
      "outputs": []
    },
    {
      "cell_type": "code",
      "source": [
        "######## Writing to File with '.write()' Method"
      ],
      "metadata": {
        "id": "w3KKR00Pc_Sv"
      },
      "execution_count": null,
      "outputs": []
    },
    {
      "cell_type": "code",
      "source": [
        "#### 'w' modu kullanarak bir dosyaya bir metnin üzerine yazabiliriz , \n",
        "# yani her kullandığımızda dosyanın içeriği silinir ve yeni içerik yazılır. \n",
        "# Herhangi bir dosya yoksa, otomatik olarak oluşturulacaktır."
      ],
      "metadata": {
        "id": "bpqCxB7Wc_UX"
      },
      "execution_count": null,
      "outputs": []
    },
    {
      "cell_type": "code",
      "source": [
        "## Dikkat:\n",
        "# Dosyaya yazmayı düşündüğümüz diğer tipteki veriler , \n",
        "# yazma işleminden önce string tipine dönüştürülmelidir"
      ],
      "metadata": {
        "id": "Zj7Jnb6Qc_Yb"
      },
      "execution_count": null,
      "outputs": []
    },
    {
      "cell_type": "code",
      "source": [
        "### simdi bir dosya olusturacagiz ve icerisine yazacagiz:\n",
        "\n",
        "with open(\"yazma.txt\", \"w\", encoding = \"utf-8\") as dosya: # dosya olusturduk, actik \n",
        "    dosya.write(\"Bu bizim ilk satirimizdir\")                # ve degiskene atadik\n",
        "                                                # bu komuttan sonra content klasöründe acildi\n",
        "                                                # ikinci satirdaki kodumuzda da icine yazdik\n",
        "\n",
        "with open(\"yazma.txt\", \"r\") as dosya:\n",
        "  print(dosya.read())\n",
        "\n",
        "## Not: yazma esnasinda with methodu ile actigimiz icin\n",
        "# okuma esnasinda yine dosyayi acmamiz gerekir. cünkü yukarida otomatik kapandi"
      ],
      "metadata": {
        "colab": {
          "base_uri": "https://localhost:8080/"
        },
        "id": "DUhEcjglc_cX",
        "outputId": "1c48752e-f212-46a4-b15b-6cb43318b466"
      },
      "execution_count": null,
      "outputs": [
        {
          "output_type": "stream",
          "name": "stdout",
          "text": [
            "Bu bizim ilk satirimizdir\n"
          ]
        }
      ]
    },
    {
      "cell_type": "code",
      "source": [
        ""
      ],
      "metadata": {
        "id": "_ZyqyfMlkXkb"
      },
      "execution_count": null,
      "outputs": []
    },
    {
      "cell_type": "code",
      "source": [
        ""
      ],
      "metadata": {
        "id": "kpt5gcGikXof"
      },
      "execution_count": null,
      "outputs": []
    },
    {
      "cell_type": "code",
      "source": [
        "## okuma islemini klasik yöntemlede yapabiliriz\n",
        "\n",
        "with open(\"yazma.txt\", \"w\", encoding = \"utf-8\") as dosya:\n",
        "    dosya.write(\"Bu bizim ilk satirimizdir\") \n",
        "\n",
        "okuma = open(\"yazma.txt\", \"r\")\n",
        "\n",
        "print(okuma.read())"
      ],
      "metadata": {
        "colab": {
          "base_uri": "https://localhost:8080/"
        },
        "id": "-xKm377oc_gI",
        "outputId": "ff604346-6417-4a87-aadc-8f6bc02ab891"
      },
      "execution_count": null,
      "outputs": [
        {
          "output_type": "stream",
          "name": "stdout",
          "text": [
            "Bu bizim ilk satirimizdir\n"
          ]
        }
      ]
    },
    {
      "cell_type": "code",
      "source": [
        "### dikkat:\n",
        "\n",
        "# with open(\"yazma.txt\") as b:\n",
        "#   print(\"bu son satir\")             # böyle bir kod olmaz yani print kullanarak\n",
        "                                      ## bu kod sadece print eder dosya icine yazmaz\n",
        "# a = open(\"yazma.txt\")\n",
        "# print(a.read())"
      ],
      "metadata": {
        "id": "bSnPy8EgnEjW"
      },
      "execution_count": null,
      "outputs": []
    },
    {
      "cell_type": "code",
      "source": [
        "## dikkat:\n",
        "\n",
        "with open(\"yazma.txt\", \"w\") as b:       # eger dosya acarken, \"w\" yazmazsak\n",
        "  b.write(\"son satir\")                  # o zaman hata aliriz cünkü dosya writeble \n",
        "                                        #  degil der\n",
        "# a = open(\"yazma.txt\")\n",
        "# print(a.read())"
      ],
      "metadata": {
        "id": "D0nH_3gNk19I"
      },
      "execution_count": null,
      "outputs": []
    },
    {
      "cell_type": "code",
      "source": [
        "###   simdi dosyamiz mevcut ve biz \"w\" ile dosyanin üzerine yazacagiz\n",
        "#     bakalim ne olacak?\n",
        "\n",
        "with open(\"yazma.txt\", \"w\") as dosya:\n",
        "  dosya.write(\"Bu bizim yeni satirimizdir\")\n",
        "\n",
        "okuma = open(\"yazma.txt\", \"r\")\n",
        "print(okuma.read())            ### \"w\" kullandigimiz icin eskisi silindi"
      ],
      "metadata": {
        "colab": {
          "base_uri": "https://localhost:8080/"
        },
        "id": "XVbEe8H0c_iZ",
        "outputId": "4206b4c1-4fd4-4f23-8eda-dc18bb88e518"
      },
      "execution_count": null,
      "outputs": [
        {
          "output_type": "stream",
          "name": "stdout",
          "text": [
            "Bu bizim yeni satirimizdir\n"
          ]
        }
      ]
    },
    {
      "cell_type": "code",
      "source": [
        "## Not:\n",
        "\n",
        "# write yönteminde yazilan tüm stringler pes pese concat yapilir.\n",
        "# o nedenle eger stringler arasinda bosluk vermek istiyorsak\n",
        "# \"\\n\" kullanabiliriz\n",
        "\n",
        "# asagidaki kodumuzun outputuna bakalim"
      ],
      "metadata": {
        "id": "-a99Szhcc_kP"
      },
      "execution_count": null,
      "outputs": []
    },
    {
      "cell_type": "code",
      "source": [
        "with open(\"yazma.txt\", \"w\") as degisken:\n",
        "  degisken.write(\"Birincisatir \\n\")\n",
        "  degisken.write(\"ikincisatir \\n\")\n",
        "  degisken.write(\"ücüncüsatir \\n\")\n",
        "  degisken.write(\"dördüncüsatir\")\n",
        "  degisken.write(\"Besincisatir\")\n",
        "\n",
        "a = open(\"yazma.txt\", \"r\")\n",
        "\n",
        "print(a.read())"
      ],
      "metadata": {
        "colab": {
          "base_uri": "https://localhost:8080/"
        },
        "id": "sEToIaQOc_mW",
        "outputId": "f9493670-8f40-477d-8f8f-67a721a1dbbe"
      },
      "execution_count": null,
      "outputs": [
        {
          "output_type": "stream",
          "name": "stdout",
          "text": [
            "Birincisatir \n",
            "ikincisatir \n",
            "ücüncüsatir \n",
            "dördüncüsatirBesincisatir\n"
          ]
        }
      ]
    },
    {
      "cell_type": "code",
      "source": [
        "## aralara tabi ki baska islemlerde yapabiliriz\n",
        "\n",
        "with open(\"yazma.txt\", \"w\") as degisken:\n",
        "  degisken.write(\"Birincisatir \\t\")\n",
        "  degisken.write(\"ikincisatir \\t\")\n",
        "  degisken.write(\"ücüncüsatir \\t\")\n",
        "  degisken.write(\"dördüncüsatir\")\n",
        "  degisken.write(\"Besincisatir\")\n",
        "\n",
        "a = open(\"yazma.txt\", \"r\")\n",
        "\n",
        "print(a.read())"
      ],
      "metadata": {
        "colab": {
          "base_uri": "https://localhost:8080/"
        },
        "id": "dbwqOJHDs07t",
        "outputId": "9cde3f63-194b-4892-c44f-dfd2d2844bbf"
      },
      "execution_count": null,
      "outputs": [
        {
          "output_type": "stream",
          "name": "stdout",
          "text": [
            "Birincisatir \tikincisatir \tücüncüsatir \tdördüncüsatirBesincisatir\n"
          ]
        }
      ]
    },
    {
      "cell_type": "code",
      "source": [
        "with open(\"yazma.txt\", \"w\") as x:\n",
        "  x.write(\"ben \")\n",
        "  x.write(\"ben \")\n",
        "  x.write(\"ben \")\n",
        "  x.write(\"ben \")\n",
        "\n",
        "y = open(\"yazma.txt\", \"r\")\n",
        "print(y.read())"
      ],
      "metadata": {
        "colab": {
          "base_uri": "https://localhost:8080/"
        },
        "id": "WJJuZg6PoPW7",
        "outputId": "7fa1bb6a-15bf-45f1-acee-670327608557"
      },
      "execution_count": null,
      "outputs": [
        {
          "output_type": "stream",
          "name": "stdout",
          "text": [
            "ben ben ben ben \n"
          ]
        }
      ]
    },
    {
      "cell_type": "code",
      "source": [
        "##  task:\n",
        "\n",
        "# Şimdi, bir meyve isimleri listemiz olduğunu düşünün. \n",
        "# Herbir meyve ismini dosyamiza ayrı ayri satırlarda\n",
        "# olacak sekilde append edelim"
      ],
      "metadata": {
        "id": "cx0vF76h6GiJ"
      },
      "execution_count": null,
      "outputs": []
    },
    {
      "cell_type": "code",
      "source": [
        "fruits = ['Banana', 'Orange', 'Apple', 'Strawberry', 'Cherry']\n",
        "\n",
        "with open(\"meyveler.txt\", \"w\", encoding=\"utf-8\") as meyveler:\n",
        "  for i in fruits:\n",
        "    meyveler.write(i + \"\\n\")\n",
        "\n",
        "print(meyveler)\n",
        "okuma = open(\"meyveler.txt\", \"r\")\n",
        "print(okuma.read())"
      ],
      "metadata": {
        "colab": {
          "base_uri": "https://localhost:8080/"
        },
        "id": "7o2axqmE6Gkc",
        "outputId": "5e737244-0bf5-4c73-c0a9-f63c5a3b4225"
      },
      "execution_count": null,
      "outputs": [
        {
          "output_type": "stream",
          "name": "stdout",
          "text": [
            "<_io.TextIOWrapper name='meyveler.txt' mode='w' encoding='utf-8'>\n",
            "Banana\n",
            "Orange\n",
            "Apple\n",
            "Strawberry\n",
            "Cherry\n",
            "\n"
          ]
        }
      ]
    },
    {
      "cell_type": "code",
      "source": [
        "## write altinda while loop:\n",
        "\n",
        "fruits = [\"elma\", 'Banana', 'Orange', 'Apple', 'Strawberry', 'Cherry']\n",
        "\n",
        "with open(\"meyveler.txt\", \"w\") as meyveler:\n",
        "  count = 0\n",
        "  while True:\n",
        "    meyveler.write(fruits[count] + \"\\n\")\n",
        "    count += 1\n",
        "    if count == 6:\n",
        "      break\n",
        "\n",
        "a = open(\"meyveler.txt\", \"r\")\n",
        "print(a.read())"
      ],
      "metadata": {
        "colab": {
          "base_uri": "https://localhost:8080/"
        },
        "id": "fwzeypF1o26q",
        "outputId": "c1c2f277-2edc-4866-b698-b2af328cd25e"
      },
      "execution_count": null,
      "outputs": [
        {
          "output_type": "stream",
          "name": "stdout",
          "text": [
            "elma\n",
            "Banana\n",
            "Orange\n",
            "Apple\n",
            "Strawberry\n",
            "Cherry\n",
            "\n"
          ]
        }
      ]
    },
    {
      "cell_type": "code",
      "source": [
        ""
      ],
      "metadata": {
        "id": "Y-B5H8wbo29K"
      },
      "execution_count": null,
      "outputs": []
    },
    {
      "cell_type": "code",
      "source": [
        "## burada da liste formatinda okuyalim\n",
        "\n",
        "b = open(\"meyveler.txt\", \"r\")\n",
        "\n",
        "print(b.readlines())"
      ],
      "metadata": {
        "colab": {
          "base_uri": "https://localhost:8080/"
        },
        "id": "lUl-Jwbl6Gmf",
        "outputId": "3cb0cb1a-66d5-44ee-ce1c-4256246ddfbb"
      },
      "execution_count": null,
      "outputs": [
        {
          "output_type": "stream",
          "name": "stdout",
          "text": [
            "['elma\\n', 'Banana\\n', 'Orange\\n', 'Apple\\n', 'Strawberry\\n', 'Cherry\\n']\n"
          ]
        }
      ]
    },
    {
      "cell_type": "code",
      "source": [
        ""
      ],
      "metadata": {
        "id": "5GAIT-b76GoO"
      },
      "execution_count": null,
      "outputs": []
    },
    {
      "cell_type": "code",
      "source": [
        "#############  .writelines() Method :"
      ],
      "metadata": {
        "id": "LjgfCNBG6GqQ"
      },
      "execution_count": null,
      "outputs": []
    },
    {
      "cell_type": "code",
      "source": [
        "# There is another method for writing data\n",
        "#  to the files. It is .writelines() method\n",
        "# Unlike .write() method, .writelines() takes \n",
        "# the iterable sequence of strings and writes them to the file. \n",
        "# The difference between these two methods is just similar to \n",
        "# the logic of difference between .read() and .readlines()."
      ],
      "metadata": {
        "id": "2maLuuvuc_oL"
      },
      "execution_count": null,
      "outputs": []
    },
    {
      "cell_type": "code",
      "source": [
        "# writelines ayni for döngüsü gibi calisir.\n",
        "# icerisine bir iterable alir ve bi iterable'in\n",
        "# elemanlarini teker teker dosyaya atar"
      ],
      "metadata": {
        "id": "LSn9C8XTvf3n"
      },
      "execution_count": null,
      "outputs": []
    },
    {
      "cell_type": "code",
      "source": [
        "# not writelines'a, her bir elemani bir alt satira gecerek yazdirmak icin\n",
        "# her string in sonuna \"\\n\" koymamiz gerekir.\n",
        "\n",
        "# okuma isleminde de readlines yaparken ayni sekilde her bir elemani\n",
        "# bir alt satirda okumak istersek \"\\n\" kullanmamiz gerekir."
      ],
      "metadata": {
        "id": "s4LOGTng8jd4"
      },
      "execution_count": null,
      "outputs": []
    },
    {
      "cell_type": "code",
      "source": [
        "fruits = ['Banana\\n', 'Orange\\n', 'Apple\\n', 'Strawberry\\n', 'Cherry\\n']\n",
        "\n",
        "with open(\"yazma2.txt\", \"w\") as yeni:\n",
        "  yeni.writelines(fruits)\n",
        "\n",
        "a = open(\"yazma2.txt\")\n",
        "print(a.read())\n",
        "\n",
        "a = open(\"yazma2.txt\")\n",
        "print(a.readlines())    # liste seklinde okuma\n"
      ],
      "metadata": {
        "colab": {
          "base_uri": "https://localhost:8080/"
        },
        "id": "ZI25UPiXsvRl",
        "outputId": "55fe5f71-b041-42e2-cd9b-d9f1addb526c"
      },
      "execution_count": null,
      "outputs": [
        {
          "output_type": "stream",
          "name": "stdout",
          "text": [
            "Banana\n",
            "Orange\n",
            "Apple\n",
            "Strawberry\n",
            "Cherry\n",
            "\n",
            "['Banana\\n', 'Orange\\n', 'Apple\\n', 'Strawberry\\n', 'Cherry\\n']\n"
          ]
        }
      ]
    },
    {
      "cell_type": "code",
      "source": [
        "## buradaki iterable tuple da olabilir\n",
        "\n",
        "fruits = ('Banana\\n', 'Orange\\n', 'Apple\\n', 'Strawberry\\n', 'Cherry\\n')\n",
        "\n",
        "with open(\"yazma2.txt\", \"w\") as yeni:\n",
        "  yeni.writelines(fruits)\n",
        "\n",
        "a = open(\"yazma2.txt\")\n",
        "print(a.read())"
      ],
      "metadata": {
        "colab": {
          "base_uri": "https://localhost:8080/"
        },
        "id": "LgqodOLrsvVm",
        "outputId": "8acbcf06-54df-4362-8c7f-25e61e6cbfa0"
      },
      "execution_count": null,
      "outputs": [
        {
          "output_type": "stream",
          "name": "stdout",
          "text": [
            "Banana\n",
            "Orange\n",
            "Apple\n",
            "Strawberry\n",
            "Cherry\n",
            "\n"
          ]
        }
      ]
    },
    {
      "cell_type": "code",
      "source": [
        "## Önemli: writelines methodunun icerisine yazdigimiz iterable'in elemanlari \n",
        "# string olmalidir.  Bu nedenle fruits.items dersek dict'in itemlarini tuple\n",
        "# olarak alacagindan bunu kabul etmez. Burada neden kabul etti? cünkü\n",
        "# dict'in key lerini teker teker string olarak aldi\n",
        "\n",
        "fruits = {'Banana \\n' : 'Orange', 'Apple' : 'Strawberry'}  #  dictionary\n",
        "\n",
        "with open(\"yazma2.txt\", \"w\") as yeni:\n",
        "  yeni.writelines(fruits)\n",
        "\n",
        "a = open(\"yazma2.txt\")\n",
        "print(a.read())"
      ],
      "metadata": {
        "colab": {
          "base_uri": "https://localhost:8080/"
        },
        "id": "KwWejhk2svZW",
        "outputId": "8f5ba4c9-859e-46d6-fc2d-816414f6f5d4"
      },
      "execution_count": null,
      "outputs": [
        {
          "output_type": "stream",
          "name": "stdout",
          "text": [
            "Banana \n",
            "Apple\n"
          ]
        }
      ]
    },
    {
      "cell_type": "code",
      "source": [
        "## setler ile kullanim:\n",
        "## set oldugu icin siralama farkli olacaktir\n",
        "\n",
        "fruits = {'Banana \\n', 'Orange \\n', 'Apple \\n', 'Strawberry \\n'}  \n",
        "\n",
        "with open(\"yazma2.txt\", \"w\") as yeni:\n",
        "  yeni.writelines(fruits)\n",
        "\n",
        "a = open(\"yazma2.txt\")\n",
        "print(a.read())"
      ],
      "metadata": {
        "colab": {
          "base_uri": "https://localhost:8080/"
        },
        "id": "bmwRrjw5svdn",
        "outputId": "ac68f67f-fc7c-4f65-e5c1-e6d53da3a142"
      },
      "execution_count": null,
      "outputs": [
        {
          "output_type": "stream",
          "name": "stdout",
          "text": [
            "Strawberry \n",
            "Apple \n",
            "Banana \n",
            "Orange \n",
            "\n"
          ]
        }
      ]
    },
    {
      "cell_type": "code",
      "source": [
        "## task:\n",
        "# file.txt dosyamizin icerisine 5 adet meyve ismi yazalim\n",
        "\n",
        "# öncelikle bu verileri liste seklinde okuyalim ve daha sonra\n",
        "# her bir string den sonra bir satir asagi inecek sekilde \n",
        "# verileri yeniden dosyamiza atalim ve output alalim.\n",
        "\n",
        "with open(\"file.txt\", \"w\") as dosya:\n",
        "  dosya.write(\"banana \\n\")\n",
        "  dosya.write(\"elma \\n\")\n",
        "  dosya.write(\"armut \\n\")\n",
        "  dosya.write(\"kiraz \\n\")\n",
        "  dosya.write(\"cilek \\n\")\n",
        "\n",
        "with open(\"file.txt\", \"r\") as dosya:    # dikkat liste icerisinde for loop yapacagiz\n",
        "  degisken = dosya.readlines()    # readlines 'in tek tek ayirmasi icin yukarida \"\\n\" kullandik \n",
        "print(degisken)     ## su an ki durumunu görmek icin cikti aliyoruz\n",
        "\n",
        "with open(\"file.txt\", \"w\") as dosya:\n",
        "   for i in degisken:\n",
        "     dosya.write(i)\n",
        "\n",
        "a = open(\"file.txt\")     \n",
        "print(a.read())\n"
      ],
      "metadata": {
        "colab": {
          "base_uri": "https://localhost:8080/"
        },
        "id": "NOamk1OrsvgP",
        "outputId": "df16d19b-3bd6-43aa-f64a-b1889cf1e97b"
      },
      "execution_count": null,
      "outputs": [
        {
          "output_type": "stream",
          "name": "stdout",
          "text": [
            "['banana \\n', 'elma \\n', 'armut \\n', 'kiraz \\n', 'cilek \\n']\n",
            "banana \n",
            "elma \n",
            "armut \n",
            "kiraz \n",
            "cilek \n",
            "\n"
          ]
        }
      ]
    },
    {
      "cell_type": "code",
      "source": [
        ""
      ],
      "metadata": {
        "id": "sj_x-M_ysviX"
      },
      "execution_count": null,
      "outputs": []
    },
    {
      "cell_type": "code",
      "source": [
        "###################  Appending to File using 'a' Mode"
      ],
      "metadata": {
        "id": "pyKN9K-FsvkO"
      },
      "execution_count": null,
      "outputs": []
    },
    {
      "cell_type": "code",
      "source": [
        "## Önceki yazma modundan ( 'w') farklı olarak, çoğu durumda bir dosyaya \n",
        "## yeni içerik eklemek istediğimizde, mevcut içeriğin silinmesi istenmez. \n",
        "## Bu nedenle hem dosyanın mevcut içeriğini tutan hem de yeni içeriği \n",
        "## dosyanın devamına kaydeden başka bir moda ihtiyaç vardır. \n",
        "## Python'da bu ihtiyacı append anlamına gelen \"a\" mod ile karşılıyoruz ."
      ],
      "metadata": {
        "id": "yyTWedLcsvmH"
      },
      "execution_count": null,
      "outputs": []
    },
    {
      "cell_type": "code",
      "source": [
        "## peki append islemini nasil yapiyoruz?\n",
        "\n",
        "# asagida bulunan listemize son eleman olarak yeni bir\n",
        "# meyve ismi ekleyelim:\n",
        "\n",
        "fruits = ['Banana\\n', 'Orange\\n', 'Apple\\n', 'Strawberry\\n', 'Cherry\\n']\n",
        "\n",
        "with open(\"amode.txt\", \"w\") as yeni:\n",
        "  yeni.writelines(fruits)\n",
        "\n",
        "with open(\"amode.txt\", \"r\") as yeni:\n",
        "  print(yeni.read())\n",
        "\n",
        "with open(\"amode.txt\", \"a\") as yeni:\n",
        "  yeni.write(\"kavun \\n\")\n",
        "  yeni.write(\"ayva\")\n",
        "\n",
        "with open(\"amode.txt\", \"r\") as yeni:\n",
        "  print(yeni.read())\n",
        "\n",
        "with open(\"amode.txt\", \"r\") as yeni:\n",
        "  print(yeni.readlines())    ## burada da liste olarak okuyalim"
      ],
      "metadata": {
        "colab": {
          "base_uri": "https://localhost:8080/"
        },
        "id": "MTJhMBxWsvpZ",
        "outputId": "3bc63376-c441-4bfa-a024-f34750f247f3"
      },
      "execution_count": null,
      "outputs": [
        {
          "output_type": "stream",
          "name": "stdout",
          "text": [
            "Banana\n",
            "Orange\n",
            "Apple\n",
            "Strawberry\n",
            "Cherry\n",
            "\n",
            "Banana\n",
            "Orange\n",
            "Apple\n",
            "Strawberry\n",
            "Cherry\n",
            "kavun \n",
            "ayva\n",
            "['Banana\\n', 'Orange\\n', 'Apple\\n', 'Strawberry\\n', 'Cherry\\n', 'kavun \\n', 'ayva']\n"
          ]
        }
      ]
    },
    {
      "cell_type": "code",
      "source": [
        "## task :\n",
        "\n",
        "## Suppose you have already created a text file (new_file.txt ) \n",
        "# that contains the following items. \n",
        "# (We've created this file and this part is pre-loaded for you)\n",
        "# red\n",
        "# green\n",
        "# yellow\n",
        "# white\n",
        "# black\n",
        "\n",
        "colors = ['red', 'green', 'yellow', 'white', 'black']\n",
        "\n",
        "with open(\"new_file.txt\", 'w', encoding=\"utf-8\") as file:\n",
        "    for i in colors:\n",
        "        file.write(i + '\\n')  # we create \"new_file.txt\" for you \n",
        "        \n",
        "with open(\"new_file.txt\", \"a\") as file:\n",
        "    file.write(\"blue\")  # add \"blue\" to the end of the text\n",
        "\n",
        "\n",
        "with open(\"new_file.txt\", \"r\") as okuma:\n",
        "  print(okuma.read())"
      ],
      "metadata": {
        "colab": {
          "base_uri": "https://localhost:8080/"
        },
        "id": "jKRr_m-85iTG",
        "outputId": "bd86f64d-fc1e-441d-866a-452205cc8281"
      },
      "execution_count": null,
      "outputs": [
        {
          "output_type": "stream",
          "name": "stdout",
          "text": [
            "red\n",
            "green\n",
            "yellow\n",
            "white\n",
            "black\n",
            "blue\n"
          ]
        }
      ]
    },
    {
      "cell_type": "code",
      "source": [
        ""
      ],
      "metadata": {
        "id": "qzC34s_d88Kq"
      },
      "execution_count": null,
      "outputs": []
    },
    {
      "cell_type": "code",
      "source": [
        "########################################################\n",
        "\n",
        "# 1. ders tekrari:"
      ],
      "metadata": {
        "id": "qkS8QGSF88NO"
      },
      "execution_count": null,
      "outputs": []
    },
    {
      "cell_type": "code",
      "source": [
        "## text tabanli dosyalar:\n",
        "\n",
        "# txt (microsoft)\n",
        "# plain text (apple)\n",
        "# csv (comma seperated valeu(virdüller ile ayrilmis degerler))\n",
        "# json\n",
        "# tsv\n",
        "# tab seperated value\n",
        "# xml"
      ],
      "metadata": {
        "id": "P5m1rYUL88Px"
      },
      "execution_count": null,
      "outputs": []
    },
    {
      "cell_type": "code",
      "source": [
        "## open function:\n",
        "\n",
        "open(file, mode = \"r\", buffering = -1)"
      ],
      "metadata": {
        "id": "ZxI3x6wv88Sx"
      },
      "execution_count": null,
      "outputs": []
    },
    {
      "cell_type": "code",
      "source": [
        "# file, dosya yolunu yazdirmamizi saglar.\n",
        "# yani o anda dosyamiz nerede"
      ],
      "metadata": {
        "id": "P3TePo7Y88VQ"
      },
      "execution_count": null,
      "outputs": []
    },
    {
      "cell_type": "code",
      "source": [
        "import os   ## bu bizim dosya islemlerinde kullanacagimiz bir modül\n",
        "\n",
        "dosya_icerigi = os.listdir()\n",
        "dosya_icerigi   # bu komutla, su and aicerisinde bulundugumuz current directory nin icerigini listeler\n",
        "                # colab de ise content in icerigini listeler"
      ],
      "metadata": {
        "id": "8okHoRMq88YU",
        "colab": {
          "base_uri": "https://localhost:8080/"
        },
        "outputId": "46d3fa55-b0c1-4104-fa6c-7c867b49fe14"
      },
      "execution_count": 3,
      "outputs": [
        {
          "output_type": "execute_result",
          "data": {
            "text/plain": [
              "['.config', 'sample_data']"
            ]
          },
          "metadata": {},
          "execution_count": 3
        }
      ]
    },
    {
      "cell_type": "code",
      "source": [
        "import shutil             ## bir tane klasör(directory) olusturuyoruz\n",
        "                          # daha sonra asgidaki gibi yazarak zip leme yapiyoruz\n",
        "shutil.make_archive(\"tarik\", \"zip\")    # bu koddan sonra, ilk yazdigimiz klasör adinda\n",
        "                                                # zip li bir dosya olusturuyor. Dikkat:\n",
        "                                                # yeni olusan sey dosya olur"
      ],
      "metadata": {
        "id": "izMY8QGb88bV",
        "colab": {
          "base_uri": "https://localhost:8080/",
          "height": 36
        },
        "outputId": "570cc010-ca80-484e-92e4-f82b81aae95c"
      },
      "execution_count": 11,
      "outputs": [
        {
          "output_type": "execute_result",
          "data": {
            "application/vnd.google.colaboratory.intrinsic+json": {
              "type": "string"
            },
            "text/plain": [
              "'tarik.zip'"
            ]
          },
          "metadata": {},
          "execution_count": 11
        }
      ]
    },
    {
      "cell_type": "code",
      "source": [
        "shutil.make_archive()"
      ],
      "metadata": {
        "id": "FnrNtXyw88dn"
      },
      "execution_count": 6,
      "outputs": []
    },
    {
      "cell_type": "code",
      "source": [
        ""
      ],
      "metadata": {
        "id": "oT_DQMoGRcZc"
      },
      "execution_count": null,
      "outputs": []
    },
    {
      "cell_type": "code",
      "source": [
        ""
      ],
      "metadata": {
        "id": "Dz_zWE4BRceV"
      },
      "execution_count": null,
      "outputs": []
    },
    {
      "cell_type": "code",
      "source": [
        ""
      ],
      "metadata": {
        "id": "jeArI4RyRcgz"
      },
      "execution_count": null,
      "outputs": []
    },
    {
      "cell_type": "code",
      "source": [
        ""
      ],
      "metadata": {
        "id": "YzR4E_3GRckX"
      },
      "execution_count": null,
      "outputs": []
    },
    {
      "cell_type": "code",
      "source": [
        ""
      ],
      "metadata": {
        "id": "7uCLkEtw88fh"
      },
      "execution_count": null,
      "outputs": []
    },
    {
      "cell_type": "code",
      "source": [
        ""
      ],
      "metadata": {
        "id": "KMVjpOix5iVs"
      },
      "execution_count": null,
      "outputs": []
    },
    {
      "cell_type": "code",
      "source": [
        ""
      ],
      "metadata": {
        "id": "Q490-hPJ5iZF"
      },
      "execution_count": null,
      "outputs": []
    },
    {
      "cell_type": "code",
      "source": [
        ""
      ],
      "metadata": {
        "id": "hMQ-IWLh5icZ"
      },
      "execution_count": null,
      "outputs": []
    },
    {
      "cell_type": "code",
      "source": [
        ""
      ],
      "metadata": {
        "id": "y5XOe9V95ie1"
      },
      "execution_count": null,
      "outputs": []
    },
    {
      "cell_type": "code",
      "source": [
        ""
      ],
      "metadata": {
        "id": "v_CVvDtn5igm"
      },
      "execution_count": null,
      "outputs": []
    },
    {
      "cell_type": "code",
      "source": [
        ""
      ],
      "metadata": {
        "id": "Boor06MJ5iiW"
      },
      "execution_count": null,
      "outputs": []
    },
    {
      "cell_type": "code",
      "source": [
        ""
      ],
      "metadata": {
        "id": "7GPpVOoW5ikh"
      },
      "execution_count": null,
      "outputs": []
    },
    {
      "cell_type": "code",
      "source": [
        ""
      ],
      "metadata": {
        "id": "uy5mELvz5imW"
      },
      "execution_count": null,
      "outputs": []
    },
    {
      "cell_type": "code",
      "source": [
        ""
      ],
      "metadata": {
        "id": "bR52teVAsvrF"
      },
      "execution_count": null,
      "outputs": []
    },
    {
      "cell_type": "code",
      "source": [
        ""
      ],
      "metadata": {
        "id": "ywiW7SjusvtL"
      },
      "execution_count": null,
      "outputs": []
    },
    {
      "cell_type": "code",
      "source": [
        "## ders esnasinda:\n"
      ],
      "metadata": {
        "id": "gBFwq0Bsc_qO"
      },
      "execution_count": null,
      "outputs": []
    },
    {
      "cell_type": "code",
      "source": [
        "import os\n",
        "\n",
        "dosya_icerigi = os.listdir()\n",
        "dosya_icerigi\n",
        "\n",
        "# bu komut current directory icerigi yazdirir"
      ],
      "metadata": {
        "colab": {
          "base_uri": "https://localhost:8080/"
        },
        "id": "pQOdkMqPjE-Z",
        "outputId": "d1731c01-5208-433e-83e8-9213c966d5c4"
      },
      "execution_count": null,
      "outputs": [
        {
          "output_type": "execute_result",
          "data": {
            "text/plain": [
              "['.config',\n",
              " 'yazma.txt',\n",
              " 'meyveler.txt',\n",
              " '.ipynb_checkpoints',\n",
              " 'test.py',\n",
              " 'sample_data']"
            ]
          },
          "metadata": {},
          "execution_count": 71
        }
      ]
    },
    {
      "cell_type": "code",
      "source": [
        "import shutil\n",
        "shutil.make_archive(\"tarik\", \"zip\", \"cavit\")  # klasör ziplenir\n",
        "\n"
      ],
      "metadata": {
        "colab": {
          "base_uri": "https://localhost:8080/",
          "height": 36
        },
        "id": "Cy1ewRRhjFAb",
        "outputId": "16b4dc60-afc1-4dab-f74d-7dc1d9b92fb9"
      },
      "execution_count": null,
      "outputs": [
        {
          "output_type": "execute_result",
          "data": {
            "application/vnd.google.colaboratory.intrinsic+json": {
              "type": "string"
            },
            "text/plain": [
              "'/content/tarik.zip'"
            ]
          },
          "metadata": {},
          "execution_count": 8
        }
      ]
    },
    {
      "cell_type": "code",
      "source": [
        ""
      ],
      "metadata": {
        "id": "eZu7BeRqjFCX"
      },
      "execution_count": null,
      "outputs": []
    },
    {
      "cell_type": "code",
      "source": [
        ""
      ],
      "metadata": {
        "id": "hGIyKyO9jFEW"
      },
      "execution_count": null,
      "outputs": []
    },
    {
      "cell_type": "code",
      "source": [
        "\n",
        "##2.  ders esnasi"
      ],
      "metadata": {
        "id": "8SQDRAvmjFGJ"
      },
      "execution_count": null,
      "outputs": []
    },
    {
      "cell_type": "code",
      "source": [
        "file = open(\"fishes.txt\", \"r\", encoding=\"UTF-8\")\n",
        "content = file.read()\n",
        "content\n",
        "file.close()\n"
      ],
      "metadata": {
        "id": "wPXO7IClc1Hq"
      },
      "execution_count": null,
      "outputs": []
    },
    {
      "cell_type": "code",
      "source": [
        "content"
      ],
      "metadata": {
        "colab": {
          "base_uri": "https://localhost:8080/",
          "height": 53
        },
        "id": "0o8p11Udc1Jj",
        "outputId": "4b522650-b4f0-406b-8953-e44908a2f11f"
      },
      "execution_count": null,
      "outputs": [
        {
          "output_type": "execute_result",
          "data": {
            "application/vnd.google.colaboratory.intrinsic+json": {
              "type": "string"
            },
            "text/plain": [
              "'Orca is a kind of Dolphin.\\nBlue Whale is the largest animal known on earth.\\nSharks are the sister group to the Rays (batoids).\\nThe Tuna Fish can weigh up to 260 kg.\\nSquid and Octopus are in the same class.'"
            ]
          },
          "metadata": {},
          "execution_count": 10
        }
      ]
    },
    {
      "cell_type": "code",
      "source": [
        "file = open(\"fishes.txt\", \"r\", encoding=\"UTF-8\")\n",
        "print(file.read(33))\n",
        "print(file.read(33)) ## ikinci print oldugu icin alt satira gecer\n",
        "\n",
        "file.seek(0)   #kurzer basa alinir\n",
        "print(file.read(33))\n",
        "print(file.tell())\n",
        "# \"\\n\" karakteri de yani enter da sayilir"
      ],
      "metadata": {
        "colab": {
          "base_uri": "https://localhost:8080/"
        },
        "id": "NJCgAKcDc1Lh",
        "outputId": "5ba0f4b5-0aeb-4df1-f1c4-d2f39bc98407"
      },
      "execution_count": null,
      "outputs": [
        {
          "output_type": "stream",
          "name": "stdout",
          "text": [
            "Orca is a kind of Dolphin.\n",
            "Blue W\n",
            "hale is the largest animal known \n",
            "Orca is a kind of Dolphin.\n",
            "Blue W\n",
            "34\n"
          ]
        }
      ]
    },
    {
      "cell_type": "code",
      "source": [
        "dosya = open(\"fishes.txt\",\"r\", encoding=\"UTF-8\")\n",
        "text = dosya.read()\n",
        "print(len(text))\n",
        "print(text[:33])"
      ],
      "metadata": {
        "colab": {
          "base_uri": "https://localhost:8080/"
        },
        "id": "BXeV4P-Kc1Nt",
        "outputId": "80167639-784e-4b68-c624-532bfd9e37bd"
      },
      "execution_count": null,
      "outputs": [
        {
          "output_type": "stream",
          "name": "stdout",
          "text": [
            "205\n",
            "Orca is a kind of Dolphin.\n",
            "Blue W\n"
          ]
        }
      ]
    },
    {
      "cell_type": "code",
      "source": [
        "file = open(\"fishes.txt\", \"r\", encoding=\"UTF-8\")\n",
        "print(file.read(33))\n",
        "print(file.read(15)) ## ikinci print oldugu icin alt satira gecer\n",
        "\n",
        "print(file.tell())\n",
        "file.seek(0)  \n",
        "\n",
        "print(file.read(33))\n",
        "print(file.tell())\n",
        "\n",
        "file.close()"
      ],
      "metadata": {
        "colab": {
          "base_uri": "https://localhost:8080/"
        },
        "id": "e4i46uMthf1o",
        "outputId": "11d18344-37c5-4db0-9c6d-01374d8a0ee5"
      },
      "execution_count": null,
      "outputs": [
        {
          "output_type": "stream",
          "name": "stdout",
          "text": [
            "Orca is a kind of Dolphin.\n",
            "Blue W\n",
            "hale is the lar\n",
            "49\n",
            "Orca is a kind of Dolphin.\n",
            "Blue W\n",
            "34\n"
          ]
        }
      ]
    },
    {
      "cell_type": "code",
      "source": [
        "text = open(\"text.txt\", \"r\")\n",
        "print(text.read())"
      ],
      "metadata": {
        "colab": {
          "base_uri": "https://localhost:8080/"
        },
        "id": "QZ6tuaC1hf3y",
        "outputId": "1b45988b-5e28-4bfc-ed91-4e5f9a1d2b90"
      },
      "execution_count": null,
      "outputs": [
        {
          "output_type": "stream",
          "name": "stdout",
          "text": [
            "I want to sing\n",
            "Like the birds sing,\n",
            "Not worrying about\n",
            "Who hears or\n",
            "What they think.\n"
          ]
        }
      ]
    },
    {
      "cell_type": "code",
      "source": [
        "rumi = open(\"text.txt\", \"r\")\n",
        "print(rumi.read(35))\n",
        "print(rumi.read(13))"
      ],
      "metadata": {
        "colab": {
          "base_uri": "https://localhost:8080/"
        },
        "id": "nz_jGInzj3VZ",
        "outputId": "1a362c60-21e9-4a48-ab43-3b7c212e64a8"
      },
      "execution_count": null,
      "outputs": [
        {
          "output_type": "stream",
          "name": "stdout",
          "text": [
            "I want to sing\n",
            "Like the birds sing,\n",
            "\n",
            "Not worrying\n"
          ]
        }
      ]
    },
    {
      "cell_type": "code",
      "source": [
        "rumi = open(\"text.txt\", \"r\")\n",
        "print(rumi.read(35))\n",
        "print(rumi.read(13))\n",
        "print(rumi.tell())\n",
        "\n",
        "rumi.seek(15)\n",
        "print(rumi.read(21))\n",
        "\n",
        "rumi.close()"
      ],
      "metadata": {
        "colab": {
          "base_uri": "https://localhost:8080/"
        },
        "id": "l3sAjjZ8j3Yn",
        "outputId": "4c2244c8-c54d-4ea3-b3e1-a85e71afac80"
      },
      "execution_count": null,
      "outputs": [
        {
          "output_type": "stream",
          "name": "stdout",
          "text": [
            "I want to sing\n",
            "Like the birds sing,\n",
            "\n",
            "Not worrying\n",
            "50\n",
            "\n",
            "Like the birds sing,\n"
          ]
        }
      ]
    },
    {
      "cell_type": "code",
      "source": [
        "rumi = open(\"text.txt\", \"r\")\n",
        "print(rumi.readline(), rumi.readline())\n"
      ],
      "metadata": {
        "colab": {
          "base_uri": "https://localhost:8080/"
        },
        "id": "V_qSdX4nj3b-",
        "outputId": "05ac45a3-6179-42f5-a391-9b6d202fda1a"
      },
      "execution_count": null,
      "outputs": [
        {
          "output_type": "stream",
          "name": "stdout",
          "text": [
            "I want to sing\n",
            " Like the birds sing,\n",
            "\n"
          ]
        }
      ]
    },
    {
      "cell_type": "code",
      "source": [
        "rumi = open(\"text.txt\", \"r\")\n",
        "print(rumi.readline())\n",
        "print(rumi.readline())"
      ],
      "metadata": {
        "colab": {
          "base_uri": "https://localhost:8080/"
        },
        "id": "fCvylzaWj3fk",
        "outputId": "f45630e7-7efb-446a-b6b0-1bf76551fc7b"
      },
      "execution_count": null,
      "outputs": [
        {
          "output_type": "stream",
          "name": "stdout",
          "text": [
            "I want to sing\n",
            "\n",
            "Like the birds sing,\n",
            "\n"
          ]
        }
      ]
    },
    {
      "cell_type": "code",
      "source": [
        "sea = open(\"fishes.txt\", \"r\")\n",
        "\n",
        "print(sea.readline(13))\n",
        "print(sea.readline(13))\n",
        "print(sea.readline(13)) # bu ilk satirin sonunda kalan bosluk karakterini bastirir\n",
        "print(sea.readline(13)) # yani ilk satiri 3 kod da okuttuk"
      ],
      "metadata": {
        "colab": {
          "base_uri": "https://localhost:8080/"
        },
        "id": "FSujxb6fj3h-",
        "outputId": "924d77de-e3f1-4e35-e84f-97a1b90f5839"
      },
      "execution_count": null,
      "outputs": [
        {
          "output_type": "stream",
          "name": "stdout",
          "text": [
            "Orca is a kin\n",
            "d of Dolphin.\n",
            "\n",
            "\n",
            "Blue Whale is\n"
          ]
        }
      ]
    },
    {
      "cell_type": "code",
      "source": [
        "sea = open(\"fishes.txt\", \"r\")\n",
        "\n",
        "part1 = sea.readline(13)\n",
        "part2 = sea.readline(13)\n",
        "part3 = sea.readline(13)\n",
        "part4 = sea.readline(13)"
      ],
      "metadata": {
        "id": "OzWB7NkQj3jk"
      },
      "execution_count": null,
      "outputs": []
    },
    {
      "cell_type": "code",
      "source": [
        "part1"
      ],
      "metadata": {
        "colab": {
          "base_uri": "https://localhost:8080/",
          "height": 36
        },
        "id": "tuzdfLfIj3l5",
        "outputId": "90d3ec28-ac0d-4c23-e33a-5ec756bce830"
      },
      "execution_count": null,
      "outputs": [
        {
          "output_type": "execute_result",
          "data": {
            "application/vnd.google.colaboratory.intrinsic+json": {
              "type": "string"
            },
            "text/plain": [
              "'Orca is a kin'"
            ]
          },
          "metadata": {},
          "execution_count": 35
        }
      ]
    },
    {
      "cell_type": "code",
      "source": [
        "part2"
      ],
      "metadata": {
        "colab": {
          "base_uri": "https://localhost:8080/",
          "height": 36
        },
        "id": "e4dNu_tGj3n9",
        "outputId": "56299101-77d9-4322-d93b-b2eda90261bb"
      },
      "execution_count": null,
      "outputs": [
        {
          "output_type": "execute_result",
          "data": {
            "application/vnd.google.colaboratory.intrinsic+json": {
              "type": "string"
            },
            "text/plain": [
              "'d of Dolphin.'"
            ]
          },
          "metadata": {},
          "execution_count": 36
        }
      ]
    },
    {
      "cell_type": "code",
      "source": [
        "part3  ####  Dikkat "
      ],
      "metadata": {
        "colab": {
          "base_uri": "https://localhost:8080/",
          "height": 36
        },
        "id": "y2tPzlvzhf5t",
        "outputId": "ec33dadc-5625-4983-d4f1-25df1abcfc3a"
      },
      "execution_count": null,
      "outputs": [
        {
          "output_type": "execute_result",
          "data": {
            "application/vnd.google.colaboratory.intrinsic+json": {
              "type": "string"
            },
            "text/plain": [
              "'\\n'"
            ]
          },
          "metadata": {},
          "execution_count": 37
        }
      ]
    },
    {
      "cell_type": "code",
      "source": [
        "print(part3)  "
      ],
      "metadata": {
        "colab": {
          "base_uri": "https://localhost:8080/"
        },
        "id": "VT4f3A7Xt-PH",
        "outputId": "d4528861-e7a1-44a7-808e-130a9a9aad19"
      },
      "execution_count": null,
      "outputs": [
        {
          "output_type": "stream",
          "name": "stdout",
          "text": [
            "\n",
            "\n"
          ]
        }
      ]
    },
    {
      "cell_type": "code",
      "source": [
        "part4"
      ],
      "metadata": {
        "colab": {
          "base_uri": "https://localhost:8080/",
          "height": 36
        },
        "id": "nzLo58Inhf8F",
        "outputId": "1e3148da-6892-4894-ff9e-2606b4991dd7"
      },
      "execution_count": null,
      "outputs": [
        {
          "output_type": "execute_result",
          "data": {
            "application/vnd.google.colaboratory.intrinsic+json": {
              "type": "string"
            },
            "text/plain": [
              "'Blue Whale is'"
            ]
          },
          "metadata": {},
          "execution_count": 38
        }
      ]
    },
    {
      "cell_type": "code",
      "source": [
        "firstline = part1 + part2 + part3\n",
        "firstline"
      ],
      "metadata": {
        "colab": {
          "base_uri": "https://localhost:8080/",
          "height": 36
        },
        "id": "LiRDj9D5hf-C",
        "outputId": "271f7f8b-97c7-484d-f35f-21f7d15d3c87"
      },
      "execution_count": null,
      "outputs": [
        {
          "output_type": "execute_result",
          "data": {
            "application/vnd.google.colaboratory.intrinsic+json": {
              "type": "string"
            },
            "text/plain": [
              "'Orca is a kind of Dolphin.\\n'"
            ]
          },
          "metadata": {},
          "execution_count": 40
        }
      ]
    },
    {
      "cell_type": "code",
      "source": [
        "rumi = open(\"text.txt\", \"r\")\n",
        "print(rumi.readline())\n",
        "print(rumi.readline())\n",
        "print(rumi.readline(1000))  # alt satira gecmiyor\n",
        "                            # readline bulundugu satirda kalir\n",
        "                            # ikinci bir satira gecmek icin yeni bir readline"
      ],
      "metadata": {
        "colab": {
          "base_uri": "https://localhost:8080/"
        },
        "id": "TNATKUlLc1RL",
        "outputId": "ab3294a9-0e55-45e0-ce67-397c1cd525db"
      },
      "execution_count": null,
      "outputs": [
        {
          "output_type": "stream",
          "name": "stdout",
          "text": [
            "I want to sing\n",
            "\n",
            "Like the birds sing,\n",
            "\n",
            "Not worrying about\n",
            "\n"
          ]
        }
      ]
    },
    {
      "cell_type": "code",
      "source": [
        "sea = open(\"fishes.txt\", \"r\")\n",
        "print(sea.readlines())"
      ],
      "metadata": {
        "colab": {
          "base_uri": "https://localhost:8080/"
        },
        "id": "OdMTMXWpupoM",
        "outputId": "5d9aa31c-afbf-449c-cc12-6a3ae029d004"
      },
      "execution_count": null,
      "outputs": [
        {
          "output_type": "stream",
          "name": "stdout",
          "text": [
            "['Orca is a kind of Dolphin.\\n', 'Blue Whale is the largest animal known on earth.\\n', 'Sharks are the sister group to the Rays (batoids).\\n', 'The Tuna Fish can weigh up to 260 kg.\\n', 'Squid and Octopus are in the same class.']\n"
          ]
        }
      ]
    },
    {
      "cell_type": "code",
      "source": [
        "with open(\"fishes.txt\", \"r\") as file:\n",
        "  fish = file.readlines()\n",
        "\n",
        "for i in fish:\n",
        "  print(i)"
      ],
      "metadata": {
        "colab": {
          "base_uri": "https://localhost:8080/"
        },
        "id": "tMNIQGYUuptT",
        "outputId": "9c0c343c-6d3b-4f71-a674-9d333eca2ef4"
      },
      "execution_count": null,
      "outputs": [
        {
          "output_type": "stream",
          "name": "stdout",
          "text": [
            "Orca is a kind of Dolphin.\n",
            "\n",
            "Blue Whale is the largest animal known on earth.\n",
            "\n",
            "Sharks are the sister group to the Rays (batoids).\n",
            "\n",
            "The Tuna Fish can weigh up to 260 kg.\n",
            "\n",
            "Squid and Octopus are in the same class.\n"
          ]
        }
      ]
    },
    {
      "cell_type": "code",
      "source": [
        "with open(\"text.txt\", \"r\") as file:\n",
        "  rumi = file.readlines()\n",
        "rumi\n"
      ],
      "metadata": {
        "colab": {
          "base_uri": "https://localhost:8080/"
        },
        "id": "QNYzfnVTupxx",
        "outputId": "2656372e-9fb1-4770-8236-8adcb547544c"
      },
      "execution_count": null,
      "outputs": [
        {
          "output_type": "execute_result",
          "data": {
            "text/plain": [
              "['I want to sing\\n',\n",
              " 'Like the birds sing,\\n',\n",
              " 'Not worrying about\\n',\n",
              " 'Who hears or\\n',\n",
              " 'What they think.']"
            ]
          },
          "metadata": {},
          "execution_count": 55
        }
      ]
    },
    {
      "cell_type": "code",
      "source": [
        "with open(\"text.txt\", \"r\") as file:\n",
        "  for i in file:\n",
        "    print(i)"
      ],
      "metadata": {
        "colab": {
          "base_uri": "https://localhost:8080/"
        },
        "id": "wo8SZDX0up13",
        "outputId": "c1bfb409-3a4c-4283-b78a-371cd9989332"
      },
      "execution_count": null,
      "outputs": [
        {
          "output_type": "stream",
          "name": "stdout",
          "text": [
            "I want to sing\n",
            "\n",
            "Like the birds sing,\n",
            "\n",
            "Not worrying about\n",
            "\n",
            "Who hears or\n",
            "\n",
            "What they think.\n"
          ]
        }
      ]
    },
    {
      "cell_type": "code",
      "source": [
        ""
      ],
      "metadata": {
        "id": "MeYsNN6S3tw1"
      },
      "execution_count": null,
      "outputs": []
    },
    {
      "cell_type": "code",
      "source": [
        "with open(\"dummy_file.txt\", 'w', encoding=\"utf-8\") as file:  \n",
        "# we create and open the file\n",
        "\n",
        "    file.write('This is the first line of my text file')  \n",
        "    # writes str data into file\n",
        "\n",
        "with open(\"dummy_file.txt\", 'r', encoding=\"utf-8\") as file:\n",
        "    print(file.read())  # reads the content of the 'dummy_file'"
      ],
      "metadata": {
        "colab": {
          "base_uri": "https://localhost:8080/"
        },
        "id": "1FoTFsLwup5h",
        "outputId": "f5d3b62b-f81b-44d9-e0b4-30f7ae124772"
      },
      "execution_count": null,
      "outputs": [
        {
          "output_type": "stream",
          "name": "stdout",
          "text": [
            "This is the first line of my text file\n"
          ]
        }
      ]
    },
    {
      "cell_type": "code",
      "source": [
        "with open(\"dummy_file.txt\", 'w', encoding=\"utf-8\") as file:\n",
        "    file.write('This is the new line for my dummy_file')  \n",
        "    # we write new str data into it \n",
        "\n",
        "with open(\"dummy_file.txt\", 'r', encoding=\"utf-8\") as file:\n",
        "    print(file.read())  # reads the content of the 'dummy_file'"
      ],
      "metadata": {
        "colab": {
          "base_uri": "https://localhost:8080/"
        },
        "id": "vUtEl-hv21Ej",
        "outputId": "33b64080-326e-45f0-9900-78f4e21ce0ea"
      },
      "execution_count": null,
      "outputs": [
        {
          "output_type": "stream",
          "name": "stdout",
          "text": [
            "This is the new line for my dummy_file\n"
          ]
        }
      ]
    },
    {
      "cell_type": "code",
      "source": [
        "with open(\"dummy_file.txt\", 'w', encoding=\"utf-8\") as file:\n",
        "  file.write(\"1\")\n",
        "  file.write(\"2\")\n",
        "  file.write(\"3 \\n\")\n",
        "  file.write(\"4\")\n",
        "  file.write(\"5\")\n",
        "\n",
        "\n",
        "with open(\"dummy_file.txt\", \"r\") as file:\n",
        "  print(file.read())"
      ],
      "metadata": {
        "colab": {
          "base_uri": "https://localhost:8080/"
        },
        "id": "l8L9BnD_21Jy",
        "outputId": "88877987-9cbc-4e5a-ed62-ff66ef1b5537"
      },
      "execution_count": null,
      "outputs": [
        {
          "output_type": "stream",
          "name": "stdout",
          "text": [
            "123 \n",
            "45\n"
          ]
        }
      ]
    },
    {
      "cell_type": "code",
      "source": [
        "fruits = ['Banana', 'Orange', 'Apple', 'Strawberry', 'Cherry']\n",
        "\n",
        "with open(\"fruits.txt\", \"w\") as dosyam:\n",
        "  for i in fruits:\n",
        "    dosyam.write(i + \"\\n\")\n",
        "\n",
        "# with open(\"fruits.txt\", \"r\") as file:\n",
        "#   print(file.read())\n",
        "\n",
        "a = open(\"fruits.txt\", \"r\")\n",
        "print(a.read())"
      ],
      "metadata": {
        "colab": {
          "base_uri": "https://localhost:8080/"
        },
        "id": "DiVRDl6U21OV",
        "outputId": "d6f3c7c0-403a-461a-ef11-306eff30ded8"
      },
      "execution_count": null,
      "outputs": [
        {
          "output_type": "stream",
          "name": "stdout",
          "text": [
            "Banana\n",
            "Orange\n",
            "Apple\n",
            "Strawberry\n",
            "Cherry\n",
            "\n"
          ]
        }
      ]
    },
    {
      "cell_type": "code",
      "source": [
        "with open(\"fruits.txt\", \"r\") as dosyam:\n",
        "  fruits2 = dosyam.readlines()\n",
        "fruits2 "
      ],
      "metadata": {
        "colab": {
          "base_uri": "https://localhost:8080/"
        },
        "id": "ztHtHNu821Rq",
        "outputId": "4249e0c3-1f69-4eb3-e52b-7f920257cf57"
      },
      "execution_count": null,
      "outputs": [
        {
          "output_type": "execute_result",
          "data": {
            "text/plain": [
              "['Banana\\n', 'Orange\\n', 'Apple\\n', 'Strawberry\\n', 'Cherry\\n']"
            ]
          },
          "metadata": {},
          "execution_count": 67
        }
      ]
    },
    {
      "cell_type": "code",
      "source": [
        "fruits = ['Banana', 'Orange', 'Apple', 'Strawberry', 'Cherry']\n",
        "\n",
        "with open(\"fruits2.txt\", \"w\") as ff:\n",
        "  ff.writelines(fruits)\n",
        "\n",
        "with open(\"fruits2.txt\", \"r\") as ff:\n",
        "  print(ff.read())"
      ],
      "metadata": {
        "colab": {
          "base_uri": "https://localhost:8080/"
        },
        "id": "3UYsu2ue21Ug",
        "outputId": "1ac4a69b-a45f-4b3f-851c-7fca85b1aa73"
      },
      "execution_count": null,
      "outputs": [
        {
          "output_type": "stream",
          "name": "stdout",
          "text": [
            "BananaOrangeAppleStrawberryCherry\n"
          ]
        }
      ]
    },
    {
      "cell_type": "code",
      "source": [
        "with open(\"fruits2.txt\", \"a\") as ff:\n",
        "  ff.writelines(fruits)\n",
        "\n",
        "with open(\"fruits2.txt\", \"r\") as ff:\n",
        "  print(ff.read())"
      ],
      "metadata": {
        "colab": {
          "base_uri": "https://localhost:8080/"
        },
        "id": "_-_Ui6O_21Xv",
        "outputId": "faa64790-28fe-44f4-e873-8ae23f8cf711"
      },
      "execution_count": null,
      "outputs": [
        {
          "output_type": "stream",
          "name": "stdout",
          "text": [
            "BananaOrangeAppleStrawberryCherryBananaOrangeAppleStrawberryCherry\n"
          ]
        }
      ]
    },
    {
      "cell_type": "code",
      "source": [
        "fruits3 = fruits2 + [\"lemon\"]\n",
        "fruits3"
      ],
      "metadata": {
        "colab": {
          "base_uri": "https://localhost:8080/"
        },
        "id": "eSiVyqjV21bZ",
        "outputId": "3e7d3035-d68f-4938-80fb-b9381461f5d6"
      },
      "execution_count": null,
      "outputs": [
        {
          "output_type": "execute_result",
          "data": {
            "text/plain": [
              "['Banana\\n', 'Orange\\n', 'Apple\\n', 'Strawberry\\n', 'Cherry\\n', 'lemon']"
            ]
          },
          "metadata": {},
          "execution_count": 81
        }
      ]
    },
    {
      "cell_type": "code",
      "source": [
        "with open(\"fruits2.txt\", \"a\") as ff:\n",
        "  ff.writelines(fruits3)\n",
        "\n",
        "with open(\"fruits2.txt\", \"r\") as ff:\n",
        "  print(ff.read())"
      ],
      "metadata": {
        "colab": {
          "base_uri": "https://localhost:8080/"
        },
        "id": "4XzI30Wx21eF",
        "outputId": "8aed02b3-2f96-40b6-b33d-d624dd3523da"
      },
      "execution_count": null,
      "outputs": [
        {
          "output_type": "stream",
          "name": "stdout",
          "text": [
            "BananaOrangeAppleStrawberryCherryBananaOrangeAppleStrawberryCherryBanana\n",
            "Orange\n",
            "Apple\n",
            "Strawberry\n",
            "Cherry\n",
            "lemon\n"
          ]
        }
      ]
    },
    {
      "cell_type": "code",
      "source": [
        "with open(\"istiklal.txt\", \"r\") as istiklal:\n",
        "  lines = istiklal.readlines()\n",
        "lines                                         ## print yapinca yanyana liste, printsiz alt alta\n",
        "\n"
      ],
      "metadata": {
        "colab": {
          "base_uri": "https://localhost:8080/"
        },
        "id": "BH40HlrCup-E",
        "outputId": "0248d02c-37f4-43b0-9164-4985fe14f5b2"
      },
      "execution_count": null,
      "outputs": [
        {
          "output_type": "execute_result",
          "data": {
            "text/plain": [
              "['Korkma, sönmez bu şafaklarda yüzen al sancak;\\n',\n",
              " 'Sönmeden yurdumun üstünde tüten en son ocak.\\n',\n",
              " 'O benim milletimin yıldızıdır, parlayacak;\\n',\n",
              " 'O benimdir, o benim milletimindir ancak.\\n',\n",
              " 'Çatma, kurban olayım, çehreni ey nazlı hilal!\\n',\n",
              " 'Kahraman ırkıma bir gül! Ne bu şiddet, bu celal?\\n',\n",
              " 'Sana olmaz dökülen kanlarımız sonra helal...\\n',\n",
              " \"Hakkıdır, hakk'a tapan, milletimin istiklal!\\n\",\n",
              " 'Ben ezelden beridir hür yaşadım, hür yaşarım.\\n',\n",
              " 'Hangi çılgın bana zincir vuracakmış? Şaşarım!\\n',\n",
              " 'Kükremiş sel gibiyim, bendimi çiğner, aşarım.\\n',\n",
              " 'Yırtarım dağları, enginlere sığmam, taşarım.\\n',\n",
              " 'Garbın afakını sarmışsa çelik zırhlı duvar,\\n',\n",
              " 'Benim iman dolu göğsüm gibi serhaddim var.\\n',\n",
              " 'Ulusun, korkma! Nasıl böyle bir imanı boğar,\\n',\n",
              " \"'Medeniyet!' dediğin tek dişi kalmış canavar?\\n\",\n",
              " 'Arkadaş! Yurduma alçakları uğratma, sakın.\\n',\n",
              " 'Siper et gövdeni, dursun bu hayasızca akın.\\n',\n",
              " \"Doğacaktır sana va'dettigi günler hakk'ın...\\n\",\n",
              " 'Kim bilir, belki yarın, belki yarından da yakın.\\n',\n",
              " \"Bastığın yerleri 'toprak!' diyerek geçme, tanı:\\n\",\n",
              " 'Düşün altında binlerce kefensiz yatanı.\\n',\n",
              " 'Sen şehit oğlusun, incitme, yazıktır, atanı:\\n',\n",
              " 'Verme, dünyaları alsan da, bu cennet vatanı.\\n',\n",
              " 'Kim bu cennet vatanın uğruna olmaz ki feda?\\n',\n",
              " 'Şuheda fışkıracak toprağı sıksan, şuheda!\\n',\n",
              " 'Canı, cananı, bütün varımı alsın da hüda,\\n',\n",
              " 'Etmesin tek vatanımdan beni dünyada cüda.\\n',\n",
              " 'Ruhumun senden, ilahi, şudur ancak emeli:\\n',\n",
              " 'Değmesin mabedimin göğsüne namahrem eli.\\n',\n",
              " 'Bu ezanlar-ki şahadetleri dinin temeli,\\n',\n",
              " 'Ebedi yurdumun üstünde benim inlemeli.']"
            ]
          },
          "metadata": {},
          "execution_count": 25
        }
      ]
    },
    {
      "cell_type": "code",
      "source": [
        "count = 0\n",
        "with open(\"istiklal.txt\", \"w\") as istiklal:\n",
        "  for i in lines:\n",
        "    count += 1\n",
        "    if count % 4 == 0:\n",
        "      istiklal.write(i + \"\\n\")\n",
        "    else:\n",
        "      istiklal.write(i)\n",
        "\n",
        "with open(\"istiklal.txt\", \"r\") as istiklal:\n",
        "  print(istiklal.read())"
      ],
      "metadata": {
        "colab": {
          "base_uri": "https://localhost:8080/"
        },
        "id": "d0UJpvGj8yK2",
        "outputId": "6c65c834-a411-484f-ad20-b93facce4558"
      },
      "execution_count": null,
      "outputs": [
        {
          "output_type": "stream",
          "name": "stdout",
          "text": [
            "Korkma, sönmez bu şafaklarda yüzen al sancak;\n",
            "Sönmeden yurdumun üstünde tüten en son ocak.\n",
            "O benim milletimin yıldızıdır, parlayacak;\n",
            "O benimdir, o benim milletimindir ancak.\n",
            "\n",
            "Çatma, kurban olayım, çehreni ey nazlı hilal!\n",
            "Kahraman ırkıma bir gül! Ne bu şiddet, bu celal?\n",
            "Sana olmaz dökülen kanlarımız sonra helal...\n",
            "Hakkıdır, hakk'a tapan, milletimin istiklal!\n",
            "\n",
            "Ben ezelden beridir hür yaşadım, hür yaşarım.\n",
            "Hangi çılgın bana zincir vuracakmış? Şaşarım!\n",
            "Kükremiş sel gibiyim, bendimi çiğner, aşarım.\n",
            "Yırtarım dağları, enginlere sığmam, taşarım.\n",
            "\n",
            "Garbın afakını sarmışsa çelik zırhlı duvar,\n",
            "Benim iman dolu göğsüm gibi serhaddim var.\n",
            "Ulusun, korkma! Nasıl böyle bir imanı boğar,\n",
            "'Medeniyet!' dediğin tek dişi kalmış canavar?\n",
            "\n",
            "Arkadaş! Yurduma alçakları uğratma, sakın.\n",
            "Siper et gövdeni, dursun bu hayasızca akın.\n",
            "Doğacaktır sana va'dettigi günler hakk'ın...\n",
            "Kim bilir, belki yarın, belki yarından da yakın.\n",
            "\n",
            "Bastığın yerleri 'toprak!' diyerek geçme, tanı:\n",
            "Düşün altında binlerce kefensiz yatanı.\n",
            "Sen şehit oğlusun, incitme, yazıktır, atanı:\n",
            "Verme, dünyaları alsan da, bu cennet vatanı.\n",
            "\n",
            "Kim bu cennet vatanın uğruna olmaz ki feda?\n",
            "Şuheda fışkıracak toprağı sıksan, şuheda!\n",
            "Canı, cananı, bütün varımı alsın da hüda,\n",
            "Etmesin tek vatanımdan beni dünyada cüda.\n",
            "\n",
            "Ruhumun senden, ilahi, şudur ancak emeli:\n",
            "Değmesin mabedimin göğsüne namahrem eli.\n",
            "Bu ezanlar-ki şahadetleri dinin temeli,\n",
            "Ebedi yurdumun üstünde benim inlemeli.\n",
            "\n"
          ]
        }
      ]
    },
    {
      "cell_type": "code",
      "source": [
        ""
      ],
      "metadata": {
        "id": "-6zWbv6y8yNP"
      },
      "execution_count": null,
      "outputs": []
    },
    {
      "cell_type": "code",
      "source": [
        ""
      ],
      "metadata": {
        "id": "a4elWPtJ8yPs"
      },
      "execution_count": null,
      "outputs": []
    },
    {
      "cell_type": "code",
      "source": [
        ""
      ],
      "metadata": {
        "id": "EmkYf8b-8yT5"
      },
      "execution_count": null,
      "outputs": []
    },
    {
      "cell_type": "code",
      "source": [
        ""
      ],
      "metadata": {
        "id": "LE1l8_Hd8yWu"
      },
      "execution_count": null,
      "outputs": []
    },
    {
      "cell_type": "code",
      "source": [
        ""
      ],
      "metadata": {
        "id": "-XWcFc2PuqBx"
      },
      "execution_count": null,
      "outputs": []
    },
    {
      "cell_type": "code",
      "source": [
        ""
      ],
      "metadata": {
        "id": "6e1WVzLpjFJ0"
      },
      "execution_count": null,
      "outputs": []
    }
  ]
}