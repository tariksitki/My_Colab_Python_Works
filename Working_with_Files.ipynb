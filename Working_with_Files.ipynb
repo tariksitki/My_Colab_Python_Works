{
  "nbformat": 4,
  "nbformat_minor": 0,
  "metadata": {
    "colab": {
      "name": "Working with Files.ipynb",
      "provenance": [],
      "authorship_tag": "ABX9TyPBmpyLbTTLPQHgY2fcsTsD",
      "include_colab_link": true
    },
    "kernelspec": {
      "name": "python3",
      "display_name": "Python 3"
    },
    "language_info": {
      "name": "python"
    }
  },
  "cells": [
    {
      "cell_type": "markdown",
      "metadata": {
        "id": "view-in-github",
        "colab_type": "text"
      },
      "source": [
        "<a href=\"https://colab.research.google.com/github/tariksitki/My_Colab_Python_Works/blob/main/Working_with_Files.ipynb\" target=\"_parent\"><img src=\"https://colab.research.google.com/assets/colab-badge.svg\" alt=\"Open In Colab\"/></a>"
      ]
    },
    {
      "cell_type": "code",
      "execution_count": null,
      "metadata": {
        "id": "euHgQXtiosC8"
      },
      "outputs": [],
      "source": [
        "############### Working with Files"
      ]
    },
    {
      "cell_type": "code",
      "source": [
        "##############     Reading Files"
      ],
      "metadata": {
        "id": "RNAYL1poowWi"
      },
      "execution_count": null,
      "outputs": []
    },
    {
      "cell_type": "code",
      "source": [
        "## Genellikle bir proje üzerinde çalışırken, yazmayı planladığımız \n",
        "# Programımız için ihtiyaç duyduğunuz veriler dışarıdan bir dosya formatında gelir. \n",
        "# Bu bölümde, sıklıkla kullanacağımız harici dosyalarla nasıl çalışacağınızı öğrenecegiz"
      ],
      "metadata": {
        "id": "4otOvtZDowZF"
      },
      "execution_count": null,
      "outputs": []
    },
    {
      "cell_type": "code",
      "source": [
        "# Dosyalarla çalışmaya başlamak için önce bir built in func kullanarak \n",
        "# bu dosyayi açmamız gerekir  "
      ],
      "metadata": {
        "id": "MlpOyv55owbB"
      },
      "execution_count": null,
      "outputs": []
    },
    {
      "cell_type": "code",
      "source": [
        "open (file, mode='r', buffering=-1, encoding=None, errors=None, newline=None, closefd=True, opener=None)"
      ],
      "metadata": {
        "id": "wZx8QA8-owdQ"
      },
      "execution_count": null,
      "outputs": []
    },
    {
      "cell_type": "code",
      "source": [
        "###  file,  open() func'in ihtiyac duydugu tek parametredir\n",
        "\n",
        "# This parameter is a path-like object which is a str or bytes \n",
        "# that represents a path in the file directory\n",
        "\n",
        "# diger bir deyisle, file,  absolute yada relativ path ile \n",
        "# güncel dosyanin path'ini cizer"
      ],
      "metadata": {
        "id": "5lMKPbdrowe6"
      },
      "execution_count": null,
      "outputs": []
    },
    {
      "cell_type": "code",
      "source": [
        "# Bu parametre, Anaconda veya Python'un kurulu olduğu dizinde saklanan, \n",
        "# ve bizim açmak istediğiniz dosyanın adını alır.\n",
        "\n",
        "# In other words, the file should be stored in the current working directory"
      ],
      "metadata": {
        "id": "DgN3uxpzowg7"
      },
      "execution_count": null,
      "outputs": []
    },
    {
      "cell_type": "code",
      "source": [
        "####  örnek\n",
        "\n",
        "myfile = open(\"file1.txt\")   # # this syntax opens a 'txt' file \n",
        "\n",
        "print(type(myfile))"
      ],
      "metadata": {
        "colab": {
          "base_uri": "https://localhost:8080/",
          "height": 240
        },
        "id": "Lt5qXTM6qaGT",
        "outputId": "a06a9456-fe14-43b9-8b88-53ecbad48c7c"
      },
      "execution_count": 2,
      "outputs": [
        {
          "output_type": "error",
          "ename": "FileNotFoundError",
          "evalue": "ignored",
          "traceback": [
            "\u001b[0;31m---------------------------------------------------------------------------\u001b[0m",
            "\u001b[0;31mFileNotFoundError\u001b[0m                         Traceback (most recent call last)",
            "\u001b[0;32m<ipython-input-2-cf46a99851ea>\u001b[0m in \u001b[0;36m<module>\u001b[0;34m()\u001b[0m\n\u001b[1;32m      1\u001b[0m \u001b[0;31m####  örnek\u001b[0m\u001b[0;34m\u001b[0m\u001b[0;34m\u001b[0m\u001b[0;34m\u001b[0m\u001b[0m\n\u001b[1;32m      2\u001b[0m \u001b[0;34m\u001b[0m\u001b[0m\n\u001b[0;32m----> 3\u001b[0;31m \u001b[0mmyfile\u001b[0m \u001b[0;34m=\u001b[0m \u001b[0mopen\u001b[0m\u001b[0;34m(\u001b[0m\u001b[0;34m\"file1.txt\"\u001b[0m\u001b[0;34m)\u001b[0m\u001b[0;34m\u001b[0m\u001b[0;34m\u001b[0m\u001b[0m\n\u001b[0m\u001b[1;32m      4\u001b[0m \u001b[0;34m\u001b[0m\u001b[0m\n\u001b[1;32m      5\u001b[0m \u001b[0mprint\u001b[0m\u001b[0;34m(\u001b[0m\u001b[0mtype\u001b[0m\u001b[0;34m(\u001b[0m\u001b[0mmyfile\u001b[0m\u001b[0;34m)\u001b[0m\u001b[0;34m)\u001b[0m\u001b[0;34m\u001b[0m\u001b[0;34m\u001b[0m\u001b[0m\n",
            "\u001b[0;31mFileNotFoundError\u001b[0m: [Errno 2] No such file or directory: 'file1.txt'"
          ]
        }
      ]
    },
    {
      "cell_type": "code",
      "source": [
        "#### Homework:\n",
        "# open() is a function defined in the io module in Python. \n",
        "# Well, then do a research for what the io module is?"
      ],
      "metadata": {
        "id": "xmOyOkDkqaIl"
      },
      "execution_count": null,
      "outputs": []
    },
    {
      "cell_type": "code",
      "source": [
        "## The encoding parameter indicates the encoding \n",
        "# that needs to be used to decode or encode a file. \n",
        "# The default value depends on the platform you use and its language. \n",
        "# UTF-8 is one of the most preferred used encodings, \n",
        "# and Python generally defaults to using it. \n",
        "# UTF stands for “Unicode Transformation Format”, \n",
        "# and the ‘8’ means that 8-bit values are used in the encoding. \n",
        "\n",
        "# We can open a file in the same way by using the following syntax :"
      ],
      "metadata": {
        "id": "p0iLole7qaK4"
      },
      "execution_count": null,
      "outputs": []
    },
    {
      "cell_type": "code",
      "source": [
        "my_file = open(\"first_file.txt\", encoding=\"utf-8\")\n",
        "\n",
        "# we've used 'utf8' encoding format just the same as the previous one"
      ],
      "metadata": {
        "id": "xQvEYoXFqaNU"
      },
      "execution_count": null,
      "outputs": []
    },
    {
      "cell_type": "code",
      "source": [
        ""
      ],
      "metadata": {
        "id": "D5Fm9pQHqaPh"
      },
      "execution_count": null,
      "outputs": []
    },
    {
      "cell_type": "code",
      "source": [
        "########################  'mode' Parameter"
      ],
      "metadata": {
        "id": "4XW0mZ55qaRs"
      },
      "execution_count": null,
      "outputs": []
    },
    {
      "cell_type": "code",
      "source": [
        "##   'mod' Parametre Nitelikleri\n",
        "\n",
        "## 'r'\tOkumak için aç (varsayılan). Dosya yoksa, FileNotFoundError yükseltilir.\n",
        "\n",
        "## 'a'\tYazmaya açık. Zaten varsa, dosyanın sonuna append edilir. Dosya yoksa, oluşturacaktır.\n",
        "\n",
        "##  'w'\tOpen for writing. It will be overwritten \n",
        "#  if the file already exists. If there is no file, it will create it.\n",
        "\n",
        "## 'x'\tOpen for exclusive creation, it will fail if the file already exists.\n",
        "\n",
        "## 'b'\tOpen in binary mode.\n",
        "\n",
        "## 't'\tOpen as a text file (default).\n",
        "\n",
        "## '+'\tOpen for updating (reading and writing)."
      ],
      "metadata": {
        "id": "Ta-H7TjTqaT5"
      },
      "execution_count": null,
      "outputs": []
    },
    {
      "cell_type": "code",
      "source": [
        "## By default, open() function executes opening the file for reading ('r') \n",
        "# as a text ('t'). In other words, it defaults to 'r' or 'rt' which means \n",
        "# open for reading in text mode.\n",
        "\n",
        "## \"rt\" de gördügümüz gibi ihtiyacimiza uygun olarak \n",
        "# modlari birlestirebiliriz"
      ],
      "metadata": {
        "id": "DzCQarpsqaWA"
      },
      "execution_count": null,
      "outputs": []
    },
    {
      "cell_type": "code",
      "source": [
        "## If you want to open and be able to read, modify, and update \n",
        "# the existing file you should set the mode as 'r+'."
      ],
      "metadata": {
        "id": "0K8HfXwY2H7O"
      },
      "execution_count": null,
      "outputs": []
    },
    {
      "cell_type": "code",
      "source": [
        "## Another important point we should cover about mode is that \n",
        "# you can choose the format in which you want to open the file \n",
        "# as text ('t') or binary ('b'). \n",
        "# According to the official related Python documentation, \n",
        "# files opened in 'binary' mode return contents as bytes objects without any decoding."
      ],
      "metadata": {
        "id": "B9DC_kK-2H-b"
      },
      "execution_count": null,
      "outputs": []
    },
    {
      "cell_type": "code",
      "source": [
        "##  In 'text' mode, the contents of the file are returned as str,\n",
        "\n",
        "## baytlar önce platforma bağlı bir kodlama kullanılarak veya verilmişse \n",
        "# belirtilen kodlama kullanılarak kodu çözülür."
      ],
      "metadata": {
        "id": "kyxlxM372IBr"
      },
      "execution_count": null,
      "outputs": []
    },
    {
      "cell_type": "code",
      "source": [
        "## In this case, if you want to open a binary file for writing \n",
        "# you should set the mode as 'wb'. On the other hand, \n",
        "# if you want to work with a text file you don't need to specify \n",
        "# 't' since the default value of mode is already set as 't'. \n",
        "# So, when opening and writing a text file it's enough to set the mode as 'w'."
      ],
      "metadata": {
        "id": "P_qjCFW72IES"
      },
      "execution_count": null,
      "outputs": []
    },
    {
      "cell_type": "code",
      "source": [
        "## Finally, let us examine the differences between the use of 'w' and 'a'. \n",
        "# Both options are used to modify the file or to write new data to the file. \n",
        "# However, when you use 'a', the data you want to write will be added \n",
        "# at the bottom of the file and combined with existing content, \n",
        "\n",
        "# whereas using 'w' will delete the existing content and add new content each time. \n",
        "\n",
        "# yani \"a\" append eder. \"w\"  ise üzerine yazar"
      ],
      "metadata": {
        "id": "IkuRyKrj2IG_"
      },
      "execution_count": null,
      "outputs": []
    },
    {
      "cell_type": "code",
      "source": [
        "## content icerisinde test.py adinda bir dosya olusturdum.\n",
        "# simdi bu dosya ile denemeler yapalim:\n",
        "\n",
        "x = open(\"test.py\")    #  dikkat tirnak icinde yazilir \n",
        "print(type(x))\n",
        "print(x)               #  output da encoding ve mode'un default larini görecegiz \n"
      ],
      "metadata": {
        "colab": {
          "base_uri": "https://localhost:8080/"
        },
        "id": "RQouKOd86HbL",
        "outputId": "c81c2382-2b0f-48ad-e9c4-75380089bb64"
      },
      "execution_count": 5,
      "outputs": [
        {
          "output_type": "stream",
          "name": "stdout",
          "text": [
            "<class '_io.TextIOWrapper'>\n",
            "<_io.TextIOWrapper name='test.py' mode='r' encoding='UTF-8'>\n"
          ]
        }
      ]
    },
    {
      "cell_type": "code",
      "source": [
        "y = open(\"test.py\", \"w\")\n",
        "print(y)"
      ],
      "metadata": {
        "colab": {
          "base_uri": "https://localhost:8080/"
        },
        "id": "yXVgGTdh6Hda",
        "outputId": "5bda3400-19c7-445e-979d-985c0dba140a"
      },
      "execution_count": 7,
      "outputs": [
        {
          "output_type": "stream",
          "name": "stdout",
          "text": [
            "<_io.TextIOWrapper name='test.py' mode='w' encoding='UTF-8'>\n"
          ]
        }
      ]
    },
    {
      "cell_type": "code",
      "source": [
        "z = open(\"test.py\", \"bw\")\n",
        "print(z)"
      ],
      "metadata": {
        "colab": {
          "base_uri": "https://localhost:8080/"
        },
        "id": "BOqg8eP066_6",
        "outputId": "119edf62-43f7-4d31-90c0-0e53014f3318"
      },
      "execution_count": 10,
      "outputs": [
        {
          "output_type": "stream",
          "name": "stdout",
          "text": [
            "<_io.BufferedWriter name='test.py'>\n"
          ]
        }
      ]
    },
    {
      "cell_type": "code",
      "source": [
        "t = open(\"test.py\", \"a\")\n",
        "print(t)"
      ],
      "metadata": {
        "colab": {
          "base_uri": "https://localhost:8080/"
        },
        "id": "x9_kT63L67CW",
        "outputId": "72de7c2b-4444-49df-d9ea-4e65cd09606d"
      },
      "execution_count": 11,
      "outputs": [
        {
          "output_type": "stream",
          "name": "stdout",
          "text": [
            "<_io.TextIOWrapper name='test.py' mode='a' encoding='UTF-8'>\n"
          ]
        }
      ]
    },
    {
      "cell_type": "code",
      "source": [
        ""
      ],
      "metadata": {
        "id": "WGo-0ccZ67II"
      },
      "execution_count": null,
      "outputs": []
    },
    {
      "cell_type": "code",
      "source": [
        ""
      ],
      "metadata": {
        "id": "csFTATo-4beC"
      },
      "execution_count": null,
      "outputs": []
    },
    {
      "cell_type": "code",
      "source": [
        "###############   Reading the Files with '.read()' Method"
      ],
      "metadata": {
        "id": "McPfNy5O4bg2"
      },
      "execution_count": null,
      "outputs": []
    },
    {
      "cell_type": "code",
      "source": [
        "#  1. .read(size) methodu:\n",
        "\n",
        "# This method is generally the most preferred method for \n",
        "# reading files, although it depends on the need. \n",
        "# This method reads the size bytes (characters) of the file. \n",
        "# If this parameter is not specified, the entire file is read at once."
      ],
      "metadata": {
        "id": "5nqA8d6m9WKi"
      },
      "execution_count": null,
      "outputs": []
    },
    {
      "cell_type": "code",
      "source": [
        ""
      ],
      "metadata": {
        "id": "AEnp1PSY9WM7"
      },
      "execution_count": null,
      "outputs": []
    },
    {
      "cell_type": "code",
      "source": [
        "v = open(\"test.py\", \"r\")  ## r olarak aciyoruz dosyayi\n",
        "print(v.read())           ## Bu komut ile de icerigini okuyoruz\n",
        "\n",
        "v.close()\n",
        "\n",
        "# print(v.read())   dosya ile isimiz bittiginde kapatmayi unutmuyoruz.\n",
        "                      ## eger dosyayi kapattiktan sonra tekrar icerigi \n",
        "                      # print etmek istersek hata alacagizdir"
      ],
      "metadata": {
        "colab": {
          "base_uri": "https://localhost:8080/"
        },
        "id": "Lf2EhoAE4bka",
        "outputId": "b5cd2207-0465-43f0-c9d1-954ff05d64d3"
      },
      "execution_count": 21,
      "outputs": [
        {
          "output_type": "stream",
          "name": "stdout",
          "text": [
            "print(\"hello\")\n",
            "\n",
            "print(\"hello\")\n",
            "\n",
            "print(\"hello\")\n"
          ]
        }
      ]
    },
    {
      "cell_type": "code",
      "source": [
        "deneme = open(\"test.py\")\n",
        "\n",
        "print(deneme.read(33))  ## ilk 33 karakteri okur\n",
        "                        ## sadece read deyip parantezi bos birakirsak\n",
        "                        # tüm bilgileri okuyacaktir\n",
        "print(deneme.read(25))  ### 33 den sonraki 25 karakter"
      ],
      "metadata": {
        "colab": {
          "base_uri": "https://localhost:8080/"
        },
        "id": "KxLbd3uC4bnq",
        "outputId": "66c846a3-425f-437d-85e7-c3ec467baaad"
      },
      "execution_count": 24,
      "outputs": [
        {
          "output_type": "stream",
          "name": "stdout",
          "text": [
            "print(\"hello\")\n",
            "\n",
            "print(\"hello\")\n",
            "\n",
            "p\n",
            "rint(\"hello\")\n",
            "\n",
            "print(\"hel\n"
          ]
        }
      ]
    },
    {
      "cell_type": "code",
      "source": [
        "deneme.seek(4)   ## bu komut ile kurzer'in konumunu 4. karakterden sonrasina\n",
        "                  ##  \n",
        "print(deneme.read(10))"
      ],
      "metadata": {
        "colab": {
          "base_uri": "https://localhost:8080/"
        },
        "id": "_eteA5Gu4bqe",
        "outputId": "50e5236e-0da8-41c3-a1e7-84301a9cfd60"
      },
      "execution_count": 28,
      "outputs": [
        {
          "output_type": "stream",
          "name": "stdout",
          "text": [
            "t(\"hello\")\n"
          ]
        }
      ]
    },
    {
      "cell_type": "code",
      "source": [
        ""
      ],
      "metadata": {
        "id": "Kcjg9W1s4btN"
      },
      "execution_count": 17,
      "outputs": []
    },
    {
      "cell_type": "code",
      "source": [
        ""
      ],
      "metadata": {
        "id": "GWzg-UO64bvi"
      },
      "execution_count": null,
      "outputs": []
    },
    {
      "cell_type": "code",
      "source": [
        ""
      ],
      "metadata": {
        "id": "a7tTvLHb4bxu"
      },
      "execution_count": null,
      "outputs": []
    },
    {
      "cell_type": "code",
      "source": [
        ""
      ],
      "metadata": {
        "id": "ibAmnvt14bzy"
      },
      "execution_count": null,
      "outputs": []
    },
    {
      "cell_type": "code",
      "source": [
        ""
      ],
      "metadata": {
        "id": "km7O99zg2IJ1"
      },
      "execution_count": null,
      "outputs": []
    },
    {
      "cell_type": "code",
      "source": [
        ""
      ],
      "metadata": {
        "id": "C60o2jVGqaX8"
      },
      "execution_count": null,
      "outputs": []
    },
    {
      "cell_type": "code",
      "source": [
        ""
      ],
      "metadata": {
        "id": "h8kXXH-qowmp"
      },
      "execution_count": null,
      "outputs": []
    },
    {
      "cell_type": "code",
      "source": [
        ""
      ],
      "metadata": {
        "id": "TzfjQR16owqr"
      },
      "execution_count": null,
      "outputs": []
    }
  ]
}