{
  "nbformat": 4,
  "nbformat_minor": 0,
  "metadata": {
    "colab": {
      "name": "Working with Files.ipynb",
      "provenance": [],
      "collapsed_sections": [],
      "authorship_tag": "ABX9TyN4R5T/j0k8RbwTekPIMCFt",
      "include_colab_link": true
    },
    "kernelspec": {
      "name": "python3",
      "display_name": "Python 3"
    },
    "language_info": {
      "name": "python"
    }
  },
  "cells": [
    {
      "cell_type": "markdown",
      "metadata": {
        "id": "view-in-github",
        "colab_type": "text"
      },
      "source": [
        "<a href=\"https://colab.research.google.com/github/tariksitki/My_Colab_Python_Works/blob/main/Working_with_Files.ipynb\" target=\"_parent\"><img src=\"https://colab.research.google.com/assets/colab-badge.svg\" alt=\"Open In Colab\"/></a>"
      ]
    },
    {
      "cell_type": "code",
      "execution_count": null,
      "metadata": {
        "id": "euHgQXtiosC8"
      },
      "outputs": [],
      "source": [
        "## pre class\n",
        "\n",
        "############### Working with Files"
      ]
    },
    {
      "cell_type": "code",
      "source": [
        "##############     Reading Files"
      ],
      "metadata": {
        "id": "RNAYL1poowWi"
      },
      "execution_count": null,
      "outputs": []
    },
    {
      "cell_type": "code",
      "source": [
        "## Genellikle bir proje üzerinde çalışırken, yazmayı planladığımız \n",
        "# Programımız için ihtiyaç duyduğunuz veriler dışarıdan bir dosya formatında gelir. \n",
        "# Bu bölümde, sıklıkla kullanacağımız harici dosyalarla nasıl çalışacağınızı öğrenecegiz"
      ],
      "metadata": {
        "id": "4otOvtZDowZF"
      },
      "execution_count": null,
      "outputs": []
    },
    {
      "cell_type": "code",
      "source": [
        "# Dosyalarla çalışmaya başlamak için önce bir built in func kullanarak \n",
        "# bu dosyayi açmamız gerekir  "
      ],
      "metadata": {
        "id": "MlpOyv55owbB"
      },
      "execution_count": null,
      "outputs": []
    },
    {
      "cell_type": "code",
      "source": [
        "open (file, mode='r', buffering=-1, encoding=None, errors=None, newline=None, closefd=True, opener=None)"
      ],
      "metadata": {
        "id": "wZx8QA8-owdQ"
      },
      "execution_count": null,
      "outputs": []
    },
    {
      "cell_type": "code",
      "source": [
        "###  file,  open() func'in ihtiyac duydugu tek positional parametredir\n",
        "\n",
        "# This parameter is a path-like object which is a str or bytes \n",
        "# that represents a path in the file directory\n",
        "\n",
        "# diger bir deyisle, file,  absolute yada relativ path ile \n",
        "# güncel dosyanin path'ini cizer"
      ],
      "metadata": {
        "id": "5lMKPbdrowe6"
      },
      "execution_count": null,
      "outputs": []
    },
    {
      "cell_type": "code",
      "source": [
        "# Bu parametre, Anaconda veya Python'un kurulu olduğu dizinde saklanan, \n",
        "# ve bizim açmak istediğiniz dosyanın adını alır.\n",
        "\n",
        "# In other words, the file should be stored in the current working directory"
      ],
      "metadata": {
        "id": "DgN3uxpzowg7"
      },
      "execution_count": null,
      "outputs": []
    },
    {
      "cell_type": "code",
      "source": [
        "####  örnek\n",
        "\n",
        "myfile = open(\"file1.txt\")   # # this syntax opens a 'txt' file \n",
        "\n",
        "print(type(myfile))"
      ],
      "metadata": {
        "id": "Lt5qXTM6qaGT"
      },
      "execution_count": null,
      "outputs": []
    },
    {
      "cell_type": "code",
      "source": [
        "#### Homework:\n",
        "# open() is a function defined in the io module in Python. \n",
        "# Well, then do a research for what the io module is?"
      ],
      "metadata": {
        "id": "xmOyOkDkqaIl"
      },
      "execution_count": null,
      "outputs": []
    },
    {
      "cell_type": "code",
      "source": [
        "## The encoding parameter indicates the encoding \n",
        "# that needs to be used to decode or encode a file. \n",
        "# The default value depends on the platform you use and its language. \n",
        "# UTF-8 is one of the most preferred used encodings, \n",
        "# and Python generally defaults to using it. \n",
        "# UTF stands for “Unicode Transformation Format”, \n",
        "# and the ‘8’ means that 8-bit values are used in the encoding. \n",
        "\n",
        "# We can open a file in the same way by using the following syntax :"
      ],
      "metadata": {
        "id": "p0iLole7qaK4"
      },
      "execution_count": null,
      "outputs": []
    },
    {
      "cell_type": "code",
      "source": [
        "my_file = open(\"first_file.txt\", encoding=\"utf-8\")\n",
        "\n",
        "# we've used 'utf8' encoding format just the same as the previous one"
      ],
      "metadata": {
        "id": "xQvEYoXFqaNU"
      },
      "execution_count": null,
      "outputs": []
    },
    {
      "cell_type": "code",
      "source": [
        ""
      ],
      "metadata": {
        "id": "D5Fm9pQHqaPh"
      },
      "execution_count": null,
      "outputs": []
    },
    {
      "cell_type": "code",
      "source": [
        "########################  'mode' Parameter"
      ],
      "metadata": {
        "id": "4XW0mZ55qaRs"
      },
      "execution_count": null,
      "outputs": []
    },
    {
      "cell_type": "code",
      "source": [
        "##   'mod' Parametre Nitelikleri\n",
        "\n",
        "## 'r'\tOkumak için aç (varsayılan). Dosya yoksa, FileNotFoundError yükseltilir.\n",
        "\n",
        "## 'a'\tYazmaya açık. Zaten varsa, dosyanın sonuna append edilir. Dosya yoksa, oluşturacaktır.\n",
        "\n",
        "##  'w'\tOpen for writing. It will be overwritten \n",
        "#  if the file already exists. If there is no file, it will create it.\n",
        "\n",
        "## 'x'\tOpen for exclusive creation, it will fail if the file already exists.\n",
        "\n",
        "## 'b'\tOpen in binary mode.\n",
        "\n",
        "## 't'\tOpen as a text file (default).\n",
        "\n",
        "## '+'\tOpen for updating (reading and writing)."
      ],
      "metadata": {
        "id": "Ta-H7TjTqaT5"
      },
      "execution_count": null,
      "outputs": []
    },
    {
      "cell_type": "code",
      "source": [
        "## By default, open() function executes opening the file for reading ('r') \n",
        "# as a text ('t'). In other words, it defaults to 'r' or 'rt' which means \n",
        "# open for reading in text mode.\n",
        "\n",
        "## \"rt\" de gördügümüz gibi ihtiyacimiza uygun olarak \n",
        "# modlari birlestirebiliriz"
      ],
      "metadata": {
        "id": "DzCQarpsqaWA"
      },
      "execution_count": null,
      "outputs": []
    },
    {
      "cell_type": "code",
      "source": [
        "## If you want to open and be able to read, modify, and update \n",
        "# the existing file you should set the mode as 'r+'."
      ],
      "metadata": {
        "id": "0K8HfXwY2H7O"
      },
      "execution_count": null,
      "outputs": []
    },
    {
      "cell_type": "code",
      "source": [
        "## Another important point we should cover about mode is that \n",
        "# you can choose the format in which you want to open the file \n",
        "# as text ('t') or binary ('b'). \n",
        "# According to the official related Python documentation, \n",
        "# files opened in 'binary' mode return contents as bytes objects without any decoding."
      ],
      "metadata": {
        "id": "B9DC_kK-2H-b"
      },
      "execution_count": null,
      "outputs": []
    },
    {
      "cell_type": "code",
      "source": [
        "##  In 'text' mode, the contents of the file are returned as str,\n",
        "\n",
        "## baytlar önce platforma bağlı bir kodlama kullanılarak veya verilmişse \n",
        "# belirtilen kodlama kullanılarak kodu çözülür."
      ],
      "metadata": {
        "id": "kyxlxM372IBr"
      },
      "execution_count": null,
      "outputs": []
    },
    {
      "cell_type": "code",
      "source": [
        "## In this case, if you want to open a binary file for writing \n",
        "# you should set the mode as 'wb'. On the other hand, \n",
        "# if you want to work with a text file you don't need to specify \n",
        "# 't' since the default value of mode is already set as 't'. \n",
        "# So, when opening and writing a text file it's enough to set the mode as 'w'."
      ],
      "metadata": {
        "id": "P_qjCFW72IES"
      },
      "execution_count": null,
      "outputs": []
    },
    {
      "cell_type": "code",
      "source": [
        "## Finally, let us examine the differences between the use of 'w' and 'a'. \n",
        "# Both options are used to modify the file or to write new data to the file. \n",
        "# However, when you use 'a', the data you want to write will be added \n",
        "# at the bottom of the file and combined with existing content, \n",
        "\n",
        "# whereas using 'w' will delete the existing content and add new content each time. \n",
        "\n",
        "# yani \"a\" append eder. \"w\"  ise üzerine yazar"
      ],
      "metadata": {
        "id": "IkuRyKrj2IG_"
      },
      "execution_count": null,
      "outputs": []
    },
    {
      "cell_type": "code",
      "source": [
        "## content icerisinde test.py adinda bir dosya olusturdum.\n",
        "# simdi bu dosya ile denemeler yapalim:\n",
        "\n",
        "x = open(\"test.py\")    #  dikkat tirnak icinde yazilir \n",
        "print(type(x))\n",
        "print(x)               #  output da encoding ve mode'un default larini görecegiz \n"
      ],
      "metadata": {
        "colab": {
          "base_uri": "https://localhost:8080/"
        },
        "id": "RQouKOd86HbL",
        "outputId": "5e7dcf31-8303-49c1-ca55-b8f0df056f21"
      },
      "execution_count": null,
      "outputs": [
        {
          "output_type": "stream",
          "name": "stdout",
          "text": [
            "<class '_io.TextIOWrapper'>\n",
            "<_io.TextIOWrapper name='test.py' mode='r' encoding='UTF-8'>\n"
          ]
        }
      ]
    },
    {
      "cell_type": "code",
      "source": [
        "y = open(\"test.py\", \"w\")\n",
        "print(y)"
      ],
      "metadata": {
        "colab": {
          "base_uri": "https://localhost:8080/"
        },
        "id": "yXVgGTdh6Hda",
        "outputId": "0ad6eb9c-b96b-4d88-a160-8433c119d030"
      },
      "execution_count": null,
      "outputs": [
        {
          "output_type": "stream",
          "name": "stdout",
          "text": [
            "<_io.TextIOWrapper name='test.py' mode='w' encoding='UTF-8'>\n"
          ]
        }
      ]
    },
    {
      "cell_type": "code",
      "source": [
        "z = open(\"test.py\", \"bw\")\n",
        "print(z)"
      ],
      "metadata": {
        "colab": {
          "base_uri": "https://localhost:8080/"
        },
        "id": "BOqg8eP066_6",
        "outputId": "0b02b781-43b2-483e-dea6-2442378744f3"
      },
      "execution_count": null,
      "outputs": [
        {
          "output_type": "stream",
          "name": "stdout",
          "text": [
            "<_io.BufferedWriter name='test.py'>\n"
          ]
        }
      ]
    },
    {
      "cell_type": "code",
      "source": [
        "t = open(\"test.py\", \"a\")\n",
        "print(t)"
      ],
      "metadata": {
        "colab": {
          "base_uri": "https://localhost:8080/"
        },
        "id": "x9_kT63L67CW",
        "outputId": "72de7c2b-4444-49df-d9ea-4e65cd09606d"
      },
      "execution_count": null,
      "outputs": [
        {
          "output_type": "stream",
          "name": "stdout",
          "text": [
            "<_io.TextIOWrapper name='test.py' mode='a' encoding='UTF-8'>\n"
          ]
        }
      ]
    },
    {
      "cell_type": "code",
      "source": [
        ""
      ],
      "metadata": {
        "id": "WGo-0ccZ67II"
      },
      "execution_count": null,
      "outputs": []
    },
    {
      "cell_type": "code",
      "source": [
        ""
      ],
      "metadata": {
        "id": "csFTATo-4beC"
      },
      "execution_count": null,
      "outputs": []
    },
    {
      "cell_type": "code",
      "source": [
        "###############   Reading the Files with '.read()' Method"
      ],
      "metadata": {
        "id": "McPfNy5O4bg2"
      },
      "execution_count": null,
      "outputs": []
    },
    {
      "cell_type": "code",
      "source": [
        "#  1. .read(size) methodu:\n",
        "\n",
        "# This method is generally the most preferred method for \n",
        "# reading files, although it depends on the need. \n",
        "# This method reads the size bytes (characters) of the file. \n",
        "# If this parameter is not specified, the entire file is read at once.\n",
        "## yani read den sonra parantezin icerisinde aralik belirtilmezse \n",
        "# tüm bilgiler okunur"
      ],
      "metadata": {
        "id": "5nqA8d6m9WKi"
      },
      "execution_count": null,
      "outputs": []
    },
    {
      "cell_type": "code",
      "source": [
        ""
      ],
      "metadata": {
        "id": "AEnp1PSY9WM7"
      },
      "execution_count": null,
      "outputs": []
    },
    {
      "cell_type": "code",
      "source": [
        "v = open(\"test.py\", \"r\")  ## r olarak aciyoruz dosyayi\n",
        "print(v.read())           ## Bu komut ile de icerigini okuyoruz\n",
        "\n",
        "v.close()\n",
        "\n",
        "# print(v.read())   dosya ile isimiz bittiginde kapatmayi unutmuyoruz.\n",
        "                      ## eger dosyayi kapattiktan sonra tekrar icerigi \n",
        "                      # print etmek istersek hata alacagizdir"
      ],
      "metadata": {
        "colab": {
          "base_uri": "https://localhost:8080/"
        },
        "id": "Lf2EhoAE4bka",
        "outputId": "03a8f64b-fb62-4d60-ebd6-dc633895c79b"
      },
      "execution_count": null,
      "outputs": [
        {
          "output_type": "stream",
          "name": "stdout",
          "text": [
            "print(\"ben tarik\")\n"
          ]
        }
      ]
    },
    {
      "cell_type": "code",
      "source": [
        "deneme = open(\"test.py\")\n",
        "\n",
        "print(deneme.read(33))  ## ilk 33 karakteri okur\n",
        "                        ## sadece read deyip parantezi bos birakirsak\n",
        "                        # tüm bilgileri okuyacaktir\n",
        "print(deneme.read(25))  ### 33 den sonraki 25 karakter"
      ],
      "metadata": {
        "colab": {
          "base_uri": "https://localhost:8080/"
        },
        "id": "KxLbd3uC4bnq",
        "outputId": "8ba169a8-bfba-4194-a183-ea9b0f3b26cf"
      },
      "execution_count": null,
      "outputs": [
        {
          "output_type": "stream",
          "name": "stdout",
          "text": [
            "print(\"ben tarik\")\n",
            "\n"
          ]
        }
      ]
    },
    {
      "cell_type": "code",
      "source": [
        "deneme.seek(4)   ## bu komut ile kurzer'in konumunu 4. karakterden sonrasina\n",
        "                  ## yani 5. karakter olan t'nin önüne aliriz \n",
        "print(deneme.read(10))       ## sonrasinda da 10 karakter yazdir dedigimizde\n",
        "                              # kurzer'in bulundugu yerden itibaren 10 tane yazdirir"
      ],
      "metadata": {
        "colab": {
          "base_uri": "https://localhost:8080/"
        },
        "id": "_eteA5Gu4bqe",
        "outputId": "1b6b32ca-cbd3-42b0-caa0-8552c124843c"
      },
      "execution_count": null,
      "outputs": [
        {
          "output_type": "stream",
          "name": "stdout",
          "text": [
            "t(\"ben tar\n"
          ]
        }
      ]
    },
    {
      "cell_type": "code",
      "source": [
        "deneme.seek(9)  ## burada 9 a aldik kurzer i \n",
        "\n",
        "print(deneme.tell())  # bu komut da, bize kurzer'in güncel konumunu söyler\n",
        "\n"
      ],
      "metadata": {
        "colab": {
          "base_uri": "https://localhost:8080/"
        },
        "id": "Kcjg9W1s4btN",
        "outputId": "017f5bea-03c2-4394-eb5a-d24ffc9ee87f"
      },
      "execution_count": null,
      "outputs": [
        {
          "output_type": "stream",
          "name": "stdout",
          "text": [
            "9\n"
          ]
        }
      ]
    },
    {
      "cell_type": "code",
      "source": [
        "deneme.close()"
      ],
      "metadata": {
        "id": "3zItoxlHB0PT"
      },
      "execution_count": null,
      "outputs": []
    },
    {
      "cell_type": "code",
      "source": [
        "### Note:  33 karakter print et dedigimizde, bu sayi bosluklari ve\n",
        "# \"\\n\" de kapsar"
      ],
      "metadata": {
        "id": "GWzg-UO64bvi"
      },
      "execution_count": null,
      "outputs": []
    },
    {
      "cell_type": "code",
      "source": [
        "## Soru:\n",
        "\n",
        "# Suppose you have a text file (fishes.txt ) stored \n",
        "# in the current working directory with the following content.\n",
        "\n",
        "# print(\"fishes.txt\".read(5))\n",
        "\n",
        "# Orca is a kind of Dolphin.\n",
        "# Blue Whale is the largest animal known on earth.\n",
        "# Sharks are the sister group to the Rays (batoids).\n",
        "# The Tuna Fish can weigh up to 260 kg.\n",
        "# Squid and Octopus are in the same class.\n",
        "\n",
        "# cevap: \"orca \""
      ],
      "metadata": {
        "id": "a7tTvLHb4bxu"
      },
      "execution_count": null,
      "outputs": []
    },
    {
      "cell_type": "code",
      "source": [
        "###  2. .readline(size) :"
      ],
      "metadata": {
        "id": "ibAmnvt14bzy"
      },
      "execution_count": null,
      "outputs": []
    },
    {
      "cell_type": "code",
      "source": [
        "## bu, python dosyalari okumak icin 2. bir yöntemdir.\n",
        "\n",
        "#  Bu yöntem, metnin yalnızca tek bir satırındaki baytları okur"
      ],
      "metadata": {
        "id": "km7O99zg2IJ1"
      },
      "execution_count": null,
      "outputs": []
    },
    {
      "cell_type": "code",
      "source": [
        "deneme = open(\"test.py\", \"r\")\n",
        "\n",
        "print(deneme.readline())\n",
        "print(deneme.readline())\n",
        "print(deneme.readline())   ## Normal de dosyanin orijinalinde satirlar arasinda\n",
        "                            # hic bosluk yoktur. ancak readline komutunu her \n",
        "                            # calistirdigimizda, bir satir atlayarak yazar\n",
        "deneme.close()              # defaultunda \"\\n\" vardir"
      ],
      "metadata": {
        "colab": {
          "base_uri": "https://localhost:8080/"
        },
        "id": "tk9ST659BO-X",
        "outputId": "19bab314-07ec-4298-b0e2-7493ced8b37b"
      },
      "execution_count": null,
      "outputs": [
        {
          "output_type": "stream",
          "name": "stdout",
          "text": [
            "print(\"1. satir\")\n",
            "\n",
            "print(\"2. satir\")\n",
            "\n",
            "print(\"3. satir\")\n",
            "\n"
          ]
        }
      ]
    },
    {
      "cell_type": "code",
      "source": [
        "## readline(), bir satirdaki tüm karakterleri okur.\n",
        "# tüm karakterler bittikten sonra diger satira gecer.\n",
        "# simdi readline methodunun parantez icerisine sayi yazarak nasil\n",
        "# calistigini görelim:\n",
        "\n",
        "deneme = open(\"test.py\", \"r\")\n",
        "\n",
        "print(deneme.readline(10))\n",
        "print(deneme.readline(10))  #### ikinci 10 karakteri yaz dedigimizde otomatik olarak \n",
        "print(deneme.readline(10))    # bir alt satira iniyor. ama 1. satirin kalan karakterlerini\n",
        "print(deneme.readline(10))    # print ediyor\n",
        "print(deneme.readline(10))     ## dikkat:  eger bir satirin tüm karakterlerini yazdirmadi isek\n",
        "                              # yani bir satirin print islemi yarim kaldi ise, o zaman\n",
        "                              # readline methodu bir satir bosluk birakmadan devam eder\n",
        "                              # bir satirin tüm karakterleri yazdirildiktan sonra, ikinci \n",
        "                              # satira gecerken bir bosluk verilir.\n",
        "deneme.close()"
      ],
      "metadata": {
        "colab": {
          "base_uri": "https://localhost:8080/"
        },
        "id": "xW8uViZJBPA6",
        "outputId": "8469ce3f-87c0-427b-ba03-3537ad31c123"
      },
      "execution_count": null,
      "outputs": [
        {
          "output_type": "stream",
          "name": "stdout",
          "text": [
            "print(\"1. \n",
            "satir\")\n",
            "\n",
            "print(\"2. \n",
            "satir\")\n",
            "\n",
            "print(\"3. \n"
          ]
        }
      ]
    },
    {
      "cell_type": "code",
      "source": [
        ""
      ],
      "metadata": {
        "id": "_5sbCRB7BPDq"
      },
      "execution_count": null,
      "outputs": []
    },
    {
      "cell_type": "code",
      "source": [
        "#######  3. .readlines() :     (3. Method)"
      ],
      "metadata": {
        "id": "Gcj6mo4HBPGA"
      },
      "execution_count": null,
      "outputs": []
    },
    {
      "cell_type": "code",
      "source": [
        "###  It reads the entire file by line by in the list form."
      ],
      "metadata": {
        "id": "rwb9bl_QBPIr"
      },
      "execution_count": null,
      "outputs": []
    },
    {
      "cell_type": "code",
      "source": [
        "## dosyanin tüm satirlari, ayri bir string icerisinde print edilir.\n",
        "\n",
        "# ve alt satirin ciktisinda da görecegimiz gibi,\n",
        "# \"\\n\"  ifadesi her satirin sonunda default olarak mevcuttur"
      ],
      "metadata": {
        "id": "vZacjcmCGKfG"
      },
      "execution_count": null,
      "outputs": []
    },
    {
      "cell_type": "code",
      "source": [
        "deneme = open(\"test.py\")\n",
        "\n",
        "print(deneme.readlines())\n",
        "\n",
        "deneme.close()"
      ],
      "metadata": {
        "colab": {
          "base_uri": "https://localhost:8080/"
        },
        "id": "AXCTaE0wBPLE",
        "outputId": "0a32db0d-b946-4c00-cf3d-029dbc4ba71e"
      },
      "execution_count": null,
      "outputs": [
        {
          "output_type": "stream",
          "name": "stdout",
          "text": [
            "['print(\"1. satir\")\\n', 'print(\"2. satir\")\\n', 'print(\"3. satir\")\\n', 'print(\"4. satir\")\\n', 'print(\"5. satir\")\\n', 'print(\"hello\")\\n', 'print(\"hello\")\\n', 'print(\"hello\")\\n', 'print(\"hello\")']\n"
          ]
        }
      ]
    },
    {
      "cell_type": "code",
      "source": [
        "## yukarida gördügümüz 3 yöntemden hangisini kullanirsak kullanalim,\n",
        "# kurzer'in konumu önemlidir.\n",
        "\n",
        "# asagida iki methodu kombineli olarak kullanacagiz.\n",
        "# 2. method da birinci methodun kaldigi yerden print edilecektir"
      ],
      "metadata": {
        "id": "F7ySosfwBPNq"
      },
      "execution_count": null,
      "outputs": []
    },
    {
      "cell_type": "code",
      "source": [
        "deneme = open(\"test.py\")\n",
        "\n",
        "print(deneme.readline())  # sadece 1. satir yazilir\n",
        "\n",
        "print(deneme.readlines()) # 1. satir haric kalan satirlar"
      ],
      "metadata": {
        "colab": {
          "base_uri": "https://localhost:8080/"
        },
        "id": "IyTtgYZIF_ES",
        "outputId": "52f45ab1-4e06-4236-ff45-87e6d680fc29"
      },
      "execution_count": null,
      "outputs": [
        {
          "output_type": "stream",
          "name": "stdout",
          "text": [
            "print(\"1. satir\")\n",
            "\n",
            "['print(\"2. satir\")\\n', 'print(\"3. satir\")\\n', 'print(\"4. satir\")\\n', 'print(\"5. satir\")\\n', 'print(\"hello\")\\n', 'print(\"hello\")\\n', 'print(\"hello\")\\n', 'print(\"hello\")']\n"
          ]
        }
      ]
    },
    {
      "cell_type": "code",
      "source": [
        "## readline ve readlines methodlarinda outputun type'ina bakalim\n",
        "\n",
        "deneme = open(\"test.py\")\n",
        "\n",
        "print(type(deneme.readline()))\n",
        "\n",
        "print(type(deneme.readlines()))\n",
        "\n",
        "# deneme.close()"
      ],
      "metadata": {
        "colab": {
          "base_uri": "https://localhost:8080/"
        },
        "id": "ryw5rza4F_Ga",
        "outputId": "cc9b359b-8c34-4cdf-88f9-08b1e4efcbf8"
      },
      "execution_count": null,
      "outputs": [
        {
          "output_type": "stream",
          "name": "stdout",
          "text": [
            "<class 'str'>\n",
            "<class 'list'>\n"
          ]
        }
      ]
    },
    {
      "cell_type": "code",
      "source": [
        "## Note: readlines() methodu, kücük dosyalari okumak icin iyi bir\n",
        "# yöntemdir. ancak liste seklinde oldugundan, büyük dosyalari okumak \n",
        "# zor olacaktir"
      ],
      "metadata": {
        "id": "603BFM3XF_IW"
      },
      "execution_count": null,
      "outputs": []
    },
    {
      "cell_type": "code",
      "source": [
        ""
      ],
      "metadata": {
        "id": "VwaWfXnmH2iK"
      },
      "execution_count": null,
      "outputs": []
    },
    {
      "cell_type": "code",
      "source": [
        "#######   4. Using Loops writing :         (4. method)"
      ],
      "metadata": {
        "id": "V3akKrCeH2ke"
      },
      "execution_count": null,
      "outputs": []
    },
    {
      "cell_type": "code",
      "source": [
        "### bir dosyayi okumanin en etkili yolu for loop kullanmaktir"
      ],
      "metadata": {
        "id": "D3rh53W8H2nT"
      },
      "execution_count": null,
      "outputs": []
    },
    {
      "cell_type": "code",
      "source": [
        "deneme = open(\"test.py\")\n",
        "\n",
        "for line in deneme:\n",
        "  print(line)        ## burada line i gibi siradan bir degisken.\n",
        "                      # line kullanmak zorunda degiliz\n",
        "                      # dikkat output da yine satirlar arasi bosluk var\n",
        "# deneme.close()\n",
        "                      ## for loop dosya okumanin baska bir yöntemi oldugu icin\n",
        "                      # read methodlarina ihtiyac duymuyoruz"
      ],
      "metadata": {
        "colab": {
          "base_uri": "https://localhost:8080/"
        },
        "id": "vYtMc3pUH2qE",
        "outputId": "093fd33b-4147-435f-917a-a4d980bf8882"
      },
      "execution_count": null,
      "outputs": [
        {
          "output_type": "stream",
          "name": "stdout",
          "text": [
            "print(\"ben tarik\")\n"
          ]
        }
      ]
    },
    {
      "cell_type": "code",
      "source": [
        ""
      ],
      "metadata": {
        "id": "qxmq8UZhf8ZO"
      },
      "execution_count": null,
      "outputs": []
    },
    {
      "cell_type": "code",
      "source": [
        "### For loop ile dosya icerigini okuyarak özellikle \n",
        "# büyük metin dosyaları kolay ve pratik bir şekilde okunabilmektedir. \n",
        "# Bu yöntem bize istediğimiz satırı okuma fırsatı verdiği gibi, \n",
        "# syntax tekrarından da bizi kurtarmaktadir."
      ],
      "metadata": {
        "id": "EoFp7jvqH2sz"
      },
      "execution_count": null,
      "outputs": []
    },
    {
      "cell_type": "code",
      "source": [
        "## readlines() methodu bize liste veri tipi return ettigi icin\n",
        "# bu method ile de for döngüsü kullanabiliriz."
      ],
      "metadata": {
        "id": "NI896e7xH2vJ"
      },
      "execution_count": null,
      "outputs": []
    },
    {
      "cell_type": "code",
      "source": [
        "deneme = open(\"test.py\")\n",
        "\n",
        "for i in deneme.readlines():\n",
        "  print(i)\n",
        "deneme.close()"
      ],
      "metadata": {
        "colab": {
          "base_uri": "https://localhost:8080/"
        },
        "id": "dAo2GHQnH2x1",
        "outputId": "7dafc0fa-cc65-4fb8-c4ae-9835fa565301"
      },
      "execution_count": null,
      "outputs": [
        {
          "output_type": "stream",
          "name": "stdout",
          "text": [
            "print(\"1. satir\")\n",
            "\n",
            "print(\"2. satir\")\n",
            "\n",
            "print(\"3. satir\")\n",
            "\n",
            "print(\"4. satir\")\n",
            "\n",
            "print(\"5. satir\")\n",
            "\n",
            "print(\"hello\")\n",
            "\n",
            "print(\"hello\")\n",
            "\n",
            "print(\"hello\")\n",
            "\n",
            "print(\"hello\")\n"
          ]
        }
      ]
    },
    {
      "cell_type": "code",
      "source": [
        "## hatta for loop ile return edilen verileri bir listeye append edelim\n",
        "\n",
        "deneme = open(\"test.py\")\n",
        "bos = []\n",
        "for i in deneme:\n",
        "  bos.append(i)\n",
        "  \n",
        "print(bos)\n",
        "\n",
        "deneme.close()"
      ],
      "metadata": {
        "colab": {
          "base_uri": "https://localhost:8080/"
        },
        "id": "45CIRmclF_KO",
        "outputId": "f2aab483-20f9-4499-e08a-e5421103cce8"
      },
      "execution_count": null,
      "outputs": [
        {
          "output_type": "stream",
          "name": "stdout",
          "text": [
            "['print(\"ben tarik\")']\n"
          ]
        }
      ]
    },
    {
      "cell_type": "code",
      "source": [
        ""
      ],
      "metadata": {
        "id": "ahX5wg-4UMNv"
      },
      "execution_count": null,
      "outputs": []
    },
    {
      "cell_type": "code",
      "source": [
        "##########  The Matter of Closing the Files"
      ],
      "metadata": {
        "id": "N5alZyrCUMP_"
      },
      "execution_count": null,
      "outputs": []
    },
    {
      "cell_type": "code",
      "source": [
        "## Çalıştığımız verileri kaybetmek istemiyorsak, işimiz biter bitmez \n",
        "# dosyanın kapatılması gerektiğini unutmamalıyız."
      ],
      "metadata": {
        "id": "2y8ukeEQUMRu"
      },
      "execution_count": null,
      "outputs": []
    },
    {
      "cell_type": "code",
      "source": [
        "## su ana kadar kullandigimiz close() methodundan baska\n",
        "# dosyalari kapatmak icin ikinci bir yöntem vardir."
      ],
      "metadata": {
        "id": "TeylgzwCUMTt"
      },
      "execution_count": null,
      "outputs": []
    },
    {
      "cell_type": "code",
      "source": [
        "with open(\"test.py\") as deneme:      ## colon\n",
        "  print(deneme)   ## read olmadigi icin icerik yok                   \n",
        "                  ## indentation' a dikkat \n",
        "\n",
        "\n",
        "## bu kullanimda dikkat edersek close()' a ihtiyac duymuyoruz.\n",
        "# cünkü kendiliginden yapiliyor"
      ],
      "metadata": {
        "colab": {
          "base_uri": "https://localhost:8080/"
        },
        "id": "QSRiGc3GUMVo",
        "outputId": "847adbc6-a377-4205-aab5-091a40d631d5"
      },
      "execution_count": null,
      "outputs": [
        {
          "output_type": "stream",
          "name": "stdout",
          "text": [
            "<_io.TextIOWrapper name='test.py' mode='r' encoding='UTF-8'>\n"
          ]
        }
      ]
    },
    {
      "cell_type": "code",
      "source": [
        "with open(\"test.py\") as deneme:      ## colon\n",
        "  print(deneme.read())"
      ],
      "metadata": {
        "colab": {
          "base_uri": "https://localhost:8080/"
        },
        "id": "UkxjkLDYUMXn",
        "outputId": "b1ea5492-ee2e-446e-b19e-61fe15d1db2f"
      },
      "execution_count": null,
      "outputs": [
        {
          "output_type": "stream",
          "name": "stdout",
          "text": [
            "print(\"1. satir\")\n",
            "print(\"2. satir\")\n",
            "print(\"3. satir\")\n",
            "print(\"4. satir\")\n",
            "print(\"5. satir\")\n",
            "print(\"hello\")\n",
            "print(\"hello\")\n",
            "print(\"hello\")\n",
            "print(\"hello\")\n"
          ]
        }
      ]
    },
    {
      "cell_type": "code",
      "source": [
        ""
      ],
      "metadata": {
        "id": "R0gppBr_hRy9"
      },
      "execution_count": null,
      "outputs": []
    },
    {
      "cell_type": "code",
      "source": [
        ""
      ],
      "metadata": {
        "id": "Y8gFk3e7hR7d"
      },
      "execution_count": null,
      "outputs": []
    },
    {
      "cell_type": "code",
      "source": [
        "#### Attention:\n",
        "\n",
        "# open(\"test.py\")   komutunda, py'den sonra yada test den önce bosluk olursa\n",
        "# kodumuz calismaz"
      ],
      "metadata": {
        "id": "jKVGouQPUMZU"
      },
      "execution_count": null,
      "outputs": []
    },
    {
      "cell_type": "code",
      "source": [
        "#######################             Sorular"
      ],
      "metadata": {
        "id": "llQtV3gbWfHN"
      },
      "execution_count": null,
      "outputs": []
    },
    {
      "cell_type": "code",
      "source": [
        "## Suppose you have a text file (fishes.txt) stored in the current working directory. \n",
        "# Open this file using the \"utf-8\" as the encoding parameter and \n",
        "# assign it to my_file. Then print the type of my_file.\n",
        "\n",
        "my_file = open(\"test.py\", encoding= \"UTF-8\") \n",
        "\n",
        "print(type(my_file))"
      ],
      "metadata": {
        "id": "TRXCXxpsWfLa",
        "colab": {
          "base_uri": "https://localhost:8080/"
        },
        "outputId": "80688d5b-0be3-48f7-d3c7-1ebfbfa5b7bd"
      },
      "execution_count": null,
      "outputs": [
        {
          "output_type": "stream",
          "name": "stdout",
          "text": [
            "<class '_io.TextIOWrapper'>\n"
          ]
        }
      ]
    },
    {
      "cell_type": "code",
      "source": [
        "# Suppose you have a text file (fishes.txt ) stored in the current working \n",
        "# directory with the following content. Open this file for reading mode \n",
        "# and assign it to my_file. And read the entire file at oncethen close the file.\n",
        "\n",
        "my_file = open(\"fishes.txt\", \"r\")   \n",
        "\n",
        "print(my_file.read()) \n",
        "\n",
        "my_file.close()"
      ],
      "metadata": {
        "id": "AkNI8K00WfOk"
      },
      "execution_count": null,
      "outputs": []
    },
    {
      "cell_type": "code",
      "source": [
        "## Suppose you have a text file (fishes.txt) stored in the current \n",
        "# working directory with the following content. Open this file \n",
        "# for reading mode and assign it to my_file. And read the first \n",
        "# 40 chars of the text then close the file.\n",
        "\n",
        "my_file = open(\"fishes.txt\", \"r\")   \n",
        "\n",
        "print(my_file.read(40)) \n",
        "\n",
        "my_file.close()"
      ],
      "metadata": {
        "id": "0B9AOhirWfSB"
      },
      "execution_count": null,
      "outputs": []
    },
    {
      "cell_type": "code",
      "source": [
        "## Suppose you have a text file (fishes.txt ) stored in the current \n",
        "# working directory with the following content. Open this file \n",
        "# and assign it to my_file. And read the first line of the text then close the file.\n",
        "\n",
        "my_file = open(\"fishes.txt\", 'r')\n",
        "\n",
        "print(my_file.readline())\n",
        "\n",
        "my_file.close()"
      ],
      "metadata": {
        "id": "f2hgIol3WfVL"
      },
      "execution_count": null,
      "outputs": []
    },
    {
      "cell_type": "code",
      "source": [
        "## Suppose you have a text file (fishes.txt ) stored in the \n",
        "# current working directory with the following content. \n",
        "# Open this file and assign it to my_file. And read the first \n",
        "# 9 chars of the first line of the text then close the file.\n",
        "\n",
        "my_file = open(\"fishes.txt\", 'r')   \n",
        "\n",
        "print(my_file.read(9)) \n",
        "\n",
        "my_file.close()"
      ],
      "metadata": {
        "id": "hfVu1M_uWfYJ"
      },
      "execution_count": null,
      "outputs": []
    },
    {
      "cell_type": "code",
      "source": [
        "## Suppose you have a text file (fishes.txt ) stored in the \n",
        "# current working directory with the following content. \n",
        "# Open this file and assign it to my_file. And read the entire file \n",
        "# line by line then close the file.\n",
        "\n",
        "my_file = open(\"fishes.txt\", 'r')   \n",
        "\n",
        "print(my_file.readlines()) \n",
        "\n",
        "my_file.close()"
      ],
      "metadata": {
        "id": "UivmVqLTWfan"
      },
      "execution_count": null,
      "outputs": []
    },
    {
      "cell_type": "code",
      "source": [
        "# Suppose you have a text file (fishes.txt ) stored in the \n",
        "# current working directory with the following content. \n",
        "# Open this file and assign it to my_file. And print entire file \n",
        "# using for loop then close the file.\n",
        "\n",
        "my_file = open(\"fishes.txt\", 'r')   \n",
        "\n",
        "for line in my_file:\n",
        "    print(line)"
      ],
      "metadata": {
        "id": "Jj8LLUJ1WfdL"
      },
      "execution_count": null,
      "outputs": []
    },
    {
      "cell_type": "code",
      "source": [
        "## Match the attributes of mode  parameter with the appropriate characters.\n",
        "\n",
        "## Open for writing. It will append to the end of the file \n",
        "# if it already exists. If there is no file, it will create it. (\"a\")\n",
        "\n",
        "# Open in binary mode.(\"b\")\n",
        "\n",
        "# Open for writing. It will be overwritten if the file already exists. \n",
        "# If there is no file, it will create it. \"w\"\n",
        "\n",
        "## Open as a text file (default). \"t\"\n",
        "\n",
        "# Open for reading (default). If the file doesn't exist, \n",
        "# FileNotFoundError will raise. \"r\""
      ],
      "metadata": {
        "id": "C60o2jVGqaX8"
      },
      "execution_count": null,
      "outputs": []
    },
    {
      "cell_type": "code",
      "source": [
        "## Suppose you have a text file (fishes.txt ) stored in the current working directory \n",
        "# with the following content.\n",
        "\n",
        "\n",
        "# Orca is a kind of Dolphin.\n",
        "# Blue Whale is the largest animal known on earth.\n",
        "# Sharks are the sister group to the Rays (batoids).\n",
        "# The Tuna Fish can weigh up to 260 kg.\n",
        "# Squid and Octopus are in the same class.\n",
        "\n",
        "# What is the output of the following code block?\n",
        "\n",
        "# a = open(\"fishes.txt\", \"r\")             ## not: open func'i bir degiskene atamadan\n",
        "# print(a.read())                         #  direkt olarak \"test.py\".read() yazmak\n",
        "                                          ##  hata verecektir\n",
        "# cevap(Orca is a kind of Dolphin.)"
      ],
      "metadata": {
        "id": "h8kXXH-qowmp"
      },
      "execution_count": null,
      "outputs": []
    },
    {
      "cell_type": "code",
      "source": [
        ""
      ],
      "metadata": {
        "id": "TzfjQR16owqr"
      },
      "execution_count": null,
      "outputs": []
    },
    {
      "cell_type": "code",
      "source": [
        "###################################   Writing Files"
      ],
      "metadata": {
        "id": "weQ0W5B0c_QR"
      },
      "execution_count": null,
      "outputs": []
    },
    {
      "cell_type": "code",
      "source": [
        "######## Writing to File with '.write()' Method"
      ],
      "metadata": {
        "id": "w3KKR00Pc_Sv"
      },
      "execution_count": null,
      "outputs": []
    },
    {
      "cell_type": "code",
      "source": [
        "#### 'w' modu kullanarak bir dosyaya bir metnin üzerine yazabiliriz , \n",
        "# yani her kullandığımızda dosyanın içeriği silinir ve yeni içerik yazılır. \n",
        "# Herhangi bir dosya yoksa, otomatik olarak oluşturulacaktır."
      ],
      "metadata": {
        "id": "bpqCxB7Wc_UX"
      },
      "execution_count": null,
      "outputs": []
    },
    {
      "cell_type": "code",
      "source": [
        "## Dikkat:\n",
        "# Dosyaya yazmayı düşündüğümüz diğer tipteki veriler , \n",
        "# yazma işleminden önce string tipine dönüştürülmelidir"
      ],
      "metadata": {
        "id": "Zj7Jnb6Qc_Yb"
      },
      "execution_count": null,
      "outputs": []
    },
    {
      "cell_type": "code",
      "source": [
        "### simdi bir dosya olusturacagiz ve icerisine yazacagiz:\n",
        "\n",
        "with open(\"yazma.txt\", \"w\", encoding = \"utf-8\") as dosya: # dosya olusturduk, actik \n",
        "    dosya.write(\"Bu bizim ilk satirimizdir\")                # ve degiskene atadik\n",
        "                                                # bu komuttan sonra content klasöründe acildi\n",
        "                                                # ikinci satirdaki kodumuzda da icine yazdik\n",
        "\n",
        "with open(\"yazma.txt\", \"r\") as dosya:\n",
        "  print(dosya.read())\n",
        "\n",
        "## Not: yazma esnasinda with methodu ile actigimiz icin\n",
        "# okuma esnasinda yine dosyayi acmamiz gerekir. cünkü yukarida otomatik kapandi"
      ],
      "metadata": {
        "colab": {
          "base_uri": "https://localhost:8080/"
        },
        "id": "DUhEcjglc_cX",
        "outputId": "1c48752e-f212-46a4-b15b-6cb43318b466"
      },
      "execution_count": null,
      "outputs": [
        {
          "output_type": "stream",
          "name": "stdout",
          "text": [
            "Bu bizim ilk satirimizdir\n"
          ]
        }
      ]
    },
    {
      "cell_type": "code",
      "source": [
        ""
      ],
      "metadata": {
        "id": "_ZyqyfMlkXkb"
      },
      "execution_count": null,
      "outputs": []
    },
    {
      "cell_type": "code",
      "source": [
        ""
      ],
      "metadata": {
        "id": "kpt5gcGikXof"
      },
      "execution_count": null,
      "outputs": []
    },
    {
      "cell_type": "code",
      "source": [
        "## okuma islemini klasik yöntemlede yapabiliriz\n",
        "\n",
        "with open(\"yazma.txt\", \"w\", encoding = \"utf-8\") as dosya:\n",
        "    dosya.write(\"Bu bizim ilk satirimizdir\") \n",
        "\n",
        "okuma = open(\"yazma.txt\", \"r\")\n",
        "\n",
        "print(okuma.read())"
      ],
      "metadata": {
        "colab": {
          "base_uri": "https://localhost:8080/"
        },
        "id": "-xKm377oc_gI",
        "outputId": "ff604346-6417-4a87-aadc-8f6bc02ab891"
      },
      "execution_count": null,
      "outputs": [
        {
          "output_type": "stream",
          "name": "stdout",
          "text": [
            "Bu bizim ilk satirimizdir\n"
          ]
        }
      ]
    },
    {
      "cell_type": "code",
      "source": [
        "### dikkat:\n",
        "\n",
        "# with open(\"yazma.txt\") as b:\n",
        "#   print(\"bu son satir\")             # böyle bir kod olmaz yani print kullanarak\n",
        "                                      ## bu kod sadece print eder dosya icine yazmaz\n",
        "# a = open(\"yazma.txt\")\n",
        "# print(a.read())"
      ],
      "metadata": {
        "id": "bSnPy8EgnEjW"
      },
      "execution_count": null,
      "outputs": []
    },
    {
      "cell_type": "code",
      "source": [
        "## dikkat:\n",
        "\n",
        "with open(\"yazma.txt\", \"w\") as b:       # eger dosya acarken, \"w\" yazmazsak\n",
        "  b.write(\"son satir\")                  # o zaman hata aliriz cünkü dosya writeble \n",
        "                                        #  degil der\n",
        "# a = open(\"yazma.txt\")\n",
        "# print(a.read())"
      ],
      "metadata": {
        "id": "D0nH_3gNk19I"
      },
      "execution_count": null,
      "outputs": []
    },
    {
      "cell_type": "code",
      "source": [
        "###   simdi dosyamiz mevcut ve biz \"w\" ile dosyanin üzerine yazacagiz\n",
        "#     bakalim ne olacak?\n",
        "\n",
        "with open(\"yazma.txt\", \"w\") as dosya:\n",
        "  dosya.write(\"Bu bizim yeni satirimizdir\")\n",
        "\n",
        "okuma = open(\"yazma.txt\", \"r\")\n",
        "print(okuma.read())            ### \"w\" kullandigimiz icin eskisi silindi"
      ],
      "metadata": {
        "colab": {
          "base_uri": "https://localhost:8080/"
        },
        "id": "XVbEe8H0c_iZ",
        "outputId": "4206b4c1-4fd4-4f23-8eda-dc18bb88e518"
      },
      "execution_count": null,
      "outputs": [
        {
          "output_type": "stream",
          "name": "stdout",
          "text": [
            "Bu bizim yeni satirimizdir\n"
          ]
        }
      ]
    },
    {
      "cell_type": "code",
      "source": [
        "## Not:\n",
        "\n",
        "# write yönteminde yazilan tüm stringler pes pese concat yapilir.\n",
        "# o nedenle eger stringler arasinda bosluk vermek istiyorsak\n",
        "# \"\\n\" kullanabiliriz\n",
        "\n",
        "# asagidaki kodumuzun outputuna bakalim"
      ],
      "metadata": {
        "id": "-a99Szhcc_kP"
      },
      "execution_count": null,
      "outputs": []
    },
    {
      "cell_type": "code",
      "source": [
        "with open(\"yazma.txt\", \"w\") as degisken:\n",
        "  degisken.write(\"Birincisatir \\n\")\n",
        "  degisken.write(\"ikincisatir \\n\")\n",
        "  degisken.write(\"ücüncüsatir \\n\")\n",
        "  degisken.write(\"dördüncüsatir\")\n",
        "  degisken.write(\"Besincisatir\")\n",
        "\n",
        "a = open(\"yazma.txt\", \"r\")\n",
        "\n",
        "print(a.read())"
      ],
      "metadata": {
        "colab": {
          "base_uri": "https://localhost:8080/"
        },
        "id": "sEToIaQOc_mW",
        "outputId": "f9493670-8f40-477d-8f8f-67a721a1dbbe"
      },
      "execution_count": null,
      "outputs": [
        {
          "output_type": "stream",
          "name": "stdout",
          "text": [
            "Birincisatir \n",
            "ikincisatir \n",
            "ücüncüsatir \n",
            "dördüncüsatirBesincisatir\n"
          ]
        }
      ]
    },
    {
      "cell_type": "code",
      "source": [
        "## aralara tabi ki baska islemlerde yapabiliriz\n",
        "\n",
        "with open(\"yazma.txt\", \"w\") as degisken:\n",
        "  degisken.write(\"Birincisatir \\t\")\n",
        "  degisken.write(\"ikincisatir \\t\")\n",
        "  degisken.write(\"ücüncüsatir \\t\")\n",
        "  degisken.write(\"dördüncüsatir\")\n",
        "  degisken.write(\"Besincisatir\")\n",
        "\n",
        "a = open(\"yazma.txt\", \"r\")\n",
        "\n",
        "print(a.read())"
      ],
      "metadata": {
        "colab": {
          "base_uri": "https://localhost:8080/"
        },
        "id": "dbwqOJHDs07t",
        "outputId": "9cde3f63-194b-4892-c44f-dfd2d2844bbf"
      },
      "execution_count": null,
      "outputs": [
        {
          "output_type": "stream",
          "name": "stdout",
          "text": [
            "Birincisatir \tikincisatir \tücüncüsatir \tdördüncüsatirBesincisatir\n"
          ]
        }
      ]
    },
    {
      "cell_type": "code",
      "source": [
        "with open(\"yazma.txt\", \"w\") as x:\n",
        "  x.write(\"ben \")\n",
        "  x.write(\"ben \")\n",
        "  x.write(\"ben \")\n",
        "  x.write(\"ben \")\n",
        "\n",
        "y = open(\"yazma.txt\", \"r\")\n",
        "print(y.read())"
      ],
      "metadata": {
        "colab": {
          "base_uri": "https://localhost:8080/"
        },
        "id": "WJJuZg6PoPW7",
        "outputId": "7fa1bb6a-15bf-45f1-acee-670327608557"
      },
      "execution_count": null,
      "outputs": [
        {
          "output_type": "stream",
          "name": "stdout",
          "text": [
            "ben ben ben ben \n"
          ]
        }
      ]
    },
    {
      "cell_type": "code",
      "source": [
        "##  task:\n",
        "\n",
        "# Şimdi, bir meyve isimleri listemiz olduğunu düşünün. \n",
        "# Herbir meyve ismini dosyamiza ayrı ayri satırlarda\n",
        "# olacak sekilde append edelim"
      ],
      "metadata": {
        "id": "cx0vF76h6GiJ"
      },
      "execution_count": null,
      "outputs": []
    },
    {
      "cell_type": "code",
      "source": [
        "fruits = ['Banana', 'Orange', 'Apple', 'Strawberry', 'Cherry']\n",
        "\n",
        "with open(\"meyveler.txt\", \"w\", encoding=\"utf-8\") as meyveler:\n",
        "  for i in fruits:\n",
        "    meyveler.write(i + \"\\n\")\n",
        "\n",
        "print(meyveler)\n",
        "okuma = open(\"meyveler.txt\", \"r\")\n",
        "print(okuma.read())"
      ],
      "metadata": {
        "colab": {
          "base_uri": "https://localhost:8080/"
        },
        "id": "7o2axqmE6Gkc",
        "outputId": "5e737244-0bf5-4c73-c0a9-f63c5a3b4225"
      },
      "execution_count": null,
      "outputs": [
        {
          "output_type": "stream",
          "name": "stdout",
          "text": [
            "<_io.TextIOWrapper name='meyveler.txt' mode='w' encoding='utf-8'>\n",
            "Banana\n",
            "Orange\n",
            "Apple\n",
            "Strawberry\n",
            "Cherry\n",
            "\n"
          ]
        }
      ]
    },
    {
      "cell_type": "code",
      "source": [
        "## write altinda while loop:\n",
        "\n",
        "fruits = [\"elma\", 'Banana', 'Orange', 'Apple', 'Strawberry', 'Cherry']\n",
        "\n",
        "with open(\"meyveler.txt\", \"w\") as meyveler:\n",
        "  count = 0\n",
        "  while True:\n",
        "    meyveler.write(fruits[count] + \"\\n\")\n",
        "    count += 1\n",
        "    if count == 6:\n",
        "      break\n",
        "\n",
        "a = open(\"meyveler.txt\", \"r\")\n",
        "print(a.read())"
      ],
      "metadata": {
        "colab": {
          "base_uri": "https://localhost:8080/"
        },
        "id": "fwzeypF1o26q",
        "outputId": "c1c2f277-2edc-4866-b698-b2af328cd25e"
      },
      "execution_count": null,
      "outputs": [
        {
          "output_type": "stream",
          "name": "stdout",
          "text": [
            "elma\n",
            "Banana\n",
            "Orange\n",
            "Apple\n",
            "Strawberry\n",
            "Cherry\n",
            "\n"
          ]
        }
      ]
    },
    {
      "cell_type": "code",
      "source": [
        ""
      ],
      "metadata": {
        "id": "Y-B5H8wbo29K"
      },
      "execution_count": null,
      "outputs": []
    },
    {
      "cell_type": "code",
      "source": [
        "## burada da liste formatinda okuyalim\n",
        "\n",
        "b = open(\"meyveler.txt\", \"r\")\n",
        "\n",
        "print(b.readlines())"
      ],
      "metadata": {
        "colab": {
          "base_uri": "https://localhost:8080/"
        },
        "id": "lUl-Jwbl6Gmf",
        "outputId": "3cb0cb1a-66d5-44ee-ce1c-4256246ddfbb"
      },
      "execution_count": null,
      "outputs": [
        {
          "output_type": "stream",
          "name": "stdout",
          "text": [
            "['elma\\n', 'Banana\\n', 'Orange\\n', 'Apple\\n', 'Strawberry\\n', 'Cherry\\n']\n"
          ]
        }
      ]
    },
    {
      "cell_type": "code",
      "source": [
        ""
      ],
      "metadata": {
        "id": "5GAIT-b76GoO"
      },
      "execution_count": null,
      "outputs": []
    },
    {
      "cell_type": "code",
      "source": [
        "#############  .writelines() Method :"
      ],
      "metadata": {
        "id": "LjgfCNBG6GqQ"
      },
      "execution_count": null,
      "outputs": []
    },
    {
      "cell_type": "code",
      "source": [
        "# There is another method for writing data\n",
        "#  to the files. It is .writelines() method\n",
        "# Unlike .write() method, .writelines() takes \n",
        "# the iterable sequence of strings and writes them to the file. \n",
        "# The difference between these two methods is just similar to \n",
        "# the logic of difference between .read() and .readlines()."
      ],
      "metadata": {
        "id": "2maLuuvuc_oL"
      },
      "execution_count": null,
      "outputs": []
    },
    {
      "cell_type": "code",
      "source": [
        "# writelines ayni for döngüsü gibi calisir.\n",
        "# icerisine bir iterable alir ve bi iterable'in\n",
        "# elemanlarini teker teker dosyaya atar"
      ],
      "metadata": {
        "id": "LSn9C8XTvf3n"
      },
      "execution_count": null,
      "outputs": []
    },
    {
      "cell_type": "code",
      "source": [
        "# not writelines'a, her bir elemani bir alt satira gecerek yazdirmak icin\n",
        "# her string in sonuna \"\\n\" koymamiz gerekir.\n",
        "\n",
        "# okuma isleminde de readlines yaparken ayni sekilde her bir elemani\n",
        "# bir alt satirda okumak istersek \"\\n\" kullanmamiz gerekir."
      ],
      "metadata": {
        "id": "s4LOGTng8jd4"
      },
      "execution_count": null,
      "outputs": []
    },
    {
      "cell_type": "code",
      "source": [
        "fruits = ['Banana\\n', 'Orange\\n', 'Apple\\n', 'Strawberry\\n', 'Cherry\\n']\n",
        "\n",
        "with open(\"yazma2.txt\", \"w\") as yeni:\n",
        "  yeni.writelines(fruits)\n",
        "\n",
        "a = open(\"yazma2.txt\")\n",
        "print(a.read())\n",
        "\n",
        "a = open(\"yazma2.txt\")\n",
        "print(a.readlines())    # liste seklinde okuma\n"
      ],
      "metadata": {
        "colab": {
          "base_uri": "https://localhost:8080/"
        },
        "id": "ZI25UPiXsvRl",
        "outputId": "55fe5f71-b041-42e2-cd9b-d9f1addb526c"
      },
      "execution_count": null,
      "outputs": [
        {
          "output_type": "stream",
          "name": "stdout",
          "text": [
            "Banana\n",
            "Orange\n",
            "Apple\n",
            "Strawberry\n",
            "Cherry\n",
            "\n",
            "['Banana\\n', 'Orange\\n', 'Apple\\n', 'Strawberry\\n', 'Cherry\\n']\n"
          ]
        }
      ]
    },
    {
      "cell_type": "code",
      "source": [
        "## buradaki iterable tuple da olabilir\n",
        "\n",
        "fruits = ('Banana\\n', 'Orange\\n', 'Apple\\n', 'Strawberry\\n', 'Cherry\\n')\n",
        "\n",
        "with open(\"yazma2.txt\", \"w\") as yeni:\n",
        "  yeni.writelines(fruits)\n",
        "\n",
        "a = open(\"yazma2.txt\")\n",
        "print(a.read())"
      ],
      "metadata": {
        "colab": {
          "base_uri": "https://localhost:8080/"
        },
        "id": "LgqodOLrsvVm",
        "outputId": "8acbcf06-54df-4362-8c7f-25e61e6cbfa0"
      },
      "execution_count": null,
      "outputs": [
        {
          "output_type": "stream",
          "name": "stdout",
          "text": [
            "Banana\n",
            "Orange\n",
            "Apple\n",
            "Strawberry\n",
            "Cherry\n",
            "\n"
          ]
        }
      ]
    },
    {
      "cell_type": "code",
      "source": [
        "## Önemli: writelines methodunun icerisine yazdigimiz iterable'in elemanlari \n",
        "# string olmalidir.  Bu nedenle fruits.items dersek dict'in itemlarini tuple\n",
        "# olarak alacagindan bunu kabul etmez. Burada neden kabul etti? cünkü\n",
        "# dict'in key lerini teker teker string olarak aldi\n",
        "\n",
        "fruits = {'Banana \\n' : 'Orange', 'Apple' : 'Strawberry'}  #  dictionary\n",
        "\n",
        "with open(\"yazma2.txt\", \"w\") as yeni:\n",
        "  yeni.writelines(fruits)\n",
        "\n",
        "a = open(\"yazma2.txt\")\n",
        "print(a.read())"
      ],
      "metadata": {
        "colab": {
          "base_uri": "https://localhost:8080/"
        },
        "id": "KwWejhk2svZW",
        "outputId": "8f5ba4c9-859e-46d6-fc2d-816414f6f5d4"
      },
      "execution_count": null,
      "outputs": [
        {
          "output_type": "stream",
          "name": "stdout",
          "text": [
            "Banana \n",
            "Apple\n"
          ]
        }
      ]
    },
    {
      "cell_type": "code",
      "source": [
        "## setler ile kullanim:\n",
        "## set oldugu icin siralama farkli olacaktir\n",
        "\n",
        "fruits = {'Banana \\n', 'Orange \\n', 'Apple \\n', 'Strawberry \\n'}  \n",
        "\n",
        "with open(\"yazma2.txt\", \"w\") as yeni:\n",
        "  yeni.writelines(fruits)\n",
        "\n",
        "a = open(\"yazma2.txt\")\n",
        "print(a.read())"
      ],
      "metadata": {
        "colab": {
          "base_uri": "https://localhost:8080/"
        },
        "id": "bmwRrjw5svdn",
        "outputId": "ac68f67f-fc7c-4f65-e5c1-e6d53da3a142"
      },
      "execution_count": null,
      "outputs": [
        {
          "output_type": "stream",
          "name": "stdout",
          "text": [
            "Strawberry \n",
            "Apple \n",
            "Banana \n",
            "Orange \n",
            "\n"
          ]
        }
      ]
    },
    {
      "cell_type": "code",
      "source": [
        "## task:\n",
        "# file.txt dosyamizin icerisine 5 adet meyve ismi yazalim\n",
        "\n",
        "# öncelikle bu verileri liste seklinde okuyalim ve daha sonra\n",
        "# her bir string den sonra bir satir asagi inecek sekilde \n",
        "# verileri yeniden dosyamiza atalim ve output alalim.\n",
        "\n",
        "with open(\"file.txt\", \"w\") as dosya:\n",
        "  dosya.write(\"banana \\n\")\n",
        "  dosya.write(\"elma \\n\")\n",
        "  dosya.write(\"armut \\n\")\n",
        "  dosya.write(\"kiraz \\n\")\n",
        "  dosya.write(\"cilek \\n\")\n",
        "\n",
        "with open(\"file.txt\", \"r\") as dosya:    # dikkat liste icerisinde for loop yapacagiz\n",
        "  degisken = dosya.readlines()    # readlines 'in tek tek ayirmasi icin yukarida \"\\n\" kullandik \n",
        "print(degisken)     ## su an ki durumunu görmek icin cikti aliyoruz\n",
        "\n",
        "with open(\"file.txt\", \"w\") as dosya:\n",
        "   for i in degisken:\n",
        "     dosya.write(i)\n",
        "\n",
        "a = open(\"file.txt\")     \n",
        "print(a.read())\n"
      ],
      "metadata": {
        "colab": {
          "base_uri": "https://localhost:8080/"
        },
        "id": "NOamk1OrsvgP",
        "outputId": "df16d19b-3bd6-43aa-f64a-b1889cf1e97b"
      },
      "execution_count": null,
      "outputs": [
        {
          "output_type": "stream",
          "name": "stdout",
          "text": [
            "['banana \\n', 'elma \\n', 'armut \\n', 'kiraz \\n', 'cilek \\n']\n",
            "banana \n",
            "elma \n",
            "armut \n",
            "kiraz \n",
            "cilek \n",
            "\n"
          ]
        }
      ]
    },
    {
      "cell_type": "code",
      "source": [
        ""
      ],
      "metadata": {
        "id": "sj_x-M_ysviX"
      },
      "execution_count": null,
      "outputs": []
    },
    {
      "cell_type": "code",
      "source": [
        "###################  Appending to File using 'a' Mode"
      ],
      "metadata": {
        "id": "pyKN9K-FsvkO"
      },
      "execution_count": null,
      "outputs": []
    },
    {
      "cell_type": "code",
      "source": [
        "## Önceki yazma modundan ( 'w') farklı olarak, çoğu durumda bir dosyaya \n",
        "## yeni içerik eklemek istediğimizde, mevcut içeriğin silinmesi istenmez. \n",
        "## Bu nedenle hem dosyanın mevcut içeriğini tutan hem de yeni içeriği \n",
        "## dosyanın devamına kaydeden başka bir moda ihtiyaç vardır. \n",
        "## Python'da bu ihtiyacı append anlamına gelen \"a\" mod ile karşılıyoruz ."
      ],
      "metadata": {
        "id": "yyTWedLcsvmH"
      },
      "execution_count": null,
      "outputs": []
    },
    {
      "cell_type": "code",
      "source": [
        "## peki append islemini nasil yapiyoruz?\n",
        "\n",
        "# asagida bulunan listemize son eleman olarak yeni bir\n",
        "# meyve ismi ekleyelim:\n",
        "\n",
        "fruits = ['Banana\\n', 'Orange\\n', 'Apple\\n', 'Strawberry\\n', 'Cherry\\n']\n",
        "\n",
        "with open(\"amode.txt\", \"w\") as yeni:\n",
        "  yeni.writelines(fruits)\n",
        "\n",
        "with open(\"amode.txt\", \"r\") as yeni:\n",
        "  print(yeni.read())\n",
        "\n",
        "with open(\"amode.txt\", \"a\") as yeni:\n",
        "  yeni.write(\"kavun \\n\")\n",
        "  yeni.write(\"ayva\")\n",
        "\n",
        "with open(\"amode.txt\", \"r\") as yeni:\n",
        "  print(yeni.read())\n",
        "\n",
        "with open(\"amode.txt\", \"r\") as yeni:\n",
        "  print(yeni.readlines())    ## burada da liste olarak okuyalim"
      ],
      "metadata": {
        "colab": {
          "base_uri": "https://localhost:8080/"
        },
        "id": "MTJhMBxWsvpZ",
        "outputId": "3bc63376-c441-4bfa-a024-f34750f247f3"
      },
      "execution_count": null,
      "outputs": [
        {
          "output_type": "stream",
          "name": "stdout",
          "text": [
            "Banana\n",
            "Orange\n",
            "Apple\n",
            "Strawberry\n",
            "Cherry\n",
            "\n",
            "Banana\n",
            "Orange\n",
            "Apple\n",
            "Strawberry\n",
            "Cherry\n",
            "kavun \n",
            "ayva\n",
            "['Banana\\n', 'Orange\\n', 'Apple\\n', 'Strawberry\\n', 'Cherry\\n', 'kavun \\n', 'ayva']\n"
          ]
        }
      ]
    },
    {
      "cell_type": "code",
      "source": [
        "## task :\n",
        "\n",
        "## Suppose you have already created a text file (new_file.txt ) \n",
        "# that contains the following items. \n",
        "# (We've created this file and this part is pre-loaded for you)\n",
        "# red\n",
        "# green\n",
        "# yellow\n",
        "# white\n",
        "# black\n",
        "\n",
        "colors = ['red', 'green', 'yellow', 'white', 'black']\n",
        "\n",
        "with open(\"new_file.txt\", 'w', encoding=\"utf-8\") as file:\n",
        "    for i in colors:\n",
        "        file.write(i + '\\n')  # we create \"new_file.txt\" for you \n",
        "        \n",
        "with open(\"new_file.txt\", \"a\") as file:\n",
        "    file.write(\"blue\")  # add \"blue\" to the end of the text\n",
        "\n",
        "\n",
        "with open(\"new_file.txt\", \"r\") as okuma:\n",
        "  print(okuma.read())"
      ],
      "metadata": {
        "colab": {
          "base_uri": "https://localhost:8080/"
        },
        "id": "jKRr_m-85iTG",
        "outputId": "bd86f64d-fc1e-441d-866a-452205cc8281"
      },
      "execution_count": null,
      "outputs": [
        {
          "output_type": "stream",
          "name": "stdout",
          "text": [
            "red\n",
            "green\n",
            "yellow\n",
            "white\n",
            "black\n",
            "blue\n"
          ]
        }
      ]
    },
    {
      "cell_type": "code",
      "source": [
        ""
      ],
      "metadata": {
        "id": "GxsGMfAabLfR"
      },
      "execution_count": null,
      "outputs": []
    },
    {
      "cell_type": "code",
      "source": [
        "##################################\n",
        "############### Working with the CSV Files"
      ],
      "metadata": {
        "id": "1dPHft-ibLiO"
      },
      "execution_count": null,
      "outputs": []
    },
    {
      "cell_type": "code",
      "source": [
        "## Tüm programlama dillerinde yaygın olarak kullanılan \n",
        "# bir başka dosya türü de CSV dosyalarıdır. CSV , Virgülle Ayrılmış Değerler\n",
        "# (Comma seperated value) anlamına gelir . Basit yapısı ve kolay oluşturulması \n",
        "# nedeniyle çeşitli içeriklere sahip veriler genellikle bu formatta saklanır."
      ],
      "metadata": {
        "id": "1A8oWrkUbLlZ"
      },
      "execution_count": null,
      "outputs": []
    },
    {
      "cell_type": "code",
      "source": [
        "## Bir CSV dosyası temel olarak satırlardan ve sütunlardan oluşan bir tablodur. \n",
        "# Basit bir CSV dosyasının yapısı aşağıdaki gibidir\n",
        "\n",
        "# column 1,column 2,column 3\n",
        "# first row 1,first row 2,first row 3\n",
        "# second row 1,second row 2,second row 3\n",
        "# third row 1,third row 2,third row 3\n"
      ],
      "metadata": {
        "id": "4Fv0pcGubLoh"
      },
      "execution_count": null,
      "outputs": []
    },
    {
      "cell_type": "code",
      "source": [
        "## Simdi .csv uzantili bir dosya olusturalim ve iceriginde sunlar olsun.\n",
        "# dosyamizin ismi fruits.csv olsun\n",
        "\n",
        "# not: dosya olustururken direkt olarak .csv uzantiili bir dosya olusturur isek\n",
        "# yazmaya izin vermiyor. O nedenle önce txt dosyasi olusturduk\n",
        "# icerigini column ve row seklinde yazdik. Daha sonra dosyanin uzantisini\n",
        "# degistirdik\n",
        "\n",
        "# Biz uzantisini degistirdikten sonra kendisi otomatik olarak tablo olur\n",
        "\n",
        "# no,fruit,amount\n",
        "# 1,Banana,4 lb\n",
        "# 2,Orange,5 lb\n",
        "# 3,Apple,2 lb\n",
        "# 4,Strawberry,6 lb\n",
        "# 5,Cherry,3 lb               ## yani 3 column 5 row"
      ],
      "metadata": {
        "id": "5GAENd8BbLrN"
      },
      "execution_count": null,
      "outputs": []
    },
    {
      "cell_type": "code",
      "source": [
        "######################  Reading Methods of the CSV Files"
      ],
      "metadata": {
        "id": "YfuJffZfcVP2"
      },
      "execution_count": null,
      "outputs": []
    },
    {
      "cell_type": "code",
      "source": [
        "### csv dosyalarini okumanin 3 farkli yöntemi vardir:\n",
        "\n",
        "# 1:  open() func ve .read() methodu kullanarak sıradan okuma yöntemi\n",
        "# csv Modülü kullanarak okuma\n",
        "# Oluşturulan veri analizi amacıyla Pandas kütüphanesini kullanabiliriz\n",
        "#  Analiz etmek için çok fazla verimiz varsa bu yöntem şiddetle tavsiye edilir."
      ],
      "metadata": {
        "id": "qHuF1dwMcVSZ"
      },
      "execution_count": null,
      "outputs": []
    },
    {
      "cell_type": "code",
      "source": [
        "########  1:    Ordinary Reading Method of CSV Files\n",
        "\n",
        "# Bu yöntem oldukça basittir ve metin dosyalarını okumaktan farklı değildir."
      ],
      "metadata": {
        "id": "q3TkI4oFcVVJ"
      },
      "execution_count": null,
      "outputs": []
    },
    {
      "cell_type": "code",
      "source": [
        "## simdi olusturdugumuz dosyayi okuyalim:\n",
        "\n",
        "with open(\"fruits.csv\", \"r\", encoding= \"utf-8\") as file:\n",
        "  print(file.read())"
      ],
      "metadata": {
        "colab": {
          "base_uri": "https://localhost:8080/"
        },
        "id": "I78vKjt5cVXs",
        "outputId": "09c02213-7348-4cbd-d0ef-21793c447199"
      },
      "execution_count": null,
      "outputs": [
        {
          "output_type": "stream",
          "name": "stdout",
          "text": [
            "no,fruit,amount\n",
            "1,Banana,4 lb\n",
            "2,Orange,5 lb\n",
            "3,Apple,2 lb\n",
            "4,Strawberry,6 lb\n",
            "5,Cherry,3 lb\n"
          ]
        }
      ]
    },
    {
      "cell_type": "code",
      "source": [
        "## Output da Gördüğümüz gibi, CSV dosyasının içeriği düz metin olarak görüntülenir. \n",
        "# Dosya içeriğinin çok uzun olduğu ve satır ve sütun sayısının fazla olduğu durumlarda \n",
        "# bu yöntem cok mantikli olmaz"
      ],
      "metadata": {
        "id": "xVthukfrjPjB"
      },
      "execution_count": null,
      "outputs": []
    },
    {
      "cell_type": "code",
      "source": [
        ""
      ],
      "metadata": {
        "id": "9_3NQcsKjPlr"
      },
      "execution_count": null,
      "outputs": []
    },
    {
      "cell_type": "code",
      "source": [
        "################         Reading the CSV Files with 'csv' Module"
      ],
      "metadata": {
        "id": "HmHk2r51jPqm"
      },
      "execution_count": null,
      "outputs": []
    },
    {
      "cell_type": "code",
      "source": [
        "## Bu yöntem ile CSV dosyalarının içeriği daha okunaklı ve düzenli \n",
        "# bir biçimde görüntülendiğinden, bu yöntem bir öncekine göre daha \n",
        "# çok tercih edilmektedir."
      ],
      "metadata": {
        "id": "Hq7ZmUJ6jPw8"
      },
      "execution_count": null,
      "outputs": []
    },
    {
      "cell_type": "code",
      "source": [
        "## Öncelikle csv module'ü import edecegiz.\n",
        "# ikinci olarak for loop icerisinde csv.reader() func'i kullanacagiz\n"
      ],
      "metadata": {
        "id": "IalxHqtLjP3k"
      },
      "execution_count": null,
      "outputs": []
    },
    {
      "cell_type": "code",
      "source": [
        "import csv\n",
        "\n",
        "with open(\"fruits.csv\", \"r\", newline= \"\", encoding=\"utf-8\") as file:\n",
        "  rows = csv.reader(file)       # csv modülüne ait reader func, tüm satirlari liste yapar\n",
        "  print(rows)    ## su an print dersek sadece bir reader object üretir\n",
        "\n",
        "  for i in rows:\n",
        "    print(i)        ## attention: with yöntemi ile dosyayi actigimizda kendisi \n",
        "                    # otomatik olarak kapattigindan, burada for loop with'in altinda calisir"
      ],
      "metadata": {
        "id": "2gvCXWCDjP_J"
      },
      "execution_count": null,
      "outputs": []
    },
    {
      "cell_type": "code",
      "source": [
        "import csv\n",
        "\n",
        "with open(\"fruits.csv\", \"r\", newline=\"\", encoding= \"utf-8\") as file:\n",
        "  rows = csv.reader(file)       ## newline yerine \" \" space yada baska birsey giremedik\n",
        "                                #  \"\\r\\n\"  degerleri girilebilir\n",
        "  for i in rows:    ## rows degiskeni icerisinde reader func calistigi icin\n",
        "    print(i)        ## ve reader func read() methoduna sahip olmadigi icin \n",
        "                    # buradaki file dosyamizi normal read() methodu ile okuyamadik\n",
        "                    # bu nedenle for loop kullanmak zorundayiz.\n",
        "                  \n",
        "                  # output u dikkatli incelersek; her bir satir reader tarafindan\n",
        "                  # liste yapilir. ve bu her satirin elemanlari virgül ile ayrilarak\n",
        "                  # string olarak listenin elemanlari haline getirilir"
      ],
      "metadata": {
        "colab": {
          "base_uri": "https://localhost:8080/"
        },
        "id": "Zz55gAg4kxKX",
        "outputId": "d3672e5d-9cd6-49cd-806d-224d5295989e"
      },
      "execution_count": null,
      "outputs": [
        {
          "output_type": "stream",
          "name": "stdout",
          "text": [
            "['no', 'fruit', 'amount']\n",
            "['1', 'Banana', '4 lb']\n",
            "['2', 'Orange', '5 lb']\n",
            "['3', 'Apple', '2 lb']\n",
            "['4', 'Strawberry', '6 lb']\n",
            "['5', 'Cherry', '3 lb']\n"
          ]
        }
      ]
    },
    {
      "cell_type": "code",
      "source": [
        "## If newline='' is not specified, newlines embedded inside quoted fields \n",
        "# will not be interpreted correctly, and on platforms \n",
        "# that use \\r\\n linendings on write an extra \\r will be added.\n",
        "# It is best practice and always safe to specify newline='', \n",
        "# since the csv module does its own newline handling."
      ],
      "metadata": {
        "id": "eshR-fSGUySQ"
      },
      "execution_count": null,
      "outputs": []
    },
    {
      "cell_type": "code",
      "source": [
        "## reader func'i biz yukarida bir degiskene atadigimiz icin,\n",
        "# bu degiskeni her yerde ve farkli farkli sekillerde kullanabiliriz\n",
        "\n",
        "import csv\n",
        "\n",
        "with open(\"fruits.csv\", \"r\", newline=\"\", encoding= \"utf-8\") as file:\n",
        "  rows = csv.reader(file)    \n",
        "   \n",
        "  for i in rows:\n",
        "    print(i)   \n",
        "    for j in i:\n",
        "      print(j)    "
      ],
      "metadata": {
        "colab": {
          "base_uri": "https://localhost:8080/"
        },
        "id": "PkL9GMddkxMt",
        "outputId": "48a1623f-b844-4dd2-ee2e-aed20e4b3332"
      },
      "execution_count": null,
      "outputs": [
        {
          "output_type": "stream",
          "name": "stdout",
          "text": [
            "['no', 'fruit', 'amount']\n",
            "no\n",
            "fruit\n",
            "amount\n",
            "['1', 'Banana', '4 lb']\n",
            "1\n",
            "Banana\n",
            "4 lb\n",
            "['2', 'Orange', '5 lb']\n",
            "2\n",
            "Orange\n",
            "5 lb\n",
            "['3', 'Apple', '2 lb']\n",
            "3\n",
            "Apple\n",
            "2 lb\n",
            "['4', 'Strawberry', '6 lb']\n",
            "4\n",
            "Strawberry\n",
            "6 lb\n",
            "['5', 'Cherry', '3 lb']\n",
            "5\n",
            "Cherry\n",
            "3 lb\n"
          ]
        }
      ]
    },
    {
      "cell_type": "code",
      "source": [
        "# The default value of the delimiter parameter is \",\". \n",
        "# Thus, we can display each comma-separated element as separate strings. \n",
        "# At this time let's use the delimiter=\",\" parameter and \n",
        "# see the same result as the previous one."
      ],
      "metadata": {
        "id": "7XtPn5ypkxOs"
      },
      "execution_count": null,
      "outputs": []
    },
    {
      "cell_type": "code",
      "source": [
        "## eger delimiter parametresi olarak \",\" kullanirsak,\n",
        "# Bu durumda liste icerisindeki tüm verileri ayri bir string yapar ve\n",
        "# her birini virgül ile ayirir. \n",
        "# örnegin \"/\" yada \" \" gibi csv iceriisnde bulunmayan karakterler kullanirsak\n",
        "#  bu durumda tüm verileri birlestirerek tek bir string yapar\n",
        "\n",
        "import csv\n",
        "\n",
        "with open(\"fruits.csv\", \"r\", newline=\"\", encoding=\"utf-8\") as file:\n",
        "  rows = csv.reader(file, delimiter = \",\")     #  Not: delimiter parametresi bos birakilamaz\n",
        "  for i in rows:\n",
        "    print(i)"
      ],
      "metadata": {
        "colab": {
          "base_uri": "https://localhost:8080/"
        },
        "id": "Ma87HxSsVV2m",
        "outputId": "e4da8844-a53e-45a7-84d6-3030ae435998"
      },
      "execution_count": null,
      "outputs": [
        {
          "output_type": "stream",
          "name": "stdout",
          "text": [
            "['no', 'fruit', 'amount']\n",
            "['1', 'Banana', '4 lb']\n",
            "['2', 'Orange', '5 lb']\n",
            "['3', 'Apple', '2 lb']\n",
            "['4', 'Strawberry', '6 lb']\n",
            "['5', 'Cherry', '3 lb']\n"
          ]
        }
      ]
    },
    {
      "cell_type": "code",
      "source": [
        "### \"/\" kullanalim:\n",
        "\n",
        "import csv\n",
        "\n",
        "with open(\"fruits.csv\", \"r\", newline=\"\", encoding=\"utf-8\") as file:\n",
        "  rows = csv.reader(file, delimiter = \"/\")     #  Not: delimiter parametresi bos birakilamaz\n",
        "  for i in rows:\n",
        "    print(i)"
      ],
      "metadata": {
        "colab": {
          "base_uri": "https://localhost:8080/"
        },
        "id": "yvpK24KsVV5K",
        "outputId": "2ff4956c-cea2-495a-9c46-88a1b0ca3cf9"
      },
      "execution_count": null,
      "outputs": [
        {
          "output_type": "stream",
          "name": "stdout",
          "text": [
            "['no,fruit,amount']\n",
            "['1,Banana,4 lb']\n",
            "['2,Orange,5 lb']\n",
            "['3,Apple,2 lb']\n",
            "['4,Strawberry,6 lb']\n",
            "['5,Cherry,3 lb']\n"
          ]
        }
      ]
    },
    {
      "cell_type": "code",
      "source": [
        "##### Önemli:  csv dosyalarini, csv modülünü import ederek okumak\n",
        "# zorunda degiliz. Klasik with methodu ile de icerik okuyabiliriz.\n",
        "# Ancak, dikkat etmemiz gereken husus sudur:\n",
        "# bu tarz okumada rowlarimiz liste veri tipinde olmayacaktir.\n",
        "# cünkü row larimizi liste yapan sey; csv modülüne ait reader() func'dir\n"
      ],
      "metadata": {
        "id": "rS5Mv0IQVV7k"
      },
      "execution_count": null,
      "outputs": []
    },
    {
      "cell_type": "code",
      "source": [
        "## with ile okuma\n",
        "\n",
        "with open(\"fruits.csv\", \"r\", newline=\"\", encoding=\"utf-8\") as file:\n",
        "  print(file.read()) \n",
        "  "
      ],
      "metadata": {
        "colab": {
          "base_uri": "https://localhost:8080/"
        },
        "id": "Q1WSy_avVV-Q",
        "outputId": "4632e257-d461-4609-dab8-2b2b02d93806"
      },
      "execution_count": null,
      "outputs": [
        {
          "output_type": "stream",
          "name": "stdout",
          "text": [
            "no,fruit,amount\r\n",
            "1,Banana,4 lb\r\n",
            "2,Orange,5 lb\r\n",
            "3,Apple,2 lb\r\n",
            "4,Strawberry,6 lb\r\n",
            "5,Cherry,3 lb\n"
          ]
        }
      ]
    },
    {
      "cell_type": "code",
      "source": [
        "## klasik open close methodu ile okuma\n",
        "\n",
        "reading = open(\"fruits.csv\", \"r\")\n",
        "print(reading.read())\n",
        "\n",
        "reading.close()"
      ],
      "metadata": {
        "colab": {
          "base_uri": "https://localhost:8080/"
        },
        "id": "mg6EuNNQVWBF",
        "outputId": "15ab012d-5754-43a6-f1d8-0d6495977b9a"
      },
      "execution_count": null,
      "outputs": [
        {
          "output_type": "stream",
          "name": "stdout",
          "text": [
            "no,fruit,amount\n",
            "1,Banana,4 lb\n",
            "2,Orange,5 lb\n",
            "3,Apple,2 lb\n",
            "4,Strawberry,6 lb\n",
            "5,Cherry,3 lb\n"
          ]
        }
      ]
    },
    {
      "cell_type": "code",
      "source": [
        "## Not: open() ve close() func'lari kullanmak icin herhangi bir modül\n",
        "# import etmemize gerek yoktur. Bunlar in built func'lardir"
      ],
      "metadata": {
        "id": "LRRWOeMjwWiT"
      },
      "execution_count": null,
      "outputs": []
    },
    {
      "cell_type": "code",
      "source": [
        "## json dosyalari ile ilgili youtube videosu\n",
        "\n",
        "#  https://www.youtube.com/watch?v=KnAyziNnuI0"
      ],
      "metadata": {
        "id": "5je3b5lZwWks"
      },
      "execution_count": null,
      "outputs": []
    },
    {
      "cell_type": "code",
      "source": [
        ""
      ],
      "metadata": {
        "id": "UcezoVNmwWnl"
      },
      "execution_count": null,
      "outputs": []
    },
    {
      "cell_type": "code",
      "source": [
        "## Find and Replace Strings in Multiple Files Using Python\n",
        "# youtube video\n",
        "\n",
        "# content icinde 5 adet dosya olusturuyoruz\n",
        "# file1.txt\n",
        "# file2.txt\n",
        "# file3.txt\n",
        "# file4.txt\n",
        "# file5.txt\n",
        "\n",
        "## ve her bir dosyanin icerigine \"test\"  yaziyoruz\n"
      ],
      "metadata": {
        "id": "55UMsy8kwWqM"
      },
      "execution_count": null,
      "outputs": []
    },
    {
      "cell_type": "code",
      "source": [
        "import os\n",
        "\n",
        "filepath = \"/content\"   # Buraya dosya yolu yazilir. bizim verilerimiz content'in icinde \n",
        "path = os.listdir(filepath)     # oldugundan bu sekilde yazdik. sadece content yazarsak\n",
        "for i in path:                  # hata aliriz\n",
        "  print(i)                      # burada yazdigimiz komutlar ile content in icinde \n",
        "                                # bulunan tüm dosyalar ve klasörler görüntülenir"
      ],
      "metadata": {
        "colab": {
          "base_uri": "https://localhost:8080/"
        },
        "id": "XAkMI4SOwWs1",
        "outputId": "9f5cf1be-51fd-4f86-d734-f581b1b0b6f6"
      },
      "execution_count": null,
      "outputs": [
        {
          "output_type": "stream",
          "name": "stdout",
          "text": [
            ".config\n",
            "file4.txt\n",
            "file5.txt\n",
            "fruits.csv\n",
            "file1.txt\n",
            "file2.txt\n",
            "file3.txt\n",
            "yeni\n",
            ".ipynb_checkpoints\n",
            "sample_data\n"
          ]
        }
      ]
    },
    {
      "cell_type": "code",
      "source": [
        "# eger content icerisinde bulunan bir klasörün icerigini görüntülemek istersek\n",
        "# bu durumda su sekilde yazilir\n",
        "\n",
        "\n",
        "filepath = \"/content/yeni\"  \n",
        "path = os.listdir(filepath)     \n",
        "for i in path:                \n",
        "  print(i) "
      ],
      "metadata": {
        "id": "wCuiDRDdwWvP"
      },
      "execution_count": null,
      "outputs": []
    },
    {
      "cell_type": "code",
      "source": [
        "## bu kod bende calismadi\n",
        "import os\n",
        "filepath = \"yeni/\"  \n",
        "path = os.listdir(filepath)  \n",
        "\n",
        "\n",
        "current = \"test\"  # dosyalar icinde yazan strin\n",
        "new = \"xxxx\"\n",
        "total = 0\n",
        "\n",
        "for i in path:\n",
        "  counter = 0\n",
        "  with open(filepath + i, \"r\",) as file:\n",
        "    result = file.read()\n",
        "    counter = result.count(current)\n",
        "  result = result.replace(current, new)\n",
        "  with open(filepath + i, \"w\") as newfile:\n",
        "    newfile.write(result)\n",
        "  if counter:\n",
        "    print(i, \":\", counter, \"changes\")\n",
        "    total += 1\n",
        "print(\"Totally\", total, \"Files changed\")"
      ],
      "metadata": {
        "colab": {
          "base_uri": "https://localhost:8080/",
          "height": 240
        },
        "id": "3vLxDf6lwWxq",
        "outputId": "48ba1385-49e2-4697-fc28-17d1c08abf18"
      },
      "execution_count": null,
      "outputs": [
        {
          "output_type": "error",
          "ename": "IsADirectoryError",
          "evalue": "ignored",
          "traceback": [
            "\u001b[0;31m---------------------------------------------------------------------------\u001b[0m",
            "\u001b[0;31mIsADirectoryError\u001b[0m                         Traceback (most recent call last)",
            "\u001b[0;32m<ipython-input-7-79f31128a9f5>\u001b[0m in \u001b[0;36m<module>\u001b[0;34m()\u001b[0m\n\u001b[1;32m     11\u001b[0m \u001b[0;32mfor\u001b[0m \u001b[0mi\u001b[0m \u001b[0;32min\u001b[0m \u001b[0mpath\u001b[0m\u001b[0;34m:\u001b[0m\u001b[0;34m\u001b[0m\u001b[0;34m\u001b[0m\u001b[0m\n\u001b[1;32m     12\u001b[0m   \u001b[0mcounter\u001b[0m \u001b[0;34m=\u001b[0m \u001b[0;36m0\u001b[0m\u001b[0;34m\u001b[0m\u001b[0;34m\u001b[0m\u001b[0m\n\u001b[0;32m---> 13\u001b[0;31m   \u001b[0;32mwith\u001b[0m \u001b[0mopen\u001b[0m\u001b[0;34m(\u001b[0m\u001b[0mfilepath\u001b[0m \u001b[0;34m+\u001b[0m \u001b[0mi\u001b[0m\u001b[0;34m,\u001b[0m \u001b[0;34m\"r\"\u001b[0m\u001b[0;34m,\u001b[0m\u001b[0;34m)\u001b[0m \u001b[0;32mas\u001b[0m \u001b[0mfile\u001b[0m\u001b[0;34m:\u001b[0m\u001b[0;34m\u001b[0m\u001b[0;34m\u001b[0m\u001b[0m\n\u001b[0m\u001b[1;32m     14\u001b[0m     \u001b[0mresult\u001b[0m \u001b[0;34m=\u001b[0m \u001b[0mfile\u001b[0m\u001b[0;34m.\u001b[0m\u001b[0mread\u001b[0m\u001b[0;34m(\u001b[0m\u001b[0;34m)\u001b[0m\u001b[0;34m\u001b[0m\u001b[0;34m\u001b[0m\u001b[0m\n\u001b[1;32m     15\u001b[0m     \u001b[0mcounter\u001b[0m \u001b[0;34m=\u001b[0m \u001b[0mresult\u001b[0m\u001b[0;34m.\u001b[0m\u001b[0mcount\u001b[0m\u001b[0;34m(\u001b[0m\u001b[0mcurrent\u001b[0m\u001b[0;34m)\u001b[0m\u001b[0;34m\u001b[0m\u001b[0;34m\u001b[0m\u001b[0m\n",
            "\u001b[0;31mIsADirectoryError\u001b[0m: [Errno 21] Is a directory: 'yeni/.ipynb_checkpoints'"
          ]
        }
      ]
    },
    {
      "cell_type": "code",
      "source": [
        ""
      ],
      "metadata": {
        "id": "LCANw3o4amQw"
      },
      "execution_count": null,
      "outputs": []
    },
    {
      "cell_type": "code",
      "source": [
        ""
      ],
      "metadata": {
        "id": "gejcPSTvamT7"
      },
      "execution_count": null,
      "outputs": []
    },
    {
      "cell_type": "code",
      "source": [
        ""
      ],
      "metadata": {
        "id": "uk05YP5MamXl"
      },
      "execution_count": null,
      "outputs": []
    },
    {
      "cell_type": "code",
      "source": [
        "###############################\n",
        "###########   json dosyalari "
      ],
      "metadata": {
        "id": "IHj0PY84amaB"
      },
      "execution_count": null,
      "outputs": []
    },
    {
      "cell_type": "code",
      "source": [
        "# json dosyalari genel yapisi key value pair ler seklindedir\n",
        "# bazen sade bir dict olabilir bazen de \n",
        "# bir key'in karsisindaki value yine bir dict olabilir.\n",
        "# yani bu durumda nested dict yapisi olusur\n",
        "\n",
        "# bazi durumlarda da key'lerin karsisindaki value'muz liste olabilir\n",
        "\n",
        "\n",
        "# Json, javaScript object Notation'in kisaltilmis halidir"
      ],
      "metadata": {
        "id": "0v5FD3Plapov"
      },
      "execution_count": null,
      "outputs": []
    },
    {
      "cell_type": "code",
      "source": [
        "# Bir json dosyasi olusturalim ve iceriginde sunlar olsun\n",
        "\n",
        "{\"color\": \n",
        "          {\"dominant\" : \"White\",\n",
        "            \"dominantbackground\" : \"Black\"}\n",
        "          }\n",
        "\n",
        "\n",
        "{\"animals\": [\"bear\", \"rubbit\", \"bird\"] }"
      ],
      "metadata": {
        "id": "WYdSY_kSbt0z"
      },
      "execution_count": null,
      "outputs": []
    },
    {
      "cell_type": "code",
      "source": [
        "a = open(\"tarik.json\", \"r\")\n",
        "print(a.read())"
      ],
      "metadata": {
        "id": "rtSf79zFwJ2T",
        "colab": {
          "base_uri": "https://localhost:8080/"
        },
        "outputId": "f66f529b-316e-47fa-e0eb-160133f6d584"
      },
      "execution_count": null,
      "outputs": [
        {
          "output_type": "stream",
          "name": "stdout",
          "text": [
            "{\"color\": \n",
            "          {\"dominant\" : \"White\",\n",
            "            \"dominantbackground\" : \"Black\"}\n",
            "          }\n",
            "\n",
            "\n",
            "{\"animals\": [\"bear\", \"rubbit\", \"bird\"] }\n"
          ]
        }
      ]
    },
    {
      "cell_type": "code",
      "source": [
        "# Not:  json.dump() methodu verileri json dosyasina dönüstürür\n",
        "# dump s methodu ise verileri json string e dönüstürür"
      ],
      "metadata": {
        "id": "jVH0A-kUtvcY"
      },
      "execution_count": null,
      "outputs": []
    },
    {
      "cell_type": "code",
      "source": [
        "import json\n",
        "                                            ## buarada insanlar key, liste ise komple value\n",
        "people = \"\"\"{\n",
        "              \"insanlar\" : [         \n",
        "                {\"name\" : \"John Smith\",\n",
        "                 \"phone\": \"123456789\",\n",
        "                 \"emails\": \"akdfbhssa\"\n",
        "                },\n",
        "\n",
        "              {\"name\" : \"Jane\",\n",
        "               \"phone\": \"1234566\",\n",
        "               \"emails\": null\n",
        "              }\n",
        "              ]\n",
        "}\n",
        "\"\"\"\n",
        "data = json.loads(people)\n",
        "print(data)\n",
        "\n",
        "for i in data[\"insanlar\"]:\n",
        "  print(i[\"name\"])\n",
        "\n",
        "                                  ## dumps, json modülüne ait bir func\n",
        "new_string = json.dumps(data, indent = 2, sort_keys = True)\n",
        "\n",
        "print(new_string)                ## normalde emails en son da bulunuyor\n",
        "                                  # bu komut ile en basa geldi. sort_keys yapar bunu\n",
        "                                  # indent 2 dedigimizde ise, output daki girinti ve \n",
        "                                  # cikintilari artirir\n",
        "\n",
        "\n",
        "## sözlükten bir degeri silme:\n",
        "\n",
        "for i in data[\"insanlar\"]:  # bu komuttan sonra sadece name ve email kalir\n",
        "  del i[\"phone\"]\n",
        "  print(i)"
      ],
      "metadata": {
        "colab": {
          "base_uri": "https://localhost:8080/"
        },
        "id": "mwfKS_nEbtRF",
        "outputId": "63945f7b-a47b-4588-b77e-2cccefc49ba3"
      },
      "execution_count": null,
      "outputs": [
        {
          "output_type": "stream",
          "name": "stdout",
          "text": [
            "{'insanlar': [{'name': 'John Smith', 'phone': '123456789', 'emails': 'akdfbhssa'}, {'name': 'Jane', 'phone': '1234566', 'emails': None}]}\n",
            "John Smith\n",
            "Jane\n",
            "{\n",
            "  \"insanlar\": [\n",
            "    {\n",
            "      \"emails\": \"akdfbhssa\",\n",
            "      \"name\": \"John Smith\",\n",
            "      \"phone\": \"123456789\"\n",
            "    },\n",
            "    {\n",
            "      \"emails\": null,\n",
            "      \"name\": \"Jane\",\n",
            "      \"phone\": \"1234566\"\n",
            "    }\n",
            "  ]\n",
            "}\n",
            "{'name': 'John Smith', 'emails': 'akdfbhssa'}\n",
            "{'name': 'Jane', 'emails': None}\n"
          ]
        }
      ]
    },
    {
      "cell_type": "code",
      "source": [
        "## simdi ise python a yükleme yapacagiz:\n",
        "\n",
        "## bunun icin asagidaki bilgileri iceren bir states.json adinda dosya olusturalim\n",
        "\n",
        "{\n",
        "  \"states\": [\n",
        "    {\n",
        "      \"name\": \"Alabama\",\n",
        "      \"abbreviation\": \"AL\",\n",
        "      \"area_codes\": [\"205\", \"251\", \"256\", \"334\", \"938\"]\n",
        "    },\n",
        "    {\n",
        "      \"name\": \"Alaska\",\n",
        "      \"abbreviation\": \"AK\",\n",
        "      \"area_codes\": [\"907\"]\n",
        "    },\n",
        "    {\n",
        "      \"name\": \"Arizona\",\n",
        "      \"abbreviation\": \"AZ\",\n",
        "      \"area_codes\": [\"480\", \"520\", \"602\", \"623\", \"928\"]\n",
        "    },\n",
        "    {\n",
        "      \"name\": \"Arkansas\",\n",
        "      \"abbreviation\": \"AR\",\n",
        "      \"area_codes\": [\"479\", \"501\", \"870\"]\n",
        "    },\n",
        "    {\n",
        "      \"name\": \"California\",\n",
        "      \"abbreviation\": \"CA\",\n",
        "      \"area_codes\": [\"209\", \"213\", \"310\", \"323\", \"408\", \"415\", \"424\", \"442\", \"510\", \"530\", \"559\", \"562\", \"619\", \"626\", \"628\", \"650\", \"657\", \"661\", \"669\", \"707\", \"714\", \"747\", \"760\", \"805\", \"818\", \"831\", \"858\", \"909\", \"916\", \"925\", \"949\", \"951\"]\n",
        "    },\n",
        "    {\n",
        "      \"name\": \"Colorado\",\n",
        "      \"abbreviation\": \"CO\",\n",
        "      \"area_codes\": [\"303\", \"719\", \"720\", \"970\"]\n",
        "    },\n",
        "    {\n",
        "      \"name\": \"Connecticut\",\n",
        "      \"abbreviation\": \"CT\",\n",
        "      \"area_codes\": [\"203\", \"475\", \"860\", \"959\"]\n",
        "    },\n",
        "    {\n",
        "      \"name\": \"Delaware\",\n",
        "      \"abbreviation\": \"DE\",\n",
        "      \"area_codes\": [\"302\"]\n",
        "    },\n",
        "    {\n",
        "      \"name\": \"Florida\",\n",
        "      \"abbreviation\": \"FL\",\n",
        "      \"area_codes\": [\"239\", \"305\", \"321\", \"352\", \"386\", \"407\", \"561\", \"727\", \"754\", \"772\", \"786\", \"813\", \"850\", \"863\", \"904\", \"941\", \"954\"]\n",
        "    },\n",
        "    {\n",
        "      \"name\": \"Georgia\",\n",
        "      \"abbreviation\": \"GA\",\n",
        "      \"area_codes\": [\"229\", \"404\", \"470\", \"478\", \"678\", \"706\", \"762\", \"770\", \"912\"]\n",
        "    },\n",
        "    {\n",
        "      \"name\": \"Hawaii\",\n",
        "      \"abbreviation\": \"HI\",\n",
        "      \"area_codes\": [\"808\"]\n",
        "    },\n",
        "    {\n",
        "      \"name\": \"Idaho\",\n",
        "      \"abbreviation\": \"ID\",\n",
        "      \"area_codes\": [\"208\"]\n",
        "    },\n",
        "    {\n",
        "      \"name\": \"Illinois\",\n",
        "      \"abbreviation\": \"IL\",\n",
        "      \"area_codes\": [\"217\", \"224\", \"309\", \"312\", \"331\", \"618\", \"630\", \"708\", \"773\", \"779\", \"815\", \"847\", \"872\"]\n",
        "    },\n",
        "    {\n",
        "      \"name\": \"Indiana\",\n",
        "      \"abbreviation\": \"IN\",\n",
        "      \"area_codes\": [\"219\", \"260\", \"317\", \"463\", \"574\", \"765\", \"812\", \"930\"]\n",
        "    },\n",
        "    {\n",
        "      \"name\": \"Iowa\",\n",
        "      \"abbreviation\": \"IA\",\n",
        "      \"area_codes\": [\"319\", \"515\", \"563\", \"641\", \"712\"]\n",
        "    },\n",
        "    { \n",
        "      \"name\": \"Kansas\",\n",
        "      \"abbreviation\": \"KS\",\n",
        "      \"area_codes\": [\"316\", \"620\", \"785\", \"913\"]\n",
        "    },\n",
        "    {\n",
        "      \"name\": \"Kentucky\",\n",
        "      \"abbreviation\": \"KY\",\n",
        "      \"area_codes\": [\"270\", \"364\", \"502\", \"606\", \"859\"]\n",
        "    },\n",
        "    {\n",
        "      \"name\": \"Louisiana\",\n",
        "      \"abbreviation\": \"LA\",\n",
        "      \"area_codes\": [\"225\", \"318\", \"337\", \"504\", \"985\"]\n",
        "    },\n",
        "    {\n",
        "      \"name\": \"Maine\",\n",
        "      \"abbreviation\": \"ME\",\n",
        "      \"area_codes\": [\"207\"]\n",
        "    },\n",
        "    {\n",
        "      \"name\": \"Maryland\",\n",
        "      \"abbreviation\": \"MD\",\n",
        "      \"area_codes\": [\"240\", \"301\", \"410\", \"443\", \"667\"]\n",
        "    },\n",
        "    {\n",
        "      \"name\": \"Massachusetts\",\n",
        "      \"abbreviation\": \"MA\",\n",
        "      \"area_codes\": [\"339\", \"351\", \"413\", \"508\", \"617\", \"774\", \"781\", \"857\", \"978\"]\n",
        "    },\n",
        "    {\n",
        "      \"name\": \"Michigan\",\n",
        "      \"abbreviation\": \"MI\",\n",
        "      \"area_codes\": [\"231\", \"248\", \"269\", \"313\", \"517\", \"586\", \"616\", \"734\", \"810\", \"906\", \"947\", \"989\"]\n",
        "    },\n",
        "    {\n",
        "      \"name\": \"Minnesota\",\n",
        "      \"abbreviation\": \"MN\",\n",
        "      \"area_codes\": [\"218\", \"320\", \"507\", \"612\", \"651\", \"763\", \"952\"]\n",
        "    },\n",
        "    {\n",
        "      \"name\": \"Mississippi\",\n",
        "      \"abbreviation\": \"MS\",\n",
        "      \"area_codes\": [\"228\", \"601\", \"662\", \"769\"]\n",
        "    },\n",
        "    {\n",
        "      \"name\": \"Missouri\",\n",
        "      \"abbreviation\": \"MO\",\n",
        "      \"area_codes\": [\"314\", \"417\", \"573\", \"636\", \"660\", \"816\"]\n",
        "    },\n",
        "    {\n",
        "      \"name\": \"Montana\",\n",
        "      \"abbreviation\": \"MT\",\n",
        "      \"area_codes\": [\"406\"]\n",
        "    },\n",
        "    {\n",
        "      \"name\": \"Nebraska\",\n",
        "      \"abbreviation\": \"NE\",\n",
        "      \"area_codes\": [\"308\", \"402\", \"531\"]\n",
        "    },\n",
        "    {\n",
        "      \"name\": \"Nevada\",\n",
        "      \"abbreviation\": \"NV\",\n",
        "      \"area_codes\": [\"702\", \"725\", \"775\"]\n",
        "    },\n",
        "    {\n",
        "      \"name\": \"New Hampshire\",\n",
        "      \"abbreviation\": \"NH\",\n",
        "      \"area_codes\": [\"603\"]\n",
        "    },\n",
        "    {\n",
        "      \"name\": \"New Jersey\",\n",
        "      \"abbreviation\": \"NJ\",\n",
        "      \"area_codes\": [\"201\", \"551\", \"609\", \"732\", \"848\", \"856\", \"862\", \"908\", \"973\"]\n",
        "    },\n",
        "    {\n",
        "      \"name\": \"New Mexico\",\n",
        "      \"abbreviation\": \"NM\",\n",
        "      \"area_codes\": [\"505\", \"575\"]\n",
        "    },\n",
        "    {\n",
        "      \"name\": \"New York\",\n",
        "      \"abbreviation\": \"NY\",\n",
        "      \"area_codes\": [\"212\", \"315\", \"332\", \"347\", \"516\", \"518\", \"585\", \"607\", \"631\", \"646\", \"680\", \"716\", \"718\", \"845\", \"914\", \"917\", \"929\", \"934\"]\n",
        "    },\n",
        "    {\n",
        "      \"name\": \"North Carolina\",\n",
        "      \"abbreviation\": \"NC\",\n",
        "      \"area_codes\": [\"252\", \"336\", \"704\", \"743\", \"828\", \"910\", \"919\", \"980\", \"984\"]\n",
        "    },\n",
        "    {\n",
        "      \"name\": \"North Dakota\",\n",
        "      \"abbreviation\": \"ND\",\n",
        "      \"area_codes\": [\"701\"]\n",
        "    },\n",
        "    {\n",
        "      \"name\": \"Ohio\",\n",
        "      \"abbreviation\": \"OH\",\n",
        "      \"area_codes\": [\"216\", \"220\", \"234\", \"330\", \"380\", \"419\", \"440\", \"513\", \"567\", \"614\", \"740\", \"937\"]\n",
        "    },\n",
        "    {\n",
        "      \"name\": \"Oklahoma\",\n",
        "      \"abbreviation\": \"OK\",\n",
        "      \"area_codes\": [\"405\", \"539\", \"580\", \"918\"]\n",
        "    },\n",
        "    {\n",
        "      \"name\": \"Oregon\",\n",
        "      \"abbreviation\": \"OR\",\n",
        "      \"area_codes\": [\"458\", \"503\", \"541\", \"971\"]\n",
        "    },\n",
        "    {\n",
        "      \"name\": \"Pennsylvania\",\n",
        "      \"abbreviation\": \"PA\",\n",
        "      \"area_codes\": [\"215\", \"267\", \"272\", \"412\", \"484\", \"570\", \"610\", \"717\", \"724\", \"814\", \"878\"]\n",
        "    },\n",
        "    {\n",
        "      \"name\": \"Rhode Island\",\n",
        "      \"abbreviation\": \"RI\",\n",
        "      \"area_codes\": [\"401\"]\n",
        "    },\n",
        "    {\n",
        "      \"name\": \"South Carolina\",\n",
        "      \"abbreviation\": \"SC\",\n",
        "      \"area_codes\": [\"803\", \"843\", \"854\", \"864\"]\n",
        "    },\n",
        "    {\n",
        "      \"name\": \"South Dakota\",\n",
        "      \"abbreviation\": \"SD\",\n",
        "      \"area_codes\": [\"605\"]\n",
        "    },\n",
        "    {\n",
        "      \"name\": \"Tennessee\",\n",
        "      \"abbreviation\": \"TN\",\n",
        "      \"area_codes\": [\"423\", \"615\", \"629\", \"731\", \"865\", \"901\", \"931\"]\n",
        "    },\n",
        "    {\n",
        "      \"name\": \"Texas\",\n",
        "      \"abbreviation\": \"TX\",\n",
        "      \"area_codes\": [\"210\", \"214\", \"254\", \"281\", \"325\", \"346\", \"361\", \"409\", \"430\", \"432\", \"469\", \"512\", \"682\", \"713\", \"737\", \"806\", \"817\", \"830\", \"832\", \"903\", \"915\", \"936\", \"940\", \"956\", \"972\", \"979\"]\n",
        "    },\n",
        "    {\n",
        "      \"name\": \"Utah\",\n",
        "      \"abbreviation\": \"UT\",\n",
        "      \"area_codes\": [\"385\", \"435\", \"801\"]\n",
        "    },\n",
        "    {\n",
        "      \"name\": \"Vermont\",\n",
        "      \"abbreviation\": \"VT\",\n",
        "      \"area_codes\": [\"802\"]\n",
        "    },\n",
        "    {\n",
        "      \"name\": \"Virginia\",\n",
        "      \"abbreviation\": \"VA\",\n",
        "      \"area_codes\": [\"276\", \"434\", \"540\", \"571\", \"703\", \"757\", \"804\"]\n",
        "    },\n",
        "    {\n",
        "      \"name\": \"Washington\",\n",
        "      \"abbreviation\": \"WA\",\n",
        "      \"area_codes\": [\"206\", \"253\", \"360\", \"425\", \"509\"]\n",
        "    },\n",
        "    {\n",
        "      \"name\": \"West Virginia\",\n",
        "      \"abbreviation\": \"WV\",\n",
        "      \"area_codes\": [\"304\", \"681\"]\n",
        "    },\n",
        "    {\n",
        "      \"name\": \"Wisconsin\",\n",
        "      \"abbreviation\": \"WI\",\n",
        "      \"area_codes\": [\"262\", \"414\", \"534\", \"608\", \"715\", \"920\"]\n",
        "    },\n",
        "    {\n",
        "      \"name\": \"Wyoming\",\n",
        "      \"abbreviation\": \"WY\",\n",
        "      \"area_codes\": [\"307\"]\n",
        "    }\n",
        "  ]\n",
        "}"
      ],
      "metadata": {
        "id": "ST-n6ds_wJ7N"
      },
      "execution_count": null,
      "outputs": []
    },
    {
      "cell_type": "code",
      "source": [
        "import json\n",
        "\n",
        "with open(\"states.json\") as f:\n",
        "  data = json.load(f)   ## yukarida loads yapmistik\n",
        "\n",
        "for i in data[\"states\"]:\n",
        "  print(i)"
      ],
      "metadata": {
        "id": "prC2Tu7vwJ9p",
        "colab": {
          "base_uri": "https://localhost:8080/"
        },
        "outputId": "86d365fb-10d7-4056-914f-f64b9e7668aa"
      },
      "execution_count": null,
      "outputs": [
        {
          "output_type": "stream",
          "name": "stdout",
          "text": [
            "{'name': 'Alabama', 'abbreviation': 'AL', 'area_codes': ['205', '251', '256', '334', '938']}\n",
            "{'name': 'Alaska', 'abbreviation': 'AK', 'area_codes': ['907']}\n",
            "{'name': 'Arizona', 'abbreviation': 'AZ', 'area_codes': ['480', '520', '602', '623', '928']}\n",
            "{'name': 'Arkansas', 'abbreviation': 'AR', 'area_codes': ['479', '501', '870']}\n",
            "{'name': 'California', 'abbreviation': 'CA', 'area_codes': ['209', '213', '310', '323', '408', '415', '424', '442', '510', '530', '559', '562', '619', '626', '628', '650', '657', '661', '669', '707', '714', '747', '760', '805', '818', '831', '858', '909', '916', '925', '949', '951']}\n",
            "{'name': 'Colorado', 'abbreviation': 'CO', 'area_codes': ['303', '719', '720', '970']}\n",
            "{'name': 'Connecticut', 'abbreviation': 'CT', 'area_codes': ['203', '475', '860', '959']}\n",
            "{'name': 'Delaware', 'abbreviation': 'DE', 'area_codes': ['302']}\n",
            "{'name': 'Florida', 'abbreviation': 'FL', 'area_codes': ['239', '305', '321', '352', '386', '407', '561', '727', '754', '772', '786', '813', '850', '863', '904', '941', '954']}\n",
            "{'name': 'Georgia', 'abbreviation': 'GA', 'area_codes': ['229', '404', '470', '478', '678', '706', '762', '770', '912']}\n",
            "{'name': 'Hawaii', 'abbreviation': 'HI', 'area_codes': ['808']}\n",
            "{'name': 'Idaho', 'abbreviation': 'ID', 'area_codes': ['208']}\n",
            "{'name': 'Illinois', 'abbreviation': 'IL', 'area_codes': ['217', '224', '309', '312', '331', '618', '630', '708', '773', '779', '815', '847', '872']}\n",
            "{'name': 'Indiana', 'abbreviation': 'IN', 'area_codes': ['219', '260', '317', '463', '574', '765', '812', '930']}\n",
            "{'name': 'Iowa', 'abbreviation': 'IA', 'area_codes': ['319', '515', '563', '641', '712']}\n",
            "{'name': 'Kansas', 'abbreviation': 'KS', 'area_codes': ['316', '620', '785', '913']}\n",
            "{'name': 'Kentucky', 'abbreviation': 'KY', 'area_codes': ['270', '364', '502', '606', '859']}\n",
            "{'name': 'Louisiana', 'abbreviation': 'LA', 'area_codes': ['225', '318', '337', '504', '985']}\n",
            "{'name': 'Maine', 'abbreviation': 'ME', 'area_codes': ['207']}\n",
            "{'name': 'Maryland', 'abbreviation': 'MD', 'area_codes': ['240', '301', '410', '443', '667']}\n",
            "{'name': 'Massachusetts', 'abbreviation': 'MA', 'area_codes': ['339', '351', '413', '508', '617', '774', '781', '857', '978']}\n",
            "{'name': 'Michigan', 'abbreviation': 'MI', 'area_codes': ['231', '248', '269', '313', '517', '586', '616', '734', '810', '906', '947', '989']}\n",
            "{'name': 'Minnesota', 'abbreviation': 'MN', 'area_codes': ['218', '320', '507', '612', '651', '763', '952']}\n",
            "{'name': 'Mississippi', 'abbreviation': 'MS', 'area_codes': ['228', '601', '662', '769']}\n",
            "{'name': 'Missouri', 'abbreviation': 'MO', 'area_codes': ['314', '417', '573', '636', '660', '816']}\n",
            "{'name': 'Montana', 'abbreviation': 'MT', 'area_codes': ['406']}\n",
            "{'name': 'Nebraska', 'abbreviation': 'NE', 'area_codes': ['308', '402', '531']}\n",
            "{'name': 'Nevada', 'abbreviation': 'NV', 'area_codes': ['702', '725', '775']}\n",
            "{'name': 'New Hampshire', 'abbreviation': 'NH', 'area_codes': ['603']}\n",
            "{'name': 'New Jersey', 'abbreviation': 'NJ', 'area_codes': ['201', '551', '609', '732', '848', '856', '862', '908', '973']}\n",
            "{'name': 'New Mexico', 'abbreviation': 'NM', 'area_codes': ['505', '575']}\n",
            "{'name': 'New York', 'abbreviation': 'NY', 'area_codes': ['212', '315', '332', '347', '516', '518', '585', '607', '631', '646', '680', '716', '718', '845', '914', '917', '929', '934']}\n",
            "{'name': 'North Carolina', 'abbreviation': 'NC', 'area_codes': ['252', '336', '704', '743', '828', '910', '919', '980', '984']}\n",
            "{'name': 'North Dakota', 'abbreviation': 'ND', 'area_codes': ['701']}\n",
            "{'name': 'Ohio', 'abbreviation': 'OH', 'area_codes': ['216', '220', '234', '330', '380', '419', '440', '513', '567', '614', '740', '937']}\n",
            "{'name': 'Oklahoma', 'abbreviation': 'OK', 'area_codes': ['405', '539', '580', '918']}\n",
            "{'name': 'Oregon', 'abbreviation': 'OR', 'area_codes': ['458', '503', '541', '971']}\n",
            "{'name': 'Pennsylvania', 'abbreviation': 'PA', 'area_codes': ['215', '267', '272', '412', '484', '570', '610', '717', '724', '814', '878']}\n",
            "{'name': 'Rhode Island', 'abbreviation': 'RI', 'area_codes': ['401']}\n",
            "{'name': 'South Carolina', 'abbreviation': 'SC', 'area_codes': ['803', '843', '854', '864']}\n",
            "{'name': 'South Dakota', 'abbreviation': 'SD', 'area_codes': ['605']}\n",
            "{'name': 'Tennessee', 'abbreviation': 'TN', 'area_codes': ['423', '615', '629', '731', '865', '901', '931']}\n",
            "{'name': 'Texas', 'abbreviation': 'TX', 'area_codes': ['210', '214', '254', '281', '325', '346', '361', '409', '430', '432', '469', '512', '682', '713', '737', '806', '817', '830', '832', '903', '915', '936', '940', '956', '972', '979']}\n",
            "{'name': 'Utah', 'abbreviation': 'UT', 'area_codes': ['385', '435', '801']}\n",
            "{'name': 'Vermont', 'abbreviation': 'VT', 'area_codes': ['802']}\n",
            "{'name': 'Virginia', 'abbreviation': 'VA', 'area_codes': ['276', '434', '540', '571', '703', '757', '804']}\n",
            "{'name': 'Washington', 'abbreviation': 'WA', 'area_codes': ['206', '253', '360', '425', '509']}\n",
            "{'name': 'West Virginia', 'abbreviation': 'WV', 'area_codes': ['304', '681']}\n",
            "{'name': 'Wisconsin', 'abbreviation': 'WI', 'area_codes': ['262', '414', '534', '608', '715', '920']}\n",
            "{'name': 'Wyoming', 'abbreviation': 'WY', 'area_codes': ['307']}\n"
          ]
        }
      ]
    },
    {
      "cell_type": "code",
      "source": [
        "## simdi sadece name'leri ve abbreviation leri yazdiralim\n",
        "\n",
        "with open(\"states.json\") as f:\n",
        "  data = json.load(f)   ## yukarida loads yapmistik\n",
        "\n",
        "for i in data[\"states\"]:\n",
        "  print(i[\"name\"], i[\"abbreviation\"])"
      ],
      "metadata": {
        "id": "iI-ToYuxwKAG",
        "colab": {
          "base_uri": "https://localhost:8080/"
        },
        "outputId": "38641235-f1df-44c3-feb1-98283cf8fd5f"
      },
      "execution_count": null,
      "outputs": [
        {
          "output_type": "stream",
          "name": "stdout",
          "text": [
            "Alabama AL\n",
            "Alaska AK\n",
            "Arizona AZ\n",
            "Arkansas AR\n",
            "California CA\n",
            "Colorado CO\n",
            "Connecticut CT\n",
            "Delaware DE\n",
            "Florida FL\n",
            "Georgia GA\n",
            "Hawaii HI\n",
            "Idaho ID\n",
            "Illinois IL\n",
            "Indiana IN\n",
            "Iowa IA\n",
            "Kansas KS\n",
            "Kentucky KY\n",
            "Louisiana LA\n",
            "Maine ME\n",
            "Maryland MD\n",
            "Massachusetts MA\n",
            "Michigan MI\n",
            "Minnesota MN\n",
            "Mississippi MS\n",
            "Missouri MO\n",
            "Montana MT\n",
            "Nebraska NE\n",
            "Nevada NV\n",
            "New Hampshire NH\n",
            "New Jersey NJ\n",
            "New Mexico NM\n",
            "New York NY\n",
            "North Carolina NC\n",
            "North Dakota ND\n",
            "Ohio OH\n",
            "Oklahoma OK\n",
            "Oregon OR\n",
            "Pennsylvania PA\n",
            "Rhode Island RI\n",
            "South Carolina SC\n",
            "South Dakota SD\n",
            "Tennessee TN\n",
            "Texas TX\n",
            "Utah UT\n",
            "Vermont VT\n",
            "Virginia VA\n",
            "Washington WA\n",
            "West Virginia WV\n",
            "Wisconsin WI\n",
            "Wyoming WY\n"
          ]
        }
      ]
    },
    {
      "cell_type": "code",
      "source": [
        "for i in data[\"states\"]:\n",
        "  del i[\"area_codes\"]\n",
        "  print(i)"
      ],
      "metadata": {
        "id": "PPvsLs6kwKCb",
        "colab": {
          "base_uri": "https://localhost:8080/"
        },
        "outputId": "4f217a22-ffe4-4f6e-dc87-036c70bf0031"
      },
      "execution_count": null,
      "outputs": [
        {
          "output_type": "stream",
          "name": "stdout",
          "text": [
            "{'name': 'Alabama', 'abbreviation': 'AL'}\n",
            "{'name': 'Alaska', 'abbreviation': 'AK'}\n",
            "{'name': 'Arizona', 'abbreviation': 'AZ'}\n",
            "{'name': 'Arkansas', 'abbreviation': 'AR'}\n",
            "{'name': 'California', 'abbreviation': 'CA'}\n",
            "{'name': 'Colorado', 'abbreviation': 'CO'}\n",
            "{'name': 'Connecticut', 'abbreviation': 'CT'}\n",
            "{'name': 'Delaware', 'abbreviation': 'DE'}\n",
            "{'name': 'Florida', 'abbreviation': 'FL'}\n",
            "{'name': 'Georgia', 'abbreviation': 'GA'}\n",
            "{'name': 'Hawaii', 'abbreviation': 'HI'}\n",
            "{'name': 'Idaho', 'abbreviation': 'ID'}\n",
            "{'name': 'Illinois', 'abbreviation': 'IL'}\n",
            "{'name': 'Indiana', 'abbreviation': 'IN'}\n",
            "{'name': 'Iowa', 'abbreviation': 'IA'}\n",
            "{'name': 'Kansas', 'abbreviation': 'KS'}\n",
            "{'name': 'Kentucky', 'abbreviation': 'KY'}\n",
            "{'name': 'Louisiana', 'abbreviation': 'LA'}\n",
            "{'name': 'Maine', 'abbreviation': 'ME'}\n",
            "{'name': 'Maryland', 'abbreviation': 'MD'}\n",
            "{'name': 'Massachusetts', 'abbreviation': 'MA'}\n",
            "{'name': 'Michigan', 'abbreviation': 'MI'}\n",
            "{'name': 'Minnesota', 'abbreviation': 'MN'}\n",
            "{'name': 'Mississippi', 'abbreviation': 'MS'}\n",
            "{'name': 'Missouri', 'abbreviation': 'MO'}\n",
            "{'name': 'Montana', 'abbreviation': 'MT'}\n",
            "{'name': 'Nebraska', 'abbreviation': 'NE'}\n",
            "{'name': 'Nevada', 'abbreviation': 'NV'}\n",
            "{'name': 'New Hampshire', 'abbreviation': 'NH'}\n",
            "{'name': 'New Jersey', 'abbreviation': 'NJ'}\n",
            "{'name': 'New Mexico', 'abbreviation': 'NM'}\n",
            "{'name': 'New York', 'abbreviation': 'NY'}\n",
            "{'name': 'North Carolina', 'abbreviation': 'NC'}\n",
            "{'name': 'North Dakota', 'abbreviation': 'ND'}\n",
            "{'name': 'Ohio', 'abbreviation': 'OH'}\n",
            "{'name': 'Oklahoma', 'abbreviation': 'OK'}\n",
            "{'name': 'Oregon', 'abbreviation': 'OR'}\n",
            "{'name': 'Pennsylvania', 'abbreviation': 'PA'}\n",
            "{'name': 'Rhode Island', 'abbreviation': 'RI'}\n",
            "{'name': 'South Carolina', 'abbreviation': 'SC'}\n",
            "{'name': 'South Dakota', 'abbreviation': 'SD'}\n",
            "{'name': 'Tennessee', 'abbreviation': 'TN'}\n",
            "{'name': 'Texas', 'abbreviation': 'TX'}\n",
            "{'name': 'Utah', 'abbreviation': 'UT'}\n",
            "{'name': 'Vermont', 'abbreviation': 'VT'}\n",
            "{'name': 'Virginia', 'abbreviation': 'VA'}\n",
            "{'name': 'Washington', 'abbreviation': 'WA'}\n",
            "{'name': 'West Virginia', 'abbreviation': 'WV'}\n",
            "{'name': 'Wisconsin', 'abbreviation': 'WI'}\n",
            "{'name': 'Wyoming', 'abbreviation': 'WY'}\n"
          ]
        }
      ]
    },
    {
      "cell_type": "code",
      "source": [
        "# simdi yeni bir json dosyasi acalim ve icerisine yazalim:\n",
        "\n",
        "with open(\"new.json\", \"w\") as f :     # yeni olusturdugumuz dosyayi f degiskenine atadik\n",
        "  json.dump(data, f)                  # ve data degiskeninde bulunan verileri\n",
        "                                      # f adindaki yeni dosyamizin icine attik "
      ],
      "metadata": {
        "id": "gWoCe1WRwKE7"
      },
      "execution_count": null,
      "outputs": []
    },
    {
      "cell_type": "code",
      "source": [
        ""
      ],
      "metadata": {
        "id": "mRnB_KWDuFyX"
      },
      "execution_count": null,
      "outputs": []
    },
    {
      "cell_type": "code",
      "source": [
        ""
      ],
      "metadata": {
        "id": "kn8yFW_juF0-"
      },
      "execution_count": null,
      "outputs": []
    },
    {
      "cell_type": "code",
      "source": [
        ""
      ],
      "metadata": {
        "id": "8a3R2FiNuF35"
      },
      "execution_count": null,
      "outputs": []
    },
    {
      "cell_type": "code",
      "source": [
        ""
      ],
      "metadata": {
        "id": "LQ86e8hvuF6k"
      },
      "execution_count": null,
      "outputs": []
    },
    {
      "cell_type": "code",
      "source": [
        ""
      ],
      "metadata": {
        "id": "36283zgKuF9U"
      },
      "execution_count": null,
      "outputs": []
    },
    {
      "cell_type": "code",
      "source": [
        ""
      ],
      "metadata": {
        "id": "EmcA2hXouGBC"
      },
      "execution_count": null,
      "outputs": []
    },
    {
      "cell_type": "code",
      "source": [
        ""
      ],
      "metadata": {
        "id": "FSum6F4zuGEq"
      },
      "execution_count": null,
      "outputs": []
    },
    {
      "cell_type": "code",
      "source": [
        ""
      ],
      "metadata": {
        "id": "TBhSCgOUuGHj"
      },
      "execution_count": null,
      "outputs": []
    },
    {
      "cell_type": "code",
      "source": [
        ""
      ],
      "metadata": {
        "id": "ikKJo0w7uGJ3"
      },
      "execution_count": null,
      "outputs": []
    },
    {
      "cell_type": "code",
      "source": [
        ""
      ],
      "metadata": {
        "id": "ETBo4EkouGMm"
      },
      "execution_count": null,
      "outputs": []
    },
    {
      "cell_type": "code",
      "source": [
        ""
      ],
      "metadata": {
        "id": "rDOHqL0vuGO_"
      },
      "execution_count": null,
      "outputs": []
    },
    {
      "cell_type": "code",
      "source": [
        ""
      ],
      "metadata": {
        "id": "Ipw2PyFouGRg"
      },
      "execution_count": null,
      "outputs": []
    },
    {
      "cell_type": "code",
      "source": [
        ""
      ],
      "metadata": {
        "id": "kPmSt5SwuGUL"
      },
      "execution_count": null,
      "outputs": []
    },
    {
      "cell_type": "code",
      "source": [
        ""
      ],
      "metadata": {
        "id": "P8e-HiKLkxQh"
      },
      "execution_count": null,
      "outputs": []
    },
    {
      "cell_type": "code",
      "source": [
        ""
      ],
      "metadata": {
        "id": "721Q-PKEcVZ_"
      },
      "execution_count": null,
      "outputs": []
    },
    {
      "cell_type": "code",
      "source": [
        ""
      ],
      "metadata": {
        "id": "cA1j1BPxcVcF"
      },
      "execution_count": null,
      "outputs": []
    },
    {
      "cell_type": "code",
      "source": [
        ""
      ],
      "metadata": {
        "id": "qzC34s_d88Kq"
      },
      "execution_count": null,
      "outputs": []
    },
    {
      "cell_type": "code",
      "source": [
        "########################################################\n",
        "\n",
        "# 1. ders tekrari:"
      ],
      "metadata": {
        "id": "qkS8QGSF88NO"
      },
      "execution_count": null,
      "outputs": []
    },
    {
      "cell_type": "code",
      "source": [
        "## text tabanli dosyalar:\n",
        "\n",
        "# txt (microsoft)\n",
        "# plain text (apple)\n",
        "# csv (comma seperated valeu(virdüller ile ayrilmis degerler))\n",
        "# json\n",
        "# tsv\n",
        "# tab seperated value\n",
        "# xml"
      ],
      "metadata": {
        "id": "P5m1rYUL88Px"
      },
      "execution_count": null,
      "outputs": []
    },
    {
      "cell_type": "code",
      "source": [
        "## open function:\n",
        "\n",
        "open(file, mode = \"r\", buffering = -1)"
      ],
      "metadata": {
        "id": "ZxI3x6wv88Sx"
      },
      "execution_count": null,
      "outputs": []
    },
    {
      "cell_type": "code",
      "source": [
        "# file, dosya yolunu yazdirmamizi saglar.\n",
        "# yani o anda dosyamiz nerede\n",
        "# pwd komutunu yazdigimizda karsimiza cikan adres"
      ],
      "metadata": {
        "id": "P3TePo7Y88VQ"
      },
      "execution_count": null,
      "outputs": []
    },
    {
      "cell_type": "code",
      "source": [
        "import os   ## bu bizim dosya islemlerinde kullanacagimiz bir modül\n",
        "\n",
        "dosya_icerigi = os.listdir()\n",
        "dosya_icerigi   # bu komutla, su and aicerisinde bulundugumuz current directory nin icerigini listeler\n",
        "                # colab de ise content in icerigini listeler"
      ],
      "metadata": {
        "id": "8okHoRMq88YU",
        "colab": {
          "base_uri": "https://localhost:8080/"
        },
        "outputId": "46d3fa55-b0c1-4104-fa6c-7c867b49fe14"
      },
      "execution_count": null,
      "outputs": [
        {
          "output_type": "execute_result",
          "data": {
            "text/plain": [
              "['.config', 'sample_data']"
            ]
          },
          "metadata": {},
          "execution_count": 3
        }
      ]
    },
    {
      "cell_type": "code",
      "source": [
        "import shutil             ## bir tane klasör(directory) olusturuyoruz\n",
        "                          # daha sonra asgidaki gibi yazarak zip leme yapiyoruz\n",
        "shutil.make_archive(\"tarik\", \"zip\")    # bu koddan sonra, ilk yazdigimiz klasör adinda\n",
        "                                                # zip li bir dosya olusturuyor. Dikkat:\n",
        "                                                # yeni olusan sey dosya olur"
      ],
      "metadata": {
        "id": "izMY8QGb88bV",
        "colab": {
          "base_uri": "https://localhost:8080/",
          "height": 36
        },
        "outputId": "570cc010-ca80-484e-92e4-f82b81aae95c"
      },
      "execution_count": null,
      "outputs": [
        {
          "output_type": "execute_result",
          "data": {
            "application/vnd.google.colaboratory.intrinsic+json": {
              "type": "string"
            },
            "text/plain": [
              "'tarik.zip'"
            ]
          },
          "metadata": {},
          "execution_count": 11
        }
      ]
    },
    {
      "cell_type": "code",
      "source": [
        "shutil.make_archive()"
      ],
      "metadata": {
        "id": "FnrNtXyw88dn"
      },
      "execution_count": null,
      "outputs": []
    },
    {
      "cell_type": "code",
      "source": [
        "## os ve shutil i arastiralim"
      ],
      "metadata": {
        "id": "oT_DQMoGRcZc"
      },
      "execution_count": null,
      "outputs": []
    },
    {
      "cell_type": "code",
      "source": [
        ""
      ],
      "metadata": {
        "id": "Dz_zWE4BRceV"
      },
      "execution_count": null,
      "outputs": []
    },
    {
      "cell_type": "code",
      "source": [
        "######################################\n",
        "\n",
        "##############  2. Ders Tekrari"
      ],
      "metadata": {
        "id": "jeArI4RyRcgz"
      },
      "execution_count": null,
      "outputs": []
    },
    {
      "cell_type": "code",
      "source": [
        "## utf-8 : unicode transformation format"
      ],
      "metadata": {
        "id": "YzR4E_3GRckX"
      },
      "execution_count": null,
      "outputs": []
    },
    {
      "cell_type": "code",
      "source": [
        "# open komutun da dosya ismi strind olarak yazilir\n",
        "\n",
        "# open(\"test.txt\")"
      ],
      "metadata": {
        "id": "7uCLkEtw88fh"
      },
      "execution_count": null,
      "outputs": []
    },
    {
      "cell_type": "code",
      "source": [
        "my_file = open(\"test.txt\")\n",
        "print(type(my_file)) # degiskene open func tanip print edildiginde file like object olusturur\n",
        "\n",
        "# yani open func file like object üretir"
      ],
      "metadata": {
        "id": "KMVjpOix5iVs",
        "colab": {
          "base_uri": "https://localhost:8080/"
        },
        "outputId": "0dd1dec6-cc3f-429d-e882-3d48c462c417"
      },
      "execution_count": null,
      "outputs": [
        {
          "output_type": "stream",
          "name": "stdout",
          "text": [
            "<class '_io.TextIOWrapper'>\n"
          ]
        }
      ]
    },
    {
      "cell_type": "code",
      "source": [
        "#### modlar:\n",
        "\n",
        "# r: read\n",
        "\n",
        "# a: kurzer nerede kaldi ise oraya append eder\n",
        "# eger dosya yoksa sifirdan olusturur ve ekler\n",
        "\n",
        "# w: write : overwrite yapar eskisini siler üzerine yazar\n",
        "# a ile w nun farki budur\n"
      ],
      "metadata": {
        "id": "Q490-hPJ5iZF"
      },
      "execution_count": null,
      "outputs": []
    },
    {
      "cell_type": "code",
      "source": [
        "# yukarida open func ile olusturmus oldugumuz file like object üzerinde\n",
        "# okuma islemlerini 4 farkli yöntemle yapabiliriz.\n",
        "\n",
        "# 1: read(size)\n",
        "# 2: readline(size)\n",
        "# 3: readlines()\n",
        "# 4: for loops"
      ],
      "metadata": {
        "id": "hMQ-IWLh5icZ"
      },
      "execution_count": null,
      "outputs": []
    },
    {
      "cell_type": "code",
      "source": [
        "file = open(\"fishes.txt\", \"r\", encoding= \"utf-8\")\n",
        "\n",
        "print(file.read())\n",
        "file.close()"
      ],
      "metadata": {
        "id": "y5XOe9V95ie1",
        "colab": {
          "base_uri": "https://localhost:8080/"
        },
        "outputId": "ec9e0e1d-8bdc-4546-cdb5-6c1ff1ae1291"
      },
      "execution_count": null,
      "outputs": [
        {
          "output_type": "stream",
          "name": "stdout",
          "text": [
            "Orca is a kind of Dolphin.\n",
            "Blue Whale is the largest animal known on earth.\n",
            "Sharks are the sister group to the Rays (batoids).\n",
            "The Tuna Fish can weigh up to 260 kg.\n",
            "Squid and Octopus are in the same class.\n"
          ]
        }
      ]
    },
    {
      "cell_type": "code",
      "source": [
        "file = open(\"fishes.txt\", \"r\", encoding= \"utf-8\")\n",
        "\n",
        "content = file.read()  # read methodu string bir deger üretir\n",
        "file.close()           # string ile ürettigimiz stringi bir degiskene atayabiliriz \n",
        "                        # degiskene atadigimiz deger artik odegisken üzerinde kalir\n",
        "                        # yani bu degisken artik open ve close disinda da calisir\n",
        "                        # asagidaki hücrelerde deneyelim"
      ],
      "metadata": {
        "id": "v_CVvDtn5igm"
      },
      "execution_count": null,
      "outputs": []
    },
    {
      "cell_type": "code",
      "source": [
        "print(content)"
      ],
      "metadata": {
        "id": "Boor06MJ5iiW",
        "colab": {
          "base_uri": "https://localhost:8080/"
        },
        "outputId": "b31dfd91-8d92-46d4-ea60-7f92bc71fdbd"
      },
      "execution_count": null,
      "outputs": [
        {
          "output_type": "stream",
          "name": "stdout",
          "text": [
            "Orca is a kind of Dolphin.\n",
            "Blue Whale is the largest animal known on earth.\n",
            "Sharks are the sister group to the Rays (batoids).\n",
            "The Tuna Fish can weigh up to 260 kg.\n",
            "Squid and Octopus are in the same class.\n"
          ]
        }
      ]
    },
    {
      "cell_type": "code",
      "source": [
        "file = open(\"fishes.txt\", \"r\", encoding= \"utf-8\")\n",
        "\n",
        "print(file.read(33))  # \"\\n\" dahil 33 olur\n",
        "file.close()"
      ],
      "metadata": {
        "id": "7GPpVOoW5ikh",
        "colab": {
          "base_uri": "https://localhost:8080/"
        },
        "outputId": "da41e3d9-7ac4-485b-c608-274fd3e36edd"
      },
      "execution_count": null,
      "outputs": [
        {
          "output_type": "stream",
          "name": "stdout",
          "text": [
            "Orca is a kind of Dolphin.\n",
            "Blue W\n"
          ]
        }
      ]
    },
    {
      "cell_type": "code",
      "source": [
        "# yukarida icerisinde string attigimiz content degiskeninin uzunluguna bakalim\n",
        "\n",
        "print(len(content))\n",
        "print(content[:33])  #Burada \"\\n\" yoktur. O nedenle 34 demedik"
      ],
      "metadata": {
        "id": "uy5mELvz5imW",
        "colab": {
          "base_uri": "https://localhost:8080/"
        },
        "outputId": "a62a8fc5-065e-470f-8c7e-c7e25506d088"
      },
      "execution_count": null,
      "outputs": [
        {
          "output_type": "stream",
          "name": "stdout",
          "text": [
            "205\n",
            "Orca is a kind of Dolphin.\n",
            "Blue W\n"
          ]
        }
      ]
    },
    {
      "cell_type": "code",
      "source": [
        "## pes pese 2 kez 33 diyelim\n",
        "\n",
        "file = open(\"fishes.txt\", \"r\", encoding= \"utf-8\")\n",
        "\n",
        "print(file.read(33)) \n",
        "print(file.read(33))\n",
        "file.close()\n",
        "\n",
        "# kurzer in kaldigi yerden devam eder.\n",
        "# ama iki kez print dedigimiz icin alt satirdan devam etti"
      ],
      "metadata": {
        "colab": {
          "base_uri": "https://localhost:8080/"
        },
        "id": "0LvQjRMOBukv",
        "outputId": "aa8d0753-1c61-42f9-9066-0e2c63b2485b"
      },
      "execution_count": null,
      "outputs": [
        {
          "output_type": "stream",
          "name": "stdout",
          "text": [
            "Orca is a kind of Dolphin.\n",
            "Blue W\n",
            "hale is the largest animal known \n"
          ]
        }
      ]
    },
    {
      "cell_type": "code",
      "source": [
        "## seek komutu ile kurzer in konumunu ayarlariz\n",
        "\n",
        "file = open(\"fishes.txt\", \"r\", encoding= \"utf-8\")\n",
        "\n",
        "print(file.read(33)) \n",
        "print()\n",
        "print(file.read(33))\n",
        "print()\n",
        "file.seek(0)\n",
        "print(file.read(33))\n",
        "file.close()"
      ],
      "metadata": {
        "colab": {
          "base_uri": "https://localhost:8080/"
        },
        "id": "Mv9FyCljBuoI",
        "outputId": "bd9a34c7-b13c-4d9a-a4b0-5c48baace859"
      },
      "execution_count": null,
      "outputs": [
        {
          "output_type": "stream",
          "name": "stdout",
          "text": [
            "Orca is a kind of Dolphin.\n",
            "Blue W\n",
            "\n",
            "hale is the largest animal known \n",
            "\n",
            "Orca is a kind of Dolphin.\n",
            "Blue W\n"
          ]
        }
      ]
    },
    {
      "cell_type": "code",
      "source": [
        "## kurzer'in mevcut konumunu görüntüleme\n",
        "\n",
        "file = open(\"fishes.txt\", \"r\", encoding= \"utf-8\")\n",
        "\n",
        "print(file.read(33)) \n",
        "print(file.read(33))\n",
        "\n",
        "print(file.tell())\n",
        "file.close()"
      ],
      "metadata": {
        "colab": {
          "base_uri": "https://localhost:8080/"
        },
        "id": "Jq0yQ8z6ButE",
        "outputId": "fe71e28b-b4cc-4823-9364-d308aaba9eb1"
      },
      "execution_count": null,
      "outputs": [
        {
          "output_type": "stream",
          "name": "stdout",
          "text": [
            "Orca is a kind of Dolphin.\n",
            "Blue W\n",
            "hale is the largest animal known \n",
            "67\n"
          ]
        }
      ]
    },
    {
      "cell_type": "code",
      "source": [
        "file = open(\"fishes.txt\", \"r\", encoding= \"utf-8\")\n",
        "\n",
        "print(file.read(33)) \n",
        "print(file.read(15))\n",
        "print(file.tell())\n",
        "\n",
        "file.seek(0)\n",
        "\n",
        "print(file.read(33)) \n",
        "print(file.tell())\n",
        "file.close()"
      ],
      "metadata": {
        "colab": {
          "base_uri": "https://localhost:8080/"
        },
        "id": "3cIrzGjfBuwo",
        "outputId": "adf988c6-991f-4629-fdba-4d93bebd05e3"
      },
      "execution_count": null,
      "outputs": [
        {
          "output_type": "stream",
          "name": "stdout",
          "text": [
            "Orca is a kind of Dolphin.\n",
            "Blue W\n",
            "hale is the lar\n",
            "49\n",
            "Orca is a kind of Dolphin.\n",
            "Blue W\n",
            "34\n"
          ]
        }
      ]
    },
    {
      "cell_type": "code",
      "source": [
        "file = open(\"rumi.txt\", \"r\")\n",
        "print(file.read())"
      ],
      "metadata": {
        "colab": {
          "base_uri": "https://localhost:8080/"
        },
        "id": "eZncLd8hBu0T",
        "outputId": "40d96549-50e9-4fd6-a7d2-1f4b06c08a05"
      },
      "execution_count": null,
      "outputs": [
        {
          "output_type": "stream",
          "name": "stdout",
          "text": [
            "I want to sing\n",
            "Like the birds sing,\n",
            "Not worrying about\n",
            "Who hears or\n",
            "What they think.\n"
          ]
        }
      ]
    },
    {
      "cell_type": "code",
      "source": [
        "with open(\"rumi.txt\", \"r\") as filem:\n",
        "  print(filem.read())"
      ],
      "metadata": {
        "colab": {
          "base_uri": "https://localhost:8080/"
        },
        "id": "s_cP8DX1Eug0",
        "outputId": "cfcc6b48-1201-4b0a-961c-ac9d95f64a03"
      },
      "execution_count": null,
      "outputs": [
        {
          "output_type": "stream",
          "name": "stdout",
          "text": [
            "I want to sing\n",
            "Like the birds sing,\n",
            "Not worrying about\n",
            "Who hears or\n",
            "What they think.\n"
          ]
        }
      ]
    },
    {
      "cell_type": "code",
      "source": [
        "rumi = open(\"rumi.txt\", \"r\")\n",
        "\n",
        "print(rumi.read(35))\n",
        "print(rumi.read(13))  ## Not worrying\n",
        "print(rumi.tell())   ## kurzer nerede\n",
        "\n",
        "rumi.seek(15)  ## kurzer'i ikinci satirin basina aliniz\n",
        "print(rumi.read(21))  # kurzer'i 15 e aldiktan sonra sadece 2. satiri okutunuz\n",
        "rumi.close()\n",
        "\n",
        "\n",
        "## 13 ve 35 den sonra tell dedigimizde sonuc 50 cikar.\n",
        "# Bu sayi pc den pc ye operating systemden systeme degisebilir"
      ],
      "metadata": {
        "id": "d3jFUP_CEuj_",
        "colab": {
          "base_uri": "https://localhost:8080/"
        },
        "outputId": "b597bd26-50de-405e-8be5-be91048b7eaf"
      },
      "execution_count": null,
      "outputs": [
        {
          "output_type": "stream",
          "name": "stdout",
          "text": [
            "I want to sing\n",
            "Like the birds sing,\n",
            "\n",
            "Not worrying\n",
            "50\n",
            "\n",
            "Like the birds sing,\n"
          ]
        }
      ]
    },
    {
      "cell_type": "code",
      "source": [
        ""
      ],
      "metadata": {
        "id": "FS-iH4yfEuoT"
      },
      "execution_count": null,
      "outputs": []
    },
    {
      "cell_type": "code",
      "source": [
        "########### readline()  methodu\n",
        "\n",
        "# satir satir okur.\n",
        "# \"\\n\" karakterini baz alir.\n",
        "# bu karakteri bulana kadar print eder.\n",
        "# her satirdan sonra bir enter vurusu yapar"
      ],
      "metadata": {
        "id": "B3-0nL9yEurg"
      },
      "execution_count": null,
      "outputs": []
    },
    {
      "cell_type": "code",
      "source": [
        "sea = open(\"fishes.txt\", \"r\")\n",
        "\n",
        "print(sea.readline())  ## burada her print bir asagi satira gecirir\n",
        "print(sea.readline())   ## bir de her satir sonunda \"\\n\" var. o nedenle bir bosluk olur\n",
        "print(sea.readline())"
      ],
      "metadata": {
        "id": "ys6fRMudEuuD",
        "colab": {
          "base_uri": "https://localhost:8080/"
        },
        "outputId": "bc4b8850-06cb-4270-d089-f53be6a853c9"
      },
      "execution_count": null,
      "outputs": [
        {
          "output_type": "stream",
          "name": "stdout",
          "text": [
            "Orca is a kind of Dolphin.\n",
            "\n",
            "Blue Whale is the largest animal known on earth.\n",
            "\n",
            "Sharks are the sister group to the Rays (batoids).\n",
            "\n"
          ]
        }
      ]
    },
    {
      "cell_type": "code",
      "source": [
        "### eger, tek print kullanirsak, bu durumda aralarda bosluk olmaz\n",
        "\n",
        "sea = open(\"fishes.txt\", \"r\")\n",
        "\n",
        "print(sea.readline(), sea.readline(), sea.readline()) \n",
        "\n",
        "# satir sonlarindaki newline dan dolayi 2 ve 3. satirlar birer bosluk sagdan baslar"
      ],
      "metadata": {
        "id": "BOFrC6UMBu3n",
        "colab": {
          "base_uri": "https://localhost:8080/"
        },
        "outputId": "89227caf-fb0c-4360-e2a6-bc65630b5a46"
      },
      "execution_count": null,
      "outputs": [
        {
          "output_type": "stream",
          "name": "stdout",
          "text": [
            "Orca is a kind of Dolphin.\n",
            " Blue Whale is the largest animal known on earth.\n",
            " Sharks are the sister group to the Rays (batoids).\n",
            "\n"
          ]
        }
      ]
    },
    {
      "cell_type": "code",
      "source": [
        "## readline satir satir okuma yapar.\n",
        "# her satirdan sonra kurzer, bir alt satirda kalacagindan\n",
        "# okumaya oradan devam eder.\n",
        "\n",
        "# dosyayi close yaptiktan sonra da kurzer basa döner"
      ],
      "metadata": {
        "id": "HjzkoXpQBu7c"
      },
      "execution_count": null,
      "outputs": []
    },
    {
      "cell_type": "code",
      "source": [
        "### read methodlari ile okudugumuz veriyi degiskene de atabilir\n",
        "# ve daha sonra baska yerlerde kullanabiliriz\n",
        "\n",
        "sea = open(\"fishes.txt\", \"r\")\n",
        "\n",
        "degisken1 = sea.readline()\n",
        "\n",
        "degisken2 = sea.read()\n",
        "\n",
        "degisken3 = sea.readlines()\n",
        "\n",
        "print(degisken1)\n",
        "print(degisken2)\n",
        "print(degisken3)"
      ],
      "metadata": {
        "colab": {
          "base_uri": "https://localhost:8080/"
        },
        "id": "iN_g1d1yF2uG",
        "outputId": "36d5d8d5-d2f5-4046-e9a4-8a4ca2d6b966"
      },
      "execution_count": null,
      "outputs": [
        {
          "output_type": "stream",
          "name": "stdout",
          "text": [
            "Orca is a kind of Dolphin.\n",
            "\n",
            "Blue Whale is the largest animal known on earth.\n",
            "Sharks are the sister group to the Rays (batoids).\n",
            "The Tuna Fish can weigh up to 260 kg.\n",
            "Squid and Octopus are in the same class.\n",
            "[]\n"
          ]
        }
      ]
    },
    {
      "cell_type": "code",
      "source": [
        "# readline icerisine bir sayi girilmez ise tüm satiri okur.\n",
        "# eger sayi girilir ise, kurzer'in oldugu satirda yazdigimiz sayi kadar karakter okur\n"
      ],
      "metadata": {
        "id": "qhgpVLDDF2wq"
      },
      "execution_count": null,
      "outputs": []
    },
    {
      "cell_type": "code",
      "source": [
        "## simdi tek satiri 3 ayri kod bloku ile okuyacagiz\n",
        "\n",
        "sea = open(\"fishes.txt\", \"r\")\n",
        "\n",
        "print(sea.readline(13))   # ilk satir \"\\n\" karakteri dahil 27 karakter\n",
        "print(sea.readline(10))\n",
        "print(sea.readline(20))   # buraya kac girersek girelim, satirin kalan karakteri kadar okur\n",
        "\n",
        "print(sea.readline(13))   ## üst satirdaki kod da, satiri komple bitirdigimiz icin\n",
        "                          #  bu print yeni satira gecer"
      ],
      "metadata": {
        "colab": {
          "base_uri": "https://localhost:8080/"
        },
        "id": "gEqkoQt6F2yt",
        "outputId": "2b8dbe51-eedc-4afb-ed16-420b908a15b2"
      },
      "execution_count": null,
      "outputs": [
        {
          "output_type": "stream",
          "name": "stdout",
          "text": [
            "Orca is a kin\n",
            "d of Dolph\n",
            "in.\n",
            "\n",
            "Blue Whale is\n"
          ]
        }
      ]
    },
    {
      "cell_type": "code",
      "source": [
        "## degiskenlere atiyoruz\n",
        "\n",
        "sea = open(\"fishes.txt\", \"r\")\n",
        "\n",
        "part1 = sea.readline(13)\n",
        "part2 = sea.readline(10)\n",
        "part3 = sea.readline(20)  \n",
        "\n",
        "firstline = part1 + part2 + part3\n",
        "\n",
        "print(firstline)"
      ],
      "metadata": {
        "colab": {
          "base_uri": "https://localhost:8080/"
        },
        "id": "XNkYJuoNF207",
        "outputId": "e666da97-1ac2-47a7-d436-93e44ed88878"
      },
      "execution_count": null,
      "outputs": [
        {
          "output_type": "stream",
          "name": "stdout",
          "text": [
            "Orca is a kind of Dolphin.\n",
            "\n"
          ]
        }
      ]
    },
    {
      "cell_type": "code",
      "source": [
        ""
      ],
      "metadata": {
        "id": "RFHjMEatF23j"
      },
      "execution_count": null,
      "outputs": []
    },
    {
      "cell_type": "code",
      "source": [
        "#######################  readlines()"
      ],
      "metadata": {
        "id": "75jh2Ay8F25D"
      },
      "execution_count": null,
      "outputs": []
    },
    {
      "cell_type": "code",
      "source": [
        "## bu bir liste yani iterable olusturur\n",
        "# print ettigimizde liste cikti aliriz\n",
        "\n",
        "# bu demek oluyor ki; satirlar arasinda gezinebiliriz\n",
        "# loop lar ile kullanabiliriz"
      ],
      "metadata": {
        "id": "_SkiTvWzBu_r"
      },
      "execution_count": null,
      "outputs": []
    },
    {
      "cell_type": "code",
      "source": [
        "sea = open(\"fishes.txt\", \"r\")\n",
        "\n",
        "print(sea.readlines())\n",
        "\n",
        "sea.close()"
      ],
      "metadata": {
        "id": "LKT7l0TdBvDk",
        "colab": {
          "base_uri": "https://localhost:8080/"
        },
        "outputId": "b8ad20a3-f002-41bf-d0ec-595fcd3ce8ec"
      },
      "execution_count": null,
      "outputs": [
        {
          "output_type": "stream",
          "name": "stdout",
          "text": [
            "['Orca is a kind of Dolphin.\\n', 'Blue Whale is the largest animal known on earth.\\n', 'Sharks are the sister group to the Rays (batoids).\\n', 'The Tuna Fish can weigh up to 260 kg.\\n', 'Squid and Octopus are in the same class.']\n"
          ]
        }
      ]
    },
    {
      "cell_type": "code",
      "source": [
        "#########  dosya acip kapatmanin kisa yöntemi:\n",
        "\n",
        "with open(\"fishes.txt\") as file:  #  : colon varsa indentation vardir\n",
        "  fish = file.readlines()         # indentation icerisinde kaldigimiz sürece\n",
        "                                  # istedigimiz her islemi yapabiliriz. \n",
        "                                  # indentation dan cikinca kendi otomatik kapatir\n",
        "print(fish) # liste icerisine satirlar ciktisi aliriz\n",
        "print(type(fish))"
      ],
      "metadata": {
        "id": "cdjQOi_NBvGv",
        "colab": {
          "base_uri": "https://localhost:8080/"
        },
        "outputId": "02e233a8-e322-4942-c25e-ab020ffd228a"
      },
      "execution_count": null,
      "outputs": [
        {
          "output_type": "stream",
          "name": "stdout",
          "text": [
            "['Orca is a kind of Dolphin.\\n', 'Blue Whale is the largest animal known on earth.\\n', 'Sharks are the sister group to the Rays (batoids).\\n', 'The Tuna Fish can weigh up to 260 kg.\\n', 'Squid and Octopus are in the same class.']\n",
            "<class 'list'>\n"
          ]
        }
      ]
    },
    {
      "cell_type": "code",
      "source": [
        "for i in fish:   ## dikkat her satir arasi bosluk\n",
        "  print(i)"
      ],
      "metadata": {
        "colab": {
          "base_uri": "https://localhost:8080/"
        },
        "id": "nbzXiNJ5LMSa",
        "outputId": "249ff3ad-2365-4223-810a-222feaf899d1"
      },
      "execution_count": null,
      "outputs": [
        {
          "output_type": "stream",
          "name": "stdout",
          "text": [
            "Orca is a kind of Dolphin.\n",
            "\n",
            "Blue Whale is the largest animal known on earth.\n",
            "\n",
            "Sharks are the sister group to the Rays (batoids).\n",
            "\n",
            "The Tuna Fish can weigh up to 260 kg.\n",
            "\n",
            "Squid and Octopus are in the same class.\n"
          ]
        }
      ]
    },
    {
      "cell_type": "code",
      "source": [
        "## for loop kullanmamiz icin file like object'i \n",
        "# bir degiskene atamak zorunda degiliz.\n",
        "\n",
        "# hatirlarsak map ve filter gibi func'lar ketum func'lardi\n",
        "# ve birer object üretiyorlardi. ve biz bu object leri for loop\n",
        "# yada diger yöntemler ile aciyorduk. \n",
        "\n",
        "# simdi burada da ayni sekilde object'imizi acacagiz\n",
        "\n",
        "with open(\"fishes.txt\") as file:\n",
        "  print(file)             ## öncelikle bu sekilde okuyalim"
      ],
      "metadata": {
        "colab": {
          "base_uri": "https://localhost:8080/"
        },
        "id": "ImB63rIoLK-z",
        "outputId": "0c5969ff-4ec0-45df-8232-81a2e707c4d3"
      },
      "execution_count": null,
      "outputs": [
        {
          "output_type": "stream",
          "name": "stdout",
          "text": [
            "<_io.TextIOWrapper name='fishes.txt' mode='r' encoding='UTF-8'>\n"
          ]
        }
      ]
    },
    {
      "cell_type": "code",
      "source": [
        "with open(\"fishes.txt\") as file:\n",
        "  for i in file:\n",
        "    print(i)"
      ],
      "metadata": {
        "colab": {
          "base_uri": "https://localhost:8080/"
        },
        "id": "AcoKMJFPLLBn",
        "outputId": "4bfe57a7-9c7a-4ecc-ebf5-4f6969db2854"
      },
      "execution_count": null,
      "outputs": [
        {
          "output_type": "stream",
          "name": "stdout",
          "text": [
            "Orca is a kind of Dolphin.\n",
            "\n",
            "Blue Whale is the largest animal known on earth.\n",
            "\n",
            "Sharks are the sister group to the Rays (batoids).\n",
            "\n",
            "The Tuna Fish can weigh up to 260 kg.\n",
            "\n",
            "Squid and Octopus are in the same class.\n"
          ]
        }
      ]
    },
    {
      "cell_type": "code",
      "source": [
        ""
      ],
      "metadata": {
        "id": "OIPeYoC2LLES"
      },
      "execution_count": null,
      "outputs": []
    },
    {
      "cell_type": "code",
      "source": [
        "################################\n",
        "\n",
        "############  writing files"
      ],
      "metadata": {
        "id": "Es-9QmHbLLG1"
      },
      "execution_count": null,
      "outputs": []
    },
    {
      "cell_type": "code",
      "source": [
        "### write methodu:\n",
        "\n",
        "## \"w\" ile yazarsak eskisini siler üzerine yazar ve\n",
        "# eger dosya yoksa sifirdan acar\n",
        "\n",
        "# \"a\" ile yazarsak eskisi kalir ve eskisinin sonuna ekler\n",
        "# dosya yoksa sifirdan acar"
      ],
      "metadata": {
        "id": "ytSqq_rHLLJs"
      },
      "execution_count": null,
      "outputs": []
    },
    {
      "cell_type": "code",
      "source": [
        "with open(\"test.txt\", \"w\") as file:\n",
        "  file.write(\"Bu benim ilk satirim\")\n",
        "\n",
        "with open(\"test.txt\", \"r\") as file:\n",
        "  print(file.read())"
      ],
      "metadata": {
        "colab": {
          "base_uri": "https://localhost:8080/"
        },
        "id": "UHigdVd9LLMj",
        "outputId": "36587080-c020-4dcb-b278-257bd1a3bf96"
      },
      "execution_count": null,
      "outputs": [
        {
          "output_type": "stream",
          "name": "stdout",
          "text": [
            "Bu benim ilk satirim\n"
          ]
        }
      ]
    },
    {
      "cell_type": "code",
      "source": [
        "## Önemli:\n",
        "\n",
        "# bulundugumuz klasörün icerigini su sekilde görüntüleriz\n",
        "\n",
        "!ls"
      ],
      "metadata": {
        "colab": {
          "base_uri": "https://localhost:8080/"
        },
        "id": "ZfpFS5neLLPF",
        "outputId": "8c354db0-3214-432d-a4f5-2f8bdcd29caa"
      },
      "execution_count": null,
      "outputs": [
        {
          "output_type": "stream",
          "name": "stdout",
          "text": [
            "fishes.txt  rumi.txt  sample_data  test.txt\n"
          ]
        }
      ]
    },
    {
      "cell_type": "code",
      "source": [
        "with open(\"test.txt\", \"w\") as file:\n",
        "  file.write(\"Bu yeni satirimiz\")\n",
        "\n",
        "with open(\"test.txt\", \"r\") as file:\n",
        "  print(file.read())"
      ],
      "metadata": {
        "colab": {
          "base_uri": "https://localhost:8080/"
        },
        "id": "WssDsmApLLRW",
        "outputId": "6a32a416-21e7-4c0a-c098-a7f1cd066e9f"
      },
      "execution_count": null,
      "outputs": [
        {
          "output_type": "stream",
          "name": "stdout",
          "text": [
            "Bu yeni satirimiz\n"
          ]
        }
      ]
    },
    {
      "cell_type": "code",
      "source": [
        "# tek seferde birden cok satir yazma:\n",
        "# tüm stringleri concat yapar\n",
        "\n",
        "# tek bir with icerisinde ise tüm satirlar yazilir\n",
        "# ama birden cok with acilirsa o zaman ilk with ile yazilanlari siler\n",
        "\n",
        "with open(\"test.txt\", \"w\") as file:\n",
        "  file.write(\"Bu birinci satirimiz\")\n",
        "  file.write(\"Bu ikinci satirimiz\")\n",
        "  file.write(\"Bu ücüncü satirimiz \\n\")  ## dikkat\n",
        "  file.write(\"Bu dördüncü satirimiz\")\n",
        "  file.write(\"Bu besinci satirimiz\")\n",
        "\n",
        "with open(\"test.txt\", \"r\") as file:\n",
        "  print(file.read())"
      ],
      "metadata": {
        "colab": {
          "base_uri": "https://localhost:8080/"
        },
        "id": "zYeIsZJrUgDx",
        "outputId": "0f2a46c4-f1aa-4de8-f394-7bf1b0121f00"
      },
      "execution_count": null,
      "outputs": [
        {
          "output_type": "stream",
          "name": "stdout",
          "text": [
            "Bu birinci satirimizBu ikinci satirimizBu ücüncü satirimiz \n",
            "Bu dördüncü satirimizBu besinci satirimiz\n"
          ]
        }
      ]
    },
    {
      "cell_type": "code",
      "source": [
        "## task:\n",
        "\n",
        "# elimizde bir tane listemiz var.\n",
        "# listenin her bir elemani ayri satirda olacak sekilde dosyaya yazdiriyoruz\n",
        "\n",
        "fruits = [\"banana\", \"orange\", \"apple\", \"strawberry\", \"cherry\"]\n",
        "\n",
        "with open(\"fruits.txt\", \"w\") as file:\n",
        "  for i in fruits:\n",
        "    file.write(i)    ## eger bu sekilde yaparsak yine concat yapar"
      ],
      "metadata": {
        "id": "1ACJKzf-UgGX"
      },
      "execution_count": null,
      "outputs": []
    },
    {
      "cell_type": "code",
      "source": [
        "fruits = [\"banana\", \"orange\", \"apple\", \"strawberry\", \"cherry\"]\n",
        "\n",
        "with open(\"fruits.txt\", \"w\") as file:\n",
        "  for i in fruits:\n",
        "    file.write(i + \"\\n\")  ## i string oldugu icin + kullandik\n",
        "\n",
        "with open(\"fruits.txt\", \"r\") as file:\n",
        "  print(file.read())\n",
        "\n",
        "#### not: write() methodu icerisine daima string alir. mesela integer alamaz\n",
        "# bu nedenle sayi yazdirmak istersek, bu sayiyi stringe cevirmemiz gerekir"
      ],
      "metadata": {
        "colab": {
          "base_uri": "https://localhost:8080/"
        },
        "id": "ufFzEolIUgJG",
        "outputId": "52d356b6-20aa-4af1-eab7-588117dd31ba"
      },
      "execution_count": null,
      "outputs": [
        {
          "output_type": "stream",
          "name": "stdout",
          "text": [
            "banana\n",
            "orange\n",
            "apple\n",
            "strawberry\n",
            "cherry\n",
            "\n"
          ]
        }
      ]
    },
    {
      "cell_type": "code",
      "source": [
        "## readlines ile okutalim:\n",
        "\n",
        "with open(\"fruits.txt\", \"r\") as file:\n",
        "  print(file.readlines())"
      ],
      "metadata": {
        "colab": {
          "base_uri": "https://localhost:8080/"
        },
        "id": "wUiBknwlUgKr",
        "outputId": "d6a36089-1ad0-431b-95a7-97a9bb12e8bd"
      },
      "execution_count": null,
      "outputs": [
        {
          "output_type": "stream",
          "name": "stdout",
          "text": [
            "['banana\\n', 'orange\\n', 'apple\\n', 'strawberry\\n', 'cherry\\n']\n"
          ]
        }
      ]
    },
    {
      "cell_type": "code",
      "source": [
        ""
      ],
      "metadata": {
        "id": "gFpInek0UgMg"
      },
      "execution_count": null,
      "outputs": []
    },
    {
      "cell_type": "code",
      "source": [
        "########################  writelines:\n"
      ],
      "metadata": {
        "id": "eajt4PQjUgOv"
      },
      "execution_count": null,
      "outputs": []
    },
    {
      "cell_type": "code",
      "source": [
        "# readlines okuma esnasinda iterable veri tipinde cikti veriyorudu\n",
        "\n",
        "# writelines da yazma esnasinda icerisine iterable veri alir\n"
      ],
      "metadata": {
        "id": "xPrGCmG5UgQj"
      },
      "execution_count": null,
      "outputs": []
    },
    {
      "cell_type": "code",
      "source": [
        "### az önce aldigimiz ciktiyi fruits2 adinda bir degiskene atayalim:\n",
        "# ve fruits2 adinda yeni bir dosyaya yazdiralim\n",
        "\n",
        "fruits2 = ['banana\\n', 'orange\\n', 'apple\\n', 'strawberry\\n', 'cherry\\n']\n",
        "\n",
        "with open(\"fruits2.txt\", \"w\") as ff:  \n",
        "  ff.writelines(fruits2) \n",
        "\n",
        "with open(\"fruits2.txt\") as ff:\n",
        "  print(ff.read())\n",
        "\n",
        "# output a  ## dikkat edersek biz liste seklinde bir eleman verdik\n",
        "# dosyamiza ayri ayri satirlarda yazildi\n",
        "# bu hücreden sonra alt satirdaki kodu inceleyelim"
      ],
      "metadata": {
        "colab": {
          "base_uri": "https://localhost:8080/"
        },
        "id": "f6nmt-mrY9hJ",
        "outputId": "4b8291c0-1c51-4d83-bd51-b8c94d077b86"
      },
      "execution_count": null,
      "outputs": [
        {
          "output_type": "stream",
          "name": "stdout",
          "text": [
            "banana\n",
            "orange\n",
            "apple\n",
            "strawberry\n",
            "cherry\n",
            "\n"
          ]
        }
      ]
    },
    {
      "cell_type": "code",
      "source": [
        "## burada tüm elemanlari concat yapar\n",
        "\n",
        "fruits2 = ['banana', 'orange', 'apple', 'strawberry', 'cherry']\n",
        "\n",
        "with open(\"fruits2.txt\", \"w\") as ff:  \n",
        "  ff.writelines(fruits2) \n",
        "\n",
        "with open(\"fruits2.txt\") as ff:\n",
        "  print(ff.read())"
      ],
      "metadata": {
        "colab": {
          "base_uri": "https://localhost:8080/"
        },
        "id": "yH5TLqpZUgSm",
        "outputId": "976ddb0a-2d78-45f0-a5a9-58965d13d550"
      },
      "execution_count": null,
      "outputs": [
        {
          "output_type": "stream",
          "name": "stdout",
          "text": [
            "bananaorangeapplestrawberrycherry\n"
          ]
        }
      ]
    },
    {
      "cell_type": "code",
      "source": [
        "###############  \"a\" ile yazma\n",
        "\n",
        "# kurzer nerede kaldi ise yeni verileri oraya yazar eskiler kalir\n",
        "\n",
        "fruits2 = ['banana\\n', 'orange\\n', 'apple\\n', 'strawberry\\n', 'cherry\\n']\n",
        "\n",
        "with open(\"fruits2.txt\", \"a\") as ff:  \n",
        "  ff.writelines(fruits2) \n",
        "\n",
        "with open(\"fruits2.txt\") as ff:\n",
        "  print(ff.read())"
      ],
      "metadata": {
        "colab": {
          "base_uri": "https://localhost:8080/"
        },
        "id": "kun5a5TLUgUk",
        "outputId": "e50b511d-5e50-42cf-cc61-6dd0f0cf5354"
      },
      "execution_count": null,
      "outputs": [
        {
          "output_type": "stream",
          "name": "stdout",
          "text": [
            "bananaorangeapplestrawberrycherrybanana\n",
            "orange\n",
            "apple\n",
            "strawberry\n",
            "cherry\n",
            "\n"
          ]
        }
      ]
    },
    {
      "cell_type": "code",
      "source": [
        "### listelerde toplama islemi:\n",
        "\n",
        "fruits2 = ['banana\\n', 'orange\\n', 'apple\\n', 'strawberry\\n', 'cherry\\n']\n",
        "\n",
        "fruits3 = fruits2 + [\"lemon\"]\n",
        "print(fruits3)"
      ],
      "metadata": {
        "colab": {
          "base_uri": "https://localhost:8080/"
        },
        "id": "e10eUXuLZ03z",
        "outputId": "f6ae6929-77c6-4fb9-9cb7-7671b7bcaaae"
      },
      "execution_count": null,
      "outputs": [
        {
          "output_type": "stream",
          "name": "stdout",
          "text": [
            "['banana\\n', 'orange\\n', 'apple\\n', 'strawberry\\n', 'cherry\\n', 'lemon']\n"
          ]
        }
      ]
    },
    {
      "cell_type": "code",
      "source": [
        "## listelerdeki toplama islemini writing de kullanma:\n",
        "# birinci olarak, normal listelerde toplama yapip yeni listeyi \n",
        "# writing yapma:\n",
        "\n",
        "fruits2 = ['banana\\n', 'orange\\n', 'apple\\n', 'strawberry\\n', 'cherry\\n']\n",
        "fruits3 = fruits2 + [\"lemon\"]\n",
        "\n",
        "with open(\"fruits3.txt\", \"a\") as ff:  #  fruits3 yeni bir dosya \n",
        "  ff.writelines(fruits3)\n",
        "\n",
        "with open(\"fruits3.txt\") as ff:\n",
        "  print(ff.read())"
      ],
      "metadata": {
        "colab": {
          "base_uri": "https://localhost:8080/"
        },
        "id": "Y219nbAoZ07Y",
        "outputId": "70ab5703-e5c8-418a-8d63-b291c2aa1139"
      },
      "execution_count": null,
      "outputs": [
        {
          "output_type": "stream",
          "name": "stdout",
          "text": [
            "banana\n",
            "orange\n",
            "apple\n",
            "strawberry\n",
            "cherry\n",
            "lemon\n"
          ]
        }
      ]
    },
    {
      "cell_type": "code",
      "source": [
        "### ikinci method:\n",
        "# write() methodu parantezi icerisinde toplama:\n",
        "\n",
        "fruits2 = ['banana\\n', 'orange\\n', 'apple\\n', 'strawberry\\n', 'cherry\\n']\n",
        "\n",
        "with open(\"fruits3.txt\", \"a\") as ff:  ## \"a\" ile yaziyoruz\n",
        "  ff.writelines(fruits2 + [\"ayva\"] + [\"elma\"])\n",
        "\n",
        "with open(\"fruits3.txt\") as ff:\n",
        "  print(ff.read())"
      ],
      "metadata": {
        "colab": {
          "base_uri": "https://localhost:8080/"
        },
        "id": "lURfeNJsZ0_p",
        "outputId": "73756d11-01e7-43a7-a588-77a06318bfbe"
      },
      "execution_count": null,
      "outputs": [
        {
          "output_type": "stream",
          "name": "stdout",
          "text": [
            "banana\n",
            "orange\n",
            "apple\n",
            "strawberry\n",
            "cherry\n",
            "lemonbanana\n",
            "orange\n",
            "apple\n",
            "strawberry\n",
            "cherry\n",
            "ayvabanana\n",
            "orange\n",
            "apple\n",
            "strawberry\n",
            "cherry\n",
            "ayvaelma\n"
          ]
        }
      ]
    },
    {
      "cell_type": "code",
      "source": [
        "## task:\n",
        "\n",
        "istiklal.txt adinda dosya olusturup icerisine istiklal marsi ypistiralim.\n",
        "\n",
        "Korkma, sönmez bu şafaklarda yüzen al sancak;\n",
        "Sönmeden yurdumun üstünde tüten en son ocak.\n",
        "O benim milletimin yıldızıdır, parlayacak;\n",
        "O benimdir, o benim milletimindir ancak.\n",
        "Çatma, kurban olayım, çehreni ey nazlı hilal!\n",
        "Kahraman ırkıma bir gül! Ne bu şiddet, bu celal?\n",
        "Sana olmaz dökülen kanlarımız sonra helal...\n",
        "Hakkıdır, hakk'a tapan, milletimin istiklal!\n",
        "Ben ezelden beridir hür yaşadım, hür yaşarım.\n",
        "Hangi çılgın bana zincir vuracakmış? Şaşarım!\n",
        "Kükremiş sel gibiyim, bendimi çiğner, aşarım.\n",
        "Yırtarım dağları, enginlere sığmam, taşarım.\n",
        "Garbın afakını sarmışsa çelik zırhlı duvar,\n",
        "Benim iman dolu göğsüm gibi serhaddim var.\n",
        "Ulusun, korkma! Nasıl böyle bir imanı boğar,\n",
        "'Medeniyet!' dediğin tek dişi kalmış canavar?\n",
        "Arkadaş! Yurduma alçakları uğratma, sakın.\n",
        "Siper et gövdeni, dursun bu hayasızca akın.\n",
        "Doğacaktır sana va'dettigi günler hakk'ın...\n",
        "Kim bilir, belki yarın, belki yarından da yakın.\n",
        "Bastığın yerleri 'toprak!' diyerek geçme, tanı:\n",
        "Düşün altında binlerce kefensiz yatanı.\n",
        "Sen şehit oğlusun, incitme, yazıktır, atanı:\n",
        "Verme, dünyaları alsan da, bu cennet vatanı.\n",
        "Kim bu cennet vatanın uğruna olmaz ki feda?\n",
        "Şuheda fışkıracak toprağı sıksan, şuheda!\n",
        "Canı, cananı, bütün varımı alsın da hüda,\n",
        "Etmesin tek vatanımdan beni dünyada cüda.\n",
        "Ruhumun senden, ilahi, şudur ancak emeli:\n",
        "Değmesin mabedimin göğsüne namahrem eli.\n",
        "Bu ezanlar-ki şahadetleri dinin temeli,\n",
        "Ebedi yurdumun üstünde benim inlemeli."
      ],
      "metadata": {
        "id": "ZBCzDmo0Z1Cy"
      },
      "execution_count": null,
      "outputs": []
    },
    {
      "cell_type": "code",
      "source": [
        "# öncelikle icerigi okuyalim.\n",
        "\n",
        "istiklal = open(\"istiklal.txt\")\n",
        "print(istiklal.read())"
      ],
      "metadata": {
        "id": "aNEnd7DHZ1Gt"
      },
      "execution_count": null,
      "outputs": []
    },
    {
      "cell_type": "code",
      "source": [
        "######  simdi de kita kita ayiracak kodu yazalim\n",
        "\n",
        "with open(\"istiklal.txt\", \"r\") as ff:   ## read ve write farkli with ler altinda\n",
        "  lines = ff.readlines()  \n",
        "\n",
        "with open(\"istiklal.txt\", \"w\") as ff:\n",
        "  counter = 0\n",
        "  for i in lines:\n",
        "    counter += 1              ## counter burada artirilir. eger if bloku altinda\n",
        "    if counter % 4 == 0:      # artirilirsa hatali olur\n",
        "      ff.write(i + \"\\n\")\n",
        "    else:\n",
        "      ff.write(i)\n",
        "\n",
        "with open(\"istiklal.txt\", \"r\") as f:\n",
        "  print(f.read())"
      ],
      "metadata": {
        "id": "jr7gOB12c8up",
        "colab": {
          "base_uri": "https://localhost:8080/"
        },
        "outputId": "9ce0100f-8c40-4b7c-a020-e71d3862407c"
      },
      "execution_count": null,
      "outputs": [
        {
          "output_type": "stream",
          "name": "stdout",
          "text": [
            "Korkma, sönmez bu şafaklarda yüzen al sancak;\n",
            "Sönmeden yurdumun üstünde tüten en son ocak.\n",
            "O benim milletimin yıldızıdır, parlayacak;\n",
            "O benimdir, o benim milletimindir ancak.\n",
            "\n",
            "Çatma, kurban olayım, çehreni ey nazlı hilal!\n",
            "Kahraman ırkıma bir gül! Ne bu şiddet, bu celal?\n",
            "Sana olmaz dökülen kanlarımız sonra helal...\n",
            "Hakkıdır, hakk'a tapan, milletimin istiklal!\n",
            "\n",
            "Ben ezelden beridir hür yaşadım, hür yaşarım.\n",
            "Hangi çılgın bana zincir vuracakmış? Şaşarım!\n",
            "Kükremiş sel gibiyim, bendimi çiğner, aşarım.\n",
            "Yırtarım dağları, enginlere sığmam, taşarım.\n",
            "\n",
            "Garbın afakını sarmışsa çelik zırhlı duvar,\n",
            "Benim iman dolu göğsüm gibi serhaddim var.\n",
            "Ulusun, korkma! Nasıl böyle bir imanı boğar,\n",
            "'Medeniyet!' dediğin tek dişi kalmış canavar?\n",
            "\n",
            "Arkadaş! Yurduma alçakları uğratma, sakın.\n",
            "Siper et gövdeni, dursun bu hayasızca akın.\n",
            "Doğacaktır sana va'dettigi günler hakk'ın...\n",
            "Kim bilir, belki yarın, belki yarından da yakın.\n",
            "\n",
            "Bastığın yerleri 'toprak!' diyerek geçme, tanı:\n",
            "Düşün altında binlerce kefensiz yatanı.\n",
            "Sen şehit oğlusun, incitme, yazıktır, atanı:\n",
            "Verme, dünyaları alsan da, bu cennet vatanı.\n",
            "\n",
            "Kim bu cennet vatanın uğruna olmaz ki feda?\n",
            "Şuheda fışkıracak toprağı sıksan, şuheda!\n",
            "Canı, cananı, bütün varımı alsın da hüda,\n",
            "Etmesin tek vatanımdan beni dünyada cüda.\n",
            "\n",
            "Ruhumun senden, ilahi, şudur ancak emeli:\n",
            "Değmesin mabedimin göğsüne namahrem eli.\n",
            "Bu ezanlar-ki şahadetleri dinin temeli,\n",
            "Ebedi yurdumun üstünde benim inlemeli.\n",
            "\n"
          ]
        }
      ]
    },
    {
      "cell_type": "code",
      "source": [
        ""
      ],
      "metadata": {
        "id": "U7Mp4Zk-c8xf"
      },
      "execution_count": null,
      "outputs": []
    },
    {
      "cell_type": "code",
      "source": [
        "#################################\n",
        "\n",
        "#########  Son ders Tekrari:"
      ],
      "metadata": {
        "id": "dtfvDv2ac80u"
      },
      "execution_count": null,
      "outputs": []
    },
    {
      "cell_type": "code",
      "source": [
        "### kita kita ayirdigimiz istiklal marsini simdi birlestirelim:"
      ],
      "metadata": {
        "id": "gIxinOm4c84M"
      },
      "execution_count": null,
      "outputs": []
    },
    {
      "cell_type": "code",
      "source": [
        "with open(\"istiklal.txt\", \"r\") as file:\n",
        "  reading = file.readlines()\n",
        "\n",
        "for i in reading:  ## öncelikle for döngüsü ile güncel olarak dosyamizda duran\n",
        "  print(i)          # istiklal marsini iterate edelim ve nasil göründüne bakalim\n",
        "                    ## dikkat edersek her satir arasinda bir bosluk var.\n",
        "                    # kitalar arasinda ise iki bosluk var\n",
        "                    # yani bosluk olan her satirin karsiligi \"\\n\" newline dir\n",
        "\n",
        "                    ## for döngüsünün her iterate'in de, i bir satir olur\n",
        "                    ## ve her satirin sonunda \"\\n\" vardir"
      ],
      "metadata": {
        "id": "SHQhsz0Mc87D",
        "colab": {
          "base_uri": "https://localhost:8080/"
        },
        "outputId": "69766a23-fcec-4c48-b584-738e65110eef"
      },
      "execution_count": null,
      "outputs": [
        {
          "output_type": "stream",
          "name": "stdout",
          "text": [
            "Korkma, sönmez bu şafaklarda yüzen al sancak;\n",
            "\n",
            "Sönmeden yurdumun üstünde tüten en son ocak.\n",
            "\n",
            "O benim milletimin yıldızıdır, parlayacak;\n",
            "\n",
            "O benimdir, o benim milletimindir ancak.\n",
            "\n",
            "\n",
            "\n",
            "Çatma, kurban olayım, çehreni ey nazlı hilal!\n",
            "\n",
            "Kahraman ırkıma bir gül! Ne bu şiddet, bu celal?\n",
            "\n",
            "Sana olmaz dökülen kanlarımız sonra helal...\n",
            "\n",
            "Hakkıdır, hakk'a tapan, milletimin istiklal!\n",
            "\n",
            "\n",
            "\n",
            "Ben ezelden beridir hür yaşadım, hür yaşarım.\n",
            "\n",
            "Hangi çılgın bana zincir vuracakmış? Şaşarım!\n",
            "\n",
            "Kükremiş sel gibiyim, bendimi çiğner, aşarım.\n",
            "\n",
            "Yırtarım dağları, enginlere sığmam, taşarım.\n",
            "\n",
            "\n",
            "\n",
            "Garbın afakını sarmışsa çelik zırhlı duvar,\n",
            "\n",
            "Benim iman dolu göğsüm gibi serhaddim var.\n",
            "\n",
            "Ulusun, korkma! Nasıl böyle bir imanı boğar,\n",
            "\n",
            "'Medeniyet!' dediğin tek dişi kalmış canavar?\n",
            "\n",
            "\n",
            "\n",
            "Arkadaş! Yurduma alçakları uğratma, sakın.\n",
            "\n",
            "Siper et gövdeni, dursun bu hayasızca akın.\n",
            "\n",
            "Doğacaktır sana va'dettigi günler hakk'ın...\n",
            "\n",
            "Kim bilir, belki yarın, belki yarından da yakın.\n",
            "\n",
            "\n",
            "\n",
            "Bastığın yerleri 'toprak!' diyerek geçme, tanı:\n",
            "\n",
            "Düşün altında binlerce kefensiz yatanı.\n",
            "\n",
            "Sen şehit oğlusun, incitme, yazıktır, atanı:\n",
            "\n",
            "Verme, dünyaları alsan da, bu cennet vatanı.\n",
            "\n",
            "\n",
            "\n",
            "Kim bu cennet vatanın uğruna olmaz ki feda?\n",
            "\n",
            "Şuheda fışkıracak toprağı sıksan, şuheda!\n",
            "\n",
            "Canı, cananı, bütün varımı alsın da hüda,\n",
            "\n",
            "Etmesin tek vatanımdan beni dünyada cüda.\n",
            "\n",
            "\n",
            "\n",
            "Ruhumun senden, ilahi, şudur ancak emeli:\n",
            "\n",
            "Değmesin mabedimin göğsüne namahrem eli.\n",
            "\n",
            "Bu ezanlar-ki şahadetleri dinin temeli,\n",
            "\n",
            "Ebedi yurdumun üstünde benim inlemeli.\n",
            "\n"
          ]
        }
      ]
    },
    {
      "cell_type": "code",
      "source": [
        "####  simdi de normal birlestirme islemimizi yapalim:\n",
        "\n",
        "with open(\"istiklal.txt\", \"r\") as file:\n",
        "  reading = file.readlines()\n",
        "\n",
        "with open(\"istiklal.txt\", \"w\") as file:\n",
        "  for i in reading:\n",
        "    if i == \"\\n\":\n",
        "      pass            ## eger bosluk görürsen birsey yapma pass gec diyoruz\n",
        "    else:\n",
        "      file.write(i)\n",
        "\n",
        "with open(\"istiklal.txt\", \"r\") as file:\n",
        "  print(file.read())"
      ],
      "metadata": {
        "id": "3LQb0nrQrC23",
        "colab": {
          "base_uri": "https://localhost:8080/"
        },
        "outputId": "6c4814b4-721a-4384-eb32-c951a90454ea"
      },
      "execution_count": null,
      "outputs": [
        {
          "output_type": "stream",
          "name": "stdout",
          "text": [
            "Korkma, sönmez bu şafaklarda yüzen al sancak;\n",
            "Sönmeden yurdumun üstünde tüten en son ocak.\n",
            "O benim milletimin yıldızıdır, parlayacak;\n",
            "O benimdir, o benim milletimindir ancak.\n",
            "Çatma, kurban olayım, çehreni ey nazlı hilal!\n",
            "Kahraman ırkıma bir gül! Ne bu şiddet, bu celal?\n",
            "Sana olmaz dökülen kanlarımız sonra helal...\n",
            "Hakkıdır, hakk'a tapan, milletimin istiklal!\n",
            "Ben ezelden beridir hür yaşadım, hür yaşarım.\n",
            "Hangi çılgın bana zincir vuracakmış? Şaşarım!\n",
            "Kükremiş sel gibiyim, bendimi çiğner, aşarım.\n",
            "Yırtarım dağları, enginlere sığmam, taşarım.\n",
            "Garbın afakını sarmışsa çelik zırhlı duvar,\n",
            "Benim iman dolu göğsüm gibi serhaddim var.\n",
            "Ulusun, korkma! Nasıl böyle bir imanı boğar,\n",
            "'Medeniyet!' dediğin tek dişi kalmış canavar?\n",
            "Arkadaş! Yurduma alçakları uğratma, sakın.\n",
            "Siper et gövdeni, dursun bu hayasızca akın.\n",
            "Doğacaktır sana va'dettigi günler hakk'ın...\n",
            "Kim bilir, belki yarın, belki yarından da yakın.\n",
            "Bastığın yerleri 'toprak!' diyerek geçme, tanı:\n",
            "Düşün altında binlerce kefensiz yatanı.\n",
            "Sen şehit oğlusun, incitme, yazıktır, atanı:\n",
            "Verme, dünyaları alsan da, bu cennet vatanı.\n",
            "Kim bu cennet vatanın uğruna olmaz ki feda?\n",
            "Şuheda fışkıracak toprağı sıksan, şuheda!\n",
            "Canı, cananı, bütün varımı alsın da hüda,\n",
            "Etmesin tek vatanımdan beni dünyada cüda.\n",
            "Ruhumun senden, ilahi, şudur ancak emeli:\n",
            "Değmesin mabedimin göğsüne namahrem eli.\n",
            "Bu ezanlar-ki şahadetleri dinin temeli,\n",
            "Ebedi yurdumun üstünde benim inlemeli.\n",
            "\n"
          ]
        }
      ]
    },
    {
      "cell_type": "code",
      "source": [
        "##########   simdi de \"a\" parametresi ile dosyamizin altina\n",
        "# kita kita ayrilmis halini yazalim:"
      ],
      "metadata": {
        "id": "X0UPBSdfrC5x"
      },
      "execution_count": null,
      "outputs": []
    },
    {
      "cell_type": "code",
      "source": [
        "with open(\"istiklal.txt\", \"r\") as ff:   \n",
        "  lines = ff.readlines()  \n",
        "\n",
        "with open(\"istiklal.txt\", \"a\") as ff:\n",
        "  counter = 0\n",
        "  for i in lines:\n",
        "    counter += 1             \n",
        "    if counter % 4 == 0:      \n",
        "      ff.write(i + \"\\n\")\n",
        "    else:\n",
        "      ff.write(i)\n",
        "\n",
        "with open(\"istiklal.txt\", \"r\") as f:\n",
        "  print(f.read())"
      ],
      "metadata": {
        "colab": {
          "base_uri": "https://localhost:8080/"
        },
        "id": "9ohXkpQgibKw",
        "outputId": "90320c57-0126-4446-fa40-b08ebc56818b"
      },
      "execution_count": null,
      "outputs": [
        {
          "output_type": "stream",
          "name": "stdout",
          "text": [
            "Korkma, sönmez bu şafaklarda yüzen al sancak;\n",
            "Sönmeden yurdumun üstünde tüten en son ocak.\n",
            "O benim milletimin yıldızıdır, parlayacak;\n",
            "O benimdir, o benim milletimindir ancak.\n",
            "Çatma, kurban olayım, çehreni ey nazlı hilal!\n",
            "Kahraman ırkıma bir gül! Ne bu şiddet, bu celal?\n",
            "Sana olmaz dökülen kanlarımız sonra helal...\n",
            "Hakkıdır, hakk'a tapan, milletimin istiklal!\n",
            "Ben ezelden beridir hür yaşadım, hür yaşarım.\n",
            "Hangi çılgın bana zincir vuracakmış? Şaşarım!\n",
            "Kükremiş sel gibiyim, bendimi çiğner, aşarım.\n",
            "Yırtarım dağları, enginlere sığmam, taşarım.\n",
            "Garbın afakını sarmışsa çelik zırhlı duvar,\n",
            "Benim iman dolu göğsüm gibi serhaddim var.\n",
            "Ulusun, korkma! Nasıl böyle bir imanı boğar,\n",
            "'Medeniyet!' dediğin tek dişi kalmış canavar?\n",
            "Arkadaş! Yurduma alçakları uğratma, sakın.\n",
            "Siper et gövdeni, dursun bu hayasızca akın.\n",
            "Doğacaktır sana va'dettigi günler hakk'ın...\n",
            "Kim bilir, belki yarın, belki yarından da yakın.\n",
            "Bastığın yerleri 'toprak!' diyerek geçme, tanı:\n",
            "Düşün altında binlerce kefensiz yatanı.\n",
            "Sen şehit oğlusun, incitme, yazıktır, atanı:\n",
            "Verme, dünyaları alsan da, bu cennet vatanı.\n",
            "Kim bu cennet vatanın uğruna olmaz ki feda?\n",
            "Şuheda fışkıracak toprağı sıksan, şuheda!\n",
            "Canı, cananı, bütün varımı alsın da hüda,\n",
            "Etmesin tek vatanımdan beni dünyada cüda.\n",
            "Ruhumun senden, ilahi, şudur ancak emeli:\n",
            "Değmesin mabedimin göğsüne namahrem eli.\n",
            "Bu ezanlar-ki şahadetleri dinin temeli,\n",
            "Ebedi yurdumun üstünde benim inlemeli.\n",
            "Korkma, sönmez bu şafaklarda yüzen al sancak;\n",
            "Sönmeden yurdumun üstünde tüten en son ocak.\n",
            "O benim milletimin yıldızıdır, parlayacak;\n",
            "O benimdir, o benim milletimindir ancak.\n",
            "\n",
            "Çatma, kurban olayım, çehreni ey nazlı hilal!\n",
            "Kahraman ırkıma bir gül! Ne bu şiddet, bu celal?\n",
            "Sana olmaz dökülen kanlarımız sonra helal...\n",
            "Hakkıdır, hakk'a tapan, milletimin istiklal!\n",
            "\n",
            "Ben ezelden beridir hür yaşadım, hür yaşarım.\n",
            "Hangi çılgın bana zincir vuracakmış? Şaşarım!\n",
            "Kükremiş sel gibiyim, bendimi çiğner, aşarım.\n",
            "Yırtarım dağları, enginlere sığmam, taşarım.\n",
            "\n",
            "Garbın afakını sarmışsa çelik zırhlı duvar,\n",
            "Benim iman dolu göğsüm gibi serhaddim var.\n",
            "Ulusun, korkma! Nasıl böyle bir imanı boğar,\n",
            "'Medeniyet!' dediğin tek dişi kalmış canavar?\n",
            "\n",
            "Arkadaş! Yurduma alçakları uğratma, sakın.\n",
            "Siper et gövdeni, dursun bu hayasızca akın.\n",
            "Doğacaktır sana va'dettigi günler hakk'ın...\n",
            "Kim bilir, belki yarın, belki yarından da yakın.\n",
            "\n",
            "Bastığın yerleri 'toprak!' diyerek geçme, tanı:\n",
            "Düşün altında binlerce kefensiz yatanı.\n",
            "Sen şehit oğlusun, incitme, yazıktır, atanı:\n",
            "Verme, dünyaları alsan da, bu cennet vatanı.\n",
            "\n",
            "Kim bu cennet vatanın uğruna olmaz ki feda?\n",
            "Şuheda fışkıracak toprağı sıksan, şuheda!\n",
            "Canı, cananı, bütün varımı alsın da hüda,\n",
            "Etmesin tek vatanımdan beni dünyada cüda.\n",
            "\n",
            "Ruhumun senden, ilahi, şudur ancak emeli:\n",
            "Değmesin mabedimin göğsüne namahrem eli.\n",
            "Bu ezanlar-ki şahadetleri dinin temeli,\n",
            "Ebedi yurdumun üstünde benim inlemeli.\n",
            "\n",
            "\n"
          ]
        }
      ]
    },
    {
      "cell_type": "code",
      "source": [
        ""
      ],
      "metadata": {
        "id": "JKe2IMyPibOO"
      },
      "execution_count": null,
      "outputs": []
    },
    {
      "cell_type": "code",
      "source": [
        "#######################################\n",
        "#### csv dosyalari:"
      ],
      "metadata": {
        "id": "-WGK13CribQ8"
      },
      "execution_count": null,
      "outputs": []
    },
    {
      "cell_type": "code",
      "source": [
        "## csv dosyalarini okumanin 3 farkli yöntemi vardir:\n",
        "\n",
        "# 1:  open() func ile okuma\n",
        "# 2:  csv modulü ile okuma\n",
        "# 3:  pandas library ile okuma"
      ],
      "metadata": {
        "id": "XcOPt44hibT6"
      },
      "execution_count": null,
      "outputs": []
    },
    {
      "cell_type": "code",
      "source": [
        "## simdi önce bir txt dosyasi olusturalim.\n",
        "# bunu daha sonra csv ye dönüstürelim:\n",
        "\n",
        "## Not: colab de direkt olarak csv acarsak icerisine yazma iselmi yapamiyoruz\n",
        "\n",
        "## ikinci bir yöntem olarak; önce pc mizde bir csv dosyasiacip\n",
        "## bunu colab'e kopyalayabiliriz"
      ],
      "metadata": {
        "id": "R0jKx44ZibXM"
      },
      "execution_count": null,
      "outputs": []
    },
    {
      "cell_type": "code",
      "source": [
        "## dosya icerigimizde sunlar bulunsun:\n",
        "## Burada dosyamizi kendimiz acip manuel olarak yazmayacagiz.\n",
        "# listemiz icerisinde bulunan verileri kod ile yazacagiz:\n",
        "\n",
        "liste = [\"no, fruits, amount\",\n",
        "\"1, banana, 4 lb\",\n",
        "\"2, orange, 5 lb\",\n",
        "\"3, apple, 2lb\",\n",
        "\"4, cilek, 6lb\"]\n",
        "\n",
        "with open(\"fruits.txt\", \"w\") as file:\n",
        "  for i in liste:\n",
        "      file.write(i + \"\\n\")\n",
        "\n",
        "with open(\"fruits.txt\", \"r\") as file:\n",
        "  print(file.read())"
      ],
      "metadata": {
        "colab": {
          "base_uri": "https://localhost:8080/"
        },
        "id": "dxQJcAv2ibaL",
        "outputId": "d3e9dff5-b279-49ac-d005-842d8b57ae11"
      },
      "execution_count": null,
      "outputs": [
        {
          "output_type": "stream",
          "name": "stdout",
          "text": [
            "no, fruits, amount\n",
            "1, banana, 4 lb\n",
            "2, orange, 5 lb\n",
            "3, apple, 2lb\n",
            "4, cilek, 6lb\n",
            "\n"
          ]
        }
      ]
    },
    {
      "cell_type": "code",
      "source": [
        "## python da dosyamizin ismini su sekilde degistirebiliriz.\n",
        "\n",
        "import os\n",
        "\n",
        "os.rename(\"fruits.txt\", \"fruits.csv\")"
      ],
      "metadata": {
        "id": "YOV9348crC9R"
      },
      "execution_count": null,
      "outputs": []
    },
    {
      "cell_type": "code",
      "source": [
        "## Eger colab de degil de jupyter yada vs code da calismis olsaydik\n",
        "# bu durumda dosya yada klasör adini degistirmeden önce\n",
        "# bu degisikligi yapmak istedigimiz klasör icerisine girmemiz gerekecekti.\n",
        "## bunu da su sekilde yapacaktik\n",
        "\n",
        "# import os\n",
        "# os.chdir('C:\\Users\\PcIsmi\\Desktop') \n",
        "# os.rename(\"......\", \".....\")"
      ],
      "metadata": {
        "id": "XsrQB_v3xOok"
      },
      "execution_count": null,
      "outputs": []
    },
    {
      "cell_type": "code",
      "source": [
        "# diger bir yöntem:\n",
        "\n",
        "import os\n",
        "old_file = os.path.join(\"directory\", \"a.txt\")\n",
        "new_file = os.path.join(\"directory\", \"b.kml\")\n",
        "os.rename(old_file, new_file)"
      ],
      "metadata": {
        "id": "XzuXPTlMyY5R"
      },
      "execution_count": null,
      "outputs": []
    },
    {
      "cell_type": "code",
      "source": [
        "## diger bir yöntem ise shutil modülü ile islem yapmaktir.\n",
        "\n",
        "# import shutil\n",
        "\n",
        "# shutil.move('a.txt', 'b.txt')"
      ],
      "metadata": {
        "id": "QesHmmzSrDAf"
      },
      "execution_count": null,
      "outputs": []
    },
    {
      "cell_type": "code",
      "source": [
        "## simdi adini fruits.csv olarak degistirdigimiz \n",
        "## kendi dosyamiza dönelim ve bu dosya üzerine \"a\" ile birseyler yazalim:\n",
        "\n",
        "## not: csv dosyalari tablo seklinde oldugundan\n",
        "## normalde colab de, manuel olarak csv dosyalarini acip icerisine birsey yazamiyoruz\n",
        "## ama kod ile yazabiliyoruz\n",
        "\n",
        "new = [\n",
        "\"5, elma, 4 lb\",\n",
        "\"6, kiraz, 5 lb\",\n",
        "\"7, visne, 2lb\",\n",
        "\"8, armut, 6lb\"]\n",
        "\n",
        "with open(\"fruits.csv\", \"a\") as file:\n",
        "  for i in new:\n",
        "      file.write(i + \"\\n\")\n",
        "\n",
        "with open(\"fruits.csv\", \"r\") as file:\n",
        "  print(file.read())"
      ],
      "metadata": {
        "id": "mYx5waR0rDDp",
        "colab": {
          "base_uri": "https://localhost:8080/"
        },
        "outputId": "51b5301d-5817-4313-c373-c521296c63c0"
      },
      "execution_count": null,
      "outputs": [
        {
          "output_type": "stream",
          "name": "stdout",
          "text": [
            "5, elma, 4 lb\n",
            "6, kiraz, 5 lb\n",
            "7, visne, 2lb\n",
            "8, armut, 6lb\n",
            "\n"
          ]
        }
      ]
    },
    {
      "cell_type": "code",
      "source": [
        "## csv dosyalarini for loop ile okudugumuzda, farkediyoruz ki;\n",
        "## tablonun her satiri bir veri olarak ele aliniyor\n",
        "## ve bu verinin tipini sorguladigimizda; str oldugunu görüyoruz\n",
        "\n",
        "with open(\"fruits.csv\", \"r\") as file:\n",
        "  for i in file:\n",
        "    print(i, type(i))"
      ],
      "metadata": {
        "id": "6GSy4rZ3rDHi",
        "colab": {
          "base_uri": "https://localhost:8080/"
        },
        "outputId": "1a6a0327-ed72-48ec-ccea-8dda8b682bb3"
      },
      "execution_count": null,
      "outputs": [
        {
          "output_type": "stream",
          "name": "stdout",
          "text": [
            "no, fruits, amount\n",
            " <class 'str'>\n",
            "1, banana, 4 lb\n",
            " <class 'str'>\n",
            "2, orange, 5 lb\n",
            " <class 'str'>\n",
            "3, apple, 2lb\n",
            " <class 'str'>\n",
            "4, cilek, 6lb\n",
            " <class 'str'>\n",
            "no, fruits, amount\n",
            " <class 'str'>\n",
            "1, banana, 4 lb\n",
            " <class 'str'>\n",
            "2, orange, 5 lb\n",
            " <class 'str'>\n",
            "3, apple, 2lb\n",
            " <class 'str'>\n",
            "4, cilek, 6lb\n",
            " <class 'str'>\n",
            "5, elma, 4 lb\n",
            " <class 'str'>\n",
            "6, kiraz, 5 lb\n",
            " <class 'str'>\n",
            "7, visne, 2lb\n",
            " <class 'str'>\n",
            "8, armut, 6lb\n",
            " <class 'str'>\n"
          ]
        }
      ]
    },
    {
      "cell_type": "code",
      "source": [
        "## write func() icerisine string object alir.\n",
        "## eger burada olldugu gibi liste vermek istersek hata aliriz\n",
        "\n",
        "new = [\n",
        "[5, \"elma\", 4],\n",
        "[6, \"kiraz\", 5],\n",
        "[7, \"visne\", 2],\n",
        "[8, \"armut\", 6] ]\n",
        "\n",
        "with open(\"fruits.csv\", \"a\") as file:\n",
        "  for i in new:\n",
        "      file.write(i)"
      ],
      "metadata": {
        "id": "_7rsN0HzrDKd"
      },
      "execution_count": null,
      "outputs": []
    },
    {
      "cell_type": "code",
      "source": [
        "### tablomuzda kod ile filtreleme yapabiliriz:\n",
        "# mesela banana olan satirlari yazdiralim\n",
        "\n",
        "with open(\"fruits.csv\", \"r\") as file:\n",
        "  for i in file:\n",
        "    i = i.split()         ## her bir satir string oldugu icin stringleri indexlemek \n",
        "    if i[1] == \"banana,\":     ## maksadiyla, önce split methodu ile listeye ceviriyoruz\n",
        "      print(i)"
      ],
      "metadata": {
        "id": "fjA4hLn-c8-N",
        "colab": {
          "base_uri": "https://localhost:8080/"
        },
        "outputId": "69cb06f6-5fce-4898-e374-b7986520f5e7"
      },
      "execution_count": null,
      "outputs": [
        {
          "output_type": "stream",
          "name": "stdout",
          "text": [
            "['1,', 'banana,', '4', 'lb']\n",
            "['1,', 'banana,', '4', 'lb']\n"
          ]
        }
      ]
    },
    {
      "cell_type": "code",
      "source": [
        ""
      ],
      "metadata": {
        "id": "1-pKoDmGc9BH"
      },
      "execution_count": null,
      "outputs": []
    },
    {
      "cell_type": "code",
      "source": [
        "##############  csv dosyalarini okumanin ikinci yöntemi\n",
        "#############  csv modulü ile"
      ],
      "metadata": {
        "id": "cq_sI-DnZ1J8"
      },
      "execution_count": null,
      "outputs": []
    },
    {
      "cell_type": "code",
      "source": [
        "import csv\n",
        "\n",
        "csv.reader(\"fruits.csv\")  ## bu csv.reader object üretti"
      ],
      "metadata": {
        "id": "Q2xLXfh_Z1M7",
        "colab": {
          "base_uri": "https://localhost:8080/"
        },
        "outputId": "6c71e909-b717-493a-bcbf-d5d0b9a1ceed"
      },
      "execution_count": null,
      "outputs": [
        {
          "output_type": "execute_result",
          "data": {
            "text/plain": [
              "<_csv.reader at 0x7f4766a4f950>"
            ]
          },
          "metadata": {},
          "execution_count": 35
        }
      ]
    },
    {
      "cell_type": "code",
      "source": [
        "import csv     ## bu sekilde de icerik okuyamayiz\n",
        "                ## öncelikle dosyamizi with ile acmamiz gerekir\n",
        "rows = csv.reader(\"fruits.csv\")\n",
        "\n",
        "for i in rows:\n",
        "  print(i)"
      ],
      "metadata": {
        "id": "Vg8pXF1ZLLT5",
        "colab": {
          "base_uri": "https://localhost:8080/"
        },
        "outputId": "66ad6e93-7622-40ef-8c74-2678677a1527"
      },
      "execution_count": null,
      "outputs": [
        {
          "output_type": "stream",
          "name": "stdout",
          "text": [
            "['f']\n",
            "['r']\n",
            "['u']\n",
            "['i']\n",
            "['t']\n",
            "['s']\n",
            "['.']\n",
            "['c']\n",
            "['s']\n",
            "['v']\n"
          ]
        }
      ]
    },
    {
      "cell_type": "code",
      "source": [
        "import csv\n",
        "\n",
        "with open(\"fruits.csv\", \"r\") as file:  # öncelikle normal dosyamizi görelim\n",
        "  print(file.read())\n",
        "\n",
        "with open(\"fruits.csv\", \"r\") as file:\n",
        "  rows = csv.reader(file)\n",
        "  for i in rows:        ## Dikkat: for loop with altinda calismali\n",
        "    print(i)            ## aksi halde dosya kapanmis olur\n",
        "\n",
        "                        ## burada yaptigimiz islem sudur. file adinda olusturdugumuz\n",
        "                        ## file like object'i csv modülüne ait reader func icerisine atiyoruz"
      ],
      "metadata": {
        "id": "Iz2phiKIBvJs",
        "colab": {
          "base_uri": "https://localhost:8080/"
        },
        "outputId": "0bd871a1-690d-45cc-fb4b-edf044fdebd4"
      },
      "execution_count": null,
      "outputs": [
        {
          "output_type": "stream",
          "name": "stdout",
          "text": [
            "5, elma, 4 lb\n",
            "6, kiraz, 5 lb\n",
            "7, visne, 2lb\n",
            "8, armut, 6lb\n",
            "\n",
            "['5', ' elma', ' 4 lb']\n",
            "['6', ' kiraz', ' 5 lb']\n",
            "['7', ' visne', ' 2lb']\n",
            "['8', ' armut', ' 6lb']\n"
          ]
        }
      ]
    },
    {
      "cell_type": "code",
      "source": [
        "### csv modülüne ait reader() func ile readlines methodu arasindaki fark:\n",
        "\n",
        "## reader da for loop kullandigimiz icin, loop icerisindeki print\n",
        "## her döngüde ayri calisir. Bu nedenle tablomuzun her satiri\n",
        "# output da bir alt satirda yazilir. ve her satirimiz ayri bir listedir\n",
        "\n",
        "## readlines da ise; tüm verilerimiz string veri tipinde\n",
        "## tek bir liste icerisine alinir \n",
        "\n",
        "with open(\"fruits.csv\", \"r\") as file:\n",
        "  print(file.readlines())"
      ],
      "metadata": {
        "colab": {
          "base_uri": "https://localhost:8080/"
        },
        "id": "kA-1DJAqRs8E",
        "outputId": "5777132f-606c-4638-e470-3e545f2eb876"
      },
      "execution_count": null,
      "outputs": [
        {
          "output_type": "stream",
          "name": "stdout",
          "text": [
            "['5, elma, 4 lb\\n', '6, kiraz, 5 lb\\n', '7, visne, 2lb\\n', '8, armut, 6lb\\n']\n"
          ]
        }
      ]
    },
    {
      "cell_type": "code",
      "source": [
        "## Önemli:\n",
        "\n",
        "## eger tablomuzu olustururken, virgülle ayrilmis stringler arasinda\n",
        "# bosluk birakirsak, bu durumda reader ile liste yaptigimizda\n",
        "## split olarak virgüllerden ayiracagi icin, virgüllerden sonraki \n",
        "# space'leri de stringler icerisine dahil eder.\n",
        "\n",
        "# Bu durum bize indexleme de problem cikartir.\n",
        "# mesela if i == \"elma\" dedigimizde, string icerisinde \n",
        "# bosluk olacagindan sartimiz calismaz\n",
        "\n",
        "\n",
        "## dosyamizin uzantisi csv'dir. yani comma seperated value\n",
        "## tüm verilerimiz birbirinden ayrilirken default olarak\n",
        "## \",\" ile split edilir"
      ],
      "metadata": {
        "id": "NsLJQc_UNgwD"
      },
      "execution_count": null,
      "outputs": []
    },
    {
      "cell_type": "code",
      "source": [
        "### newline = \"\"\n",
        "\n",
        "## csv dosyalari ile calisirken, outputlarimizin saglikli olabilmesi icin\n",
        "## newline parametresi karsisina bos string atiyoruz\n",
        "\n",
        "with open(\"fruits.csv\", \"r\", newline= \"\", encoding= \"utf-8\") as file:\n",
        "  rows = csv.reader(file)\n",
        "  for i in rows:\n",
        "    print(i)"
      ],
      "metadata": {
        "colab": {
          "base_uri": "https://localhost:8080/"
        },
        "id": "4n-Eg2zjNgya",
        "outputId": "0c4aef56-b403-41b6-cbc0-b8d9dedbb057"
      },
      "execution_count": null,
      "outputs": [
        {
          "output_type": "stream",
          "name": "stdout",
          "text": [
            "['5', ' elma', ' 4 lb']\n",
            "['6', ' kiraz', ' 5 lb']\n",
            "['7', ' visne', ' 2lb']\n",
            "['8', ' armut', ' 6lb']\n"
          ]
        }
      ]
    },
    {
      "cell_type": "code",
      "source": [
        "## csv modülü kullandigimizda, reader func bize bir object üretir.\n",
        "## yani ketum bir func'dir diyebiliriz.\n",
        "\n",
        "## bu nedenle asagida oldugu gibi bu kodu calistiramayiz\n",
        "\n",
        "with open(\"fruits.csv\", \"r\", newline= \"\", encoding= \"utf-8\") as file:\n",
        "  rows = csv.reader(file)\n",
        "  print(rows)  "
      ],
      "metadata": {
        "colab": {
          "base_uri": "https://localhost:8080/"
        },
        "id": "dEtp7nl2Ng1X",
        "outputId": "e427069b-433e-4da3-f270-1a2e6877a971"
      },
      "execution_count": null,
      "outputs": [
        {
          "output_type": "stream",
          "name": "stdout",
          "text": [
            "<_csv.reader object at 0x7f1a0cb56bd0>\n"
          ]
        }
      ]
    },
    {
      "cell_type": "code",
      "source": [
        "## Burada olusan object'i acmanin tek yolu for loop degildir.\n",
        "\n",
        "## ayni diger ketum func'lar da oldugu gibi su yöntemleri kullanabiliriz\n",
        "\n",
        "with open(\"fruits.csv\", \"r\", newline= \"\", encoding= \"utf-8\") as file:\n",
        "  rows = csv.reader(file)\n",
        "  print(*rows)    # ancak bu durumda rows'un verilerini sadece görüntülemis oluruz\n",
        "                  # bu veriler arasinda iterate yapamayiz"
      ],
      "metadata": {
        "colab": {
          "base_uri": "https://localhost:8080/"
        },
        "id": "2AldTy7hNg4i",
        "outputId": "78d83370-e947-42e7-8274-61eee809f720"
      },
      "execution_count": null,
      "outputs": [
        {
          "output_type": "stream",
          "name": "stdout",
          "text": [
            "['5', ' elma', ' 4 lb'] ['6', ' kiraz', ' 5 lb'] ['7', ' visne', ' 2lb'] ['8', ' armut', ' 6lb']\n"
          ]
        }
      ]
    },
    {
      "cell_type": "code",
      "source": [
        "with open(\"fruits.csv\", \"r\", newline= \"\", encoding= \"utf-8\") as file:\n",
        "  rows = csv.reader(file)\n",
        "  print(list(rows))"
      ],
      "metadata": {
        "colab": {
          "base_uri": "https://localhost:8080/"
        },
        "id": "d2RInWBLNg7c",
        "outputId": "6b4674a8-cf65-4e02-c7e7-22c6097737ae"
      },
      "execution_count": null,
      "outputs": [
        {
          "output_type": "stream",
          "name": "stdout",
          "text": [
            "[['5', ' elma', ' 4 lb'], ['6', ' kiraz', ' 5 lb'], ['7', ' visne', ' 2lb'], ['8', ' armut', ' 6lb']]\n"
          ]
        }
      ]
    },
    {
      "cell_type": "code",
      "source": [
        "with open(\"fruits.csv\", \"r\", newline= \"\", encoding= \"utf-8\") as file:\n",
        "  rows = csv.reader(file)\n",
        "  print(tuple(rows))"
      ],
      "metadata": {
        "colab": {
          "base_uri": "https://localhost:8080/"
        },
        "id": "S2tnbnzENg-F",
        "outputId": "ecff8716-f21c-4b13-b08f-c56551c37321"
      },
      "execution_count": null,
      "outputs": [
        {
          "output_type": "stream",
          "name": "stdout",
          "text": [
            "(['5', ' elma', ' 4 lb'], ['6', ' kiraz', ' 5 lb'], ['7', ' visne', ' 2lb'], ['8', ' armut', ' 6lb'])\n"
          ]
        }
      ]
    },
    {
      "cell_type": "code",
      "source": [
        "## output nedir??\n",
        "\n",
        "with open(\"fruits.csv\", \"r\", newline= \"\", encoding= \"utf-8\") as file:\n",
        "  rows = csv.reader(file)\n",
        "  print(set(rows))                       ## vvv"
      ],
      "metadata": {
        "id": "AeOSQwGZNhBu"
      },
      "execution_count": null,
      "outputs": []
    },
    {
      "cell_type": "code",
      "source": [
        "## bizim her bir satirimiz liste veri tipindedir.\n",
        "# set de icerisine liste veri tipi almadigi icin\n",
        "## set func i burada kullanamayiz"
      ],
      "metadata": {
        "id": "nEUYeV_FNhED"
      },
      "execution_count": null,
      "outputs": []
    },
    {
      "cell_type": "code",
      "source": [
        "## delimiter'in default'u \",\" dür\n",
        "# bu nedenle bu parametreyi yazmak zorunda degiliz\n",
        "\n",
        "## ama delimiter parametresini yazarsak, icerisini bos birakamayiz\n",
        "## kesinlikle birsey yazmak zorundayizdir"
      ],
      "metadata": {
        "id": "Ip0CqEXhNhGP"
      },
      "execution_count": null,
      "outputs": []
    },
    {
      "cell_type": "code",
      "source": [
        "# eger delimiter icerisine \",\" degil de baska birsey yazarsak\n",
        "## bu durumda string ler arasinda virgül göremeyeceginden\n",
        "## tüm satir tek bir string olur\n",
        "\n",
        "## eger liste icerisinde tek bir stringe ihtiyac duyarsak\n",
        "# bunu kullanabiliriz\n",
        "\n",
        "with open(\"fruits.csv\", \"r\", newline= \"\",encoding= \"utf-8\") as file:\n",
        "  rows = csv.reader(file, delimiter = \"/\")\n",
        "  for i in rows:\n",
        "    print(i)"
      ],
      "metadata": {
        "colab": {
          "base_uri": "https://localhost:8080/"
        },
        "id": "uOO0XXPhWeQ1",
        "outputId": "0afdbe61-5c1e-47d0-b673-9df64ad523be"
      },
      "execution_count": null,
      "outputs": [
        {
          "output_type": "stream",
          "name": "stdout",
          "text": [
            "['5, elma, 4 lb']\n",
            "['6, kiraz, 5 lb']\n",
            "['7, visne, 2lb']\n",
            "['8, armut, 6lb']\n"
          ]
        }
      ]
    },
    {
      "cell_type": "code",
      "source": [
        ""
      ],
      "metadata": {
        "id": "EPaBw0YjWeVl"
      },
      "execution_count": null,
      "outputs": []
    },
    {
      "cell_type": "code",
      "source": [
        "#############################\n",
        "####   csv dosyalarini okumanin bir diger yöntemi pandas library kullanmaktir\n"
      ],
      "metadata": {
        "id": "LJe-uJM0Webf"
      },
      "execution_count": null,
      "outputs": []
    },
    {
      "cell_type": "code",
      "source": [
        "## öncelikle su adresten titanic dosyasini indirelim\n",
        "\n",
        "## https://github.com/datasciencedojo/datasets/blob/master/titanic.csv"
      ],
      "metadata": {
        "id": "-GSu2qenWefB"
      },
      "execution_count": null,
      "outputs": []
    },
    {
      "cell_type": "code",
      "source": [
        "with open(\"titanic.csv\", \"r\") as file:\n",
        "  print(file.read())"
      ],
      "metadata": {
        "id": "yTCKLVifWeki"
      },
      "execution_count": null,
      "outputs": []
    },
    {
      "cell_type": "code",
      "source": [
        "from pandas.io.parsers import read_csv\n",
        "import pandas as pd\n",
        "\n",
        "df = pd.read_csv(\"titanic.csv\")   ## dataframe'in kisaltmasi\n",
        "df\n",
        "\n",
        "## df degiskenine burada bir method tanimladik\n",
        "# ve artik bundan sonra yazacagimiz kodlarda\n",
        "# df yi bir func gibi kullanacagiz"
      ],
      "metadata": {
        "colab": {
          "base_uri": "https://localhost:8080/",
          "height": 991
        },
        "id": "PcMuu4ALWepN",
        "outputId": "605cc125-ac7f-42bd-d0b6-fda2bfa64555"
      },
      "execution_count": null,
      "outputs": [
        {
          "output_type": "execute_result",
          "data": {
            "text/html": [
              "\n",
              "  <div id=\"df-d12065a6-9dd7-4aa3-87da-9f2b1ef802b5\">\n",
              "    <div class=\"colab-df-container\">\n",
              "      <div>\n",
              "<style scoped>\n",
              "    .dataframe tbody tr th:only-of-type {\n",
              "        vertical-align: middle;\n",
              "    }\n",
              "\n",
              "    .dataframe tbody tr th {\n",
              "        vertical-align: top;\n",
              "    }\n",
              "\n",
              "    .dataframe thead th {\n",
              "        text-align: right;\n",
              "    }\n",
              "</style>\n",
              "<table border=\"1\" class=\"dataframe\">\n",
              "  <thead>\n",
              "    <tr style=\"text-align: right;\">\n",
              "      <th></th>\n",
              "      <th>PassengerId</th>\n",
              "      <th>Survived</th>\n",
              "      <th>Pclass</th>\n",
              "      <th>Name</th>\n",
              "      <th>Sex</th>\n",
              "      <th>Age</th>\n",
              "      <th>SibSp</th>\n",
              "      <th>Parch</th>\n",
              "      <th>Ticket</th>\n",
              "      <th>Fare</th>\n",
              "      <th>Cabin</th>\n",
              "      <th>Embarked</th>\n",
              "    </tr>\n",
              "  </thead>\n",
              "  <tbody>\n",
              "    <tr>\n",
              "      <th>0</th>\n",
              "      <td>1</td>\n",
              "      <td>0</td>\n",
              "      <td>3</td>\n",
              "      <td>Braund, Mr. Owen Harris</td>\n",
              "      <td>male</td>\n",
              "      <td>22.0</td>\n",
              "      <td>1</td>\n",
              "      <td>0</td>\n",
              "      <td>A/5 21171</td>\n",
              "      <td>7.2500</td>\n",
              "      <td>NaN</td>\n",
              "      <td>S</td>\n",
              "    </tr>\n",
              "    <tr>\n",
              "      <th>1</th>\n",
              "      <td>2</td>\n",
              "      <td>1</td>\n",
              "      <td>1</td>\n",
              "      <td>Cumings, Mrs. John Bradley (Florence Briggs Th...</td>\n",
              "      <td>female</td>\n",
              "      <td>38.0</td>\n",
              "      <td>1</td>\n",
              "      <td>0</td>\n",
              "      <td>PC 17599</td>\n",
              "      <td>71.2833</td>\n",
              "      <td>C85</td>\n",
              "      <td>C</td>\n",
              "    </tr>\n",
              "    <tr>\n",
              "      <th>2</th>\n",
              "      <td>3</td>\n",
              "      <td>1</td>\n",
              "      <td>3</td>\n",
              "      <td>Heikkinen, Miss. Laina</td>\n",
              "      <td>female</td>\n",
              "      <td>26.0</td>\n",
              "      <td>0</td>\n",
              "      <td>0</td>\n",
              "      <td>STON/O2. 3101282</td>\n",
              "      <td>7.9250</td>\n",
              "      <td>NaN</td>\n",
              "      <td>S</td>\n",
              "    </tr>\n",
              "    <tr>\n",
              "      <th>3</th>\n",
              "      <td>4</td>\n",
              "      <td>1</td>\n",
              "      <td>1</td>\n",
              "      <td>Futrelle, Mrs. Jacques Heath (Lily May Peel)</td>\n",
              "      <td>female</td>\n",
              "      <td>35.0</td>\n",
              "      <td>1</td>\n",
              "      <td>0</td>\n",
              "      <td>113803</td>\n",
              "      <td>53.1000</td>\n",
              "      <td>C123</td>\n",
              "      <td>S</td>\n",
              "    </tr>\n",
              "    <tr>\n",
              "      <th>4</th>\n",
              "      <td>5</td>\n",
              "      <td>0</td>\n",
              "      <td>3</td>\n",
              "      <td>Allen, Mr. William Henry</td>\n",
              "      <td>male</td>\n",
              "      <td>35.0</td>\n",
              "      <td>0</td>\n",
              "      <td>0</td>\n",
              "      <td>373450</td>\n",
              "      <td>8.0500</td>\n",
              "      <td>NaN</td>\n",
              "      <td>S</td>\n",
              "    </tr>\n",
              "    <tr>\n",
              "      <th>...</th>\n",
              "      <td>...</td>\n",
              "      <td>...</td>\n",
              "      <td>...</td>\n",
              "      <td>...</td>\n",
              "      <td>...</td>\n",
              "      <td>...</td>\n",
              "      <td>...</td>\n",
              "      <td>...</td>\n",
              "      <td>...</td>\n",
              "      <td>...</td>\n",
              "      <td>...</td>\n",
              "      <td>...</td>\n",
              "    </tr>\n",
              "    <tr>\n",
              "      <th>886</th>\n",
              "      <td>887</td>\n",
              "      <td>0</td>\n",
              "      <td>2</td>\n",
              "      <td>Montvila, Rev. Juozas</td>\n",
              "      <td>male</td>\n",
              "      <td>27.0</td>\n",
              "      <td>0</td>\n",
              "      <td>0</td>\n",
              "      <td>211536</td>\n",
              "      <td>13.0000</td>\n",
              "      <td>NaN</td>\n",
              "      <td>S</td>\n",
              "    </tr>\n",
              "    <tr>\n",
              "      <th>887</th>\n",
              "      <td>888</td>\n",
              "      <td>1</td>\n",
              "      <td>1</td>\n",
              "      <td>Graham, Miss. Margaret Edith</td>\n",
              "      <td>female</td>\n",
              "      <td>19.0</td>\n",
              "      <td>0</td>\n",
              "      <td>0</td>\n",
              "      <td>112053</td>\n",
              "      <td>30.0000</td>\n",
              "      <td>B42</td>\n",
              "      <td>S</td>\n",
              "    </tr>\n",
              "    <tr>\n",
              "      <th>888</th>\n",
              "      <td>889</td>\n",
              "      <td>0</td>\n",
              "      <td>3</td>\n",
              "      <td>Johnston, Miss. Catherine Helen \"Carrie\"</td>\n",
              "      <td>female</td>\n",
              "      <td>NaN</td>\n",
              "      <td>1</td>\n",
              "      <td>2</td>\n",
              "      <td>W./C. 6607</td>\n",
              "      <td>23.4500</td>\n",
              "      <td>NaN</td>\n",
              "      <td>S</td>\n",
              "    </tr>\n",
              "    <tr>\n",
              "      <th>889</th>\n",
              "      <td>890</td>\n",
              "      <td>1</td>\n",
              "      <td>1</td>\n",
              "      <td>Behr, Mr. Karl Howell</td>\n",
              "      <td>male</td>\n",
              "      <td>26.0</td>\n",
              "      <td>0</td>\n",
              "      <td>0</td>\n",
              "      <td>111369</td>\n",
              "      <td>30.0000</td>\n",
              "      <td>C148</td>\n",
              "      <td>C</td>\n",
              "    </tr>\n",
              "    <tr>\n",
              "      <th>890</th>\n",
              "      <td>891</td>\n",
              "      <td>0</td>\n",
              "      <td>3</td>\n",
              "      <td>Dooley, Mr. Patrick</td>\n",
              "      <td>male</td>\n",
              "      <td>32.0</td>\n",
              "      <td>0</td>\n",
              "      <td>0</td>\n",
              "      <td>370376</td>\n",
              "      <td>7.7500</td>\n",
              "      <td>NaN</td>\n",
              "      <td>Q</td>\n",
              "    </tr>\n",
              "  </tbody>\n",
              "</table>\n",
              "<p>891 rows × 12 columns</p>\n",
              "</div>\n",
              "      <button class=\"colab-df-convert\" onclick=\"convertToInteractive('df-d12065a6-9dd7-4aa3-87da-9f2b1ef802b5')\"\n",
              "              title=\"Convert this dataframe to an interactive table.\"\n",
              "              style=\"display:none;\">\n",
              "        \n",
              "  <svg xmlns=\"http://www.w3.org/2000/svg\" height=\"24px\"viewBox=\"0 0 24 24\"\n",
              "       width=\"24px\">\n",
              "    <path d=\"M0 0h24v24H0V0z\" fill=\"none\"/>\n",
              "    <path d=\"M18.56 5.44l.94 2.06.94-2.06 2.06-.94-2.06-.94-.94-2.06-.94 2.06-2.06.94zm-11 1L8.5 8.5l.94-2.06 2.06-.94-2.06-.94L8.5 2.5l-.94 2.06-2.06.94zm10 10l.94 2.06.94-2.06 2.06-.94-2.06-.94-.94-2.06-.94 2.06-2.06.94z\"/><path d=\"M17.41 7.96l-1.37-1.37c-.4-.4-.92-.59-1.43-.59-.52 0-1.04.2-1.43.59L10.3 9.45l-7.72 7.72c-.78.78-.78 2.05 0 2.83L4 21.41c.39.39.9.59 1.41.59.51 0 1.02-.2 1.41-.59l7.78-7.78 2.81-2.81c.8-.78.8-2.07 0-2.86zM5.41 20L4 18.59l7.72-7.72 1.47 1.35L5.41 20z\"/>\n",
              "  </svg>\n",
              "      </button>\n",
              "      \n",
              "  <style>\n",
              "    .colab-df-container {\n",
              "      display:flex;\n",
              "      flex-wrap:wrap;\n",
              "      gap: 12px;\n",
              "    }\n",
              "\n",
              "    .colab-df-convert {\n",
              "      background-color: #E8F0FE;\n",
              "      border: none;\n",
              "      border-radius: 50%;\n",
              "      cursor: pointer;\n",
              "      display: none;\n",
              "      fill: #1967D2;\n",
              "      height: 32px;\n",
              "      padding: 0 0 0 0;\n",
              "      width: 32px;\n",
              "    }\n",
              "\n",
              "    .colab-df-convert:hover {\n",
              "      background-color: #E2EBFA;\n",
              "      box-shadow: 0px 1px 2px rgba(60, 64, 67, 0.3), 0px 1px 3px 1px rgba(60, 64, 67, 0.15);\n",
              "      fill: #174EA6;\n",
              "    }\n",
              "\n",
              "    [theme=dark] .colab-df-convert {\n",
              "      background-color: #3B4455;\n",
              "      fill: #D2E3FC;\n",
              "    }\n",
              "\n",
              "    [theme=dark] .colab-df-convert:hover {\n",
              "      background-color: #434B5C;\n",
              "      box-shadow: 0px 1px 3px 1px rgba(0, 0, 0, 0.15);\n",
              "      filter: drop-shadow(0px 1px 2px rgba(0, 0, 0, 0.3));\n",
              "      fill: #FFFFFF;\n",
              "    }\n",
              "  </style>\n",
              "\n",
              "      <script>\n",
              "        const buttonEl =\n",
              "          document.querySelector('#df-d12065a6-9dd7-4aa3-87da-9f2b1ef802b5 button.colab-df-convert');\n",
              "        buttonEl.style.display =\n",
              "          google.colab.kernel.accessAllowed ? 'block' : 'none';\n",
              "\n",
              "        async function convertToInteractive(key) {\n",
              "          const element = document.querySelector('#df-d12065a6-9dd7-4aa3-87da-9f2b1ef802b5');\n",
              "          const dataTable =\n",
              "            await google.colab.kernel.invokeFunction('convertToInteractive',\n",
              "                                                     [key], {});\n",
              "          if (!dataTable) return;\n",
              "\n",
              "          const docLinkHtml = 'Like what you see? Visit the ' +\n",
              "            '<a target=\"_blank\" href=https://colab.research.google.com/notebooks/data_table.ipynb>data table notebook</a>'\n",
              "            + ' to learn more about interactive tables.';\n",
              "          element.innerHTML = '';\n",
              "          dataTable['output_type'] = 'display_data';\n",
              "          await google.colab.output.renderOutput(dataTable, element);\n",
              "          const docLink = document.createElement('div');\n",
              "          docLink.innerHTML = docLinkHtml;\n",
              "          element.appendChild(docLink);\n",
              "        }\n",
              "      </script>\n",
              "    </div>\n",
              "  </div>\n",
              "  "
            ],
            "text/plain": [
              "     PassengerId  Survived  Pclass  ...     Fare Cabin  Embarked\n",
              "0              1         0       3  ...   7.2500   NaN         S\n",
              "1              2         1       1  ...  71.2833   C85         C\n",
              "2              3         1       3  ...   7.9250   NaN         S\n",
              "3              4         1       1  ...  53.1000  C123         S\n",
              "4              5         0       3  ...   8.0500   NaN         S\n",
              "..           ...       ...     ...  ...      ...   ...       ...\n",
              "886          887         0       2  ...  13.0000   NaN         S\n",
              "887          888         1       1  ...  30.0000   B42         S\n",
              "888          889         0       3  ...  23.4500   NaN         S\n",
              "889          890         1       1  ...  30.0000  C148         C\n",
              "890          891         0       3  ...   7.7500   NaN         Q\n",
              "\n",
              "[891 rows x 12 columns]"
            ]
          },
          "metadata": {},
          "execution_count": 35
        }
      ]
    },
    {
      "cell_type": "code",
      "source": [
        "## eger calistigimiz platform da pandas yok ise \n",
        "# pandas 'i su sekilde kurabiliriz.\n",
        "\n",
        "## pip install pandas"
      ],
      "metadata": {
        "id": "vvYjpDTZWets"
      },
      "execution_count": null,
      "outputs": []
    },
    {
      "cell_type": "code",
      "source": [
        "## cinsiyetleri  su sekilde görüyoruz:\n",
        "\n",
        "df.Sex.value_counts(dropna = False)"
      ],
      "metadata": {
        "colab": {
          "base_uri": "https://localhost:8080/"
        },
        "id": "MUDFkIWVWey-",
        "outputId": "43e77901-f736-4768-e80c-cee0891caf30"
      },
      "execution_count": null,
      "outputs": [
        {
          "output_type": "execute_result",
          "data": {
            "text/plain": [
              "male      577\n",
              "female    314\n",
              "Name: Sex, dtype: int64"
            ]
          },
          "metadata": {},
          "execution_count": 36
        }
      ]
    },
    {
      "cell_type": "code",
      "source": [
        "bayanlar = df[df[\"Sex\"] == \"female\"]\n",
        "bayanlar"
      ],
      "metadata": {
        "colab": {
          "base_uri": "https://localhost:8080/",
          "height": 1000
        },
        "id": "k5sIpggVWe20",
        "outputId": "4ff03c7c-6038-41eb-9d57-a3bd9fccd8bd"
      },
      "execution_count": null,
      "outputs": [
        {
          "output_type": "execute_result",
          "data": {
            "text/html": [
              "\n",
              "  <div id=\"df-859cffa4-7bbf-4311-a75f-ae439d4a03c0\">\n",
              "    <div class=\"colab-df-container\">\n",
              "      <div>\n",
              "<style scoped>\n",
              "    .dataframe tbody tr th:only-of-type {\n",
              "        vertical-align: middle;\n",
              "    }\n",
              "\n",
              "    .dataframe tbody tr th {\n",
              "        vertical-align: top;\n",
              "    }\n",
              "\n",
              "    .dataframe thead th {\n",
              "        text-align: right;\n",
              "    }\n",
              "</style>\n",
              "<table border=\"1\" class=\"dataframe\">\n",
              "  <thead>\n",
              "    <tr style=\"text-align: right;\">\n",
              "      <th></th>\n",
              "      <th>PassengerId</th>\n",
              "      <th>Survived</th>\n",
              "      <th>Pclass</th>\n",
              "      <th>Name</th>\n",
              "      <th>Sex</th>\n",
              "      <th>Age</th>\n",
              "      <th>SibSp</th>\n",
              "      <th>Parch</th>\n",
              "      <th>Ticket</th>\n",
              "      <th>Fare</th>\n",
              "      <th>Cabin</th>\n",
              "      <th>Embarked</th>\n",
              "    </tr>\n",
              "  </thead>\n",
              "  <tbody>\n",
              "    <tr>\n",
              "      <th>1</th>\n",
              "      <td>2</td>\n",
              "      <td>1</td>\n",
              "      <td>1</td>\n",
              "      <td>Cumings, Mrs. John Bradley (Florence Briggs Th...</td>\n",
              "      <td>female</td>\n",
              "      <td>38.0</td>\n",
              "      <td>1</td>\n",
              "      <td>0</td>\n",
              "      <td>PC 17599</td>\n",
              "      <td>71.2833</td>\n",
              "      <td>C85</td>\n",
              "      <td>C</td>\n",
              "    </tr>\n",
              "    <tr>\n",
              "      <th>2</th>\n",
              "      <td>3</td>\n",
              "      <td>1</td>\n",
              "      <td>3</td>\n",
              "      <td>Heikkinen, Miss. Laina</td>\n",
              "      <td>female</td>\n",
              "      <td>26.0</td>\n",
              "      <td>0</td>\n",
              "      <td>0</td>\n",
              "      <td>STON/O2. 3101282</td>\n",
              "      <td>7.9250</td>\n",
              "      <td>NaN</td>\n",
              "      <td>S</td>\n",
              "    </tr>\n",
              "    <tr>\n",
              "      <th>3</th>\n",
              "      <td>4</td>\n",
              "      <td>1</td>\n",
              "      <td>1</td>\n",
              "      <td>Futrelle, Mrs. Jacques Heath (Lily May Peel)</td>\n",
              "      <td>female</td>\n",
              "      <td>35.0</td>\n",
              "      <td>1</td>\n",
              "      <td>0</td>\n",
              "      <td>113803</td>\n",
              "      <td>53.1000</td>\n",
              "      <td>C123</td>\n",
              "      <td>S</td>\n",
              "    </tr>\n",
              "    <tr>\n",
              "      <th>8</th>\n",
              "      <td>9</td>\n",
              "      <td>1</td>\n",
              "      <td>3</td>\n",
              "      <td>Johnson, Mrs. Oscar W (Elisabeth Vilhelmina Berg)</td>\n",
              "      <td>female</td>\n",
              "      <td>27.0</td>\n",
              "      <td>0</td>\n",
              "      <td>2</td>\n",
              "      <td>347742</td>\n",
              "      <td>11.1333</td>\n",
              "      <td>NaN</td>\n",
              "      <td>S</td>\n",
              "    </tr>\n",
              "    <tr>\n",
              "      <th>9</th>\n",
              "      <td>10</td>\n",
              "      <td>1</td>\n",
              "      <td>2</td>\n",
              "      <td>Nasser, Mrs. Nicholas (Adele Achem)</td>\n",
              "      <td>female</td>\n",
              "      <td>14.0</td>\n",
              "      <td>1</td>\n",
              "      <td>0</td>\n",
              "      <td>237736</td>\n",
              "      <td>30.0708</td>\n",
              "      <td>NaN</td>\n",
              "      <td>C</td>\n",
              "    </tr>\n",
              "    <tr>\n",
              "      <th>...</th>\n",
              "      <td>...</td>\n",
              "      <td>...</td>\n",
              "      <td>...</td>\n",
              "      <td>...</td>\n",
              "      <td>...</td>\n",
              "      <td>...</td>\n",
              "      <td>...</td>\n",
              "      <td>...</td>\n",
              "      <td>...</td>\n",
              "      <td>...</td>\n",
              "      <td>...</td>\n",
              "      <td>...</td>\n",
              "    </tr>\n",
              "    <tr>\n",
              "      <th>880</th>\n",
              "      <td>881</td>\n",
              "      <td>1</td>\n",
              "      <td>2</td>\n",
              "      <td>Shelley, Mrs. William (Imanita Parrish Hall)</td>\n",
              "      <td>female</td>\n",
              "      <td>25.0</td>\n",
              "      <td>0</td>\n",
              "      <td>1</td>\n",
              "      <td>230433</td>\n",
              "      <td>26.0000</td>\n",
              "      <td>NaN</td>\n",
              "      <td>S</td>\n",
              "    </tr>\n",
              "    <tr>\n",
              "      <th>882</th>\n",
              "      <td>883</td>\n",
              "      <td>0</td>\n",
              "      <td>3</td>\n",
              "      <td>Dahlberg, Miss. Gerda Ulrika</td>\n",
              "      <td>female</td>\n",
              "      <td>22.0</td>\n",
              "      <td>0</td>\n",
              "      <td>0</td>\n",
              "      <td>7552</td>\n",
              "      <td>10.5167</td>\n",
              "      <td>NaN</td>\n",
              "      <td>S</td>\n",
              "    </tr>\n",
              "    <tr>\n",
              "      <th>885</th>\n",
              "      <td>886</td>\n",
              "      <td>0</td>\n",
              "      <td>3</td>\n",
              "      <td>Rice, Mrs. William (Margaret Norton)</td>\n",
              "      <td>female</td>\n",
              "      <td>39.0</td>\n",
              "      <td>0</td>\n",
              "      <td>5</td>\n",
              "      <td>382652</td>\n",
              "      <td>29.1250</td>\n",
              "      <td>NaN</td>\n",
              "      <td>Q</td>\n",
              "    </tr>\n",
              "    <tr>\n",
              "      <th>887</th>\n",
              "      <td>888</td>\n",
              "      <td>1</td>\n",
              "      <td>1</td>\n",
              "      <td>Graham, Miss. Margaret Edith</td>\n",
              "      <td>female</td>\n",
              "      <td>19.0</td>\n",
              "      <td>0</td>\n",
              "      <td>0</td>\n",
              "      <td>112053</td>\n",
              "      <td>30.0000</td>\n",
              "      <td>B42</td>\n",
              "      <td>S</td>\n",
              "    </tr>\n",
              "    <tr>\n",
              "      <th>888</th>\n",
              "      <td>889</td>\n",
              "      <td>0</td>\n",
              "      <td>3</td>\n",
              "      <td>Johnston, Miss. Catherine Helen \"Carrie\"</td>\n",
              "      <td>female</td>\n",
              "      <td>NaN</td>\n",
              "      <td>1</td>\n",
              "      <td>2</td>\n",
              "      <td>W./C. 6607</td>\n",
              "      <td>23.4500</td>\n",
              "      <td>NaN</td>\n",
              "      <td>S</td>\n",
              "    </tr>\n",
              "  </tbody>\n",
              "</table>\n",
              "<p>314 rows × 12 columns</p>\n",
              "</div>\n",
              "      <button class=\"colab-df-convert\" onclick=\"convertToInteractive('df-859cffa4-7bbf-4311-a75f-ae439d4a03c0')\"\n",
              "              title=\"Convert this dataframe to an interactive table.\"\n",
              "              style=\"display:none;\">\n",
              "        \n",
              "  <svg xmlns=\"http://www.w3.org/2000/svg\" height=\"24px\"viewBox=\"0 0 24 24\"\n",
              "       width=\"24px\">\n",
              "    <path d=\"M0 0h24v24H0V0z\" fill=\"none\"/>\n",
              "    <path d=\"M18.56 5.44l.94 2.06.94-2.06 2.06-.94-2.06-.94-.94-2.06-.94 2.06-2.06.94zm-11 1L8.5 8.5l.94-2.06 2.06-.94-2.06-.94L8.5 2.5l-.94 2.06-2.06.94zm10 10l.94 2.06.94-2.06 2.06-.94-2.06-.94-.94-2.06-.94 2.06-2.06.94z\"/><path d=\"M17.41 7.96l-1.37-1.37c-.4-.4-.92-.59-1.43-.59-.52 0-1.04.2-1.43.59L10.3 9.45l-7.72 7.72c-.78.78-.78 2.05 0 2.83L4 21.41c.39.39.9.59 1.41.59.51 0 1.02-.2 1.41-.59l7.78-7.78 2.81-2.81c.8-.78.8-2.07 0-2.86zM5.41 20L4 18.59l7.72-7.72 1.47 1.35L5.41 20z\"/>\n",
              "  </svg>\n",
              "      </button>\n",
              "      \n",
              "  <style>\n",
              "    .colab-df-container {\n",
              "      display:flex;\n",
              "      flex-wrap:wrap;\n",
              "      gap: 12px;\n",
              "    }\n",
              "\n",
              "    .colab-df-convert {\n",
              "      background-color: #E8F0FE;\n",
              "      border: none;\n",
              "      border-radius: 50%;\n",
              "      cursor: pointer;\n",
              "      display: none;\n",
              "      fill: #1967D2;\n",
              "      height: 32px;\n",
              "      padding: 0 0 0 0;\n",
              "      width: 32px;\n",
              "    }\n",
              "\n",
              "    .colab-df-convert:hover {\n",
              "      background-color: #E2EBFA;\n",
              "      box-shadow: 0px 1px 2px rgba(60, 64, 67, 0.3), 0px 1px 3px 1px rgba(60, 64, 67, 0.15);\n",
              "      fill: #174EA6;\n",
              "    }\n",
              "\n",
              "    [theme=dark] .colab-df-convert {\n",
              "      background-color: #3B4455;\n",
              "      fill: #D2E3FC;\n",
              "    }\n",
              "\n",
              "    [theme=dark] .colab-df-convert:hover {\n",
              "      background-color: #434B5C;\n",
              "      box-shadow: 0px 1px 3px 1px rgba(0, 0, 0, 0.15);\n",
              "      filter: drop-shadow(0px 1px 2px rgba(0, 0, 0, 0.3));\n",
              "      fill: #FFFFFF;\n",
              "    }\n",
              "  </style>\n",
              "\n",
              "      <script>\n",
              "        const buttonEl =\n",
              "          document.querySelector('#df-859cffa4-7bbf-4311-a75f-ae439d4a03c0 button.colab-df-convert');\n",
              "        buttonEl.style.display =\n",
              "          google.colab.kernel.accessAllowed ? 'block' : 'none';\n",
              "\n",
              "        async function convertToInteractive(key) {\n",
              "          const element = document.querySelector('#df-859cffa4-7bbf-4311-a75f-ae439d4a03c0');\n",
              "          const dataTable =\n",
              "            await google.colab.kernel.invokeFunction('convertToInteractive',\n",
              "                                                     [key], {});\n",
              "          if (!dataTable) return;\n",
              "\n",
              "          const docLinkHtml = 'Like what you see? Visit the ' +\n",
              "            '<a target=\"_blank\" href=https://colab.research.google.com/notebooks/data_table.ipynb>data table notebook</a>'\n",
              "            + ' to learn more about interactive tables.';\n",
              "          element.innerHTML = '';\n",
              "          dataTable['output_type'] = 'display_data';\n",
              "          await google.colab.output.renderOutput(dataTable, element);\n",
              "          const docLink = document.createElement('div');\n",
              "          docLink.innerHTML = docLinkHtml;\n",
              "          element.appendChild(docLink);\n",
              "        }\n",
              "      </script>\n",
              "    </div>\n",
              "  </div>\n",
              "  "
            ],
            "text/plain": [
              "     PassengerId  Survived  Pclass  ...     Fare Cabin  Embarked\n",
              "1              2         1       1  ...  71.2833   C85         C\n",
              "2              3         1       3  ...   7.9250   NaN         S\n",
              "3              4         1       1  ...  53.1000  C123         S\n",
              "8              9         1       3  ...  11.1333   NaN         S\n",
              "9             10         1       2  ...  30.0708   NaN         C\n",
              "..           ...       ...     ...  ...      ...   ...       ...\n",
              "880          881         1       2  ...  26.0000   NaN         S\n",
              "882          883         0       3  ...  10.5167   NaN         S\n",
              "885          886         0       3  ...  29.1250   NaN         Q\n",
              "887          888         1       1  ...  30.0000   B42         S\n",
              "888          889         0       3  ...  23.4500   NaN         S\n",
              "\n",
              "[314 rows x 12 columns]"
            ]
          },
          "metadata": {},
          "execution_count": 38
        }
      ]
    },
    {
      "cell_type": "code",
      "source": [
        "## sadece bayanlarin oldugu bir tablo olusturalim\n",
        "\n",
        "bayanlar.to_csv(\"titanic_bayanlar.csv\", index = False)\n",
        "\n",
        "## bu komuttan sonra otomatik olarak dosya olusur"
      ],
      "metadata": {
        "id": "1VJirjEzWe53"
      },
      "execution_count": null,
      "outputs": []
    },
    {
      "cell_type": "code",
      "source": [
        "## sadece ölenleri print edelim\n",
        "\n",
        "vefat = df[df[\"Survived\"] == 0]\n",
        "vefat"
      ],
      "metadata": {
        "colab": {
          "base_uri": "https://localhost:8080/",
          "height": 922
        },
        "id": "rCDL-5FbWe9q",
        "outputId": "f8d664fc-1646-43f5-bf46-662f4e8d7c39"
      },
      "execution_count": null,
      "outputs": [
        {
          "output_type": "execute_result",
          "data": {
            "text/html": [
              "\n",
              "  <div id=\"df-11bab73c-37f7-4667-ae66-4c5c4068bcc1\">\n",
              "    <div class=\"colab-df-container\">\n",
              "      <div>\n",
              "<style scoped>\n",
              "    .dataframe tbody tr th:only-of-type {\n",
              "        vertical-align: middle;\n",
              "    }\n",
              "\n",
              "    .dataframe tbody tr th {\n",
              "        vertical-align: top;\n",
              "    }\n",
              "\n",
              "    .dataframe thead th {\n",
              "        text-align: right;\n",
              "    }\n",
              "</style>\n",
              "<table border=\"1\" class=\"dataframe\">\n",
              "  <thead>\n",
              "    <tr style=\"text-align: right;\">\n",
              "      <th></th>\n",
              "      <th>PassengerId</th>\n",
              "      <th>Survived</th>\n",
              "      <th>Pclass</th>\n",
              "      <th>Name</th>\n",
              "      <th>Sex</th>\n",
              "      <th>Age</th>\n",
              "      <th>SibSp</th>\n",
              "      <th>Parch</th>\n",
              "      <th>Ticket</th>\n",
              "      <th>Fare</th>\n",
              "      <th>Cabin</th>\n",
              "      <th>Embarked</th>\n",
              "    </tr>\n",
              "  </thead>\n",
              "  <tbody>\n",
              "    <tr>\n",
              "      <th>0</th>\n",
              "      <td>1</td>\n",
              "      <td>0</td>\n",
              "      <td>3</td>\n",
              "      <td>Braund, Mr. Owen Harris</td>\n",
              "      <td>male</td>\n",
              "      <td>22.0</td>\n",
              "      <td>1</td>\n",
              "      <td>0</td>\n",
              "      <td>A/5 21171</td>\n",
              "      <td>7.2500</td>\n",
              "      <td>NaN</td>\n",
              "      <td>S</td>\n",
              "    </tr>\n",
              "    <tr>\n",
              "      <th>4</th>\n",
              "      <td>5</td>\n",
              "      <td>0</td>\n",
              "      <td>3</td>\n",
              "      <td>Allen, Mr. William Henry</td>\n",
              "      <td>male</td>\n",
              "      <td>35.0</td>\n",
              "      <td>0</td>\n",
              "      <td>0</td>\n",
              "      <td>373450</td>\n",
              "      <td>8.0500</td>\n",
              "      <td>NaN</td>\n",
              "      <td>S</td>\n",
              "    </tr>\n",
              "    <tr>\n",
              "      <th>5</th>\n",
              "      <td>6</td>\n",
              "      <td>0</td>\n",
              "      <td>3</td>\n",
              "      <td>Moran, Mr. James</td>\n",
              "      <td>male</td>\n",
              "      <td>NaN</td>\n",
              "      <td>0</td>\n",
              "      <td>0</td>\n",
              "      <td>330877</td>\n",
              "      <td>8.4583</td>\n",
              "      <td>NaN</td>\n",
              "      <td>Q</td>\n",
              "    </tr>\n",
              "    <tr>\n",
              "      <th>6</th>\n",
              "      <td>7</td>\n",
              "      <td>0</td>\n",
              "      <td>1</td>\n",
              "      <td>McCarthy, Mr. Timothy J</td>\n",
              "      <td>male</td>\n",
              "      <td>54.0</td>\n",
              "      <td>0</td>\n",
              "      <td>0</td>\n",
              "      <td>17463</td>\n",
              "      <td>51.8625</td>\n",
              "      <td>E46</td>\n",
              "      <td>S</td>\n",
              "    </tr>\n",
              "    <tr>\n",
              "      <th>7</th>\n",
              "      <td>8</td>\n",
              "      <td>0</td>\n",
              "      <td>3</td>\n",
              "      <td>Palsson, Master. Gosta Leonard</td>\n",
              "      <td>male</td>\n",
              "      <td>2.0</td>\n",
              "      <td>3</td>\n",
              "      <td>1</td>\n",
              "      <td>349909</td>\n",
              "      <td>21.0750</td>\n",
              "      <td>NaN</td>\n",
              "      <td>S</td>\n",
              "    </tr>\n",
              "    <tr>\n",
              "      <th>...</th>\n",
              "      <td>...</td>\n",
              "      <td>...</td>\n",
              "      <td>...</td>\n",
              "      <td>...</td>\n",
              "      <td>...</td>\n",
              "      <td>...</td>\n",
              "      <td>...</td>\n",
              "      <td>...</td>\n",
              "      <td>...</td>\n",
              "      <td>...</td>\n",
              "      <td>...</td>\n",
              "      <td>...</td>\n",
              "    </tr>\n",
              "    <tr>\n",
              "      <th>884</th>\n",
              "      <td>885</td>\n",
              "      <td>0</td>\n",
              "      <td>3</td>\n",
              "      <td>Sutehall, Mr. Henry Jr</td>\n",
              "      <td>male</td>\n",
              "      <td>25.0</td>\n",
              "      <td>0</td>\n",
              "      <td>0</td>\n",
              "      <td>SOTON/OQ 392076</td>\n",
              "      <td>7.0500</td>\n",
              "      <td>NaN</td>\n",
              "      <td>S</td>\n",
              "    </tr>\n",
              "    <tr>\n",
              "      <th>885</th>\n",
              "      <td>886</td>\n",
              "      <td>0</td>\n",
              "      <td>3</td>\n",
              "      <td>Rice, Mrs. William (Margaret Norton)</td>\n",
              "      <td>female</td>\n",
              "      <td>39.0</td>\n",
              "      <td>0</td>\n",
              "      <td>5</td>\n",
              "      <td>382652</td>\n",
              "      <td>29.1250</td>\n",
              "      <td>NaN</td>\n",
              "      <td>Q</td>\n",
              "    </tr>\n",
              "    <tr>\n",
              "      <th>886</th>\n",
              "      <td>887</td>\n",
              "      <td>0</td>\n",
              "      <td>2</td>\n",
              "      <td>Montvila, Rev. Juozas</td>\n",
              "      <td>male</td>\n",
              "      <td>27.0</td>\n",
              "      <td>0</td>\n",
              "      <td>0</td>\n",
              "      <td>211536</td>\n",
              "      <td>13.0000</td>\n",
              "      <td>NaN</td>\n",
              "      <td>S</td>\n",
              "    </tr>\n",
              "    <tr>\n",
              "      <th>888</th>\n",
              "      <td>889</td>\n",
              "      <td>0</td>\n",
              "      <td>3</td>\n",
              "      <td>Johnston, Miss. Catherine Helen \"Carrie\"</td>\n",
              "      <td>female</td>\n",
              "      <td>NaN</td>\n",
              "      <td>1</td>\n",
              "      <td>2</td>\n",
              "      <td>W./C. 6607</td>\n",
              "      <td>23.4500</td>\n",
              "      <td>NaN</td>\n",
              "      <td>S</td>\n",
              "    </tr>\n",
              "    <tr>\n",
              "      <th>890</th>\n",
              "      <td>891</td>\n",
              "      <td>0</td>\n",
              "      <td>3</td>\n",
              "      <td>Dooley, Mr. Patrick</td>\n",
              "      <td>male</td>\n",
              "      <td>32.0</td>\n",
              "      <td>0</td>\n",
              "      <td>0</td>\n",
              "      <td>370376</td>\n",
              "      <td>7.7500</td>\n",
              "      <td>NaN</td>\n",
              "      <td>Q</td>\n",
              "    </tr>\n",
              "  </tbody>\n",
              "</table>\n",
              "<p>549 rows × 12 columns</p>\n",
              "</div>\n",
              "      <button class=\"colab-df-convert\" onclick=\"convertToInteractive('df-11bab73c-37f7-4667-ae66-4c5c4068bcc1')\"\n",
              "              title=\"Convert this dataframe to an interactive table.\"\n",
              "              style=\"display:none;\">\n",
              "        \n",
              "  <svg xmlns=\"http://www.w3.org/2000/svg\" height=\"24px\"viewBox=\"0 0 24 24\"\n",
              "       width=\"24px\">\n",
              "    <path d=\"M0 0h24v24H0V0z\" fill=\"none\"/>\n",
              "    <path d=\"M18.56 5.44l.94 2.06.94-2.06 2.06-.94-2.06-.94-.94-2.06-.94 2.06-2.06.94zm-11 1L8.5 8.5l.94-2.06 2.06-.94-2.06-.94L8.5 2.5l-.94 2.06-2.06.94zm10 10l.94 2.06.94-2.06 2.06-.94-2.06-.94-.94-2.06-.94 2.06-2.06.94z\"/><path d=\"M17.41 7.96l-1.37-1.37c-.4-.4-.92-.59-1.43-.59-.52 0-1.04.2-1.43.59L10.3 9.45l-7.72 7.72c-.78.78-.78 2.05 0 2.83L4 21.41c.39.39.9.59 1.41.59.51 0 1.02-.2 1.41-.59l7.78-7.78 2.81-2.81c.8-.78.8-2.07 0-2.86zM5.41 20L4 18.59l7.72-7.72 1.47 1.35L5.41 20z\"/>\n",
              "  </svg>\n",
              "      </button>\n",
              "      \n",
              "  <style>\n",
              "    .colab-df-container {\n",
              "      display:flex;\n",
              "      flex-wrap:wrap;\n",
              "      gap: 12px;\n",
              "    }\n",
              "\n",
              "    .colab-df-convert {\n",
              "      background-color: #E8F0FE;\n",
              "      border: none;\n",
              "      border-radius: 50%;\n",
              "      cursor: pointer;\n",
              "      display: none;\n",
              "      fill: #1967D2;\n",
              "      height: 32px;\n",
              "      padding: 0 0 0 0;\n",
              "      width: 32px;\n",
              "    }\n",
              "\n",
              "    .colab-df-convert:hover {\n",
              "      background-color: #E2EBFA;\n",
              "      box-shadow: 0px 1px 2px rgba(60, 64, 67, 0.3), 0px 1px 3px 1px rgba(60, 64, 67, 0.15);\n",
              "      fill: #174EA6;\n",
              "    }\n",
              "\n",
              "    [theme=dark] .colab-df-convert {\n",
              "      background-color: #3B4455;\n",
              "      fill: #D2E3FC;\n",
              "    }\n",
              "\n",
              "    [theme=dark] .colab-df-convert:hover {\n",
              "      background-color: #434B5C;\n",
              "      box-shadow: 0px 1px 3px 1px rgba(0, 0, 0, 0.15);\n",
              "      filter: drop-shadow(0px 1px 2px rgba(0, 0, 0, 0.3));\n",
              "      fill: #FFFFFF;\n",
              "    }\n",
              "  </style>\n",
              "\n",
              "      <script>\n",
              "        const buttonEl =\n",
              "          document.querySelector('#df-11bab73c-37f7-4667-ae66-4c5c4068bcc1 button.colab-df-convert');\n",
              "        buttonEl.style.display =\n",
              "          google.colab.kernel.accessAllowed ? 'block' : 'none';\n",
              "\n",
              "        async function convertToInteractive(key) {\n",
              "          const element = document.querySelector('#df-11bab73c-37f7-4667-ae66-4c5c4068bcc1');\n",
              "          const dataTable =\n",
              "            await google.colab.kernel.invokeFunction('convertToInteractive',\n",
              "                                                     [key], {});\n",
              "          if (!dataTable) return;\n",
              "\n",
              "          const docLinkHtml = 'Like what you see? Visit the ' +\n",
              "            '<a target=\"_blank\" href=https://colab.research.google.com/notebooks/data_table.ipynb>data table notebook</a>'\n",
              "            + ' to learn more about interactive tables.';\n",
              "          element.innerHTML = '';\n",
              "          dataTable['output_type'] = 'display_data';\n",
              "          await google.colab.output.renderOutput(dataTable, element);\n",
              "          const docLink = document.createElement('div');\n",
              "          docLink.innerHTML = docLinkHtml;\n",
              "          element.appendChild(docLink);\n",
              "        }\n",
              "      </script>\n",
              "    </div>\n",
              "  </div>\n",
              "  "
            ],
            "text/plain": [
              "     PassengerId  Survived  Pclass  ...     Fare Cabin  Embarked\n",
              "0              1         0       3  ...   7.2500   NaN         S\n",
              "4              5         0       3  ...   8.0500   NaN         S\n",
              "5              6         0       3  ...   8.4583   NaN         Q\n",
              "6              7         0       1  ...  51.8625   E46         S\n",
              "7              8         0       3  ...  21.0750   NaN         S\n",
              "..           ...       ...     ...  ...      ...   ...       ...\n",
              "884          885         0       3  ...   7.0500   NaN         S\n",
              "885          886         0       3  ...  29.1250   NaN         Q\n",
              "886          887         0       2  ...  13.0000   NaN         S\n",
              "888          889         0       3  ...  23.4500   NaN         S\n",
              "890          891         0       3  ...   7.7500   NaN         Q\n",
              "\n",
              "[549 rows x 12 columns]"
            ]
          },
          "metadata": {},
          "execution_count": 42
        }
      ]
    },
    {
      "cell_type": "code",
      "source": [
        "### simdi sadece vefat edenlerin oldugu bir liste olusturalim\n",
        "\n",
        "vefat.to_csv(\"titanic_vefat.csv\", index = False)"
      ],
      "metadata": {
        "id": "59EIBrb7WfBp"
      },
      "execution_count": null,
      "outputs": []
    },
    {
      "cell_type": "code",
      "source": [
        "## vefat edenlerin kaci erkek kaci bayan oranlarina bakalim\n",
        "\n",
        "df.groupby(\"Sex\")[\"Survived\"].mean()\n",
        "\n",
        "## önce cinsiyete göre gruplandirma yaptik\n",
        "## daha sonra bunlardan hayatta kalanlari cagirdik"
      ],
      "metadata": {
        "colab": {
          "base_uri": "https://localhost:8080/"
        },
        "id": "HSMC8ruZhmyF",
        "outputId": "7bc4c74f-4840-4fee-d1bb-fd063469e31d"
      },
      "execution_count": null,
      "outputs": [
        {
          "output_type": "execute_result",
          "data": {
            "text/plain": [
              "Sex\n",
              "female    0.742038\n",
              "male      0.188908\n",
              "Name: Survived, dtype: float64"
            ]
          },
          "metadata": {},
          "execution_count": 44
        }
      ]
    },
    {
      "cell_type": "code",
      "source": [
        "## hangi yolcu class'indan yüzde kaci hayatta kalmis\n",
        "# kaci ise vefat etmis bunu görelim\n",
        "\n",
        "df.groupby(\"Pclass\")[\"Survived\"].mean()"
      ],
      "metadata": {
        "colab": {
          "base_uri": "https://localhost:8080/"
        },
        "id": "fpjGF2pKhm2g",
        "outputId": "023e0303-cb76-4334-bc66-38024d3b647b"
      },
      "execution_count": null,
      "outputs": [
        {
          "output_type": "execute_result",
          "data": {
            "text/plain": [
              "Pclass\n",
              "1    0.629630\n",
              "2    0.472826\n",
              "3    0.242363\n",
              "Name: Survived, dtype: float64"
            ]
          },
          "metadata": {},
          "execution_count": 45
        }
      ]
    },
    {
      "cell_type": "code",
      "source": [
        "## yolcu class larini veren tablo\n",
        "\n",
        "df.plot(\"Pclass\")"
      ],
      "metadata": {
        "colab": {
          "base_uri": "https://localhost:8080/",
          "height": 297
        },
        "id": "rfwPZ6Z3iePr",
        "outputId": "0da0f196-eee0-4851-b46c-b4d6e89722f6"
      },
      "execution_count": null,
      "outputs": [
        {
          "output_type": "execute_result",
          "data": {
            "text/plain": [
              "<matplotlib.axes._subplots.AxesSubplot at 0x7f1a08635b90>"
            ]
          },
          "metadata": {},
          "execution_count": 46
        },
        {
          "output_type": "display_data",
          "data": {
            "image/png": "[encoded data removed]",
            "text/plain": [
              "<Figure size 432x288 with 1 Axes>"
            ]
          },
          "metadata": {
            "needs_background": "light"
          }
        }
      ]
    },
    {
      "cell_type": "code",
      "source": [
        "df.plot(\"Sex\")"
      ],
      "metadata": {
        "colab": {
          "base_uri": "https://localhost:8080/",
          "height": 297
        },
        "id": "e6wmbf2IieUM",
        "outputId": "2934c916-8e5c-495a-f4f2-6186bc496b81"
      },
      "execution_count": null,
      "outputs": [
        {
          "output_type": "execute_result",
          "data": {
            "text/plain": [
              "<matplotlib.axes._subplots.AxesSubplot at 0x7f1a0724fb50>"
            ]
          },
          "metadata": {},
          "execution_count": 47
        },
        {
          "output_type": "display_data",
          "data": {
            "image/png": "[encoded data removed]",
            "text/plain": [
              "<Figure size 432x288 with 1 Axes>"
            ]
          },
          "metadata": {
            "needs_background": "light"
          }
        }
      ]
    },
    {
      "cell_type": "code",
      "source": [
        ""
      ],
      "metadata": {
        "id": "oMTcFu90ieYo"
      },
      "execution_count": null,
      "outputs": []
    },
    {
      "cell_type": "code",
      "source": [
        "##### SMTP \n",
        "\n",
        "## Simple mail transfer Protocol\n",
        "\n",
        "## bu protocol vasitasi ile python üzerinden \n",
        "## mail gönderebiliyoruz"
      ],
      "metadata": {
        "id": "IZPTLPsdiedF"
      },
      "execution_count": null,
      "outputs": []
    },
    {
      "cell_type": "code",
      "source": [
        "import smtplib\n",
        "\n",
        "server = smtplib.SMTP(\"smtp.gmail.com\", 587)  # gmail bu port u kullanir\n",
        "\n",
        "server.starttls\n",
        "\n",
        "server.login(\"tariksitki0119@gmail.com\", password)\n",
        "\n",
        "message = \"Bu mesaj tarik tan\"\n",
        "password = \"Stc97531.\"\n",
        "server.sendmail(\"tariksitki0119@gmail.com\", \"tariksitki0119@gmail.com\", message)\n",
        "server.quit()"
      ],
      "metadata": {
        "id": "6i8JPA48iehy"
      },
      "execution_count": null,
      "outputs": []
    },
    {
      "cell_type": "code",
      "source": [
        ""
      ],
      "metadata": {
        "id": "IUU2p6vTj1-M"
      },
      "execution_count": null,
      "outputs": []
    },
    {
      "cell_type": "code",
      "source": [
        ""
      ],
      "metadata": {
        "id": "_FRzSOiBj2Dg"
      },
      "execution_count": null,
      "outputs": []
    },
    {
      "cell_type": "code",
      "source": [
        ""
      ],
      "metadata": {
        "id": "YMXy6lYnj2Ig"
      },
      "execution_count": null,
      "outputs": []
    },
    {
      "cell_type": "code",
      "source": [
        ""
      ],
      "metadata": {
        "id": "kULDizPzj2Ms"
      },
      "execution_count": null,
      "outputs": []
    },
    {
      "cell_type": "code",
      "source": [
        ""
      ],
      "metadata": {
        "id": "ogAuxY2Sj2Qm"
      },
      "execution_count": null,
      "outputs": []
    },
    {
      "cell_type": "code",
      "source": [
        ""
      ],
      "metadata": {
        "id": "o5DyDtTqj2Uw"
      },
      "execution_count": null,
      "outputs": []
    },
    {
      "cell_type": "code",
      "source": [
        ""
      ],
      "metadata": {
        "id": "czknJaPqiemv"
      },
      "execution_count": null,
      "outputs": []
    },
    {
      "cell_type": "code",
      "source": [
        ""
      ],
      "metadata": {
        "id": "rKbKAH7qhm7M"
      },
      "execution_count": null,
      "outputs": []
    },
    {
      "cell_type": "code",
      "source": [
        ""
      ],
      "metadata": {
        "id": "6bruXYB4hnA4"
      },
      "execution_count": null,
      "outputs": []
    },
    {
      "cell_type": "code",
      "source": [
        ""
      ],
      "metadata": {
        "id": "uVkhogyHhnF3"
      },
      "execution_count": null,
      "outputs": []
    },
    {
      "cell_type": "code",
      "source": [
        ""
      ],
      "metadata": {
        "id": "rTEK43ephnKP"
      },
      "execution_count": null,
      "outputs": []
    },
    {
      "cell_type": "code",
      "source": [
        ""
      ],
      "metadata": {
        "id": "2nzn94xehnOi"
      },
      "execution_count": null,
      "outputs": []
    },
    {
      "cell_type": "code",
      "source": [
        ""
      ],
      "metadata": {
        "id": "oDnlN6pRhnS6"
      },
      "execution_count": null,
      "outputs": []
    },
    {
      "cell_type": "code",
      "source": [
        ""
      ],
      "metadata": {
        "id": "8fCmy0YxNhIY"
      },
      "execution_count": null,
      "outputs": []
    },
    {
      "cell_type": "code",
      "source": [
        ""
      ],
      "metadata": {
        "id": "bR52teVAsvrF"
      },
      "execution_count": null,
      "outputs": []
    },
    {
      "cell_type": "code",
      "source": [
        ""
      ],
      "metadata": {
        "id": "ywiW7SjusvtL"
      },
      "execution_count": null,
      "outputs": []
    },
    {
      "cell_type": "code",
      "source": [
        "## ders esnasinda:\n"
      ],
      "metadata": {
        "id": "gBFwq0Bsc_qO"
      },
      "execution_count": null,
      "outputs": []
    },
    {
      "cell_type": "code",
      "source": [
        "import os\n",
        "\n",
        "dosya_icerigi = os.listdir()\n",
        "dosya_icerigi\n",
        "\n",
        "# bu komut current directory icerigi yazdirir"
      ],
      "metadata": {
        "colab": {
          "base_uri": "https://localhost:8080/"
        },
        "id": "pQOdkMqPjE-Z",
        "outputId": "d1731c01-5208-433e-83e8-9213c966d5c4"
      },
      "execution_count": null,
      "outputs": [
        {
          "output_type": "execute_result",
          "data": {
            "text/plain": [
              "['.config',\n",
              " 'yazma.txt',\n",
              " 'meyveler.txt',\n",
              " '.ipynb_checkpoints',\n",
              " 'test.py',\n",
              " 'sample_data']"
            ]
          },
          "metadata": {},
          "execution_count": 71
        }
      ]
    },
    {
      "cell_type": "code",
      "source": [
        "import shutil\n",
        "shutil.make_archive(\"tarik\", \"zip\", \"cavit\")  # klasör ziplenir\n",
        "\n"
      ],
      "metadata": {
        "colab": {
          "base_uri": "https://localhost:8080/",
          "height": 36
        },
        "id": "Cy1ewRRhjFAb",
        "outputId": "16b4dc60-afc1-4dab-f74d-7dc1d9b92fb9"
      },
      "execution_count": null,
      "outputs": [
        {
          "output_type": "execute_result",
          "data": {
            "application/vnd.google.colaboratory.intrinsic+json": {
              "type": "string"
            },
            "text/plain": [
              "'/content/tarik.zip'"
            ]
          },
          "metadata": {},
          "execution_count": 8
        }
      ]
    },
    {
      "cell_type": "code",
      "source": [
        ""
      ],
      "metadata": {
        "id": "eZu7BeRqjFCX"
      },
      "execution_count": null,
      "outputs": []
    },
    {
      "cell_type": "code",
      "source": [
        ""
      ],
      "metadata": {
        "id": "hGIyKyO9jFEW"
      },
      "execution_count": null,
      "outputs": []
    },
    {
      "cell_type": "code",
      "source": [
        "\n",
        "##2.  ders esnasi"
      ],
      "metadata": {
        "id": "8SQDRAvmjFGJ"
      },
      "execution_count": null,
      "outputs": []
    },
    {
      "cell_type": "code",
      "source": [
        "file = open(\"fishes.txt\", \"r\", encoding=\"UTF-8\")\n",
        "content = file.read()\n",
        "content\n",
        "file.close()\n"
      ],
      "metadata": {
        "id": "wPXO7IClc1Hq"
      },
      "execution_count": null,
      "outputs": []
    },
    {
      "cell_type": "code",
      "source": [
        "content"
      ],
      "metadata": {
        "colab": {
          "base_uri": "https://localhost:8080/",
          "height": 53
        },
        "id": "0o8p11Udc1Jj",
        "outputId": "4b522650-b4f0-406b-8953-e44908a2f11f"
      },
      "execution_count": null,
      "outputs": [
        {
          "output_type": "execute_result",
          "data": {
            "application/vnd.google.colaboratory.intrinsic+json": {
              "type": "string"
            },
            "text/plain": [
              "'Orca is a kind of Dolphin.\\nBlue Whale is the largest animal known on earth.\\nSharks are the sister group to the Rays (batoids).\\nThe Tuna Fish can weigh up to 260 kg.\\nSquid and Octopus are in the same class.'"
            ]
          },
          "metadata": {},
          "execution_count": 10
        }
      ]
    },
    {
      "cell_type": "code",
      "source": [
        "file = open(\"fishes.txt\", \"r\", encoding=\"UTF-8\")\n",
        "print(file.read(33))\n",
        "print(file.read(33)) ## ikinci print oldugu icin alt satira gecer\n",
        "\n",
        "file.seek(0)   #kurzer basa alinir\n",
        "print(file.read(33))\n",
        "print(file.tell())\n",
        "# \"\\n\" karakteri de yani enter da sayilir"
      ],
      "metadata": {
        "colab": {
          "base_uri": "https://localhost:8080/"
        },
        "id": "NJCgAKcDc1Lh",
        "outputId": "5ba0f4b5-0aeb-4df1-f1c4-d2f39bc98407"
      },
      "execution_count": null,
      "outputs": [
        {
          "output_type": "stream",
          "name": "stdout",
          "text": [
            "Orca is a kind of Dolphin.\n",
            "Blue W\n",
            "hale is the largest animal known \n",
            "Orca is a kind of Dolphin.\n",
            "Blue W\n",
            "34\n"
          ]
        }
      ]
    },
    {
      "cell_type": "code",
      "source": [
        "dosya = open(\"fishes.txt\",\"r\", encoding=\"UTF-8\")\n",
        "text = dosya.read()\n",
        "print(len(text))\n",
        "print(text[:33])"
      ],
      "metadata": {
        "colab": {
          "base_uri": "https://localhost:8080/"
        },
        "id": "BXeV4P-Kc1Nt",
        "outputId": "80167639-784e-4b68-c624-532bfd9e37bd"
      },
      "execution_count": null,
      "outputs": [
        {
          "output_type": "stream",
          "name": "stdout",
          "text": [
            "205\n",
            "Orca is a kind of Dolphin.\n",
            "Blue W\n"
          ]
        }
      ]
    },
    {
      "cell_type": "code",
      "source": [
        "file = open(\"fishes.txt\", \"r\", encoding=\"UTF-8\")\n",
        "print(file.read(33))\n",
        "print(file.read(15)) ## ikinci print oldugu icin alt satira gecer\n",
        "\n",
        "print(file.tell())\n",
        "file.seek(0)  \n",
        "\n",
        "print(file.read(33))\n",
        "print(file.tell())\n",
        "\n",
        "file.close()"
      ],
      "metadata": {
        "colab": {
          "base_uri": "https://localhost:8080/"
        },
        "id": "e4i46uMthf1o",
        "outputId": "11d18344-37c5-4db0-9c6d-01374d8a0ee5"
      },
      "execution_count": null,
      "outputs": [
        {
          "output_type": "stream",
          "name": "stdout",
          "text": [
            "Orca is a kind of Dolphin.\n",
            "Blue W\n",
            "hale is the lar\n",
            "49\n",
            "Orca is a kind of Dolphin.\n",
            "Blue W\n",
            "34\n"
          ]
        }
      ]
    },
    {
      "cell_type": "code",
      "source": [
        "text = open(\"text.txt\", \"r\")\n",
        "print(text.read())"
      ],
      "metadata": {
        "colab": {
          "base_uri": "https://localhost:8080/"
        },
        "id": "QZ6tuaC1hf3y",
        "outputId": "1b45988b-5e28-4bfc-ed91-4e5f9a1d2b90"
      },
      "execution_count": null,
      "outputs": [
        {
          "output_type": "stream",
          "name": "stdout",
          "text": [
            "I want to sing\n",
            "Like the birds sing,\n",
            "Not worrying about\n",
            "Who hears or\n",
            "What they think.\n"
          ]
        }
      ]
    },
    {
      "cell_type": "code",
      "source": [
        "rumi = open(\"text.txt\", \"r\")\n",
        "print(rumi.read(35))\n",
        "print(rumi.read(13))"
      ],
      "metadata": {
        "colab": {
          "base_uri": "https://localhost:8080/"
        },
        "id": "nz_jGInzj3VZ",
        "outputId": "1a362c60-21e9-4a48-ab43-3b7c212e64a8"
      },
      "execution_count": null,
      "outputs": [
        {
          "output_type": "stream",
          "name": "stdout",
          "text": [
            "I want to sing\n",
            "Like the birds sing,\n",
            "\n",
            "Not worrying\n"
          ]
        }
      ]
    },
    {
      "cell_type": "code",
      "source": [
        "rumi = open(\"text.txt\", \"r\")\n",
        "print(rumi.read(35))\n",
        "print(rumi.read(13))\n",
        "print(rumi.tell())\n",
        "\n",
        "rumi.seek(15)\n",
        "print(rumi.read(21))\n",
        "\n",
        "rumi.close()"
      ],
      "metadata": {
        "colab": {
          "base_uri": "https://localhost:8080/"
        },
        "id": "l3sAjjZ8j3Yn",
        "outputId": "4c2244c8-c54d-4ea3-b3e1-a85e71afac80"
      },
      "execution_count": null,
      "outputs": [
        {
          "output_type": "stream",
          "name": "stdout",
          "text": [
            "I want to sing\n",
            "Like the birds sing,\n",
            "\n",
            "Not worrying\n",
            "50\n",
            "\n",
            "Like the birds sing,\n"
          ]
        }
      ]
    },
    {
      "cell_type": "code",
      "source": [
        "rumi = open(\"text.txt\", \"r\")\n",
        "print(rumi.readline(), rumi.readline())\n"
      ],
      "metadata": {
        "colab": {
          "base_uri": "https://localhost:8080/"
        },
        "id": "V_qSdX4nj3b-",
        "outputId": "05ac45a3-6179-42f5-a391-9b6d202fda1a"
      },
      "execution_count": null,
      "outputs": [
        {
          "output_type": "stream",
          "name": "stdout",
          "text": [
            "I want to sing\n",
            " Like the birds sing,\n",
            "\n"
          ]
        }
      ]
    },
    {
      "cell_type": "code",
      "source": [
        "rumi = open(\"text.txt\", \"r\")\n",
        "print(rumi.readline())\n",
        "print(rumi.readline())"
      ],
      "metadata": {
        "colab": {
          "base_uri": "https://localhost:8080/"
        },
        "id": "fCvylzaWj3fk",
        "outputId": "f45630e7-7efb-446a-b6b0-1bf76551fc7b"
      },
      "execution_count": null,
      "outputs": [
        {
          "output_type": "stream",
          "name": "stdout",
          "text": [
            "I want to sing\n",
            "\n",
            "Like the birds sing,\n",
            "\n"
          ]
        }
      ]
    },
    {
      "cell_type": "code",
      "source": [
        "sea = open(\"fishes.txt\", \"r\")\n",
        "\n",
        "print(sea.readline(13))\n",
        "print(sea.readline(13))\n",
        "print(sea.readline(13)) # bu ilk satirin sonunda kalan bosluk karakterini bastirir\n",
        "print(sea.readline(13)) # yani ilk satiri 3 kod da okuttuk"
      ],
      "metadata": {
        "colab": {
          "base_uri": "https://localhost:8080/"
        },
        "id": "FSujxb6fj3h-",
        "outputId": "924d77de-e3f1-4e35-e84f-97a1b90f5839"
      },
      "execution_count": null,
      "outputs": [
        {
          "output_type": "stream",
          "name": "stdout",
          "text": [
            "Orca is a kin\n",
            "d of Dolphin.\n",
            "\n",
            "\n",
            "Blue Whale is\n"
          ]
        }
      ]
    },
    {
      "cell_type": "code",
      "source": [
        "sea = open(\"fishes.txt\", \"r\")\n",
        "\n",
        "part1 = sea.readline(13)\n",
        "part2 = sea.readline(13)\n",
        "part3 = sea.readline(13)\n",
        "part4 = sea.readline(13)"
      ],
      "metadata": {
        "id": "OzWB7NkQj3jk"
      },
      "execution_count": null,
      "outputs": []
    },
    {
      "cell_type": "code",
      "source": [
        "part1"
      ],
      "metadata": {
        "colab": {
          "base_uri": "https://localhost:8080/",
          "height": 36
        },
        "id": "tuzdfLfIj3l5",
        "outputId": "90d3ec28-ac0d-4c23-e33a-5ec756bce830"
      },
      "execution_count": null,
      "outputs": [
        {
          "output_type": "execute_result",
          "data": {
            "application/vnd.google.colaboratory.intrinsic+json": {
              "type": "string"
            },
            "text/plain": [
              "'Orca is a kin'"
            ]
          },
          "metadata": {},
          "execution_count": 35
        }
      ]
    },
    {
      "cell_type": "code",
      "source": [
        "part2"
      ],
      "metadata": {
        "colab": {
          "base_uri": "https://localhost:8080/",
          "height": 36
        },
        "id": "e4dNu_tGj3n9",
        "outputId": "56299101-77d9-4322-d93b-b2eda90261bb"
      },
      "execution_count": null,
      "outputs": [
        {
          "output_type": "execute_result",
          "data": {
            "application/vnd.google.colaboratory.intrinsic+json": {
              "type": "string"
            },
            "text/plain": [
              "'d of Dolphin.'"
            ]
          },
          "metadata": {},
          "execution_count": 36
        }
      ]
    },
    {
      "cell_type": "code",
      "source": [
        "part3  ####  Dikkat "
      ],
      "metadata": {
        "colab": {
          "base_uri": "https://localhost:8080/",
          "height": 36
        },
        "id": "y2tPzlvzhf5t",
        "outputId": "ec33dadc-5625-4983-d4f1-25df1abcfc3a"
      },
      "execution_count": null,
      "outputs": [
        {
          "output_type": "execute_result",
          "data": {
            "application/vnd.google.colaboratory.intrinsic+json": {
              "type": "string"
            },
            "text/plain": [
              "'\\n'"
            ]
          },
          "metadata": {},
          "execution_count": 37
        }
      ]
    },
    {
      "cell_type": "code",
      "source": [
        "print(part3)  "
      ],
      "metadata": {
        "colab": {
          "base_uri": "https://localhost:8080/"
        },
        "id": "VT4f3A7Xt-PH",
        "outputId": "d4528861-e7a1-44a7-808e-130a9a9aad19"
      },
      "execution_count": null,
      "outputs": [
        {
          "output_type": "stream",
          "name": "stdout",
          "text": [
            "\n",
            "\n"
          ]
        }
      ]
    },
    {
      "cell_type": "code",
      "source": [
        "part4"
      ],
      "metadata": {
        "colab": {
          "base_uri": "https://localhost:8080/",
          "height": 36
        },
        "id": "nzLo58Inhf8F",
        "outputId": "1e3148da-6892-4894-ff9e-2606b4991dd7"
      },
      "execution_count": null,
      "outputs": [
        {
          "output_type": "execute_result",
          "data": {
            "application/vnd.google.colaboratory.intrinsic+json": {
              "type": "string"
            },
            "text/plain": [
              "'Blue Whale is'"
            ]
          },
          "metadata": {},
          "execution_count": 38
        }
      ]
    },
    {
      "cell_type": "code",
      "source": [
        "firstline = part1 + part2 + part3\n",
        "firstline"
      ],
      "metadata": {
        "colab": {
          "base_uri": "https://localhost:8080/",
          "height": 36
        },
        "id": "LiRDj9D5hf-C",
        "outputId": "271f7f8b-97c7-484d-f35f-21f7d15d3c87"
      },
      "execution_count": null,
      "outputs": [
        {
          "output_type": "execute_result",
          "data": {
            "application/vnd.google.colaboratory.intrinsic+json": {
              "type": "string"
            },
            "text/plain": [
              "'Orca is a kind of Dolphin.\\n'"
            ]
          },
          "metadata": {},
          "execution_count": 40
        }
      ]
    },
    {
      "cell_type": "code",
      "source": [
        "rumi = open(\"text.txt\", \"r\")\n",
        "print(rumi.readline())\n",
        "print(rumi.readline())\n",
        "print(rumi.readline(1000))  # alt satira gecmiyor\n",
        "                            # readline bulundugu satirda kalir\n",
        "                            # ikinci bir satira gecmek icin yeni bir readline"
      ],
      "metadata": {
        "colab": {
          "base_uri": "https://localhost:8080/"
        },
        "id": "TNATKUlLc1RL",
        "outputId": "ab3294a9-0e55-45e0-ce67-397c1cd525db"
      },
      "execution_count": null,
      "outputs": [
        {
          "output_type": "stream",
          "name": "stdout",
          "text": [
            "I want to sing\n",
            "\n",
            "Like the birds sing,\n",
            "\n",
            "Not worrying about\n",
            "\n"
          ]
        }
      ]
    },
    {
      "cell_type": "code",
      "source": [
        "sea = open(\"fishes.txt\", \"r\")\n",
        "print(sea.readlines())"
      ],
      "metadata": {
        "colab": {
          "base_uri": "https://localhost:8080/"
        },
        "id": "OdMTMXWpupoM",
        "outputId": "5d9aa31c-afbf-449c-cc12-6a3ae029d004"
      },
      "execution_count": null,
      "outputs": [
        {
          "output_type": "stream",
          "name": "stdout",
          "text": [
            "['Orca is a kind of Dolphin.\\n', 'Blue Whale is the largest animal known on earth.\\n', 'Sharks are the sister group to the Rays (batoids).\\n', 'The Tuna Fish can weigh up to 260 kg.\\n', 'Squid and Octopus are in the same class.']\n"
          ]
        }
      ]
    },
    {
      "cell_type": "code",
      "source": [
        "with open(\"fishes.txt\", \"r\") as file:\n",
        "  fish = file.readlines()\n",
        "\n",
        "for i in fish:\n",
        "  print(i)"
      ],
      "metadata": {
        "colab": {
          "base_uri": "https://localhost:8080/"
        },
        "id": "tMNIQGYUuptT",
        "outputId": "9c0c343c-6d3b-4f71-a674-9d333eca2ef4"
      },
      "execution_count": null,
      "outputs": [
        {
          "output_type": "stream",
          "name": "stdout",
          "text": [
            "Orca is a kind of Dolphin.\n",
            "\n",
            "Blue Whale is the largest animal known on earth.\n",
            "\n",
            "Sharks are the sister group to the Rays (batoids).\n",
            "\n",
            "The Tuna Fish can weigh up to 260 kg.\n",
            "\n",
            "Squid and Octopus are in the same class.\n"
          ]
        }
      ]
    },
    {
      "cell_type": "code",
      "source": [
        "with open(\"text.txt\", \"r\") as file:\n",
        "  rumi = file.readlines()\n",
        "rumi\n"
      ],
      "metadata": {
        "colab": {
          "base_uri": "https://localhost:8080/"
        },
        "id": "QNYzfnVTupxx",
        "outputId": "2656372e-9fb1-4770-8236-8adcb547544c"
      },
      "execution_count": null,
      "outputs": [
        {
          "output_type": "execute_result",
          "data": {
            "text/plain": [
              "['I want to sing\\n',\n",
              " 'Like the birds sing,\\n',\n",
              " 'Not worrying about\\n',\n",
              " 'Who hears or\\n',\n",
              " 'What they think.']"
            ]
          },
          "metadata": {},
          "execution_count": 55
        }
      ]
    },
    {
      "cell_type": "code",
      "source": [
        "with open(\"text.txt\", \"r\") as file:\n",
        "  for i in file:\n",
        "    print(i)"
      ],
      "metadata": {
        "colab": {
          "base_uri": "https://localhost:8080/"
        },
        "id": "wo8SZDX0up13",
        "outputId": "c1bfb409-3a4c-4283-b78a-371cd9989332"
      },
      "execution_count": null,
      "outputs": [
        {
          "output_type": "stream",
          "name": "stdout",
          "text": [
            "I want to sing\n",
            "\n",
            "Like the birds sing,\n",
            "\n",
            "Not worrying about\n",
            "\n",
            "Who hears or\n",
            "\n",
            "What they think.\n"
          ]
        }
      ]
    },
    {
      "cell_type": "code",
      "source": [
        ""
      ],
      "metadata": {
        "id": "MeYsNN6S3tw1"
      },
      "execution_count": null,
      "outputs": []
    },
    {
      "cell_type": "code",
      "source": [
        "with open(\"dummy_file.txt\", 'w', encoding=\"utf-8\") as file:  \n",
        "# we create and open the file\n",
        "\n",
        "    file.write('This is the first line of my text file')  \n",
        "    # writes str data into file\n",
        "\n",
        "with open(\"dummy_file.txt\", 'r', encoding=\"utf-8\") as file:\n",
        "    print(file.read())  # reads the content of the 'dummy_file'"
      ],
      "metadata": {
        "colab": {
          "base_uri": "https://localhost:8080/"
        },
        "id": "1FoTFsLwup5h",
        "outputId": "f5d3b62b-f81b-44d9-e0b4-30f7ae124772"
      },
      "execution_count": null,
      "outputs": [
        {
          "output_type": "stream",
          "name": "stdout",
          "text": [
            "This is the first line of my text file\n"
          ]
        }
      ]
    },
    {
      "cell_type": "code",
      "source": [
        "with open(\"dummy_file.txt\", 'w', encoding=\"utf-8\") as file:\n",
        "    file.write('This is the new line for my dummy_file')  \n",
        "    # we write new str data into it \n",
        "\n",
        "with open(\"dummy_file.txt\", 'r', encoding=\"utf-8\") as file:\n",
        "    print(file.read())  # reads the content of the 'dummy_file'"
      ],
      "metadata": {
        "colab": {
          "base_uri": "https://localhost:8080/"
        },
        "id": "vUtEl-hv21Ej",
        "outputId": "33b64080-326e-45f0-9900-78f4e21ce0ea"
      },
      "execution_count": null,
      "outputs": [
        {
          "output_type": "stream",
          "name": "stdout",
          "text": [
            "This is the new line for my dummy_file\n"
          ]
        }
      ]
    },
    {
      "cell_type": "code",
      "source": [
        "with open(\"dummy_file.txt\", 'w', encoding=\"utf-8\") as file:\n",
        "  file.write(\"1\")\n",
        "  file.write(\"2\")\n",
        "  file.write(\"3 \\n\")\n",
        "  file.write(\"4\")\n",
        "  file.write(\"5\")\n",
        "\n",
        "\n",
        "with open(\"dummy_file.txt\", \"r\") as file:\n",
        "  print(file.read())"
      ],
      "metadata": {
        "colab": {
          "base_uri": "https://localhost:8080/"
        },
        "id": "l8L9BnD_21Jy",
        "outputId": "88877987-9cbc-4e5a-ed62-ff66ef1b5537"
      },
      "execution_count": null,
      "outputs": [
        {
          "output_type": "stream",
          "name": "stdout",
          "text": [
            "123 \n",
            "45\n"
          ]
        }
      ]
    },
    {
      "cell_type": "code",
      "source": [
        "fruits = ['Banana', 'Orange', 'Apple', 'Strawberry', 'Cherry']\n",
        "\n",
        "with open(\"fruits.txt\", \"w\") as dosyam:\n",
        "  for i in fruits:\n",
        "    dosyam.write(i + \"\\n\")\n",
        "\n",
        "# with open(\"fruits.txt\", \"r\") as file:\n",
        "#   print(file.read())\n",
        "\n",
        "a = open(\"fruits.txt\", \"r\")\n",
        "print(a.read())"
      ],
      "metadata": {
        "colab": {
          "base_uri": "https://localhost:8080/"
        },
        "id": "DiVRDl6U21OV",
        "outputId": "d6f3c7c0-403a-461a-ef11-306eff30ded8"
      },
      "execution_count": null,
      "outputs": [
        {
          "output_type": "stream",
          "name": "stdout",
          "text": [
            "Banana\n",
            "Orange\n",
            "Apple\n",
            "Strawberry\n",
            "Cherry\n",
            "\n"
          ]
        }
      ]
    },
    {
      "cell_type": "code",
      "source": [
        "with open(\"fruits.txt\", \"r\") as dosyam:\n",
        "  fruits2 = dosyam.readlines()\n",
        "fruits2 "
      ],
      "metadata": {
        "colab": {
          "base_uri": "https://localhost:8080/"
        },
        "id": "ztHtHNu821Rq",
        "outputId": "4249e0c3-1f69-4eb3-e52b-7f920257cf57"
      },
      "execution_count": null,
      "outputs": [
        {
          "output_type": "execute_result",
          "data": {
            "text/plain": [
              "['Banana\\n', 'Orange\\n', 'Apple\\n', 'Strawberry\\n', 'Cherry\\n']"
            ]
          },
          "metadata": {},
          "execution_count": 67
        }
      ]
    },
    {
      "cell_type": "code",
      "source": [
        "fruits = ['Banana', 'Orange', 'Apple', 'Strawberry', 'Cherry']\n",
        "\n",
        "with open(\"fruits2.txt\", \"w\") as ff:\n",
        "  ff.writelines(fruits)\n",
        "\n",
        "with open(\"fruits2.txt\", \"r\") as ff:\n",
        "  print(ff.read())"
      ],
      "metadata": {
        "colab": {
          "base_uri": "https://localhost:8080/"
        },
        "id": "3UYsu2ue21Ug",
        "outputId": "1ac4a69b-a45f-4b3f-851c-7fca85b1aa73"
      },
      "execution_count": null,
      "outputs": [
        {
          "output_type": "stream",
          "name": "stdout",
          "text": [
            "BananaOrangeAppleStrawberryCherry\n"
          ]
        }
      ]
    },
    {
      "cell_type": "code",
      "source": [
        "with open(\"fruits2.txt\", \"a\") as ff:\n",
        "  ff.writelines(fruits)\n",
        "\n",
        "with open(\"fruits2.txt\", \"r\") as ff:\n",
        "  print(ff.read())"
      ],
      "metadata": {
        "colab": {
          "base_uri": "https://localhost:8080/"
        },
        "id": "_-_Ui6O_21Xv",
        "outputId": "faa64790-28fe-44f4-e873-8ae23f8cf711"
      },
      "execution_count": null,
      "outputs": [
        {
          "output_type": "stream",
          "name": "stdout",
          "text": [
            "BananaOrangeAppleStrawberryCherryBananaOrangeAppleStrawberryCherry\n"
          ]
        }
      ]
    },
    {
      "cell_type": "code",
      "source": [
        "fruits3 = fruits2 + [\"lemon\"]\n",
        "fruits3"
      ],
      "metadata": {
        "colab": {
          "base_uri": "https://localhost:8080/"
        },
        "id": "eSiVyqjV21bZ",
        "outputId": "3e7d3035-d68f-4938-80fb-b9381461f5d6"
      },
      "execution_count": null,
      "outputs": [
        {
          "output_type": "execute_result",
          "data": {
            "text/plain": [
              "['Banana\\n', 'Orange\\n', 'Apple\\n', 'Strawberry\\n', 'Cherry\\n', 'lemon']"
            ]
          },
          "metadata": {},
          "execution_count": 81
        }
      ]
    },
    {
      "cell_type": "code",
      "source": [
        "with open(\"fruits2.txt\", \"a\") as ff:\n",
        "  ff.writelines(fruits3)\n",
        "\n",
        "with open(\"fruits2.txt\", \"r\") as ff:\n",
        "  print(ff.read())"
      ],
      "metadata": {
        "colab": {
          "base_uri": "https://localhost:8080/"
        },
        "id": "4XzI30Wx21eF",
        "outputId": "8aed02b3-2f96-40b6-b33d-d624dd3523da"
      },
      "execution_count": null,
      "outputs": [
        {
          "output_type": "stream",
          "name": "stdout",
          "text": [
            "BananaOrangeAppleStrawberryCherryBananaOrangeAppleStrawberryCherryBanana\n",
            "Orange\n",
            "Apple\n",
            "Strawberry\n",
            "Cherry\n",
            "lemon\n"
          ]
        }
      ]
    },
    {
      "cell_type": "code",
      "source": [
        "with open(\"istiklal.txt\", \"r\") as istiklal:\n",
        "  lines = istiklal.readlines()\n",
        "lines                                  ## print yapinca yanyana liste, printsiz alt alta\n",
        "\n"
      ],
      "metadata": {
        "colab": {
          "base_uri": "https://localhost:8080/"
        },
        "id": "BH40HlrCup-E",
        "outputId": "345dca15-a0a6-4a31-8e74-0d7cc783e007"
      },
      "execution_count": null,
      "outputs": [
        {
          "output_type": "execute_result",
          "data": {
            "text/plain": [
              "['Korkma, sönmez bu şafaklarda yüzen al sancak;\\n',\n",
              " 'Sönmeden yurdumun üstünde tüten en son ocak.\\n',\n",
              " 'O benim milletimin yıldızıdır, parlayacak;\\n',\n",
              " 'O benimdir, o benim milletimindir ancak.\\n',\n",
              " 'Çatma, kurban olayım, çehreni ey nazlı hilal!\\n',\n",
              " 'Kahraman ırkıma bir gül! Ne bu şiddet, bu celal?\\n',\n",
              " 'Sana olmaz dökülen kanlarımız sonra helal...\\n',\n",
              " \"Hakkıdır, hakk'a tapan, milletimin istiklal!\\n\",\n",
              " 'Ben ezelden beridir hür yaşadım, hür yaşarım.\\n',\n",
              " 'Hangi çılgın bana zincir vuracakmış? Şaşarım!\\n',\n",
              " 'Kükremiş sel gibiyim, bendimi çiğner, aşarım.\\n',\n",
              " 'Yırtarım dağları, enginlere sığmam, taşarım.\\n',\n",
              " 'Garbın afakını sarmışsa çelik zırhlı duvar,\\n',\n",
              " 'Benim iman dolu göğsüm gibi serhaddim var.\\n',\n",
              " 'Ulusun, korkma! Nasıl böyle bir imanı boğar,\\n',\n",
              " \"'Medeniyet!' dediğin tek dişi kalmış canavar?\\n\",\n",
              " '\\n',\n",
              " 'Arkadaş! Yurduma alçakları uğratma, sakın.\\n',\n",
              " 'Siper et gövdeni, dursun bu hayasızca akın.\\n',\n",
              " \"Doğacaktır sana va'dettigi günler hakk'ın...\\n\",\n",
              " 'Kim bilir, belki yarın, belki yarından da yakın.\\n',\n",
              " \"Bastığın yerleri 'toprak!' diyerek geçme, tanı:\\n\",\n",
              " 'Düşün altında binlerce kefensiz yatanı.\\n',\n",
              " 'Sen şehit oğlusun, incitme, yazıktır, atanı:\\n',\n",
              " 'Verme, dünyaları alsan da, bu cennet vatanı.\\n',\n",
              " 'Kim bu cennet vatanın uğruna olmaz ki feda?\\n',\n",
              " 'Şuheda fışkıracak toprağı sıksan, şuheda!\\n',\n",
              " 'Canı, cananı, bütün varımı alsın da hüda,\\n',\n",
              " 'Etmesin tek vatanımdan beni dünyada cüda.\\n',\n",
              " 'Ruhumun senden, ilahi, şudur ancak emeli:\\n',\n",
              " 'Değmesin mabedimin göğsüne namahrem eli.\\n',\n",
              " 'Bu ezanlar-ki şahadetleri dinin temeli,\\n',\n",
              " 'Ebedi yurdumun üstünde benim inlemeli.']"
            ]
          },
          "metadata": {},
          "execution_count": 12
        }
      ]
    },
    {
      "cell_type": "code",
      "source": [
        "count = 0\n",
        "with open(\"istiklal.txt\", \"w\") as istiklal:\n",
        "  for i in lines:\n",
        "    count += 1\n",
        "    if count % 4 == 0:\n",
        "      istiklal.write(i + \"\\n\")\n",
        "    else:\n",
        "      istiklal.write(i)\n",
        "\n",
        "with open(\"istiklal.txt\", \"r\") as istiklal:\n",
        "  print(istiklal.read())"
      ],
      "metadata": {
        "colab": {
          "base_uri": "https://localhost:8080/"
        },
        "id": "d0UJpvGj8yK2",
        "outputId": "e5d1b540-e6e4-4b68-dcf3-01a1cba3772b"
      },
      "execution_count": null,
      "outputs": [
        {
          "output_type": "stream",
          "name": "stdout",
          "text": [
            "Korkma, sönmez bu şafaklarda yüzen al sancak;\n",
            "Sönmeden yurdumun üstünde tüten en son ocak.\n",
            "O benim milletimin yıldızıdır, parlayacak;\n",
            "O benimdir, o benim milletimindir ancak.\n",
            "\n",
            "Çatma, kurban olayım, çehreni ey nazlı hilal!\n",
            "Kahraman ırkıma bir gül! Ne bu şiddet, bu celal?\n",
            "Sana olmaz dökülen kanlarımız sonra helal...\n",
            "Hakkıdır, hakk'a tapan, milletimin istiklal!\n",
            "\n",
            "Ben ezelden beridir hür yaşadım, hür yaşarım.\n",
            "Hangi çılgın bana zincir vuracakmış? Şaşarım!\n",
            "Kükremiş sel gibiyim, bendimi çiğner, aşarım.\n",
            "Yırtarım dağları, enginlere sığmam, taşarım.\n",
            "\n",
            "Garbın afakını sarmışsa çelik zırhlı duvar,\n",
            "Benim iman dolu göğsüm gibi serhaddim var.\n",
            "Ulusun, korkma! Nasıl böyle bir imanı boğar,\n",
            "'Medeniyet!' dediğin tek dişi kalmış canavar?\n",
            "\n",
            "\n",
            "Arkadaş! Yurduma alçakları uğratma, sakın.\n",
            "Siper et gövdeni, dursun bu hayasızca akın.\n",
            "Doğacaktır sana va'dettigi günler hakk'ın...\n",
            "\n",
            "Kim bilir, belki yarın, belki yarından da yakın.\n",
            "Bastığın yerleri 'toprak!' diyerek geçme, tanı:\n",
            "Düşün altında binlerce kefensiz yatanı.\n",
            "Sen şehit oğlusun, incitme, yazıktır, atanı:\n",
            "\n",
            "Verme, dünyaları alsan da, bu cennet vatanı.\n",
            "Kim bu cennet vatanın uğruna olmaz ki feda?\n",
            "Şuheda fışkıracak toprağı sıksan, şuheda!\n",
            "Canı, cananı, bütün varımı alsın da hüda,\n",
            "\n",
            "Etmesin tek vatanımdan beni dünyada cüda.\n",
            "Ruhumun senden, ilahi, şudur ancak emeli:\n",
            "Değmesin mabedimin göğsüne namahrem eli.\n",
            "Bu ezanlar-ki şahadetleri dinin temeli,\n",
            "\n",
            "Ebedi yurdumun üstünde benim inlemeli.\n"
          ]
        }
      ]
    },
    {
      "cell_type": "code",
      "source": [
        "with open(\"istiklal.txt\") as f:\n",
        "  lines_new = f.readlines()\n",
        "  print(lines_new)"
      ],
      "metadata": {
        "id": "-6zWbv6y8yNP",
        "colab": {
          "base_uri": "https://localhost:8080/"
        },
        "outputId": "b2eb844a-322e-4d13-f240-102c972a2e81"
      },
      "execution_count": null,
      "outputs": [
        {
          "output_type": "stream",
          "name": "stdout",
          "text": [
            "['Korkma, sönmez bu şafaklarda yüzen al sancak;\\n', 'Sönmeden yurdumun üstünde tüten en son ocak.\\n', 'O benim milletimin yıldızıdır, parlayacak;\\n', 'O benimdir, o benim milletimindir ancak.\\n', '\\n', 'Çatma, kurban olayım, çehreni ey nazlı hilal!\\n', 'Kahraman ırkıma bir gül! Ne bu şiddet, bu celal?\\n', 'Sana olmaz dökülen kanlarımız sonra helal...\\n', \"Hakkıdır, hakk'a tapan, milletimin istiklal!\\n\", '\\n', 'Ben ezelden beridir hür yaşadım, hür yaşarım.\\n', 'Hangi çılgın bana zincir vuracakmış? Şaşarım!\\n', 'Kükremiş sel gibiyim, bendimi çiğner, aşarım.\\n', 'Yırtarım dağları, enginlere sığmam, taşarım.\\n', '\\n', 'Garbın afakını sarmışsa çelik zırhlı duvar,\\n', 'Benim iman dolu göğsüm gibi serhaddim var.\\n', 'Ulusun, korkma! Nasıl böyle bir imanı boğar,\\n', \"'Medeniyet!' dediğin tek dişi kalmış canavar?\\n\", '\\n', 'Arkadaş! Yurduma alçakları uğratma, sakın.\\n', 'Siper et gövdeni, dursun bu hayasızca akın.\\n', \"Doğacaktır sana va'dettigi günler hakk'ın...\\n\", '\\n', 'Kim bilir, belki yarın, belki yarından da yakın.\\n', \"Bastığın yerleri 'toprak!' diyerek geçme, tanı:\\n\", 'Düşün altında binlerce kefensiz yatanı.\\n', 'Sen şehit oğlusun, incitme, yazıktır, atanı:\\n', '\\n', 'Verme, dünyaları alsan da, bu cennet vatanı.\\n', 'Kim bu cennet vatanın uğruna olmaz ki feda?\\n', 'Şuheda fışkıracak toprağı sıksan, şuheda!\\n', 'Canı, cananı, bütün varımı alsın da hüda,\\n', '\\n', 'Etmesin tek vatanımdan beni dünyada cüda.\\n', 'Ruhumun senden, ilahi, şudur ancak emeli:\\n', 'Değmesin mabedimin göğsüne namahrem eli.\\n', 'Bu ezanlar-ki şahadetleri dinin temeli,\\n', '\\n', 'Ebedi yurdumun üstünde benim inlemeli.Korkma, sönmez bu şafaklarda yüzen al sancak;\\n', 'Sönmeden yurdumun üstünde tüten en son ocak.\\n', 'O benim milletimin yıldızıdır, parlayacak;\\n', 'O benimdir, o benim milletimindir ancak.\\n', 'Çatma, kurban olayım, çehreni ey nazlı hilal!\\n', 'Kahraman ırkıma bir gül! Ne bu şiddet, bu celal?\\n', 'Sana olmaz dökülen kanlarımız sonra helal...\\n', \"Hakkıdır, hakk'a tapan, milletimin istiklal!\\n\", 'Ben ezelden beridir hür yaşadım, hür yaşarım.\\n', 'Hangi çılgın bana zincir vuracakmış? Şaşarım!\\n', 'Kükremiş sel gibiyim, bendimi çiğner, aşarım.\\n', 'Yırtarım dağları, enginlere sığmam, taşarım.\\n', 'Garbın afakını sarmışsa çelik zırhlı duvar,\\n', 'Benim iman dolu göğsüm gibi serhaddim var.\\n', 'Ulusun, korkma! Nasıl böyle bir imanı boğar,\\n', \"'Medeniyet!' dediğin tek dişi kalmış canavar?\\n\", 'Arkadaş! Yurduma alçakları uğratma, sakın.\\n', 'Siper et gövdeni, dursun bu hayasızca akın.\\n', \"Doğacaktır sana va'dettigi günler hakk'ın...\\n\", 'Kim bilir, belki yarın, belki yarından da yakın.\\n', \"Bastığın yerleri 'toprak!' diyerek geçme, tanı:\\n\", 'Düşün altında binlerce kefensiz yatanı.\\n', 'Sen şehit oğlusun, incitme, yazıktır, atanı:\\n', 'Verme, dünyaları alsan da, bu cennet vatanı.\\n', 'Kim bu cennet vatanın uğruna olmaz ki feda?\\n', 'Şuheda fışkıracak toprağı sıksan, şuheda!\\n', 'Canı, cananı, bütün varımı alsın da hüda,\\n', 'Etmesin tek vatanımdan beni dünyada cüda.\\n', 'Ruhumun senden, ilahi, şudur ancak emeli:\\n', 'Değmesin mabedimin göğsüne namahrem eli.\\n', 'Bu ezanlar-ki şahadetleri dinin temeli,\\n', 'Ebedi yurdumun üstünde benim inlemeli.Korkma, sönmez bu şafaklarda yüzen al sancak;\\n', 'Sönmeden yurdumun üstünde tüten en son ocak.\\n', 'O benim milletimin yıldızıdır, parlayacak;\\n', 'O benimdir, o benim milletimindir ancak.\\n', 'Çatma, kurban olayım, çehreni ey nazlı hilal!\\n', 'Kahraman ırkıma bir gül! Ne bu şiddet, bu celal?\\n', 'Sana olmaz dökülen kanlarımız sonra helal...\\n', \"Hakkıdır, hakk'a tapan, milletimin istiklal!\\n\", 'Ben ezelden beridir hür yaşadım, hür yaşarım.\\n', 'Hangi çılgın bana zincir vuracakmış? Şaşarım!\\n', 'Kükremiş sel gibiyim, bendimi çiğner, aşarım.\\n', 'Yırtarım dağları, enginlere sığmam, taşarım.\\n', 'Garbın afakını sarmışsa çelik zırhlı duvar,\\n', 'Benim iman dolu göğsüm gibi serhaddim var.\\n', 'Ulusun, korkma! Nasıl böyle bir imanı boğar,\\n', \"'Medeniyet!' dediğin tek dişi kalmış canavar?\\n\", 'Arkadaş! Yurduma alçakları uğratma, sakın.\\n', 'Siper et gövdeni, dursun bu hayasızca akın.\\n', \"Doğacaktır sana va'dettigi günler hakk'ın...\\n\", 'Kim bilir, belki yarın, belki yarından da yakın.\\n', \"Bastığın yerleri 'toprak!' diyerek geçme, tanı:\\n\", 'Düşün altında binlerce kefensiz yatanı.\\n', 'Sen şehit oğlusun, incitme, yazıktır, atanı:\\n', 'Verme, dünyaları alsan da, bu cennet vatanı.\\n', 'Kim bu cennet vatanın uğruna olmaz ki feda?\\n', 'Şuheda fışkıracak toprağı sıksan, şuheda!\\n', 'Canı, cananı, bütün varımı alsın da hüda,\\n', 'Etmesin tek vatanımdan beni dünyada cüda.\\n', 'Ruhumun senden, ilahi, şudur ancak emeli:\\n', 'Değmesin mabedimin göğsüne namahrem eli.\\n', 'Bu ezanlar-ki şahadetleri dinin temeli,\\n', 'Ebedi yurdumun üstünde benim inlemeli.Korkma, sönmez bu şafaklarda yüzen al sancak;\\n', 'Sönmeden yurdumun üstünde tüten en son ocak.\\n', 'O benim milletimin yıldızıdır, parlayacak;\\n', 'O benimdir, o benim milletimindir ancak.\\n', 'Çatma, kurban olayım, çehreni ey nazlı hilal!\\n', 'Kahraman ırkıma bir gül! Ne bu şiddet, bu celal?\\n', 'Sana olmaz dökülen kanlarımız sonra helal...\\n', \"Hakkıdır, hakk'a tapan, milletimin istiklal!\\n\", 'Ben ezelden beridir hür yaşadım, hür yaşarım.\\n', 'Hangi çılgın bana zincir vuracakmış? Şaşarım!\\n', 'Kükremiş sel gibiyim, bendimi çiğner, aşarım.\\n', 'Yırtarım dağları, enginlere sığmam, taşarım.\\n', 'Garbın afakını sarmışsa çelik zırhlı duvar,\\n', 'Benim iman dolu göğsüm gibi serhaddim var.\\n', 'Ulusun, korkma! Nasıl böyle bir imanı boğar,\\n', \"'Medeniyet!' dediğin tek dişi kalmış canavar?\\n\", 'Arkadaş! Yurduma alçakları uğratma, sakın.\\n', 'Siper et gövdeni, dursun bu hayasızca akın.\\n', \"Doğacaktır sana va'dettigi günler hakk'ın...\\n\", 'Kim bilir, belki yarın, belki yarından da yakın.\\n', \"Bastığın yerleri 'toprak!' diyerek geçme, tanı:\\n\", 'Düşün altında binlerce kefensiz yatanı.\\n', 'Sen şehit oğlusun, incitme, yazıktır, atanı:\\n', 'Verme, dünyaları alsan da, bu cennet vatanı.\\n', 'Kim bu cennet vatanın uğruna olmaz ki feda?\\n', 'Şuheda fışkıracak toprağı sıksan, şuheda!\\n', 'Canı, cananı, bütün varımı alsın da hüda,\\n', 'Etmesin tek vatanımdan beni dünyada cüda.\\n', 'Ruhumun senden, ilahi, şudur ancak emeli:\\n', 'Değmesin mabedimin göğsüne namahrem eli.\\n', 'Bu ezanlar-ki şahadetleri dinin temeli,\\n', 'Ebedi yurdumun üstünde benim inlemeli.']\n"
          ]
        }
      ]
    },
    {
      "cell_type": "code",
      "source": [
        "with open(\"istiklal.txt\", \"a\") as f:\n",
        "  for i in lines_new:\n",
        "    if i == \"\\n\":\n",
        "      pass\n",
        "    else:\n",
        "      f.write(i)\n",
        "\n",
        "with open(\"istiklal.txt\", \"r\") as file:\n",
        "  print(file.read())"
      ],
      "metadata": {
        "id": "a4elWPtJ8yPs",
        "colab": {
          "base_uri": "https://localhost:8080/"
        },
        "outputId": "64aaab71-03aa-4a10-9491-673a0458d6c7"
      },
      "execution_count": null,
      "outputs": [
        {
          "output_type": "stream",
          "name": "stdout",
          "text": [
            "Korkma, sönmez bu şafaklarda yüzen al sancak;\n",
            "Sönmeden yurdumun üstünde tüten en son ocak.\n",
            "O benim milletimin yıldızıdır, parlayacak;\n",
            "O benimdir, o benim milletimindir ancak.\n",
            "\n",
            "Çatma, kurban olayım, çehreni ey nazlı hilal!\n",
            "Kahraman ırkıma bir gül! Ne bu şiddet, bu celal?\n",
            "Sana olmaz dökülen kanlarımız sonra helal...\n",
            "Hakkıdır, hakk'a tapan, milletimin istiklal!\n",
            "\n",
            "Ben ezelden beridir hür yaşadım, hür yaşarım.\n",
            "Hangi çılgın bana zincir vuracakmış? Şaşarım!\n",
            "Kükremiş sel gibiyim, bendimi çiğner, aşarım.\n",
            "Yırtarım dağları, enginlere sığmam, taşarım.\n",
            "\n",
            "Garbın afakını sarmışsa çelik zırhlı duvar,\n",
            "Benim iman dolu göğsüm gibi serhaddim var.\n",
            "Ulusun, korkma! Nasıl böyle bir imanı boğar,\n",
            "'Medeniyet!' dediğin tek dişi kalmış canavar?\n",
            "\n",
            "Arkadaş! Yurduma alçakları uğratma, sakın.\n",
            "Siper et gövdeni, dursun bu hayasızca akın.\n",
            "Doğacaktır sana va'dettigi günler hakk'ın...\n",
            "\n",
            "Kim bilir, belki yarın, belki yarından da yakın.\n",
            "Bastığın yerleri 'toprak!' diyerek geçme, tanı:\n",
            "Düşün altında binlerce kefensiz yatanı.\n",
            "Sen şehit oğlusun, incitme, yazıktır, atanı:\n",
            "\n",
            "Verme, dünyaları alsan da, bu cennet vatanı.\n",
            "Kim bu cennet vatanın uğruna olmaz ki feda?\n",
            "Şuheda fışkıracak toprağı sıksan, şuheda!\n",
            "Canı, cananı, bütün varımı alsın da hüda,\n",
            "\n",
            "Etmesin tek vatanımdan beni dünyada cüda.\n",
            "Ruhumun senden, ilahi, şudur ancak emeli:\n",
            "Değmesin mabedimin göğsüne namahrem eli.\n",
            "Bu ezanlar-ki şahadetleri dinin temeli,\n",
            "\n",
            "Ebedi yurdumun üstünde benim inlemeli.Korkma, sönmez bu şafaklarda yüzen al sancak;\n",
            "Sönmeden yurdumun üstünde tüten en son ocak.\n",
            "O benim milletimin yıldızıdır, parlayacak;\n",
            "O benimdir, o benim milletimindir ancak.\n",
            "Çatma, kurban olayım, çehreni ey nazlı hilal!\n",
            "Kahraman ırkıma bir gül! Ne bu şiddet, bu celal?\n",
            "Sana olmaz dökülen kanlarımız sonra helal...\n",
            "Hakkıdır, hakk'a tapan, milletimin istiklal!\n",
            "Ben ezelden beridir hür yaşadım, hür yaşarım.\n",
            "Hangi çılgın bana zincir vuracakmış? Şaşarım!\n",
            "Kükremiş sel gibiyim, bendimi çiğner, aşarım.\n",
            "Yırtarım dağları, enginlere sığmam, taşarım.\n",
            "Garbın afakını sarmışsa çelik zırhlı duvar,\n",
            "Benim iman dolu göğsüm gibi serhaddim var.\n",
            "Ulusun, korkma! Nasıl böyle bir imanı boğar,\n",
            "'Medeniyet!' dediğin tek dişi kalmış canavar?\n",
            "Arkadaş! Yurduma alçakları uğratma, sakın.\n",
            "Siper et gövdeni, dursun bu hayasızca akın.\n",
            "Doğacaktır sana va'dettigi günler hakk'ın...\n",
            "Kim bilir, belki yarın, belki yarından da yakın.\n",
            "Bastığın yerleri 'toprak!' diyerek geçme, tanı:\n",
            "Düşün altında binlerce kefensiz yatanı.\n",
            "Sen şehit oğlusun, incitme, yazıktır, atanı:\n",
            "Verme, dünyaları alsan da, bu cennet vatanı.\n",
            "Kim bu cennet vatanın uğruna olmaz ki feda?\n",
            "Şuheda fışkıracak toprağı sıksan, şuheda!\n",
            "Canı, cananı, bütün varımı alsın da hüda,\n",
            "Etmesin tek vatanımdan beni dünyada cüda.\n",
            "Ruhumun senden, ilahi, şudur ancak emeli:\n",
            "Değmesin mabedimin göğsüne namahrem eli.\n",
            "Bu ezanlar-ki şahadetleri dinin temeli,\n",
            "Ebedi yurdumun üstünde benim inlemeli.Korkma, sönmez bu şafaklarda yüzen al sancak;\n",
            "Sönmeden yurdumun üstünde tüten en son ocak.\n",
            "O benim milletimin yıldızıdır, parlayacak;\n",
            "O benimdir, o benim milletimindir ancak.\n",
            "Çatma, kurban olayım, çehreni ey nazlı hilal!\n",
            "Kahraman ırkıma bir gül! Ne bu şiddet, bu celal?\n",
            "Sana olmaz dökülen kanlarımız sonra helal...\n",
            "Hakkıdır, hakk'a tapan, milletimin istiklal!\n",
            "Ben ezelden beridir hür yaşadım, hür yaşarım.\n",
            "Hangi çılgın bana zincir vuracakmış? Şaşarım!\n",
            "Kükremiş sel gibiyim, bendimi çiğner, aşarım.\n",
            "Yırtarım dağları, enginlere sığmam, taşarım.\n",
            "Garbın afakını sarmışsa çelik zırhlı duvar,\n",
            "Benim iman dolu göğsüm gibi serhaddim var.\n",
            "Ulusun, korkma! Nasıl böyle bir imanı boğar,\n",
            "'Medeniyet!' dediğin tek dişi kalmış canavar?\n",
            "Arkadaş! Yurduma alçakları uğratma, sakın.\n",
            "Siper et gövdeni, dursun bu hayasızca akın.\n",
            "Doğacaktır sana va'dettigi günler hakk'ın...\n",
            "Kim bilir, belki yarın, belki yarından da yakın.\n",
            "Bastığın yerleri 'toprak!' diyerek geçme, tanı:\n",
            "Düşün altında binlerce kefensiz yatanı.\n",
            "Sen şehit oğlusun, incitme, yazıktır, atanı:\n",
            "Verme, dünyaları alsan da, bu cennet vatanı.\n",
            "Kim bu cennet vatanın uğruna olmaz ki feda?\n",
            "Şuheda fışkıracak toprağı sıksan, şuheda!\n",
            "Canı, cananı, bütün varımı alsın da hüda,\n",
            "Etmesin tek vatanımdan beni dünyada cüda.\n",
            "Ruhumun senden, ilahi, şudur ancak emeli:\n",
            "Değmesin mabedimin göğsüne namahrem eli.\n",
            "Bu ezanlar-ki şahadetleri dinin temeli,\n",
            "Ebedi yurdumun üstünde benim inlemeli.Korkma, sönmez bu şafaklarda yüzen al sancak;\n",
            "Sönmeden yurdumun üstünde tüten en son ocak.\n",
            "O benim milletimin yıldızıdır, parlayacak;\n",
            "O benimdir, o benim milletimindir ancak.\n",
            "Çatma, kurban olayım, çehreni ey nazlı hilal!\n",
            "Kahraman ırkıma bir gül! Ne bu şiddet, bu celal?\n",
            "Sana olmaz dökülen kanlarımız sonra helal...\n",
            "Hakkıdır, hakk'a tapan, milletimin istiklal!\n",
            "Ben ezelden beridir hür yaşadım, hür yaşarım.\n",
            "Hangi çılgın bana zincir vuracakmış? Şaşarım!\n",
            "Kükremiş sel gibiyim, bendimi çiğner, aşarım.\n",
            "Yırtarım dağları, enginlere sığmam, taşarım.\n",
            "Garbın afakını sarmışsa çelik zırhlı duvar,\n",
            "Benim iman dolu göğsüm gibi serhaddim var.\n",
            "Ulusun, korkma! Nasıl böyle bir imanı boğar,\n",
            "'Medeniyet!' dediğin tek dişi kalmış canavar?\n",
            "Arkadaş! Yurduma alçakları uğratma, sakın.\n",
            "Siper et gövdeni, dursun bu hayasızca akın.\n",
            "Doğacaktır sana va'dettigi günler hakk'ın...\n",
            "Kim bilir, belki yarın, belki yarından da yakın.\n",
            "Bastığın yerleri 'toprak!' diyerek geçme, tanı:\n",
            "Düşün altında binlerce kefensiz yatanı.\n",
            "Sen şehit oğlusun, incitme, yazıktır, atanı:\n",
            "Verme, dünyaları alsan da, bu cennet vatanı.\n",
            "Kim bu cennet vatanın uğruna olmaz ki feda?\n",
            "Şuheda fışkıracak toprağı sıksan, şuheda!\n",
            "Canı, cananı, bütün varımı alsın da hüda,\n",
            "Etmesin tek vatanımdan beni dünyada cüda.\n",
            "Ruhumun senden, ilahi, şudur ancak emeli:\n",
            "Değmesin mabedimin göğsüne namahrem eli.\n",
            "Bu ezanlar-ki şahadetleri dinin temeli,\n",
            "Ebedi yurdumun üstünde benim inlemeli.\n"
          ]
        }
      ]
    },
    {
      "cell_type": "code",
      "source": [
        "with open(\"fruits.csv\") as file:\n",
        "  print(file.read())"
      ],
      "metadata": {
        "id": "EmkYf8b-8yT5",
        "colab": {
          "base_uri": "https://localhost:8080/"
        },
        "outputId": "a3129024-3222-4c3b-884e-7f149c8e1363"
      },
      "execution_count": null,
      "outputs": [
        {
          "output_type": "stream",
          "name": "stdout",
          "text": [
            "no,fruit,amount\n",
            "1,Banana,4 lb\n",
            "2,Orange,5 lb\n",
            "3,Apple,2 lb\n",
            "4,Strawberry,6 lb\n",
            "5,Cherry,3 lb\n"
          ]
        }
      ]
    },
    {
      "cell_type": "code",
      "source": [
        "with open(\"test.csv\") as f:\n",
        "  print(f.read())"
      ],
      "metadata": {
        "id": "LE1l8_Hd8yWu",
        "colab": {
          "base_uri": "https://localhost:8080/"
        },
        "outputId": "20bca821-2f19-4dca-c72a-4270518ab34b"
      },
      "execution_count": null,
      "outputs": [
        {
          "output_type": "stream",
          "name": "stdout",
          "text": [
            "row num,first name,last name,ages\n",
            "1,isabella,bold,22\n",
            "2,lara,bold,12\n",
            "3,solomon,bold,46\n",
            "4,adam,smithson,40\n",
            "5,mose,smithson,51\n"
          ]
        }
      ]
    },
    {
      "cell_type": "code",
      "source": [
        "import csv\n",
        "\n",
        "with open(\"fruits.csv\", \"r\", newline=\"\") as file:\n",
        "  rows = csv.reader(file)\n",
        "  for i in rows:\n",
        "    print(i)"
      ],
      "metadata": {
        "id": "-XWcFc2PuqBx",
        "colab": {
          "base_uri": "https://localhost:8080/"
        },
        "outputId": "bd20d05b-dceb-42d7-8038-71d131ec6384"
      },
      "execution_count": null,
      "outputs": [
        {
          "output_type": "stream",
          "name": "stdout",
          "text": [
            "['no', 'fruit', 'amount']\n",
            "['1', 'Banana', '4 lb']\n",
            "['2', 'Orange', '5 lb']\n",
            "['3', 'Apple', '2 lb']\n",
            "['4', 'Strawberry', '6 lb']\n",
            "['5', 'Cherry', '3 lb']\n"
          ]
        }
      ]
    },
    {
      "cell_type": "code",
      "source": [
        "#######  delimiter\n",
        "\n",
        "import csv\n",
        "\n",
        "with open(\"fruits.csv\", \"r\", newline=\"\") as file:\n",
        "  rows = csv.reader(file, delimiter = \":\")\n",
        "  for i in rows:\n",
        "    print(i)"
      ],
      "metadata": {
        "colab": {
          "base_uri": "https://localhost:8080/"
        },
        "id": "19L9CYGBInYC",
        "outputId": "48eef02d-cafa-4391-840a-139bdb901a69"
      },
      "execution_count": null,
      "outputs": [
        {
          "output_type": "stream",
          "name": "stdout",
          "text": [
            "['no,fruit,amount']\n",
            "['1,Banana,4 lb']\n",
            "['2,Orange,5 lb']\n",
            "['3,Apple,2 lb']\n",
            "['4,Strawberry,6 lb']\n",
            "['5,Cherry,3 lb']\n"
          ]
        }
      ]
    },
    {
      "cell_type": "code",
      "source": [
        "import pandas as pd # pandas olmasaydi pip install pandas\n",
        "\n",
        "df = pd.read_csv(\"titanic.csv\")  #dataframe kisaltmsi\n",
        "df"
      ],
      "metadata": {
        "colab": {
          "base_uri": "https://localhost:8080/",
          "height": 956
        },
        "id": "Ja28SCRlInbY",
        "outputId": "b9f3a55c-58a5-49b9-812f-dcb799b0166c"
      },
      "execution_count": null,
      "outputs": [
        {
          "output_type": "execute_result",
          "data": {
            "text/html": [
              "\n",
              "  <div id=\"df-ed44b5ff-95c7-4b51-a018-baead9014d6d\">\n",
              "    <div class=\"colab-df-container\">\n",
              "      <div>\n",
              "<style scoped>\n",
              "    .dataframe tbody tr th:only-of-type {\n",
              "        vertical-align: middle;\n",
              "    }\n",
              "\n",
              "    .dataframe tbody tr th {\n",
              "        vertical-align: top;\n",
              "    }\n",
              "\n",
              "    .dataframe thead th {\n",
              "        text-align: right;\n",
              "    }\n",
              "</style>\n",
              "<table border=\"1\" class=\"dataframe\">\n",
              "  <thead>\n",
              "    <tr style=\"text-align: right;\">\n",
              "      <th></th>\n",
              "      <th>PassengerId</th>\n",
              "      <th>Survived</th>\n",
              "      <th>Pclass</th>\n",
              "      <th>Name</th>\n",
              "      <th>Sex</th>\n",
              "      <th>Age</th>\n",
              "      <th>SibSp</th>\n",
              "      <th>Parch</th>\n",
              "      <th>Ticket</th>\n",
              "      <th>Fare</th>\n",
              "      <th>Cabin</th>\n",
              "      <th>Embarked</th>\n",
              "    </tr>\n",
              "  </thead>\n",
              "  <tbody>\n",
              "    <tr>\n",
              "      <th>0</th>\n",
              "      <td>1</td>\n",
              "      <td>0</td>\n",
              "      <td>3</td>\n",
              "      <td>Braund, Mr. Owen Harris</td>\n",
              "      <td>male</td>\n",
              "      <td>22.0</td>\n",
              "      <td>1.0</td>\n",
              "      <td>0.0</td>\n",
              "      <td>A/5 21171</td>\n",
              "      <td>7.2500</td>\n",
              "      <td>NaN</td>\n",
              "      <td>S</td>\n",
              "    </tr>\n",
              "    <tr>\n",
              "      <th>1</th>\n",
              "      <td>2</td>\n",
              "      <td>1</td>\n",
              "      <td>1</td>\n",
              "      <td>Cumings, Mrs. John Bradley (Florence Briggs Th...</td>\n",
              "      <td>female</td>\n",
              "      <td>38.0</td>\n",
              "      <td>1.0</td>\n",
              "      <td>0.0</td>\n",
              "      <td>PC 17599</td>\n",
              "      <td>71.2833</td>\n",
              "      <td>C85</td>\n",
              "      <td>C</td>\n",
              "    </tr>\n",
              "    <tr>\n",
              "      <th>2</th>\n",
              "      <td>3</td>\n",
              "      <td>1</td>\n",
              "      <td>3</td>\n",
              "      <td>Heikkinen, Miss. Laina</td>\n",
              "      <td>female</td>\n",
              "      <td>26.0</td>\n",
              "      <td>0.0</td>\n",
              "      <td>0.0</td>\n",
              "      <td>STON/O2. 3101282</td>\n",
              "      <td>7.9250</td>\n",
              "      <td>NaN</td>\n",
              "      <td>S</td>\n",
              "    </tr>\n",
              "    <tr>\n",
              "      <th>3</th>\n",
              "      <td>4</td>\n",
              "      <td>1</td>\n",
              "      <td>1</td>\n",
              "      <td>Futrelle, Mrs. Jacques Heath (Lily May Peel)</td>\n",
              "      <td>female</td>\n",
              "      <td>35.0</td>\n",
              "      <td>1.0</td>\n",
              "      <td>0.0</td>\n",
              "      <td>113803</td>\n",
              "      <td>53.1000</td>\n",
              "      <td>C123</td>\n",
              "      <td>S</td>\n",
              "    </tr>\n",
              "    <tr>\n",
              "      <th>4</th>\n",
              "      <td>5</td>\n",
              "      <td>0</td>\n",
              "      <td>3</td>\n",
              "      <td>Allen, Mr. William Henry</td>\n",
              "      <td>male</td>\n",
              "      <td>35.0</td>\n",
              "      <td>0.0</td>\n",
              "      <td>0.0</td>\n",
              "      <td>373450</td>\n",
              "      <td>8.0500</td>\n",
              "      <td>NaN</td>\n",
              "      <td>S</td>\n",
              "    </tr>\n",
              "    <tr>\n",
              "      <th>...</th>\n",
              "      <td>...</td>\n",
              "      <td>...</td>\n",
              "      <td>...</td>\n",
              "      <td>...</td>\n",
              "      <td>...</td>\n",
              "      <td>...</td>\n",
              "      <td>...</td>\n",
              "      <td>...</td>\n",
              "      <td>...</td>\n",
              "      <td>...</td>\n",
              "      <td>...</td>\n",
              "      <td>...</td>\n",
              "    </tr>\n",
              "    <tr>\n",
              "      <th>157</th>\n",
              "      <td>158</td>\n",
              "      <td>0</td>\n",
              "      <td>3</td>\n",
              "      <td>Corn, Mr. Harry</td>\n",
              "      <td>male</td>\n",
              "      <td>30.0</td>\n",
              "      <td>0.0</td>\n",
              "      <td>0.0</td>\n",
              "      <td>SOTON/OQ 392090</td>\n",
              "      <td>8.0500</td>\n",
              "      <td>NaN</td>\n",
              "      <td>S</td>\n",
              "    </tr>\n",
              "    <tr>\n",
              "      <th>158</th>\n",
              "      <td>159</td>\n",
              "      <td>0</td>\n",
              "      <td>3</td>\n",
              "      <td>Smiljanic, Mr. Mile</td>\n",
              "      <td>male</td>\n",
              "      <td>NaN</td>\n",
              "      <td>0.0</td>\n",
              "      <td>0.0</td>\n",
              "      <td>315037</td>\n",
              "      <td>8.6625</td>\n",
              "      <td>NaN</td>\n",
              "      <td>S</td>\n",
              "    </tr>\n",
              "    <tr>\n",
              "      <th>159</th>\n",
              "      <td>160</td>\n",
              "      <td>0</td>\n",
              "      <td>3</td>\n",
              "      <td>Sage, Master. Thomas Henry</td>\n",
              "      <td>male</td>\n",
              "      <td>NaN</td>\n",
              "      <td>8.0</td>\n",
              "      <td>2.0</td>\n",
              "      <td>CA. 2343</td>\n",
              "      <td>69.5500</td>\n",
              "      <td>NaN</td>\n",
              "      <td>S</td>\n",
              "    </tr>\n",
              "    <tr>\n",
              "      <th>160</th>\n",
              "      <td>161</td>\n",
              "      <td>0</td>\n",
              "      <td>3</td>\n",
              "      <td>Cribb, Mr. John Hatfield</td>\n",
              "      <td>male</td>\n",
              "      <td>44.0</td>\n",
              "      <td>0.0</td>\n",
              "      <td>1.0</td>\n",
              "      <td>371362</td>\n",
              "      <td>16.1000</td>\n",
              "      <td>NaN</td>\n",
              "      <td>S</td>\n",
              "    </tr>\n",
              "    <tr>\n",
              "      <th>161</th>\n",
              "      <td>162</td>\n",
              "      <td>1</td>\n",
              "      <td>2</td>\n",
              "      <td>Watt, Mrs. James (Elizabeth \"Bessie\" Inglis Mi...</td>\n",
              "      <td>femal...</td>\n",
              "      <td>NaN</td>\n",
              "      <td>NaN</td>\n",
              "      <td>NaN</td>\n",
              "      <td>NaN</td>\n",
              "      <td>NaN</td>\n",
              "      <td>NaN</td>\n",
              "      <td>NaN</td>\n",
              "    </tr>\n",
              "  </tbody>\n",
              "</table>\n",
              "<p>162 rows × 12 columns</p>\n",
              "</div>\n",
              "      <button class=\"colab-df-convert\" onclick=\"convertToInteractive('df-ed44b5ff-95c7-4b51-a018-baead9014d6d')\"\n",
              "              title=\"Convert this dataframe to an interactive table.\"\n",
              "              style=\"display:none;\">\n",
              "        \n",
              "  <svg xmlns=\"http://www.w3.org/2000/svg\" height=\"24px\"viewBox=\"0 0 24 24\"\n",
              "       width=\"24px\">\n",
              "    <path d=\"M0 0h24v24H0V0z\" fill=\"none\"/>\n",
              "    <path d=\"M18.56 5.44l.94 2.06.94-2.06 2.06-.94-2.06-.94-.94-2.06-.94 2.06-2.06.94zm-11 1L8.5 8.5l.94-2.06 2.06-.94-2.06-.94L8.5 2.5l-.94 2.06-2.06.94zm10 10l.94 2.06.94-2.06 2.06-.94-2.06-.94-.94-2.06-.94 2.06-2.06.94z\"/><path d=\"M17.41 7.96l-1.37-1.37c-.4-.4-.92-.59-1.43-.59-.52 0-1.04.2-1.43.59L10.3 9.45l-7.72 7.72c-.78.78-.78 2.05 0 2.83L4 21.41c.39.39.9.59 1.41.59.51 0 1.02-.2 1.41-.59l7.78-7.78 2.81-2.81c.8-.78.8-2.07 0-2.86zM5.41 20L4 18.59l7.72-7.72 1.47 1.35L5.41 20z\"/>\n",
              "  </svg>\n",
              "      </button>\n",
              "      \n",
              "  <style>\n",
              "    .colab-df-container {\n",
              "      display:flex;\n",
              "      flex-wrap:wrap;\n",
              "      gap: 12px;\n",
              "    }\n",
              "\n",
              "    .colab-df-convert {\n",
              "      background-color: #E8F0FE;\n",
              "      border: none;\n",
              "      border-radius: 50%;\n",
              "      cursor: pointer;\n",
              "      display: none;\n",
              "      fill: #1967D2;\n",
              "      height: 32px;\n",
              "      padding: 0 0 0 0;\n",
              "      width: 32px;\n",
              "    }\n",
              "\n",
              "    .colab-df-convert:hover {\n",
              "      background-color: #E2EBFA;\n",
              "      box-shadow: 0px 1px 2px rgba(60, 64, 67, 0.3), 0px 1px 3px 1px rgba(60, 64, 67, 0.15);\n",
              "      fill: #174EA6;\n",
              "    }\n",
              "\n",
              "    [theme=dark] .colab-df-convert {\n",
              "      background-color: #3B4455;\n",
              "      fill: #D2E3FC;\n",
              "    }\n",
              "\n",
              "    [theme=dark] .colab-df-convert:hover {\n",
              "      background-color: #434B5C;\n",
              "      box-shadow: 0px 1px 3px 1px rgba(0, 0, 0, 0.15);\n",
              "      filter: drop-shadow(0px 1px 2px rgba(0, 0, 0, 0.3));\n",
              "      fill: #FFFFFF;\n",
              "    }\n",
              "  </style>\n",
              "\n",
              "      <script>\n",
              "        const buttonEl =\n",
              "          document.querySelector('#df-ed44b5ff-95c7-4b51-a018-baead9014d6d button.colab-df-convert');\n",
              "        buttonEl.style.display =\n",
              "          google.colab.kernel.accessAllowed ? 'block' : 'none';\n",
              "\n",
              "        async function convertToInteractive(key) {\n",
              "          const element = document.querySelector('#df-ed44b5ff-95c7-4b51-a018-baead9014d6d');\n",
              "          const dataTable =\n",
              "            await google.colab.kernel.invokeFunction('convertToInteractive',\n",
              "                                                     [key], {});\n",
              "          if (!dataTable) return;\n",
              "\n",
              "          const docLinkHtml = 'Like what you see? Visit the ' +\n",
              "            '<a target=\"_blank\" href=https://colab.research.google.com/notebooks/data_table.ipynb>data table notebook</a>'\n",
              "            + ' to learn more about interactive tables.';\n",
              "          element.innerHTML = '';\n",
              "          dataTable['output_type'] = 'display_data';\n",
              "          await google.colab.output.renderOutput(dataTable, element);\n",
              "          const docLink = document.createElement('div');\n",
              "          docLink.innerHTML = docLinkHtml;\n",
              "          element.appendChild(docLink);\n",
              "        }\n",
              "      </script>\n",
              "    </div>\n",
              "  </div>\n",
              "  "
            ],
            "text/plain": [
              "     PassengerId  Survived  Pclass  ...     Fare Cabin  Embarked\n",
              "0              1         0       3  ...   7.2500   NaN         S\n",
              "1              2         1       1  ...  71.2833   C85         C\n",
              "2              3         1       3  ...   7.9250   NaN         S\n",
              "3              4         1       1  ...  53.1000  C123         S\n",
              "4              5         0       3  ...   8.0500   NaN         S\n",
              "..           ...       ...     ...  ...      ...   ...       ...\n",
              "157          158         0       3  ...   8.0500   NaN         S\n",
              "158          159         0       3  ...   8.6625   NaN         S\n",
              "159          160         0       3  ...  69.5500   NaN         S\n",
              "160          161         0       3  ...  16.1000   NaN         S\n",
              "161          162         1       2  ...      NaN   NaN       NaN\n",
              "\n",
              "[162 rows x 12 columns]"
            ]
          },
          "metadata": {},
          "execution_count": 40
        }
      ]
    },
    {
      "cell_type": "code",
      "source": [
        "bayanlar = df[df[\"Sex\"] == \"female\"]\n",
        "bayanlar"
      ],
      "metadata": {
        "colab": {
          "base_uri": "https://localhost:8080/",
          "height": 1000
        },
        "id": "AKE4nVAwInec",
        "outputId": "f4755233-8020-4135-daa1-886e6e4256c2"
      },
      "execution_count": null,
      "outputs": [
        {
          "output_type": "execute_result",
          "data": {
            "text/html": [
              "\n",
              "  <div id=\"df-30a563f4-23a4-49f4-80dc-e8c74745d957\">\n",
              "    <div class=\"colab-df-container\">\n",
              "      <div>\n",
              "<style scoped>\n",
              "    .dataframe tbody tr th:only-of-type {\n",
              "        vertical-align: middle;\n",
              "    }\n",
              "\n",
              "    .dataframe tbody tr th {\n",
              "        vertical-align: top;\n",
              "    }\n",
              "\n",
              "    .dataframe thead th {\n",
              "        text-align: right;\n",
              "    }\n",
              "</style>\n",
              "<table border=\"1\" class=\"dataframe\">\n",
              "  <thead>\n",
              "    <tr style=\"text-align: right;\">\n",
              "      <th></th>\n",
              "      <th>PassengerId</th>\n",
              "      <th>Survived</th>\n",
              "      <th>Pclass</th>\n",
              "      <th>Name</th>\n",
              "      <th>Sex</th>\n",
              "      <th>Age</th>\n",
              "      <th>SibSp</th>\n",
              "      <th>Parch</th>\n",
              "      <th>Ticket</th>\n",
              "      <th>Fare</th>\n",
              "      <th>Cabin</th>\n",
              "      <th>Embarked</th>\n",
              "    </tr>\n",
              "  </thead>\n",
              "  <tbody>\n",
              "    <tr>\n",
              "      <th>1</th>\n",
              "      <td>2</td>\n",
              "      <td>1</td>\n",
              "      <td>1</td>\n",
              "      <td>Cumings, Mrs. John Bradley (Florence Briggs Th...</td>\n",
              "      <td>female</td>\n",
              "      <td>38.0</td>\n",
              "      <td>1.0</td>\n",
              "      <td>0.0</td>\n",
              "      <td>PC 17599</td>\n",
              "      <td>71.2833</td>\n",
              "      <td>C85</td>\n",
              "      <td>C</td>\n",
              "    </tr>\n",
              "    <tr>\n",
              "      <th>2</th>\n",
              "      <td>3</td>\n",
              "      <td>1</td>\n",
              "      <td>3</td>\n",
              "      <td>Heikkinen, Miss. Laina</td>\n",
              "      <td>female</td>\n",
              "      <td>26.0</td>\n",
              "      <td>0.0</td>\n",
              "      <td>0.0</td>\n",
              "      <td>STON/O2. 3101282</td>\n",
              "      <td>7.9250</td>\n",
              "      <td>NaN</td>\n",
              "      <td>S</td>\n",
              "    </tr>\n",
              "    <tr>\n",
              "      <th>3</th>\n",
              "      <td>4</td>\n",
              "      <td>1</td>\n",
              "      <td>1</td>\n",
              "      <td>Futrelle, Mrs. Jacques Heath (Lily May Peel)</td>\n",
              "      <td>female</td>\n",
              "      <td>35.0</td>\n",
              "      <td>1.0</td>\n",
              "      <td>0.0</td>\n",
              "      <td>113803</td>\n",
              "      <td>53.1000</td>\n",
              "      <td>C123</td>\n",
              "      <td>S</td>\n",
              "    </tr>\n",
              "    <tr>\n",
              "      <th>8</th>\n",
              "      <td>9</td>\n",
              "      <td>1</td>\n",
              "      <td>3</td>\n",
              "      <td>Johnson, Mrs. Oscar W (Elisabeth Vilhelmina Berg)</td>\n",
              "      <td>female</td>\n",
              "      <td>27.0</td>\n",
              "      <td>0.0</td>\n",
              "      <td>2.0</td>\n",
              "      <td>347742</td>\n",
              "      <td>11.1333</td>\n",
              "      <td>NaN</td>\n",
              "      <td>S</td>\n",
              "    </tr>\n",
              "    <tr>\n",
              "      <th>9</th>\n",
              "      <td>10</td>\n",
              "      <td>1</td>\n",
              "      <td>2</td>\n",
              "      <td>Nasser, Mrs. Nicholas (Adele Achem)</td>\n",
              "      <td>female</td>\n",
              "      <td>14.0</td>\n",
              "      <td>1.0</td>\n",
              "      <td>0.0</td>\n",
              "      <td>237736</td>\n",
              "      <td>30.0708</td>\n",
              "      <td>NaN</td>\n",
              "      <td>C</td>\n",
              "    </tr>\n",
              "    <tr>\n",
              "      <th>10</th>\n",
              "      <td>11</td>\n",
              "      <td>1</td>\n",
              "      <td>3</td>\n",
              "      <td>Sandstrom, Miss. Marguerite Rut</td>\n",
              "      <td>female</td>\n",
              "      <td>4.0</td>\n",
              "      <td>1.0</td>\n",
              "      <td>1.0</td>\n",
              "      <td>PP 9549</td>\n",
              "      <td>16.7000</td>\n",
              "      <td>G6</td>\n",
              "      <td>S</td>\n",
              "    </tr>\n",
              "    <tr>\n",
              "      <th>11</th>\n",
              "      <td>12</td>\n",
              "      <td>1</td>\n",
              "      <td>1</td>\n",
              "      <td>Bonnell, Miss. Elizabeth</td>\n",
              "      <td>female</td>\n",
              "      <td>58.0</td>\n",
              "      <td>0.0</td>\n",
              "      <td>0.0</td>\n",
              "      <td>113783</td>\n",
              "      <td>26.5500</td>\n",
              "      <td>C103</td>\n",
              "      <td>S</td>\n",
              "    </tr>\n",
              "    <tr>\n",
              "      <th>14</th>\n",
              "      <td>15</td>\n",
              "      <td>0</td>\n",
              "      <td>3</td>\n",
              "      <td>Vestrom, Miss. Hulda Amanda Adolfina</td>\n",
              "      <td>female</td>\n",
              "      <td>14.0</td>\n",
              "      <td>0.0</td>\n",
              "      <td>0.0</td>\n",
              "      <td>350406</td>\n",
              "      <td>7.8542</td>\n",
              "      <td>NaN</td>\n",
              "      <td>S</td>\n",
              "    </tr>\n",
              "    <tr>\n",
              "      <th>15</th>\n",
              "      <td>16</td>\n",
              "      <td>1</td>\n",
              "      <td>2</td>\n",
              "      <td>Hewlett, Mrs. (Mary D Kingcome)</td>\n",
              "      <td>female</td>\n",
              "      <td>55.0</td>\n",
              "      <td>0.0</td>\n",
              "      <td>0.0</td>\n",
              "      <td>248706</td>\n",
              "      <td>16.0000</td>\n",
              "      <td>NaN</td>\n",
              "      <td>S</td>\n",
              "    </tr>\n",
              "    <tr>\n",
              "      <th>18</th>\n",
              "      <td>19</td>\n",
              "      <td>0</td>\n",
              "      <td>3</td>\n",
              "      <td>Vander Planke, Mrs. Julius (Emelia Maria Vande...</td>\n",
              "      <td>female</td>\n",
              "      <td>31.0</td>\n",
              "      <td>1.0</td>\n",
              "      <td>0.0</td>\n",
              "      <td>345763</td>\n",
              "      <td>18.0000</td>\n",
              "      <td>NaN</td>\n",
              "      <td>S</td>\n",
              "    </tr>\n",
              "    <tr>\n",
              "      <th>19</th>\n",
              "      <td>20</td>\n",
              "      <td>1</td>\n",
              "      <td>3</td>\n",
              "      <td>Masselmani, Mrs. Fatima</td>\n",
              "      <td>female</td>\n",
              "      <td>NaN</td>\n",
              "      <td>0.0</td>\n",
              "      <td>0.0</td>\n",
              "      <td>2649</td>\n",
              "      <td>7.2250</td>\n",
              "      <td>NaN</td>\n",
              "      <td>C</td>\n",
              "    </tr>\n",
              "    <tr>\n",
              "      <th>22</th>\n",
              "      <td>23</td>\n",
              "      <td>1</td>\n",
              "      <td>3</td>\n",
              "      <td>McGowan, Miss. Anna \"Annie\"</td>\n",
              "      <td>female</td>\n",
              "      <td>15.0</td>\n",
              "      <td>0.0</td>\n",
              "      <td>0.0</td>\n",
              "      <td>330923</td>\n",
              "      <td>8.0292</td>\n",
              "      <td>NaN</td>\n",
              "      <td>Q</td>\n",
              "    </tr>\n",
              "    <tr>\n",
              "      <th>24</th>\n",
              "      <td>25</td>\n",
              "      <td>0</td>\n",
              "      <td>3</td>\n",
              "      <td>Palsson, Miss. Torborg Danira</td>\n",
              "      <td>female</td>\n",
              "      <td>8.0</td>\n",
              "      <td>3.0</td>\n",
              "      <td>1.0</td>\n",
              "      <td>349909</td>\n",
              "      <td>21.0750</td>\n",
              "      <td>NaN</td>\n",
              "      <td>S</td>\n",
              "    </tr>\n",
              "    <tr>\n",
              "      <th>25</th>\n",
              "      <td>26</td>\n",
              "      <td>1</td>\n",
              "      <td>3</td>\n",
              "      <td>Asplund, Mrs. Carl Oscar (Selma Augusta Emilia...</td>\n",
              "      <td>female</td>\n",
              "      <td>38.0</td>\n",
              "      <td>1.0</td>\n",
              "      <td>5.0</td>\n",
              "      <td>347077</td>\n",
              "      <td>31.3875</td>\n",
              "      <td>NaN</td>\n",
              "      <td>S</td>\n",
              "    </tr>\n",
              "    <tr>\n",
              "      <th>28</th>\n",
              "      <td>29</td>\n",
              "      <td>1</td>\n",
              "      <td>3</td>\n",
              "      <td>O'Dwyer, Miss. Ellen \"Nellie\"</td>\n",
              "      <td>female</td>\n",
              "      <td>NaN</td>\n",
              "      <td>0.0</td>\n",
              "      <td>0.0</td>\n",
              "      <td>330959</td>\n",
              "      <td>7.8792</td>\n",
              "      <td>NaN</td>\n",
              "      <td>Q</td>\n",
              "    </tr>\n",
              "    <tr>\n",
              "      <th>31</th>\n",
              "      <td>32</td>\n",
              "      <td>1</td>\n",
              "      <td>1</td>\n",
              "      <td>Spencer, Mrs. William Augustus (Marie Eugenie)</td>\n",
              "      <td>female</td>\n",
              "      <td>NaN</td>\n",
              "      <td>1.0</td>\n",
              "      <td>0.0</td>\n",
              "      <td>PC 17569</td>\n",
              "      <td>146.5208</td>\n",
              "      <td>B78</td>\n",
              "      <td>C</td>\n",
              "    </tr>\n",
              "    <tr>\n",
              "      <th>32</th>\n",
              "      <td>33</td>\n",
              "      <td>1</td>\n",
              "      <td>3</td>\n",
              "      <td>Glynn, Miss. Mary Agatha</td>\n",
              "      <td>female</td>\n",
              "      <td>NaN</td>\n",
              "      <td>0.0</td>\n",
              "      <td>0.0</td>\n",
              "      <td>335677</td>\n",
              "      <td>7.7500</td>\n",
              "      <td>NaN</td>\n",
              "      <td>Q</td>\n",
              "    </tr>\n",
              "    <tr>\n",
              "      <th>38</th>\n",
              "      <td>39</td>\n",
              "      <td>0</td>\n",
              "      <td>3</td>\n",
              "      <td>Vander Planke, Miss. Augusta Maria</td>\n",
              "      <td>female</td>\n",
              "      <td>18.0</td>\n",
              "      <td>2.0</td>\n",
              "      <td>0.0</td>\n",
              "      <td>345764</td>\n",
              "      <td>18.0000</td>\n",
              "      <td>NaN</td>\n",
              "      <td>S</td>\n",
              "    </tr>\n",
              "    <tr>\n",
              "      <th>39</th>\n",
              "      <td>40</td>\n",
              "      <td>1</td>\n",
              "      <td>3</td>\n",
              "      <td>Nicola-Yarred, Miss. Jamila</td>\n",
              "      <td>female</td>\n",
              "      <td>14.0</td>\n",
              "      <td>1.0</td>\n",
              "      <td>0.0</td>\n",
              "      <td>2651</td>\n",
              "      <td>11.2417</td>\n",
              "      <td>NaN</td>\n",
              "      <td>C</td>\n",
              "    </tr>\n",
              "    <tr>\n",
              "      <th>40</th>\n",
              "      <td>41</td>\n",
              "      <td>0</td>\n",
              "      <td>3</td>\n",
              "      <td>Ahlin, Mrs. Johan (Johanna Persdotter Larsson)</td>\n",
              "      <td>female</td>\n",
              "      <td>40.0</td>\n",
              "      <td>1.0</td>\n",
              "      <td>0.0</td>\n",
              "      <td>7546</td>\n",
              "      <td>9.4750</td>\n",
              "      <td>NaN</td>\n",
              "      <td>S</td>\n",
              "    </tr>\n",
              "    <tr>\n",
              "      <th>41</th>\n",
              "      <td>42</td>\n",
              "      <td>0</td>\n",
              "      <td>2</td>\n",
              "      <td>Turpin, Mrs. William John Robert (Dorothy Ann ...</td>\n",
              "      <td>female</td>\n",
              "      <td>27.0</td>\n",
              "      <td>1.0</td>\n",
              "      <td>0.0</td>\n",
              "      <td>11668</td>\n",
              "      <td>21.0000</td>\n",
              "      <td>NaN</td>\n",
              "      <td>S</td>\n",
              "    </tr>\n",
              "    <tr>\n",
              "      <th>43</th>\n",
              "      <td>44</td>\n",
              "      <td>1</td>\n",
              "      <td>2</td>\n",
              "      <td>Laroche, Miss. Simonne Marie Anne Andree</td>\n",
              "      <td>female</td>\n",
              "      <td>3.0</td>\n",
              "      <td>1.0</td>\n",
              "      <td>2.0</td>\n",
              "      <td>SC/Paris 2123</td>\n",
              "      <td>41.5792</td>\n",
              "      <td>NaN</td>\n",
              "      <td>C</td>\n",
              "    </tr>\n",
              "    <tr>\n",
              "      <th>44</th>\n",
              "      <td>45</td>\n",
              "      <td>1</td>\n",
              "      <td>3</td>\n",
              "      <td>Devaney, Miss. Margaret Delia</td>\n",
              "      <td>female</td>\n",
              "      <td>19.0</td>\n",
              "      <td>0.0</td>\n",
              "      <td>0.0</td>\n",
              "      <td>330958</td>\n",
              "      <td>7.8792</td>\n",
              "      <td>NaN</td>\n",
              "      <td>Q</td>\n",
              "    </tr>\n",
              "    <tr>\n",
              "      <th>47</th>\n",
              "      <td>48</td>\n",
              "      <td>1</td>\n",
              "      <td>3</td>\n",
              "      <td>O'Driscoll, Miss. Bridget</td>\n",
              "      <td>female</td>\n",
              "      <td>NaN</td>\n",
              "      <td>0.0</td>\n",
              "      <td>0.0</td>\n",
              "      <td>14311</td>\n",
              "      <td>7.7500</td>\n",
              "      <td>NaN</td>\n",
              "      <td>Q</td>\n",
              "    </tr>\n",
              "    <tr>\n",
              "      <th>49</th>\n",
              "      <td>50</td>\n",
              "      <td>0</td>\n",
              "      <td>3</td>\n",
              "      <td>Arnold-Franchi, Mrs. Josef (Josefine Franchi)</td>\n",
              "      <td>female</td>\n",
              "      <td>18.0</td>\n",
              "      <td>1.0</td>\n",
              "      <td>0.0</td>\n",
              "      <td>349237</td>\n",
              "      <td>17.8000</td>\n",
              "      <td>NaN</td>\n",
              "      <td>S</td>\n",
              "    </tr>\n",
              "    <tr>\n",
              "      <th>52</th>\n",
              "      <td>53</td>\n",
              "      <td>1</td>\n",
              "      <td>1</td>\n",
              "      <td>Harper, Mrs. Henry Sleeper (Myna Haxtun)</td>\n",
              "      <td>female</td>\n",
              "      <td>49.0</td>\n",
              "      <td>1.0</td>\n",
              "      <td>0.0</td>\n",
              "      <td>PC 17572</td>\n",
              "      <td>76.7292</td>\n",
              "      <td>D33</td>\n",
              "      <td>C</td>\n",
              "    </tr>\n",
              "    <tr>\n",
              "      <th>53</th>\n",
              "      <td>54</td>\n",
              "      <td>1</td>\n",
              "      <td>2</td>\n",
              "      <td>Faunthorpe, Mrs. Lizzie (Elizabeth Anne Wilkin...</td>\n",
              "      <td>female</td>\n",
              "      <td>29.0</td>\n",
              "      <td>1.0</td>\n",
              "      <td>0.0</td>\n",
              "      <td>2926</td>\n",
              "      <td>26.0000</td>\n",
              "      <td>NaN</td>\n",
              "      <td>S</td>\n",
              "    </tr>\n",
              "    <tr>\n",
              "      <th>56</th>\n",
              "      <td>57</td>\n",
              "      <td>1</td>\n",
              "      <td>2</td>\n",
              "      <td>Rugg, Miss. Emily</td>\n",
              "      <td>female</td>\n",
              "      <td>21.0</td>\n",
              "      <td>0.0</td>\n",
              "      <td>0.0</td>\n",
              "      <td>C.A. 31026</td>\n",
              "      <td>10.5000</td>\n",
              "      <td>NaN</td>\n",
              "      <td>S</td>\n",
              "    </tr>\n",
              "    <tr>\n",
              "      <th>58</th>\n",
              "      <td>59</td>\n",
              "      <td>1</td>\n",
              "      <td>2</td>\n",
              "      <td>West, Miss. Constance Mirium</td>\n",
              "      <td>female</td>\n",
              "      <td>5.0</td>\n",
              "      <td>1.0</td>\n",
              "      <td>2.0</td>\n",
              "      <td>C.A. 34651</td>\n",
              "      <td>27.7500</td>\n",
              "      <td>NaN</td>\n",
              "      <td>S</td>\n",
              "    </tr>\n",
              "    <tr>\n",
              "      <th>61</th>\n",
              "      <td>62</td>\n",
              "      <td>1</td>\n",
              "      <td>1</td>\n",
              "      <td>Icard, Miss. Amelie</td>\n",
              "      <td>female</td>\n",
              "      <td>38.0</td>\n",
              "      <td>0.0</td>\n",
              "      <td>0.0</td>\n",
              "      <td>113572</td>\n",
              "      <td>80.0000</td>\n",
              "      <td>B28</td>\n",
              "      <td>NaN</td>\n",
              "    </tr>\n",
              "    <tr>\n",
              "      <th>66</th>\n",
              "      <td>67</td>\n",
              "      <td>1</td>\n",
              "      <td>2</td>\n",
              "      <td>Nye, Mrs. (Elizabeth Ramell)</td>\n",
              "      <td>female</td>\n",
              "      <td>29.0</td>\n",
              "      <td>0.0</td>\n",
              "      <td>0.0</td>\n",
              "      <td>C.A. 29395</td>\n",
              "      <td>10.5000</td>\n",
              "      <td>F33</td>\n",
              "      <td>S</td>\n",
              "    </tr>\n",
              "    <tr>\n",
              "      <th>68</th>\n",
              "      <td>69</td>\n",
              "      <td>1</td>\n",
              "      <td>3</td>\n",
              "      <td>Andersson, Miss. Erna Alexandra</td>\n",
              "      <td>female</td>\n",
              "      <td>17.0</td>\n",
              "      <td>4.0</td>\n",
              "      <td>2.0</td>\n",
              "      <td>3101281</td>\n",
              "      <td>7.9250</td>\n",
              "      <td>NaN</td>\n",
              "      <td>S</td>\n",
              "    </tr>\n",
              "    <tr>\n",
              "      <th>71</th>\n",
              "      <td>72</td>\n",
              "      <td>0</td>\n",
              "      <td>3</td>\n",
              "      <td>Goodwin, Miss. Lillian Amy</td>\n",
              "      <td>female</td>\n",
              "      <td>16.0</td>\n",
              "      <td>5.0</td>\n",
              "      <td>2.0</td>\n",
              "      <td>CA 2144</td>\n",
              "      <td>46.9000</td>\n",
              "      <td>NaN</td>\n",
              "      <td>S</td>\n",
              "    </tr>\n",
              "    <tr>\n",
              "      <th>79</th>\n",
              "      <td>80</td>\n",
              "      <td>1</td>\n",
              "      <td>3</td>\n",
              "      <td>Dowdell, Miss. Elizabeth</td>\n",
              "      <td>female</td>\n",
              "      <td>30.0</td>\n",
              "      <td>0.0</td>\n",
              "      <td>0.0</td>\n",
              "      <td>364516</td>\n",
              "      <td>12.4750</td>\n",
              "      <td>NaN</td>\n",
              "      <td>S</td>\n",
              "    </tr>\n",
              "    <tr>\n",
              "      <th>82</th>\n",
              "      <td>83</td>\n",
              "      <td>1</td>\n",
              "      <td>3</td>\n",
              "      <td>McDermott, Miss. Brigdet Delia</td>\n",
              "      <td>female</td>\n",
              "      <td>NaN</td>\n",
              "      <td>0.0</td>\n",
              "      <td>0.0</td>\n",
              "      <td>330932</td>\n",
              "      <td>7.7875</td>\n",
              "      <td>NaN</td>\n",
              "      <td>Q</td>\n",
              "    </tr>\n",
              "    <tr>\n",
              "      <th>84</th>\n",
              "      <td>85</td>\n",
              "      <td>1</td>\n",
              "      <td>2</td>\n",
              "      <td>Ilett, Miss. Bertha</td>\n",
              "      <td>female</td>\n",
              "      <td>17.0</td>\n",
              "      <td>0.0</td>\n",
              "      <td>0.0</td>\n",
              "      <td>SO/C 14885</td>\n",
              "      <td>10.5000</td>\n",
              "      <td>NaN</td>\n",
              "      <td>S</td>\n",
              "    </tr>\n",
              "    <tr>\n",
              "      <th>85</th>\n",
              "      <td>86</td>\n",
              "      <td>1</td>\n",
              "      <td>3</td>\n",
              "      <td>Backstrom, Mrs. Karl Alfred (Maria Mathilda Gu...</td>\n",
              "      <td>female</td>\n",
              "      <td>33.0</td>\n",
              "      <td>3.0</td>\n",
              "      <td>0.0</td>\n",
              "      <td>3101278</td>\n",
              "      <td>15.8500</td>\n",
              "      <td>NaN</td>\n",
              "      <td>S</td>\n",
              "    </tr>\n",
              "    <tr>\n",
              "      <th>88</th>\n",
              "      <td>89</td>\n",
              "      <td>1</td>\n",
              "      <td>1</td>\n",
              "      <td>Fortune, Miss. Mabel Helen</td>\n",
              "      <td>female</td>\n",
              "      <td>23.0</td>\n",
              "      <td>3.0</td>\n",
              "      <td>2.0</td>\n",
              "      <td>19950</td>\n",
              "      <td>263.0000</td>\n",
              "      <td>C23 C25 C27</td>\n",
              "      <td>S</td>\n",
              "    </tr>\n",
              "    <tr>\n",
              "      <th>98</th>\n",
              "      <td>99</td>\n",
              "      <td>1</td>\n",
              "      <td>2</td>\n",
              "      <td>Doling, Mrs. John T (Ada Julia Bone)</td>\n",
              "      <td>female</td>\n",
              "      <td>34.0</td>\n",
              "      <td>0.0</td>\n",
              "      <td>1.0</td>\n",
              "      <td>231919</td>\n",
              "      <td>23.0000</td>\n",
              "      <td>NaN</td>\n",
              "      <td>S</td>\n",
              "    </tr>\n",
              "    <tr>\n",
              "      <th>100</th>\n",
              "      <td>101</td>\n",
              "      <td>0</td>\n",
              "      <td>3</td>\n",
              "      <td>Petranec, Miss. Matilda</td>\n",
              "      <td>female</td>\n",
              "      <td>28.0</td>\n",
              "      <td>0.0</td>\n",
              "      <td>0.0</td>\n",
              "      <td>349245</td>\n",
              "      <td>7.8958</td>\n",
              "      <td>NaN</td>\n",
              "      <td>S</td>\n",
              "    </tr>\n",
              "    <tr>\n",
              "      <th>106</th>\n",
              "      <td>107</td>\n",
              "      <td>1</td>\n",
              "      <td>3</td>\n",
              "      <td>Salkjelsvik, Miss. Anna Kristine</td>\n",
              "      <td>female</td>\n",
              "      <td>21.0</td>\n",
              "      <td>0.0</td>\n",
              "      <td>0.0</td>\n",
              "      <td>343120</td>\n",
              "      <td>7.6500</td>\n",
              "      <td>NaN</td>\n",
              "      <td>S</td>\n",
              "    </tr>\n",
              "    <tr>\n",
              "      <th>109</th>\n",
              "      <td>110</td>\n",
              "      <td>1</td>\n",
              "      <td>3</td>\n",
              "      <td>Moran, Miss. Bertha</td>\n",
              "      <td>female</td>\n",
              "      <td>NaN</td>\n",
              "      <td>1.0</td>\n",
              "      <td>0.0</td>\n",
              "      <td>371110</td>\n",
              "      <td>24.1500</td>\n",
              "      <td>NaN</td>\n",
              "      <td>Q</td>\n",
              "    </tr>\n",
              "    <tr>\n",
              "      <th>111</th>\n",
              "      <td>112</td>\n",
              "      <td>0</td>\n",
              "      <td>3</td>\n",
              "      <td>Zabour, Miss. Hileni</td>\n",
              "      <td>female</td>\n",
              "      <td>14.5</td>\n",
              "      <td>1.0</td>\n",
              "      <td>0.0</td>\n",
              "      <td>2665</td>\n",
              "      <td>14.4542</td>\n",
              "      <td>NaN</td>\n",
              "      <td>C</td>\n",
              "    </tr>\n",
              "    <tr>\n",
              "      <th>113</th>\n",
              "      <td>114</td>\n",
              "      <td>0</td>\n",
              "      <td>3</td>\n",
              "      <td>Jussila, Miss. Katriina</td>\n",
              "      <td>female</td>\n",
              "      <td>20.0</td>\n",
              "      <td>1.0</td>\n",
              "      <td>0.0</td>\n",
              "      <td>4136</td>\n",
              "      <td>9.8250</td>\n",
              "      <td>NaN</td>\n",
              "      <td>S</td>\n",
              "    </tr>\n",
              "    <tr>\n",
              "      <th>114</th>\n",
              "      <td>115</td>\n",
              "      <td>0</td>\n",
              "      <td>3</td>\n",
              "      <td>Attalah, Miss. Malake</td>\n",
              "      <td>female</td>\n",
              "      <td>17.0</td>\n",
              "      <td>0.0</td>\n",
              "      <td>0.0</td>\n",
              "      <td>2627</td>\n",
              "      <td>14.4583</td>\n",
              "      <td>NaN</td>\n",
              "      <td>C</td>\n",
              "    </tr>\n",
              "    <tr>\n",
              "      <th>119</th>\n",
              "      <td>120</td>\n",
              "      <td>0</td>\n",
              "      <td>3</td>\n",
              "      <td>Andersson, Miss. Ellis Anna Maria</td>\n",
              "      <td>female</td>\n",
              "      <td>2.0</td>\n",
              "      <td>4.0</td>\n",
              "      <td>2.0</td>\n",
              "      <td>347082</td>\n",
              "      <td>31.2750</td>\n",
              "      <td>NaN</td>\n",
              "      <td>S</td>\n",
              "    </tr>\n",
              "    <tr>\n",
              "      <th>123</th>\n",
              "      <td>124</td>\n",
              "      <td>1</td>\n",
              "      <td>2</td>\n",
              "      <td>Webber, Miss. Susan</td>\n",
              "      <td>female</td>\n",
              "      <td>32.5</td>\n",
              "      <td>0.0</td>\n",
              "      <td>0.0</td>\n",
              "      <td>27267</td>\n",
              "      <td>13.0000</td>\n",
              "      <td>E101</td>\n",
              "      <td>S</td>\n",
              "    </tr>\n",
              "    <tr>\n",
              "      <th>128</th>\n",
              "      <td>129</td>\n",
              "      <td>1</td>\n",
              "      <td>3</td>\n",
              "      <td>Peter, Miss. Anna</td>\n",
              "      <td>female</td>\n",
              "      <td>NaN</td>\n",
              "      <td>1.0</td>\n",
              "      <td>1.0</td>\n",
              "      <td>2668</td>\n",
              "      <td>22.3583</td>\n",
              "      <td>F E69</td>\n",
              "      <td>C</td>\n",
              "    </tr>\n",
              "    <tr>\n",
              "      <th>132</th>\n",
              "      <td>133</td>\n",
              "      <td>0</td>\n",
              "      <td>3</td>\n",
              "      <td>Robins, Mrs. Alexander A (Grace Charity Laury)</td>\n",
              "      <td>female</td>\n",
              "      <td>47.0</td>\n",
              "      <td>1.0</td>\n",
              "      <td>0.0</td>\n",
              "      <td>A/5. 3337</td>\n",
              "      <td>14.5000</td>\n",
              "      <td>NaN</td>\n",
              "      <td>S</td>\n",
              "    </tr>\n",
              "    <tr>\n",
              "      <th>133</th>\n",
              "      <td>134</td>\n",
              "      <td>1</td>\n",
              "      <td>2</td>\n",
              "      <td>Weisz, Mrs. Leopold (Mathilde Francoise Pede)</td>\n",
              "      <td>female</td>\n",
              "      <td>29.0</td>\n",
              "      <td>1.0</td>\n",
              "      <td>0.0</td>\n",
              "      <td>228414</td>\n",
              "      <td>26.0000</td>\n",
              "      <td>NaN</td>\n",
              "      <td>S</td>\n",
              "    </tr>\n",
              "    <tr>\n",
              "      <th>136</th>\n",
              "      <td>137</td>\n",
              "      <td>1</td>\n",
              "      <td>1</td>\n",
              "      <td>Newsom, Miss. Helen Monypeny</td>\n",
              "      <td>female</td>\n",
              "      <td>19.0</td>\n",
              "      <td>0.0</td>\n",
              "      <td>2.0</td>\n",
              "      <td>11752</td>\n",
              "      <td>26.2833</td>\n",
              "      <td>D47</td>\n",
              "      <td>S</td>\n",
              "    </tr>\n",
              "    <tr>\n",
              "      <th>140</th>\n",
              "      <td>141</td>\n",
              "      <td>0</td>\n",
              "      <td>3</td>\n",
              "      <td>Boulos, Mrs. Joseph (Sultana)</td>\n",
              "      <td>female</td>\n",
              "      <td>NaN</td>\n",
              "      <td>0.0</td>\n",
              "      <td>2.0</td>\n",
              "      <td>2678</td>\n",
              "      <td>15.2458</td>\n",
              "      <td>NaN</td>\n",
              "      <td>C</td>\n",
              "    </tr>\n",
              "    <tr>\n",
              "      <th>141</th>\n",
              "      <td>142</td>\n",
              "      <td>1</td>\n",
              "      <td>3</td>\n",
              "      <td>Nysten, Miss. Anna Sofia</td>\n",
              "      <td>female</td>\n",
              "      <td>22.0</td>\n",
              "      <td>0.0</td>\n",
              "      <td>0.0</td>\n",
              "      <td>347081</td>\n",
              "      <td>7.7500</td>\n",
              "      <td>NaN</td>\n",
              "      <td>S</td>\n",
              "    </tr>\n",
              "    <tr>\n",
              "      <th>142</th>\n",
              "      <td>143</td>\n",
              "      <td>1</td>\n",
              "      <td>3</td>\n",
              "      <td>Hakkarainen, Mrs. Pekka Pietari (Elin Matilda ...</td>\n",
              "      <td>female</td>\n",
              "      <td>24.0</td>\n",
              "      <td>1.0</td>\n",
              "      <td>0.0</td>\n",
              "      <td>STON/O2. 3101279</td>\n",
              "      <td>15.8500</td>\n",
              "      <td>NaN</td>\n",
              "      <td>S</td>\n",
              "    </tr>\n",
              "    <tr>\n",
              "      <th>147</th>\n",
              "      <td>148</td>\n",
              "      <td>0</td>\n",
              "      <td>3</td>\n",
              "      <td>Ford, Miss. Robina Maggie \"Ruby\"</td>\n",
              "      <td>female</td>\n",
              "      <td>9.0</td>\n",
              "      <td>2.0</td>\n",
              "      <td>2.0</td>\n",
              "      <td>W./C. 6608</td>\n",
              "      <td>34.3750</td>\n",
              "      <td>NaN</td>\n",
              "      <td>S</td>\n",
              "    </tr>\n",
              "    <tr>\n",
              "      <th>151</th>\n",
              "      <td>152</td>\n",
              "      <td>1</td>\n",
              "      <td>1</td>\n",
              "      <td>Pears, Mrs. Thomas (Edith Wearne)</td>\n",
              "      <td>female</td>\n",
              "      <td>22.0</td>\n",
              "      <td>1.0</td>\n",
              "      <td>0.0</td>\n",
              "      <td>113776</td>\n",
              "      <td>66.6000</td>\n",
              "      <td>C2</td>\n",
              "      <td>S</td>\n",
              "    </tr>\n",
              "    <tr>\n",
              "      <th>156</th>\n",
              "      <td>157</td>\n",
              "      <td>1</td>\n",
              "      <td>3</td>\n",
              "      <td>Gilnagh, Miss. Katherine \"Katie\"</td>\n",
              "      <td>female</td>\n",
              "      <td>16.0</td>\n",
              "      <td>0.0</td>\n",
              "      <td>0.0</td>\n",
              "      <td>35851</td>\n",
              "      <td>7.7333</td>\n",
              "      <td>NaN</td>\n",
              "      <td>Q</td>\n",
              "    </tr>\n",
              "  </tbody>\n",
              "</table>\n",
              "</div>\n",
              "      <button class=\"colab-df-convert\" onclick=\"convertToInteractive('df-30a563f4-23a4-49f4-80dc-e8c74745d957')\"\n",
              "              title=\"Convert this dataframe to an interactive table.\"\n",
              "              style=\"display:none;\">\n",
              "        \n",
              "  <svg xmlns=\"http://www.w3.org/2000/svg\" height=\"24px\"viewBox=\"0 0 24 24\"\n",
              "       width=\"24px\">\n",
              "    <path d=\"M0 0h24v24H0V0z\" fill=\"none\"/>\n",
              "    <path d=\"M18.56 5.44l.94 2.06.94-2.06 2.06-.94-2.06-.94-.94-2.06-.94 2.06-2.06.94zm-11 1L8.5 8.5l.94-2.06 2.06-.94-2.06-.94L8.5 2.5l-.94 2.06-2.06.94zm10 10l.94 2.06.94-2.06 2.06-.94-2.06-.94-.94-2.06-.94 2.06-2.06.94z\"/><path d=\"M17.41 7.96l-1.37-1.37c-.4-.4-.92-.59-1.43-.59-.52 0-1.04.2-1.43.59L10.3 9.45l-7.72 7.72c-.78.78-.78 2.05 0 2.83L4 21.41c.39.39.9.59 1.41.59.51 0 1.02-.2 1.41-.59l7.78-7.78 2.81-2.81c.8-.78.8-2.07 0-2.86zM5.41 20L4 18.59l7.72-7.72 1.47 1.35L5.41 20z\"/>\n",
              "  </svg>\n",
              "      </button>\n",
              "      \n",
              "  <style>\n",
              "    .colab-df-container {\n",
              "      display:flex;\n",
              "      flex-wrap:wrap;\n",
              "      gap: 12px;\n",
              "    }\n",
              "\n",
              "    .colab-df-convert {\n",
              "      background-color: #E8F0FE;\n",
              "      border: none;\n",
              "      border-radius: 50%;\n",
              "      cursor: pointer;\n",
              "      display: none;\n",
              "      fill: #1967D2;\n",
              "      height: 32px;\n",
              "      padding: 0 0 0 0;\n",
              "      width: 32px;\n",
              "    }\n",
              "\n",
              "    .colab-df-convert:hover {\n",
              "      background-color: #E2EBFA;\n",
              "      box-shadow: 0px 1px 2px rgba(60, 64, 67, 0.3), 0px 1px 3px 1px rgba(60, 64, 67, 0.15);\n",
              "      fill: #174EA6;\n",
              "    }\n",
              "\n",
              "    [theme=dark] .colab-df-convert {\n",
              "      background-color: #3B4455;\n",
              "      fill: #D2E3FC;\n",
              "    }\n",
              "\n",
              "    [theme=dark] .colab-df-convert:hover {\n",
              "      background-color: #434B5C;\n",
              "      box-shadow: 0px 1px 3px 1px rgba(0, 0, 0, 0.15);\n",
              "      filter: drop-shadow(0px 1px 2px rgba(0, 0, 0, 0.3));\n",
              "      fill: #FFFFFF;\n",
              "    }\n",
              "  </style>\n",
              "\n",
              "      <script>\n",
              "        const buttonEl =\n",
              "          document.querySelector('#df-30a563f4-23a4-49f4-80dc-e8c74745d957 button.colab-df-convert');\n",
              "        buttonEl.style.display =\n",
              "          google.colab.kernel.accessAllowed ? 'block' : 'none';\n",
              "\n",
              "        async function convertToInteractive(key) {\n",
              "          const element = document.querySelector('#df-30a563f4-23a4-49f4-80dc-e8c74745d957');\n",
              "          const dataTable =\n",
              "            await google.colab.kernel.invokeFunction('convertToInteractive',\n",
              "                                                     [key], {});\n",
              "          if (!dataTable) return;\n",
              "\n",
              "          const docLinkHtml = 'Like what you see? Visit the ' +\n",
              "            '<a target=\"_blank\" href=https://colab.research.google.com/notebooks/data_table.ipynb>data table notebook</a>'\n",
              "            + ' to learn more about interactive tables.';\n",
              "          element.innerHTML = '';\n",
              "          dataTable['output_type'] = 'display_data';\n",
              "          await google.colab.output.renderOutput(dataTable, element);\n",
              "          const docLink = document.createElement('div');\n",
              "          docLink.innerHTML = docLinkHtml;\n",
              "          element.appendChild(docLink);\n",
              "        }\n",
              "      </script>\n",
              "    </div>\n",
              "  </div>\n",
              "  "
            ],
            "text/plain": [
              "     PassengerId  Survived  Pclass  ...      Fare        Cabin  Embarked\n",
              "1              2         1       1  ...   71.2833          C85         C\n",
              "2              3         1       3  ...    7.9250          NaN         S\n",
              "3              4         1       1  ...   53.1000         C123         S\n",
              "8              9         1       3  ...   11.1333          NaN         S\n",
              "9             10         1       2  ...   30.0708          NaN         C\n",
              "10            11         1       3  ...   16.7000           G6         S\n",
              "11            12         1       1  ...   26.5500         C103         S\n",
              "14            15         0       3  ...    7.8542          NaN         S\n",
              "15            16         1       2  ...   16.0000          NaN         S\n",
              "18            19         0       3  ...   18.0000          NaN         S\n",
              "19            20         1       3  ...    7.2250          NaN         C\n",
              "22            23         1       3  ...    8.0292          NaN         Q\n",
              "24            25         0       3  ...   21.0750          NaN         S\n",
              "25            26         1       3  ...   31.3875          NaN         S\n",
              "28            29         1       3  ...    7.8792          NaN         Q\n",
              "31            32         1       1  ...  146.5208          B78         C\n",
              "32            33         1       3  ...    7.7500          NaN         Q\n",
              "38            39         0       3  ...   18.0000          NaN         S\n",
              "39            40         1       3  ...   11.2417          NaN         C\n",
              "40            41         0       3  ...    9.4750          NaN         S\n",
              "41            42         0       2  ...   21.0000          NaN         S\n",
              "43            44         1       2  ...   41.5792          NaN         C\n",
              "44            45         1       3  ...    7.8792          NaN         Q\n",
              "47            48         1       3  ...    7.7500          NaN         Q\n",
              "49            50         0       3  ...   17.8000          NaN         S\n",
              "52            53         1       1  ...   76.7292          D33         C\n",
              "53            54         1       2  ...   26.0000          NaN         S\n",
              "56            57         1       2  ...   10.5000          NaN         S\n",
              "58            59         1       2  ...   27.7500          NaN         S\n",
              "61            62         1       1  ...   80.0000          B28       NaN\n",
              "66            67         1       2  ...   10.5000          F33         S\n",
              "68            69         1       3  ...    7.9250          NaN         S\n",
              "71            72         0       3  ...   46.9000          NaN         S\n",
              "79            80         1       3  ...   12.4750          NaN         S\n",
              "82            83         1       3  ...    7.7875          NaN         Q\n",
              "84            85         1       2  ...   10.5000          NaN         S\n",
              "85            86         1       3  ...   15.8500          NaN         S\n",
              "88            89         1       1  ...  263.0000  C23 C25 C27         S\n",
              "98            99         1       2  ...   23.0000          NaN         S\n",
              "100          101         0       3  ...    7.8958          NaN         S\n",
              "106          107         1       3  ...    7.6500          NaN         S\n",
              "109          110         1       3  ...   24.1500          NaN         Q\n",
              "111          112         0       3  ...   14.4542          NaN         C\n",
              "113          114         0       3  ...    9.8250          NaN         S\n",
              "114          115         0       3  ...   14.4583          NaN         C\n",
              "119          120         0       3  ...   31.2750          NaN         S\n",
              "123          124         1       2  ...   13.0000         E101         S\n",
              "128          129         1       3  ...   22.3583        F E69         C\n",
              "132          133         0       3  ...   14.5000          NaN         S\n",
              "133          134         1       2  ...   26.0000          NaN         S\n",
              "136          137         1       1  ...   26.2833          D47         S\n",
              "140          141         0       3  ...   15.2458          NaN         C\n",
              "141          142         1       3  ...    7.7500          NaN         S\n",
              "142          143         1       3  ...   15.8500          NaN         S\n",
              "147          148         0       3  ...   34.3750          NaN         S\n",
              "151          152         1       1  ...   66.6000           C2         S\n",
              "156          157         1       3  ...    7.7333          NaN         Q\n",
              "\n",
              "[57 rows x 12 columns]"
            ]
          },
          "metadata": {},
          "execution_count": 45
        }
      ]
    },
    {
      "cell_type": "code",
      "source": [
        "df.Sex.value_counts(dropna = False)"
      ],
      "metadata": {
        "colab": {
          "base_uri": "https://localhost:8080/"
        },
        "id": "dLYPhXB4PTQ7",
        "outputId": "fd98e190-b6c1-4bac-864c-f1b706c0510d"
      },
      "execution_count": null,
      "outputs": [
        {
          "output_type": "execute_result",
          "data": {
            "text/plain": [
              "male        104\n",
              "female       57\n",
              "femal...      1\n",
              "Name: Sex, dtype: int64"
            ]
          },
          "metadata": {},
          "execution_count": 41
        }
      ]
    },
    {
      "cell_type": "code",
      "source": [
        "bayanlar.to_csv(\"titanic_bayanlar.csv\", index = False)\n"
      ],
      "metadata": {
        "id": "nTdxgb_UPTT3"
      },
      "execution_count": null,
      "outputs": []
    },
    {
      "cell_type": "code",
      "source": [
        "df.groupby(\"Sex\")[\"Survived\"].mean()"
      ],
      "metadata": {
        "colab": {
          "base_uri": "https://localhost:8080/"
        },
        "id": "gaAnKv3qPTW_",
        "outputId": "3159c419-16e7-4f2d-ea14-72e14c7dc5af"
      },
      "execution_count": null,
      "outputs": [
        {
          "output_type": "execute_result",
          "data": {
            "text/plain": [
              "Sex\n",
              "femal...    1.000000\n",
              "female      0.719298\n",
              "male        0.134615\n",
              "Name: Survived, dtype: float64"
            ]
          },
          "metadata": {},
          "execution_count": 48
        }
      ]
    },
    {
      "cell_type": "code",
      "source": [
        "df.groupby(\"Pclass\")[\"Survived\"].mean()"
      ],
      "metadata": {
        "id": "6e1WVzLpjFJ0",
        "colab": {
          "base_uri": "https://localhost:8080/"
        },
        "outputId": "b4db071c-4eb4-4f8c-97db-e5c30e896fd2"
      },
      "execution_count": null,
      "outputs": [
        {
          "output_type": "execute_result",
          "data": {
            "text/plain": [
              "Pclass\n",
              "1    0.400000\n",
              "2    0.483871\n",
              "3    0.287129\n",
              "Name: Survived, dtype: float64"
            ]
          },
          "metadata": {},
          "execution_count": 49
        }
      ]
    },
    {
      "cell_type": "code",
      "source": [
        "df.plot(\"Pclass\")"
      ],
      "metadata": {
        "colab": {
          "base_uri": "https://localhost:8080/",
          "height": 297
        },
        "id": "MbA2vJqbRLmQ",
        "outputId": "bf5bc10a-a568-4b44-81a7-fb05fa28e9dd"
      },
      "execution_count": null,
      "outputs": [
        {
          "output_type": "execute_result",
          "data": {
            "text/plain": [
              "<matplotlib.axes._subplots.AxesSubplot at 0x7fdf63312290>"
            ]
          },
          "metadata": {},
          "execution_count": 50
        },
        {
          "output_type": "display_data",
          "data": {
            "image/png": "[encoded data removed]",
            "text/plain": [
              "<Figure size 432x288 with 1 Axes>"
            ]
          },
          "metadata": {
            "needs_background": "light"
          }
        }
      ]
    },
    {
      "cell_type": "code",
      "source": [
        "df.plot(\"Sex\")"
      ],
      "metadata": {
        "colab": {
          "base_uri": "https://localhost:8080/",
          "height": 297
        },
        "id": "kidg7-JgRLoW",
        "outputId": "3b16f92b-7a56-450b-e206-2772e8d4f869"
      },
      "execution_count": null,
      "outputs": [
        {
          "output_type": "execute_result",
          "data": {
            "text/plain": [
              "<matplotlib.axes._subplots.AxesSubplot at 0x7fdf6326ca10>"
            ]
          },
          "metadata": {},
          "execution_count": 51
        },
        {
          "output_type": "display_data",
          "data": {
            "image/png": "[encoded data removed]",
            "text/plain": [
              "<Figure size 432x288 with 1 Axes>"
            ]
          },
          "metadata": {
            "needs_background": "light"
          }
        }
      ]
    },
    {
      "cell_type": "code",
      "source": [
        ""
      ],
      "metadata": {
        "id": "RhACuSh_RLq8"
      },
      "execution_count": null,
      "outputs": []
    },
    {
      "cell_type": "code",
      "source": [
        ""
      ],
      "metadata": {
        "id": "8suZHmO8R6Kr"
      },
      "execution_count": null,
      "outputs": []
    },
    {
      "cell_type": "code",
      "source": [
        "# simple mail transfer protokol \n",
        "# smtp nedir internetten arastir"
      ],
      "metadata": {
        "id": "Pf1-ogBYR6OP"
      },
      "execution_count": null,
      "outputs": []
    },
    {
      "cell_type": "code",
      "source": [
        "import smtplib\n",
        "password = \"Stc97531.\"\n",
        "server = smtplib.SMTP(\"smtp.gmail.com\", 587)\n",
        "server.starttls()\n",
        "\n",
        "server.login(\"tariksitki0119\", password)\n",
        "\n",
        "message = \"\\n Bu mesaj tariktan\"\n",
        "\n",
        "server.sendmail(\"tariksitki0119@gmail.com\", \"tariksitki0119@gmail.com\", message)\n",
        "\n",
        "server.quit()"
      ],
      "metadata": {
        "colab": {
          "base_uri": "https://localhost:8080/",
          "height": 444
        },
        "id": "exGz0lwjR6SP",
        "outputId": "3034db57-5463-4bf9-8d73-06f6a780a900"
      },
      "execution_count": null,
      "outputs": [
        {
          "output_type": "error",
          "ename": "SMTPAuthenticationError",
          "evalue": "ignored",
          "traceback": [
            "\u001b[0;31m---------------------------------------------------------------------------\u001b[0m",
            "\u001b[0;31mSMTPAuthenticationError\u001b[0m                   Traceback (most recent call last)",
            "\u001b[0;32m<ipython-input-56-6cd819fea96d>\u001b[0m in \u001b[0;36m<module>\u001b[0;34m()\u001b[0m\n\u001b[1;32m      4\u001b[0m \u001b[0mserver\u001b[0m\u001b[0;34m.\u001b[0m\u001b[0mstarttls\u001b[0m\u001b[0;34m(\u001b[0m\u001b[0;34m)\u001b[0m\u001b[0;34m\u001b[0m\u001b[0;34m\u001b[0m\u001b[0m\n\u001b[1;32m      5\u001b[0m \u001b[0;34m\u001b[0m\u001b[0m\n\u001b[0;32m----> 6\u001b[0;31m \u001b[0mserver\u001b[0m\u001b[0;34m.\u001b[0m\u001b[0mlogin\u001b[0m\u001b[0;34m(\u001b[0m\u001b[0;34m\"tariksitki0119\"\u001b[0m\u001b[0;34m,\u001b[0m \u001b[0mpassword\u001b[0m\u001b[0;34m)\u001b[0m\u001b[0;34m\u001b[0m\u001b[0;34m\u001b[0m\u001b[0m\n\u001b[0m\u001b[1;32m      7\u001b[0m \u001b[0;34m\u001b[0m\u001b[0m\n\u001b[1;32m      8\u001b[0m \u001b[0mmessage\u001b[0m \u001b[0;34m=\u001b[0m \u001b[0;34m\"\\n Bu mesaj tariktan\"\u001b[0m\u001b[0;34m\u001b[0m\u001b[0;34m\u001b[0m\u001b[0m\n",
            "\u001b[0;32m/usr/lib/python3.7/smtplib.py\u001b[0m in \u001b[0;36mlogin\u001b[0;34m(self, user, password, initial_response_ok)\u001b[0m\n\u001b[1;32m    733\u001b[0m \u001b[0;34m\u001b[0m\u001b[0m\n\u001b[1;32m    734\u001b[0m         \u001b[0;31m# We could not login successfully.  Return result of last attempt.\u001b[0m\u001b[0;34m\u001b[0m\u001b[0;34m\u001b[0m\u001b[0;34m\u001b[0m\u001b[0m\n\u001b[0;32m--> 735\u001b[0;31m         \u001b[0;32mraise\u001b[0m \u001b[0mlast_exception\u001b[0m\u001b[0;34m\u001b[0m\u001b[0;34m\u001b[0m\u001b[0m\n\u001b[0m\u001b[1;32m    736\u001b[0m \u001b[0;34m\u001b[0m\u001b[0m\n\u001b[1;32m    737\u001b[0m     \u001b[0;32mdef\u001b[0m \u001b[0mstarttls\u001b[0m\u001b[0;34m(\u001b[0m\u001b[0mself\u001b[0m\u001b[0;34m,\u001b[0m \u001b[0mkeyfile\u001b[0m\u001b[0;34m=\u001b[0m\u001b[0;32mNone\u001b[0m\u001b[0;34m,\u001b[0m \u001b[0mcertfile\u001b[0m\u001b[0;34m=\u001b[0m\u001b[0;32mNone\u001b[0m\u001b[0;34m,\u001b[0m \u001b[0mcontext\u001b[0m\u001b[0;34m=\u001b[0m\u001b[0;32mNone\u001b[0m\u001b[0;34m)\u001b[0m\u001b[0;34m:\u001b[0m\u001b[0;34m\u001b[0m\u001b[0;34m\u001b[0m\u001b[0m\n",
            "\u001b[0;32m/usr/lib/python3.7/smtplib.py\u001b[0m in \u001b[0;36mlogin\u001b[0;34m(self, user, password, initial_response_ok)\u001b[0m\n\u001b[1;32m    724\u001b[0m                 (code, resp) = self.auth(\n\u001b[1;32m    725\u001b[0m                     \u001b[0mauthmethod\u001b[0m\u001b[0;34m,\u001b[0m \u001b[0mgetattr\u001b[0m\u001b[0;34m(\u001b[0m\u001b[0mself\u001b[0m\u001b[0;34m,\u001b[0m \u001b[0mmethod_name\u001b[0m\u001b[0;34m)\u001b[0m\u001b[0;34m,\u001b[0m\u001b[0;34m\u001b[0m\u001b[0;34m\u001b[0m\u001b[0m\n\u001b[0;32m--> 726\u001b[0;31m                     initial_response_ok=initial_response_ok)\n\u001b[0m\u001b[1;32m    727\u001b[0m                 \u001b[0;31m# 235 == 'Authentication successful'\u001b[0m\u001b[0;34m\u001b[0m\u001b[0;34m\u001b[0m\u001b[0;34m\u001b[0m\u001b[0m\n\u001b[1;32m    728\u001b[0m                 \u001b[0;31m# 503 == 'Error: already authenticated'\u001b[0m\u001b[0;34m\u001b[0m\u001b[0;34m\u001b[0m\u001b[0;34m\u001b[0m\u001b[0m\n",
            "\u001b[0;32m/usr/lib/python3.7/smtplib.py\u001b[0m in \u001b[0;36mauth\u001b[0;34m(self, mechanism, authobject, initial_response_ok)\u001b[0m\n\u001b[1;32m    645\u001b[0m         \u001b[0;32mif\u001b[0m \u001b[0mcode\u001b[0m \u001b[0;32min\u001b[0m \u001b[0;34m(\u001b[0m\u001b[0;36m235\u001b[0m\u001b[0;34m,\u001b[0m \u001b[0;36m503\u001b[0m\u001b[0;34m)\u001b[0m\u001b[0;34m:\u001b[0m\u001b[0;34m\u001b[0m\u001b[0;34m\u001b[0m\u001b[0m\n\u001b[1;32m    646\u001b[0m             \u001b[0;32mreturn\u001b[0m \u001b[0;34m(\u001b[0m\u001b[0mcode\u001b[0m\u001b[0;34m,\u001b[0m \u001b[0mresp\u001b[0m\u001b[0;34m)\u001b[0m\u001b[0;34m\u001b[0m\u001b[0;34m\u001b[0m\u001b[0m\n\u001b[0;32m--> 647\u001b[0;31m         \u001b[0;32mraise\u001b[0m \u001b[0mSMTPAuthenticationError\u001b[0m\u001b[0;34m(\u001b[0m\u001b[0mcode\u001b[0m\u001b[0;34m,\u001b[0m \u001b[0mresp\u001b[0m\u001b[0;34m)\u001b[0m\u001b[0;34m\u001b[0m\u001b[0;34m\u001b[0m\u001b[0m\n\u001b[0m\u001b[1;32m    648\u001b[0m \u001b[0;34m\u001b[0m\u001b[0m\n\u001b[1;32m    649\u001b[0m     \u001b[0;32mdef\u001b[0m \u001b[0mauth_cram_md5\u001b[0m\u001b[0;34m(\u001b[0m\u001b[0mself\u001b[0m\u001b[0;34m,\u001b[0m \u001b[0mchallenge\u001b[0m\u001b[0;34m=\u001b[0m\u001b[0;32mNone\u001b[0m\u001b[0;34m)\u001b[0m\u001b[0;34m:\u001b[0m\u001b[0;34m\u001b[0m\u001b[0;34m\u001b[0m\u001b[0m\n",
            "\u001b[0;31mSMTPAuthenticationError\u001b[0m: (534, b'5.7.9 Application-specific password required. Learn more at\\n5.7.9  https://support.google.com/mail/?p=InvalidSecondFactor mq10sm200743pjb.3 - gsmtp')"
          ]
        }
      ]
    },
    {
      "cell_type": "code",
      "source": [
        "## python da git le calisma\n",
        "# https://www.youtube.com/watch?v=8eR9H-s0ou4"
      ],
      "metadata": {
        "id": "2_okp-O2R6V7"
      },
      "execution_count": null,
      "outputs": []
    },
    {
      "cell_type": "code",
      "source": [
        "## Python'da zamanlayıcı kullanıp istenen bir saatte istenen sayıda kişiye de mail atabiliriz"
      ],
      "metadata": {
        "id": "Z0dTVqqRR6aS"
      },
      "execution_count": null,
      "outputs": []
    },
    {
      "cell_type": "code",
      "source": [
        ""
      ],
      "metadata": {
        "id": "gLOeg-cdR6c2"
      },
      "execution_count": null,
      "outputs": []
    },
    {
      "cell_type": "code",
      "source": [
        ""
      ],
      "metadata": {
        "id": "jGlABrioRLs7"
      },
      "execution_count": null,
      "outputs": []
    }
  ]
}