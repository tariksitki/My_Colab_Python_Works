{
  "nbformat": 4,
  "nbformat_minor": 0,
  "metadata": {
    "colab": {
      "name": "Number_Converter.ipynb",
      "provenance": [],
      "collapsed_sections": [],
      "authorship_tag": "ABX9TyOBhpQEpt2EB+BsEiqITjAu",
      "include_colab_link": true
    },
    "kernelspec": {
      "name": "python3",
      "display_name": "Python 3"
    },
    "language_info": {
      "name": "python"
    }
  },
  "cells": [
    {
      "cell_type": "markdown",
      "metadata": {
        "id": "view-in-github",
        "colab_type": "text"
      },
      "source": [
        "<a href=\"https://colab.research.google.com/github/tariksitki/My_Colab_Python_Works/blob/main/Number_Converter.ipynb\" target=\"_parent\"><img src=\"https://colab.research.google.com/assets/colab-badge.svg\" alt=\"Open In Colab\"/></a>"
      ]
    },
    {
      "cell_type": "code",
      "execution_count": null,
      "metadata": {
        "id": "i24Oua4O8Nt9"
      },
      "outputs": [],
      "source": [
        "  ## Convert a Decimal Number to Binary"
      ]
    },
    {
      "cell_type": "code",
      "source": [
        "decimal = int(input(\"Please Enter a Decimal Number to \"))\n",
        "\n",
        "def Converter (decimal):\n",
        "  remainder = \"\"\n",
        "  while (decimal > 1):\n",
        "    remainder += str(int(decimal % 2))\n",
        "    decimal = decimal // 2\n",
        "  result = remainder + str(int(decimal))\n",
        "  return result[::-1]\n",
        "  \n",
        "print(Converter(decimal))"
      ],
      "metadata": {
        "colab": {
          "base_uri": "https://localhost:8080/"
        },
        "id": "Uo1YQ5OC8RIZ",
        "outputId": "304cf37b-51af-471b-a69b-6fa67fe6642b"
      },
      "execution_count": 23,
      "outputs": [
        {
          "output_type": "stream",
          "name": "stdout",
          "text": [
            "Please Enter a Decimal Number to 92\n",
            "1011100\n"
          ]
        }
      ]
    },
    {
      "cell_type": "code",
      "source": [
        "## Converting Binary to Decimal"
      ],
      "metadata": {
        "id": "54sGhzjj8ROp"
      },
      "execution_count": null,
      "outputs": []
    },
    {
      "cell_type": "code",
      "source": [
        "def Convertor2 ():\n",
        "  binary = input(\"Please Enter a Binary Number\")\n",
        "  result = 0\n",
        "  for i in range(len(binary)):\n",
        "    result += int(binary[i]) * (2 ** (len(binary)-i-1))\n",
        "  return result\n",
        "Convertor2()"
      ],
      "metadata": {
        "colab": {
          "base_uri": "https://localhost:8080/"
        },
        "id": "0xQBra4O8RTJ",
        "outputId": "8f6f5711-344b-4504-dd17-d4efb80169c9"
      },
      "execution_count": 33,
      "outputs": [
        {
          "name": "stdout",
          "output_type": "stream",
          "text": [
            "Please Enter a Binary Number110111\n"
          ]
        },
        {
          "output_type": "execute_result",
          "data": {
            "text/plain": [
              "55"
            ]
          },
          "metadata": {},
          "execution_count": 33
        }
      ]
    }
  ]
}