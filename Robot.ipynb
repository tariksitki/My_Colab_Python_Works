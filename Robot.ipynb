{
  "nbformat": 4,
  "nbformat_minor": 0,
  "metadata": {
    "colab": {
      "name": "Robot.ipynb",
      "provenance": [],
      "authorship_tag": "ABX9TyN0lKVPQzQxNPFiVXlHKRkS",
      "include_colab_link": true
    },
    "kernelspec": {
      "name": "python3",
      "display_name": "Python 3"
    },
    "language_info": {
      "name": "python"
    }
  },
  "cells": [
    {
      "cell_type": "markdown",
      "metadata": {
        "id": "view-in-github",
        "colab_type": "text"
      },
      "source": [
        "<a href=\"https://colab.research.google.com/github/tariksitki/My_Colab_Python_Works/blob/main/Robot.ipynb\" target=\"_parent\"><img src=\"https://colab.research.google.com/assets/colab-badge.svg\" alt=\"Open In Colab\"/></a>"
      ]
    },
    {
      "cell_type": "code",
      "execution_count": 2,
      "metadata": {
        "colab": {
          "base_uri": "https://localhost:8080/"
        },
        "id": "aK9-59vMa6ZV",
        "outputId": "01083183-d88a-4174-bc01-bb8e8f76152f"
      },
      "outputs": [
        {
          "output_type": "execute_result",
          "data": {
            "text/plain": [
              "['right 20', 'right 30', 'left 50', 'up 10', 'down 20']"
            ]
          },
          "metadata": {},
          "execution_count": 2
        }
      ],
      "source": [
        "command = [\"right 20\", \"right 30\", \"left 50\", \"up 10\", \"down 20\"]\n",
        "\n",
        "command"
      ]
    },
    {
      "cell_type": "code",
      "source": [
        "command = [\"right 20\", \"right 30\", \"left 50\", \"up 10\", \"down 20\"]\n",
        "commandnew = list(map(str, command.split()))\n",
        "print(commandnew)\n",
        "right = 0\n",
        "left = 0\n",
        "up = 0\n",
        "down = 0\n",
        "\n",
        "for i in command:\n",
        "  if i[0] == \"right\":\n",
        "    right.append(i[1])\n",
        "  elif i[0] == \"left\":\n",
        "    left.append(i[1])\n",
        "  elif i[0] == \"up\":\n",
        "    up.append(i[1])\n",
        "  elif i[0] == \"down\":\n",
        "    down.append(i[1])\n",
        "print(right, left, up, down)"
      ],
      "metadata": {
        "colab": {
          "base_uri": "https://localhost:8080/",
          "height": 240
        },
        "id": "yAjMkv2Ta-k4",
        "outputId": "8ec1b012-71dc-4c1e-8f7d-8666efad1480"
      },
      "execution_count": 5,
      "outputs": [
        {
          "output_type": "error",
          "ename": "AttributeError",
          "evalue": "ignored",
          "traceback": [
            "\u001b[0;31m---------------------------------------------------------------------------\u001b[0m",
            "\u001b[0;31mAttributeError\u001b[0m                            Traceback (most recent call last)",
            "\u001b[0;32m<ipython-input-5-d022985871da>\u001b[0m in \u001b[0;36m<module>\u001b[0;34m()\u001b[0m\n\u001b[1;32m      1\u001b[0m \u001b[0mcommand\u001b[0m \u001b[0;34m=\u001b[0m \u001b[0;34m[\u001b[0m\u001b[0;34m\"right 20\"\u001b[0m\u001b[0;34m,\u001b[0m \u001b[0;34m\"right 30\"\u001b[0m\u001b[0;34m,\u001b[0m \u001b[0;34m\"left 50\"\u001b[0m\u001b[0;34m,\u001b[0m \u001b[0;34m\"up 10\"\u001b[0m\u001b[0;34m,\u001b[0m \u001b[0;34m\"down 20\"\u001b[0m\u001b[0;34m]\u001b[0m\u001b[0;34m\u001b[0m\u001b[0;34m\u001b[0m\u001b[0m\n\u001b[0;32m----> 2\u001b[0;31m \u001b[0mcommandnew\u001b[0m \u001b[0;34m=\u001b[0m \u001b[0mlist\u001b[0m\u001b[0;34m(\u001b[0m\u001b[0mmap\u001b[0m\u001b[0;34m(\u001b[0m\u001b[0mstr\u001b[0m\u001b[0;34m,\u001b[0m \u001b[0mcommand\u001b[0m\u001b[0;34m.\u001b[0m\u001b[0msplit\u001b[0m\u001b[0;34m(\u001b[0m\u001b[0;34m)\u001b[0m\u001b[0;34m)\u001b[0m\u001b[0;34m)\u001b[0m\u001b[0;34m\u001b[0m\u001b[0;34m\u001b[0m\u001b[0m\n\u001b[0m\u001b[1;32m      3\u001b[0m \u001b[0mprint\u001b[0m\u001b[0;34m(\u001b[0m\u001b[0mcommandnew\u001b[0m\u001b[0;34m)\u001b[0m\u001b[0;34m\u001b[0m\u001b[0;34m\u001b[0m\u001b[0m\n\u001b[1;32m      4\u001b[0m \u001b[0mright\u001b[0m \u001b[0;34m=\u001b[0m \u001b[0;36m0\u001b[0m\u001b[0;34m\u001b[0m\u001b[0;34m\u001b[0m\u001b[0m\n\u001b[1;32m      5\u001b[0m \u001b[0mleft\u001b[0m \u001b[0;34m=\u001b[0m \u001b[0;36m0\u001b[0m\u001b[0;34m\u001b[0m\u001b[0;34m\u001b[0m\u001b[0m\n",
            "\u001b[0;31mAttributeError\u001b[0m: 'list' object has no attribute 'split'"
          ]
        }
      ]
    },
    {
      "cell_type": "code",
      "source": [
        "command = [\"right 20\", \"right 30\", \"left 50\", \"up 10\", \"down 20\"]\n",
        "x = y = 0\n",
        "\n",
        "for i in range(len(command)):\n",
        "  if command[i].startswith(\"r\"): x = x + int(command[i].split()[1])\n",
        "  elif command[i].startswith(\"l\"): x = x - int(command[i].split()[1])\n",
        "  elif command[i].startswith(\"u\"): y = y + int(command[i].split()[1])\n",
        "  elif command[i].startswith(\"d\"): y = y - int(command[i].split()[1])\n",
        "\n",
        "print(x, y)"
      ],
      "metadata": {
        "colab": {
          "base_uri": "https://localhost:8080/"
        },
        "id": "nmI52DkKa-m6",
        "outputId": "4fa68b67-db52-4adf-f91a-860db3b9e74d"
      },
      "execution_count": 7,
      "outputs": [
        {
          "output_type": "stream",
          "name": "stdout",
          "text": [
            "0 -10\n"
          ]
        }
      ]
    },
    {
      "cell_type": "code",
      "source": [
        "x = \"[([{({})}]({}))\"\n",
        "\n",
        "\"ali-veli-deli\".replace(\"-\", \"+\")"
      ],
      "metadata": {
        "colab": {
          "base_uri": "https://localhost:8080/",
          "height": 36
        },
        "id": "TQBPqI5za-o8",
        "outputId": "832baa48-a014-41ca-ea08-95c097d54d07"
      },
      "execution_count": 8,
      "outputs": [
        {
          "output_type": "execute_result",
          "data": {
            "application/vnd.google.colaboratory.intrinsic+json": {
              "type": "string"
            },
            "text/plain": [
              "'ali+veli+deli'"
            ]
          },
          "metadata": {},
          "execution_count": 8
        }
      ]
    },
    {
      "cell_type": "code",
      "source": [
        "def isValid(s):\n",
        "  while \"()\" in s or \"[]\" in s or \"{}\" in s:\n",
        "    s = s.replace(\"()\", \"\").replace(\"[]\", \"\").replace(\"{}\", \"\")\n",
        "  return s == \"\"\n",
        "print(isValid(\"([{({})}]({}))\"))"
      ],
      "metadata": {
        "colab": {
          "base_uri": "https://localhost:8080/"
        },
        "id": "BFjIJ0efa-q_",
        "outputId": "bbd1dbc3-8e50-4a73-e119-b725c278d4f9"
      },
      "execution_count": 16,
      "outputs": [
        {
          "output_type": "stream",
          "name": "stdout",
          "text": [
            "True\n"
          ]
        }
      ]
    },
    {
      "cell_type": "code",
      "source": [
        ""
      ],
      "metadata": {
        "id": "lVm6ocXtoCIr"
      },
      "execution_count": null,
      "outputs": []
    },
    {
      "cell_type": "code",
      "source": [
        "def valid(s):\n",
        "  while \"[]\" in s or \"()\" in s or \"{}\" in s:\n",
        "    s = s.replace(\"[]\", \"\").replace(\"{}\", \"\").replace(\"()\", \"\")\n",
        "  return s == \"\"\n",
        "  "
      ],
      "metadata": {
        "id": "zs951jsFoCL3"
      },
      "execution_count": null,
      "outputs": []
    },
    {
      "cell_type": "code",
      "source": [
        "(lambda x, y : x + y)(4, 5)\n",
        "\n",
        "dictim = {\"ne_diyorum\" : \"sesimi_duy\", \n",
        "          \"neden\" : ['bilmiyorum']}\n",
        "dictim[\"neden\"]\n",
        "\n",
        "calculator = {\"+\" : (lambda x, y : x + y),\n",
        "              \"-\" : (lambda x, y : x - y),\n",
        "              \"*\" : (lambda x, y : x * y),\n",
        "              \"/\" : (lambda x, y : x / y)}\n",
        "calculator[\"+\"](4, 5)"
      ],
      "metadata": {
        "colab": {
          "base_uri": "https://localhost:8080/"
        },
        "id": "BoCeJzPNoCPJ",
        "outputId": "74efa9c1-b86d-45e4-de16-ce85a2a85f09"
      },
      "execution_count": 22,
      "outputs": [
        {
          "output_type": "execute_result",
          "data": {
            "text/plain": [
              "9"
            ]
          },
          "metadata": {},
          "execution_count": 22
        }
      ]
    },
    {
      "cell_type": "code",
      "source": [
        "calculator = {\"+\" : (lambda x, y : x + y), \n",
        "              \"-\" : (lambda x, y : x - y),\n",
        "              \"*\" : (lambda x, y : x * y),\n",
        "              \"/\" : (lambda x, y : x / y)}\n",
        "\n",
        "print(calculator[\"+\"](10, 2))\n",
        "print(calculator[\"-\"](10, 2))\n",
        "print(calculator[\"*\"](10, 2))\n",
        "print(calculator[\"/\"](10, 2))"
      ],
      "metadata": {
        "colab": {
          "base_uri": "https://localhost:8080/"
        },
        "id": "4rkanIjqoCSK",
        "outputId": "74f2947f-1701-4e2c-e530-8f852bf5e6d9"
      },
      "execution_count": 24,
      "outputs": [
        {
          "output_type": "stream",
          "name": "stdout",
          "text": [
            "12\n",
            "8\n",
            "20\n",
            "5.0\n"
          ]
        }
      ]
    },
    {
      "cell_type": "code",
      "source": [
        "import random\n",
        "a = random.randint(97, 122)\n",
        "\n",
        "chr(random.randint(65, 90))\n",
        "chr(random.randint(97, 122))\n",
        "chr(random.randint(48, 57))\n",
        "chr(random.randint(33, 47))\n",
        "chr(random.randint(58, 64))\n",
        "\n",
        "uppers = [ chr(random.randint(65, 90)) for i in range(3)]\n",
        "\n",
        "lowers = [ chr(random.randint(97, 122)) for i in range(3)]\n",
        "\n",
        "numbers = [ chr(random.randint(48, 57)) for i in range(3)]\n",
        "\n",
        "chars = [ chr(random.randint(33, 47)) for i in range(3)]\n",
        "\n",
        "password = \"\".join(uppers + lowers + numbers + chars)\n",
        "\n",
        "def shuffel(password):\n",
        "  templist = list(password)\n",
        "  random.shuffle(templist)\n",
        "  return \"\".join(templist)\n",
        "\n",
        "password = shuffel(password)\n",
        "password"
      ],
      "metadata": {
        "colab": {
          "base_uri": "https://localhost:8080/",
          "height": 36
        },
        "id": "7nLIQ-n-rz71",
        "outputId": "dbfbcd07-1d27-44c1-ab57-e94d1c0ea50c"
      },
      "execution_count": 101,
      "outputs": [
        {
          "output_type": "execute_result",
          "data": {
            "application/vnd.google.colaboratory.intrinsic+json": {
              "type": "string"
            },
            "text/plain": [
              "'7\\'QKg0eg*\"U9'"
            ]
          },
          "metadata": {},
          "execution_count": 101
        }
      ]
    },
    {
      "cell_type": "code",
      "source": [
        "örnek = \"alivelideli\"\n",
        "new = list(örnek)\n",
        "random.shuffle(new)\n",
        "print(\"\".join(new))"
      ],
      "metadata": {
        "colab": {
          "base_uri": "https://localhost:8080/"
        },
        "id": "Vx6znLtarz-E",
        "outputId": "4deb8d23-bd86-4eeb-ccda-4c50c37116d4"
      },
      "execution_count": 94,
      "outputs": [
        {
          "output_type": "stream",
          "name": "stdout",
          "text": [
            "iviilledlea\n"
          ]
        }
      ]
    },
    {
      "cell_type": "code",
      "source": [
        "#  random modülü içinde bulunan shuffle() adlı başka bir fonksiyon, bir dizi içindeki öğelerin sırasını rastgele bir şekilde karıştırmamızı sağlar. Mesela liste öğelerini yine aynı liste içinde değiştirir."
      ],
      "metadata": {
        "id": "4c_nUuw6rz_6"
      },
      "execution_count": null,
      "outputs": []
    },
    {
      "cell_type": "code",
      "source": [
        ""
      ],
      "metadata": {
        "id": "wzzbRnQZoCUx"
      },
      "execution_count": null,
      "outputs": []
    },
    {
      "cell_type": "code",
      "source": [
        ""
      ],
      "metadata": {
        "id": "IzkHy2uKa-su"
      },
      "execution_count": null,
      "outputs": []
    },
    {
      "cell_type": "code",
      "source": [
        ""
      ],
      "metadata": {
        "id": "3Nw8g-TWa-vA"
      },
      "execution_count": null,
      "outputs": []
    },
    {
      "cell_type": "code",
      "source": [
        ""
      ],
      "metadata": {
        "id": "NwN73WyWa-wm"
      },
      "execution_count": null,
      "outputs": []
    }
  ]
}