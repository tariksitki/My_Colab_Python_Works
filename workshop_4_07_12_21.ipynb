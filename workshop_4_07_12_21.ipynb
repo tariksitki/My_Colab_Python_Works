{
  "nbformat": 4,
  "nbformat_minor": 0,
  "metadata": {
    "kernelspec": {
      "display_name": "Python 3",
      "language": "python",
      "name": "python3"
    },
    "language_info": {
      "codemirror_mode": {
        "name": "ipython",
        "version": 3
      },
      "file_extension": ".py",
      "mimetype": "text/x-python",
      "name": "python",
      "nbconvert_exporter": "python",
      "pygments_lexer": "ipython3",
      "version": "3.7.3"
    },
    "colab": {
      "name": "workshop-4_07.12.21.ipynb",
      "provenance": [],
      "include_colab_link": true
    }
  },
  "cells": [
    {
      "cell_type": "markdown",
      "metadata": {
        "id": "view-in-github",
        "colab_type": "text"
      },
      "source": [
        "<a href=\"https://colab.research.google.com/github/tariksitki/My_Colab_Python_Works/blob/main/workshop_4_07_12_21.ipynb\" target=\"_parent\"><img src=\"https://colab.research.google.com/assets/colab-badge.svg\" alt=\"Open In Colab\"/></a>"
      ]
    },
    {
      "cell_type": "markdown",
      "metadata": {
        "id": "pAoJOmodAg0I"
      },
      "source": [
        "<center><img src=\"https://github.com/aaron-clarusway/fullstack/blob/master/itf-logo.png?raw=true\"  alt=\"alt text\" width=\"200\"/></center>\n",
        "<br>\n",
        "<h1><p style=\"text-align: center; color:darkblue\">Python Basic & Plus</p><h1>\n",
        "<center><h1>Workshop - 4</h1></center>\n",
        "<p><img align=\"right\"\n",
        "  src=\"https://secure.meetupstatic.com/photos/event/3/1/b/9/600_488352729.jpeg\"  width=\"15px\"></p>\n",
        "<br>\n",
        "\n",
        "\n",
        "# Subject: Collections - Control Flow Statements - Functions"
      ]
    },
    {
      "cell_type": "markdown",
      "metadata": {
        "id": "uC_FCd27Ag0S"
      },
      "source": [
        "## Coding Challenge -1 : Palindrome\n",
        "\n",
        "Purpose of the this coding challenge is to solve a control flow statements issue.\n",
        "\n",
        "### Learning Outcomes\n",
        "\n",
        "At the end of the this coding challenge, students will be able to;\n",
        "\n",
        "- understand the use of loops.\n",
        "- understand the importance of alphanumeric string methods.\n",
        "- get a better understanding in manipulating strings.\n",
        "\n",
        "### Problem Statement\n",
        "  \n",
        "- Write a function/functions that checks whether the sentence you get from the user is a **palindrome**. (Do not consider punctuation and special characters. Only consider \"***alphanumeric***\" characters.)\n",
        "\n",
        "\n",
        "```bash\n",
        "input : \"ey edip adana'da, pide ye!\"\n",
        "\n",
        "output : \"ey edip adana'da, pide ye!\" is a palindrome\n",
        "\n",
        "input : \"Was it a car or a cat I saw?\"\n",
        "\n",
        "output : \"Was it a car or a cat I saw?\" is a palindrome\n",
        "```"
      ]
    },
    {
      "cell_type": "code",
      "metadata": {
        "colab": {
          "base_uri": "https://localhost:8080/"
        },
        "id": "mzPyMsLgRXPT",
        "outputId": "a22f05cd-73b7-4442-ecf8-3980782dc20f"
      },
      "source": [
        "def check():\n",
        "  x = input(\"Lütfen bir cümle giriniz: \")\n",
        "  bos = \"\"\n",
        "  liste = list(map(str, x.split()))\n",
        "  for i in liste:\n",
        "    bos += i\n",
        "  if bos == bos[::-1]:  ## burada reversed kullanamiyoruz. reversed ketum bir func\n",
        "    return print(bos, \"==>> Bu bir palindrome cümledir\")\n",
        "  else:\n",
        "    return print(bos, \"==>> Bu bir palindrome cümle degildir\")\n",
        "\n",
        "check()\n"
      ],
      "execution_count": 14,
      "outputs": [
        {
          "output_type": "stream",
          "name": "stdout",
          "text": [
            "Lütfen bir cümle giriniz: ben sen o\n",
            "benseno ==>> Bu bir palindrome cümle degildir\n"
          ]
        }
      ]
    },
    {
      "cell_type": "markdown",
      "metadata": {
        "id": "g10M-fQaAg0W"
      },
      "source": [
        "### Solution :"
      ]
    },
    {
      "cell_type": "code",
      "metadata": {
        "id": "-uNA-QhdAg0Z"
      },
      "source": [
        ""
      ],
      "execution_count": 11,
      "outputs": []
    },
    {
      "cell_type": "markdown",
      "metadata": {
        "id": "tqGGXtwBAg0c"
      },
      "source": [
        "## Coding Challenge - 2: Sudoku Format Converter&Printer\n",
        "\n",
        "The purpose of this coding challenge is to write a program that prints the given lists as sudoku looking format.\n",
        "\n",
        "### Learning Outcomes\n",
        "\n",
        "At the end of this coding challenge, students will be able to;\n",
        "\n",
        "- analyze a problem, identify, and apply programming knowledge for appropriate solution.\n",
        "\n",
        "- design, implement `arithmetic operators` and nested loops effectively in Python to solve the given problem.\n",
        "\n",
        "- demonstrate their knowledge of algorithmic design principles by solving the problem effectively.\n",
        "\n",
        "### Problem Statement\n",
        "\n",
        "<div class=\"alert alert-block alert-info\">\n",
        "    <b>💡Objective:</b>\n",
        "    <ul>\n",
        "        <li>To improve your <b>control flow statement</b> skills.</li>\n",
        "    </ul>\n",
        "</div>\n",
        "\n",
        "<hr>\n",
        "<p><b>Task:</b> The department you work for has received a project that displays the solved sudoku puzzles in a digital environment.&nbsp;</p>\n",
        "<p></p>\n",
        "<p></p>\n",
        "<ul>\n",
        "    <li>Write a Python code to print out the given <code>sudoku</code> puzzle matrix in the following format.</li>\n",
        "</ul>\n",
        "<b>Given format :</b><br>\n",
        "<ol>\n",
        "</ol>\n",
        "<p>\n",
        "</p>\n",
        "<div>\n",
        "    <pre>sudoku&nbsp;=&nbsp;[<br>&nbsp;&nbsp;&nbsp;&nbsp;[0,&nbsp;0,&nbsp;0,&nbsp;0,&nbsp;6,&nbsp;4,&nbsp;0,&nbsp;0,&nbsp;0],<br>&nbsp;&nbsp;&nbsp;&nbsp;[7,&nbsp;0,&nbsp;0,&nbsp;0,&nbsp;0,&nbsp;0,&nbsp;3,&nbsp;9,&nbsp;0],<br>&nbsp;&nbsp;&nbsp;&nbsp;[8,&nbsp;0,&nbsp;0,&nbsp;0,&nbsp;0,&nbsp;0,&nbsp;0,&nbsp;0,&nbsp;0],<br>&nbsp;&nbsp;&nbsp;&nbsp;[0,&nbsp;0,&nbsp;0,&nbsp;5,&nbsp;0,&nbsp;2,&nbsp;0,&nbsp;6,&nbsp;0],<br>&nbsp;&nbsp;&nbsp;&nbsp;[0,&nbsp;8,&nbsp;0,&nbsp;4,&nbsp;0,&nbsp;0,&nbsp;0,&nbsp;0,&nbsp;0],<br>&nbsp;&nbsp;&nbsp;&nbsp;[3,&nbsp;5,&nbsp;0,&nbsp;6,&nbsp;0,&nbsp;0,&nbsp;0,&nbsp;7,&nbsp;0],<br>&nbsp;&nbsp;&nbsp;&nbsp;[0,&nbsp;0,&nbsp;2,&nbsp;0,&nbsp;0,&nbsp;0,&nbsp;1,&nbsp;0,&nbsp;3],<br>&nbsp;&nbsp;&nbsp;&nbsp;[0,&nbsp;0,&nbsp;1,&nbsp;0,&nbsp;5,&nbsp;9,&nbsp;0,&nbsp;0,&nbsp;0],<br>&nbsp;&nbsp;&nbsp;&nbsp;[0,&nbsp;0,&nbsp;0,&nbsp;0,&nbsp;0,&nbsp;0,&nbsp;7,&nbsp;0,&nbsp;0]<br>]</pre>\n",
        "    <div>\n",
        "        <b>Desired output format :</b><br>\n",
        "        <ol>\n",
        "        </ol>\n",
        "    </div>\n",
        "    <pre>- - - - - - - - - - - - - - - \n",
        "0  0  0  | 0  6  4  | 0  0  0  \n",
        "7  0  0  | 0  0  0  | 3  9  0  \n",
        "8  0  0  | 0  0  0  | 0  0  0  \n",
        "- - - - - - - - - - - - - - - \n",
        "0  0  0  | 5  0  2  | 0  6  0  \n",
        "0  8  0  | 4  0  0  | 0  0  0  \n",
        "3  5  0  | 6  0  0  | 0  7  0  \n",
        "- - - - - - - - - - - - - - - \n",
        "0  0  2  | 0  0  0  | 1  0  3  \n",
        "0  0  1  | 0  5  9  | 0  0  0  \n",
        "0  0  0  | 0  0  0  | 7  0  0  \n",
        "- - - - - - - - - - - - - - -</pre>\n",
        "</div><br>\n",
        "<p></p>\n",
        "<p></p>\n",
        "<hr>\n",
        "<p><i><b>Note that</b>; <br></i></p>\n",
        "<ul>\n",
        "    <li><i><i>Use not more than \"<b>control flow statement and boolean logic operators</b>\" in solving this code problem. </i></i>\n",
        "    </li>\n",
        "    <li><i><i>The output which we expect from you is only a new output format above. </i></i>\n",
        "    </li>\n",
        "    <li><i><i>We don't expect a sudoku puzzle solver from you.</i></i>\n",
        "    </li>\n",
        "</ul>\n",
        "<p></p>"
      ]
    },
    {
      "cell_type": "code",
      "metadata": {
        "id": "UIAxaLYIWNfc"
      },
      "source": [
        "sudoku = [\n",
        "    [0, 0, 0, 0, 6, 4, 0, 0, 0],\n",
        "    [7, 0, 0, 0, 0, 0, 3, 9, 0],\n",
        "    [8, 0, 0, 0, 0, 0, 0, 0, 0],\n",
        "    [0, 0, 0, 5, 0, 2, 0, 6, 0],\n",
        "    [0, 8, 0, 4, 0, 0, 0, 0, 0],\n",
        "    [3, 5, 0, 6, 0, 0, 0, 7, 0],\n",
        "    [0, 0, 2, 0, 0, 0, 1, 0, 3],\n",
        "    [0, 0, 1, 0, 5, 9, 0, 0, 0],\n",
        "    [0, 0, 0, 0, 0, 0, 7, 0, 0]\n",
        "]\n"
      ],
      "execution_count": 53,
      "outputs": []
    },
    {
      "cell_type": "code",
      "metadata": {
        "colab": {
          "base_uri": "https://localhost:8080/"
        },
        "id": "jdc6s8SFuMpo",
        "outputId": "f3b354e7-af36-429e-a985-da76d7a4f499"
      },
      "source": [
        "print(\"- - - - - - - - - - - - - - -\")\n",
        "count = 0\n",
        "\n",
        "for i in sudoku:\n",
        "  for j in range(9):\n",
        "    print(i[j], \" \", end = \"\")\n",
        "    if j == 8:\n",
        "      print()\n",
        "      count += 1\n",
        "      if count % 3 == 0 and count != 0:\n",
        "        print(\"- - - - - - - - - - - - - - -\")\n",
        "    if (j + 1) % 3 == 0 and j != 0 and j != 8:\n",
        "      print(\"| \", end = \"\")"
      ],
      "execution_count": 74,
      "outputs": [
        {
          "output_type": "stream",
          "name": "stdout",
          "text": [
            "- - - - - - - - - - - - - - -\n",
            "0  0  0  | 0  6  4  | 0  0  0  \n",
            "7  0  0  | 0  0  0  | 3  9  0  \n",
            "8  0  0  | 0  0  0  | 0  0  0  \n",
            "- - - - - - - - - - - - - - -\n",
            "0  0  0  | 5  0  2  | 0  6  0  \n",
            "0  8  0  | 4  0  0  | 0  0  0  \n",
            "3  5  0  | 6  0  0  | 0  7  0  \n",
            "- - - - - - - - - - - - - - -\n",
            "0  0  2  | 0  0  0  | 1  0  3  \n",
            "0  0  1  | 0  5  9  | 0  0  0  \n",
            "0  0  0  | 0  0  0  | 7  0  0  \n",
            "- - - - - - - - - - - - - - -\n"
          ]
        }
      ]
    },
    {
      "cell_type": "code",
      "metadata": {
        "colab": {
          "base_uri": "https://localhost:8080/"
        },
        "id": "QTX9qio_WLbn",
        "outputId": "fdb02b3b-bd1c-4346-9d57-fd8c036d4070"
      },
      "source": [
        "\n",
        "anasayac = 0\n",
        "altsayac = 0\n",
        "bosliste = []\n",
        "for i in range(13):\n",
        "  if anasayac == 0 or anasayac == 4 or anasayac == 8 or anasayac == 12:\n",
        "    print(15 * \"- \")\n",
        "  else:\n",
        "    for i in sudoku:\n",
        "      for j in i:\n",
        "        if altsayac == 2 or altsayac == 5:\n",
        "          j = (str(j) + \" |\")\n",
        "        else:\n",
        "          j = j\n",
        "        altsayac += 1\n",
        "      print(j, end = \" \")\n",
        "        \n",
        "  anasayac += 1\n"
      ],
      "execution_count": 40,
      "outputs": [
        {
          "output_type": "stream",
          "name": "stdout",
          "text": [
            "- - - - - - - - - - - - - - - \n",
            "0 0 0 0 0 0 3 0 0 0 0 0 0 0 0 3 0 0 0 0 0 0 0 0 3 0 0 - - - - - - - - - - - - - - - \n",
            "0 0 0 0 0 0 3 0 0 0 0 0 0 0 0 3 0 0 0 0 0 0 0 0 3 0 0 - - - - - - - - - - - - - - - \n",
            "0 0 0 0 0 0 3 0 0 0 0 0 0 0 0 3 0 0 0 0 0 0 0 0 3 0 0 - - - - - - - - - - - - - - - \n"
          ]
        }
      ]
    },
    {
      "cell_type": "code",
      "metadata": {
        "id": "AM6h8WFnWJjD"
      },
      "source": [
        ""
      ],
      "execution_count": 34,
      "outputs": []
    },
    {
      "cell_type": "markdown",
      "metadata": {
        "id": "135CwtFRAg0h"
      },
      "source": [
        "### Solution :"
      ]
    },
    {
      "cell_type": "code",
      "metadata": {
        "id": "Vm3U5dsBAg0j"
      },
      "source": [
        "sudoku = [\n",
        "    [0, 0, 0, 0, 6, 4, 0, 0, 0],\n",
        "    [7, 0, 0, 0, 0, 0, 3, 9, 0],\n",
        "    [8, 0, 0, 0, 0, 0, 0, 0, 0],\n",
        "    [0, 0, 0, 5, 0, 2, 0, 6, 0],\n",
        "    [0, 8, 0, 4, 0, 0, 0, 0, 0],\n",
        "    [3, 5, 0, 6, 0, 0, 0, 7, 0],\n",
        "    [0, 0, 2, 0, 0, 0, 1, 0, 3],\n",
        "    [0, 0, 1, 0, 5, 9, 0, 0, 0],\n",
        "    [0, 0, 0, 0, 0, 0, 7, 0, 0]\n",
        "]"
      ],
      "execution_count": null,
      "outputs": []
    }
  ]
}