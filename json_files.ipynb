{
  "nbformat": 4,
  "nbformat_minor": 0,
  "metadata": {
    "colab": {
      "name": "json_files.ipynb",
      "provenance": [],
      "collapsed_sections": [],
      "authorship_tag": "ABX9TyOyT9uu8yS5mRhutipXEYTy",
      "include_colab_link": true
    },
    "kernelspec": {
      "name": "python3",
      "display_name": "Python 3"
    },
    "language_info": {
      "name": "python"
    }
  },
  "cells": [
    {
      "cell_type": "markdown",
      "metadata": {
        "id": "view-in-github",
        "colab_type": "text"
      },
      "source": [
        "<a href=\"https://colab.research.google.com/github/tariksitki/My_Colab_Python_Works/blob/main/json_files.ipynb\" target=\"_parent\"><img src=\"https://colab.research.google.com/assets/colab-badge.svg\" alt=\"Open In Colab\"/></a>"
      ]
    },
    {
      "cell_type": "code",
      "execution_count": null,
      "metadata": {
        "id": "1x90IvI_3TiI"
      },
      "outputs": [],
      "source": [
        "################   json dosyalari"
      ]
    },
    {
      "cell_type": "code",
      "source": [
        "# json dosyasi aslinda bir text dosyasi gibidir\n",
        "# tek farki; bir kural dizini ile kayit edilmesidir\n",
        "\n",
        "# python, C++, Javascript ve tüm dillerin, json dosyalarini okumak icin \n",
        "# özel kütüphaneleri vardir\n",
        "\n",
        "# python da ise gömülü bir modül olan json modülü kullanilir"
      ],
      "metadata": {
        "id": "JAIO-74XeOw_"
      },
      "execution_count": null,
      "outputs": []
    },
    {
      "cell_type": "code",
      "source": [
        "  "
      ],
      "metadata": {
        "id": "hdjH-ACwexxP"
      },
      "execution_count": null,
      "outputs": []
    },
    {
      "cell_type": "code",
      "source": [
        ""
      ],
      "metadata": {
        "id": "Pv9aabxfex2V"
      },
      "execution_count": null,
      "outputs": []
    },
    {
      "cell_type": "code",
      "source": [
        "## öncelikle normal bir dict tanimlayalim ve \n",
        "# bu dict'in key lerini index leyelim"
      ],
      "metadata": {
        "id": "mxgKUig63YN1"
      },
      "execution_count": null,
      "outputs": []
    },
    {
      "cell_type": "code",
      "source": [
        "person = {\"name\" : \"Ali\", \"languages\" : ['python', 'C#' ]}\n",
        "\n",
        "# result = person[\"name\"]\n",
        "# result = person[\"languages\"]\n",
        "# result = person[\"languages\"][0]\n",
        "\n",
        "print(result)"
      ],
      "metadata": {
        "id": "1fMzPjsx3YQX"
      },
      "execution_count": 1,
      "outputs": []
    },
    {
      "cell_type": "code",
      "source": [
        "## json daki veri tipleri ise burada kullandigimiz \n",
        "# dict'in string halidir\n",
        "# yani su sekildedir\n",
        "\n",
        "person = \"{\"name\" : \"Ali\", \"languages\" : ['python', 'C#' ]}\"\n",
        "\n",
        "# burada dikkat etmemiz gereken sey sudur.\n",
        "# person degiskeni value'su artik bir string olmustur.\n",
        "# bu nedenle bu value'yu artik normal bir dict gibi indexleyemeyiz.\n",
        "\n",
        "# bu nedenle simdi json modülünü import edecegiz ve\n",
        "# kullanima baslayacagiz\n"
      ],
      "metadata": {
        "id": "NeQFp25q3YTQ"
      },
      "execution_count": null,
      "outputs": []
    },
    {
      "cell_type": "code",
      "source": [
        "import json\n",
        "\n",
        "person_string = '{\"name\" : \"Ali\", \"languages\" : [\"python\", \"C#\" ] }'   # Burada disaridaki \"\"  icerideki ' ' olunca calismadi\n",
        "\n",
        "## simdi json dosyasi icerisinde bulunan string value'yu python icersiinde\n",
        "# kullanmak icin bir dönüsüm yapmamiz gerekir\n",
        "\n",
        "result = json.loads(person_string)   # json'in loads methoduna bir tane string gönderdigimizde\n",
        "                                      # bu string'i dict yapar\n",
        "print(result)                         # burada stringi dict'e dönüstürdügümüz icin\n",
        "print(type(result))                   ## load methodu kullanamayiz\n",
        "print(result[\"name\"])"
      ],
      "metadata": {
        "colab": {
          "base_uri": "https://localhost:8080/"
        },
        "id": "74-fL0vP3YWJ",
        "outputId": "23fb60a6-7450-4915-cf5d-2535ef04d465"
      },
      "execution_count": 23,
      "outputs": [
        {
          "output_type": "stream",
          "name": "stdout",
          "text": [
            "{'name': 'Ali', 'languages': ['python', 'C#']}\n",
            "<class 'dict'>\n",
            "Ali\n"
          ]
        }
      ]
    },
    {
      "cell_type": "code",
      "source": [
        "## simdi person_string degiskenine ait value olan string'in\n",
        "# bilgilerini iceren person.json isminde bir dosya olusturalim\n",
        "# ve icerisine su bilgileri yazalim\n",
        "\n",
        "#  '{\"name\" : \"Ali\", \"languages\" : [\"python\", \"C#\" ] }'"
      ],
      "metadata": {
        "id": "oA4LlsRm3YZA"
      },
      "execution_count": null,
      "outputs": []
    },
    {
      "cell_type": "code",
      "source": [
        "import json       ## tüm kod satirlarini yazip sonra calistirirsak\n",
        "                  # modülü import edemiyor. önce import edip daha sonra diger\n",
        "                  # satirlari calistirmamiz gerekir\n",
        "\n",
        "with open('person.json') as f:\n",
        "  data = json.load(f)           # yükleme islemini load methodu ile yapiyoruz \n",
        "  print(data[\"name\"])           # ve yükleme isleminde f objesi olacak\n",
        "                          ## burada yaptigimiz islem sudur:\n",
        "                          # dosyamizin icerisinde bulunan icerikleri data isimli\n",
        "                          # degiskene atadik. ve su andan itibaren data degiskenimiz\n",
        "                          # bizim dosyamizin icerigine sahip bir dosya gibi davranir"
      ],
      "metadata": {
        "colab": {
          "base_uri": "https://localhost:8080/"
        },
        "id": "VkFUO49A3Ybh",
        "outputId": "95c12ff4-7067-488e-c19e-252ddc11a716"
      },
      "execution_count": 7,
      "outputs": [
        {
          "output_type": "stream",
          "name": "stdout",
          "text": [
            "Ali\n"
          ]
        }
      ]
    },
    {
      "cell_type": "code",
      "source": [
        "# simdi elimizde tam tersi olarak\n",
        "# bir dict verisi var\n",
        "\n",
        "## bu veriyi json üzerinden gönderebilmemiz icin\n",
        "# öncelikle json stringine cevirmemiz gerekir.\n",
        "\n",
        "# ve elimizde bir dict oldugu icin bunu stringe cevirmek icin\n",
        "# json.dumps methodu kullanilir\n",
        "\n",
        "person_dict = {\"name\" : \"Ali\", \"languages\" : [\"python\", \"C#\" ] }\n",
        "\n",
        "result = json.dumps(person_dict)\n",
        "print(result)\n",
        "print(type(result))\n",
        "\n",
        "# print(result[name])  artik bu kod calismaz.\n",
        "                      # cünkü verimiz artik bir dict degil string\n",
        "                     \n",
        "\n",
        "## simdi ise person.json dosyamizin icerisine gidiyoruz ve tüm bilgileri siliyoruz\n",
        "\n",
        "# daha sonra burada elimizde bulunan dict'i bu dosya icerisine atiyoruz"
      ],
      "metadata": {
        "colab": {
          "base_uri": "https://localhost:8080/"
        },
        "id": "0usOehZD8H3A",
        "outputId": "dec8df35-c82b-495f-ac46-92a5e00e7c0a"
      },
      "execution_count": 26,
      "outputs": [
        {
          "output_type": "stream",
          "name": "stdout",
          "text": [
            "{\"name\": \"Ali\", \"languages\": [\"python\", \"C#\"]}\n",
            "<class 'str'>\n"
          ]
        }
      ]
    },
    {
      "cell_type": "code",
      "source": [
        "import json\n",
        "\n",
        "with open(\"person.json\", \"w\") as f:\n",
        "  json.dump(person_dict, f)  # person_dict isimli dict'i f dosyasi icerisine at diyoruz\n",
        "                              #  dikkat bu kez sadece dump kullandik\n"
      ],
      "metadata": {
        "id": "f1R79UOF8H5A"
      },
      "execution_count": 26,
      "outputs": []
    },
    {
      "cell_type": "code",
      "source": [
        "## simdi dict'imizi string e cevirelim\n",
        "import json\n",
        "\n",
        "person_dict = {\"name\" : \"Ali\", \"languages\" : [\"python\", \"C#\" ] }\n",
        "\n",
        "person_string = '{\"name\" : \"Ali\", \"languages\" : [\"python\", \"C#\" ] }'\n",
        "\n",
        "person_dict = json.loads(person_string)  # yani string degiskeninin value'sunu dict\n",
        "                                          #  degiskenine load ettik. artik string degil dict\n",
        "print(person_dict)                         # olacak\n",
        "print(type(person_dict))"
      ],
      "metadata": {
        "colab": {
          "base_uri": "https://localhost:8080/"
        },
        "id": "wIE6jc6n8H7R",
        "outputId": "036efc5a-c8dd-4053-9495-d86ef5f088c2"
      },
      "execution_count": 12,
      "outputs": [
        {
          "output_type": "stream",
          "name": "stdout",
          "text": [
            "{'name': 'Ali', 'languages': ['python', 'C#']}\n",
            "<class 'dict'>\n"
          ]
        }
      ]
    },
    {
      "cell_type": "code",
      "source": [
        "## yukarida, stringimizi loads methodu ile dicte dönüstürdük\n",
        "# Burada ise dumps methodu ile dict'imizi stringe dönüstürecegiz\n",
        "\n",
        "person_dict = {\"name\" : \"Ali\", \"languages\" : [\"python\", \"C#\" ] }\n",
        "\n",
        "person_string = '{\"name\" : \"Ali\", \"languages\" : [\"python\", \"C#\" ] }'\n",
        "\n",
        "string = json.dumps(person_dict)\n",
        "print(string)\n",
        "print(type(string))"
      ],
      "metadata": {
        "colab": {
          "base_uri": "https://localhost:8080/"
        },
        "id": "Fz_aj08_bc1T",
        "outputId": "65374c3b-35b1-43ea-d058-67cc76a81f59"
      },
      "execution_count": 20,
      "outputs": [
        {
          "output_type": "stream",
          "name": "stdout",
          "text": [
            "{\"name\": \"Ali\", \"languages\": [\"python\", \"C#\"]}\n",
            "<class 'str'>\n"
          ]
        }
      ]
    },
    {
      "cell_type": "code",
      "source": [
        "#########  simdi de outputlarimizi düzenleyelim:\n",
        "person_dict = {\"name\" : \"Ali\", \"languages\" : [\"python\", \"C#\" ] }\n",
        "\n",
        "person_string = '{\"name\" : \"Ali\", \"languages\" : [\"python\", \"C#\" ] }'\n",
        "\n",
        "string = json.dumps(person_dict)\n",
        "result = json.dumps(person_dict, indent= 2, sort_keys= True)  # hem alfabetik sira\n",
        "                                                              # hem de indent düzenleme\n",
        "print(result)"
      ],
      "metadata": {
        "colab": {
          "base_uri": "https://localhost:8080/"
        },
        "id": "guwOs2W2bc4t",
        "outputId": "88bde8bb-1a26-4159-f561-bc87633e8300"
      },
      "execution_count": 23,
      "outputs": [
        {
          "output_type": "stream",
          "name": "stdout",
          "text": [
            "{\n",
            "  \"languages\": [\n",
            "    \"python\",\n",
            "    \"C#\"\n",
            "  ],\n",
            "  \"name\": \"Ali\"\n",
            "}\n"
          ]
        }
      ]
    },
    {
      "cell_type": "code",
      "source": [
        ""
      ],
      "metadata": {
        "id": "vehCga1Mbc_h"
      },
      "execution_count": null,
      "outputs": []
    },
    {
      "cell_type": "code",
      "source": [
        "################################\n",
        "\n",
        "##########  youtube da diger bir video dan aldiklarim\n"
      ],
      "metadata": {
        "id": "M6-9QXwydL4i"
      },
      "execution_count": null,
      "outputs": []
    },
    {
      "cell_type": "code",
      "source": [
        "import json\n",
        "\n",
        "veriler = {}                        ## bos bir dict olusturuyoruz\n",
        "                                    # bu dicte bir key ve value atiyoruz\n",
        "veriler[\"kullanicilar\"] = []      # ve daha sonra bu bos listeyi dolduruyoruz\n",
        "\n",
        "veriler[\"kullanicilar\"].append({\"isim\" : \"ali\", \"sifre\" : \"12345\", \"mail\" : \"abcdefg\" })\n",
        "veriler[\"kullanicilar\"].append({\"isim\" : \"veli\", \"sifre\" : \"98765\", \"mail\" : \"jklmn\" })\n",
        "print(veriler)\n",
        "\n",
        "# buraya kadar sadece dict' imizi olusturduk"
      ],
      "metadata": {
        "colab": {
          "base_uri": "https://localhost:8080/"
        },
        "id": "i6SmU3wHdL7b",
        "outputId": "906b3e04-d575-4fc5-a27e-040ca9d500d1"
      },
      "execution_count": 29,
      "outputs": [
        {
          "output_type": "stream",
          "name": "stdout",
          "text": [
            "{'kullanicilar': [{'isim': 'ali', 'sifre': '12345', 'mail': 'abcdefg'}, {'isim': 'veli', 'sifre': '98765', 'mail': 'jklmn'}]}\n"
          ]
        }
      ]
    },
    {
      "cell_type": "code",
      "source": [
        "### simdi de bu dicti'imizi yeni bir dosya olusturarak icine atalim\n",
        "\n",
        "with open(\"test.json\", \"w\") as file:\n",
        "  json.dump(veriler, file)    # nereye atacagiz ve neyi atacagiz 2 soru"
      ],
      "metadata": {
        "id": "Mrruf2jEdL-8"
      },
      "execution_count": 31,
      "outputs": []
    },
    {
      "cell_type": "code",
      "source": [
        "### buraya kadar sifirdan bir json dosyasi olusturduk\n",
        "# ve icerisine veriler girdik"
      ],
      "metadata": {
        "id": "SFsfLF2YdMBr"
      },
      "execution_count": null,
      "outputs": []
    },
    {
      "cell_type": "code",
      "source": [
        "#############################\n",
        "#####  simdi ise var olan bir json dosyasi nasil okunur \n",
        "# onu görecegiz"
      ],
      "metadata": {
        "id": "07VtrADDdMD_"
      },
      "execution_count": null,
      "outputs": []
    },
    {
      "cell_type": "code",
      "source": [
        "import json\n",
        "\n",
        "with open(\"test.json\", \"r\") as file:\n",
        "  print(file.read())"
      ],
      "metadata": {
        "colab": {
          "base_uri": "https://localhost:8080/"
        },
        "id": "4Cp9X4q8dMGl",
        "outputId": "5c6044a2-ed64-422d-f416-ac018b5e987a"
      },
      "execution_count": 35,
      "outputs": [
        {
          "output_type": "stream",
          "name": "stdout",
          "text": [
            "{\"kullanicilar\": [{\"isim\": \"ali\", \"sifre\": \"12345\", \"mail\": \"abcdefg\"}, {\"isim\": \"veli\", \"sifre\": \"98765\", \"mail\": \"jklmn\"}]}\n"
          ]
        }
      ]
    },
    {
      "cell_type": "code",
      "source": [
        "import json\n",
        "\n",
        "with open(\"test.json\", \"r\") as file:\n",
        "  veriler = json.load(file)              # burada, veriler degiskenine dosyamizin \n",
        "  print(veriler)                         # icerigini load ettik\n",
        "                    "
      ],
      "metadata": {
        "id": "Rk3U6_V8hDkG"
      },
      "execution_count": null,
      "outputs": []
    },
    {
      "cell_type": "code",
      "source": [
        "## artik veriler degiskenimizi index leyerek dosya icerigini okuyabiliriz\n",
        "\n",
        "import json\n",
        "\n",
        "with open(\"test.json\", \"r\") as file:\n",
        "  veriler = json.load(file)             \n",
        "  print(veriler[\"kullanicilar\"]) \n",
        "  print(veriler[\"kullanicilar\"][0])\n",
        "  print(veriler[\"kullanicilar\"][0][\"isim\"]) \n",
        "  print(veriler[\"kullanicilar\"][0][\"mail\"])\n",
        "  "
      ],
      "metadata": {
        "colab": {
          "base_uri": "https://localhost:8080/"
        },
        "id": "Yu-XBgUChDnC",
        "outputId": "68f43c2e-7995-4b8f-a2ef-724c8e6e0003"
      },
      "execution_count": 40,
      "outputs": [
        {
          "output_type": "stream",
          "name": "stdout",
          "text": [
            "[{'isim': 'ali', 'sifre': '12345', 'mail': 'abcdefg'}, {'isim': 'veli', 'sifre': '98765', 'mail': 'jklmn'}]\n",
            "{'isim': 'ali', 'sifre': '12345', 'mail': 'abcdefg'}\n",
            "ali\n",
            "abcdefg\n"
          ]
        }
      ]
    },
    {
      "cell_type": "code",
      "source": [
        "### dosyamizin icerisinde bulunan dict'in verileri sürekli degisebilir\n",
        "# farkli farkli isimler farkli sifreler girilmis olabilir ve  bunlarin yeri degisebilir \n",
        "# ancak biz ali ismine ait sifreye ihtiyac duyuyoruz varsayalim\n",
        "\n",
        "# bu durumda asagidaki islemleri yapariz:\n",
        "\n",
        "import json\n",
        "\n",
        "with open(\"test.json\", \"r\") as file:\n",
        "  veriler = json.load(file)             \n",
        "  print(veriler[\"kullanicilar\"]) \n",
        "\n",
        "for i in veriler[\"kullanicilar\"]:\n",
        "  if i[\"isim\"] == \"ali\":\n",
        "    print(i[\"sifre\"])"
      ],
      "metadata": {
        "colab": {
          "base_uri": "https://localhost:8080/"
        },
        "id": "RKsKwVX3hDpi",
        "outputId": "264ce446-d26d-4d00-b27f-ad93deb42a81"
      },
      "execution_count": 43,
      "outputs": [
        {
          "output_type": "stream",
          "name": "stdout",
          "text": [
            "[{'isim': 'ali', 'sifre': '12345', 'mail': 'abcdefg'}, {'isim': 'veli', 'sifre': '98765', 'mail': 'jklmn'}]\n",
            "12345\n"
          ]
        }
      ]
    },
    {
      "cell_type": "code",
      "source": [
        "### task:\n",
        "\n",
        "# bir kulanici giris ve kayit programi yapalim\n",
        "# bu programda:\n",
        "# 1: giris yap\n",
        "# 2: kayit ol\n",
        "# 3: sifremi unuttum secenekleri olacak\n",
        "\n",
        "# eger json dosyasinda veriler dogru ise giris basarili olacak\n",
        "\n",
        "# kayit yoksa; kullanici adi, sifre sifre tekrari email alarak kayit yapacagiz\n",
        "# kayit esnasinda bir aktivasyon kodu gönderecegiz\n",
        "# sanki mail gelmis ve not defterine yazdirmisiz gibi gösterecegiz\n",
        "# aktivasyom kodu masa üstüne gidecek ve kullanici bunu dogru girerse\n",
        "# kullaniciyi kayit edecegiz\n",
        "\n",
        "# sifremi unuttum secerse kullanici, email isteyecegiz ve \n",
        "# sanki emaile gönderir gibi sifre gönderecegiz\n",
        "\n",
        "# ve var olan sifreyi yeni sifre ile degistirecegiz"
      ],
      "metadata": {
        "id": "krW83Bdx8H83"
      },
      "execution_count": null,
      "outputs": []
    },
    {
      "cell_type": "code",
      "source": [
        "class Sistem:\n",
        "  def __init__(self):\n",
        "    self.durum = True  # sistem sonsuz döngüye kuruldu.Durum degeri False olana kadar devam edecek\n",
        "  \n",
        "  def calistir(self):\n",
        "    pass\n",
        "  \n",
        "\n",
        "sistem = Sistem()\n",
        " \n",
        "while sistem.durum:\n",
        "  sistem.calistir()"
      ],
      "metadata": {
        "id": "NEJTE78EkKpf"
      },
      "execution_count": null,
      "outputs": []
    },
    {
      "cell_type": "code",
      "source": [
        ""
      ],
      "metadata": {
        "id": "pXQG6qwWkKsO"
      },
      "execution_count": null,
      "outputs": []
    },
    {
      "cell_type": "code",
      "source": [
        ""
      ],
      "metadata": {
        "id": "7P4_qK-7kKvk"
      },
      "execution_count": null,
      "outputs": []
    },
    {
      "cell_type": "code",
      "source": [
        ""
      ],
      "metadata": {
        "id": "6BddHP5pkKzA"
      },
      "execution_count": null,
      "outputs": []
    },
    {
      "cell_type": "code",
      "source": [
        ""
      ],
      "metadata": {
        "id": "OnEwB1QMkK2P"
      },
      "execution_count": null,
      "outputs": []
    },
    {
      "cell_type": "code",
      "source": [
        ""
      ],
      "metadata": {
        "id": "ChmyC1E-kK49"
      },
      "execution_count": null,
      "outputs": []
    },
    {
      "cell_type": "code",
      "source": [
        ""
      ],
      "metadata": {
        "id": "woVFKDTQkK8A"
      },
      "execution_count": null,
      "outputs": []
    }
  ]
}